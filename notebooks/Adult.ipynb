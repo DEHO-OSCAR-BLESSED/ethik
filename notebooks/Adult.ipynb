{
 "cells": [
  {
   "cell_type": "markdown",
   "metadata": {},
   "source": [
    "# Adult income classification\n",
    "\n",
    "In the following notebook we'll be using the \"Adult\" dataset. This dataset contains a binary label indicating if a person's annual income is larger than $50k per year. The data is available on the [UCI machine learning repository](https://archive.ics.uci.edu/ml/index.php)."
   ]
  },
  {
   "cell_type": "code",
   "execution_count": 1,
   "metadata": {},
   "outputs": [
    {
     "data": {
      "text/html": [
       "<div>\n",
       "<style scoped>\n",
       "    .dataframe tbody tr th:only-of-type {\n",
       "        vertical-align: middle;\n",
       "    }\n",
       "\n",
       "    .dataframe tbody tr th {\n",
       "        vertical-align: top;\n",
       "    }\n",
       "\n",
       "    .dataframe thead th {\n",
       "        text-align: right;\n",
       "    }\n",
       "</style>\n",
       "<table border=\"1\" class=\"dataframe\">\n",
       "  <thead>\n",
       "    <tr style=\"text-align: right;\">\n",
       "      <th></th>\n",
       "      <th>age</th>\n",
       "      <th>workclass</th>\n",
       "      <th>fnlwgt</th>\n",
       "      <th>education</th>\n",
       "      <th>education-num</th>\n",
       "      <th>marital-status</th>\n",
       "      <th>occupation</th>\n",
       "      <th>relationship</th>\n",
       "      <th>race</th>\n",
       "      <th>gender</th>\n",
       "      <th>capital-gain</th>\n",
       "      <th>capital-loss</th>\n",
       "      <th>hours-per-week</th>\n",
       "      <th>native-country</th>\n",
       "    </tr>\n",
       "  </thead>\n",
       "  <tbody>\n",
       "    <tr>\n",
       "      <th>0</th>\n",
       "      <td>39</td>\n",
       "      <td>State-gov</td>\n",
       "      <td>77516</td>\n",
       "      <td>Bachelors</td>\n",
       "      <td>13</td>\n",
       "      <td>Never-married</td>\n",
       "      <td>Adm-clerical</td>\n",
       "      <td>Not-in-family</td>\n",
       "      <td>White</td>\n",
       "      <td>Male</td>\n",
       "      <td>2174</td>\n",
       "      <td>0</td>\n",
       "      <td>40</td>\n",
       "      <td>United-States</td>\n",
       "    </tr>\n",
       "    <tr>\n",
       "      <th>1</th>\n",
       "      <td>50</td>\n",
       "      <td>Self-emp-not-inc</td>\n",
       "      <td>83311</td>\n",
       "      <td>Bachelors</td>\n",
       "      <td>13</td>\n",
       "      <td>Married-civ-spouse</td>\n",
       "      <td>Exec-managerial</td>\n",
       "      <td>Husband</td>\n",
       "      <td>White</td>\n",
       "      <td>Male</td>\n",
       "      <td>0</td>\n",
       "      <td>0</td>\n",
       "      <td>13</td>\n",
       "      <td>United-States</td>\n",
       "    </tr>\n",
       "    <tr>\n",
       "      <th>2</th>\n",
       "      <td>38</td>\n",
       "      <td>Private</td>\n",
       "      <td>215646</td>\n",
       "      <td>HS-grad</td>\n",
       "      <td>9</td>\n",
       "      <td>Divorced</td>\n",
       "      <td>Handlers-cleaners</td>\n",
       "      <td>Not-in-family</td>\n",
       "      <td>White</td>\n",
       "      <td>Male</td>\n",
       "      <td>0</td>\n",
       "      <td>0</td>\n",
       "      <td>40</td>\n",
       "      <td>United-States</td>\n",
       "    </tr>\n",
       "    <tr>\n",
       "      <th>3</th>\n",
       "      <td>53</td>\n",
       "      <td>Private</td>\n",
       "      <td>234721</td>\n",
       "      <td>11th</td>\n",
       "      <td>7</td>\n",
       "      <td>Married-civ-spouse</td>\n",
       "      <td>Handlers-cleaners</td>\n",
       "      <td>Husband</td>\n",
       "      <td>Black</td>\n",
       "      <td>Male</td>\n",
       "      <td>0</td>\n",
       "      <td>0</td>\n",
       "      <td>40</td>\n",
       "      <td>United-States</td>\n",
       "    </tr>\n",
       "    <tr>\n",
       "      <th>4</th>\n",
       "      <td>28</td>\n",
       "      <td>Private</td>\n",
       "      <td>338409</td>\n",
       "      <td>Bachelors</td>\n",
       "      <td>13</td>\n",
       "      <td>Married-civ-spouse</td>\n",
       "      <td>Prof-specialty</td>\n",
       "      <td>Wife</td>\n",
       "      <td>Black</td>\n",
       "      <td>Female</td>\n",
       "      <td>0</td>\n",
       "      <td>0</td>\n",
       "      <td>40</td>\n",
       "      <td>Cuba</td>\n",
       "    </tr>\n",
       "  </tbody>\n",
       "</table>\n",
       "</div>"
      ],
      "text/plain": [
       "   age          workclass  fnlwgt   education  education-num  \\\n",
       "0   39          State-gov   77516   Bachelors             13   \n",
       "1   50   Self-emp-not-inc   83311   Bachelors             13   \n",
       "2   38            Private  215646     HS-grad              9   \n",
       "3   53            Private  234721        11th              7   \n",
       "4   28            Private  338409   Bachelors             13   \n",
       "\n",
       "        marital-status          occupation    relationship    race   gender  \\\n",
       "0        Never-married        Adm-clerical   Not-in-family   White     Male   \n",
       "1   Married-civ-spouse     Exec-managerial         Husband   White     Male   \n",
       "2             Divorced   Handlers-cleaners   Not-in-family   White     Male   \n",
       "3   Married-civ-spouse   Handlers-cleaners         Husband   Black     Male   \n",
       "4   Married-civ-spouse      Prof-specialty            Wife   Black   Female   \n",
       "\n",
       "   capital-gain  capital-loss  hours-per-week  native-country  \n",
       "0          2174             0              40   United-States  \n",
       "1             0             0              13   United-States  \n",
       "2             0             0              40   United-States  \n",
       "3             0             0              40   United-States  \n",
       "4             0             0              40            Cuba  "
      ]
     },
     "execution_count": 1,
     "metadata": {},
     "output_type": "execute_result"
    }
   ],
   "source": [
    "import pandas as pd\n",
    "\n",
    "url = 'https://archive.ics.uci.edu/ml/machine-learning-databases/adult/adult.data'\n",
    "names = [\n",
    "    'age', 'workclass', 'fnlwgt', 'education',\n",
    "    'education-num', 'marital-status', 'occupation',\n",
    "    'relationship', 'race', 'gender', 'capital-gain',\n",
    "    'capital-loss', 'hours-per-week', 'native-country',\n",
    "    'salary'\n",
    "]\n",
    "dtypes = {\n",
    "    'workclass': 'category',\n",
    "    'education': 'category',\n",
    "    'marital-status': 'category',\n",
    "    'occupation': 'category',\n",
    "    'relationship': 'category',\n",
    "    'race': 'category',\n",
    "    'gender': 'category',\n",
    "    'native-country': 'category'\n",
    "}\n",
    "\n",
    "X = pd.read_csv(url, names=names, header=None, dtype=dtypes)\n",
    "y = X.pop('salary').map({' <=50K': False, ' >50K': True})\n",
    "\n",
    "X.head()"
   ]
  },
  {
   "cell_type": "markdown",
   "metadata": {},
   "source": [
    "`ethik` analyzes a model based on the predictions it makes on a test set. Consequently we first have to split our dataset in two."
   ]
  },
  {
   "cell_type": "code",
   "execution_count": 2,
   "metadata": {},
   "outputs": [],
   "source": [
    "from sklearn import model_selection\n",
    "\n",
    "X_train, X_test, y_train, y_test = model_selection.train_test_split(X, y, shuffle=True, random_state=42)"
   ]
  },
  {
   "cell_type": "markdown",
   "metadata": {},
   "source": [
    "We will now train a model using [LightGBM](https://lightgbm.readthedocs.io/en/latest/)."
   ]
  },
  {
   "cell_type": "code",
   "execution_count": 3,
   "metadata": {},
   "outputs": [],
   "source": [
    "import lightgbm as lgb\n",
    "\n",
    "model = lgb.LGBMClassifier(random_state=42).fit(X_train, y_train)"
   ]
  },
  {
   "cell_type": "markdown",
   "metadata": {},
   "source": [
    "We can now make predictions for the test set. We'll use a variable named `y_pred` to store the predicted probabilities associated with the `True` label."
   ]
  },
  {
   "cell_type": "code",
   "execution_count": 4,
   "metadata": {},
   "outputs": [],
   "source": [
    "# We use a named pandas series to make plot labels more explicit\n",
    "y_pred = pd.Series(model.predict_proba(X_test)[:, 1], name='>$50k')"
   ]
  },
  {
   "cell_type": "markdown",
   "metadata": {},
   "source": [
    "We can now fit an `Explainer` using the features from the test set. This will analyze the distribution of each feature and build a set of `lambda` coefficients which can be used to explain model predictions."
   ]
  },
  {
   "cell_type": "code",
   "execution_count": 5,
   "metadata": {},
   "outputs": [],
   "source": [
    "import ethik\n",
    "\n",
    "explainer = ethik.Explainer()"
   ]
  },
  {
   "cell_type": "markdown",
   "metadata": {},
   "source": [
    "## Understanding model predictions"
   ]
  },
  {
   "cell_type": "markdown",
   "metadata": {},
   "source": [
    "We can start by looking at how the probability of having a higher income changes with respect to the `education-num` variable, **as perceived by the model**."
   ]
  },
  {
   "cell_type": "code",
   "execution_count": 6,
   "metadata": {},
   "outputs": [
    {
     "data": {
      "text/html": [
       "        <script type=\"text/javascript\">\n",
       "        window.PlotlyConfig = {MathJaxConfig: 'local'};\n",
       "        if (window.MathJax) {MathJax.Hub.Config({SVG: {font: \"STIX-Web\"}});}\n",
       "        if (typeof require !== 'undefined') {\n",
       "        require.undef(\"plotly\");\n",
       "        requirejs.config({\n",
       "            paths: {\n",
       "                'plotly': ['https://cdn.plot.ly/plotly-latest.min']\n",
       "            }\n",
       "        });\n",
       "        require(['plotly'], function(Plotly) {\n",
       "            window._Plotly = Plotly;\n",
       "        });\n",
       "        }\n",
       "        </script>\n",
       "        "
      ]
     },
     "metadata": {},
     "output_type": "display_data"
    },
    {
     "data": {
      "application/vnd.plotly.v1+json": {
       "config": {
        "linkText": "Export to plot.ly",
        "plotlyServerURL": "https://plot.ly",
        "showLink": false
       },
       "data": [
        {
         "hoverinfo": "x+y",
         "mode": "lines+markers",
         "showlegend": false,
         "type": "scatter",
         "uid": "f7209316-9572-4fe3-96ae-57ef1e314ada",
         "x": [
          5,
          5.252708512467756,
          5.505417024935511,
          5.758125537403267,
          6.010834049871023,
          6.263542562338779,
          6.516251074806535,
          6.76895958727429,
          7.021668099742046,
          7.274376612209801,
          7.527085124677558,
          7.779793637145313,
          8.03250214961307,
          8.285210662080825,
          8.53791917454858,
          8.790627687016336,
          9.043336199484092,
          9.296044711951849,
          9.548753224419604,
          9.80146173688736,
          10.054170249355115,
          10.251461736887359,
          10.448753224419605,
          10.646044711951848,
          10.843336199484092,
          11.040627687016336,
          11.23791917454858,
          11.435210662080825,
          11.63250214961307,
          11.829793637145313,
          12.027085124677559,
          12.224376612209802,
          12.421668099742046,
          12.61895958727429,
          12.816251074806534,
          13.01354256233878,
          13.210834049871023,
          13.408125537403267,
          13.605417024935512,
          13.802708512467756,
          14
         ],
         "y": [
          0.09436045268100465,
          0.09805011425676163,
          0.10199962176447325,
          0.10620797889599277,
          0.1106784267243618,
          0.11541832042591706,
          0.12043919462542843,
          0.12575699437591867,
          0.13139245492536175,
          0.1373716122966813,
          0.14372641594538188,
          0.150495390304514,
          0.15772424839653795,
          0.16546629269239507,
          0.1737823460239536,
          0.18273985399480075,
          0.1924107362476254,
          0.20286762621525756,
          0.21417844199972572,
          0.22639983146909637,
          0.23957078919192437,
          0.2505252366668527,
          0.26206743777768193,
          0.27418774053102407,
          0.2868701943974598,
          0.30009459427261687,
          0.31383865942107225,
          0.32808005348481056,
          0.3427980609958222,
          0.35797485024141446,
          0.37359633698364475,
          0.38965270645847405,
          0.40613865589549974,
          0.42305339522036195,
          0.44040039597011965,
          0.45818680869588485,
          0.4764223736577273,
          0.4951175258540261,
          0.5142802557677432,
          0.5339111877008255,
          0.5539964204165281
         ]
        },
        {
         "hoverinfo": "skip",
         "marker": {
          "size": 9,
          "symbol": "x"
         },
         "mode": "markers",
         "name": "Original mean",
         "type": "scatter",
         "uid": "bafbdaaf-d91f-47f8-ab99-84b5e65cdd19",
         "x": [
          10.054170249355115
         ],
         "y": [
          0.23957078919192437
         ]
        }
       ],
       "layout": {
        "margin": {
         "r": 50,
         "t": 50
        },
        "xaxis": {
         "title": {
          "text": "Mean education-num"
         },
         "zeroline": false
        },
        "yaxis": {
         "range": [
          0,
          1
         ],
         "showline": true,
         "tickformat": "%",
         "title": {
          "text": "Proportion of >$50k"
         }
        }
       }
      },
      "text/html": [
       "<div>\n",
       "        \n",
       "        \n",
       "            <div id=\"30fc8af2-a255-4acb-ad3f-0b3b77c6f2be\" class=\"plotly-graph-div\" style=\"height:525px; width:100%;\"></div>\n",
       "            <script type=\"text/javascript\">\n",
       "                require([\"plotly\"], function(Plotly) {\n",
       "                    window.PLOTLYENV=window.PLOTLYENV || {};\n",
       "                    window.PLOTLYENV.BASE_URL='https://plot.ly';\n",
       "                    \n",
       "                if (document.getElementById(\"30fc8af2-a255-4acb-ad3f-0b3b77c6f2be\")) {\n",
       "                    Plotly.newPlot(\n",
       "                        '30fc8af2-a255-4acb-ad3f-0b3b77c6f2be',\n",
       "                        [{\"hoverinfo\": \"x+y\", \"mode\": \"lines+markers\", \"showlegend\": false, \"type\": \"scatter\", \"uid\": \"f7209316-9572-4fe3-96ae-57ef1e314ada\", \"x\": [5.0, 5.252708512467756, 5.505417024935511, 5.758125537403267, 6.010834049871023, 6.263542562338779, 6.516251074806535, 6.76895958727429, 7.021668099742046, 7.274376612209801, 7.527085124677558, 7.779793637145313, 8.03250214961307, 8.285210662080825, 8.53791917454858, 8.790627687016336, 9.043336199484092, 9.296044711951849, 9.548753224419604, 9.80146173688736, 10.054170249355115, 10.251461736887359, 10.448753224419605, 10.646044711951848, 10.843336199484092, 11.040627687016336, 11.23791917454858, 11.435210662080825, 11.63250214961307, 11.829793637145313, 12.027085124677559, 12.224376612209802, 12.421668099742046, 12.61895958727429, 12.816251074806534, 13.01354256233878, 13.210834049871023, 13.408125537403267, 13.605417024935512, 13.802708512467756, 14.0], \"y\": [0.09436045268100465, 0.09805011425676163, 0.10199962176447325, 0.10620797889599277, 0.1106784267243618, 0.11541832042591706, 0.12043919462542843, 0.12575699437591867, 0.13139245492536175, 0.1373716122966813, 0.14372641594538188, 0.150495390304514, 0.15772424839653795, 0.16546629269239507, 0.1737823460239536, 0.18273985399480075, 0.1924107362476254, 0.20286762621525756, 0.21417844199972572, 0.22639983146909637, 0.23957078919192437, 0.2505252366668527, 0.26206743777768193, 0.27418774053102407, 0.2868701943974598, 0.30009459427261687, 0.31383865942107225, 0.32808005348481056, 0.3427980609958222, 0.35797485024141446, 0.37359633698364475, 0.38965270645847405, 0.40613865589549974, 0.42305339522036195, 0.44040039597011965, 0.45818680869588485, 0.4764223736577273, 0.4951175258540261, 0.5142802557677432, 0.5339111877008255, 0.5539964204165281]}, {\"hoverinfo\": \"skip\", \"marker\": {\"size\": 9, \"symbol\": \"x\"}, \"mode\": \"markers\", \"name\": \"Original mean\", \"type\": \"scatter\", \"uid\": \"bafbdaaf-d91f-47f8-ab99-84b5e65cdd19\", \"x\": [10.054170249355115], \"y\": [0.23957078919192437]}],\n",
       "                        {\"margin\": {\"r\": 50, \"t\": 50}, \"xaxis\": {\"title\": {\"text\": \"Mean education-num\"}, \"zeroline\": false}, \"yaxis\": {\"range\": [0, 1], \"showline\": true, \"tickformat\": \"%\", \"title\": {\"text\": \"Proportion of >$50k\"}}},\n",
       "                        {\"showLink\": false, \"linkText\": \"Export to plot.ly\", \"plotlyServerURL\": \"https://plot.ly\", \"responsive\": true}\n",
       "                    ).then(function(){\n",
       "                            \n",
       "var gd = document.getElementById('30fc8af2-a255-4acb-ad3f-0b3b77c6f2be');\n",
       "var x = new MutationObserver(function (mutations, observer) {{\n",
       "        var display = window.getComputedStyle(gd).display;\n",
       "        if (!display || display === 'none') {{\n",
       "            console.log([gd, 'removed!']);\n",
       "            Plotly.purge(gd);\n",
       "            observer.disconnect();\n",
       "        }}\n",
       "}});\n",
       "\n",
       "// Listen for the removal of the full notebook cells\n",
       "var notebookContainer = gd.closest('#notebook-container');\n",
       "if (notebookContainer) {{\n",
       "    x.observe(notebookContainer, {childList: true});\n",
       "}}\n",
       "\n",
       "// Listen for the clearing of the current output cell\n",
       "var outputEl = gd.closest('.output');\n",
       "if (outputEl) {{\n",
       "    x.observe(outputEl, {childList: true});\n",
       "}}\n",
       "\n",
       "                        })\n",
       "                };\n",
       "                });\n",
       "            </script>\n",
       "        </div>"
      ]
     },
     "metadata": {},
     "output_type": "display_data"
    }
   ],
   "source": [
    "explainer.plot_bias(\n",
    "    X_test=X_test['education-num'],\n",
    "    y_test_pred=y_pred,\n",
    "    inline=True # We are in a notebook\n",
    ")"
   ]
  },
  {
   "cell_type": "markdown",
   "metadata": {},
   "source": [
    "Clearly we see that the model believes that the probability of having a salary above $50k increases with the amount of education. Although this might seem like an obvious statement, it's good to confirm that the model is seeing it. Moreover, it's helpful to be able to quantify by how much the model changes it's predictions."
   ]
  },
  {
   "cell_type": "markdown",
   "metadata": {},
   "source": [
    "We can also plot the distribution of predictions for more than one variable. However, because different variables have different scales we have to use a common measure to display them together. For this purpose we plot the τ (\"tau\") values. These values are contained between -1 and 1 and simply reflect by how much the variable is shifted from it's mean towards it's lower and upper quantiles. In the following figure a tau value of -1 corresponds to just under 20 years old whereas a tau value of 1 refers to being slightly over 60 years old."
   ]
  },
  {
   "cell_type": "code",
   "execution_count": 7,
   "metadata": {},
   "outputs": [
    {
     "data": {
      "text/html": [
       "        <script type=\"text/javascript\">\n",
       "        window.PlotlyConfig = {MathJaxConfig: 'local'};\n",
       "        if (window.MathJax) {MathJax.Hub.Config({SVG: {font: \"STIX-Web\"}});}\n",
       "        if (typeof require !== 'undefined') {\n",
       "        require.undef(\"plotly\");\n",
       "        requirejs.config({\n",
       "            paths: {\n",
       "                'plotly': ['https://cdn.plot.ly/plotly-latest.min']\n",
       "            }\n",
       "        });\n",
       "        require(['plotly'], function(Plotly) {\n",
       "            window._Plotly = Plotly;\n",
       "        });\n",
       "        }\n",
       "        </script>\n",
       "        "
      ]
     },
     "metadata": {},
     "output_type": "display_data"
    },
    {
     "data": {
      "application/vnd.plotly.v1+json": {
       "config": {
        "linkText": "Export to plot.ly",
        "plotlyServerURL": "https://plot.ly",
        "showLink": false
       },
       "data": [
        {
         "hoverinfo": "x+y+text",
         "mode": "lines+markers",
         "name": "education-num",
         "text": [
          "education-num = 5.0",
          "education-num = 5.252708512467756",
          "education-num = 5.505417024935511",
          "education-num = 5.758125537403267",
          "education-num = 6.010834049871023",
          "education-num = 6.263542562338779",
          "education-num = 6.516251074806535",
          "education-num = 6.76895958727429",
          "education-num = 7.021668099742046",
          "education-num = 7.274376612209801",
          "education-num = 7.527085124677558",
          "education-num = 7.779793637145313",
          "education-num = 8.03250214961307",
          "education-num = 8.285210662080825",
          "education-num = 8.53791917454858",
          "education-num = 8.790627687016336",
          "education-num = 9.043336199484092",
          "education-num = 9.296044711951849",
          "education-num = 9.548753224419604",
          "education-num = 9.80146173688736",
          "education-num = 10.054170249355115",
          "education-num = 10.251461736887359",
          "education-num = 10.448753224419605",
          "education-num = 10.646044711951848",
          "education-num = 10.843336199484092",
          "education-num = 11.040627687016336",
          "education-num = 11.23791917454858",
          "education-num = 11.435210662080825",
          "education-num = 11.63250214961307",
          "education-num = 11.829793637145313",
          "education-num = 12.027085124677559",
          "education-num = 12.224376612209802",
          "education-num = 12.421668099742046",
          "education-num = 12.61895958727429",
          "education-num = 12.816251074806534",
          "education-num = 13.01354256233878",
          "education-num = 13.210834049871023",
          "education-num = 13.408125537403267",
          "education-num = 13.605417024935512",
          "education-num = 13.802708512467756",
          "education-num = 14.0"
         ],
         "type": "scatter",
         "uid": "9a29a3b0-4559-4a68-bc1a-3dbc41e2dc8c",
         "x": [
          -1,
          -0.95,
          -0.9,
          -0.85,
          -0.8,
          -0.75,
          -0.7,
          -0.65,
          -0.6,
          -0.55,
          -0.5,
          -0.45,
          -0.4,
          -0.35,
          -0.3,
          -0.25,
          -0.2,
          -0.15,
          -0.1,
          -0.05,
          0,
          0.05,
          0.1,
          0.15,
          0.2,
          0.25,
          0.3,
          0.35,
          0.4,
          0.45,
          0.5,
          0.55,
          0.6,
          0.65,
          0.7,
          0.75,
          0.8,
          0.85,
          0.9,
          0.95,
          1
         ],
         "y": [
          0.09436045268100465,
          0.09805011425676163,
          0.10199962176447325,
          0.10620797889599277,
          0.1106784267243618,
          0.11541832042591706,
          0.12043919462542843,
          0.12575699437591867,
          0.13139245492536175,
          0.1373716122966813,
          0.14372641594538188,
          0.150495390304514,
          0.15772424839653795,
          0.16546629269239507,
          0.1737823460239536,
          0.18273985399480075,
          0.1924107362476254,
          0.20286762621525756,
          0.21417844199972572,
          0.22639983146909637,
          0.23957078919192437,
          0.2505252366668527,
          0.26206743777768193,
          0.27418774053102407,
          0.2868701943974598,
          0.30009459427261687,
          0.31383865942107225,
          0.32808005348481056,
          0.3427980609958222,
          0.35797485024141446,
          0.37359633698364475,
          0.38965270645847405,
          0.40613865589549974,
          0.42305339522036195,
          0.44040039597011965,
          0.45818680869588485,
          0.4764223736577273,
          0.4951175258540261,
          0.5142802557677432,
          0.5339111877008255,
          0.5539964204165281
         ]
        },
        {
         "hoverinfo": "x+y+text",
         "mode": "lines+markers",
         "name": "age",
         "text": [
          "age = 19.0",
          "age = 19.976612209802237",
          "age = 20.95322441960447",
          "age = 21.929836629406708",
          "age = 22.90644883920894",
          "age = 23.88306104901118",
          "age = 24.859673258813416",
          "age = 25.83628546861565",
          "age = 26.812897678417887",
          "age = 27.78950988822012",
          "age = 28.766122098022358",
          "age = 29.74273430782459",
          "age = 30.71934651762683",
          "age = 31.695958727429066",
          "age = 32.6725709372313",
          "age = 33.64918314703354",
          "age = 34.62579535683577",
          "age = 35.60240756663801",
          "age = 36.57901977644024",
          "age = 37.55563198624248",
          "age = 38.532244196044715",
          "age = 39.75563198624248",
          "age = 40.979019776440246",
          "age = 42.20240756663801",
          "age = 43.42579535683577",
          "age = 44.64918314703354",
          "age = 45.8725709372313",
          "age = 47.095958727429064",
          "age = 48.319346517626826",
          "age = 49.542734307824595",
          "age = 50.76612209802236",
          "age = 51.98950988822013",
          "age = 53.21289767841789",
          "age = 54.43628546861565",
          "age = 55.65967325881341",
          "age = 56.883061049011175",
          "age = 58.106448839208944",
          "age = 59.32983662940671",
          "age = 60.553224419604476",
          "age = 61.77661220980224",
          "age = 63.0"
         ],
         "type": "scatter",
         "uid": "14a831ea-4fcd-47f6-8aa2-5b0438864a14",
         "x": [
          -1,
          -0.95,
          -0.9,
          -0.85,
          -0.8,
          -0.75,
          -0.7,
          -0.65,
          -0.6,
          -0.55,
          -0.5,
          -0.45,
          -0.4,
          -0.35,
          -0.3,
          -0.25,
          -0.2,
          -0.15,
          -0.1,
          -0.05,
          0,
          0.05,
          0.1,
          0.15,
          0.2,
          0.25,
          0.3,
          0.35,
          0.4,
          0.45,
          0.5,
          0.55,
          0.6,
          0.65,
          0.7,
          0.75,
          0.8,
          0.85,
          0.9,
          0.95,
          1
         ],
         "y": [
          0.00592697388101335,
          0.014281912714815237,
          0.026018331717739113,
          0.03970391644270988,
          0.0543310269370188,
          0.06928343454992963,
          0.08419198602608627,
          0.09883433717414414,
          0.11307516749869653,
          0.12683137399154257,
          0.14005169906601844,
          0.1527046222758081,
          0.16477103189955022,
          0.1762397117004882,
          0.1871045203192955,
          0.19736260981546525,
          0.20701329507936062,
          0.21605733863743792,
          0.2244965051643178,
          0.2323332938025363,
          0.23957078919192443,
          0.24779707615687943,
          0.2550968221383428,
          0.26147953570277377,
          0.2669561931310935,
          0.2715394328347215,
          0.2752437610622303,
          0.27808574620086823,
          0.2800841837249691,
          0.28126021753805724,
          0.2816374068189933,
          0.28124173089878707,
          0.28010152830279506,
          0.27824736984908877,
          0.2757118694241902,
          0.27252943951264336,
          0.2687360014672627,
          0.2643686626349868,
          0.2594653736363788,
          0.2540645792724352,
          0.2482048757429125
         ]
        },
        {
         "hoverinfo": "x+y+text",
         "mode": "lines+markers",
         "name": "hours-per-week",
         "text": [
          "hours-per-week = 17.0",
          "hours-per-week = 18.17950497481882",
          "hours-per-week = 19.359009949637635",
          "hours-per-week = 20.538514924456457",
          "hours-per-week = 21.718019899275273",
          "hours-per-week = 22.897524874094092",
          "hours-per-week = 24.07702984891291",
          "hours-per-week = 25.256534823731727",
          "hours-per-week = 26.436039798550546",
          "hours-per-week = 27.615544773369365",
          "hours-per-week = 28.795049748188184",
          "hours-per-week = 29.974554723007003",
          "hours-per-week = 31.154059697825822",
          "hours-per-week = 32.33356467264464",
          "hours-per-week = 33.51306964746346",
          "hours-per-week = 34.69257462228228",
          "hours-per-week = 35.87207959710109",
          "hours-per-week = 37.05158457191991",
          "hours-per-week = 38.23108954673873",
          "hours-per-week = 39.41059452155755",
          "hours-per-week = 40.59009949637637",
          "hours-per-week = 41.56059452155755",
          "hours-per-week = 42.531089546738734",
          "hours-per-week = 43.50158457191991",
          "hours-per-week = 44.47207959710109",
          "hours-per-week = 45.44257462228228",
          "hours-per-week = 46.41306964746346",
          "hours-per-week = 47.38356467264464",
          "hours-per-week = 48.35405969782582",
          "hours-per-week = 49.324554723007004",
          "hours-per-week = 50.295049748188184",
          "hours-per-week = 51.26554477336937",
          "hours-per-week = 52.23603979855055",
          "hours-per-week = 53.20653482373173",
          "hours-per-week = 54.17702984891291",
          "hours-per-week = 55.14752487409409",
          "hours-per-week = 56.118019899275275",
          "hours-per-week = 57.088514924456454",
          "hours-per-week = 58.05900994963764",
          "hours-per-week = 59.02950497481882",
          "hours-per-week = 60.0"
         ],
         "type": "scatter",
         "uid": "38547b25-407f-4e27-a193-6a92f91cc683",
         "x": [
          -1,
          -0.95,
          -0.9,
          -0.85,
          -0.8,
          -0.75,
          -0.7,
          -0.65,
          -0.6,
          -0.55,
          -0.5,
          -0.45,
          -0.4,
          -0.35,
          -0.3,
          -0.25,
          -0.2,
          -0.15,
          -0.1,
          -0.05,
          0,
          0.05,
          0.1,
          0.15,
          0.2,
          0.25,
          0.3,
          0.35,
          0.4,
          0.45,
          0.5,
          0.55,
          0.6,
          0.65,
          0.7,
          0.75,
          0.8,
          0.85,
          0.9,
          0.95,
          1
         ],
         "y": [
          0.0994218645919564,
          0.10369858174365583,
          0.10831715141415042,
          0.11325495442440003,
          0.1184952167086516,
          0.12402596451676481,
          0.12983925565823337,
          0.1359306097779984,
          0.14229856869799318,
          0.14894431808762731,
          0.15587128877239845,
          0.16308462313633834,
          0.17059032889457879,
          0.17839383431081546,
          0.18649749164161558,
          0.1948963579970527,
          0.20357141333718098,
          0.21247958948971704,
          0.2215413334396656,
          0.2306298324653526,
          0.2395707891919244,
          0.24667432345936308,
          0.2534326621390905,
          0.2597587693603326,
          0.26559719653348907,
          0.2709253473148983,
          0.27574773761116045,
          0.2800873520077302,
          0.28397746495008663,
          0.2874554844611712,
          0.29055898883068554,
          0.2933235028565906,
          0.2957814482816084,
          0.29796180511076836,
          0.2998901646510052,
          0.301588975358968,
          0.3030778660508862,
          0.304373983670545,
          0.30549231405091654,
          0.30644597184467026,
          0.3072464602425034
         ]
        }
       ],
       "layout": {
        "margin": {
         "r": 50,
         "t": 50
        },
        "xaxis": {
         "title": {
          "text": "tau"
         },
         "zeroline": false
        },
        "yaxis": {
         "range": [
          0,
          1
         ],
         "showline": true,
         "tickformat": "%",
         "title": {
          "text": "Proportion of >$50k"
         }
        }
       }
      },
      "text/html": [
       "<div>\n",
       "        \n",
       "        \n",
       "            <div id=\"5b5a7aca-8dc9-4b59-a069-44c1ba564b6f\" class=\"plotly-graph-div\" style=\"height:525px; width:100%;\"></div>\n",
       "            <script type=\"text/javascript\">\n",
       "                require([\"plotly\"], function(Plotly) {\n",
       "                    window.PLOTLYENV=window.PLOTLYENV || {};\n",
       "                    window.PLOTLYENV.BASE_URL='https://plot.ly';\n",
       "                    \n",
       "                if (document.getElementById(\"5b5a7aca-8dc9-4b59-a069-44c1ba564b6f\")) {\n",
       "                    Plotly.newPlot(\n",
       "                        '5b5a7aca-8dc9-4b59-a069-44c1ba564b6f',\n",
       "                        [{\"hoverinfo\": \"x+y+text\", \"mode\": \"lines+markers\", \"name\": \"education-num\", \"text\": [\"education-num = 5.0\", \"education-num = 5.252708512467756\", \"education-num = 5.505417024935511\", \"education-num = 5.758125537403267\", \"education-num = 6.010834049871023\", \"education-num = 6.263542562338779\", \"education-num = 6.516251074806535\", \"education-num = 6.76895958727429\", \"education-num = 7.021668099742046\", \"education-num = 7.274376612209801\", \"education-num = 7.527085124677558\", \"education-num = 7.779793637145313\", \"education-num = 8.03250214961307\", \"education-num = 8.285210662080825\", \"education-num = 8.53791917454858\", \"education-num = 8.790627687016336\", \"education-num = 9.043336199484092\", \"education-num = 9.296044711951849\", \"education-num = 9.548753224419604\", \"education-num = 9.80146173688736\", \"education-num = 10.054170249355115\", \"education-num = 10.251461736887359\", \"education-num = 10.448753224419605\", \"education-num = 10.646044711951848\", \"education-num = 10.843336199484092\", \"education-num = 11.040627687016336\", \"education-num = 11.23791917454858\", \"education-num = 11.435210662080825\", \"education-num = 11.63250214961307\", \"education-num = 11.829793637145313\", \"education-num = 12.027085124677559\", \"education-num = 12.224376612209802\", \"education-num = 12.421668099742046\", \"education-num = 12.61895958727429\", \"education-num = 12.816251074806534\", \"education-num = 13.01354256233878\", \"education-num = 13.210834049871023\", \"education-num = 13.408125537403267\", \"education-num = 13.605417024935512\", \"education-num = 13.802708512467756\", \"education-num = 14.0\"], \"type\": \"scatter\", \"uid\": \"9a29a3b0-4559-4a68-bc1a-3dbc41e2dc8c\", \"x\": [-1.0, -0.95, -0.9, -0.85, -0.8, -0.75, -0.7, -0.65, -0.6, -0.55, -0.5, -0.45, -0.4, -0.35, -0.3, -0.25, -0.2, -0.15, -0.1, -0.05, 0.0, 0.05, 0.1, 0.15, 0.2, 0.25, 0.3, 0.35, 0.4, 0.45, 0.5, 0.55, 0.6, 0.65, 0.7, 0.75, 0.8, 0.85, 0.9, 0.95, 1.0], \"y\": [0.09436045268100465, 0.09805011425676163, 0.10199962176447325, 0.10620797889599277, 0.1106784267243618, 0.11541832042591706, 0.12043919462542843, 0.12575699437591867, 0.13139245492536175, 0.1373716122966813, 0.14372641594538188, 0.150495390304514, 0.15772424839653795, 0.16546629269239507, 0.1737823460239536, 0.18273985399480075, 0.1924107362476254, 0.20286762621525756, 0.21417844199972572, 0.22639983146909637, 0.23957078919192437, 0.2505252366668527, 0.26206743777768193, 0.27418774053102407, 0.2868701943974598, 0.30009459427261687, 0.31383865942107225, 0.32808005348481056, 0.3427980609958222, 0.35797485024141446, 0.37359633698364475, 0.38965270645847405, 0.40613865589549974, 0.42305339522036195, 0.44040039597011965, 0.45818680869588485, 0.4764223736577273, 0.4951175258540261, 0.5142802557677432, 0.5339111877008255, 0.5539964204165281]}, {\"hoverinfo\": \"x+y+text\", \"mode\": \"lines+markers\", \"name\": \"age\", \"text\": [\"age = 19.0\", \"age = 19.976612209802237\", \"age = 20.95322441960447\", \"age = 21.929836629406708\", \"age = 22.90644883920894\", \"age = 23.88306104901118\", \"age = 24.859673258813416\", \"age = 25.83628546861565\", \"age = 26.812897678417887\", \"age = 27.78950988822012\", \"age = 28.766122098022358\", \"age = 29.74273430782459\", \"age = 30.71934651762683\", \"age = 31.695958727429066\", \"age = 32.6725709372313\", \"age = 33.64918314703354\", \"age = 34.62579535683577\", \"age = 35.60240756663801\", \"age = 36.57901977644024\", \"age = 37.55563198624248\", \"age = 38.532244196044715\", \"age = 39.75563198624248\", \"age = 40.979019776440246\", \"age = 42.20240756663801\", \"age = 43.42579535683577\", \"age = 44.64918314703354\", \"age = 45.8725709372313\", \"age = 47.095958727429064\", \"age = 48.319346517626826\", \"age = 49.542734307824595\", \"age = 50.76612209802236\", \"age = 51.98950988822013\", \"age = 53.21289767841789\", \"age = 54.43628546861565\", \"age = 55.65967325881341\", \"age = 56.883061049011175\", \"age = 58.106448839208944\", \"age = 59.32983662940671\", \"age = 60.553224419604476\", \"age = 61.77661220980224\", \"age = 63.0\"], \"type\": \"scatter\", \"uid\": \"14a831ea-4fcd-47f6-8aa2-5b0438864a14\", \"x\": [-1.0, -0.95, -0.9, -0.85, -0.8, -0.75, -0.7, -0.65, -0.6, -0.55, -0.5, -0.45, -0.4, -0.35, -0.3, -0.25, -0.2, -0.15, -0.1, -0.05, 0.0, 0.05, 0.1, 0.15, 0.2, 0.25, 0.3, 0.35, 0.4, 0.45, 0.5, 0.55, 0.6, 0.65, 0.7, 0.75, 0.8, 0.85, 0.9, 0.95, 1.0], \"y\": [0.00592697388101335, 0.014281912714815237, 0.026018331717739113, 0.03970391644270988, 0.0543310269370188, 0.06928343454992963, 0.08419198602608627, 0.09883433717414414, 0.11307516749869653, 0.12683137399154257, 0.14005169906601844, 0.1527046222758081, 0.16477103189955022, 0.1762397117004882, 0.1871045203192955, 0.19736260981546525, 0.20701329507936062, 0.21605733863743792, 0.2244965051643178, 0.2323332938025363, 0.23957078919192443, 0.24779707615687943, 0.2550968221383428, 0.26147953570277377, 0.2669561931310935, 0.2715394328347215, 0.2752437610622303, 0.27808574620086823, 0.2800841837249691, 0.28126021753805724, 0.2816374068189933, 0.28124173089878707, 0.28010152830279506, 0.27824736984908877, 0.2757118694241902, 0.27252943951264336, 0.2687360014672627, 0.2643686626349868, 0.2594653736363788, 0.2540645792724352, 0.2482048757429125]}, {\"hoverinfo\": \"x+y+text\", \"mode\": \"lines+markers\", \"name\": \"hours-per-week\", \"text\": [\"hours-per-week = 17.0\", \"hours-per-week = 18.17950497481882\", \"hours-per-week = 19.359009949637635\", \"hours-per-week = 20.538514924456457\", \"hours-per-week = 21.718019899275273\", \"hours-per-week = 22.897524874094092\", \"hours-per-week = 24.07702984891291\", \"hours-per-week = 25.256534823731727\", \"hours-per-week = 26.436039798550546\", \"hours-per-week = 27.615544773369365\", \"hours-per-week = 28.795049748188184\", \"hours-per-week = 29.974554723007003\", \"hours-per-week = 31.154059697825822\", \"hours-per-week = 32.33356467264464\", \"hours-per-week = 33.51306964746346\", \"hours-per-week = 34.69257462228228\", \"hours-per-week = 35.87207959710109\", \"hours-per-week = 37.05158457191991\", \"hours-per-week = 38.23108954673873\", \"hours-per-week = 39.41059452155755\", \"hours-per-week = 40.59009949637637\", \"hours-per-week = 41.56059452155755\", \"hours-per-week = 42.531089546738734\", \"hours-per-week = 43.50158457191991\", \"hours-per-week = 44.47207959710109\", \"hours-per-week = 45.44257462228228\", \"hours-per-week = 46.41306964746346\", \"hours-per-week = 47.38356467264464\", \"hours-per-week = 48.35405969782582\", \"hours-per-week = 49.324554723007004\", \"hours-per-week = 50.295049748188184\", \"hours-per-week = 51.26554477336937\", \"hours-per-week = 52.23603979855055\", \"hours-per-week = 53.20653482373173\", \"hours-per-week = 54.17702984891291\", \"hours-per-week = 55.14752487409409\", \"hours-per-week = 56.118019899275275\", \"hours-per-week = 57.088514924456454\", \"hours-per-week = 58.05900994963764\", \"hours-per-week = 59.02950497481882\", \"hours-per-week = 60.0\"], \"type\": \"scatter\", \"uid\": \"38547b25-407f-4e27-a193-6a92f91cc683\", \"x\": [-1.0, -0.95, -0.9, -0.85, -0.8, -0.75, -0.7, -0.65, -0.6, -0.55, -0.5, -0.45, -0.4, -0.35, -0.3, -0.25, -0.2, -0.15, -0.1, -0.05, 0.0, 0.05, 0.1, 0.15, 0.2, 0.25, 0.3, 0.35, 0.4, 0.45, 0.5, 0.55, 0.6, 0.65, 0.7, 0.75, 0.8, 0.85, 0.9, 0.95, 1.0], \"y\": [0.0994218645919564, 0.10369858174365583, 0.10831715141415042, 0.11325495442440003, 0.1184952167086516, 0.12402596451676481, 0.12983925565823337, 0.1359306097779984, 0.14229856869799318, 0.14894431808762731, 0.15587128877239845, 0.16308462313633834, 0.17059032889457879, 0.17839383431081546, 0.18649749164161558, 0.1948963579970527, 0.20357141333718098, 0.21247958948971704, 0.2215413334396656, 0.2306298324653526, 0.2395707891919244, 0.24667432345936308, 0.2534326621390905, 0.2597587693603326, 0.26559719653348907, 0.2709253473148983, 0.27574773761116045, 0.2800873520077302, 0.28397746495008663, 0.2874554844611712, 0.29055898883068554, 0.2933235028565906, 0.2957814482816084, 0.29796180511076836, 0.2998901646510052, 0.301588975358968, 0.3030778660508862, 0.304373983670545, 0.30549231405091654, 0.30644597184467026, 0.3072464602425034]}],\n",
       "                        {\"margin\": {\"r\": 50, \"t\": 50}, \"xaxis\": {\"title\": {\"text\": \"tau\"}, \"zeroline\": false}, \"yaxis\": {\"range\": [0, 1], \"showline\": true, \"tickformat\": \"%\", \"title\": {\"text\": \"Proportion of >$50k\"}}},\n",
       "                        {\"showLink\": false, \"linkText\": \"Export to plot.ly\", \"plotlyServerURL\": \"https://plot.ly\", \"responsive\": true}\n",
       "                    ).then(function(){\n",
       "                            \n",
       "var gd = document.getElementById('5b5a7aca-8dc9-4b59-a069-44c1ba564b6f');\n",
       "var x = new MutationObserver(function (mutations, observer) {{\n",
       "        var display = window.getComputedStyle(gd).display;\n",
       "        if (!display || display === 'none') {{\n",
       "            console.log([gd, 'removed!']);\n",
       "            Plotly.purge(gd);\n",
       "            observer.disconnect();\n",
       "        }}\n",
       "}});\n",
       "\n",
       "// Listen for the removal of the full notebook cells\n",
       "var notebookContainer = gd.closest('#notebook-container');\n",
       "if (notebookContainer) {{\n",
       "    x.observe(notebookContainer, {childList: true});\n",
       "}}\n",
       "\n",
       "// Listen for the clearing of the current output cell\n",
       "var outputEl = gd.closest('.output');\n",
       "if (outputEl) {{\n",
       "    x.observe(outputEl, {childList: true});\n",
       "}}\n",
       "\n",
       "                        })\n",
       "                };\n",
       "                });\n",
       "            </script>\n",
       "        </div>"
      ]
     },
     "metadata": {},
     "output_type": "display_data"
    }
   ],
   "source": [
    "explainer.plot_bias(\n",
    "    X_test=X_test[['age', 'hours-per-week', 'education-num']],\n",
    "    y_test_pred=y_pred,\n",
    "    inline=True\n",
    ")"
   ]
  },
  {
   "cell_type": "markdown",
   "metadata": {},
   "source": [
    "One of the uses of these kinds of plots is to see if variables affect the outcome on average or not. Indeed, the straighter the lines, the less the associated variable has an impact on the average outcome. This is very handy to know if said variable is, say, a social trait such as the ethinicity and the target is a credit score. In this case, `ethik` can be used to visualize and quantify the bias of the model with respect to the social trait."
   ]
  },
  {
   "cell_type": "markdown",
   "metadata": {},
   "source": [
    "We can also get an overview of features' importance and determine which ones impact the predictions the most:"
   ]
  },
  {
   "cell_type": "code",
   "execution_count": 8,
   "metadata": {},
   "outputs": [
    {
     "data": {
      "text/html": [
       "        <script type=\"text/javascript\">\n",
       "        window.PlotlyConfig = {MathJaxConfig: 'local'};\n",
       "        if (window.MathJax) {MathJax.Hub.Config({SVG: {font: \"STIX-Web\"}});}\n",
       "        if (typeof require !== 'undefined') {\n",
       "        require.undef(\"plotly\");\n",
       "        requirejs.config({\n",
       "            paths: {\n",
       "                'plotly': ['https://cdn.plot.ly/plotly-latest.min']\n",
       "            }\n",
       "        });\n",
       "        require(['plotly'], function(Plotly) {\n",
       "            window._Plotly = Plotly;\n",
       "        });\n",
       "        }\n",
       "        </script>\n",
       "        "
      ]
     },
     "metadata": {},
     "output_type": "display_data"
    },
    {
     "data": {
      "application/vnd.plotly.v1+json": {
       "config": {
        "linkText": "Export to plot.ly",
        "plotlyServerURL": "https://plot.ly",
        "showLink": false
       },
       "data": [
        {
         "hoverinfo": "x",
         "orientation": "h",
         "type": "bar",
         "uid": "42df04c6-5d05-48b7-a80d-2b716a8f8c89",
         "x": [
          0.06311256682147129,
          0.06954240774040087,
          0.11779820819874147
         ],
         "y": [
          "hours-per-week",
          "age",
          "education-num"
         ]
        }
       ],
       "layout": {
        "margin": {
         "b": 0,
         "l": 200,
         "t": 40
        },
        "xaxis": {
         "fixedrange": true,
         "range": [
          0,
          1
         ],
         "showline": true,
         "side": "top",
         "title": {
          "text": "Importance"
         },
         "zeroline": false
        },
        "yaxis": {
         "fixedrange": true,
         "showline": true,
         "zeroline": false
        }
       }
      },
      "text/html": [
       "<div>\n",
       "        \n",
       "        \n",
       "            <div id=\"6a7253e6-4e06-4503-a866-dd519f2513d0\" class=\"plotly-graph-div\" style=\"height:525px; width:100%;\"></div>\n",
       "            <script type=\"text/javascript\">\n",
       "                require([\"plotly\"], function(Plotly) {\n",
       "                    window.PLOTLYENV=window.PLOTLYENV || {};\n",
       "                    window.PLOTLYENV.BASE_URL='https://plot.ly';\n",
       "                    \n",
       "                if (document.getElementById(\"6a7253e6-4e06-4503-a866-dd519f2513d0\")) {\n",
       "                    Plotly.newPlot(\n",
       "                        '6a7253e6-4e06-4503-a866-dd519f2513d0',\n",
       "                        [{\"hoverinfo\": \"x\", \"orientation\": \"h\", \"type\": \"bar\", \"uid\": \"42df04c6-5d05-48b7-a80d-2b716a8f8c89\", \"x\": [0.06311256682147129, 0.06954240774040087, 0.11779820819874147], \"y\": [\"hours-per-week\", \"age\", \"education-num\"]}],\n",
       "                        {\"margin\": {\"b\": 0, \"l\": 200, \"t\": 40}, \"xaxis\": {\"fixedrange\": true, \"range\": [0, 1], \"showline\": true, \"side\": \"top\", \"title\": {\"text\": \"Importance\"}, \"zeroline\": false}, \"yaxis\": {\"fixedrange\": true, \"showline\": true, \"zeroline\": false}},\n",
       "                        {\"showLink\": false, \"linkText\": \"Export to plot.ly\", \"plotlyServerURL\": \"https://plot.ly\", \"responsive\": true}\n",
       "                    ).then(function(){\n",
       "                            \n",
       "var gd = document.getElementById('6a7253e6-4e06-4503-a866-dd519f2513d0');\n",
       "var x = new MutationObserver(function (mutations, observer) {{\n",
       "        var display = window.getComputedStyle(gd).display;\n",
       "        if (!display || display === 'none') {{\n",
       "            console.log([gd, 'removed!']);\n",
       "            Plotly.purge(gd);\n",
       "            observer.disconnect();\n",
       "        }}\n",
       "}});\n",
       "\n",
       "// Listen for the removal of the full notebook cells\n",
       "var notebookContainer = gd.closest('#notebook-container');\n",
       "if (notebookContainer) {{\n",
       "    x.observe(notebookContainer, {childList: true});\n",
       "}}\n",
       "\n",
       "// Listen for the clearing of the current output cell\n",
       "var outputEl = gd.closest('.output');\n",
       "if (outputEl) {{\n",
       "    x.observe(outputEl, {childList: true});\n",
       "}}\n",
       "\n",
       "                        })\n",
       "                };\n",
       "                });\n",
       "            </script>\n",
       "        </div>"
      ]
     },
     "metadata": {},
     "output_type": "display_data"
    }
   ],
   "source": [
    "explainer.plot_bias_ranking(\n",
    "    X_test=X_test[['age', 'hours-per-week', 'education-num']],\n",
    "    y_test_pred=y_pred,\n",
    "    inline=True\n",
    ")"
   ]
  },
  {
   "cell_type": "markdown",
   "metadata": {},
   "source": [
    "The importance is computed as the average absolute difference in bias changes per tau increase. If the curves plotted above are horizontal lines, we can conclude that the corresponding features do not impact the predictions at all. So, to compute the importance of a feature, we compute the distance to this horizontal line."
   ]
  },
  {
   "cell_type": "markdown",
   "metadata": {},
   "source": [
    "## Evaluating model reliability"
   ]
  },
  {
   "cell_type": "markdown",
   "metadata": {},
   "source": [
    "`ethik` can also be used to assess the reliability of a model with respect to a variable. Let us first evaluate the global performance of our model."
   ]
  },
  {
   "cell_type": "code",
   "execution_count": 9,
   "metadata": {},
   "outputs": [
    {
     "name": "stdout",
     "output_type": "stream",
     "text": [
      "Accuracy score: 0.8788\n"
     ]
    }
   ],
   "source": [
    "from sklearn import metrics\n",
    "\n",
    "print(f'Accuracy score: {metrics.accuracy_score(y_test, y_pred > 0.5):.4f}')"
   ]
  },
  {
   "cell_type": "markdown",
   "metadata": {},
   "source": [
    "With `ethik` we can see how performant the model with respect to a variable, for example `age`."
   ]
  },
  {
   "cell_type": "code",
   "execution_count": 10,
   "metadata": {},
   "outputs": [
    {
     "data": {
      "text/html": [
       "        <script type=\"text/javascript\">\n",
       "        window.PlotlyConfig = {MathJaxConfig: 'local'};\n",
       "        if (window.MathJax) {MathJax.Hub.Config({SVG: {font: \"STIX-Web\"}});}\n",
       "        if (typeof require !== 'undefined') {\n",
       "        require.undef(\"plotly\");\n",
       "        requirejs.config({\n",
       "            paths: {\n",
       "                'plotly': ['https://cdn.plot.ly/plotly-latest.min']\n",
       "            }\n",
       "        });\n",
       "        require(['plotly'], function(Plotly) {\n",
       "            window._Plotly = Plotly;\n",
       "        });\n",
       "        }\n",
       "        </script>\n",
       "        "
      ]
     },
     "metadata": {},
     "output_type": "display_data"
    },
    {
     "data": {
      "application/vnd.plotly.v1+json": {
       "config": {
        "linkText": "Export to plot.ly",
        "plotlyServerURL": "https://plot.ly",
        "showLink": false
       },
       "data": [
        {
         "hoverinfo": "x+y",
         "mode": "lines+markers",
         "showlegend": false,
         "type": "scatter",
         "uid": "b71d2ad7-2bec-4cea-a7a9-9c03998aa0b5",
         "x": [
          19,
          19.976612209802237,
          20.95322441960447,
          21.929836629406708,
          22.90644883920894,
          23.88306104901118,
          24.859673258813416,
          25.83628546861565,
          26.812897678417887,
          27.78950988822012,
          28.766122098022358,
          29.74273430782459,
          30.71934651762683,
          31.695958727429066,
          32.6725709372313,
          33.64918314703354,
          34.62579535683577,
          35.60240756663801,
          36.57901977644024,
          37.55563198624248,
          38.532244196044715,
          39.75563198624248,
          40.979019776440246,
          42.20240756663801,
          43.42579535683577,
          44.64918314703354,
          45.8725709372313,
          47.095958727429064,
          48.319346517626826,
          49.542734307824595,
          50.76612209802236,
          51.98950988822013,
          53.21289767841789,
          54.43628546861565,
          55.65967325881341,
          56.883061049011175,
          58.106448839208944,
          59.32983662940671,
          60.553224419604476,
          61.77661220980224,
          63
         ],
         "y": [
          0.996259866544082,
          0.9900964035983779,
          0.9821916852602461,
          0.9736739608557373,
          0.9651476149794793,
          0.9568913744318353,
          0.9490222947510103,
          0.941580918416913,
          0.9345724265377374,
          0.9279863401510545,
          0.9218059476171241,
          0.9160127860749786,
          0.9105887162873842,
          0.9055168160419191,
          0.9007816928413052,
          0.896369514874028,
          0.8922679106250855,
          0.8884658129506929,
          0.8849532855203092,
          0.8817213500649682,
          0.8787618228718832,
          0.8754273378380591,
          0.872494791088017,
          0.8699513179317812,
          0.8677845940897485,
          0.8659825488858004,
          0.8645331197088972,
          0.8634240459312603,
          0.862642701276295,
          0.862175964097134,
          0.8620101250918497,
          0.8621308316489493,
          0.8625230673433943,
          0.8631711641852637,
          0.8640588441840322,
          0.8651692857670431,
          0.8664852097113167,
          0.8679889786204125,
          0.8696627036722903,
          0.8714883524042267,
          0.8734478516651295
         ]
        },
        {
         "hoverinfo": "skip",
         "marker": {
          "size": 9,
          "symbol": "x"
         },
         "mode": "markers",
         "name": "Original mean",
         "type": "scatter",
         "uid": "cf330b46-3723-435c-86ec-05f3e3e1ac3e",
         "x": [
          39.79621668099742
         ],
         "y": [
          0.8787618228718832
         ]
        }
       ],
       "layout": {
        "margin": {
         "r": 50,
         "t": 50
        },
        "xaxis": {
         "title": {
          "text": "Mean age"
         },
         "zeroline": false
        },
        "yaxis": {
         "range": [
          0,
          1
         ],
         "showline": true,
         "tickformat": "%",
         "title": {
          "text": "Score"
         }
        }
       }
      },
      "text/html": [
       "<div>\n",
       "        \n",
       "        \n",
       "            <div id=\"604f3f60-d0e4-4786-85f4-4ffd65f9f3b5\" class=\"plotly-graph-div\" style=\"height:525px; width:100%;\"></div>\n",
       "            <script type=\"text/javascript\">\n",
       "                require([\"plotly\"], function(Plotly) {\n",
       "                    window.PLOTLYENV=window.PLOTLYENV || {};\n",
       "                    window.PLOTLYENV.BASE_URL='https://plot.ly';\n",
       "                    \n",
       "                if (document.getElementById(\"604f3f60-d0e4-4786-85f4-4ffd65f9f3b5\")) {\n",
       "                    Plotly.newPlot(\n",
       "                        '604f3f60-d0e4-4786-85f4-4ffd65f9f3b5',\n",
       "                        [{\"hoverinfo\": \"x+y\", \"mode\": \"lines+markers\", \"showlegend\": false, \"type\": \"scatter\", \"uid\": \"b71d2ad7-2bec-4cea-a7a9-9c03998aa0b5\", \"x\": [19.0, 19.976612209802237, 20.95322441960447, 21.929836629406708, 22.90644883920894, 23.88306104901118, 24.859673258813416, 25.83628546861565, 26.812897678417887, 27.78950988822012, 28.766122098022358, 29.74273430782459, 30.71934651762683, 31.695958727429066, 32.6725709372313, 33.64918314703354, 34.62579535683577, 35.60240756663801, 36.57901977644024, 37.55563198624248, 38.532244196044715, 39.75563198624248, 40.979019776440246, 42.20240756663801, 43.42579535683577, 44.64918314703354, 45.8725709372313, 47.095958727429064, 48.319346517626826, 49.542734307824595, 50.76612209802236, 51.98950988822013, 53.21289767841789, 54.43628546861565, 55.65967325881341, 56.883061049011175, 58.106448839208944, 59.32983662940671, 60.553224419604476, 61.77661220980224, 63.0], \"y\": [0.996259866544082, 0.9900964035983779, 0.9821916852602461, 0.9736739608557373, 0.9651476149794793, 0.9568913744318353, 0.9490222947510103, 0.941580918416913, 0.9345724265377374, 0.9279863401510545, 0.9218059476171241, 0.9160127860749786, 0.9105887162873842, 0.9055168160419191, 0.9007816928413052, 0.896369514874028, 0.8922679106250855, 0.8884658129506929, 0.8849532855203092, 0.8817213500649682, 0.8787618228718832, 0.8754273378380591, 0.872494791088017, 0.8699513179317812, 0.8677845940897485, 0.8659825488858004, 0.8645331197088972, 0.8634240459312603, 0.862642701276295, 0.862175964097134, 0.8620101250918497, 0.8621308316489493, 0.8625230673433943, 0.8631711641852637, 0.8640588441840322, 0.8651692857670431, 0.8664852097113167, 0.8679889786204125, 0.8696627036722903, 0.8714883524042267, 0.8734478516651295]}, {\"hoverinfo\": \"skip\", \"marker\": {\"size\": 9, \"symbol\": \"x\"}, \"mode\": \"markers\", \"name\": \"Original mean\", \"type\": \"scatter\", \"uid\": \"cf330b46-3723-435c-86ec-05f3e3e1ac3e\", \"x\": [39.79621668099742], \"y\": [0.8787618228718832]}],\n",
       "                        {\"margin\": {\"r\": 50, \"t\": 50}, \"xaxis\": {\"title\": {\"text\": \"Mean age\"}, \"zeroline\": false}, \"yaxis\": {\"range\": [0, 1], \"showline\": true, \"tickformat\": \"%\", \"title\": {\"text\": \"Score\"}}},\n",
       "                        {\"showLink\": false, \"linkText\": \"Export to plot.ly\", \"plotlyServerURL\": \"https://plot.ly\", \"responsive\": true}\n",
       "                    ).then(function(){\n",
       "                            \n",
       "var gd = document.getElementById('604f3f60-d0e4-4786-85f4-4ffd65f9f3b5');\n",
       "var x = new MutationObserver(function (mutations, observer) {{\n",
       "        var display = window.getComputedStyle(gd).display;\n",
       "        if (!display || display === 'none') {{\n",
       "            console.log([gd, 'removed!']);\n",
       "            Plotly.purge(gd);\n",
       "            observer.disconnect();\n",
       "        }}\n",
       "}});\n",
       "\n",
       "// Listen for the removal of the full notebook cells\n",
       "var notebookContainer = gd.closest('#notebook-container');\n",
       "if (notebookContainer) {{\n",
       "    x.observe(notebookContainer, {childList: true});\n",
       "}}\n",
       "\n",
       "// Listen for the clearing of the current output cell\n",
       "var outputEl = gd.closest('.output');\n",
       "if (outputEl) {{\n",
       "    x.observe(outputEl, {childList: true});\n",
       "}}\n",
       "\n",
       "                        })\n",
       "                };\n",
       "                });\n",
       "            </script>\n",
       "        </div>"
      ]
     },
     "metadata": {},
     "output_type": "display_data"
    }
   ],
   "source": [
    "explainer.plot_performance(\n",
    "    X_test=X_test['age'],\n",
    "    y_test=y_test,\n",
    "    y_test_pred=y_pred > 0.5,\n",
    "    metric=metrics.accuracy_score,\n",
    "    inline=True\n",
    ")"
   ]
  },
  {
   "cell_type": "markdown",
   "metadata": {},
   "source": [
    "We can see that although the overall accuracy is around 0.88, it is much higher when the age is lower. This is quite intuitive, as we can imagine that young adults more often than not have a salary under $50k. When they get older, many things can happen and their salary isn't as easy to guess, which translates to a lower model accuracy.\n",
    "\n",
    "In the same way as before, we can visualize the performance of the metric with respect to multiple variables. "
   ]
  },
  {
   "cell_type": "code",
   "execution_count": 11,
   "metadata": {},
   "outputs": [
    {
     "data": {
      "text/html": [
       "        <script type=\"text/javascript\">\n",
       "        window.PlotlyConfig = {MathJaxConfig: 'local'};\n",
       "        if (window.MathJax) {MathJax.Hub.Config({SVG: {font: \"STIX-Web\"}});}\n",
       "        if (typeof require !== 'undefined') {\n",
       "        require.undef(\"plotly\");\n",
       "        requirejs.config({\n",
       "            paths: {\n",
       "                'plotly': ['https://cdn.plot.ly/plotly-latest.min']\n",
       "            }\n",
       "        });\n",
       "        require(['plotly'], function(Plotly) {\n",
       "            window._Plotly = Plotly;\n",
       "        });\n",
       "        }\n",
       "        </script>\n",
       "        "
      ]
     },
     "metadata": {},
     "output_type": "display_data"
    },
    {
     "data": {
      "application/vnd.plotly.v1+json": {
       "config": {
        "linkText": "Export to plot.ly",
        "plotlyServerURL": "https://plot.ly",
        "showLink": false
       },
       "data": [
        {
         "hoverinfo": "x+y+text",
         "mode": "lines+markers",
         "name": "education-num",
         "text": [
          "education-num = 5.0",
          "education-num = 5.252708512467756",
          "education-num = 5.505417024935511",
          "education-num = 5.758125537403267",
          "education-num = 6.010834049871023",
          "education-num = 6.263542562338779",
          "education-num = 6.516251074806535",
          "education-num = 6.76895958727429",
          "education-num = 7.021668099742046",
          "education-num = 7.274376612209801",
          "education-num = 7.527085124677558",
          "education-num = 7.779793637145313",
          "education-num = 8.03250214961307",
          "education-num = 8.285210662080825",
          "education-num = 8.53791917454858",
          "education-num = 8.790627687016336",
          "education-num = 9.043336199484092",
          "education-num = 9.296044711951849",
          "education-num = 9.548753224419604",
          "education-num = 9.80146173688736",
          "education-num = 10.054170249355115",
          "education-num = 10.251461736887359",
          "education-num = 10.448753224419605",
          "education-num = 10.646044711951848",
          "education-num = 10.843336199484092",
          "education-num = 11.040627687016336",
          "education-num = 11.23791917454858",
          "education-num = 11.435210662080825",
          "education-num = 11.63250214961307",
          "education-num = 11.829793637145313",
          "education-num = 12.027085124677559",
          "education-num = 12.224376612209802",
          "education-num = 12.421668099742046",
          "education-num = 12.61895958727429",
          "education-num = 12.816251074806534",
          "education-num = 13.01354256233878",
          "education-num = 13.210834049871023",
          "education-num = 13.408125537403267",
          "education-num = 13.605417024935512",
          "education-num = 13.802708512467756",
          "education-num = 14.0"
         ],
         "type": "scatter",
         "uid": "28fdd9cc-56a4-4751-99c0-625d6d243b75",
         "x": [
          -1,
          -0.95,
          -0.9,
          -0.85,
          -0.8,
          -0.75,
          -0.7,
          -0.65,
          -0.6,
          -0.55,
          -0.5,
          -0.45,
          -0.4,
          -0.35,
          -0.3,
          -0.25,
          -0.2,
          -0.15,
          -0.1,
          -0.05,
          0,
          0.05,
          0.1,
          0.15,
          0.2,
          0.25,
          0.3,
          0.35,
          0.4,
          0.45,
          0.5,
          0.55,
          0.6,
          0.65,
          0.7,
          0.75,
          0.8,
          0.85,
          0.9,
          0.95,
          1
         ],
         "y": [
          0.944212728503509,
          0.9417757873055532,
          0.9392123395693143,
          0.9365332847393646,
          0.9337473818169801,
          0.930861738728825,
          0.9278821866099036,
          0.9248135778952503,
          0.9216600370377926,
          0.9184251865090943,
          0.9151123670849808,
          0.9117248690703097,
          0.908266188740781,
          0.9047403200493616,
          0.9011520830060136,
          0.8975074740611549,
          0.8938139983061788,
          0.8900809109790027,
          0.8863192690058501,
          0.8825416961445526,
          0.8787618228718831,
          0.8758181720150989,
          0.8728878865997461,
          0.8699768228944045,
          0.8670902290500266,
          0.8642327015610562,
          0.8614082308735124,
          0.8586203169523947,
          0.855872129943849,
          0.8531666931847126,
          0.8505070721338064,
          0.84789655973713,
          0.8453388538544282,
          0.8428382243355304,
          0.8403996652680261,
          0.8380290206825767,
          0.8357330577085887,
          0.8335194373279623,
          0.8313964980893814,
          0.8293727273360882,
          0.8274557697632239
         ]
        },
        {
         "hoverinfo": "x+y+text",
         "mode": "lines+markers",
         "name": "age",
         "text": [
          "age = 19.0",
          "age = 19.976612209802237",
          "age = 20.95322441960447",
          "age = 21.929836629406708",
          "age = 22.90644883920894",
          "age = 23.88306104901118",
          "age = 24.859673258813416",
          "age = 25.83628546861565",
          "age = 26.812897678417887",
          "age = 27.78950988822012",
          "age = 28.766122098022358",
          "age = 29.74273430782459",
          "age = 30.71934651762683",
          "age = 31.695958727429066",
          "age = 32.6725709372313",
          "age = 33.64918314703354",
          "age = 34.62579535683577",
          "age = 35.60240756663801",
          "age = 36.57901977644024",
          "age = 37.55563198624248",
          "age = 38.532244196044715",
          "age = 39.75563198624248",
          "age = 40.979019776440246",
          "age = 42.20240756663801",
          "age = 43.42579535683577",
          "age = 44.64918314703354",
          "age = 45.8725709372313",
          "age = 47.095958727429064",
          "age = 48.319346517626826",
          "age = 49.542734307824595",
          "age = 50.76612209802236",
          "age = 51.98950988822013",
          "age = 53.21289767841789",
          "age = 54.43628546861565",
          "age = 55.65967325881341",
          "age = 56.883061049011175",
          "age = 58.106448839208944",
          "age = 59.32983662940671",
          "age = 60.553224419604476",
          "age = 61.77661220980224",
          "age = 63.0"
         ],
         "type": "scatter",
         "uid": "674830f8-d07a-49e8-a77d-31615305a3a8",
         "x": [
          -1,
          -0.95,
          -0.9,
          -0.85,
          -0.8,
          -0.75,
          -0.7,
          -0.65,
          -0.6,
          -0.55,
          -0.5,
          -0.45,
          -0.4,
          -0.35,
          -0.3,
          -0.25,
          -0.2,
          -0.15,
          -0.1,
          -0.05,
          0,
          0.05,
          0.1,
          0.15,
          0.2,
          0.25,
          0.3,
          0.35,
          0.4,
          0.45,
          0.5,
          0.55,
          0.6,
          0.65,
          0.7,
          0.75,
          0.8,
          0.85,
          0.9,
          0.95,
          1
         ],
         "y": [
          0.996259866544082,
          0.9900964035983779,
          0.9821916852602461,
          0.9736739608557373,
          0.9651476149794793,
          0.9568913744318353,
          0.9490222947510103,
          0.941580918416913,
          0.9345724265377374,
          0.9279863401510545,
          0.9218059476171241,
          0.9160127860749786,
          0.9105887162873842,
          0.9055168160419191,
          0.9007816928413052,
          0.896369514874028,
          0.8922679106250855,
          0.8884658129506929,
          0.8849532855203092,
          0.8817213500649682,
          0.8787618228718832,
          0.8754273378380591,
          0.872494791088017,
          0.8699513179317812,
          0.8677845940897485,
          0.8659825488858004,
          0.8645331197088972,
          0.8634240459312603,
          0.862642701276295,
          0.862175964097134,
          0.8620101250918497,
          0.8621308316489493,
          0.8625230673433943,
          0.8631711641852637,
          0.8640588441840322,
          0.8651692857670431,
          0.8664852097113167,
          0.8679889786204125,
          0.8696627036722903,
          0.8714883524042267,
          0.8734478516651295
         ]
        }
       ],
       "layout": {
        "margin": {
         "r": 50,
         "t": 50
        },
        "xaxis": {
         "title": {
          "text": "tau"
         },
         "zeroline": false
        },
        "yaxis": {
         "range": [
          0,
          1
         ],
         "showline": true,
         "tickformat": "%",
         "title": {
          "text": "Score"
         }
        }
       }
      },
      "text/html": [
       "<div>\n",
       "        \n",
       "        \n",
       "            <div id=\"bc72319a-09d5-4082-a1d1-8cbbbb277108\" class=\"plotly-graph-div\" style=\"height:525px; width:100%;\"></div>\n",
       "            <script type=\"text/javascript\">\n",
       "                require([\"plotly\"], function(Plotly) {\n",
       "                    window.PLOTLYENV=window.PLOTLYENV || {};\n",
       "                    window.PLOTLYENV.BASE_URL='https://plot.ly';\n",
       "                    \n",
       "                if (document.getElementById(\"bc72319a-09d5-4082-a1d1-8cbbbb277108\")) {\n",
       "                    Plotly.newPlot(\n",
       "                        'bc72319a-09d5-4082-a1d1-8cbbbb277108',\n",
       "                        [{\"hoverinfo\": \"x+y+text\", \"mode\": \"lines+markers\", \"name\": \"education-num\", \"text\": [\"education-num = 5.0\", \"education-num = 5.252708512467756\", \"education-num = 5.505417024935511\", \"education-num = 5.758125537403267\", \"education-num = 6.010834049871023\", \"education-num = 6.263542562338779\", \"education-num = 6.516251074806535\", \"education-num = 6.76895958727429\", \"education-num = 7.021668099742046\", \"education-num = 7.274376612209801\", \"education-num = 7.527085124677558\", \"education-num = 7.779793637145313\", \"education-num = 8.03250214961307\", \"education-num = 8.285210662080825\", \"education-num = 8.53791917454858\", \"education-num = 8.790627687016336\", \"education-num = 9.043336199484092\", \"education-num = 9.296044711951849\", \"education-num = 9.548753224419604\", \"education-num = 9.80146173688736\", \"education-num = 10.054170249355115\", \"education-num = 10.251461736887359\", \"education-num = 10.448753224419605\", \"education-num = 10.646044711951848\", \"education-num = 10.843336199484092\", \"education-num = 11.040627687016336\", \"education-num = 11.23791917454858\", \"education-num = 11.435210662080825\", \"education-num = 11.63250214961307\", \"education-num = 11.829793637145313\", \"education-num = 12.027085124677559\", \"education-num = 12.224376612209802\", \"education-num = 12.421668099742046\", \"education-num = 12.61895958727429\", \"education-num = 12.816251074806534\", \"education-num = 13.01354256233878\", \"education-num = 13.210834049871023\", \"education-num = 13.408125537403267\", \"education-num = 13.605417024935512\", \"education-num = 13.802708512467756\", \"education-num = 14.0\"], \"type\": \"scatter\", \"uid\": \"28fdd9cc-56a4-4751-99c0-625d6d243b75\", \"x\": [-1.0, -0.95, -0.9, -0.85, -0.8, -0.75, -0.7, -0.65, -0.6, -0.55, -0.5, -0.45, -0.4, -0.35, -0.3, -0.25, -0.2, -0.15, -0.1, -0.05, 0.0, 0.05, 0.1, 0.15, 0.2, 0.25, 0.3, 0.35, 0.4, 0.45, 0.5, 0.55, 0.6, 0.65, 0.7, 0.75, 0.8, 0.85, 0.9, 0.95, 1.0], \"y\": [0.944212728503509, 0.9417757873055532, 0.9392123395693143, 0.9365332847393646, 0.9337473818169801, 0.930861738728825, 0.9278821866099036, 0.9248135778952503, 0.9216600370377926, 0.9184251865090943, 0.9151123670849808, 0.9117248690703097, 0.908266188740781, 0.9047403200493616, 0.9011520830060136, 0.8975074740611549, 0.8938139983061788, 0.8900809109790027, 0.8863192690058501, 0.8825416961445526, 0.8787618228718831, 0.8758181720150989, 0.8728878865997461, 0.8699768228944045, 0.8670902290500266, 0.8642327015610562, 0.8614082308735124, 0.8586203169523947, 0.855872129943849, 0.8531666931847126, 0.8505070721338064, 0.84789655973713, 0.8453388538544282, 0.8428382243355304, 0.8403996652680261, 0.8380290206825767, 0.8357330577085887, 0.8335194373279623, 0.8313964980893814, 0.8293727273360882, 0.8274557697632239]}, {\"hoverinfo\": \"x+y+text\", \"mode\": \"lines+markers\", \"name\": \"age\", \"text\": [\"age = 19.0\", \"age = 19.976612209802237\", \"age = 20.95322441960447\", \"age = 21.929836629406708\", \"age = 22.90644883920894\", \"age = 23.88306104901118\", \"age = 24.859673258813416\", \"age = 25.83628546861565\", \"age = 26.812897678417887\", \"age = 27.78950988822012\", \"age = 28.766122098022358\", \"age = 29.74273430782459\", \"age = 30.71934651762683\", \"age = 31.695958727429066\", \"age = 32.6725709372313\", \"age = 33.64918314703354\", \"age = 34.62579535683577\", \"age = 35.60240756663801\", \"age = 36.57901977644024\", \"age = 37.55563198624248\", \"age = 38.532244196044715\", \"age = 39.75563198624248\", \"age = 40.979019776440246\", \"age = 42.20240756663801\", \"age = 43.42579535683577\", \"age = 44.64918314703354\", \"age = 45.8725709372313\", \"age = 47.095958727429064\", \"age = 48.319346517626826\", \"age = 49.542734307824595\", \"age = 50.76612209802236\", \"age = 51.98950988822013\", \"age = 53.21289767841789\", \"age = 54.43628546861565\", \"age = 55.65967325881341\", \"age = 56.883061049011175\", \"age = 58.106448839208944\", \"age = 59.32983662940671\", \"age = 60.553224419604476\", \"age = 61.77661220980224\", \"age = 63.0\"], \"type\": \"scatter\", \"uid\": \"674830f8-d07a-49e8-a77d-31615305a3a8\", \"x\": [-1.0, -0.95, -0.9, -0.85, -0.8, -0.75, -0.7, -0.65, -0.6, -0.55, -0.5, -0.45, -0.4, -0.35, -0.3, -0.25, -0.2, -0.15, -0.1, -0.05, 0.0, 0.05, 0.1, 0.15, 0.2, 0.25, 0.3, 0.35, 0.4, 0.45, 0.5, 0.55, 0.6, 0.65, 0.7, 0.75, 0.8, 0.85, 0.9, 0.95, 1.0], \"y\": [0.996259866544082, 0.9900964035983779, 0.9821916852602461, 0.9736739608557373, 0.9651476149794793, 0.9568913744318353, 0.9490222947510103, 0.941580918416913, 0.9345724265377374, 0.9279863401510545, 0.9218059476171241, 0.9160127860749786, 0.9105887162873842, 0.9055168160419191, 0.9007816928413052, 0.896369514874028, 0.8922679106250855, 0.8884658129506929, 0.8849532855203092, 0.8817213500649682, 0.8787618228718832, 0.8754273378380591, 0.872494791088017, 0.8699513179317812, 0.8677845940897485, 0.8659825488858004, 0.8645331197088972, 0.8634240459312603, 0.862642701276295, 0.862175964097134, 0.8620101250918497, 0.8621308316489493, 0.8625230673433943, 0.8631711641852637, 0.8640588441840322, 0.8651692857670431, 0.8664852097113167, 0.8679889786204125, 0.8696627036722903, 0.8714883524042267, 0.8734478516651295]}],\n",
       "                        {\"margin\": {\"r\": 50, \"t\": 50}, \"xaxis\": {\"title\": {\"text\": \"tau\"}, \"zeroline\": false}, \"yaxis\": {\"range\": [0, 1], \"showline\": true, \"tickformat\": \"%\", \"title\": {\"text\": \"Score\"}}},\n",
       "                        {\"showLink\": false, \"linkText\": \"Export to plot.ly\", \"plotlyServerURL\": \"https://plot.ly\", \"responsive\": true}\n",
       "                    ).then(function(){\n",
       "                            \n",
       "var gd = document.getElementById('bc72319a-09d5-4082-a1d1-8cbbbb277108');\n",
       "var x = new MutationObserver(function (mutations, observer) {{\n",
       "        var display = window.getComputedStyle(gd).display;\n",
       "        if (!display || display === 'none') {{\n",
       "            console.log([gd, 'removed!']);\n",
       "            Plotly.purge(gd);\n",
       "            observer.disconnect();\n",
       "        }}\n",
       "}});\n",
       "\n",
       "// Listen for the removal of the full notebook cells\n",
       "var notebookContainer = gd.closest('#notebook-container');\n",
       "if (notebookContainer) {{\n",
       "    x.observe(notebookContainer, {childList: true});\n",
       "}}\n",
       "\n",
       "// Listen for the clearing of the current output cell\n",
       "var outputEl = gd.closest('.output');\n",
       "if (outputEl) {{\n",
       "    x.observe(outputEl, {childList: true});\n",
       "}}\n",
       "\n",
       "                        })\n",
       "                };\n",
       "                });\n",
       "            </script>\n",
       "        </div>"
      ]
     },
     "metadata": {},
     "output_type": "display_data"
    }
   ],
   "source": [
    "explainer.plot_performance(\n",
    "    X_test=X_test[['age', 'education-num']],\n",
    "    y_test=y_test,\n",
    "    y_test_pred=y_pred > 0.5,\n",
    "    metric=metrics.accuracy_score,\n",
    "    inline=True\n",
    ")"
   ]
  },
  {
   "cell_type": "markdown",
   "metadata": {},
   "source": [
    "These kind of reliability plots can be used for many cases. For example, now that we know the model is less accurate for older people than young ones, we might want to focus our data analysis on older people in order to extract helpful features. `ethik` can thus help guide a data science project by telling you where your model is failing to perform.  "
   ]
  },
  {
   "cell_type": "markdown",
   "metadata": {},
   "source": [
    "We can also rank features by their impact on performance. Here, we want to show how bad the model can be when we make each feature's mean change:"
   ]
  },
  {
   "cell_type": "code",
   "execution_count": 12,
   "metadata": {},
   "outputs": [
    {
     "data": {
      "text/html": [
       "        <script type=\"text/javascript\">\n",
       "        window.PlotlyConfig = {MathJaxConfig: 'local'};\n",
       "        if (window.MathJax) {MathJax.Hub.Config({SVG: {font: \"STIX-Web\"}});}\n",
       "        if (typeof require !== 'undefined') {\n",
       "        require.undef(\"plotly\");\n",
       "        requirejs.config({\n",
       "            paths: {\n",
       "                'plotly': ['https://cdn.plot.ly/plotly-latest.min']\n",
       "            }\n",
       "        });\n",
       "        require(['plotly'], function(Plotly) {\n",
       "            window._Plotly = Plotly;\n",
       "        });\n",
       "        }\n",
       "        </script>\n",
       "        "
      ]
     },
     "metadata": {},
     "output_type": "display_data"
    },
    {
     "data": {
      "application/vnd.plotly.v1+json": {
       "config": {
        "linkText": "Export to plot.ly",
        "plotlyServerURL": "https://plot.ly",
        "showLink": false
       },
       "data": [
        {
         "hoverinfo": "x",
         "orientation": "h",
         "type": "bar",
         "uid": "4e27da03-506d-47ce-b4f1-14f56fe06945",
         "x": [
          0.8274557697632239,
          0.8620101250918497
         ],
         "y": [
          "education-num",
          "age"
         ]
        }
       ],
       "layout": {
        "margin": {
         "b": 0,
         "l": 200,
         "t": 40
        },
        "xaxis": {
         "fixedrange": true,
         "range": [
          0,
          1
         ],
         "showline": true,
         "side": "top",
         "title": {
          "text": "min accuracy_score"
         },
         "zeroline": false
        },
        "yaxis": {
         "fixedrange": true,
         "showline": true,
         "zeroline": false
        }
       }
      },
      "text/html": [
       "<div>\n",
       "        \n",
       "        \n",
       "            <div id=\"56065ed7-10c6-4907-8b8f-93c663fdc261\" class=\"plotly-graph-div\" style=\"height:525px; width:100%;\"></div>\n",
       "            <script type=\"text/javascript\">\n",
       "                require([\"plotly\"], function(Plotly) {\n",
       "                    window.PLOTLYENV=window.PLOTLYENV || {};\n",
       "                    window.PLOTLYENV.BASE_URL='https://plot.ly';\n",
       "                    \n",
       "                if (document.getElementById(\"56065ed7-10c6-4907-8b8f-93c663fdc261\")) {\n",
       "                    Plotly.newPlot(\n",
       "                        '56065ed7-10c6-4907-8b8f-93c663fdc261',\n",
       "                        [{\"hoverinfo\": \"x\", \"orientation\": \"h\", \"type\": \"bar\", \"uid\": \"4e27da03-506d-47ce-b4f1-14f56fe06945\", \"x\": [0.8274557697632239, 0.8620101250918497], \"y\": [\"education-num\", \"age\"]}],\n",
       "                        {\"margin\": {\"b\": 0, \"l\": 200, \"t\": 40}, \"xaxis\": {\"fixedrange\": true, \"range\": [0, 1], \"showline\": true, \"side\": \"top\", \"title\": {\"text\": \"min accuracy_score\"}, \"zeroline\": false}, \"yaxis\": {\"fixedrange\": true, \"showline\": true, \"zeroline\": false}},\n",
       "                        {\"showLink\": false, \"linkText\": \"Export to plot.ly\", \"plotlyServerURL\": \"https://plot.ly\", \"responsive\": true}\n",
       "                    ).then(function(){\n",
       "                            \n",
       "var gd = document.getElementById('56065ed7-10c6-4907-8b8f-93c663fdc261');\n",
       "var x = new MutationObserver(function (mutations, observer) {{\n",
       "        var display = window.getComputedStyle(gd).display;\n",
       "        if (!display || display === 'none') {{\n",
       "            console.log([gd, 'removed!']);\n",
       "            Plotly.purge(gd);\n",
       "            observer.disconnect();\n",
       "        }}\n",
       "}});\n",
       "\n",
       "// Listen for the removal of the full notebook cells\n",
       "var notebookContainer = gd.closest('#notebook-container');\n",
       "if (notebookContainer) {{\n",
       "    x.observe(notebookContainer, {childList: true});\n",
       "}}\n",
       "\n",
       "// Listen for the clearing of the current output cell\n",
       "var outputEl = gd.closest('.output');\n",
       "if (outputEl) {{\n",
       "    x.observe(outputEl, {childList: true});\n",
       "}}\n",
       "\n",
       "                        })\n",
       "                };\n",
       "                });\n",
       "            </script>\n",
       "        </div>"
      ]
     },
     "metadata": {},
     "output_type": "display_data"
    }
   ],
   "source": [
    "explainer.plot_performance_ranking(\n",
    "    X_test=X_test[['age', 'education-num']],\n",
    "    y_test=y_test,\n",
    "    y_test_pred=y_pred > 0.5,\n",
    "    metric=metrics.accuracy_score,\n",
    "    criterion=\"min\", # See API reference\n",
    "    inline=True\n",
    ")"
   ]
  },
  {
   "cell_type": "code",
   "execution_count": null,
   "metadata": {},
   "outputs": [],
   "source": []
  }
 ],
 "metadata": {
  "kernelspec": {
   "display_name": "Python 3",
   "language": "python",
   "name": "python3"
  },
  "language_info": {
   "codemirror_mode": {
    "name": "ipython",
    "version": 3
   },
   "file_extension": ".py",
   "mimetype": "text/x-python",
   "name": "python",
   "nbconvert_exporter": "python",
   "pygments_lexer": "ipython3",
   "version": "3.7.3"
  }
 },
 "nbformat": 4,
 "nbformat_minor": 2
}
