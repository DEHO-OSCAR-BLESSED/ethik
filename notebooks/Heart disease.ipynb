{
 "cells": [
  {
   "cell_type": "markdown",
   "metadata": {},
   "source": [
    "# Heart Disease UCI\n",
    "\n",
    "In this notebook, we illustrate black-box model explanation with the medical [Heart Disease UCI](https://www.kaggle.com/ronitf/heart-disease-uci) dataset. There are forteen features:\n",
    "\n",
    "* `age`\n",
    "* `sex`\n",
    "* `cp`: chest paintype (4 values)\n",
    "* `trestbps`: resting blood pressure\n",
    "* `chol`: serum cholestoral in mg/dl\n",
    "* `fbs`: fasting blood sugar > 120 mg/dl\n",
    "* `restecg`: resting electrocardiographic results (values 0,1,2)\n",
    "* `thalach`: maximum heart rate achieved\n",
    "* `exang`: exercise induced angina\n",
    "* `oldpeak`: oldpeak = ST depression induced by exercise relative to rest\n",
    "* `slope`: the slope of the peak exercise ST segment\n",
    "* `ca`: number of major vessels (0-3) colored by flourosopy\n",
    "* `thal`: 3 = normal; 6 = fixed defect; 7 = reversable defect\n",
    "\n",
    "The output is the presence (`1`) or absence (`0`) of heart disease. "
   ]
  },
  {
   "cell_type": "code",
   "execution_count": 14,
   "metadata": {},
   "outputs": [
    {
     "data": {
      "text/html": [
       "<div>\n",
       "<style scoped>\n",
       "    .dataframe tbody tr th:only-of-type {\n",
       "        vertical-align: middle;\n",
       "    }\n",
       "\n",
       "    .dataframe tbody tr th {\n",
       "        vertical-align: top;\n",
       "    }\n",
       "\n",
       "    .dataframe thead th {\n",
       "        text-align: right;\n",
       "    }\n",
       "</style>\n",
       "<table border=\"1\" class=\"dataframe\">\n",
       "  <thead>\n",
       "    <tr style=\"text-align: right;\">\n",
       "      <th></th>\n",
       "      <th>age</th>\n",
       "      <th>sex</th>\n",
       "      <th>cp</th>\n",
       "      <th>trestbps</th>\n",
       "      <th>chol</th>\n",
       "      <th>fbs</th>\n",
       "      <th>restecg</th>\n",
       "      <th>thalach</th>\n",
       "      <th>exang</th>\n",
       "      <th>oldpeak</th>\n",
       "      <th>slope</th>\n",
       "      <th>ca</th>\n",
       "      <th>thal</th>\n",
       "    </tr>\n",
       "  </thead>\n",
       "  <tbody>\n",
       "    <tr>\n",
       "      <td>0</td>\n",
       "      <td>63</td>\n",
       "      <td>1</td>\n",
       "      <td>3</td>\n",
       "      <td>145</td>\n",
       "      <td>233</td>\n",
       "      <td>1</td>\n",
       "      <td>0</td>\n",
       "      <td>150</td>\n",
       "      <td>0</td>\n",
       "      <td>2.3</td>\n",
       "      <td>0</td>\n",
       "      <td>0</td>\n",
       "      <td>1</td>\n",
       "    </tr>\n",
       "    <tr>\n",
       "      <td>1</td>\n",
       "      <td>37</td>\n",
       "      <td>1</td>\n",
       "      <td>2</td>\n",
       "      <td>130</td>\n",
       "      <td>250</td>\n",
       "      <td>0</td>\n",
       "      <td>1</td>\n",
       "      <td>187</td>\n",
       "      <td>0</td>\n",
       "      <td>3.5</td>\n",
       "      <td>0</td>\n",
       "      <td>0</td>\n",
       "      <td>2</td>\n",
       "    </tr>\n",
       "    <tr>\n",
       "      <td>2</td>\n",
       "      <td>41</td>\n",
       "      <td>0</td>\n",
       "      <td>1</td>\n",
       "      <td>130</td>\n",
       "      <td>204</td>\n",
       "      <td>0</td>\n",
       "      <td>0</td>\n",
       "      <td>172</td>\n",
       "      <td>0</td>\n",
       "      <td>1.4</td>\n",
       "      <td>2</td>\n",
       "      <td>0</td>\n",
       "      <td>2</td>\n",
       "    </tr>\n",
       "    <tr>\n",
       "      <td>3</td>\n",
       "      <td>56</td>\n",
       "      <td>1</td>\n",
       "      <td>1</td>\n",
       "      <td>120</td>\n",
       "      <td>236</td>\n",
       "      <td>0</td>\n",
       "      <td>1</td>\n",
       "      <td>178</td>\n",
       "      <td>0</td>\n",
       "      <td>0.8</td>\n",
       "      <td>2</td>\n",
       "      <td>0</td>\n",
       "      <td>2</td>\n",
       "    </tr>\n",
       "    <tr>\n",
       "      <td>4</td>\n",
       "      <td>57</td>\n",
       "      <td>0</td>\n",
       "      <td>0</td>\n",
       "      <td>120</td>\n",
       "      <td>354</td>\n",
       "      <td>0</td>\n",
       "      <td>1</td>\n",
       "      <td>163</td>\n",
       "      <td>1</td>\n",
       "      <td>0.6</td>\n",
       "      <td>2</td>\n",
       "      <td>0</td>\n",
       "      <td>2</td>\n",
       "    </tr>\n",
       "  </tbody>\n",
       "</table>\n",
       "</div>"
      ],
      "text/plain": [
       "   age sex cp  trestbps  chol fbs restecg  thalach exang  oldpeak slope ca  \\\n",
       "0   63   1  3       145   233   1       0      150     0      2.3     0  0   \n",
       "1   37   1  2       130   250   0       1      187     0      3.5     0  0   \n",
       "2   41   0  1       130   204   0       0      172     0      1.4     2  0   \n",
       "3   56   1  1       120   236   0       1      178     0      0.8     2  0   \n",
       "4   57   0  0       120   354   0       1      163     1      0.6     2  0   \n",
       "\n",
       "  thal  \n",
       "0    1  \n",
       "1    2  \n",
       "2    2  \n",
       "3    2  \n",
       "4    2  "
      ]
     },
     "execution_count": 14,
     "metadata": {},
     "output_type": "execute_result"
    }
   ],
   "source": [
    "import ethik\n",
    "\n",
    "X, y = ethik.datasets.load_heart_disease()\n",
    "X.head()"
   ]
  },
  {
   "cell_type": "code",
   "execution_count": 15,
   "metadata": {},
   "outputs": [
    {
     "data": {
      "text/plain": [
       "0    True\n",
       "1    True\n",
       "2    True\n",
       "3    True\n",
       "4    True\n",
       "Name: has_heart_disease, dtype: bool"
      ]
     },
     "execution_count": 15,
     "metadata": {},
     "output_type": "execute_result"
    }
   ],
   "source": [
    "y.head()"
   ]
  },
  {
   "cell_type": "code",
   "execution_count": 16,
   "metadata": {},
   "outputs": [],
   "source": [
    "from sklearn import model_selection\n",
    "\n",
    "X_train, X_test, y_train, y_test = model_selection.train_test_split(X, y, shuffle=True, random_state=42)"
   ]
  },
  {
   "cell_type": "markdown",
   "metadata": {},
   "source": [
    "In this notebook, we aim to illustrate explanability and will arbitrarily train a gradient-boosting tree using [LightGBM](https://lightgbm.readthedocs.io/en/latest/)."
   ]
  },
  {
   "cell_type": "code",
   "execution_count": 17,
   "metadata": {},
   "outputs": [
    {
     "data": {
      "text/plain": [
       "0    0.006718\n",
       "1    0.050039\n",
       "2    0.883217\n",
       "3    0.072895\n",
       "4    0.921450\n",
       "Name: has_heart_disease, dtype: float64"
      ]
     },
     "execution_count": 17,
     "metadata": {},
     "output_type": "execute_result"
    }
   ],
   "source": [
    "import lightgbm as lgb\n",
    "import pandas as pd\n",
    "\n",
    "model = lgb.LGBMClassifier(random_state=42).fit(X_train, y_train)\n",
    "\n",
    "y_pred = model.predict_proba(X_test)[:, 1]\n",
    "# We use a named pandas series to make plot labels more explicit\n",
    "y_pred = pd.Series(y_pred, name='has_heart_disease')\n",
    "y_pred.head()"
   ]
  },
  {
   "cell_type": "code",
   "execution_count": 18,
   "metadata": {},
   "outputs": [
    {
     "name": "stdout",
     "output_type": "stream",
     "text": [
      "Accuracy score: 0.8684\n"
     ]
    }
   ],
   "source": [
    "from sklearn import metrics\n",
    "\n",
    "# As `y_test` is binary (0 or 1), we need to make `y_pred` binary as well\n",
    "# for `metrics.accuracy_score` to work.\n",
    "print(f'Accuracy score: {metrics.accuracy_score(y_test, y_pred > 0.5):.4f}')"
   ]
  },
  {
   "cell_type": "markdown",
   "metadata": {},
   "source": [
    "Let's plot the four most impactful features on the predictions:"
   ]
  },
  {
   "cell_type": "code",
   "execution_count": 19,
   "metadata": {
    "scrolled": false
   },
   "outputs": [
    {
     "name": "stderr",
     "output_type": "stream",
     "text": [
      "100%|██████████| 1150/1150 [00:00<00:00, 1179.08it/s]\n"
     ]
    },
    {
     "data": {
      "application/vnd.plotly.v1+json": {
       "config": {
        "plotlyServerURL": "https://plot.ly"
       },
       "data": [
        {
         "hoverinfo": "x",
         "orientation": "h",
         "type": "bar",
         "x": [
          0.14665291441395606,
          0.1585441215255305,
          0.1591417624198404,
          0.16568704608430096,
          0.16827090305068118,
          0.17168283308889093,
          0.18256498750291494,
          0.18747557680236424,
          0.19763062032723255,
          0.24569649825780876
         ],
         "y": [
          "exang = 1",
          "slope = 2",
          "trestbps",
          "slope = 0",
          "cp = 1",
          "cp = 0",
          "thal = 2",
          "thal = 3",
          "oldpeak",
          "thalach"
         ]
        }
       ],
       "layout": {
        "margin": {
         "b": 0,
         "t": 40
        },
        "plot_bgcolor": "white",
        "template": {
         "data": {
          "bar": [
           {
            "error_x": {
             "color": "#2a3f5f"
            },
            "error_y": {
             "color": "#2a3f5f"
            },
            "marker": {
             "line": {
              "color": "#E5ECF6",
              "width": 0.5
             }
            },
            "type": "bar"
           }
          ],
          "barpolar": [
           {
            "marker": {
             "line": {
              "color": "#E5ECF6",
              "width": 0.5
             }
            },
            "type": "barpolar"
           }
          ],
          "carpet": [
           {
            "aaxis": {
             "endlinecolor": "#2a3f5f",
             "gridcolor": "white",
             "linecolor": "white",
             "minorgridcolor": "white",
             "startlinecolor": "#2a3f5f"
            },
            "baxis": {
             "endlinecolor": "#2a3f5f",
             "gridcolor": "white",
             "linecolor": "white",
             "minorgridcolor": "white",
             "startlinecolor": "#2a3f5f"
            },
            "type": "carpet"
           }
          ],
          "choropleth": [
           {
            "colorbar": {
             "outlinewidth": 0,
             "ticks": ""
            },
            "type": "choropleth"
           }
          ],
          "contour": [
           {
            "colorbar": {
             "outlinewidth": 0,
             "ticks": ""
            },
            "colorscale": [
             [
              0,
              "#0d0887"
             ],
             [
              0.1111111111111111,
              "#46039f"
             ],
             [
              0.2222222222222222,
              "#7201a8"
             ],
             [
              0.3333333333333333,
              "#9c179e"
             ],
             [
              0.4444444444444444,
              "#bd3786"
             ],
             [
              0.5555555555555556,
              "#d8576b"
             ],
             [
              0.6666666666666666,
              "#ed7953"
             ],
             [
              0.7777777777777778,
              "#fb9f3a"
             ],
             [
              0.8888888888888888,
              "#fdca26"
             ],
             [
              1,
              "#f0f921"
             ]
            ],
            "type": "contour"
           }
          ],
          "contourcarpet": [
           {
            "colorbar": {
             "outlinewidth": 0,
             "ticks": ""
            },
            "type": "contourcarpet"
           }
          ],
          "heatmap": [
           {
            "colorbar": {
             "outlinewidth": 0,
             "ticks": ""
            },
            "colorscale": [
             [
              0,
              "#0d0887"
             ],
             [
              0.1111111111111111,
              "#46039f"
             ],
             [
              0.2222222222222222,
              "#7201a8"
             ],
             [
              0.3333333333333333,
              "#9c179e"
             ],
             [
              0.4444444444444444,
              "#bd3786"
             ],
             [
              0.5555555555555556,
              "#d8576b"
             ],
             [
              0.6666666666666666,
              "#ed7953"
             ],
             [
              0.7777777777777778,
              "#fb9f3a"
             ],
             [
              0.8888888888888888,
              "#fdca26"
             ],
             [
              1,
              "#f0f921"
             ]
            ],
            "type": "heatmap"
           }
          ],
          "heatmapgl": [
           {
            "colorbar": {
             "outlinewidth": 0,
             "ticks": ""
            },
            "colorscale": [
             [
              0,
              "#0d0887"
             ],
             [
              0.1111111111111111,
              "#46039f"
             ],
             [
              0.2222222222222222,
              "#7201a8"
             ],
             [
              0.3333333333333333,
              "#9c179e"
             ],
             [
              0.4444444444444444,
              "#bd3786"
             ],
             [
              0.5555555555555556,
              "#d8576b"
             ],
             [
              0.6666666666666666,
              "#ed7953"
             ],
             [
              0.7777777777777778,
              "#fb9f3a"
             ],
             [
              0.8888888888888888,
              "#fdca26"
             ],
             [
              1,
              "#f0f921"
             ]
            ],
            "type": "heatmapgl"
           }
          ],
          "histogram": [
           {
            "marker": {
             "colorbar": {
              "outlinewidth": 0,
              "ticks": ""
             }
            },
            "type": "histogram"
           }
          ],
          "histogram2d": [
           {
            "colorbar": {
             "outlinewidth": 0,
             "ticks": ""
            },
            "colorscale": [
             [
              0,
              "#0d0887"
             ],
             [
              0.1111111111111111,
              "#46039f"
             ],
             [
              0.2222222222222222,
              "#7201a8"
             ],
             [
              0.3333333333333333,
              "#9c179e"
             ],
             [
              0.4444444444444444,
              "#bd3786"
             ],
             [
              0.5555555555555556,
              "#d8576b"
             ],
             [
              0.6666666666666666,
              "#ed7953"
             ],
             [
              0.7777777777777778,
              "#fb9f3a"
             ],
             [
              0.8888888888888888,
              "#fdca26"
             ],
             [
              1,
              "#f0f921"
             ]
            ],
            "type": "histogram2d"
           }
          ],
          "histogram2dcontour": [
           {
            "colorbar": {
             "outlinewidth": 0,
             "ticks": ""
            },
            "colorscale": [
             [
              0,
              "#0d0887"
             ],
             [
              0.1111111111111111,
              "#46039f"
             ],
             [
              0.2222222222222222,
              "#7201a8"
             ],
             [
              0.3333333333333333,
              "#9c179e"
             ],
             [
              0.4444444444444444,
              "#bd3786"
             ],
             [
              0.5555555555555556,
              "#d8576b"
             ],
             [
              0.6666666666666666,
              "#ed7953"
             ],
             [
              0.7777777777777778,
              "#fb9f3a"
             ],
             [
              0.8888888888888888,
              "#fdca26"
             ],
             [
              1,
              "#f0f921"
             ]
            ],
            "type": "histogram2dcontour"
           }
          ],
          "mesh3d": [
           {
            "colorbar": {
             "outlinewidth": 0,
             "ticks": ""
            },
            "type": "mesh3d"
           }
          ],
          "parcoords": [
           {
            "line": {
             "colorbar": {
              "outlinewidth": 0,
              "ticks": ""
             }
            },
            "type": "parcoords"
           }
          ],
          "scatter": [
           {
            "marker": {
             "colorbar": {
              "outlinewidth": 0,
              "ticks": ""
             }
            },
            "type": "scatter"
           }
          ],
          "scatter3d": [
           {
            "line": {
             "colorbar": {
              "outlinewidth": 0,
              "ticks": ""
             }
            },
            "marker": {
             "colorbar": {
              "outlinewidth": 0,
              "ticks": ""
             }
            },
            "type": "scatter3d"
           }
          ],
          "scattercarpet": [
           {
            "marker": {
             "colorbar": {
              "outlinewidth": 0,
              "ticks": ""
             }
            },
            "type": "scattercarpet"
           }
          ],
          "scattergeo": [
           {
            "marker": {
             "colorbar": {
              "outlinewidth": 0,
              "ticks": ""
             }
            },
            "type": "scattergeo"
           }
          ],
          "scattergl": [
           {
            "marker": {
             "colorbar": {
              "outlinewidth": 0,
              "ticks": ""
             }
            },
            "type": "scattergl"
           }
          ],
          "scattermapbox": [
           {
            "marker": {
             "colorbar": {
              "outlinewidth": 0,
              "ticks": ""
             }
            },
            "type": "scattermapbox"
           }
          ],
          "scatterpolar": [
           {
            "marker": {
             "colorbar": {
              "outlinewidth": 0,
              "ticks": ""
             }
            },
            "type": "scatterpolar"
           }
          ],
          "scatterpolargl": [
           {
            "marker": {
             "colorbar": {
              "outlinewidth": 0,
              "ticks": ""
             }
            },
            "type": "scatterpolargl"
           }
          ],
          "scatterternary": [
           {
            "marker": {
             "colorbar": {
              "outlinewidth": 0,
              "ticks": ""
             }
            },
            "type": "scatterternary"
           }
          ],
          "surface": [
           {
            "colorbar": {
             "outlinewidth": 0,
             "ticks": ""
            },
            "colorscale": [
             [
              0,
              "#0d0887"
             ],
             [
              0.1111111111111111,
              "#46039f"
             ],
             [
              0.2222222222222222,
              "#7201a8"
             ],
             [
              0.3333333333333333,
              "#9c179e"
             ],
             [
              0.4444444444444444,
              "#bd3786"
             ],
             [
              0.5555555555555556,
              "#d8576b"
             ],
             [
              0.6666666666666666,
              "#ed7953"
             ],
             [
              0.7777777777777778,
              "#fb9f3a"
             ],
             [
              0.8888888888888888,
              "#fdca26"
             ],
             [
              1,
              "#f0f921"
             ]
            ],
            "type": "surface"
           }
          ],
          "table": [
           {
            "cells": {
             "fill": {
              "color": "#EBF0F8"
             },
             "line": {
              "color": "white"
             }
            },
            "header": {
             "fill": {
              "color": "#C8D4E3"
             },
             "line": {
              "color": "white"
             }
            },
            "type": "table"
           }
          ]
         },
         "layout": {
          "annotationdefaults": {
           "arrowcolor": "#2a3f5f",
           "arrowhead": 0,
           "arrowwidth": 1
          },
          "colorscale": {
           "diverging": [
            [
             0,
             "#8e0152"
            ],
            [
             0.1,
             "#c51b7d"
            ],
            [
             0.2,
             "#de77ae"
            ],
            [
             0.3,
             "#f1b6da"
            ],
            [
             0.4,
             "#fde0ef"
            ],
            [
             0.5,
             "#f7f7f7"
            ],
            [
             0.6,
             "#e6f5d0"
            ],
            [
             0.7,
             "#b8e186"
            ],
            [
             0.8,
             "#7fbc41"
            ],
            [
             0.9,
             "#4d9221"
            ],
            [
             1,
             "#276419"
            ]
           ],
           "sequential": [
            [
             0,
             "#0d0887"
            ],
            [
             0.1111111111111111,
             "#46039f"
            ],
            [
             0.2222222222222222,
             "#7201a8"
            ],
            [
             0.3333333333333333,
             "#9c179e"
            ],
            [
             0.4444444444444444,
             "#bd3786"
            ],
            [
             0.5555555555555556,
             "#d8576b"
            ],
            [
             0.6666666666666666,
             "#ed7953"
            ],
            [
             0.7777777777777778,
             "#fb9f3a"
            ],
            [
             0.8888888888888888,
             "#fdca26"
            ],
            [
             1,
             "#f0f921"
            ]
           ],
           "sequentialminus": [
            [
             0,
             "#0d0887"
            ],
            [
             0.1111111111111111,
             "#46039f"
            ],
            [
             0.2222222222222222,
             "#7201a8"
            ],
            [
             0.3333333333333333,
             "#9c179e"
            ],
            [
             0.4444444444444444,
             "#bd3786"
            ],
            [
             0.5555555555555556,
             "#d8576b"
            ],
            [
             0.6666666666666666,
             "#ed7953"
            ],
            [
             0.7777777777777778,
             "#fb9f3a"
            ],
            [
             0.8888888888888888,
             "#fdca26"
            ],
            [
             1,
             "#f0f921"
            ]
           ]
          },
          "colorway": [
           "#636efa",
           "#EF553B",
           "#00cc96",
           "#ab63fa",
           "#FFA15A",
           "#19d3f3",
           "#FF6692",
           "#B6E880",
           "#FF97FF",
           "#FECB52"
          ],
          "font": {
           "color": "#2a3f5f"
          },
          "geo": {
           "bgcolor": "white",
           "lakecolor": "white",
           "landcolor": "#E5ECF6",
           "showlakes": true,
           "showland": true,
           "subunitcolor": "white"
          },
          "hoverlabel": {
           "align": "left"
          },
          "hovermode": "closest",
          "mapbox": {
           "style": "light"
          },
          "paper_bgcolor": "white",
          "plot_bgcolor": "#E5ECF6",
          "polar": {
           "angularaxis": {
            "gridcolor": "white",
            "linecolor": "white",
            "ticks": ""
           },
           "bgcolor": "#E5ECF6",
           "radialaxis": {
            "gridcolor": "white",
            "linecolor": "white",
            "ticks": ""
           }
          },
          "scene": {
           "xaxis": {
            "backgroundcolor": "#E5ECF6",
            "gridcolor": "white",
            "gridwidth": 2,
            "linecolor": "white",
            "showbackground": true,
            "ticks": "",
            "zerolinecolor": "white"
           },
           "yaxis": {
            "backgroundcolor": "#E5ECF6",
            "gridcolor": "white",
            "gridwidth": 2,
            "linecolor": "white",
            "showbackground": true,
            "ticks": "",
            "zerolinecolor": "white"
           },
           "zaxis": {
            "backgroundcolor": "#E5ECF6",
            "gridcolor": "white",
            "gridwidth": 2,
            "linecolor": "white",
            "showbackground": true,
            "ticks": "",
            "zerolinecolor": "white"
           }
          },
          "shapedefaults": {
           "line": {
            "color": "#2a3f5f"
           }
          },
          "ternary": {
           "aaxis": {
            "gridcolor": "white",
            "linecolor": "white",
            "ticks": ""
           },
           "baxis": {
            "gridcolor": "white",
            "linecolor": "white",
            "ticks": ""
           },
           "bgcolor": "#E5ECF6",
           "caxis": {
            "gridcolor": "white",
            "linecolor": "white",
            "ticks": ""
           }
          },
          "title": {
           "x": 0.05
          },
          "xaxis": {
           "automargin": true,
           "gridcolor": "white",
           "linecolor": "white",
           "ticks": "",
           "zerolinecolor": "white",
           "zerolinewidth": 2
          },
          "yaxis": {
           "automargin": true,
           "gridcolor": "white",
           "linecolor": "white",
           "ticks": "",
           "zerolinecolor": "white",
           "zerolinewidth": 2
          }
         }
        },
        "xaxis": {
         "fixedrange": true,
         "gridcolor": "#eee",
         "linecolor": "black",
         "range": [
          0,
          1
         ],
         "showline": true,
         "side": "top",
         "title": {
          "text": "Importance"
         },
         "zeroline": false
        },
        "yaxis": {
         "automargin": true,
         "fixedrange": true,
         "linecolor": "black",
         "showline": true,
         "zeroline": false
        }
       }
      },
      "text/html": [
       "<div>\n",
       "        \n",
       "        \n",
       "            <div id=\"2bf5ca38-bd48-419e-8876-aee89f436a86\" class=\"plotly-graph-div\" style=\"height:525px; width:100%;\"></div>\n",
       "            <script type=\"text/javascript\">\n",
       "                require([\"plotly\"], function(Plotly) {\n",
       "                    window.PLOTLYENV=window.PLOTLYENV || {};\n",
       "                    \n",
       "                if (document.getElementById(\"2bf5ca38-bd48-419e-8876-aee89f436a86\")) {\n",
       "                    Plotly.newPlot(\n",
       "                        '2bf5ca38-bd48-419e-8876-aee89f436a86',\n",
       "                        [{\"hoverinfo\": \"x\", \"orientation\": \"h\", \"type\": \"bar\", \"x\": [0.14665291441395606, 0.1585441215255305, 0.1591417624198404, 0.16568704608430096, 0.16827090305068118, 0.17168283308889093, 0.18256498750291494, 0.18747557680236424, 0.19763062032723255, 0.24569649825780876], \"y\": [\"exang = 1\", \"slope = 2\", \"trestbps\", \"slope = 0\", \"cp = 1\", \"cp = 0\", \"thal = 2\", \"thal = 3\", \"oldpeak\", \"thalach\"]}],\n",
       "                        {\"margin\": {\"b\": 0, \"t\": 40}, \"plot_bgcolor\": \"white\", \"template\": {\"data\": {\"bar\": [{\"error_x\": {\"color\": \"#2a3f5f\"}, \"error_y\": {\"color\": \"#2a3f5f\"}, \"marker\": {\"line\": {\"color\": \"#E5ECF6\", \"width\": 0.5}}, \"type\": \"bar\"}], \"barpolar\": [{\"marker\": {\"line\": {\"color\": \"#E5ECF6\", \"width\": 0.5}}, \"type\": \"barpolar\"}], \"carpet\": [{\"aaxis\": {\"endlinecolor\": \"#2a3f5f\", \"gridcolor\": \"white\", \"linecolor\": \"white\", \"minorgridcolor\": \"white\", \"startlinecolor\": \"#2a3f5f\"}, \"baxis\": {\"endlinecolor\": \"#2a3f5f\", \"gridcolor\": \"white\", \"linecolor\": \"white\", \"minorgridcolor\": \"white\", \"startlinecolor\": \"#2a3f5f\"}, \"type\": \"carpet\"}], \"choropleth\": [{\"colorbar\": {\"outlinewidth\": 0, \"ticks\": \"\"}, \"type\": \"choropleth\"}], \"contour\": [{\"colorbar\": {\"outlinewidth\": 0, \"ticks\": \"\"}, \"colorscale\": [[0.0, \"#0d0887\"], [0.1111111111111111, \"#46039f\"], [0.2222222222222222, \"#7201a8\"], [0.3333333333333333, \"#9c179e\"], [0.4444444444444444, \"#bd3786\"], [0.5555555555555556, \"#d8576b\"], [0.6666666666666666, \"#ed7953\"], [0.7777777777777778, \"#fb9f3a\"], [0.8888888888888888, \"#fdca26\"], [1.0, \"#f0f921\"]], \"type\": \"contour\"}], \"contourcarpet\": [{\"colorbar\": {\"outlinewidth\": 0, \"ticks\": \"\"}, \"type\": \"contourcarpet\"}], \"heatmap\": [{\"colorbar\": {\"outlinewidth\": 0, \"ticks\": \"\"}, \"colorscale\": [[0.0, \"#0d0887\"], [0.1111111111111111, \"#46039f\"], [0.2222222222222222, \"#7201a8\"], [0.3333333333333333, \"#9c179e\"], [0.4444444444444444, \"#bd3786\"], [0.5555555555555556, \"#d8576b\"], [0.6666666666666666, \"#ed7953\"], [0.7777777777777778, \"#fb9f3a\"], [0.8888888888888888, \"#fdca26\"], [1.0, \"#f0f921\"]], \"type\": \"heatmap\"}], \"heatmapgl\": [{\"colorbar\": {\"outlinewidth\": 0, \"ticks\": \"\"}, \"colorscale\": [[0.0, \"#0d0887\"], [0.1111111111111111, \"#46039f\"], [0.2222222222222222, \"#7201a8\"], [0.3333333333333333, \"#9c179e\"], [0.4444444444444444, \"#bd3786\"], [0.5555555555555556, \"#d8576b\"], [0.6666666666666666, \"#ed7953\"], [0.7777777777777778, \"#fb9f3a\"], [0.8888888888888888, \"#fdca26\"], [1.0, \"#f0f921\"]], \"type\": \"heatmapgl\"}], \"histogram\": [{\"marker\": {\"colorbar\": {\"outlinewidth\": 0, \"ticks\": \"\"}}, \"type\": \"histogram\"}], \"histogram2d\": [{\"colorbar\": {\"outlinewidth\": 0, \"ticks\": \"\"}, \"colorscale\": [[0.0, \"#0d0887\"], [0.1111111111111111, \"#46039f\"], [0.2222222222222222, \"#7201a8\"], [0.3333333333333333, \"#9c179e\"], [0.4444444444444444, \"#bd3786\"], [0.5555555555555556, \"#d8576b\"], [0.6666666666666666, \"#ed7953\"], [0.7777777777777778, \"#fb9f3a\"], [0.8888888888888888, \"#fdca26\"], [1.0, \"#f0f921\"]], \"type\": \"histogram2d\"}], \"histogram2dcontour\": [{\"colorbar\": {\"outlinewidth\": 0, \"ticks\": \"\"}, \"colorscale\": [[0.0, \"#0d0887\"], [0.1111111111111111, \"#46039f\"], [0.2222222222222222, \"#7201a8\"], [0.3333333333333333, \"#9c179e\"], [0.4444444444444444, \"#bd3786\"], [0.5555555555555556, \"#d8576b\"], [0.6666666666666666, \"#ed7953\"], [0.7777777777777778, \"#fb9f3a\"], [0.8888888888888888, \"#fdca26\"], [1.0, \"#f0f921\"]], \"type\": \"histogram2dcontour\"}], \"mesh3d\": [{\"colorbar\": {\"outlinewidth\": 0, \"ticks\": \"\"}, \"type\": \"mesh3d\"}], \"parcoords\": [{\"line\": {\"colorbar\": {\"outlinewidth\": 0, \"ticks\": \"\"}}, \"type\": \"parcoords\"}], \"scatter\": [{\"marker\": {\"colorbar\": {\"outlinewidth\": 0, \"ticks\": \"\"}}, \"type\": \"scatter\"}], \"scatter3d\": [{\"line\": {\"colorbar\": {\"outlinewidth\": 0, \"ticks\": \"\"}}, \"marker\": {\"colorbar\": {\"outlinewidth\": 0, \"ticks\": \"\"}}, \"type\": \"scatter3d\"}], \"scattercarpet\": [{\"marker\": {\"colorbar\": {\"outlinewidth\": 0, \"ticks\": \"\"}}, \"type\": \"scattercarpet\"}], \"scattergeo\": [{\"marker\": {\"colorbar\": {\"outlinewidth\": 0, \"ticks\": \"\"}}, \"type\": \"scattergeo\"}], \"scattergl\": [{\"marker\": {\"colorbar\": {\"outlinewidth\": 0, \"ticks\": \"\"}}, \"type\": \"scattergl\"}], \"scattermapbox\": [{\"marker\": {\"colorbar\": {\"outlinewidth\": 0, \"ticks\": \"\"}}, \"type\": \"scattermapbox\"}], \"scatterpolar\": [{\"marker\": {\"colorbar\": {\"outlinewidth\": 0, \"ticks\": \"\"}}, \"type\": \"scatterpolar\"}], \"scatterpolargl\": [{\"marker\": {\"colorbar\": {\"outlinewidth\": 0, \"ticks\": \"\"}}, \"type\": \"scatterpolargl\"}], \"scatterternary\": [{\"marker\": {\"colorbar\": {\"outlinewidth\": 0, \"ticks\": \"\"}}, \"type\": \"scatterternary\"}], \"surface\": [{\"colorbar\": {\"outlinewidth\": 0, \"ticks\": \"\"}, \"colorscale\": [[0.0, \"#0d0887\"], [0.1111111111111111, \"#46039f\"], [0.2222222222222222, \"#7201a8\"], [0.3333333333333333, \"#9c179e\"], [0.4444444444444444, \"#bd3786\"], [0.5555555555555556, \"#d8576b\"], [0.6666666666666666, \"#ed7953\"], [0.7777777777777778, \"#fb9f3a\"], [0.8888888888888888, \"#fdca26\"], [1.0, \"#f0f921\"]], \"type\": \"surface\"}], \"table\": [{\"cells\": {\"fill\": {\"color\": \"#EBF0F8\"}, \"line\": {\"color\": \"white\"}}, \"header\": {\"fill\": {\"color\": \"#C8D4E3\"}, \"line\": {\"color\": \"white\"}}, \"type\": \"table\"}]}, \"layout\": {\"annotationdefaults\": {\"arrowcolor\": \"#2a3f5f\", \"arrowhead\": 0, \"arrowwidth\": 1}, \"colorscale\": {\"diverging\": [[0, \"#8e0152\"], [0.1, \"#c51b7d\"], [0.2, \"#de77ae\"], [0.3, \"#f1b6da\"], [0.4, \"#fde0ef\"], [0.5, \"#f7f7f7\"], [0.6, \"#e6f5d0\"], [0.7, \"#b8e186\"], [0.8, \"#7fbc41\"], [0.9, \"#4d9221\"], [1, \"#276419\"]], \"sequential\": [[0.0, \"#0d0887\"], [0.1111111111111111, \"#46039f\"], [0.2222222222222222, \"#7201a8\"], [0.3333333333333333, \"#9c179e\"], [0.4444444444444444, \"#bd3786\"], [0.5555555555555556, \"#d8576b\"], [0.6666666666666666, \"#ed7953\"], [0.7777777777777778, \"#fb9f3a\"], [0.8888888888888888, \"#fdca26\"], [1.0, \"#f0f921\"]], \"sequentialminus\": [[0.0, \"#0d0887\"], [0.1111111111111111, \"#46039f\"], [0.2222222222222222, \"#7201a8\"], [0.3333333333333333, \"#9c179e\"], [0.4444444444444444, \"#bd3786\"], [0.5555555555555556, \"#d8576b\"], [0.6666666666666666, \"#ed7953\"], [0.7777777777777778, \"#fb9f3a\"], [0.8888888888888888, \"#fdca26\"], [1.0, \"#f0f921\"]]}, \"colorway\": [\"#636efa\", \"#EF553B\", \"#00cc96\", \"#ab63fa\", \"#FFA15A\", \"#19d3f3\", \"#FF6692\", \"#B6E880\", \"#FF97FF\", \"#FECB52\"], \"font\": {\"color\": \"#2a3f5f\"}, \"geo\": {\"bgcolor\": \"white\", \"lakecolor\": \"white\", \"landcolor\": \"#E5ECF6\", \"showlakes\": true, \"showland\": true, \"subunitcolor\": \"white\"}, \"hoverlabel\": {\"align\": \"left\"}, \"hovermode\": \"closest\", \"mapbox\": {\"style\": \"light\"}, \"paper_bgcolor\": \"white\", \"plot_bgcolor\": \"#E5ECF6\", \"polar\": {\"angularaxis\": {\"gridcolor\": \"white\", \"linecolor\": \"white\", \"ticks\": \"\"}, \"bgcolor\": \"#E5ECF6\", \"radialaxis\": {\"gridcolor\": \"white\", \"linecolor\": \"white\", \"ticks\": \"\"}}, \"scene\": {\"xaxis\": {\"backgroundcolor\": \"#E5ECF6\", \"gridcolor\": \"white\", \"gridwidth\": 2, \"linecolor\": \"white\", \"showbackground\": true, \"ticks\": \"\", \"zerolinecolor\": \"white\"}, \"yaxis\": {\"backgroundcolor\": \"#E5ECF6\", \"gridcolor\": \"white\", \"gridwidth\": 2, \"linecolor\": \"white\", \"showbackground\": true, \"ticks\": \"\", \"zerolinecolor\": \"white\"}, \"zaxis\": {\"backgroundcolor\": \"#E5ECF6\", \"gridcolor\": \"white\", \"gridwidth\": 2, \"linecolor\": \"white\", \"showbackground\": true, \"ticks\": \"\", \"zerolinecolor\": \"white\"}}, \"shapedefaults\": {\"line\": {\"color\": \"#2a3f5f\"}}, \"ternary\": {\"aaxis\": {\"gridcolor\": \"white\", \"linecolor\": \"white\", \"ticks\": \"\"}, \"baxis\": {\"gridcolor\": \"white\", \"linecolor\": \"white\", \"ticks\": \"\"}, \"bgcolor\": \"#E5ECF6\", \"caxis\": {\"gridcolor\": \"white\", \"linecolor\": \"white\", \"ticks\": \"\"}}, \"title\": {\"x\": 0.05}, \"xaxis\": {\"automargin\": true, \"gridcolor\": \"white\", \"linecolor\": \"white\", \"ticks\": \"\", \"zerolinecolor\": \"white\", \"zerolinewidth\": 2}, \"yaxis\": {\"automargin\": true, \"gridcolor\": \"white\", \"linecolor\": \"white\", \"ticks\": \"\", \"zerolinecolor\": \"white\", \"zerolinewidth\": 2}}}, \"xaxis\": {\"fixedrange\": true, \"gridcolor\": \"#eee\", \"linecolor\": \"black\", \"range\": [0, 1], \"showline\": true, \"side\": \"top\", \"title\": {\"text\": \"Importance\"}, \"zeroline\": false}, \"yaxis\": {\"automargin\": true, \"fixedrange\": true, \"linecolor\": \"black\", \"showline\": true, \"zeroline\": false}},\n",
       "                        {\"responsive\": true}\n",
       "                    ).then(function(){\n",
       "                            \n",
       "var gd = document.getElementById('2bf5ca38-bd48-419e-8876-aee89f436a86');\n",
       "var x = new MutationObserver(function (mutations, observer) {{\n",
       "        var display = window.getComputedStyle(gd).display;\n",
       "        if (!display || display === 'none') {{\n",
       "            console.log([gd, 'removed!']);\n",
       "            Plotly.purge(gd);\n",
       "            observer.disconnect();\n",
       "        }}\n",
       "}});\n",
       "\n",
       "// Listen for the removal of the full notebook cells\n",
       "var notebookContainer = gd.closest('#notebook-container');\n",
       "if (notebookContainer) {{\n",
       "    x.observe(notebookContainer, {childList: true});\n",
       "}}\n",
       "\n",
       "// Listen for the clearing of the current output cell\n",
       "var outputEl = gd.closest('.output');\n",
       "if (outputEl) {{\n",
       "    x.observe(outputEl, {childList: true});\n",
       "}}\n",
       "\n",
       "                        })\n",
       "                };\n",
       "                });\n",
       "            </script>\n",
       "        </div>"
      ]
     },
     "metadata": {},
     "output_type": "display_data"
    }
   ],
   "source": [
    "explainer = ethik.ClassificationExplainer()\n",
    "explainer.plot_bias_ranking(\n",
    "    X_test=X_test,\n",
    "    y_pred=y_pred,\n",
    "    n_features=10,\n",
    ")"
   ]
  },
  {
   "cell_type": "markdown",
   "metadata": {},
   "source": [
    "The maximum heart rate achieved is the most impactful feature on the probability of having diabetes. Let's have a look at the details:"
   ]
  },
  {
   "cell_type": "code",
   "execution_count": 20,
   "metadata": {},
   "outputs": [
    {
     "name": "stderr",
     "output_type": "stream",
     "text": [
      "100%|██████████| 41/41 [00:00<00:00, 1173.46it/s]\n"
     ]
    },
    {
     "data": {
      "application/vnd.plotly.v1+json": {
       "config": {
        "plotlyServerURL": "https://plot.ly"
       },
       "data": [
        {
         "hoverinfo": "x+y",
         "mode": "lines+markers",
         "showlegend": false,
         "type": "scatter",
         "x": [
          109.5,
          111.49736842105264,
          113.49473684210525,
          115.4921052631579,
          117.48947368421052,
          119.48684210526315,
          121.48421052631579,
          123.48157894736842,
          125.47894736842105,
          127.47631578947369,
          129.4736842105263,
          131.47105263157894,
          133.46842105263158,
          135.4657894736842,
          137.46315789473684,
          139.46052631578948,
          141.4578947368421,
          143.45526315789473,
          145.45263157894738,
          147.45,
          149.44736842105263,
          151.1875,
          152.92763157894737,
          154.66776315789474,
          156.4078947368421,
          158.14802631578948,
          159.88815789473685,
          161.62828947368422,
          163.3684210526316,
          165.10855263157896,
          166.8486842105263,
          168.5888157894737,
          170.32894736842104,
          172.0690789473684,
          173.80921052631578,
          175.54934210526315,
          177.28947368421052,
          179.0296052631579,
          180.76973684210526,
          182.50986842105263,
          184.25
         ],
         "y": [
          0.27516530680403245,
          0.2751454330852669,
          0.2762070836198347,
          0.27835990337290994,
          0.28161462655617403,
          0.28598282090901594,
          0.29147661270965614,
          0.29810838415245605,
          0.30589043478277217,
          0.3148345986115871,
          0.32495180838017534,
          0.33625159823869577,
          0.3487415358467566,
          0.3624265745553584,
          0.377308315798898,
          0.39338417095912936,
          0.41064641053583284,
          0.42908108620064866,
          0.4486668079217977,
          0.46937335432292543,
          0.49116008775304715,
          0.5109805328129337,
          0.5315372343855146,
          0.5527770832955525,
          0.5746362770033784,
          0.5970389204744878,
          0.6198955675186086,
          0.6431017924593483,
          0.6665369347169116,
          0.6900632165406951,
          0.7135254807780931,
          0.7367518057123799,
          0.7595552351136072,
          0.7817367985625396,
          0.803090025039785,
          0.8234074438899908,
          0.8424905679452107,
          0.8601674039535907,
          0.8763273925753625,
          0.8909962668025172,
          0.9044965587488959
         ]
        },
        {
         "hoverinfo": "text",
         "marker": {
          "size": 9,
          "symbol": "x"
         },
         "mode": "markers",
         "name": "Original mean",
         "showlegend": false,
         "text": [
          "Dataset mean"
         ],
         "type": "scatter",
         "x": [
          149.44736842105263
         ],
         "y": [
          0.49116008775304715
         ]
        }
       ],
       "layout": {
        "margin": {
         "r": 50,
         "t": 50
        },
        "plot_bgcolor": "white",
        "template": {
         "data": {
          "bar": [
           {
            "error_x": {
             "color": "#2a3f5f"
            },
            "error_y": {
             "color": "#2a3f5f"
            },
            "marker": {
             "line": {
              "color": "#E5ECF6",
              "width": 0.5
             }
            },
            "type": "bar"
           }
          ],
          "barpolar": [
           {
            "marker": {
             "line": {
              "color": "#E5ECF6",
              "width": 0.5
             }
            },
            "type": "barpolar"
           }
          ],
          "carpet": [
           {
            "aaxis": {
             "endlinecolor": "#2a3f5f",
             "gridcolor": "white",
             "linecolor": "white",
             "minorgridcolor": "white",
             "startlinecolor": "#2a3f5f"
            },
            "baxis": {
             "endlinecolor": "#2a3f5f",
             "gridcolor": "white",
             "linecolor": "white",
             "minorgridcolor": "white",
             "startlinecolor": "#2a3f5f"
            },
            "type": "carpet"
           }
          ],
          "choropleth": [
           {
            "colorbar": {
             "outlinewidth": 0,
             "ticks": ""
            },
            "type": "choropleth"
           }
          ],
          "contour": [
           {
            "colorbar": {
             "outlinewidth": 0,
             "ticks": ""
            },
            "colorscale": [
             [
              0,
              "#0d0887"
             ],
             [
              0.1111111111111111,
              "#46039f"
             ],
             [
              0.2222222222222222,
              "#7201a8"
             ],
             [
              0.3333333333333333,
              "#9c179e"
             ],
             [
              0.4444444444444444,
              "#bd3786"
             ],
             [
              0.5555555555555556,
              "#d8576b"
             ],
             [
              0.6666666666666666,
              "#ed7953"
             ],
             [
              0.7777777777777778,
              "#fb9f3a"
             ],
             [
              0.8888888888888888,
              "#fdca26"
             ],
             [
              1,
              "#f0f921"
             ]
            ],
            "type": "contour"
           }
          ],
          "contourcarpet": [
           {
            "colorbar": {
             "outlinewidth": 0,
             "ticks": ""
            },
            "type": "contourcarpet"
           }
          ],
          "heatmap": [
           {
            "colorbar": {
             "outlinewidth": 0,
             "ticks": ""
            },
            "colorscale": [
             [
              0,
              "#0d0887"
             ],
             [
              0.1111111111111111,
              "#46039f"
             ],
             [
              0.2222222222222222,
              "#7201a8"
             ],
             [
              0.3333333333333333,
              "#9c179e"
             ],
             [
              0.4444444444444444,
              "#bd3786"
             ],
             [
              0.5555555555555556,
              "#d8576b"
             ],
             [
              0.6666666666666666,
              "#ed7953"
             ],
             [
              0.7777777777777778,
              "#fb9f3a"
             ],
             [
              0.8888888888888888,
              "#fdca26"
             ],
             [
              1,
              "#f0f921"
             ]
            ],
            "type": "heatmap"
           }
          ],
          "heatmapgl": [
           {
            "colorbar": {
             "outlinewidth": 0,
             "ticks": ""
            },
            "colorscale": [
             [
              0,
              "#0d0887"
             ],
             [
              0.1111111111111111,
              "#46039f"
             ],
             [
              0.2222222222222222,
              "#7201a8"
             ],
             [
              0.3333333333333333,
              "#9c179e"
             ],
             [
              0.4444444444444444,
              "#bd3786"
             ],
             [
              0.5555555555555556,
              "#d8576b"
             ],
             [
              0.6666666666666666,
              "#ed7953"
             ],
             [
              0.7777777777777778,
              "#fb9f3a"
             ],
             [
              0.8888888888888888,
              "#fdca26"
             ],
             [
              1,
              "#f0f921"
             ]
            ],
            "type": "heatmapgl"
           }
          ],
          "histogram": [
           {
            "marker": {
             "colorbar": {
              "outlinewidth": 0,
              "ticks": ""
             }
            },
            "type": "histogram"
           }
          ],
          "histogram2d": [
           {
            "colorbar": {
             "outlinewidth": 0,
             "ticks": ""
            },
            "colorscale": [
             [
              0,
              "#0d0887"
             ],
             [
              0.1111111111111111,
              "#46039f"
             ],
             [
              0.2222222222222222,
              "#7201a8"
             ],
             [
              0.3333333333333333,
              "#9c179e"
             ],
             [
              0.4444444444444444,
              "#bd3786"
             ],
             [
              0.5555555555555556,
              "#d8576b"
             ],
             [
              0.6666666666666666,
              "#ed7953"
             ],
             [
              0.7777777777777778,
              "#fb9f3a"
             ],
             [
              0.8888888888888888,
              "#fdca26"
             ],
             [
              1,
              "#f0f921"
             ]
            ],
            "type": "histogram2d"
           }
          ],
          "histogram2dcontour": [
           {
            "colorbar": {
             "outlinewidth": 0,
             "ticks": ""
            },
            "colorscale": [
             [
              0,
              "#0d0887"
             ],
             [
              0.1111111111111111,
              "#46039f"
             ],
             [
              0.2222222222222222,
              "#7201a8"
             ],
             [
              0.3333333333333333,
              "#9c179e"
             ],
             [
              0.4444444444444444,
              "#bd3786"
             ],
             [
              0.5555555555555556,
              "#d8576b"
             ],
             [
              0.6666666666666666,
              "#ed7953"
             ],
             [
              0.7777777777777778,
              "#fb9f3a"
             ],
             [
              0.8888888888888888,
              "#fdca26"
             ],
             [
              1,
              "#f0f921"
             ]
            ],
            "type": "histogram2dcontour"
           }
          ],
          "mesh3d": [
           {
            "colorbar": {
             "outlinewidth": 0,
             "ticks": ""
            },
            "type": "mesh3d"
           }
          ],
          "parcoords": [
           {
            "line": {
             "colorbar": {
              "outlinewidth": 0,
              "ticks": ""
             }
            },
            "type": "parcoords"
           }
          ],
          "scatter": [
           {
            "marker": {
             "colorbar": {
              "outlinewidth": 0,
              "ticks": ""
             }
            },
            "type": "scatter"
           }
          ],
          "scatter3d": [
           {
            "line": {
             "colorbar": {
              "outlinewidth": 0,
              "ticks": ""
             }
            },
            "marker": {
             "colorbar": {
              "outlinewidth": 0,
              "ticks": ""
             }
            },
            "type": "scatter3d"
           }
          ],
          "scattercarpet": [
           {
            "marker": {
             "colorbar": {
              "outlinewidth": 0,
              "ticks": ""
             }
            },
            "type": "scattercarpet"
           }
          ],
          "scattergeo": [
           {
            "marker": {
             "colorbar": {
              "outlinewidth": 0,
              "ticks": ""
             }
            },
            "type": "scattergeo"
           }
          ],
          "scattergl": [
           {
            "marker": {
             "colorbar": {
              "outlinewidth": 0,
              "ticks": ""
             }
            },
            "type": "scattergl"
           }
          ],
          "scattermapbox": [
           {
            "marker": {
             "colorbar": {
              "outlinewidth": 0,
              "ticks": ""
             }
            },
            "type": "scattermapbox"
           }
          ],
          "scatterpolar": [
           {
            "marker": {
             "colorbar": {
              "outlinewidth": 0,
              "ticks": ""
             }
            },
            "type": "scatterpolar"
           }
          ],
          "scatterpolargl": [
           {
            "marker": {
             "colorbar": {
              "outlinewidth": 0,
              "ticks": ""
             }
            },
            "type": "scatterpolargl"
           }
          ],
          "scatterternary": [
           {
            "marker": {
             "colorbar": {
              "outlinewidth": 0,
              "ticks": ""
             }
            },
            "type": "scatterternary"
           }
          ],
          "surface": [
           {
            "colorbar": {
             "outlinewidth": 0,
             "ticks": ""
            },
            "colorscale": [
             [
              0,
              "#0d0887"
             ],
             [
              0.1111111111111111,
              "#46039f"
             ],
             [
              0.2222222222222222,
              "#7201a8"
             ],
             [
              0.3333333333333333,
              "#9c179e"
             ],
             [
              0.4444444444444444,
              "#bd3786"
             ],
             [
              0.5555555555555556,
              "#d8576b"
             ],
             [
              0.6666666666666666,
              "#ed7953"
             ],
             [
              0.7777777777777778,
              "#fb9f3a"
             ],
             [
              0.8888888888888888,
              "#fdca26"
             ],
             [
              1,
              "#f0f921"
             ]
            ],
            "type": "surface"
           }
          ],
          "table": [
           {
            "cells": {
             "fill": {
              "color": "#EBF0F8"
             },
             "line": {
              "color": "white"
             }
            },
            "header": {
             "fill": {
              "color": "#C8D4E3"
             },
             "line": {
              "color": "white"
             }
            },
            "type": "table"
           }
          ]
         },
         "layout": {
          "annotationdefaults": {
           "arrowcolor": "#2a3f5f",
           "arrowhead": 0,
           "arrowwidth": 1
          },
          "colorscale": {
           "diverging": [
            [
             0,
             "#8e0152"
            ],
            [
             0.1,
             "#c51b7d"
            ],
            [
             0.2,
             "#de77ae"
            ],
            [
             0.3,
             "#f1b6da"
            ],
            [
             0.4,
             "#fde0ef"
            ],
            [
             0.5,
             "#f7f7f7"
            ],
            [
             0.6,
             "#e6f5d0"
            ],
            [
             0.7,
             "#b8e186"
            ],
            [
             0.8,
             "#7fbc41"
            ],
            [
             0.9,
             "#4d9221"
            ],
            [
             1,
             "#276419"
            ]
           ],
           "sequential": [
            [
             0,
             "#0d0887"
            ],
            [
             0.1111111111111111,
             "#46039f"
            ],
            [
             0.2222222222222222,
             "#7201a8"
            ],
            [
             0.3333333333333333,
             "#9c179e"
            ],
            [
             0.4444444444444444,
             "#bd3786"
            ],
            [
             0.5555555555555556,
             "#d8576b"
            ],
            [
             0.6666666666666666,
             "#ed7953"
            ],
            [
             0.7777777777777778,
             "#fb9f3a"
            ],
            [
             0.8888888888888888,
             "#fdca26"
            ],
            [
             1,
             "#f0f921"
            ]
           ],
           "sequentialminus": [
            [
             0,
             "#0d0887"
            ],
            [
             0.1111111111111111,
             "#46039f"
            ],
            [
             0.2222222222222222,
             "#7201a8"
            ],
            [
             0.3333333333333333,
             "#9c179e"
            ],
            [
             0.4444444444444444,
             "#bd3786"
            ],
            [
             0.5555555555555556,
             "#d8576b"
            ],
            [
             0.6666666666666666,
             "#ed7953"
            ],
            [
             0.7777777777777778,
             "#fb9f3a"
            ],
            [
             0.8888888888888888,
             "#fdca26"
            ],
            [
             1,
             "#f0f921"
            ]
           ]
          },
          "colorway": [
           "#636efa",
           "#EF553B",
           "#00cc96",
           "#ab63fa",
           "#FFA15A",
           "#19d3f3",
           "#FF6692",
           "#B6E880",
           "#FF97FF",
           "#FECB52"
          ],
          "font": {
           "color": "#2a3f5f"
          },
          "geo": {
           "bgcolor": "white",
           "lakecolor": "white",
           "landcolor": "#E5ECF6",
           "showlakes": true,
           "showland": true,
           "subunitcolor": "white"
          },
          "hoverlabel": {
           "align": "left"
          },
          "hovermode": "closest",
          "mapbox": {
           "style": "light"
          },
          "paper_bgcolor": "white",
          "plot_bgcolor": "#E5ECF6",
          "polar": {
           "angularaxis": {
            "gridcolor": "white",
            "linecolor": "white",
            "ticks": ""
           },
           "bgcolor": "#E5ECF6",
           "radialaxis": {
            "gridcolor": "white",
            "linecolor": "white",
            "ticks": ""
           }
          },
          "scene": {
           "xaxis": {
            "backgroundcolor": "#E5ECF6",
            "gridcolor": "white",
            "gridwidth": 2,
            "linecolor": "white",
            "showbackground": true,
            "ticks": "",
            "zerolinecolor": "white"
           },
           "yaxis": {
            "backgroundcolor": "#E5ECF6",
            "gridcolor": "white",
            "gridwidth": 2,
            "linecolor": "white",
            "showbackground": true,
            "ticks": "",
            "zerolinecolor": "white"
           },
           "zaxis": {
            "backgroundcolor": "#E5ECF6",
            "gridcolor": "white",
            "gridwidth": 2,
            "linecolor": "white",
            "showbackground": true,
            "ticks": "",
            "zerolinecolor": "white"
           }
          },
          "shapedefaults": {
           "line": {
            "color": "#2a3f5f"
           }
          },
          "ternary": {
           "aaxis": {
            "gridcolor": "white",
            "linecolor": "white",
            "ticks": ""
           },
           "baxis": {
            "gridcolor": "white",
            "linecolor": "white",
            "ticks": ""
           },
           "bgcolor": "#E5ECF6",
           "caxis": {
            "gridcolor": "white",
            "linecolor": "white",
            "ticks": ""
           }
          },
          "title": {
           "x": 0.05
          },
          "xaxis": {
           "automargin": true,
           "gridcolor": "white",
           "linecolor": "white",
           "ticks": "",
           "zerolinecolor": "white",
           "zerolinewidth": 2
          },
          "yaxis": {
           "automargin": true,
           "gridcolor": "white",
           "linecolor": "white",
           "ticks": "",
           "zerolinecolor": "white",
           "zerolinewidth": 2
          }
         }
        },
        "xaxis": {
         "gridcolor": "#eee",
         "linecolor": "black",
         "showgrid": true,
         "showline": true,
         "title": {
          "text": "Average thalach"
         },
         "zeroline": false
        },
        "yaxis": {
         "gridcolor": "#eee",
         "linecolor": "black",
         "range": [
          0,
          1
         ],
         "showgrid": true,
         "showline": true,
         "title": {
          "text": "Average \"has_heart_disease\""
         }
        }
       }
      },
      "text/html": [
       "<div>\n",
       "        \n",
       "        \n",
       "            <div id=\"05062152-07d6-4fe4-a793-0c536bb97295\" class=\"plotly-graph-div\" style=\"height:525px; width:100%;\"></div>\n",
       "            <script type=\"text/javascript\">\n",
       "                require([\"plotly\"], function(Plotly) {\n",
       "                    window.PLOTLYENV=window.PLOTLYENV || {};\n",
       "                    \n",
       "                if (document.getElementById(\"05062152-07d6-4fe4-a793-0c536bb97295\")) {\n",
       "                    Plotly.newPlot(\n",
       "                        '05062152-07d6-4fe4-a793-0c536bb97295',\n",
       "                        [{\"hoverinfo\": \"x+y\", \"mode\": \"lines+markers\", \"showlegend\": false, \"type\": \"scatter\", \"x\": [109.5, 111.49736842105264, 113.49473684210525, 115.4921052631579, 117.48947368421052, 119.48684210526315, 121.48421052631579, 123.48157894736842, 125.47894736842105, 127.47631578947369, 129.4736842105263, 131.47105263157894, 133.46842105263158, 135.4657894736842, 137.46315789473684, 139.46052631578948, 141.4578947368421, 143.45526315789473, 145.45263157894738, 147.45, 149.44736842105263, 151.1875, 152.92763157894737, 154.66776315789474, 156.4078947368421, 158.14802631578948, 159.88815789473685, 161.62828947368422, 163.3684210526316, 165.10855263157896, 166.8486842105263, 168.5888157894737, 170.32894736842104, 172.0690789473684, 173.80921052631578, 175.54934210526315, 177.28947368421052, 179.0296052631579, 180.76973684210526, 182.50986842105263, 184.25], \"y\": [0.27516530680403245, 0.2751454330852669, 0.2762070836198347, 0.27835990337290994, 0.28161462655617403, 0.28598282090901594, 0.29147661270965614, 0.29810838415245605, 0.30589043478277217, 0.3148345986115871, 0.32495180838017534, 0.33625159823869577, 0.3487415358467566, 0.3624265745553584, 0.377308315798898, 0.39338417095912936, 0.41064641053583284, 0.42908108620064866, 0.4486668079217977, 0.46937335432292543, 0.49116008775304715, 0.5109805328129337, 0.5315372343855146, 0.5527770832955525, 0.5746362770033784, 0.5970389204744878, 0.6198955675186086, 0.6431017924593483, 0.6665369347169116, 0.6900632165406951, 0.7135254807780931, 0.7367518057123799, 0.7595552351136072, 0.7817367985625396, 0.803090025039785, 0.8234074438899908, 0.8424905679452107, 0.8601674039535907, 0.8763273925753625, 0.8909962668025172, 0.9044965587488959]}, {\"hoverinfo\": \"text\", \"marker\": {\"size\": 9, \"symbol\": \"x\"}, \"mode\": \"markers\", \"name\": \"Original mean\", \"showlegend\": false, \"text\": [\"Dataset mean\"], \"type\": \"scatter\", \"x\": [149.44736842105263], \"y\": [0.49116008775304715]}],\n",
       "                        {\"margin\": {\"r\": 50, \"t\": 50}, \"plot_bgcolor\": \"white\", \"template\": {\"data\": {\"bar\": [{\"error_x\": {\"color\": \"#2a3f5f\"}, \"error_y\": {\"color\": \"#2a3f5f\"}, \"marker\": {\"line\": {\"color\": \"#E5ECF6\", \"width\": 0.5}}, \"type\": \"bar\"}], \"barpolar\": [{\"marker\": {\"line\": {\"color\": \"#E5ECF6\", \"width\": 0.5}}, \"type\": \"barpolar\"}], \"carpet\": [{\"aaxis\": {\"endlinecolor\": \"#2a3f5f\", \"gridcolor\": \"white\", \"linecolor\": \"white\", \"minorgridcolor\": \"white\", \"startlinecolor\": \"#2a3f5f\"}, \"baxis\": {\"endlinecolor\": \"#2a3f5f\", \"gridcolor\": \"white\", \"linecolor\": \"white\", \"minorgridcolor\": \"white\", \"startlinecolor\": \"#2a3f5f\"}, \"type\": \"carpet\"}], \"choropleth\": [{\"colorbar\": {\"outlinewidth\": 0, \"ticks\": \"\"}, \"type\": \"choropleth\"}], \"contour\": [{\"colorbar\": {\"outlinewidth\": 0, \"ticks\": \"\"}, \"colorscale\": [[0.0, \"#0d0887\"], [0.1111111111111111, \"#46039f\"], [0.2222222222222222, \"#7201a8\"], [0.3333333333333333, \"#9c179e\"], [0.4444444444444444, \"#bd3786\"], [0.5555555555555556, \"#d8576b\"], [0.6666666666666666, \"#ed7953\"], [0.7777777777777778, \"#fb9f3a\"], [0.8888888888888888, \"#fdca26\"], [1.0, \"#f0f921\"]], \"type\": \"contour\"}], \"contourcarpet\": [{\"colorbar\": {\"outlinewidth\": 0, \"ticks\": \"\"}, \"type\": \"contourcarpet\"}], \"heatmap\": [{\"colorbar\": {\"outlinewidth\": 0, \"ticks\": \"\"}, \"colorscale\": [[0.0, \"#0d0887\"], [0.1111111111111111, \"#46039f\"], [0.2222222222222222, \"#7201a8\"], [0.3333333333333333, \"#9c179e\"], [0.4444444444444444, \"#bd3786\"], [0.5555555555555556, \"#d8576b\"], [0.6666666666666666, \"#ed7953\"], [0.7777777777777778, \"#fb9f3a\"], [0.8888888888888888, \"#fdca26\"], [1.0, \"#f0f921\"]], \"type\": \"heatmap\"}], \"heatmapgl\": [{\"colorbar\": {\"outlinewidth\": 0, \"ticks\": \"\"}, \"colorscale\": [[0.0, \"#0d0887\"], [0.1111111111111111, \"#46039f\"], [0.2222222222222222, \"#7201a8\"], [0.3333333333333333, \"#9c179e\"], [0.4444444444444444, \"#bd3786\"], [0.5555555555555556, \"#d8576b\"], [0.6666666666666666, \"#ed7953\"], [0.7777777777777778, \"#fb9f3a\"], [0.8888888888888888, \"#fdca26\"], [1.0, \"#f0f921\"]], \"type\": \"heatmapgl\"}], \"histogram\": [{\"marker\": {\"colorbar\": {\"outlinewidth\": 0, \"ticks\": \"\"}}, \"type\": \"histogram\"}], \"histogram2d\": [{\"colorbar\": {\"outlinewidth\": 0, \"ticks\": \"\"}, \"colorscale\": [[0.0, \"#0d0887\"], [0.1111111111111111, \"#46039f\"], [0.2222222222222222, \"#7201a8\"], [0.3333333333333333, \"#9c179e\"], [0.4444444444444444, \"#bd3786\"], [0.5555555555555556, \"#d8576b\"], [0.6666666666666666, \"#ed7953\"], [0.7777777777777778, \"#fb9f3a\"], [0.8888888888888888, \"#fdca26\"], [1.0, \"#f0f921\"]], \"type\": \"histogram2d\"}], \"histogram2dcontour\": [{\"colorbar\": {\"outlinewidth\": 0, \"ticks\": \"\"}, \"colorscale\": [[0.0, \"#0d0887\"], [0.1111111111111111, \"#46039f\"], [0.2222222222222222, \"#7201a8\"], [0.3333333333333333, \"#9c179e\"], [0.4444444444444444, \"#bd3786\"], [0.5555555555555556, \"#d8576b\"], [0.6666666666666666, \"#ed7953\"], [0.7777777777777778, \"#fb9f3a\"], [0.8888888888888888, \"#fdca26\"], [1.0, \"#f0f921\"]], \"type\": \"histogram2dcontour\"}], \"mesh3d\": [{\"colorbar\": {\"outlinewidth\": 0, \"ticks\": \"\"}, \"type\": \"mesh3d\"}], \"parcoords\": [{\"line\": {\"colorbar\": {\"outlinewidth\": 0, \"ticks\": \"\"}}, \"type\": \"parcoords\"}], \"scatter\": [{\"marker\": {\"colorbar\": {\"outlinewidth\": 0, \"ticks\": \"\"}}, \"type\": \"scatter\"}], \"scatter3d\": [{\"line\": {\"colorbar\": {\"outlinewidth\": 0, \"ticks\": \"\"}}, \"marker\": {\"colorbar\": {\"outlinewidth\": 0, \"ticks\": \"\"}}, \"type\": \"scatter3d\"}], \"scattercarpet\": [{\"marker\": {\"colorbar\": {\"outlinewidth\": 0, \"ticks\": \"\"}}, \"type\": \"scattercarpet\"}], \"scattergeo\": [{\"marker\": {\"colorbar\": {\"outlinewidth\": 0, \"ticks\": \"\"}}, \"type\": \"scattergeo\"}], \"scattergl\": [{\"marker\": {\"colorbar\": {\"outlinewidth\": 0, \"ticks\": \"\"}}, \"type\": \"scattergl\"}], \"scattermapbox\": [{\"marker\": {\"colorbar\": {\"outlinewidth\": 0, \"ticks\": \"\"}}, \"type\": \"scattermapbox\"}], \"scatterpolar\": [{\"marker\": {\"colorbar\": {\"outlinewidth\": 0, \"ticks\": \"\"}}, \"type\": \"scatterpolar\"}], \"scatterpolargl\": [{\"marker\": {\"colorbar\": {\"outlinewidth\": 0, \"ticks\": \"\"}}, \"type\": \"scatterpolargl\"}], \"scatterternary\": [{\"marker\": {\"colorbar\": {\"outlinewidth\": 0, \"ticks\": \"\"}}, \"type\": \"scatterternary\"}], \"surface\": [{\"colorbar\": {\"outlinewidth\": 0, \"ticks\": \"\"}, \"colorscale\": [[0.0, \"#0d0887\"], [0.1111111111111111, \"#46039f\"], [0.2222222222222222, \"#7201a8\"], [0.3333333333333333, \"#9c179e\"], [0.4444444444444444, \"#bd3786\"], [0.5555555555555556, \"#d8576b\"], [0.6666666666666666, \"#ed7953\"], [0.7777777777777778, \"#fb9f3a\"], [0.8888888888888888, \"#fdca26\"], [1.0, \"#f0f921\"]], \"type\": \"surface\"}], \"table\": [{\"cells\": {\"fill\": {\"color\": \"#EBF0F8\"}, \"line\": {\"color\": \"white\"}}, \"header\": {\"fill\": {\"color\": \"#C8D4E3\"}, \"line\": {\"color\": \"white\"}}, \"type\": \"table\"}]}, \"layout\": {\"annotationdefaults\": {\"arrowcolor\": \"#2a3f5f\", \"arrowhead\": 0, \"arrowwidth\": 1}, \"colorscale\": {\"diverging\": [[0, \"#8e0152\"], [0.1, \"#c51b7d\"], [0.2, \"#de77ae\"], [0.3, \"#f1b6da\"], [0.4, \"#fde0ef\"], [0.5, \"#f7f7f7\"], [0.6, \"#e6f5d0\"], [0.7, \"#b8e186\"], [0.8, \"#7fbc41\"], [0.9, \"#4d9221\"], [1, \"#276419\"]], \"sequential\": [[0.0, \"#0d0887\"], [0.1111111111111111, \"#46039f\"], [0.2222222222222222, \"#7201a8\"], [0.3333333333333333, \"#9c179e\"], [0.4444444444444444, \"#bd3786\"], [0.5555555555555556, \"#d8576b\"], [0.6666666666666666, \"#ed7953\"], [0.7777777777777778, \"#fb9f3a\"], [0.8888888888888888, \"#fdca26\"], [1.0, \"#f0f921\"]], \"sequentialminus\": [[0.0, \"#0d0887\"], [0.1111111111111111, \"#46039f\"], [0.2222222222222222, \"#7201a8\"], [0.3333333333333333, \"#9c179e\"], [0.4444444444444444, \"#bd3786\"], [0.5555555555555556, \"#d8576b\"], [0.6666666666666666, \"#ed7953\"], [0.7777777777777778, \"#fb9f3a\"], [0.8888888888888888, \"#fdca26\"], [1.0, \"#f0f921\"]]}, \"colorway\": [\"#636efa\", \"#EF553B\", \"#00cc96\", \"#ab63fa\", \"#FFA15A\", \"#19d3f3\", \"#FF6692\", \"#B6E880\", \"#FF97FF\", \"#FECB52\"], \"font\": {\"color\": \"#2a3f5f\"}, \"geo\": {\"bgcolor\": \"white\", \"lakecolor\": \"white\", \"landcolor\": \"#E5ECF6\", \"showlakes\": true, \"showland\": true, \"subunitcolor\": \"white\"}, \"hoverlabel\": {\"align\": \"left\"}, \"hovermode\": \"closest\", \"mapbox\": {\"style\": \"light\"}, \"paper_bgcolor\": \"white\", \"plot_bgcolor\": \"#E5ECF6\", \"polar\": {\"angularaxis\": {\"gridcolor\": \"white\", \"linecolor\": \"white\", \"ticks\": \"\"}, \"bgcolor\": \"#E5ECF6\", \"radialaxis\": {\"gridcolor\": \"white\", \"linecolor\": \"white\", \"ticks\": \"\"}}, \"scene\": {\"xaxis\": {\"backgroundcolor\": \"#E5ECF6\", \"gridcolor\": \"white\", \"gridwidth\": 2, \"linecolor\": \"white\", \"showbackground\": true, \"ticks\": \"\", \"zerolinecolor\": \"white\"}, \"yaxis\": {\"backgroundcolor\": \"#E5ECF6\", \"gridcolor\": \"white\", \"gridwidth\": 2, \"linecolor\": \"white\", \"showbackground\": true, \"ticks\": \"\", \"zerolinecolor\": \"white\"}, \"zaxis\": {\"backgroundcolor\": \"#E5ECF6\", \"gridcolor\": \"white\", \"gridwidth\": 2, \"linecolor\": \"white\", \"showbackground\": true, \"ticks\": \"\", \"zerolinecolor\": \"white\"}}, \"shapedefaults\": {\"line\": {\"color\": \"#2a3f5f\"}}, \"ternary\": {\"aaxis\": {\"gridcolor\": \"white\", \"linecolor\": \"white\", \"ticks\": \"\"}, \"baxis\": {\"gridcolor\": \"white\", \"linecolor\": \"white\", \"ticks\": \"\"}, \"bgcolor\": \"#E5ECF6\", \"caxis\": {\"gridcolor\": \"white\", \"linecolor\": \"white\", \"ticks\": \"\"}}, \"title\": {\"x\": 0.05}, \"xaxis\": {\"automargin\": true, \"gridcolor\": \"white\", \"linecolor\": \"white\", \"ticks\": \"\", \"zerolinecolor\": \"white\", \"zerolinewidth\": 2}, \"yaxis\": {\"automargin\": true, \"gridcolor\": \"white\", \"linecolor\": \"white\", \"ticks\": \"\", \"zerolinecolor\": \"white\", \"zerolinewidth\": 2}}}, \"xaxis\": {\"gridcolor\": \"#eee\", \"linecolor\": \"black\", \"showgrid\": true, \"showline\": true, \"title\": {\"text\": \"Average thalach\"}, \"zeroline\": false}, \"yaxis\": {\"gridcolor\": \"#eee\", \"linecolor\": \"black\", \"range\": [0, 1], \"showgrid\": true, \"showline\": true, \"title\": {\"text\": \"Average \\\"has_heart_disease\\\"\"}}},\n",
       "                        {\"responsive\": true}\n",
       "                    ).then(function(){\n",
       "                            \n",
       "var gd = document.getElementById('05062152-07d6-4fe4-a793-0c536bb97295');\n",
       "var x = new MutationObserver(function (mutations, observer) {{\n",
       "        var display = window.getComputedStyle(gd).display;\n",
       "        if (!display || display === 'none') {{\n",
       "            console.log([gd, 'removed!']);\n",
       "            Plotly.purge(gd);\n",
       "            observer.disconnect();\n",
       "        }}\n",
       "}});\n",
       "\n",
       "// Listen for the removal of the full notebook cells\n",
       "var notebookContainer = gd.closest('#notebook-container');\n",
       "if (notebookContainer) {{\n",
       "    x.observe(notebookContainer, {childList: true});\n",
       "}}\n",
       "\n",
       "// Listen for the clearing of the current output cell\n",
       "var outputEl = gd.closest('.output');\n",
       "if (outputEl) {{\n",
       "    x.observe(outputEl, {childList: true});\n",
       "}}\n",
       "\n",
       "                        })\n",
       "                };\n",
       "                });\n",
       "            </script>\n",
       "        </div>"
      ]
     },
     "metadata": {},
     "output_type": "display_data"
    }
   ],
   "source": [
    "explainer.plot_bias(\n",
    "    X_test=X_test[\"thalach\"],\n",
    "    y_pred=y_pred,\n",
    ")"
   ]
  },
  {
   "cell_type": "code",
   "execution_count": 21,
   "metadata": {},
   "outputs": [
    {
     "name": "stderr",
     "output_type": "stream",
     "text": [
      "100%|██████████| 41/41 [00:00<00:00, 1168.21it/s]\n"
     ]
    },
    {
     "data": {
      "application/vnd.plotly.v1+json": {
       "config": {
        "plotlyServerURL": "https://plot.ly"
       },
       "data": [
        {
         "hoverinfo": "x+y",
         "mode": "lines+markers",
         "showlegend": false,
         "type": "scatter",
         "x": [
          0,
          0.053749999999999964,
          0.10749999999999993,
          0.16125,
          0.21499999999999997,
          0.26875000000000004,
          0.3225,
          0.37625,
          0.43000000000000005,
          0.4837499999999999,
          0.5375,
          0.5912499999999999,
          0.645,
          0.69875,
          0.7525,
          0.8062499999999999,
          0.86,
          0.91375,
          0.9674999999999999,
          1.02125,
          1.075,
          1.20125,
          1.3275000000000001,
          1.4537499999999999,
          1.58,
          1.70625,
          1.8325,
          1.95875,
          2.085,
          2.21125,
          2.3375000000000004,
          2.46375,
          2.59,
          2.7162500000000005,
          2.8425000000000002,
          2.96875,
          3.0950000000000006,
          3.2212500000000004,
          3.3475,
          3.47375,
          3.6000000000000005
         ],
         "y": [
          0.7511342069719862,
          0.7130984332957234,
          0.6958941132795838,
          0.6811164489800933,
          0.6674732904228249,
          0.6545123240118663,
          0.6420219917041515,
          0.6298888320714293,
          0.618045762068463,
          0.6064520104380929,
          0.5950796173320938,
          0.5839103594714531,
          0.5729313893668172,
          0.5621333704624276,
          0.5515092646382053,
          0.5410534474597546,
          0.5307616491143387,
          0.5206297317852485,
          0.5106542736839758,
          0.5008320735818427,
          0.49116008775304715,
          0.4690163023361578,
          0.4476481384521396,
          0.4270196377631411,
          0.40709562043031006,
          0.3878421611164102,
          0.3692268520286603,
          0.3512191057178543,
          0.3337903420134747,
          0.3169140822265177,
          0.3005659629541478,
          0.28472369681452864,
          0.2693670179147161,
          0.2544775984067362,
          0.24003894289524721,
          0.22603629720983132,
          0.21245655519300302,
          0.19928817612851749,
          0.1865211099172709,
          0.17414673471609757,
          0.1621578109673432
         ]
        },
        {
         "hoverinfo": "text",
         "marker": {
          "size": 9,
          "symbol": "x"
         },
         "mode": "markers",
         "name": "Original mean",
         "showlegend": false,
         "text": [
          "Dataset mean"
         ],
         "type": "scatter",
         "x": [
          1.075
         ],
         "y": [
          0.49116008775304715
         ]
        }
       ],
       "layout": {
        "margin": {
         "r": 50,
         "t": 50
        },
        "plot_bgcolor": "white",
        "template": {
         "data": {
          "bar": [
           {
            "error_x": {
             "color": "#2a3f5f"
            },
            "error_y": {
             "color": "#2a3f5f"
            },
            "marker": {
             "line": {
              "color": "#E5ECF6",
              "width": 0.5
             }
            },
            "type": "bar"
           }
          ],
          "barpolar": [
           {
            "marker": {
             "line": {
              "color": "#E5ECF6",
              "width": 0.5
             }
            },
            "type": "barpolar"
           }
          ],
          "carpet": [
           {
            "aaxis": {
             "endlinecolor": "#2a3f5f",
             "gridcolor": "white",
             "linecolor": "white",
             "minorgridcolor": "white",
             "startlinecolor": "#2a3f5f"
            },
            "baxis": {
             "endlinecolor": "#2a3f5f",
             "gridcolor": "white",
             "linecolor": "white",
             "minorgridcolor": "white",
             "startlinecolor": "#2a3f5f"
            },
            "type": "carpet"
           }
          ],
          "choropleth": [
           {
            "colorbar": {
             "outlinewidth": 0,
             "ticks": ""
            },
            "type": "choropleth"
           }
          ],
          "contour": [
           {
            "colorbar": {
             "outlinewidth": 0,
             "ticks": ""
            },
            "colorscale": [
             [
              0,
              "#0d0887"
             ],
             [
              0.1111111111111111,
              "#46039f"
             ],
             [
              0.2222222222222222,
              "#7201a8"
             ],
             [
              0.3333333333333333,
              "#9c179e"
             ],
             [
              0.4444444444444444,
              "#bd3786"
             ],
             [
              0.5555555555555556,
              "#d8576b"
             ],
             [
              0.6666666666666666,
              "#ed7953"
             ],
             [
              0.7777777777777778,
              "#fb9f3a"
             ],
             [
              0.8888888888888888,
              "#fdca26"
             ],
             [
              1,
              "#f0f921"
             ]
            ],
            "type": "contour"
           }
          ],
          "contourcarpet": [
           {
            "colorbar": {
             "outlinewidth": 0,
             "ticks": ""
            },
            "type": "contourcarpet"
           }
          ],
          "heatmap": [
           {
            "colorbar": {
             "outlinewidth": 0,
             "ticks": ""
            },
            "colorscale": [
             [
              0,
              "#0d0887"
             ],
             [
              0.1111111111111111,
              "#46039f"
             ],
             [
              0.2222222222222222,
              "#7201a8"
             ],
             [
              0.3333333333333333,
              "#9c179e"
             ],
             [
              0.4444444444444444,
              "#bd3786"
             ],
             [
              0.5555555555555556,
              "#d8576b"
             ],
             [
              0.6666666666666666,
              "#ed7953"
             ],
             [
              0.7777777777777778,
              "#fb9f3a"
             ],
             [
              0.8888888888888888,
              "#fdca26"
             ],
             [
              1,
              "#f0f921"
             ]
            ],
            "type": "heatmap"
           }
          ],
          "heatmapgl": [
           {
            "colorbar": {
             "outlinewidth": 0,
             "ticks": ""
            },
            "colorscale": [
             [
              0,
              "#0d0887"
             ],
             [
              0.1111111111111111,
              "#46039f"
             ],
             [
              0.2222222222222222,
              "#7201a8"
             ],
             [
              0.3333333333333333,
              "#9c179e"
             ],
             [
              0.4444444444444444,
              "#bd3786"
             ],
             [
              0.5555555555555556,
              "#d8576b"
             ],
             [
              0.6666666666666666,
              "#ed7953"
             ],
             [
              0.7777777777777778,
              "#fb9f3a"
             ],
             [
              0.8888888888888888,
              "#fdca26"
             ],
             [
              1,
              "#f0f921"
             ]
            ],
            "type": "heatmapgl"
           }
          ],
          "histogram": [
           {
            "marker": {
             "colorbar": {
              "outlinewidth": 0,
              "ticks": ""
             }
            },
            "type": "histogram"
           }
          ],
          "histogram2d": [
           {
            "colorbar": {
             "outlinewidth": 0,
             "ticks": ""
            },
            "colorscale": [
             [
              0,
              "#0d0887"
             ],
             [
              0.1111111111111111,
              "#46039f"
             ],
             [
              0.2222222222222222,
              "#7201a8"
             ],
             [
              0.3333333333333333,
              "#9c179e"
             ],
             [
              0.4444444444444444,
              "#bd3786"
             ],
             [
              0.5555555555555556,
              "#d8576b"
             ],
             [
              0.6666666666666666,
              "#ed7953"
             ],
             [
              0.7777777777777778,
              "#fb9f3a"
             ],
             [
              0.8888888888888888,
              "#fdca26"
             ],
             [
              1,
              "#f0f921"
             ]
            ],
            "type": "histogram2d"
           }
          ],
          "histogram2dcontour": [
           {
            "colorbar": {
             "outlinewidth": 0,
             "ticks": ""
            },
            "colorscale": [
             [
              0,
              "#0d0887"
             ],
             [
              0.1111111111111111,
              "#46039f"
             ],
             [
              0.2222222222222222,
              "#7201a8"
             ],
             [
              0.3333333333333333,
              "#9c179e"
             ],
             [
              0.4444444444444444,
              "#bd3786"
             ],
             [
              0.5555555555555556,
              "#d8576b"
             ],
             [
              0.6666666666666666,
              "#ed7953"
             ],
             [
              0.7777777777777778,
              "#fb9f3a"
             ],
             [
              0.8888888888888888,
              "#fdca26"
             ],
             [
              1,
              "#f0f921"
             ]
            ],
            "type": "histogram2dcontour"
           }
          ],
          "mesh3d": [
           {
            "colorbar": {
             "outlinewidth": 0,
             "ticks": ""
            },
            "type": "mesh3d"
           }
          ],
          "parcoords": [
           {
            "line": {
             "colorbar": {
              "outlinewidth": 0,
              "ticks": ""
             }
            },
            "type": "parcoords"
           }
          ],
          "scatter": [
           {
            "marker": {
             "colorbar": {
              "outlinewidth": 0,
              "ticks": ""
             }
            },
            "type": "scatter"
           }
          ],
          "scatter3d": [
           {
            "line": {
             "colorbar": {
              "outlinewidth": 0,
              "ticks": ""
             }
            },
            "marker": {
             "colorbar": {
              "outlinewidth": 0,
              "ticks": ""
             }
            },
            "type": "scatter3d"
           }
          ],
          "scattercarpet": [
           {
            "marker": {
             "colorbar": {
              "outlinewidth": 0,
              "ticks": ""
             }
            },
            "type": "scattercarpet"
           }
          ],
          "scattergeo": [
           {
            "marker": {
             "colorbar": {
              "outlinewidth": 0,
              "ticks": ""
             }
            },
            "type": "scattergeo"
           }
          ],
          "scattergl": [
           {
            "marker": {
             "colorbar": {
              "outlinewidth": 0,
              "ticks": ""
             }
            },
            "type": "scattergl"
           }
          ],
          "scattermapbox": [
           {
            "marker": {
             "colorbar": {
              "outlinewidth": 0,
              "ticks": ""
             }
            },
            "type": "scattermapbox"
           }
          ],
          "scatterpolar": [
           {
            "marker": {
             "colorbar": {
              "outlinewidth": 0,
              "ticks": ""
             }
            },
            "type": "scatterpolar"
           }
          ],
          "scatterpolargl": [
           {
            "marker": {
             "colorbar": {
              "outlinewidth": 0,
              "ticks": ""
             }
            },
            "type": "scatterpolargl"
           }
          ],
          "scatterternary": [
           {
            "marker": {
             "colorbar": {
              "outlinewidth": 0,
              "ticks": ""
             }
            },
            "type": "scatterternary"
           }
          ],
          "surface": [
           {
            "colorbar": {
             "outlinewidth": 0,
             "ticks": ""
            },
            "colorscale": [
             [
              0,
              "#0d0887"
             ],
             [
              0.1111111111111111,
              "#46039f"
             ],
             [
              0.2222222222222222,
              "#7201a8"
             ],
             [
              0.3333333333333333,
              "#9c179e"
             ],
             [
              0.4444444444444444,
              "#bd3786"
             ],
             [
              0.5555555555555556,
              "#d8576b"
             ],
             [
              0.6666666666666666,
              "#ed7953"
             ],
             [
              0.7777777777777778,
              "#fb9f3a"
             ],
             [
              0.8888888888888888,
              "#fdca26"
             ],
             [
              1,
              "#f0f921"
             ]
            ],
            "type": "surface"
           }
          ],
          "table": [
           {
            "cells": {
             "fill": {
              "color": "#EBF0F8"
             },
             "line": {
              "color": "white"
             }
            },
            "header": {
             "fill": {
              "color": "#C8D4E3"
             },
             "line": {
              "color": "white"
             }
            },
            "type": "table"
           }
          ]
         },
         "layout": {
          "annotationdefaults": {
           "arrowcolor": "#2a3f5f",
           "arrowhead": 0,
           "arrowwidth": 1
          },
          "colorscale": {
           "diverging": [
            [
             0,
             "#8e0152"
            ],
            [
             0.1,
             "#c51b7d"
            ],
            [
             0.2,
             "#de77ae"
            ],
            [
             0.3,
             "#f1b6da"
            ],
            [
             0.4,
             "#fde0ef"
            ],
            [
             0.5,
             "#f7f7f7"
            ],
            [
             0.6,
             "#e6f5d0"
            ],
            [
             0.7,
             "#b8e186"
            ],
            [
             0.8,
             "#7fbc41"
            ],
            [
             0.9,
             "#4d9221"
            ],
            [
             1,
             "#276419"
            ]
           ],
           "sequential": [
            [
             0,
             "#0d0887"
            ],
            [
             0.1111111111111111,
             "#46039f"
            ],
            [
             0.2222222222222222,
             "#7201a8"
            ],
            [
             0.3333333333333333,
             "#9c179e"
            ],
            [
             0.4444444444444444,
             "#bd3786"
            ],
            [
             0.5555555555555556,
             "#d8576b"
            ],
            [
             0.6666666666666666,
             "#ed7953"
            ],
            [
             0.7777777777777778,
             "#fb9f3a"
            ],
            [
             0.8888888888888888,
             "#fdca26"
            ],
            [
             1,
             "#f0f921"
            ]
           ],
           "sequentialminus": [
            [
             0,
             "#0d0887"
            ],
            [
             0.1111111111111111,
             "#46039f"
            ],
            [
             0.2222222222222222,
             "#7201a8"
            ],
            [
             0.3333333333333333,
             "#9c179e"
            ],
            [
             0.4444444444444444,
             "#bd3786"
            ],
            [
             0.5555555555555556,
             "#d8576b"
            ],
            [
             0.6666666666666666,
             "#ed7953"
            ],
            [
             0.7777777777777778,
             "#fb9f3a"
            ],
            [
             0.8888888888888888,
             "#fdca26"
            ],
            [
             1,
             "#f0f921"
            ]
           ]
          },
          "colorway": [
           "#636efa",
           "#EF553B",
           "#00cc96",
           "#ab63fa",
           "#FFA15A",
           "#19d3f3",
           "#FF6692",
           "#B6E880",
           "#FF97FF",
           "#FECB52"
          ],
          "font": {
           "color": "#2a3f5f"
          },
          "geo": {
           "bgcolor": "white",
           "lakecolor": "white",
           "landcolor": "#E5ECF6",
           "showlakes": true,
           "showland": true,
           "subunitcolor": "white"
          },
          "hoverlabel": {
           "align": "left"
          },
          "hovermode": "closest",
          "mapbox": {
           "style": "light"
          },
          "paper_bgcolor": "white",
          "plot_bgcolor": "#E5ECF6",
          "polar": {
           "angularaxis": {
            "gridcolor": "white",
            "linecolor": "white",
            "ticks": ""
           },
           "bgcolor": "#E5ECF6",
           "radialaxis": {
            "gridcolor": "white",
            "linecolor": "white",
            "ticks": ""
           }
          },
          "scene": {
           "xaxis": {
            "backgroundcolor": "#E5ECF6",
            "gridcolor": "white",
            "gridwidth": 2,
            "linecolor": "white",
            "showbackground": true,
            "ticks": "",
            "zerolinecolor": "white"
           },
           "yaxis": {
            "backgroundcolor": "#E5ECF6",
            "gridcolor": "white",
            "gridwidth": 2,
            "linecolor": "white",
            "showbackground": true,
            "ticks": "",
            "zerolinecolor": "white"
           },
           "zaxis": {
            "backgroundcolor": "#E5ECF6",
            "gridcolor": "white",
            "gridwidth": 2,
            "linecolor": "white",
            "showbackground": true,
            "ticks": "",
            "zerolinecolor": "white"
           }
          },
          "shapedefaults": {
           "line": {
            "color": "#2a3f5f"
           }
          },
          "ternary": {
           "aaxis": {
            "gridcolor": "white",
            "linecolor": "white",
            "ticks": ""
           },
           "baxis": {
            "gridcolor": "white",
            "linecolor": "white",
            "ticks": ""
           },
           "bgcolor": "#E5ECF6",
           "caxis": {
            "gridcolor": "white",
            "linecolor": "white",
            "ticks": ""
           }
          },
          "title": {
           "x": 0.05
          },
          "xaxis": {
           "automargin": true,
           "gridcolor": "white",
           "linecolor": "white",
           "ticks": "",
           "zerolinecolor": "white",
           "zerolinewidth": 2
          },
          "yaxis": {
           "automargin": true,
           "gridcolor": "white",
           "linecolor": "white",
           "ticks": "",
           "zerolinecolor": "white",
           "zerolinewidth": 2
          }
         }
        },
        "xaxis": {
         "gridcolor": "#eee",
         "linecolor": "black",
         "showgrid": true,
         "showline": true,
         "title": {
          "text": "Average oldpeak"
         },
         "zeroline": false
        },
        "yaxis": {
         "gridcolor": "#eee",
         "linecolor": "black",
         "range": [
          0,
          1
         ],
         "showgrid": true,
         "showline": true,
         "title": {
          "text": "Average \"has_heart_disease\""
         }
        }
       }
      },
      "text/html": [
       "<div>\n",
       "        \n",
       "        \n",
       "            <div id=\"e52485b8-81c5-46f7-b9c3-bb57c7a80613\" class=\"plotly-graph-div\" style=\"height:525px; width:100%;\"></div>\n",
       "            <script type=\"text/javascript\">\n",
       "                require([\"plotly\"], function(Plotly) {\n",
       "                    window.PLOTLYENV=window.PLOTLYENV || {};\n",
       "                    \n",
       "                if (document.getElementById(\"e52485b8-81c5-46f7-b9c3-bb57c7a80613\")) {\n",
       "                    Plotly.newPlot(\n",
       "                        'e52485b8-81c5-46f7-b9c3-bb57c7a80613',\n",
       "                        [{\"hoverinfo\": \"x+y\", \"mode\": \"lines+markers\", \"showlegend\": false, \"type\": \"scatter\", \"x\": [0.0, 0.053749999999999964, 0.10749999999999993, 0.16125, 0.21499999999999997, 0.26875000000000004, 0.3225, 0.37625, 0.43000000000000005, 0.4837499999999999, 0.5375, 0.5912499999999999, 0.645, 0.69875, 0.7525, 0.8062499999999999, 0.86, 0.91375, 0.9674999999999999, 1.02125, 1.075, 1.20125, 1.3275000000000001, 1.4537499999999999, 1.58, 1.70625, 1.8325, 1.95875, 2.085, 2.21125, 2.3375000000000004, 2.46375, 2.59, 2.7162500000000005, 2.8425000000000002, 2.96875, 3.0950000000000006, 3.2212500000000004, 3.3475, 3.47375, 3.6000000000000005], \"y\": [0.7511342069719862, 0.7130984332957234, 0.6958941132795838, 0.6811164489800933, 0.6674732904228249, 0.6545123240118663, 0.6420219917041515, 0.6298888320714293, 0.618045762068463, 0.6064520104380929, 0.5950796173320938, 0.5839103594714531, 0.5729313893668172, 0.5621333704624276, 0.5515092646382053, 0.5410534474597546, 0.5307616491143387, 0.5206297317852485, 0.5106542736839758, 0.5008320735818427, 0.49116008775304715, 0.4690163023361578, 0.4476481384521396, 0.4270196377631411, 0.40709562043031006, 0.3878421611164102, 0.3692268520286603, 0.3512191057178543, 0.3337903420134747, 0.3169140822265177, 0.3005659629541478, 0.28472369681452864, 0.2693670179147161, 0.2544775984067362, 0.24003894289524721, 0.22603629720983132, 0.21245655519300302, 0.19928817612851749, 0.1865211099172709, 0.17414673471609757, 0.1621578109673432]}, {\"hoverinfo\": \"text\", \"marker\": {\"size\": 9, \"symbol\": \"x\"}, \"mode\": \"markers\", \"name\": \"Original mean\", \"showlegend\": false, \"text\": [\"Dataset mean\"], \"type\": \"scatter\", \"x\": [1.075], \"y\": [0.49116008775304715]}],\n",
       "                        {\"margin\": {\"r\": 50, \"t\": 50}, \"plot_bgcolor\": \"white\", \"template\": {\"data\": {\"bar\": [{\"error_x\": {\"color\": \"#2a3f5f\"}, \"error_y\": {\"color\": \"#2a3f5f\"}, \"marker\": {\"line\": {\"color\": \"#E5ECF6\", \"width\": 0.5}}, \"type\": \"bar\"}], \"barpolar\": [{\"marker\": {\"line\": {\"color\": \"#E5ECF6\", \"width\": 0.5}}, \"type\": \"barpolar\"}], \"carpet\": [{\"aaxis\": {\"endlinecolor\": \"#2a3f5f\", \"gridcolor\": \"white\", \"linecolor\": \"white\", \"minorgridcolor\": \"white\", \"startlinecolor\": \"#2a3f5f\"}, \"baxis\": {\"endlinecolor\": \"#2a3f5f\", \"gridcolor\": \"white\", \"linecolor\": \"white\", \"minorgridcolor\": \"white\", \"startlinecolor\": \"#2a3f5f\"}, \"type\": \"carpet\"}], \"choropleth\": [{\"colorbar\": {\"outlinewidth\": 0, \"ticks\": \"\"}, \"type\": \"choropleth\"}], \"contour\": [{\"colorbar\": {\"outlinewidth\": 0, \"ticks\": \"\"}, \"colorscale\": [[0.0, \"#0d0887\"], [0.1111111111111111, \"#46039f\"], [0.2222222222222222, \"#7201a8\"], [0.3333333333333333, \"#9c179e\"], [0.4444444444444444, \"#bd3786\"], [0.5555555555555556, \"#d8576b\"], [0.6666666666666666, \"#ed7953\"], [0.7777777777777778, \"#fb9f3a\"], [0.8888888888888888, \"#fdca26\"], [1.0, \"#f0f921\"]], \"type\": \"contour\"}], \"contourcarpet\": [{\"colorbar\": {\"outlinewidth\": 0, \"ticks\": \"\"}, \"type\": \"contourcarpet\"}], \"heatmap\": [{\"colorbar\": {\"outlinewidth\": 0, \"ticks\": \"\"}, \"colorscale\": [[0.0, \"#0d0887\"], [0.1111111111111111, \"#46039f\"], [0.2222222222222222, \"#7201a8\"], [0.3333333333333333, \"#9c179e\"], [0.4444444444444444, \"#bd3786\"], [0.5555555555555556, \"#d8576b\"], [0.6666666666666666, \"#ed7953\"], [0.7777777777777778, \"#fb9f3a\"], [0.8888888888888888, \"#fdca26\"], [1.0, \"#f0f921\"]], \"type\": \"heatmap\"}], \"heatmapgl\": [{\"colorbar\": {\"outlinewidth\": 0, \"ticks\": \"\"}, \"colorscale\": [[0.0, \"#0d0887\"], [0.1111111111111111, \"#46039f\"], [0.2222222222222222, \"#7201a8\"], [0.3333333333333333, \"#9c179e\"], [0.4444444444444444, \"#bd3786\"], [0.5555555555555556, \"#d8576b\"], [0.6666666666666666, \"#ed7953\"], [0.7777777777777778, \"#fb9f3a\"], [0.8888888888888888, \"#fdca26\"], [1.0, \"#f0f921\"]], \"type\": \"heatmapgl\"}], \"histogram\": [{\"marker\": {\"colorbar\": {\"outlinewidth\": 0, \"ticks\": \"\"}}, \"type\": \"histogram\"}], \"histogram2d\": [{\"colorbar\": {\"outlinewidth\": 0, \"ticks\": \"\"}, \"colorscale\": [[0.0, \"#0d0887\"], [0.1111111111111111, \"#46039f\"], [0.2222222222222222, \"#7201a8\"], [0.3333333333333333, \"#9c179e\"], [0.4444444444444444, \"#bd3786\"], [0.5555555555555556, \"#d8576b\"], [0.6666666666666666, \"#ed7953\"], [0.7777777777777778, \"#fb9f3a\"], [0.8888888888888888, \"#fdca26\"], [1.0, \"#f0f921\"]], \"type\": \"histogram2d\"}], \"histogram2dcontour\": [{\"colorbar\": {\"outlinewidth\": 0, \"ticks\": \"\"}, \"colorscale\": [[0.0, \"#0d0887\"], [0.1111111111111111, \"#46039f\"], [0.2222222222222222, \"#7201a8\"], [0.3333333333333333, \"#9c179e\"], [0.4444444444444444, \"#bd3786\"], [0.5555555555555556, \"#d8576b\"], [0.6666666666666666, \"#ed7953\"], [0.7777777777777778, \"#fb9f3a\"], [0.8888888888888888, \"#fdca26\"], [1.0, \"#f0f921\"]], \"type\": \"histogram2dcontour\"}], \"mesh3d\": [{\"colorbar\": {\"outlinewidth\": 0, \"ticks\": \"\"}, \"type\": \"mesh3d\"}], \"parcoords\": [{\"line\": {\"colorbar\": {\"outlinewidth\": 0, \"ticks\": \"\"}}, \"type\": \"parcoords\"}], \"scatter\": [{\"marker\": {\"colorbar\": {\"outlinewidth\": 0, \"ticks\": \"\"}}, \"type\": \"scatter\"}], \"scatter3d\": [{\"line\": {\"colorbar\": {\"outlinewidth\": 0, \"ticks\": \"\"}}, \"marker\": {\"colorbar\": {\"outlinewidth\": 0, \"ticks\": \"\"}}, \"type\": \"scatter3d\"}], \"scattercarpet\": [{\"marker\": {\"colorbar\": {\"outlinewidth\": 0, \"ticks\": \"\"}}, \"type\": \"scattercarpet\"}], \"scattergeo\": [{\"marker\": {\"colorbar\": {\"outlinewidth\": 0, \"ticks\": \"\"}}, \"type\": \"scattergeo\"}], \"scattergl\": [{\"marker\": {\"colorbar\": {\"outlinewidth\": 0, \"ticks\": \"\"}}, \"type\": \"scattergl\"}], \"scattermapbox\": [{\"marker\": {\"colorbar\": {\"outlinewidth\": 0, \"ticks\": \"\"}}, \"type\": \"scattermapbox\"}], \"scatterpolar\": [{\"marker\": {\"colorbar\": {\"outlinewidth\": 0, \"ticks\": \"\"}}, \"type\": \"scatterpolar\"}], \"scatterpolargl\": [{\"marker\": {\"colorbar\": {\"outlinewidth\": 0, \"ticks\": \"\"}}, \"type\": \"scatterpolargl\"}], \"scatterternary\": [{\"marker\": {\"colorbar\": {\"outlinewidth\": 0, \"ticks\": \"\"}}, \"type\": \"scatterternary\"}], \"surface\": [{\"colorbar\": {\"outlinewidth\": 0, \"ticks\": \"\"}, \"colorscale\": [[0.0, \"#0d0887\"], [0.1111111111111111, \"#46039f\"], [0.2222222222222222, \"#7201a8\"], [0.3333333333333333, \"#9c179e\"], [0.4444444444444444, \"#bd3786\"], [0.5555555555555556, \"#d8576b\"], [0.6666666666666666, \"#ed7953\"], [0.7777777777777778, \"#fb9f3a\"], [0.8888888888888888, \"#fdca26\"], [1.0, \"#f0f921\"]], \"type\": \"surface\"}], \"table\": [{\"cells\": {\"fill\": {\"color\": \"#EBF0F8\"}, \"line\": {\"color\": \"white\"}}, \"header\": {\"fill\": {\"color\": \"#C8D4E3\"}, \"line\": {\"color\": \"white\"}}, \"type\": \"table\"}]}, \"layout\": {\"annotationdefaults\": {\"arrowcolor\": \"#2a3f5f\", \"arrowhead\": 0, \"arrowwidth\": 1}, \"colorscale\": {\"diverging\": [[0, \"#8e0152\"], [0.1, \"#c51b7d\"], [0.2, \"#de77ae\"], [0.3, \"#f1b6da\"], [0.4, \"#fde0ef\"], [0.5, \"#f7f7f7\"], [0.6, \"#e6f5d0\"], [0.7, \"#b8e186\"], [0.8, \"#7fbc41\"], [0.9, \"#4d9221\"], [1, \"#276419\"]], \"sequential\": [[0.0, \"#0d0887\"], [0.1111111111111111, \"#46039f\"], [0.2222222222222222, \"#7201a8\"], [0.3333333333333333, \"#9c179e\"], [0.4444444444444444, \"#bd3786\"], [0.5555555555555556, \"#d8576b\"], [0.6666666666666666, \"#ed7953\"], [0.7777777777777778, \"#fb9f3a\"], [0.8888888888888888, \"#fdca26\"], [1.0, \"#f0f921\"]], \"sequentialminus\": [[0.0, \"#0d0887\"], [0.1111111111111111, \"#46039f\"], [0.2222222222222222, \"#7201a8\"], [0.3333333333333333, \"#9c179e\"], [0.4444444444444444, \"#bd3786\"], [0.5555555555555556, \"#d8576b\"], [0.6666666666666666, \"#ed7953\"], [0.7777777777777778, \"#fb9f3a\"], [0.8888888888888888, \"#fdca26\"], [1.0, \"#f0f921\"]]}, \"colorway\": [\"#636efa\", \"#EF553B\", \"#00cc96\", \"#ab63fa\", \"#FFA15A\", \"#19d3f3\", \"#FF6692\", \"#B6E880\", \"#FF97FF\", \"#FECB52\"], \"font\": {\"color\": \"#2a3f5f\"}, \"geo\": {\"bgcolor\": \"white\", \"lakecolor\": \"white\", \"landcolor\": \"#E5ECF6\", \"showlakes\": true, \"showland\": true, \"subunitcolor\": \"white\"}, \"hoverlabel\": {\"align\": \"left\"}, \"hovermode\": \"closest\", \"mapbox\": {\"style\": \"light\"}, \"paper_bgcolor\": \"white\", \"plot_bgcolor\": \"#E5ECF6\", \"polar\": {\"angularaxis\": {\"gridcolor\": \"white\", \"linecolor\": \"white\", \"ticks\": \"\"}, \"bgcolor\": \"#E5ECF6\", \"radialaxis\": {\"gridcolor\": \"white\", \"linecolor\": \"white\", \"ticks\": \"\"}}, \"scene\": {\"xaxis\": {\"backgroundcolor\": \"#E5ECF6\", \"gridcolor\": \"white\", \"gridwidth\": 2, \"linecolor\": \"white\", \"showbackground\": true, \"ticks\": \"\", \"zerolinecolor\": \"white\"}, \"yaxis\": {\"backgroundcolor\": \"#E5ECF6\", \"gridcolor\": \"white\", \"gridwidth\": 2, \"linecolor\": \"white\", \"showbackground\": true, \"ticks\": \"\", \"zerolinecolor\": \"white\"}, \"zaxis\": {\"backgroundcolor\": \"#E5ECF6\", \"gridcolor\": \"white\", \"gridwidth\": 2, \"linecolor\": \"white\", \"showbackground\": true, \"ticks\": \"\", \"zerolinecolor\": \"white\"}}, \"shapedefaults\": {\"line\": {\"color\": \"#2a3f5f\"}}, \"ternary\": {\"aaxis\": {\"gridcolor\": \"white\", \"linecolor\": \"white\", \"ticks\": \"\"}, \"baxis\": {\"gridcolor\": \"white\", \"linecolor\": \"white\", \"ticks\": \"\"}, \"bgcolor\": \"#E5ECF6\", \"caxis\": {\"gridcolor\": \"white\", \"linecolor\": \"white\", \"ticks\": \"\"}}, \"title\": {\"x\": 0.05}, \"xaxis\": {\"automargin\": true, \"gridcolor\": \"white\", \"linecolor\": \"white\", \"ticks\": \"\", \"zerolinecolor\": \"white\", \"zerolinewidth\": 2}, \"yaxis\": {\"automargin\": true, \"gridcolor\": \"white\", \"linecolor\": \"white\", \"ticks\": \"\", \"zerolinecolor\": \"white\", \"zerolinewidth\": 2}}}, \"xaxis\": {\"gridcolor\": \"#eee\", \"linecolor\": \"black\", \"showgrid\": true, \"showline\": true, \"title\": {\"text\": \"Average oldpeak\"}, \"zeroline\": false}, \"yaxis\": {\"gridcolor\": \"#eee\", \"linecolor\": \"black\", \"range\": [0, 1], \"showgrid\": true, \"showline\": true, \"title\": {\"text\": \"Average \\\"has_heart_disease\\\"\"}}},\n",
       "                        {\"responsive\": true}\n",
       "                    ).then(function(){\n",
       "                            \n",
       "var gd = document.getElementById('e52485b8-81c5-46f7-b9c3-bb57c7a80613');\n",
       "var x = new MutationObserver(function (mutations, observer) {{\n",
       "        var display = window.getComputedStyle(gd).display;\n",
       "        if (!display || display === 'none') {{\n",
       "            console.log([gd, 'removed!']);\n",
       "            Plotly.purge(gd);\n",
       "            observer.disconnect();\n",
       "        }}\n",
       "}});\n",
       "\n",
       "// Listen for the removal of the full notebook cells\n",
       "var notebookContainer = gd.closest('#notebook-container');\n",
       "if (notebookContainer) {{\n",
       "    x.observe(notebookContainer, {childList: true});\n",
       "}}\n",
       "\n",
       "// Listen for the clearing of the current output cell\n",
       "var outputEl = gd.closest('.output');\n",
       "if (outputEl) {{\n",
       "    x.observe(outputEl, {childList: true});\n",
       "}}\n",
       "\n",
       "                        })\n",
       "                };\n",
       "                });\n",
       "            </script>\n",
       "        </div>"
      ]
     },
     "metadata": {},
     "output_type": "display_data"
    }
   ],
   "source": [
    "explainer.plot_bias(\n",
    "    X_test=X_test[\"oldpeak\"],\n",
    "    y_pred=y_pred,\n",
    ")"
   ]
  },
  {
   "cell_type": "code",
   "execution_count": 22,
   "metadata": {},
   "outputs": [
    {
     "name": "stderr",
     "output_type": "stream",
     "text": [
      "100%|██████████| 144/144 [00:00<00:00, 1130.84it/s]\n"
     ]
    },
    {
     "data": {
      "application/vnd.plotly.v1+json": {
       "config": {
        "plotlyServerURL": "https://plot.ly"
       },
       "data": [
        {
         "customdata": [
          [
           -1,
           0
          ],
          [
           -0.95,
           0.0006578947368421056
          ],
          [
           -0.9,
           0.0013157894736842094
          ],
          [
           -0.85,
           0.0019736842105263167
          ],
          [
           -0.8,
           0.0026315789473684206
          ],
          [
           -0.75,
           0.003289473684210526
          ],
          [
           -0.7,
           0.003947368421052632
          ],
          [
           -0.65,
           0.0046052631578947355
          ],
          [
           -0.6,
           0.005263157894736843
          ],
          [
           -0.55,
           0.005921052631578947
          ],
          [
           -0.5,
           0.006578947368421052
          ],
          [
           -0.45,
           0.007236842105263157
          ],
          [
           -0.4,
           0.007894736842105263
          ],
          [
           -0.35,
           0.008552631578947367
          ],
          [
           -0.3,
           0.009210526315789475
          ],
          [
           -0.25,
           0.009868421052631578
          ],
          [
           -0.2,
           0.010526315789473684
          ],
          [
           -0.15,
           0.01118421052631579
          ],
          [
           -0.1,
           0.011842105263157893
          ],
          [
           -0.05,
           0.012499999999999999
          ],
          [
           0,
           0.013157894736842105
          ],
          [
           0.05,
           0.013157894736842105
          ],
          [
           0.1,
           0.013157894736842105
          ],
          [
           0.15,
           0.013157894736842105
          ],
          [
           0.2,
           0.013157894736842105
          ],
          [
           0.25,
           0.013157894736842105
          ],
          [
           0.3,
           0.013157894736842105
          ],
          [
           0.35,
           0.013157894736842105
          ],
          [
           0.4,
           0.013157894736842105
          ],
          [
           0.45,
           0.013157894736842105
          ],
          [
           0.5,
           0.013157894736842105
          ],
          [
           0.55,
           0.013157894736842105
          ],
          [
           0.6,
           0.013157894736842105
          ],
          [
           0.65,
           0.013157894736842105
          ],
          [
           0.7,
           0.013157894736842105
          ],
          [
           0.75,
           0.013157894736842105
          ],
          [
           0.8,
           0.013157894736842105
          ],
          [
           0.85,
           0.013157894736842105
          ],
          [
           0.9,
           0.013157894736842105
          ],
          [
           0.95,
           0.013157894736842105
          ],
          [
           1,
           0.013157894736842105
          ]
         ],
         "hoverinfo": "y",
         "mode": "lines+markers",
         "name": "thal = 0",
         "type": "scatter",
         "x": [
          -1,
          -0.95,
          -0.9,
          -0.85,
          -0.8,
          -0.75,
          -0.7,
          -0.65,
          -0.6,
          -0.55,
          -0.5,
          -0.45,
          -0.4,
          -0.35,
          -0.3,
          -0.25,
          -0.2,
          -0.15,
          -0.1,
          -0.05,
          0,
          0.05,
          0.1,
          0.15,
          0.2,
          0.25,
          0.3,
          0.35,
          0.4,
          0.45,
          0.5,
          0.55,
          0.6,
          0.65,
          0.7,
          0.75,
          0.8,
          0.85,
          0.9,
          0.95,
          1
         ],
         "y": [
          0.4950148923102242,
          0.49486960743445685,
          0.4946883050022328,
          0.494455614996797,
          0.4942777960590277,
          0.4940922376286886,
          0.4939019535409428,
          0.4937088971763133,
          0.49351427526324054,
          0.4933188031017617,
          0.49312288838142976,
          0.4929267542137434,
          0.49271691072910406,
          0.49252634097796105,
          0.49233372590163094,
          0.49213962710343223,
          0.49194451370861647,
          0.49174876176859184,
          0.4915526559942614,
          0.4913516306124632,
          0.49116008775304715,
          0.49116008775304715,
          0.49116008775304715,
          0.49116008775304715,
          0.49116008775304715,
          0.49116008775304715,
          0.49116008775304715,
          0.49116008775304715,
          0.49116008775304715,
          0.49116008775304715,
          0.49116008775304715,
          0.49116008775304715,
          0.49116008775304715,
          0.49116008775304715,
          0.49116008775304715,
          0.49116008775304715,
          0.49116008775304715,
          0.49116008775304715,
          0.49116008775304715,
          0.49116008775304715,
          0.49116008775304715
         ]
        },
        {
         "customdata": [
          [
           -1,
           0
          ],
          [
           -0.95,
           0.0032894736842105296
          ],
          [
           -0.9,
           0.006578947368421052
          ],
          [
           -0.85,
           0.009868421052631582
          ],
          [
           -0.8,
           0.013157894736842105
          ],
          [
           -0.75,
           0.016447368421052627
          ],
          [
           -0.7,
           0.019736842105263157
          ],
          [
           -0.65,
           0.02302631578947368
          ],
          [
           -0.6,
           0.02631578947368421
          ],
          [
           -0.55,
           0.02960526315789473
          ],
          [
           -0.5,
           0.03289473684210526
          ],
          [
           -0.45,
           0.03618421052631579
          ],
          [
           -0.4,
           0.039473684210526314
          ],
          [
           -0.35,
           0.042763157894736836
          ],
          [
           -0.3,
           0.046052631578947366
          ],
          [
           -0.25,
           0.049342105263157895
          ],
          [
           -0.2,
           0.05263157894736842
          ],
          [
           -0.15,
           0.05592105263157894
          ],
          [
           -0.1,
           0.05921052631578947
          ],
          [
           -0.05,
           0.0625
          ],
          [
           0,
           0.06578947368421052
          ],
          [
           0.05,
           0.1125
          ],
          [
           0.1,
           0.15921052631578947
          ],
          [
           0.15,
           0.20592105263157895
          ],
          [
           0.2,
           0.25263157894736843
          ],
          [
           0.25,
           0.2993421052631579
          ],
          [
           0.3,
           0.34605263157894733
          ],
          [
           0.35,
           0.3927631578947368
          ],
          [
           0.4,
           0.43947368421052635
          ],
          [
           0.45,
           0.4861842105263158
          ],
          [
           0.5,
           0.5328947368421053
          ],
          [
           0.55,
           0.5796052631578947
          ],
          [
           0.6,
           0.6263157894736842
          ],
          [
           0.65,
           0.6730263157894737
          ],
          [
           0.7,
           0.7197368421052631
          ],
          [
           0.75,
           0.7664473684210527
          ],
          [
           0.8,
           0.8131578947368422
          ],
          [
           0.85,
           0.8598684210526315
          ],
          [
           0.9,
           0.906578947368421
          ],
          [
           0.95,
           0.9532894736842105
          ],
          [
           1,
           1
          ]
         ],
         "hoverinfo": "y",
         "mode": "lines+markers",
         "name": "thal = 1",
         "type": "scatter",
         "x": [
          -1,
          -0.95,
          -0.9,
          -0.85,
          -0.8,
          -0.75,
          -0.7,
          -0.65,
          -0.6,
          -0.55,
          -0.5,
          -0.45,
          -0.4,
          -0.35,
          -0.3,
          -0.25,
          -0.2,
          -0.15,
          -0.1,
          -0.05,
          0,
          0.05,
          0.1,
          0.15,
          0.2,
          0.25,
          0.3,
          0.35,
          0.4,
          0.45,
          0.5,
          0.55,
          0.6,
          0.65,
          0.7,
          0.75,
          0.8,
          0.85,
          0.9,
          0.95,
          1
         ],
         "y": [
          0.4892970082440857,
          0.48938631922586023,
          0.48947932701585006,
          0.48957323571009015,
          0.4896661944125799,
          0.48975947167872,
          0.4898528252942821,
          0.4899461966465986,
          0.49003957195147885,
          0.4901332146453453,
          0.49022643416283546,
          0.4903197424936338,
          0.49041309147228296,
          0.4905064577874072,
          0.490599830868969,
          0.49069320630440943,
          0.4907865824412045,
          0.4908800616436222,
          0.4909733548840691,
          0.49106671262122303,
          0.49116008775304715,
          0.492486031736926,
          0.4938119796946934,
          0.4951379588448834,
          0.4964638640824516,
          0.49778980917079585,
          0.48929256101817087,
          0.48929256101817087,
          0.5176789673882923,
          0.5176789673882923,
          0.5176789673882923,
          0.5176789673882923,
          0.5176789673882923,
          0.5176789673882923,
          0.48929256101817087,
          0.48929256101817087,
          0.48929256101817087,
          0.48929256101817087,
          0.48929256101817087,
          0.48929256101817087,
          0.5176789302496484
         ]
        },
        {
         "customdata": [
          [
           -1,
           0
          ],
          [
           -0.95,
           0.026315789473684237
          ],
          [
           -0.9,
           0.05263157894736842
          ],
          [
           -0.85,
           0.07894736842105265
          ],
          [
           -0.8,
           0.10526315789473684
          ],
          [
           -0.75,
           0.13157894736842102
          ],
          [
           -0.7,
           0.15789473684210525
          ],
          [
           -0.65,
           0.18421052631578944
          ],
          [
           -0.6,
           0.21052631578947367
          ],
          [
           -0.55,
           0.23684210526315785
          ],
          [
           -0.5,
           0.2631578947368421
          ],
          [
           -0.45,
           0.2894736842105263
          ],
          [
           -0.4,
           0.3157894736842105
          ],
          [
           -0.35,
           0.3421052631578947
          ],
          [
           -0.3,
           0.3684210526315789
          ],
          [
           -0.25,
           0.39473684210526316
          ],
          [
           -0.2,
           0.42105263157894735
          ],
          [
           -0.15,
           0.4473684210526315
          ],
          [
           -0.1,
           0.47368421052631576
          ],
          [
           -0.05,
           0.5
          ],
          [
           0,
           0.5263157894736842
          ],
          [
           0.05,
           0.5499999999999999
          ],
          [
           0.1,
           0.5736842105263158
          ],
          [
           0.15,
           0.5973684210526315
          ],
          [
           0.2,
           0.6210526315789473
          ],
          [
           0.25,
           0.6447368421052632
          ],
          [
           0.3,
           0.6684210526315789
          ],
          [
           0.35,
           0.6921052631578947
          ],
          [
           0.4,
           0.7157894736842105
          ],
          [
           0.45,
           0.7394736842105263
          ],
          [
           0.5,
           0.763157894736842
          ],
          [
           0.55,
           0.7868421052631579
          ],
          [
           0.6,
           0.8105263157894737
          ],
          [
           0.65,
           0.8342105263157895
          ],
          [
           0.7,
           0.8578947368421053
          ],
          [
           0.75,
           0.881578947368421
          ],
          [
           0.8,
           0.9052631578947369
          ],
          [
           0.85,
           0.9289473684210526
          ],
          [
           0.9,
           0.9526315789473685
          ],
          [
           0.95,
           0.9763157894736842
          ],
          [
           1,
           1
          ]
         ],
         "hoverinfo": "y",
         "mode": "lines+markers",
         "name": "thal = 2",
         "type": "scatter",
         "x": [
          -1,
          -0.95,
          -0.9,
          -0.85,
          -0.8,
          -0.75,
          -0.7,
          -0.65,
          -0.6,
          -0.55,
          -0.5,
          -0.45,
          -0.4,
          -0.35,
          -0.3,
          -0.25,
          -0.2,
          -0.15,
          -0.1,
          -0.05,
          0,
          0.05,
          0.1,
          0.15,
          0.2,
          0.25,
          0.3,
          0.35,
          0.4,
          0.45,
          0.5,
          0.55,
          0.6,
          0.65,
          0.7,
          0.75,
          0.8,
          0.85,
          0.9,
          0.95,
          1
         ],
         "y": [
          0.20839202124888315,
          0.222394575009929,
          0.2365369475034209,
          0.2506854740657414,
          0.26482864003204754,
          0.2789741445355684,
          0.29311985697766874,
          0.3072655865094128,
          0.32141131729712963,
          0.3355573084472105,
          0.34970282815752846,
          0.3638485175471015,
          0.3779942417020636,
          0.39213997173005016,
          0.40628570252690904,
          0.4204314333946169,
          0.43457719039744497,
          0.4487228951379932,
          0.46286862654758426,
          0.47701435688150856,
          0.49116008775304715,
          0.5038912448982412,
          0.5166223804815693,
          0.5293533456759617,
          0.5420847188899535,
          0.5548158766542725,
          0.5675470342247217,
          0.5802781903789885,
          0.5930093384443164,
          0.6057404482373165,
          0.6184714018846698,
          0.631202823379528,
          0.6439339811170632,
          0.6566651383142982,
          0.6693962896431455,
          0.682127383325668,
          0.6948579520472714,
          0.7075897696854537,
          0.7203208833733944,
          0.7330461681001268,
          0.7456366462944748
         ]
        },
        {
         "customdata": [
          [
           -1,
           0
          ],
          [
           -0.95,
           0.019736842105263164
          ],
          [
           -0.9,
           0.03947368421052633
          ],
          [
           -0.85,
           0.05921052631578949
          ],
          [
           -0.8,
           0.0789473684210526
          ],
          [
           -0.75,
           0.09868421052631582
          ],
          [
           -0.7,
           0.11842105263157898
          ],
          [
           -0.65,
           0.1381578947368421
          ],
          [
           -0.6,
           0.15789473684210528
          ],
          [
           -0.55,
           0.17763157894736842
          ],
          [
           -0.5,
           0.19736842105263158
          ],
          [
           -0.45,
           0.21710526315789475
          ],
          [
           -0.4,
           0.23684210526315788
          ],
          [
           -0.35,
           0.2565789473684211
          ],
          [
           -0.3,
           0.27631578947368424
          ],
          [
           -0.25,
           0.29605263157894735
          ],
          [
           -0.2,
           0.3157894736842105
          ],
          [
           -0.15,
           0.3355263157894737
          ],
          [
           -0.1,
           0.35526315789473684
          ],
          [
           -0.05,
           0.375
          ],
          [
           0,
           0.39473684210526316
          ],
          [
           0.05,
           0.425
          ],
          [
           0.1,
           0.45526315789473687
          ],
          [
           0.15,
           0.4855263157894737
          ],
          [
           0.2,
           0.5157894736842106
          ],
          [
           0.25,
           0.5460526315789473
          ],
          [
           0.3,
           0.5763157894736842
          ],
          [
           0.35,
           0.6065789473684211
          ],
          [
           0.4,
           0.6368421052631579
          ],
          [
           0.45,
           0.6671052631578948
          ],
          [
           0.5,
           0.6973684210526316
          ],
          [
           0.55,
           0.7276315789473684
          ],
          [
           0.6,
           0.7578947368421052
          ],
          [
           0.65,
           0.7881578947368422
          ],
          [
           0.7,
           0.8184210526315789
          ],
          [
           0.75,
           0.8486842105263158
          ],
          [
           0.8,
           0.8789473684210527
          ],
          [
           0.85,
           0.9092105263157895
          ],
          [
           0.9,
           0.9394736842105263
          ],
          [
           0.95,
           0.9697368421052631
          ],
          [
           1,
           1
          ]
         ],
         "hoverinfo": "y",
         "mode": "lines+markers",
         "name": "thal = 3",
         "type": "scatter",
         "x": [
          -1,
          -0.95,
          -0.9,
          -0.85,
          -0.8,
          -0.75,
          -0.7,
          -0.65,
          -0.6,
          -0.55,
          -0.5,
          -0.45,
          -0.4,
          -0.35,
          -0.3,
          -0.25,
          -0.2,
          -0.15,
          -0.1,
          -0.05,
          0,
          0.05,
          0.1,
          0.15,
          0.2,
          0.25,
          0.3,
          0.35,
          0.4,
          0.45,
          0.5,
          0.55,
          0.6,
          0.65,
          0.7,
          0.75,
          0.8,
          0.85,
          0.9,
          0.95,
          1
         ],
         "y": [
          0.7089109453696322,
          0.6981477958320924,
          0.6872632647098765,
          0.6763687623958906,
          0.6654724458821684,
          0.6545792706510752,
          0.6436848487442958,
          0.6327902483176268,
          0.6218956237105675,
          0.611000996064133,
          0.6001053534826817,
          0.5892114514681857,
          0.5783170389590808,
          0.5674224679988422,
          0.5565278530516038,
          0.545633227506861,
          0.5347385998416181,
          0.5238439718471253,
          0.5129491426355335,
          0.5020547061342069,
          0.49116008775304715,
          0.4744549686431855,
          0.457749895121252,
          0.44104479880536474,
          0.424339702489525,
          0.40763460617668523,
          0.390929509883244,
          0.3742244136240932,
          0.3575193173449181,
          0.34081422096471525,
          0.324109576478472,
          0.30740402837731623,
          0.29069894106710775,
          0.2739939937013771,
          0.2572887393387178,
          0.24058364344547273,
          0.22387856153016983,
          0.20717383700323302,
          0.19046835506674448,
          0.17376405284620539,
          0.15719683367900014
         ]
        }
       ],
       "layout": {
        "margin": {
         "r": 50,
         "t": 50
        },
        "plot_bgcolor": "white",
        "template": {
         "data": {
          "bar": [
           {
            "error_x": {
             "color": "#2a3f5f"
            },
            "error_y": {
             "color": "#2a3f5f"
            },
            "marker": {
             "line": {
              "color": "#E5ECF6",
              "width": 0.5
             }
            },
            "type": "bar"
           }
          ],
          "barpolar": [
           {
            "marker": {
             "line": {
              "color": "#E5ECF6",
              "width": 0.5
             }
            },
            "type": "barpolar"
           }
          ],
          "carpet": [
           {
            "aaxis": {
             "endlinecolor": "#2a3f5f",
             "gridcolor": "white",
             "linecolor": "white",
             "minorgridcolor": "white",
             "startlinecolor": "#2a3f5f"
            },
            "baxis": {
             "endlinecolor": "#2a3f5f",
             "gridcolor": "white",
             "linecolor": "white",
             "minorgridcolor": "white",
             "startlinecolor": "#2a3f5f"
            },
            "type": "carpet"
           }
          ],
          "choropleth": [
           {
            "colorbar": {
             "outlinewidth": 0,
             "ticks": ""
            },
            "type": "choropleth"
           }
          ],
          "contour": [
           {
            "colorbar": {
             "outlinewidth": 0,
             "ticks": ""
            },
            "colorscale": [
             [
              0,
              "#0d0887"
             ],
             [
              0.1111111111111111,
              "#46039f"
             ],
             [
              0.2222222222222222,
              "#7201a8"
             ],
             [
              0.3333333333333333,
              "#9c179e"
             ],
             [
              0.4444444444444444,
              "#bd3786"
             ],
             [
              0.5555555555555556,
              "#d8576b"
             ],
             [
              0.6666666666666666,
              "#ed7953"
             ],
             [
              0.7777777777777778,
              "#fb9f3a"
             ],
             [
              0.8888888888888888,
              "#fdca26"
             ],
             [
              1,
              "#f0f921"
             ]
            ],
            "type": "contour"
           }
          ],
          "contourcarpet": [
           {
            "colorbar": {
             "outlinewidth": 0,
             "ticks": ""
            },
            "type": "contourcarpet"
           }
          ],
          "heatmap": [
           {
            "colorbar": {
             "outlinewidth": 0,
             "ticks": ""
            },
            "colorscale": [
             [
              0,
              "#0d0887"
             ],
             [
              0.1111111111111111,
              "#46039f"
             ],
             [
              0.2222222222222222,
              "#7201a8"
             ],
             [
              0.3333333333333333,
              "#9c179e"
             ],
             [
              0.4444444444444444,
              "#bd3786"
             ],
             [
              0.5555555555555556,
              "#d8576b"
             ],
             [
              0.6666666666666666,
              "#ed7953"
             ],
             [
              0.7777777777777778,
              "#fb9f3a"
             ],
             [
              0.8888888888888888,
              "#fdca26"
             ],
             [
              1,
              "#f0f921"
             ]
            ],
            "type": "heatmap"
           }
          ],
          "heatmapgl": [
           {
            "colorbar": {
             "outlinewidth": 0,
             "ticks": ""
            },
            "colorscale": [
             [
              0,
              "#0d0887"
             ],
             [
              0.1111111111111111,
              "#46039f"
             ],
             [
              0.2222222222222222,
              "#7201a8"
             ],
             [
              0.3333333333333333,
              "#9c179e"
             ],
             [
              0.4444444444444444,
              "#bd3786"
             ],
             [
              0.5555555555555556,
              "#d8576b"
             ],
             [
              0.6666666666666666,
              "#ed7953"
             ],
             [
              0.7777777777777778,
              "#fb9f3a"
             ],
             [
              0.8888888888888888,
              "#fdca26"
             ],
             [
              1,
              "#f0f921"
             ]
            ],
            "type": "heatmapgl"
           }
          ],
          "histogram": [
           {
            "marker": {
             "colorbar": {
              "outlinewidth": 0,
              "ticks": ""
             }
            },
            "type": "histogram"
           }
          ],
          "histogram2d": [
           {
            "colorbar": {
             "outlinewidth": 0,
             "ticks": ""
            },
            "colorscale": [
             [
              0,
              "#0d0887"
             ],
             [
              0.1111111111111111,
              "#46039f"
             ],
             [
              0.2222222222222222,
              "#7201a8"
             ],
             [
              0.3333333333333333,
              "#9c179e"
             ],
             [
              0.4444444444444444,
              "#bd3786"
             ],
             [
              0.5555555555555556,
              "#d8576b"
             ],
             [
              0.6666666666666666,
              "#ed7953"
             ],
             [
              0.7777777777777778,
              "#fb9f3a"
             ],
             [
              0.8888888888888888,
              "#fdca26"
             ],
             [
              1,
              "#f0f921"
             ]
            ],
            "type": "histogram2d"
           }
          ],
          "histogram2dcontour": [
           {
            "colorbar": {
             "outlinewidth": 0,
             "ticks": ""
            },
            "colorscale": [
             [
              0,
              "#0d0887"
             ],
             [
              0.1111111111111111,
              "#46039f"
             ],
             [
              0.2222222222222222,
              "#7201a8"
             ],
             [
              0.3333333333333333,
              "#9c179e"
             ],
             [
              0.4444444444444444,
              "#bd3786"
             ],
             [
              0.5555555555555556,
              "#d8576b"
             ],
             [
              0.6666666666666666,
              "#ed7953"
             ],
             [
              0.7777777777777778,
              "#fb9f3a"
             ],
             [
              0.8888888888888888,
              "#fdca26"
             ],
             [
              1,
              "#f0f921"
             ]
            ],
            "type": "histogram2dcontour"
           }
          ],
          "mesh3d": [
           {
            "colorbar": {
             "outlinewidth": 0,
             "ticks": ""
            },
            "type": "mesh3d"
           }
          ],
          "parcoords": [
           {
            "line": {
             "colorbar": {
              "outlinewidth": 0,
              "ticks": ""
             }
            },
            "type": "parcoords"
           }
          ],
          "scatter": [
           {
            "marker": {
             "colorbar": {
              "outlinewidth": 0,
              "ticks": ""
             }
            },
            "type": "scatter"
           }
          ],
          "scatter3d": [
           {
            "line": {
             "colorbar": {
              "outlinewidth": 0,
              "ticks": ""
             }
            },
            "marker": {
             "colorbar": {
              "outlinewidth": 0,
              "ticks": ""
             }
            },
            "type": "scatter3d"
           }
          ],
          "scattercarpet": [
           {
            "marker": {
             "colorbar": {
              "outlinewidth": 0,
              "ticks": ""
             }
            },
            "type": "scattercarpet"
           }
          ],
          "scattergeo": [
           {
            "marker": {
             "colorbar": {
              "outlinewidth": 0,
              "ticks": ""
             }
            },
            "type": "scattergeo"
           }
          ],
          "scattergl": [
           {
            "marker": {
             "colorbar": {
              "outlinewidth": 0,
              "ticks": ""
             }
            },
            "type": "scattergl"
           }
          ],
          "scattermapbox": [
           {
            "marker": {
             "colorbar": {
              "outlinewidth": 0,
              "ticks": ""
             }
            },
            "type": "scattermapbox"
           }
          ],
          "scatterpolar": [
           {
            "marker": {
             "colorbar": {
              "outlinewidth": 0,
              "ticks": ""
             }
            },
            "type": "scatterpolar"
           }
          ],
          "scatterpolargl": [
           {
            "marker": {
             "colorbar": {
              "outlinewidth": 0,
              "ticks": ""
             }
            },
            "type": "scatterpolargl"
           }
          ],
          "scatterternary": [
           {
            "marker": {
             "colorbar": {
              "outlinewidth": 0,
              "ticks": ""
             }
            },
            "type": "scatterternary"
           }
          ],
          "surface": [
           {
            "colorbar": {
             "outlinewidth": 0,
             "ticks": ""
            },
            "colorscale": [
             [
              0,
              "#0d0887"
             ],
             [
              0.1111111111111111,
              "#46039f"
             ],
             [
              0.2222222222222222,
              "#7201a8"
             ],
             [
              0.3333333333333333,
              "#9c179e"
             ],
             [
              0.4444444444444444,
              "#bd3786"
             ],
             [
              0.5555555555555556,
              "#d8576b"
             ],
             [
              0.6666666666666666,
              "#ed7953"
             ],
             [
              0.7777777777777778,
              "#fb9f3a"
             ],
             [
              0.8888888888888888,
              "#fdca26"
             ],
             [
              1,
              "#f0f921"
             ]
            ],
            "type": "surface"
           }
          ],
          "table": [
           {
            "cells": {
             "fill": {
              "color": "#EBF0F8"
             },
             "line": {
              "color": "white"
             }
            },
            "header": {
             "fill": {
              "color": "#C8D4E3"
             },
             "line": {
              "color": "white"
             }
            },
            "type": "table"
           }
          ]
         },
         "layout": {
          "annotationdefaults": {
           "arrowcolor": "#2a3f5f",
           "arrowhead": 0,
           "arrowwidth": 1
          },
          "colorscale": {
           "diverging": [
            [
             0,
             "#8e0152"
            ],
            [
             0.1,
             "#c51b7d"
            ],
            [
             0.2,
             "#de77ae"
            ],
            [
             0.3,
             "#f1b6da"
            ],
            [
             0.4,
             "#fde0ef"
            ],
            [
             0.5,
             "#f7f7f7"
            ],
            [
             0.6,
             "#e6f5d0"
            ],
            [
             0.7,
             "#b8e186"
            ],
            [
             0.8,
             "#7fbc41"
            ],
            [
             0.9,
             "#4d9221"
            ],
            [
             1,
             "#276419"
            ]
           ],
           "sequential": [
            [
             0,
             "#0d0887"
            ],
            [
             0.1111111111111111,
             "#46039f"
            ],
            [
             0.2222222222222222,
             "#7201a8"
            ],
            [
             0.3333333333333333,
             "#9c179e"
            ],
            [
             0.4444444444444444,
             "#bd3786"
            ],
            [
             0.5555555555555556,
             "#d8576b"
            ],
            [
             0.6666666666666666,
             "#ed7953"
            ],
            [
             0.7777777777777778,
             "#fb9f3a"
            ],
            [
             0.8888888888888888,
             "#fdca26"
            ],
            [
             1,
             "#f0f921"
            ]
           ],
           "sequentialminus": [
            [
             0,
             "#0d0887"
            ],
            [
             0.1111111111111111,
             "#46039f"
            ],
            [
             0.2222222222222222,
             "#7201a8"
            ],
            [
             0.3333333333333333,
             "#9c179e"
            ],
            [
             0.4444444444444444,
             "#bd3786"
            ],
            [
             0.5555555555555556,
             "#d8576b"
            ],
            [
             0.6666666666666666,
             "#ed7953"
            ],
            [
             0.7777777777777778,
             "#fb9f3a"
            ],
            [
             0.8888888888888888,
             "#fdca26"
            ],
            [
             1,
             "#f0f921"
            ]
           ]
          },
          "colorway": [
           "#636efa",
           "#EF553B",
           "#00cc96",
           "#ab63fa",
           "#FFA15A",
           "#19d3f3",
           "#FF6692",
           "#B6E880",
           "#FF97FF",
           "#FECB52"
          ],
          "font": {
           "color": "#2a3f5f"
          },
          "geo": {
           "bgcolor": "white",
           "lakecolor": "white",
           "landcolor": "#E5ECF6",
           "showlakes": true,
           "showland": true,
           "subunitcolor": "white"
          },
          "hoverlabel": {
           "align": "left"
          },
          "hovermode": "closest",
          "mapbox": {
           "style": "light"
          },
          "paper_bgcolor": "white",
          "plot_bgcolor": "#E5ECF6",
          "polar": {
           "angularaxis": {
            "gridcolor": "white",
            "linecolor": "white",
            "ticks": ""
           },
           "bgcolor": "#E5ECF6",
           "radialaxis": {
            "gridcolor": "white",
            "linecolor": "white",
            "ticks": ""
           }
          },
          "scene": {
           "xaxis": {
            "backgroundcolor": "#E5ECF6",
            "gridcolor": "white",
            "gridwidth": 2,
            "linecolor": "white",
            "showbackground": true,
            "ticks": "",
            "zerolinecolor": "white"
           },
           "yaxis": {
            "backgroundcolor": "#E5ECF6",
            "gridcolor": "white",
            "gridwidth": 2,
            "linecolor": "white",
            "showbackground": true,
            "ticks": "",
            "zerolinecolor": "white"
           },
           "zaxis": {
            "backgroundcolor": "#E5ECF6",
            "gridcolor": "white",
            "gridwidth": 2,
            "linecolor": "white",
            "showbackground": true,
            "ticks": "",
            "zerolinecolor": "white"
           }
          },
          "shapedefaults": {
           "line": {
            "color": "#2a3f5f"
           }
          },
          "ternary": {
           "aaxis": {
            "gridcolor": "white",
            "linecolor": "white",
            "ticks": ""
           },
           "baxis": {
            "gridcolor": "white",
            "linecolor": "white",
            "ticks": ""
           },
           "bgcolor": "#E5ECF6",
           "caxis": {
            "gridcolor": "white",
            "linecolor": "white",
            "ticks": ""
           }
          },
          "title": {
           "x": 0.05
          },
          "xaxis": {
           "automargin": true,
           "gridcolor": "white",
           "linecolor": "white",
           "ticks": "",
           "zerolinecolor": "white",
           "zerolinewidth": 2
          },
          "yaxis": {
           "automargin": true,
           "gridcolor": "white",
           "linecolor": "white",
           "ticks": "",
           "zerolinecolor": "white",
           "zerolinewidth": 2
          }
         }
        },
        "xaxis": {
         "gridcolor": "#eee",
         "linecolor": "black",
         "nticks": 5,
         "showgrid": true,
         "showline": true,
         "title": {
          "text": "tau"
         },
         "zeroline": false
        },
        "yaxis": {
         "gridcolor": "#eee",
         "linecolor": "black",
         "range": [
          0,
          1
         ],
         "showgrid": true,
         "showline": true,
         "title": {
          "text": "Average \"has_heart_disease\""
         }
        }
       }
      },
      "text/html": [
       "<div>\n",
       "        \n",
       "        \n",
       "            <div id=\"a399cfc8-3ae3-4e81-bc21-d24d8fabb6f3\" class=\"plotly-graph-div\" style=\"height:525px; width:100%;\"></div>\n",
       "            <script type=\"text/javascript\">\n",
       "                require([\"plotly\"], function(Plotly) {\n",
       "                    window.PLOTLYENV=window.PLOTLYENV || {};\n",
       "                    \n",
       "                if (document.getElementById(\"a399cfc8-3ae3-4e81-bc21-d24d8fabb6f3\")) {\n",
       "                    Plotly.newPlot(\n",
       "                        'a399cfc8-3ae3-4e81-bc21-d24d8fabb6f3',\n",
       "                        [{\"customdata\": [[-1.0, 0.0], [-0.95, 0.0006578947368421056], [-0.9, 0.0013157894736842094], [-0.85, 0.0019736842105263167], [-0.8, 0.0026315789473684206], [-0.75, 0.003289473684210526], [-0.7, 0.003947368421052632], [-0.65, 0.0046052631578947355], [-0.6, 0.005263157894736843], [-0.55, 0.005921052631578947], [-0.5, 0.006578947368421052], [-0.45, 0.007236842105263157], [-0.4, 0.007894736842105263], [-0.35, 0.008552631578947367], [-0.3, 0.009210526315789475], [-0.25, 0.009868421052631578], [-0.2, 0.010526315789473684], [-0.15, 0.01118421052631579], [-0.1, 0.011842105263157893], [-0.05, 0.012499999999999999], [0.0, 0.013157894736842105], [0.05, 0.013157894736842105], [0.1, 0.013157894736842105], [0.15, 0.013157894736842105], [0.2, 0.013157894736842105], [0.25, 0.013157894736842105], [0.3, 0.013157894736842105], [0.35, 0.013157894736842105], [0.4, 0.013157894736842105], [0.45, 0.013157894736842105], [0.5, 0.013157894736842105], [0.55, 0.013157894736842105], [0.6, 0.013157894736842105], [0.65, 0.013157894736842105], [0.7, 0.013157894736842105], [0.75, 0.013157894736842105], [0.8, 0.013157894736842105], [0.85, 0.013157894736842105], [0.9, 0.013157894736842105], [0.95, 0.013157894736842105], [1.0, 0.013157894736842105]], \"hoverinfo\": \"y\", \"mode\": \"lines+markers\", \"name\": \"thal = 0\", \"type\": \"scatter\", \"x\": [-1.0, -0.95, -0.9, -0.85, -0.8, -0.75, -0.7, -0.65, -0.6, -0.55, -0.5, -0.45, -0.4, -0.35, -0.3, -0.25, -0.2, -0.15, -0.1, -0.05, 0.0, 0.05, 0.1, 0.15, 0.2, 0.25, 0.3, 0.35, 0.4, 0.45, 0.5, 0.55, 0.6, 0.65, 0.7, 0.75, 0.8, 0.85, 0.9, 0.95, 1.0], \"y\": [0.4950148923102242, 0.49486960743445685, 0.4946883050022328, 0.494455614996797, 0.4942777960590277, 0.4940922376286886, 0.4939019535409428, 0.4937088971763133, 0.49351427526324054, 0.4933188031017617, 0.49312288838142976, 0.4929267542137434, 0.49271691072910406, 0.49252634097796105, 0.49233372590163094, 0.49213962710343223, 0.49194451370861647, 0.49174876176859184, 0.4915526559942614, 0.4913516306124632, 0.49116008775304715, 0.49116008775304715, 0.49116008775304715, 0.49116008775304715, 0.49116008775304715, 0.49116008775304715, 0.49116008775304715, 0.49116008775304715, 0.49116008775304715, 0.49116008775304715, 0.49116008775304715, 0.49116008775304715, 0.49116008775304715, 0.49116008775304715, 0.49116008775304715, 0.49116008775304715, 0.49116008775304715, 0.49116008775304715, 0.49116008775304715, 0.49116008775304715, 0.49116008775304715]}, {\"customdata\": [[-1.0, 0.0], [-0.95, 0.0032894736842105296], [-0.9, 0.006578947368421052], [-0.85, 0.009868421052631582], [-0.8, 0.013157894736842105], [-0.75, 0.016447368421052627], [-0.7, 0.019736842105263157], [-0.65, 0.02302631578947368], [-0.6, 0.02631578947368421], [-0.55, 0.02960526315789473], [-0.5, 0.03289473684210526], [-0.45, 0.03618421052631579], [-0.4, 0.039473684210526314], [-0.35, 0.042763157894736836], [-0.3, 0.046052631578947366], [-0.25, 0.049342105263157895], [-0.2, 0.05263157894736842], [-0.15, 0.05592105263157894], [-0.1, 0.05921052631578947], [-0.05, 0.0625], [0.0, 0.06578947368421052], [0.05, 0.1125], [0.1, 0.15921052631578947], [0.15, 0.20592105263157895], [0.2, 0.25263157894736843], [0.25, 0.2993421052631579], [0.3, 0.34605263157894733], [0.35, 0.3927631578947368], [0.4, 0.43947368421052635], [0.45, 0.4861842105263158], [0.5, 0.5328947368421053], [0.55, 0.5796052631578947], [0.6, 0.6263157894736842], [0.65, 0.6730263157894737], [0.7, 0.7197368421052631], [0.75, 0.7664473684210527], [0.8, 0.8131578947368422], [0.85, 0.8598684210526315], [0.9, 0.906578947368421], [0.95, 0.9532894736842105], [1.0, 1.0]], \"hoverinfo\": \"y\", \"mode\": \"lines+markers\", \"name\": \"thal = 1\", \"type\": \"scatter\", \"x\": [-1.0, -0.95, -0.9, -0.85, -0.8, -0.75, -0.7, -0.65, -0.6, -0.55, -0.5, -0.45, -0.4, -0.35, -0.3, -0.25, -0.2, -0.15, -0.1, -0.05, 0.0, 0.05, 0.1, 0.15, 0.2, 0.25, 0.3, 0.35, 0.4, 0.45, 0.5, 0.55, 0.6, 0.65, 0.7, 0.75, 0.8, 0.85, 0.9, 0.95, 1.0], \"y\": [0.4892970082440857, 0.48938631922586023, 0.48947932701585006, 0.48957323571009015, 0.4896661944125799, 0.48975947167872, 0.4898528252942821, 0.4899461966465986, 0.49003957195147885, 0.4901332146453453, 0.49022643416283546, 0.4903197424936338, 0.49041309147228296, 0.4905064577874072, 0.490599830868969, 0.49069320630440943, 0.4907865824412045, 0.4908800616436222, 0.4909733548840691, 0.49106671262122303, 0.49116008775304715, 0.492486031736926, 0.4938119796946934, 0.4951379588448834, 0.4964638640824516, 0.49778980917079585, 0.48929256101817087, 0.48929256101817087, 0.5176789673882923, 0.5176789673882923, 0.5176789673882923, 0.5176789673882923, 0.5176789673882923, 0.5176789673882923, 0.48929256101817087, 0.48929256101817087, 0.48929256101817087, 0.48929256101817087, 0.48929256101817087, 0.48929256101817087, 0.5176789302496484]}, {\"customdata\": [[-1.0, 0.0], [-0.95, 0.026315789473684237], [-0.9, 0.05263157894736842], [-0.85, 0.07894736842105265], [-0.8, 0.10526315789473684], [-0.75, 0.13157894736842102], [-0.7, 0.15789473684210525], [-0.65, 0.18421052631578944], [-0.6, 0.21052631578947367], [-0.55, 0.23684210526315785], [-0.5, 0.2631578947368421], [-0.45, 0.2894736842105263], [-0.4, 0.3157894736842105], [-0.35, 0.3421052631578947], [-0.3, 0.3684210526315789], [-0.25, 0.39473684210526316], [-0.2, 0.42105263157894735], [-0.15, 0.4473684210526315], [-0.1, 0.47368421052631576], [-0.05, 0.5], [0.0, 0.5263157894736842], [0.05, 0.5499999999999999], [0.1, 0.5736842105263158], [0.15, 0.5973684210526315], [0.2, 0.6210526315789473], [0.25, 0.6447368421052632], [0.3, 0.6684210526315789], [0.35, 0.6921052631578947], [0.4, 0.7157894736842105], [0.45, 0.7394736842105263], [0.5, 0.763157894736842], [0.55, 0.7868421052631579], [0.6, 0.8105263157894737], [0.65, 0.8342105263157895], [0.7, 0.8578947368421053], [0.75, 0.881578947368421], [0.8, 0.9052631578947369], [0.85, 0.9289473684210526], [0.9, 0.9526315789473685], [0.95, 0.9763157894736842], [1.0, 1.0]], \"hoverinfo\": \"y\", \"mode\": \"lines+markers\", \"name\": \"thal = 2\", \"type\": \"scatter\", \"x\": [-1.0, -0.95, -0.9, -0.85, -0.8, -0.75, -0.7, -0.65, -0.6, -0.55, -0.5, -0.45, -0.4, -0.35, -0.3, -0.25, -0.2, -0.15, -0.1, -0.05, 0.0, 0.05, 0.1, 0.15, 0.2, 0.25, 0.3, 0.35, 0.4, 0.45, 0.5, 0.55, 0.6, 0.65, 0.7, 0.75, 0.8, 0.85, 0.9, 0.95, 1.0], \"y\": [0.20839202124888315, 0.222394575009929, 0.2365369475034209, 0.2506854740657414, 0.26482864003204754, 0.2789741445355684, 0.29311985697766874, 0.3072655865094128, 0.32141131729712963, 0.3355573084472105, 0.34970282815752846, 0.3638485175471015, 0.3779942417020636, 0.39213997173005016, 0.40628570252690904, 0.4204314333946169, 0.43457719039744497, 0.4487228951379932, 0.46286862654758426, 0.47701435688150856, 0.49116008775304715, 0.5038912448982412, 0.5166223804815693, 0.5293533456759617, 0.5420847188899535, 0.5548158766542725, 0.5675470342247217, 0.5802781903789885, 0.5930093384443164, 0.6057404482373165, 0.6184714018846698, 0.631202823379528, 0.6439339811170632, 0.6566651383142982, 0.6693962896431455, 0.682127383325668, 0.6948579520472714, 0.7075897696854537, 0.7203208833733944, 0.7330461681001268, 0.7456366462944748]}, {\"customdata\": [[-1.0, 0.0], [-0.95, 0.019736842105263164], [-0.9, 0.03947368421052633], [-0.85, 0.05921052631578949], [-0.8, 0.0789473684210526], [-0.75, 0.09868421052631582], [-0.7, 0.11842105263157898], [-0.65, 0.1381578947368421], [-0.6, 0.15789473684210528], [-0.55, 0.17763157894736842], [-0.5, 0.19736842105263158], [-0.45, 0.21710526315789475], [-0.4, 0.23684210526315788], [-0.35, 0.2565789473684211], [-0.3, 0.27631578947368424], [-0.25, 0.29605263157894735], [-0.2, 0.3157894736842105], [-0.15, 0.3355263157894737], [-0.1, 0.35526315789473684], [-0.05, 0.375], [0.0, 0.39473684210526316], [0.05, 0.425], [0.1, 0.45526315789473687], [0.15, 0.4855263157894737], [0.2, 0.5157894736842106], [0.25, 0.5460526315789473], [0.3, 0.5763157894736842], [0.35, 0.6065789473684211], [0.4, 0.6368421052631579], [0.45, 0.6671052631578948], [0.5, 0.6973684210526316], [0.55, 0.7276315789473684], [0.6, 0.7578947368421052], [0.65, 0.7881578947368422], [0.7, 0.8184210526315789], [0.75, 0.8486842105263158], [0.8, 0.8789473684210527], [0.85, 0.9092105263157895], [0.9, 0.9394736842105263], [0.95, 0.9697368421052631], [1.0, 1.0]], \"hoverinfo\": \"y\", \"mode\": \"lines+markers\", \"name\": \"thal = 3\", \"type\": \"scatter\", \"x\": [-1.0, -0.95, -0.9, -0.85, -0.8, -0.75, -0.7, -0.65, -0.6, -0.55, -0.5, -0.45, -0.4, -0.35, -0.3, -0.25, -0.2, -0.15, -0.1, -0.05, 0.0, 0.05, 0.1, 0.15, 0.2, 0.25, 0.3, 0.35, 0.4, 0.45, 0.5, 0.55, 0.6, 0.65, 0.7, 0.75, 0.8, 0.85, 0.9, 0.95, 1.0], \"y\": [0.7089109453696322, 0.6981477958320924, 0.6872632647098765, 0.6763687623958906, 0.6654724458821684, 0.6545792706510752, 0.6436848487442958, 0.6327902483176268, 0.6218956237105675, 0.611000996064133, 0.6001053534826817, 0.5892114514681857, 0.5783170389590808, 0.5674224679988422, 0.5565278530516038, 0.545633227506861, 0.5347385998416181, 0.5238439718471253, 0.5129491426355335, 0.5020547061342069, 0.49116008775304715, 0.4744549686431855, 0.457749895121252, 0.44104479880536474, 0.424339702489525, 0.40763460617668523, 0.390929509883244, 0.3742244136240932, 0.3575193173449181, 0.34081422096471525, 0.324109576478472, 0.30740402837731623, 0.29069894106710775, 0.2739939937013771, 0.2572887393387178, 0.24058364344547273, 0.22387856153016983, 0.20717383700323302, 0.19046835506674448, 0.17376405284620539, 0.15719683367900014]}],\n",
       "                        {\"margin\": {\"r\": 50, \"t\": 50}, \"plot_bgcolor\": \"white\", \"template\": {\"data\": {\"bar\": [{\"error_x\": {\"color\": \"#2a3f5f\"}, \"error_y\": {\"color\": \"#2a3f5f\"}, \"marker\": {\"line\": {\"color\": \"#E5ECF6\", \"width\": 0.5}}, \"type\": \"bar\"}], \"barpolar\": [{\"marker\": {\"line\": {\"color\": \"#E5ECF6\", \"width\": 0.5}}, \"type\": \"barpolar\"}], \"carpet\": [{\"aaxis\": {\"endlinecolor\": \"#2a3f5f\", \"gridcolor\": \"white\", \"linecolor\": \"white\", \"minorgridcolor\": \"white\", \"startlinecolor\": \"#2a3f5f\"}, \"baxis\": {\"endlinecolor\": \"#2a3f5f\", \"gridcolor\": \"white\", \"linecolor\": \"white\", \"minorgridcolor\": \"white\", \"startlinecolor\": \"#2a3f5f\"}, \"type\": \"carpet\"}], \"choropleth\": [{\"colorbar\": {\"outlinewidth\": 0, \"ticks\": \"\"}, \"type\": \"choropleth\"}], \"contour\": [{\"colorbar\": {\"outlinewidth\": 0, \"ticks\": \"\"}, \"colorscale\": [[0.0, \"#0d0887\"], [0.1111111111111111, \"#46039f\"], [0.2222222222222222, \"#7201a8\"], [0.3333333333333333, \"#9c179e\"], [0.4444444444444444, \"#bd3786\"], [0.5555555555555556, \"#d8576b\"], [0.6666666666666666, \"#ed7953\"], [0.7777777777777778, \"#fb9f3a\"], [0.8888888888888888, \"#fdca26\"], [1.0, \"#f0f921\"]], \"type\": \"contour\"}], \"contourcarpet\": [{\"colorbar\": {\"outlinewidth\": 0, \"ticks\": \"\"}, \"type\": \"contourcarpet\"}], \"heatmap\": [{\"colorbar\": {\"outlinewidth\": 0, \"ticks\": \"\"}, \"colorscale\": [[0.0, \"#0d0887\"], [0.1111111111111111, \"#46039f\"], [0.2222222222222222, \"#7201a8\"], [0.3333333333333333, \"#9c179e\"], [0.4444444444444444, \"#bd3786\"], [0.5555555555555556, \"#d8576b\"], [0.6666666666666666, \"#ed7953\"], [0.7777777777777778, \"#fb9f3a\"], [0.8888888888888888, \"#fdca26\"], [1.0, \"#f0f921\"]], \"type\": \"heatmap\"}], \"heatmapgl\": [{\"colorbar\": {\"outlinewidth\": 0, \"ticks\": \"\"}, \"colorscale\": [[0.0, \"#0d0887\"], [0.1111111111111111, \"#46039f\"], [0.2222222222222222, \"#7201a8\"], [0.3333333333333333, \"#9c179e\"], [0.4444444444444444, \"#bd3786\"], [0.5555555555555556, \"#d8576b\"], [0.6666666666666666, \"#ed7953\"], [0.7777777777777778, \"#fb9f3a\"], [0.8888888888888888, \"#fdca26\"], [1.0, \"#f0f921\"]], \"type\": \"heatmapgl\"}], \"histogram\": [{\"marker\": {\"colorbar\": {\"outlinewidth\": 0, \"ticks\": \"\"}}, \"type\": \"histogram\"}], \"histogram2d\": [{\"colorbar\": {\"outlinewidth\": 0, \"ticks\": \"\"}, \"colorscale\": [[0.0, \"#0d0887\"], [0.1111111111111111, \"#46039f\"], [0.2222222222222222, \"#7201a8\"], [0.3333333333333333, \"#9c179e\"], [0.4444444444444444, \"#bd3786\"], [0.5555555555555556, \"#d8576b\"], [0.6666666666666666, \"#ed7953\"], [0.7777777777777778, \"#fb9f3a\"], [0.8888888888888888, \"#fdca26\"], [1.0, \"#f0f921\"]], \"type\": \"histogram2d\"}], \"histogram2dcontour\": [{\"colorbar\": {\"outlinewidth\": 0, \"ticks\": \"\"}, \"colorscale\": [[0.0, \"#0d0887\"], [0.1111111111111111, \"#46039f\"], [0.2222222222222222, \"#7201a8\"], [0.3333333333333333, \"#9c179e\"], [0.4444444444444444, \"#bd3786\"], [0.5555555555555556, \"#d8576b\"], [0.6666666666666666, \"#ed7953\"], [0.7777777777777778, \"#fb9f3a\"], [0.8888888888888888, \"#fdca26\"], [1.0, \"#f0f921\"]], \"type\": \"histogram2dcontour\"}], \"mesh3d\": [{\"colorbar\": {\"outlinewidth\": 0, \"ticks\": \"\"}, \"type\": \"mesh3d\"}], \"parcoords\": [{\"line\": {\"colorbar\": {\"outlinewidth\": 0, \"ticks\": \"\"}}, \"type\": \"parcoords\"}], \"scatter\": [{\"marker\": {\"colorbar\": {\"outlinewidth\": 0, \"ticks\": \"\"}}, \"type\": \"scatter\"}], \"scatter3d\": [{\"line\": {\"colorbar\": {\"outlinewidth\": 0, \"ticks\": \"\"}}, \"marker\": {\"colorbar\": {\"outlinewidth\": 0, \"ticks\": \"\"}}, \"type\": \"scatter3d\"}], \"scattercarpet\": [{\"marker\": {\"colorbar\": {\"outlinewidth\": 0, \"ticks\": \"\"}}, \"type\": \"scattercarpet\"}], \"scattergeo\": [{\"marker\": {\"colorbar\": {\"outlinewidth\": 0, \"ticks\": \"\"}}, \"type\": \"scattergeo\"}], \"scattergl\": [{\"marker\": {\"colorbar\": {\"outlinewidth\": 0, \"ticks\": \"\"}}, \"type\": \"scattergl\"}], \"scattermapbox\": [{\"marker\": {\"colorbar\": {\"outlinewidth\": 0, \"ticks\": \"\"}}, \"type\": \"scattermapbox\"}], \"scatterpolar\": [{\"marker\": {\"colorbar\": {\"outlinewidth\": 0, \"ticks\": \"\"}}, \"type\": \"scatterpolar\"}], \"scatterpolargl\": [{\"marker\": {\"colorbar\": {\"outlinewidth\": 0, \"ticks\": \"\"}}, \"type\": \"scatterpolargl\"}], \"scatterternary\": [{\"marker\": {\"colorbar\": {\"outlinewidth\": 0, \"ticks\": \"\"}}, \"type\": \"scatterternary\"}], \"surface\": [{\"colorbar\": {\"outlinewidth\": 0, \"ticks\": \"\"}, \"colorscale\": [[0.0, \"#0d0887\"], [0.1111111111111111, \"#46039f\"], [0.2222222222222222, \"#7201a8\"], [0.3333333333333333, \"#9c179e\"], [0.4444444444444444, \"#bd3786\"], [0.5555555555555556, \"#d8576b\"], [0.6666666666666666, \"#ed7953\"], [0.7777777777777778, \"#fb9f3a\"], [0.8888888888888888, \"#fdca26\"], [1.0, \"#f0f921\"]], \"type\": \"surface\"}], \"table\": [{\"cells\": {\"fill\": {\"color\": \"#EBF0F8\"}, \"line\": {\"color\": \"white\"}}, \"header\": {\"fill\": {\"color\": \"#C8D4E3\"}, \"line\": {\"color\": \"white\"}}, \"type\": \"table\"}]}, \"layout\": {\"annotationdefaults\": {\"arrowcolor\": \"#2a3f5f\", \"arrowhead\": 0, \"arrowwidth\": 1}, \"colorscale\": {\"diverging\": [[0, \"#8e0152\"], [0.1, \"#c51b7d\"], [0.2, \"#de77ae\"], [0.3, \"#f1b6da\"], [0.4, \"#fde0ef\"], [0.5, \"#f7f7f7\"], [0.6, \"#e6f5d0\"], [0.7, \"#b8e186\"], [0.8, \"#7fbc41\"], [0.9, \"#4d9221\"], [1, \"#276419\"]], \"sequential\": [[0.0, \"#0d0887\"], [0.1111111111111111, \"#46039f\"], [0.2222222222222222, \"#7201a8\"], [0.3333333333333333, \"#9c179e\"], [0.4444444444444444, \"#bd3786\"], [0.5555555555555556, \"#d8576b\"], [0.6666666666666666, \"#ed7953\"], [0.7777777777777778, \"#fb9f3a\"], [0.8888888888888888, \"#fdca26\"], [1.0, \"#f0f921\"]], \"sequentialminus\": [[0.0, \"#0d0887\"], [0.1111111111111111, \"#46039f\"], [0.2222222222222222, \"#7201a8\"], [0.3333333333333333, \"#9c179e\"], [0.4444444444444444, \"#bd3786\"], [0.5555555555555556, \"#d8576b\"], [0.6666666666666666, \"#ed7953\"], [0.7777777777777778, \"#fb9f3a\"], [0.8888888888888888, \"#fdca26\"], [1.0, \"#f0f921\"]]}, \"colorway\": [\"#636efa\", \"#EF553B\", \"#00cc96\", \"#ab63fa\", \"#FFA15A\", \"#19d3f3\", \"#FF6692\", \"#B6E880\", \"#FF97FF\", \"#FECB52\"], \"font\": {\"color\": \"#2a3f5f\"}, \"geo\": {\"bgcolor\": \"white\", \"lakecolor\": \"white\", \"landcolor\": \"#E5ECF6\", \"showlakes\": true, \"showland\": true, \"subunitcolor\": \"white\"}, \"hoverlabel\": {\"align\": \"left\"}, \"hovermode\": \"closest\", \"mapbox\": {\"style\": \"light\"}, \"paper_bgcolor\": \"white\", \"plot_bgcolor\": \"#E5ECF6\", \"polar\": {\"angularaxis\": {\"gridcolor\": \"white\", \"linecolor\": \"white\", \"ticks\": \"\"}, \"bgcolor\": \"#E5ECF6\", \"radialaxis\": {\"gridcolor\": \"white\", \"linecolor\": \"white\", \"ticks\": \"\"}}, \"scene\": {\"xaxis\": {\"backgroundcolor\": \"#E5ECF6\", \"gridcolor\": \"white\", \"gridwidth\": 2, \"linecolor\": \"white\", \"showbackground\": true, \"ticks\": \"\", \"zerolinecolor\": \"white\"}, \"yaxis\": {\"backgroundcolor\": \"#E5ECF6\", \"gridcolor\": \"white\", \"gridwidth\": 2, \"linecolor\": \"white\", \"showbackground\": true, \"ticks\": \"\", \"zerolinecolor\": \"white\"}, \"zaxis\": {\"backgroundcolor\": \"#E5ECF6\", \"gridcolor\": \"white\", \"gridwidth\": 2, \"linecolor\": \"white\", \"showbackground\": true, \"ticks\": \"\", \"zerolinecolor\": \"white\"}}, \"shapedefaults\": {\"line\": {\"color\": \"#2a3f5f\"}}, \"ternary\": {\"aaxis\": {\"gridcolor\": \"white\", \"linecolor\": \"white\", \"ticks\": \"\"}, \"baxis\": {\"gridcolor\": \"white\", \"linecolor\": \"white\", \"ticks\": \"\"}, \"bgcolor\": \"#E5ECF6\", \"caxis\": {\"gridcolor\": \"white\", \"linecolor\": \"white\", \"ticks\": \"\"}}, \"title\": {\"x\": 0.05}, \"xaxis\": {\"automargin\": true, \"gridcolor\": \"white\", \"linecolor\": \"white\", \"ticks\": \"\", \"zerolinecolor\": \"white\", \"zerolinewidth\": 2}, \"yaxis\": {\"automargin\": true, \"gridcolor\": \"white\", \"linecolor\": \"white\", \"ticks\": \"\", \"zerolinecolor\": \"white\", \"zerolinewidth\": 2}}}, \"xaxis\": {\"gridcolor\": \"#eee\", \"linecolor\": \"black\", \"nticks\": 5, \"showgrid\": true, \"showline\": true, \"title\": {\"text\": \"tau\"}, \"zeroline\": false}, \"yaxis\": {\"gridcolor\": \"#eee\", \"linecolor\": \"black\", \"range\": [0, 1], \"showgrid\": true, \"showline\": true, \"title\": {\"text\": \"Average \\\"has_heart_disease\\\"\"}}},\n",
       "                        {\"responsive\": true}\n",
       "                    ).then(function(){\n",
       "                            \n",
       "var gd = document.getElementById('a399cfc8-3ae3-4e81-bc21-d24d8fabb6f3');\n",
       "var x = new MutationObserver(function (mutations, observer) {{\n",
       "        var display = window.getComputedStyle(gd).display;\n",
       "        if (!display || display === 'none') {{\n",
       "            console.log([gd, 'removed!']);\n",
       "            Plotly.purge(gd);\n",
       "            observer.disconnect();\n",
       "        }}\n",
       "}});\n",
       "\n",
       "// Listen for the removal of the full notebook cells\n",
       "var notebookContainer = gd.closest('#notebook-container');\n",
       "if (notebookContainer) {{\n",
       "    x.observe(notebookContainer, {childList: true});\n",
       "}}\n",
       "\n",
       "// Listen for the clearing of the current output cell\n",
       "var outputEl = gd.closest('.output');\n",
       "if (outputEl) {{\n",
       "    x.observe(outputEl, {childList: true});\n",
       "}}\n",
       "\n",
       "                        })\n",
       "                };\n",
       "                });\n",
       "            </script>\n",
       "        </div>"
      ]
     },
     "metadata": {},
     "output_type": "display_data"
    }
   ],
   "source": [
    "explainer.plot_bias(\n",
    "    X_test=X_test[\"thal\"],\n",
    "    y_pred=y_pred,\n",
    ")"
   ]
  },
  {
   "cell_type": "code",
   "execution_count": 23,
   "metadata": {},
   "outputs": [
    {
     "name": "stderr",
     "output_type": "stream",
     "text": [
      "100%|██████████| 164/164 [00:00<00:00, 1164.86it/s]\n"
     ]
    },
    {
     "data": {
      "application/vnd.plotly.v1+json": {
       "config": {
        "plotlyServerURL": "https://plot.ly"
       },
       "data": [
        {
         "customdata": [
          [
           -1,
           0
          ],
          [
           -0.95,
           0.026315789473684237
          ],
          [
           -0.9,
           0.05263157894736842
          ],
          [
           -0.85,
           0.07894736842105265
          ],
          [
           -0.8,
           0.10526315789473684
          ],
          [
           -0.75,
           0.13157894736842102
          ],
          [
           -0.7,
           0.15789473684210525
          ],
          [
           -0.65,
           0.18421052631578944
          ],
          [
           -0.6,
           0.21052631578947367
          ],
          [
           -0.55,
           0.23684210526315785
          ],
          [
           -0.5,
           0.2631578947368421
          ],
          [
           -0.45,
           0.2894736842105263
          ],
          [
           -0.4,
           0.3157894736842105
          ],
          [
           -0.35,
           0.3421052631578947
          ],
          [
           -0.3,
           0.3684210526315789
          ],
          [
           -0.25,
           0.39473684210526316
          ],
          [
           -0.2,
           0.42105263157894735
          ],
          [
           -0.15,
           0.4473684210526315
          ],
          [
           -0.1,
           0.47368421052631576
          ],
          [
           -0.05,
           0.5
          ],
          [
           0,
           0.5263157894736842
          ],
          [
           0.05,
           0.5499999999999999
          ],
          [
           0.1,
           0.5736842105263158
          ],
          [
           0.15,
           0.5973684210526315
          ],
          [
           0.2,
           0.6210526315789473
          ],
          [
           0.25,
           0.6447368421052632
          ],
          [
           0.3,
           0.6684210526315789
          ],
          [
           0.35,
           0.6921052631578947
          ],
          [
           0.4,
           0.7157894736842105
          ],
          [
           0.45,
           0.7394736842105263
          ],
          [
           0.5,
           0.763157894736842
          ],
          [
           0.55,
           0.7868421052631579
          ],
          [
           0.6,
           0.8105263157894737
          ],
          [
           0.65,
           0.8342105263157895
          ],
          [
           0.7,
           0.8578947368421053
          ],
          [
           0.75,
           0.881578947368421
          ],
          [
           0.8,
           0.9052631578947369
          ],
          [
           0.85,
           0.9289473684210526
          ],
          [
           0.9,
           0.9526315789473685
          ],
          [
           0.95,
           0.9763157894736842
          ],
          [
           1,
           1
          ]
         ],
         "hoverinfo": "y",
         "mode": "lines+markers",
         "name": "cp = 0",
         "type": "scatter",
         "x": [
          -1,
          -0.95,
          -0.9,
          -0.85,
          -0.8,
          -0.75,
          -0.7,
          -0.65,
          -0.6,
          -0.55,
          -0.5,
          -0.45,
          -0.4,
          -0.35,
          -0.3,
          -0.25,
          -0.2,
          -0.15,
          -0.1,
          -0.05,
          0,
          0.05,
          0.1,
          0.15,
          0.2,
          0.25,
          0.3,
          0.35,
          0.4,
          0.45,
          0.5,
          0.55,
          0.6,
          0.65,
          0.7,
          0.75,
          0.8,
          0.85,
          0.9,
          0.95,
          1
         ],
         "y": [
          0.7570731931546382,
          0.7439052898613662,
          0.7306059020132866,
          0.7173007269220667,
          0.7040005928977208,
          0.6906982597293887,
          0.677395731017076,
          0.6640931862337821,
          0.6507906402693803,
          0.6374878494620383,
          0.6241855019933412,
          0.6108829949594635,
          0.5975804552324574,
          0.5842779099825004,
          0.5709753640095014,
          0.5576728179698766,
          0.5443702473529682,
          0.5310677258831412,
          0.5177651793339333,
          0.5044626337962745,
          0.49116008775304715,
          0.47918779691523294,
          0.4672155263540463,
          0.4552434160254193,
          0.443270921998024,
          0.43129863057798945,
          0.4193263393402682,
          0.4073540494343149,
          0.3953817671351434,
          0.38340952082700014,
          0.3714374213571273,
          0.3594648819267443,
          0.34749259053189663,
          0.33552029964514385,
          0.3235480142769813,
          0.31157578311901835,
          0.2996040456306197,
          0.2876311336698347,
          0.27565888369891656,
          0.26369211524221375,
          0.25185211790255374
         ]
        },
        {
         "customdata": [
          [
           -1,
           0
          ],
          [
           -0.95,
           0.009868421052631582
          ],
          [
           -0.9,
           0.019736842105263164
          ],
          [
           -0.85,
           0.029605263157894746
          ],
          [
           -0.8,
           0.0394736842105263
          ],
          [
           -0.75,
           0.04934210526315791
          ],
          [
           -0.7,
           0.05921052631578949
          ],
          [
           -0.65,
           0.06907894736842105
          ],
          [
           -0.6,
           0.07894736842105264
          ],
          [
           -0.55,
           0.08881578947368421
          ],
          [
           -0.5,
           0.09868421052631579
          ],
          [
           -0.45,
           0.10855263157894737
          ],
          [
           -0.4,
           0.11842105263157894
          ],
          [
           -0.35,
           0.12828947368421054
          ],
          [
           -0.3,
           0.13815789473684212
          ],
          [
           -0.25,
           0.14802631578947367
          ],
          [
           -0.2,
           0.15789473684210525
          ],
          [
           -0.15,
           0.16776315789473684
          ],
          [
           -0.1,
           0.17763157894736842
          ],
          [
           -0.05,
           0.1875
          ],
          [
           0,
           0.19736842105263158
          ],
          [
           0.05,
           0.2375
          ],
          [
           0.1,
           0.27763157894736845
          ],
          [
           0.15,
           0.31776315789473686
          ],
          [
           0.2,
           0.35789473684210527
          ],
          [
           0.25,
           0.3980263157894737
          ],
          [
           0.3,
           0.4381578947368421
          ],
          [
           0.35,
           0.4782894736842105
          ],
          [
           0.4,
           0.5184210526315789
          ],
          [
           0.45,
           0.5585526315789473
          ],
          [
           0.5,
           0.5986842105263157
          ],
          [
           0.55,
           0.6388157894736842
          ],
          [
           0.6,
           0.6789473684210525
          ],
          [
           0.65,
           0.7190789473684209
          ],
          [
           0.7,
           0.7592105263157893
          ],
          [
           0.75,
           0.799342105263158
          ],
          [
           0.8,
           0.8394736842105264
          ],
          [
           0.85,
           0.8796052631578948
          ],
          [
           0.9,
           0.9197368421052632
          ],
          [
           0.95,
           0.9598684210526316
          ],
          [
           1,
           1
          ]
         ],
         "hoverinfo": "y",
         "mode": "lines+markers",
         "name": "cp = 1",
         "type": "scatter",
         "x": [
          -1,
          -0.95,
          -0.9,
          -0.85,
          -0.8,
          -0.75,
          -0.7,
          -0.65,
          -0.6,
          -0.55,
          -0.5,
          -0.45,
          -0.4,
          -0.35,
          -0.3,
          -0.25,
          -0.2,
          -0.15,
          -0.1,
          -0.05,
          0,
          0.05,
          0.1,
          0.15,
          0.2,
          0.25,
          0.3,
          0.35,
          0.4,
          0.45,
          0.5,
          0.55,
          0.6,
          0.65,
          0.7,
          0.75,
          0.8,
          0.85,
          0.9,
          0.95,
          1
         ],
         "y": [
          0.3934536207332455,
          0.39827787332781955,
          0.4031544626255945,
          0.408043357100594,
          0.41293614850691657,
          0.4178224980287726,
          0.42271114172024676,
          0.4276002511705457,
          0.43248945122279947,
          0.437378667915612,
          0.4422678874454679,
          0.44715814355054206,
          0.452046660923799,
          0.4569356420648924,
          0.46182479025317064,
          0.46671399191739515,
          0.47160320820077534,
          0.47649242768708794,
          0.4813822441867548,
          0.4862709027018091,
          0.49116008775304715,
          0.5110429160404938,
          0.5309257570512715,
          0.5508086833200141,
          0.5706916821411092,
          0.5905742285357187,
          0.6104570568726159,
          0.6303398848487527,
          0.6502227130047615,
          0.670105540784911,
          0.6899883534307909,
          0.7098709601714385,
          0.7297540256253592,
          0.7496368535831478,
          0.7695196787297224,
          0.7894024861178047,
          0.8092852635073495,
          0.8291681054887159,
          0.8490509920173979,
          0.8689338216252929,
          0.8887344357820791
         ]
        },
        {
         "customdata": [
          [
           -1,
           0
          ],
          [
           -0.95,
           0.009868421052631582
          ],
          [
           -0.9,
           0.019736842105263164
          ],
          [
           -0.85,
           0.029605263157894746
          ],
          [
           -0.8,
           0.0394736842105263
          ],
          [
           -0.75,
           0.04934210526315791
          ],
          [
           -0.7,
           0.05921052631578949
          ],
          [
           -0.65,
           0.06907894736842105
          ],
          [
           -0.6,
           0.07894736842105264
          ],
          [
           -0.55,
           0.08881578947368421
          ],
          [
           -0.5,
           0.09868421052631579
          ],
          [
           -0.45,
           0.10855263157894737
          ],
          [
           -0.4,
           0.11842105263157894
          ],
          [
           -0.35,
           0.12828947368421054
          ],
          [
           -0.3,
           0.13815789473684212
          ],
          [
           -0.25,
           0.14802631578947367
          ],
          [
           -0.2,
           0.15789473684210525
          ],
          [
           -0.15,
           0.16776315789473684
          ],
          [
           -0.1,
           0.17763157894736842
          ],
          [
           -0.05,
           0.1875
          ],
          [
           0,
           0.19736842105263158
          ],
          [
           0.05,
           0.2375
          ],
          [
           0.1,
           0.27763157894736845
          ],
          [
           0.15,
           0.31776315789473686
          ],
          [
           0.2,
           0.35789473684210527
          ],
          [
           0.25,
           0.3980263157894737
          ],
          [
           0.3,
           0.4381578947368421
          ],
          [
           0.35,
           0.4782894736842105
          ],
          [
           0.4,
           0.5184210526315789
          ],
          [
           0.45,
           0.5585526315789473
          ],
          [
           0.5,
           0.5986842105263157
          ],
          [
           0.55,
           0.6388157894736842
          ],
          [
           0.6,
           0.6789473684210525
          ],
          [
           0.65,
           0.7190789473684209
          ],
          [
           0.7,
           0.7592105263157893
          ],
          [
           0.75,
           0.799342105263158
          ],
          [
           0.8,
           0.8394736842105264
          ],
          [
           0.85,
           0.8796052631578948
          ],
          [
           0.9,
           0.9197368421052632
          ],
          [
           0.95,
           0.9598684210526316
          ],
          [
           1,
           1
          ]
         ],
         "hoverinfo": "y",
         "mode": "lines+markers",
         "name": "cp = 2",
         "type": "scatter",
         "x": [
          -1,
          -0.95,
          -0.9,
          -0.85,
          -0.8,
          -0.75,
          -0.7,
          -0.65,
          -0.6,
          -0.55,
          -0.5,
          -0.45,
          -0.4,
          -0.35,
          -0.3,
          -0.25,
          -0.2,
          -0.15,
          -0.1,
          -0.05,
          0,
          0.05,
          0.1,
          0.15,
          0.2,
          0.25,
          0.3,
          0.35,
          0.4,
          0.45,
          0.5,
          0.55,
          0.6,
          0.65,
          0.7,
          0.75,
          0.8,
          0.85,
          0.9,
          0.95,
          1
         ],
         "y": [
          0.4097161689154082,
          0.4137374588949662,
          0.4178023745048203,
          0.4218775471824585,
          0.42595596817485065,
          0.43002901948873873,
          0.4341039831239901,
          0.4381793349958141,
          0.44225476238954076,
          0.446330203654123,
          0.45040564728354304,
          0.45448195495759086,
          0.45855681329939585,
          0.4626320582181713,
          0.46670744238031314,
          0.4707828711177094,
          0.4748583120410065,
          0.47893375563413054,
          0.48300969687197215,
          0.48708467286352386,
          0.49116008775304715,
          0.5077335603459854,
          0.5243070435445468,
          0.5408805978104896,
          0.5574542125529606,
          0.5740274501721246,
          0.5906009228062827,
          0.6071743951397265,
          0.623747867623104,
          0.6403213397931811,
          0.6568947993479806,
          0.6734680872690127,
          0.6900417575537482,
          0.7066152298718978,
          0.72318869984674,
          0.7397621550188647,
          0.7563355851854958,
          0.7729090691930983,
          0.7894825903334316,
          0.8060560640270389,
          0.8225610064480342
         ]
        },
        {
         "customdata": [
          [
           -1,
           0
          ],
          [
           -0.95,
           0.00394736842105263
          ],
          [
           -0.9,
           0.00789473684210526
          ],
          [
           -0.85,
           0.01184210526315789
          ],
          [
           -0.8,
           0.01578947368421052
          ],
          [
           -0.75,
           0.019736842105263157
          ],
          [
           -0.7,
           0.023684210526315794
          ],
          [
           -0.65,
           0.027631578947368417
          ],
          [
           -0.6,
           0.031578947368421054
          ],
          [
           -0.55,
           0.03552631578947368
          ],
          [
           -0.5,
           0.039473684210526314
          ],
          [
           -0.45,
           0.043421052631578944
          ],
          [
           -0.4,
           0.047368421052631574
          ],
          [
           -0.35,
           0.05131578947368421
          ],
          [
           -0.3,
           0.05526315789473684
          ],
          [
           -0.25,
           0.05921052631578947
          ],
          [
           -0.2,
           0.06315789473684211
          ],
          [
           -0.15,
           0.06710526315789474
          ],
          [
           -0.1,
           0.07105263157894737
          ],
          [
           -0.05,
           0.075
          ],
          [
           0,
           0.07894736842105263
          ],
          [
           0.05,
           0.125
          ],
          [
           0.1,
           0.17105263157894737
          ],
          [
           0.15,
           0.21710526315789472
          ],
          [
           0.2,
           0.26315789473684215
          ],
          [
           0.25,
           0.3092105263157895
          ],
          [
           0.3,
           0.35526315789473684
          ],
          [
           0.35,
           0.4013157894736842
          ],
          [
           0.4,
           0.44736842105263164
          ],
          [
           0.45,
           0.493421052631579
          ],
          [
           0.5,
           0.5394736842105263
          ],
          [
           0.55,
           0.5855263157894738
          ],
          [
           0.6,
           0.631578947368421
          ],
          [
           0.65,
           0.6776315789473685
          ],
          [
           0.7,
           0.7236842105263157
          ],
          [
           0.75,
           0.7697368421052632
          ],
          [
           0.8,
           0.8157894736842106
          ],
          [
           0.85,
           0.8618421052631579
          ],
          [
           0.9,
           0.9078947368421053
          ],
          [
           0.95,
           0.9539473684210525
          ],
          [
           1,
           1
          ]
         ],
         "hoverinfo": "y",
         "mode": "lines+markers",
         "name": "cp = 3",
         "type": "scatter",
         "x": [
          -1,
          -0.95,
          -0.9,
          -0.85,
          -0.8,
          -0.75,
          -0.7,
          -0.65,
          -0.6,
          -0.55,
          -0.5,
          -0.45,
          -0.4,
          -0.35,
          -0.3,
          -0.25,
          -0.2,
          -0.15,
          -0.1,
          -0.05,
          0,
          0.05,
          0.1,
          0.15,
          0.2,
          0.25,
          0.3,
          0.35,
          0.4,
          0.45,
          0.5,
          0.55,
          0.6,
          0.65,
          0.7,
          0.75,
          0.8,
          0.85,
          0.9,
          0.95,
          1
         ],
         "y": [
          0.5105293461573114,
          0.5096006108193188,
          0.5086335483261897,
          0.5076574891438135,
          0.5066909073768031,
          0.5057211310291602,
          0.5047505979209188,
          0.5037798910266568,
          0.5028091458493786,
          0.5018357616617392,
          0.5008665602688274,
          0.49989647512670565,
          0.49892598801649546,
          0.49795533054765767,
          0.4969846070163266,
          0.4960138606547363,
          0.4950431075363781,
          0.4940713268653943,
          0.4931014008615894,
          0.49213083083140824,
          0.49116008775304715,
          0.4798343267042947,
          0.46850913391241883,
          0.45718360538489944,
          0.445858162385475,
          0.4345326162515387,
          0.42320718182320977,
          0.2646505809423886,
          0.510575188336818,
          0.2646505809423885,
          0.26465058094238847,
          0.2646505809423885,
          0.2646505809423885,
          0.2646505809423885,
          0.2646505809423885,
          0.2646505809423885,
          0.2646505809423885,
          0.2646505809423885,
          0.2646505809423885,
          0.2646505809423885,
          0.2646539103655313
         ]
        }
       ],
       "layout": {
        "margin": {
         "r": 50,
         "t": 50
        },
        "plot_bgcolor": "white",
        "template": {
         "data": {
          "bar": [
           {
            "error_x": {
             "color": "#2a3f5f"
            },
            "error_y": {
             "color": "#2a3f5f"
            },
            "marker": {
             "line": {
              "color": "#E5ECF6",
              "width": 0.5
             }
            },
            "type": "bar"
           }
          ],
          "barpolar": [
           {
            "marker": {
             "line": {
              "color": "#E5ECF6",
              "width": 0.5
             }
            },
            "type": "barpolar"
           }
          ],
          "carpet": [
           {
            "aaxis": {
             "endlinecolor": "#2a3f5f",
             "gridcolor": "white",
             "linecolor": "white",
             "minorgridcolor": "white",
             "startlinecolor": "#2a3f5f"
            },
            "baxis": {
             "endlinecolor": "#2a3f5f",
             "gridcolor": "white",
             "linecolor": "white",
             "minorgridcolor": "white",
             "startlinecolor": "#2a3f5f"
            },
            "type": "carpet"
           }
          ],
          "choropleth": [
           {
            "colorbar": {
             "outlinewidth": 0,
             "ticks": ""
            },
            "type": "choropleth"
           }
          ],
          "contour": [
           {
            "colorbar": {
             "outlinewidth": 0,
             "ticks": ""
            },
            "colorscale": [
             [
              0,
              "#0d0887"
             ],
             [
              0.1111111111111111,
              "#46039f"
             ],
             [
              0.2222222222222222,
              "#7201a8"
             ],
             [
              0.3333333333333333,
              "#9c179e"
             ],
             [
              0.4444444444444444,
              "#bd3786"
             ],
             [
              0.5555555555555556,
              "#d8576b"
             ],
             [
              0.6666666666666666,
              "#ed7953"
             ],
             [
              0.7777777777777778,
              "#fb9f3a"
             ],
             [
              0.8888888888888888,
              "#fdca26"
             ],
             [
              1,
              "#f0f921"
             ]
            ],
            "type": "contour"
           }
          ],
          "contourcarpet": [
           {
            "colorbar": {
             "outlinewidth": 0,
             "ticks": ""
            },
            "type": "contourcarpet"
           }
          ],
          "heatmap": [
           {
            "colorbar": {
             "outlinewidth": 0,
             "ticks": ""
            },
            "colorscale": [
             [
              0,
              "#0d0887"
             ],
             [
              0.1111111111111111,
              "#46039f"
             ],
             [
              0.2222222222222222,
              "#7201a8"
             ],
             [
              0.3333333333333333,
              "#9c179e"
             ],
             [
              0.4444444444444444,
              "#bd3786"
             ],
             [
              0.5555555555555556,
              "#d8576b"
             ],
             [
              0.6666666666666666,
              "#ed7953"
             ],
             [
              0.7777777777777778,
              "#fb9f3a"
             ],
             [
              0.8888888888888888,
              "#fdca26"
             ],
             [
              1,
              "#f0f921"
             ]
            ],
            "type": "heatmap"
           }
          ],
          "heatmapgl": [
           {
            "colorbar": {
             "outlinewidth": 0,
             "ticks": ""
            },
            "colorscale": [
             [
              0,
              "#0d0887"
             ],
             [
              0.1111111111111111,
              "#46039f"
             ],
             [
              0.2222222222222222,
              "#7201a8"
             ],
             [
              0.3333333333333333,
              "#9c179e"
             ],
             [
              0.4444444444444444,
              "#bd3786"
             ],
             [
              0.5555555555555556,
              "#d8576b"
             ],
             [
              0.6666666666666666,
              "#ed7953"
             ],
             [
              0.7777777777777778,
              "#fb9f3a"
             ],
             [
              0.8888888888888888,
              "#fdca26"
             ],
             [
              1,
              "#f0f921"
             ]
            ],
            "type": "heatmapgl"
           }
          ],
          "histogram": [
           {
            "marker": {
             "colorbar": {
              "outlinewidth": 0,
              "ticks": ""
             }
            },
            "type": "histogram"
           }
          ],
          "histogram2d": [
           {
            "colorbar": {
             "outlinewidth": 0,
             "ticks": ""
            },
            "colorscale": [
             [
              0,
              "#0d0887"
             ],
             [
              0.1111111111111111,
              "#46039f"
             ],
             [
              0.2222222222222222,
              "#7201a8"
             ],
             [
              0.3333333333333333,
              "#9c179e"
             ],
             [
              0.4444444444444444,
              "#bd3786"
             ],
             [
              0.5555555555555556,
              "#d8576b"
             ],
             [
              0.6666666666666666,
              "#ed7953"
             ],
             [
              0.7777777777777778,
              "#fb9f3a"
             ],
             [
              0.8888888888888888,
              "#fdca26"
             ],
             [
              1,
              "#f0f921"
             ]
            ],
            "type": "histogram2d"
           }
          ],
          "histogram2dcontour": [
           {
            "colorbar": {
             "outlinewidth": 0,
             "ticks": ""
            },
            "colorscale": [
             [
              0,
              "#0d0887"
             ],
             [
              0.1111111111111111,
              "#46039f"
             ],
             [
              0.2222222222222222,
              "#7201a8"
             ],
             [
              0.3333333333333333,
              "#9c179e"
             ],
             [
              0.4444444444444444,
              "#bd3786"
             ],
             [
              0.5555555555555556,
              "#d8576b"
             ],
             [
              0.6666666666666666,
              "#ed7953"
             ],
             [
              0.7777777777777778,
              "#fb9f3a"
             ],
             [
              0.8888888888888888,
              "#fdca26"
             ],
             [
              1,
              "#f0f921"
             ]
            ],
            "type": "histogram2dcontour"
           }
          ],
          "mesh3d": [
           {
            "colorbar": {
             "outlinewidth": 0,
             "ticks": ""
            },
            "type": "mesh3d"
           }
          ],
          "parcoords": [
           {
            "line": {
             "colorbar": {
              "outlinewidth": 0,
              "ticks": ""
             }
            },
            "type": "parcoords"
           }
          ],
          "scatter": [
           {
            "marker": {
             "colorbar": {
              "outlinewidth": 0,
              "ticks": ""
             }
            },
            "type": "scatter"
           }
          ],
          "scatter3d": [
           {
            "line": {
             "colorbar": {
              "outlinewidth": 0,
              "ticks": ""
             }
            },
            "marker": {
             "colorbar": {
              "outlinewidth": 0,
              "ticks": ""
             }
            },
            "type": "scatter3d"
           }
          ],
          "scattercarpet": [
           {
            "marker": {
             "colorbar": {
              "outlinewidth": 0,
              "ticks": ""
             }
            },
            "type": "scattercarpet"
           }
          ],
          "scattergeo": [
           {
            "marker": {
             "colorbar": {
              "outlinewidth": 0,
              "ticks": ""
             }
            },
            "type": "scattergeo"
           }
          ],
          "scattergl": [
           {
            "marker": {
             "colorbar": {
              "outlinewidth": 0,
              "ticks": ""
             }
            },
            "type": "scattergl"
           }
          ],
          "scattermapbox": [
           {
            "marker": {
             "colorbar": {
              "outlinewidth": 0,
              "ticks": ""
             }
            },
            "type": "scattermapbox"
           }
          ],
          "scatterpolar": [
           {
            "marker": {
             "colorbar": {
              "outlinewidth": 0,
              "ticks": ""
             }
            },
            "type": "scatterpolar"
           }
          ],
          "scatterpolargl": [
           {
            "marker": {
             "colorbar": {
              "outlinewidth": 0,
              "ticks": ""
             }
            },
            "type": "scatterpolargl"
           }
          ],
          "scatterternary": [
           {
            "marker": {
             "colorbar": {
              "outlinewidth": 0,
              "ticks": ""
             }
            },
            "type": "scatterternary"
           }
          ],
          "surface": [
           {
            "colorbar": {
             "outlinewidth": 0,
             "ticks": ""
            },
            "colorscale": [
             [
              0,
              "#0d0887"
             ],
             [
              0.1111111111111111,
              "#46039f"
             ],
             [
              0.2222222222222222,
              "#7201a8"
             ],
             [
              0.3333333333333333,
              "#9c179e"
             ],
             [
              0.4444444444444444,
              "#bd3786"
             ],
             [
              0.5555555555555556,
              "#d8576b"
             ],
             [
              0.6666666666666666,
              "#ed7953"
             ],
             [
              0.7777777777777778,
              "#fb9f3a"
             ],
             [
              0.8888888888888888,
              "#fdca26"
             ],
             [
              1,
              "#f0f921"
             ]
            ],
            "type": "surface"
           }
          ],
          "table": [
           {
            "cells": {
             "fill": {
              "color": "#EBF0F8"
             },
             "line": {
              "color": "white"
             }
            },
            "header": {
             "fill": {
              "color": "#C8D4E3"
             },
             "line": {
              "color": "white"
             }
            },
            "type": "table"
           }
          ]
         },
         "layout": {
          "annotationdefaults": {
           "arrowcolor": "#2a3f5f",
           "arrowhead": 0,
           "arrowwidth": 1
          },
          "colorscale": {
           "diverging": [
            [
             0,
             "#8e0152"
            ],
            [
             0.1,
             "#c51b7d"
            ],
            [
             0.2,
             "#de77ae"
            ],
            [
             0.3,
             "#f1b6da"
            ],
            [
             0.4,
             "#fde0ef"
            ],
            [
             0.5,
             "#f7f7f7"
            ],
            [
             0.6,
             "#e6f5d0"
            ],
            [
             0.7,
             "#b8e186"
            ],
            [
             0.8,
             "#7fbc41"
            ],
            [
             0.9,
             "#4d9221"
            ],
            [
             1,
             "#276419"
            ]
           ],
           "sequential": [
            [
             0,
             "#0d0887"
            ],
            [
             0.1111111111111111,
             "#46039f"
            ],
            [
             0.2222222222222222,
             "#7201a8"
            ],
            [
             0.3333333333333333,
             "#9c179e"
            ],
            [
             0.4444444444444444,
             "#bd3786"
            ],
            [
             0.5555555555555556,
             "#d8576b"
            ],
            [
             0.6666666666666666,
             "#ed7953"
            ],
            [
             0.7777777777777778,
             "#fb9f3a"
            ],
            [
             0.8888888888888888,
             "#fdca26"
            ],
            [
             1,
             "#f0f921"
            ]
           ],
           "sequentialminus": [
            [
             0,
             "#0d0887"
            ],
            [
             0.1111111111111111,
             "#46039f"
            ],
            [
             0.2222222222222222,
             "#7201a8"
            ],
            [
             0.3333333333333333,
             "#9c179e"
            ],
            [
             0.4444444444444444,
             "#bd3786"
            ],
            [
             0.5555555555555556,
             "#d8576b"
            ],
            [
             0.6666666666666666,
             "#ed7953"
            ],
            [
             0.7777777777777778,
             "#fb9f3a"
            ],
            [
             0.8888888888888888,
             "#fdca26"
            ],
            [
             1,
             "#f0f921"
            ]
           ]
          },
          "colorway": [
           "#636efa",
           "#EF553B",
           "#00cc96",
           "#ab63fa",
           "#FFA15A",
           "#19d3f3",
           "#FF6692",
           "#B6E880",
           "#FF97FF",
           "#FECB52"
          ],
          "font": {
           "color": "#2a3f5f"
          },
          "geo": {
           "bgcolor": "white",
           "lakecolor": "white",
           "landcolor": "#E5ECF6",
           "showlakes": true,
           "showland": true,
           "subunitcolor": "white"
          },
          "hoverlabel": {
           "align": "left"
          },
          "hovermode": "closest",
          "mapbox": {
           "style": "light"
          },
          "paper_bgcolor": "white",
          "plot_bgcolor": "#E5ECF6",
          "polar": {
           "angularaxis": {
            "gridcolor": "white",
            "linecolor": "white",
            "ticks": ""
           },
           "bgcolor": "#E5ECF6",
           "radialaxis": {
            "gridcolor": "white",
            "linecolor": "white",
            "ticks": ""
           }
          },
          "scene": {
           "xaxis": {
            "backgroundcolor": "#E5ECF6",
            "gridcolor": "white",
            "gridwidth": 2,
            "linecolor": "white",
            "showbackground": true,
            "ticks": "",
            "zerolinecolor": "white"
           },
           "yaxis": {
            "backgroundcolor": "#E5ECF6",
            "gridcolor": "white",
            "gridwidth": 2,
            "linecolor": "white",
            "showbackground": true,
            "ticks": "",
            "zerolinecolor": "white"
           },
           "zaxis": {
            "backgroundcolor": "#E5ECF6",
            "gridcolor": "white",
            "gridwidth": 2,
            "linecolor": "white",
            "showbackground": true,
            "ticks": "",
            "zerolinecolor": "white"
           }
          },
          "shapedefaults": {
           "line": {
            "color": "#2a3f5f"
           }
          },
          "ternary": {
           "aaxis": {
            "gridcolor": "white",
            "linecolor": "white",
            "ticks": ""
           },
           "baxis": {
            "gridcolor": "white",
            "linecolor": "white",
            "ticks": ""
           },
           "bgcolor": "#E5ECF6",
           "caxis": {
            "gridcolor": "white",
            "linecolor": "white",
            "ticks": ""
           }
          },
          "title": {
           "x": 0.05
          },
          "xaxis": {
           "automargin": true,
           "gridcolor": "white",
           "linecolor": "white",
           "ticks": "",
           "zerolinecolor": "white",
           "zerolinewidth": 2
          },
          "yaxis": {
           "automargin": true,
           "gridcolor": "white",
           "linecolor": "white",
           "ticks": "",
           "zerolinecolor": "white",
           "zerolinewidth": 2
          }
         }
        },
        "xaxis": {
         "gridcolor": "#eee",
         "linecolor": "black",
         "nticks": 5,
         "showgrid": true,
         "showline": true,
         "title": {
          "text": "tau"
         },
         "zeroline": false
        },
        "yaxis": {
         "gridcolor": "#eee",
         "linecolor": "black",
         "range": [
          0,
          1
         ],
         "showgrid": true,
         "showline": true,
         "title": {
          "text": "Average \"has_heart_disease\""
         }
        }
       }
      },
      "text/html": [
       "<div>\n",
       "        \n",
       "        \n",
       "            <div id=\"10696487-9084-425e-862d-5f066d6bbbea\" class=\"plotly-graph-div\" style=\"height:525px; width:100%;\"></div>\n",
       "            <script type=\"text/javascript\">\n",
       "                require([\"plotly\"], function(Plotly) {\n",
       "                    window.PLOTLYENV=window.PLOTLYENV || {};\n",
       "                    \n",
       "                if (document.getElementById(\"10696487-9084-425e-862d-5f066d6bbbea\")) {\n",
       "                    Plotly.newPlot(\n",
       "                        '10696487-9084-425e-862d-5f066d6bbbea',\n",
       "                        [{\"customdata\": [[-1.0, 0.0], [-0.95, 0.026315789473684237], [-0.9, 0.05263157894736842], [-0.85, 0.07894736842105265], [-0.8, 0.10526315789473684], [-0.75, 0.13157894736842102], [-0.7, 0.15789473684210525], [-0.65, 0.18421052631578944], [-0.6, 0.21052631578947367], [-0.55, 0.23684210526315785], [-0.5, 0.2631578947368421], [-0.45, 0.2894736842105263], [-0.4, 0.3157894736842105], [-0.35, 0.3421052631578947], [-0.3, 0.3684210526315789], [-0.25, 0.39473684210526316], [-0.2, 0.42105263157894735], [-0.15, 0.4473684210526315], [-0.1, 0.47368421052631576], [-0.05, 0.5], [0.0, 0.5263157894736842], [0.05, 0.5499999999999999], [0.1, 0.5736842105263158], [0.15, 0.5973684210526315], [0.2, 0.6210526315789473], [0.25, 0.6447368421052632], [0.3, 0.6684210526315789], [0.35, 0.6921052631578947], [0.4, 0.7157894736842105], [0.45, 0.7394736842105263], [0.5, 0.763157894736842], [0.55, 0.7868421052631579], [0.6, 0.8105263157894737], [0.65, 0.8342105263157895], [0.7, 0.8578947368421053], [0.75, 0.881578947368421], [0.8, 0.9052631578947369], [0.85, 0.9289473684210526], [0.9, 0.9526315789473685], [0.95, 0.9763157894736842], [1.0, 1.0]], \"hoverinfo\": \"y\", \"mode\": \"lines+markers\", \"name\": \"cp = 0\", \"type\": \"scatter\", \"x\": [-1.0, -0.95, -0.9, -0.85, -0.8, -0.75, -0.7, -0.65, -0.6, -0.55, -0.5, -0.45, -0.4, -0.35, -0.3, -0.25, -0.2, -0.15, -0.1, -0.05, 0.0, 0.05, 0.1, 0.15, 0.2, 0.25, 0.3, 0.35, 0.4, 0.45, 0.5, 0.55, 0.6, 0.65, 0.7, 0.75, 0.8, 0.85, 0.9, 0.95, 1.0], \"y\": [0.7570731931546382, 0.7439052898613662, 0.7306059020132866, 0.7173007269220667, 0.7040005928977208, 0.6906982597293887, 0.677395731017076, 0.6640931862337821, 0.6507906402693803, 0.6374878494620383, 0.6241855019933412, 0.6108829949594635, 0.5975804552324574, 0.5842779099825004, 0.5709753640095014, 0.5576728179698766, 0.5443702473529682, 0.5310677258831412, 0.5177651793339333, 0.5044626337962745, 0.49116008775304715, 0.47918779691523294, 0.4672155263540463, 0.4552434160254193, 0.443270921998024, 0.43129863057798945, 0.4193263393402682, 0.4073540494343149, 0.3953817671351434, 0.38340952082700014, 0.3714374213571273, 0.3594648819267443, 0.34749259053189663, 0.33552029964514385, 0.3235480142769813, 0.31157578311901835, 0.2996040456306197, 0.2876311336698347, 0.27565888369891656, 0.26369211524221375, 0.25185211790255374]}, {\"customdata\": [[-1.0, 0.0], [-0.95, 0.009868421052631582], [-0.9, 0.019736842105263164], [-0.85, 0.029605263157894746], [-0.8, 0.0394736842105263], [-0.75, 0.04934210526315791], [-0.7, 0.05921052631578949], [-0.65, 0.06907894736842105], [-0.6, 0.07894736842105264], [-0.55, 0.08881578947368421], [-0.5, 0.09868421052631579], [-0.45, 0.10855263157894737], [-0.4, 0.11842105263157894], [-0.35, 0.12828947368421054], [-0.3, 0.13815789473684212], [-0.25, 0.14802631578947367], [-0.2, 0.15789473684210525], [-0.15, 0.16776315789473684], [-0.1, 0.17763157894736842], [-0.05, 0.1875], [0.0, 0.19736842105263158], [0.05, 0.2375], [0.1, 0.27763157894736845], [0.15, 0.31776315789473686], [0.2, 0.35789473684210527], [0.25, 0.3980263157894737], [0.3, 0.4381578947368421], [0.35, 0.4782894736842105], [0.4, 0.5184210526315789], [0.45, 0.5585526315789473], [0.5, 0.5986842105263157], [0.55, 0.6388157894736842], [0.6, 0.6789473684210525], [0.65, 0.7190789473684209], [0.7, 0.7592105263157893], [0.75, 0.799342105263158], [0.8, 0.8394736842105264], [0.85, 0.8796052631578948], [0.9, 0.9197368421052632], [0.95, 0.9598684210526316], [1.0, 1.0]], \"hoverinfo\": \"y\", \"mode\": \"lines+markers\", \"name\": \"cp = 1\", \"type\": \"scatter\", \"x\": [-1.0, -0.95, -0.9, -0.85, -0.8, -0.75, -0.7, -0.65, -0.6, -0.55, -0.5, -0.45, -0.4, -0.35, -0.3, -0.25, -0.2, -0.15, -0.1, -0.05, 0.0, 0.05, 0.1, 0.15, 0.2, 0.25, 0.3, 0.35, 0.4, 0.45, 0.5, 0.55, 0.6, 0.65, 0.7, 0.75, 0.8, 0.85, 0.9, 0.95, 1.0], \"y\": [0.3934536207332455, 0.39827787332781955, 0.4031544626255945, 0.408043357100594, 0.41293614850691657, 0.4178224980287726, 0.42271114172024676, 0.4276002511705457, 0.43248945122279947, 0.437378667915612, 0.4422678874454679, 0.44715814355054206, 0.452046660923799, 0.4569356420648924, 0.46182479025317064, 0.46671399191739515, 0.47160320820077534, 0.47649242768708794, 0.4813822441867548, 0.4862709027018091, 0.49116008775304715, 0.5110429160404938, 0.5309257570512715, 0.5508086833200141, 0.5706916821411092, 0.5905742285357187, 0.6104570568726159, 0.6303398848487527, 0.6502227130047615, 0.670105540784911, 0.6899883534307909, 0.7098709601714385, 0.7297540256253592, 0.7496368535831478, 0.7695196787297224, 0.7894024861178047, 0.8092852635073495, 0.8291681054887159, 0.8490509920173979, 0.8689338216252929, 0.8887344357820791]}, {\"customdata\": [[-1.0, 0.0], [-0.95, 0.009868421052631582], [-0.9, 0.019736842105263164], [-0.85, 0.029605263157894746], [-0.8, 0.0394736842105263], [-0.75, 0.04934210526315791], [-0.7, 0.05921052631578949], [-0.65, 0.06907894736842105], [-0.6, 0.07894736842105264], [-0.55, 0.08881578947368421], [-0.5, 0.09868421052631579], [-0.45, 0.10855263157894737], [-0.4, 0.11842105263157894], [-0.35, 0.12828947368421054], [-0.3, 0.13815789473684212], [-0.25, 0.14802631578947367], [-0.2, 0.15789473684210525], [-0.15, 0.16776315789473684], [-0.1, 0.17763157894736842], [-0.05, 0.1875], [0.0, 0.19736842105263158], [0.05, 0.2375], [0.1, 0.27763157894736845], [0.15, 0.31776315789473686], [0.2, 0.35789473684210527], [0.25, 0.3980263157894737], [0.3, 0.4381578947368421], [0.35, 0.4782894736842105], [0.4, 0.5184210526315789], [0.45, 0.5585526315789473], [0.5, 0.5986842105263157], [0.55, 0.6388157894736842], [0.6, 0.6789473684210525], [0.65, 0.7190789473684209], [0.7, 0.7592105263157893], [0.75, 0.799342105263158], [0.8, 0.8394736842105264], [0.85, 0.8796052631578948], [0.9, 0.9197368421052632], [0.95, 0.9598684210526316], [1.0, 1.0]], \"hoverinfo\": \"y\", \"mode\": \"lines+markers\", \"name\": \"cp = 2\", \"type\": \"scatter\", \"x\": [-1.0, -0.95, -0.9, -0.85, -0.8, -0.75, -0.7, -0.65, -0.6, -0.55, -0.5, -0.45, -0.4, -0.35, -0.3, -0.25, -0.2, -0.15, -0.1, -0.05, 0.0, 0.05, 0.1, 0.15, 0.2, 0.25, 0.3, 0.35, 0.4, 0.45, 0.5, 0.55, 0.6, 0.65, 0.7, 0.75, 0.8, 0.85, 0.9, 0.95, 1.0], \"y\": [0.4097161689154082, 0.4137374588949662, 0.4178023745048203, 0.4218775471824585, 0.42595596817485065, 0.43002901948873873, 0.4341039831239901, 0.4381793349958141, 0.44225476238954076, 0.446330203654123, 0.45040564728354304, 0.45448195495759086, 0.45855681329939585, 0.4626320582181713, 0.46670744238031314, 0.4707828711177094, 0.4748583120410065, 0.47893375563413054, 0.48300969687197215, 0.48708467286352386, 0.49116008775304715, 0.5077335603459854, 0.5243070435445468, 0.5408805978104896, 0.5574542125529606, 0.5740274501721246, 0.5906009228062827, 0.6071743951397265, 0.623747867623104, 0.6403213397931811, 0.6568947993479806, 0.6734680872690127, 0.6900417575537482, 0.7066152298718978, 0.72318869984674, 0.7397621550188647, 0.7563355851854958, 0.7729090691930983, 0.7894825903334316, 0.8060560640270389, 0.8225610064480342]}, {\"customdata\": [[-1.0, 0.0], [-0.95, 0.00394736842105263], [-0.9, 0.00789473684210526], [-0.85, 0.01184210526315789], [-0.8, 0.01578947368421052], [-0.75, 0.019736842105263157], [-0.7, 0.023684210526315794], [-0.65, 0.027631578947368417], [-0.6, 0.031578947368421054], [-0.55, 0.03552631578947368], [-0.5, 0.039473684210526314], [-0.45, 0.043421052631578944], [-0.4, 0.047368421052631574], [-0.35, 0.05131578947368421], [-0.3, 0.05526315789473684], [-0.25, 0.05921052631578947], [-0.2, 0.06315789473684211], [-0.15, 0.06710526315789474], [-0.1, 0.07105263157894737], [-0.05, 0.075], [0.0, 0.07894736842105263], [0.05, 0.125], [0.1, 0.17105263157894737], [0.15, 0.21710526315789472], [0.2, 0.26315789473684215], [0.25, 0.3092105263157895], [0.3, 0.35526315789473684], [0.35, 0.4013157894736842], [0.4, 0.44736842105263164], [0.45, 0.493421052631579], [0.5, 0.5394736842105263], [0.55, 0.5855263157894738], [0.6, 0.631578947368421], [0.65, 0.6776315789473685], [0.7, 0.7236842105263157], [0.75, 0.7697368421052632], [0.8, 0.8157894736842106], [0.85, 0.8618421052631579], [0.9, 0.9078947368421053], [0.95, 0.9539473684210525], [1.0, 1.0]], \"hoverinfo\": \"y\", \"mode\": \"lines+markers\", \"name\": \"cp = 3\", \"type\": \"scatter\", \"x\": [-1.0, -0.95, -0.9, -0.85, -0.8, -0.75, -0.7, -0.65, -0.6, -0.55, -0.5, -0.45, -0.4, -0.35, -0.3, -0.25, -0.2, -0.15, -0.1, -0.05, 0.0, 0.05, 0.1, 0.15, 0.2, 0.25, 0.3, 0.35, 0.4, 0.45, 0.5, 0.55, 0.6, 0.65, 0.7, 0.75, 0.8, 0.85, 0.9, 0.95, 1.0], \"y\": [0.5105293461573114, 0.5096006108193188, 0.5086335483261897, 0.5076574891438135, 0.5066909073768031, 0.5057211310291602, 0.5047505979209188, 0.5037798910266568, 0.5028091458493786, 0.5018357616617392, 0.5008665602688274, 0.49989647512670565, 0.49892598801649546, 0.49795533054765767, 0.4969846070163266, 0.4960138606547363, 0.4950431075363781, 0.4940713268653943, 0.4931014008615894, 0.49213083083140824, 0.49116008775304715, 0.4798343267042947, 0.46850913391241883, 0.45718360538489944, 0.445858162385475, 0.4345326162515387, 0.42320718182320977, 0.2646505809423886, 0.510575188336818, 0.2646505809423885, 0.26465058094238847, 0.2646505809423885, 0.2646505809423885, 0.2646505809423885, 0.2646505809423885, 0.2646505809423885, 0.2646505809423885, 0.2646505809423885, 0.2646505809423885, 0.2646505809423885, 0.2646539103655313]}],\n",
       "                        {\"margin\": {\"r\": 50, \"t\": 50}, \"plot_bgcolor\": \"white\", \"template\": {\"data\": {\"bar\": [{\"error_x\": {\"color\": \"#2a3f5f\"}, \"error_y\": {\"color\": \"#2a3f5f\"}, \"marker\": {\"line\": {\"color\": \"#E5ECF6\", \"width\": 0.5}}, \"type\": \"bar\"}], \"barpolar\": [{\"marker\": {\"line\": {\"color\": \"#E5ECF6\", \"width\": 0.5}}, \"type\": \"barpolar\"}], \"carpet\": [{\"aaxis\": {\"endlinecolor\": \"#2a3f5f\", \"gridcolor\": \"white\", \"linecolor\": \"white\", \"minorgridcolor\": \"white\", \"startlinecolor\": \"#2a3f5f\"}, \"baxis\": {\"endlinecolor\": \"#2a3f5f\", \"gridcolor\": \"white\", \"linecolor\": \"white\", \"minorgridcolor\": \"white\", \"startlinecolor\": \"#2a3f5f\"}, \"type\": \"carpet\"}], \"choropleth\": [{\"colorbar\": {\"outlinewidth\": 0, \"ticks\": \"\"}, \"type\": \"choropleth\"}], \"contour\": [{\"colorbar\": {\"outlinewidth\": 0, \"ticks\": \"\"}, \"colorscale\": [[0.0, \"#0d0887\"], [0.1111111111111111, \"#46039f\"], [0.2222222222222222, \"#7201a8\"], [0.3333333333333333, \"#9c179e\"], [0.4444444444444444, \"#bd3786\"], [0.5555555555555556, \"#d8576b\"], [0.6666666666666666, \"#ed7953\"], [0.7777777777777778, \"#fb9f3a\"], [0.8888888888888888, \"#fdca26\"], [1.0, \"#f0f921\"]], \"type\": \"contour\"}], \"contourcarpet\": [{\"colorbar\": {\"outlinewidth\": 0, \"ticks\": \"\"}, \"type\": \"contourcarpet\"}], \"heatmap\": [{\"colorbar\": {\"outlinewidth\": 0, \"ticks\": \"\"}, \"colorscale\": [[0.0, \"#0d0887\"], [0.1111111111111111, \"#46039f\"], [0.2222222222222222, \"#7201a8\"], [0.3333333333333333, \"#9c179e\"], [0.4444444444444444, \"#bd3786\"], [0.5555555555555556, \"#d8576b\"], [0.6666666666666666, \"#ed7953\"], [0.7777777777777778, \"#fb9f3a\"], [0.8888888888888888, \"#fdca26\"], [1.0, \"#f0f921\"]], \"type\": \"heatmap\"}], \"heatmapgl\": [{\"colorbar\": {\"outlinewidth\": 0, \"ticks\": \"\"}, \"colorscale\": [[0.0, \"#0d0887\"], [0.1111111111111111, \"#46039f\"], [0.2222222222222222, \"#7201a8\"], [0.3333333333333333, \"#9c179e\"], [0.4444444444444444, \"#bd3786\"], [0.5555555555555556, \"#d8576b\"], [0.6666666666666666, \"#ed7953\"], [0.7777777777777778, \"#fb9f3a\"], [0.8888888888888888, \"#fdca26\"], [1.0, \"#f0f921\"]], \"type\": \"heatmapgl\"}], \"histogram\": [{\"marker\": {\"colorbar\": {\"outlinewidth\": 0, \"ticks\": \"\"}}, \"type\": \"histogram\"}], \"histogram2d\": [{\"colorbar\": {\"outlinewidth\": 0, \"ticks\": \"\"}, \"colorscale\": [[0.0, \"#0d0887\"], [0.1111111111111111, \"#46039f\"], [0.2222222222222222, \"#7201a8\"], [0.3333333333333333, \"#9c179e\"], [0.4444444444444444, \"#bd3786\"], [0.5555555555555556, \"#d8576b\"], [0.6666666666666666, \"#ed7953\"], [0.7777777777777778, \"#fb9f3a\"], [0.8888888888888888, \"#fdca26\"], [1.0, \"#f0f921\"]], \"type\": \"histogram2d\"}], \"histogram2dcontour\": [{\"colorbar\": {\"outlinewidth\": 0, \"ticks\": \"\"}, \"colorscale\": [[0.0, \"#0d0887\"], [0.1111111111111111, \"#46039f\"], [0.2222222222222222, \"#7201a8\"], [0.3333333333333333, \"#9c179e\"], [0.4444444444444444, \"#bd3786\"], [0.5555555555555556, \"#d8576b\"], [0.6666666666666666, \"#ed7953\"], [0.7777777777777778, \"#fb9f3a\"], [0.8888888888888888, \"#fdca26\"], [1.0, \"#f0f921\"]], \"type\": \"histogram2dcontour\"}], \"mesh3d\": [{\"colorbar\": {\"outlinewidth\": 0, \"ticks\": \"\"}, \"type\": \"mesh3d\"}], \"parcoords\": [{\"line\": {\"colorbar\": {\"outlinewidth\": 0, \"ticks\": \"\"}}, \"type\": \"parcoords\"}], \"scatter\": [{\"marker\": {\"colorbar\": {\"outlinewidth\": 0, \"ticks\": \"\"}}, \"type\": \"scatter\"}], \"scatter3d\": [{\"line\": {\"colorbar\": {\"outlinewidth\": 0, \"ticks\": \"\"}}, \"marker\": {\"colorbar\": {\"outlinewidth\": 0, \"ticks\": \"\"}}, \"type\": \"scatter3d\"}], \"scattercarpet\": [{\"marker\": {\"colorbar\": {\"outlinewidth\": 0, \"ticks\": \"\"}}, \"type\": \"scattercarpet\"}], \"scattergeo\": [{\"marker\": {\"colorbar\": {\"outlinewidth\": 0, \"ticks\": \"\"}}, \"type\": \"scattergeo\"}], \"scattergl\": [{\"marker\": {\"colorbar\": {\"outlinewidth\": 0, \"ticks\": \"\"}}, \"type\": \"scattergl\"}], \"scattermapbox\": [{\"marker\": {\"colorbar\": {\"outlinewidth\": 0, \"ticks\": \"\"}}, \"type\": \"scattermapbox\"}], \"scatterpolar\": [{\"marker\": {\"colorbar\": {\"outlinewidth\": 0, \"ticks\": \"\"}}, \"type\": \"scatterpolar\"}], \"scatterpolargl\": [{\"marker\": {\"colorbar\": {\"outlinewidth\": 0, \"ticks\": \"\"}}, \"type\": \"scatterpolargl\"}], \"scatterternary\": [{\"marker\": {\"colorbar\": {\"outlinewidth\": 0, \"ticks\": \"\"}}, \"type\": \"scatterternary\"}], \"surface\": [{\"colorbar\": {\"outlinewidth\": 0, \"ticks\": \"\"}, \"colorscale\": [[0.0, \"#0d0887\"], [0.1111111111111111, \"#46039f\"], [0.2222222222222222, \"#7201a8\"], [0.3333333333333333, \"#9c179e\"], [0.4444444444444444, \"#bd3786\"], [0.5555555555555556, \"#d8576b\"], [0.6666666666666666, \"#ed7953\"], [0.7777777777777778, \"#fb9f3a\"], [0.8888888888888888, \"#fdca26\"], [1.0, \"#f0f921\"]], \"type\": \"surface\"}], \"table\": [{\"cells\": {\"fill\": {\"color\": \"#EBF0F8\"}, \"line\": {\"color\": \"white\"}}, \"header\": {\"fill\": {\"color\": \"#C8D4E3\"}, \"line\": {\"color\": \"white\"}}, \"type\": \"table\"}]}, \"layout\": {\"annotationdefaults\": {\"arrowcolor\": \"#2a3f5f\", \"arrowhead\": 0, \"arrowwidth\": 1}, \"colorscale\": {\"diverging\": [[0, \"#8e0152\"], [0.1, \"#c51b7d\"], [0.2, \"#de77ae\"], [0.3, \"#f1b6da\"], [0.4, \"#fde0ef\"], [0.5, \"#f7f7f7\"], [0.6, \"#e6f5d0\"], [0.7, \"#b8e186\"], [0.8, \"#7fbc41\"], [0.9, \"#4d9221\"], [1, \"#276419\"]], \"sequential\": [[0.0, \"#0d0887\"], [0.1111111111111111, \"#46039f\"], [0.2222222222222222, \"#7201a8\"], [0.3333333333333333, \"#9c179e\"], [0.4444444444444444, \"#bd3786\"], [0.5555555555555556, \"#d8576b\"], [0.6666666666666666, \"#ed7953\"], [0.7777777777777778, \"#fb9f3a\"], [0.8888888888888888, \"#fdca26\"], [1.0, \"#f0f921\"]], \"sequentialminus\": [[0.0, \"#0d0887\"], [0.1111111111111111, \"#46039f\"], [0.2222222222222222, \"#7201a8\"], [0.3333333333333333, \"#9c179e\"], [0.4444444444444444, \"#bd3786\"], [0.5555555555555556, \"#d8576b\"], [0.6666666666666666, \"#ed7953\"], [0.7777777777777778, \"#fb9f3a\"], [0.8888888888888888, \"#fdca26\"], [1.0, \"#f0f921\"]]}, \"colorway\": [\"#636efa\", \"#EF553B\", \"#00cc96\", \"#ab63fa\", \"#FFA15A\", \"#19d3f3\", \"#FF6692\", \"#B6E880\", \"#FF97FF\", \"#FECB52\"], \"font\": {\"color\": \"#2a3f5f\"}, \"geo\": {\"bgcolor\": \"white\", \"lakecolor\": \"white\", \"landcolor\": \"#E5ECF6\", \"showlakes\": true, \"showland\": true, \"subunitcolor\": \"white\"}, \"hoverlabel\": {\"align\": \"left\"}, \"hovermode\": \"closest\", \"mapbox\": {\"style\": \"light\"}, \"paper_bgcolor\": \"white\", \"plot_bgcolor\": \"#E5ECF6\", \"polar\": {\"angularaxis\": {\"gridcolor\": \"white\", \"linecolor\": \"white\", \"ticks\": \"\"}, \"bgcolor\": \"#E5ECF6\", \"radialaxis\": {\"gridcolor\": \"white\", \"linecolor\": \"white\", \"ticks\": \"\"}}, \"scene\": {\"xaxis\": {\"backgroundcolor\": \"#E5ECF6\", \"gridcolor\": \"white\", \"gridwidth\": 2, \"linecolor\": \"white\", \"showbackground\": true, \"ticks\": \"\", \"zerolinecolor\": \"white\"}, \"yaxis\": {\"backgroundcolor\": \"#E5ECF6\", \"gridcolor\": \"white\", \"gridwidth\": 2, \"linecolor\": \"white\", \"showbackground\": true, \"ticks\": \"\", \"zerolinecolor\": \"white\"}, \"zaxis\": {\"backgroundcolor\": \"#E5ECF6\", \"gridcolor\": \"white\", \"gridwidth\": 2, \"linecolor\": \"white\", \"showbackground\": true, \"ticks\": \"\", \"zerolinecolor\": \"white\"}}, \"shapedefaults\": {\"line\": {\"color\": \"#2a3f5f\"}}, \"ternary\": {\"aaxis\": {\"gridcolor\": \"white\", \"linecolor\": \"white\", \"ticks\": \"\"}, \"baxis\": {\"gridcolor\": \"white\", \"linecolor\": \"white\", \"ticks\": \"\"}, \"bgcolor\": \"#E5ECF6\", \"caxis\": {\"gridcolor\": \"white\", \"linecolor\": \"white\", \"ticks\": \"\"}}, \"title\": {\"x\": 0.05}, \"xaxis\": {\"automargin\": true, \"gridcolor\": \"white\", \"linecolor\": \"white\", \"ticks\": \"\", \"zerolinecolor\": \"white\", \"zerolinewidth\": 2}, \"yaxis\": {\"automargin\": true, \"gridcolor\": \"white\", \"linecolor\": \"white\", \"ticks\": \"\", \"zerolinecolor\": \"white\", \"zerolinewidth\": 2}}}, \"xaxis\": {\"gridcolor\": \"#eee\", \"linecolor\": \"black\", \"nticks\": 5, \"showgrid\": true, \"showline\": true, \"title\": {\"text\": \"tau\"}, \"zeroline\": false}, \"yaxis\": {\"gridcolor\": \"#eee\", \"linecolor\": \"black\", \"range\": [0, 1], \"showgrid\": true, \"showline\": true, \"title\": {\"text\": \"Average \\\"has_heart_disease\\\"\"}}},\n",
       "                        {\"responsive\": true}\n",
       "                    ).then(function(){\n",
       "                            \n",
       "var gd = document.getElementById('10696487-9084-425e-862d-5f066d6bbbea');\n",
       "var x = new MutationObserver(function (mutations, observer) {{\n",
       "        var display = window.getComputedStyle(gd).display;\n",
       "        if (!display || display === 'none') {{\n",
       "            console.log([gd, 'removed!']);\n",
       "            Plotly.purge(gd);\n",
       "            observer.disconnect();\n",
       "        }}\n",
       "}});\n",
       "\n",
       "// Listen for the removal of the full notebook cells\n",
       "var notebookContainer = gd.closest('#notebook-container');\n",
       "if (notebookContainer) {{\n",
       "    x.observe(notebookContainer, {childList: true});\n",
       "}}\n",
       "\n",
       "// Listen for the clearing of the current output cell\n",
       "var outputEl = gd.closest('.output');\n",
       "if (outputEl) {{\n",
       "    x.observe(outputEl, {childList: true});\n",
       "}}\n",
       "\n",
       "                        })\n",
       "                };\n",
       "                });\n",
       "            </script>\n",
       "        </div>"
      ]
     },
     "metadata": {},
     "output_type": "display_data"
    }
   ],
   "source": [
    "explainer.plot_bias(\n",
    "    X_test=X_test[\"cp\"],\n",
    "    y_pred=y_pred,\n",
    ")"
   ]
  },
  {
   "cell_type": "code",
   "execution_count": 24,
   "metadata": {},
   "outputs": [
    {
     "name": "stderr",
     "output_type": "stream",
     "text": [
      "100%|██████████| 226/226 [00:00<00:00, 1184.47it/s]\n"
     ]
    },
    {
     "data": {
      "application/vnd.plotly.v1+json": {
       "config": {
        "plotlyServerURL": "https://plot.ly"
       },
       "data": [
        {
         "customdata": [
          [
           -1,
           109.5
          ],
          [
           -0.95,
           111.49736842105264
          ],
          [
           -0.9,
           113.49473684210525
          ],
          [
           -0.85,
           115.4921052631579
          ],
          [
           -0.8,
           117.48947368421052
          ],
          [
           -0.75,
           119.48684210526315
          ],
          [
           -0.7,
           121.48421052631579
          ],
          [
           -0.65,
           123.48157894736842
          ],
          [
           -0.6,
           125.47894736842105
          ],
          [
           -0.55,
           127.47631578947369
          ],
          [
           -0.5,
           129.4736842105263
          ],
          [
           -0.45,
           131.47105263157894
          ],
          [
           -0.4,
           133.46842105263158
          ],
          [
           -0.35,
           135.4657894736842
          ],
          [
           -0.3,
           137.46315789473684
          ],
          [
           -0.25,
           139.46052631578948
          ],
          [
           -0.2,
           141.4578947368421
          ],
          [
           -0.15,
           143.45526315789473
          ],
          [
           -0.1,
           145.45263157894738
          ],
          [
           -0.05,
           147.45
          ],
          [
           0,
           149.44736842105263
          ],
          [
           0.05,
           151.1875
          ],
          [
           0.1,
           152.92763157894737
          ],
          [
           0.15,
           154.66776315789474
          ],
          [
           0.2,
           156.4078947368421
          ],
          [
           0.25,
           158.14802631578948
          ],
          [
           0.3,
           159.88815789473685
          ],
          [
           0.35,
           161.62828947368422
          ],
          [
           0.4,
           163.3684210526316
          ],
          [
           0.45,
           165.10855263157896
          ],
          [
           0.5,
           166.8486842105263
          ],
          [
           0.55,
           168.5888157894737
          ],
          [
           0.6,
           170.32894736842104
          ],
          [
           0.65,
           172.0690789473684
          ],
          [
           0.7,
           173.80921052631578
          ],
          [
           0.75,
           175.54934210526315
          ],
          [
           0.8,
           177.28947368421052
          ],
          [
           0.85,
           179.0296052631579
          ],
          [
           0.9,
           180.76973684210526
          ],
          [
           0.95,
           182.50986842105263
          ],
          [
           1,
           184.25
          ]
         ],
         "hoverinfo": "y",
         "mode": "lines+markers",
         "name": "thalach",
         "type": "scatter",
         "x": [
          -1,
          -0.95,
          -0.9,
          -0.85,
          -0.8,
          -0.75,
          -0.7,
          -0.65,
          -0.6,
          -0.55,
          -0.5,
          -0.45,
          -0.4,
          -0.35,
          -0.3,
          -0.25,
          -0.2,
          -0.15,
          -0.1,
          -0.05,
          0,
          0.05,
          0.1,
          0.15,
          0.2,
          0.25,
          0.3,
          0.35,
          0.4,
          0.45,
          0.5,
          0.55,
          0.6,
          0.65,
          0.7,
          0.75,
          0.8,
          0.85,
          0.9,
          0.95,
          1
         ],
         "y": [
          0.27516530680403245,
          0.2751454330852669,
          0.2762070836198347,
          0.27835990337290994,
          0.28161462655617403,
          0.28598282090901594,
          0.29147661270965614,
          0.29810838415245605,
          0.30589043478277217,
          0.3148345986115871,
          0.32495180838017534,
          0.33625159823869577,
          0.3487415358467566,
          0.3624265745553584,
          0.377308315798898,
          0.39338417095912936,
          0.41064641053583284,
          0.42908108620064866,
          0.4486668079217977,
          0.46937335432292543,
          0.49116008775304715,
          0.5109805328129337,
          0.5315372343855146,
          0.5527770832955525,
          0.5746362770033784,
          0.5970389204744878,
          0.6198955675186086,
          0.6431017924593483,
          0.6665369347169116,
          0.6900632165406951,
          0.7135254807780931,
          0.7367518057123799,
          0.7595552351136072,
          0.7817367985625396,
          0.803090025039785,
          0.8234074438899908,
          0.8424905679452107,
          0.8601674039535907,
          0.8763273925753625,
          0.8909962668025172,
          0.9044965587488959
         ]
        },
        {
         "customdata": [
          [
           -1,
           0
          ],
          [
           -0.95,
           0.053749999999999964
          ],
          [
           -0.9,
           0.10749999999999993
          ],
          [
           -0.85,
           0.16125
          ],
          [
           -0.8,
           0.21499999999999997
          ],
          [
           -0.75,
           0.26875000000000004
          ],
          [
           -0.7,
           0.3225
          ],
          [
           -0.65,
           0.37625
          ],
          [
           -0.6,
           0.43000000000000005
          ],
          [
           -0.55,
           0.4837499999999999
          ],
          [
           -0.5,
           0.5375
          ],
          [
           -0.45,
           0.5912499999999999
          ],
          [
           -0.4,
           0.645
          ],
          [
           -0.35,
           0.69875
          ],
          [
           -0.3,
           0.7525
          ],
          [
           -0.25,
           0.8062499999999999
          ],
          [
           -0.2,
           0.86
          ],
          [
           -0.15,
           0.91375
          ],
          [
           -0.1,
           0.9674999999999999
          ],
          [
           -0.05,
           1.02125
          ],
          [
           0,
           1.075
          ],
          [
           0.05,
           1.20125
          ],
          [
           0.1,
           1.3275000000000001
          ],
          [
           0.15,
           1.4537499999999999
          ],
          [
           0.2,
           1.58
          ],
          [
           0.25,
           1.70625
          ],
          [
           0.3,
           1.8325
          ],
          [
           0.35,
           1.95875
          ],
          [
           0.4,
           2.085
          ],
          [
           0.45,
           2.21125
          ],
          [
           0.5,
           2.3375000000000004
          ],
          [
           0.55,
           2.46375
          ],
          [
           0.6,
           2.59
          ],
          [
           0.65,
           2.7162500000000005
          ],
          [
           0.7,
           2.8425000000000002
          ],
          [
           0.75,
           2.96875
          ],
          [
           0.8,
           3.0950000000000006
          ],
          [
           0.85,
           3.2212500000000004
          ],
          [
           0.9,
           3.3475
          ],
          [
           0.95,
           3.47375
          ],
          [
           1,
           3.6000000000000005
          ]
         ],
         "hoverinfo": "y",
         "mode": "lines+markers",
         "name": "oldpeak",
         "type": "scatter",
         "x": [
          -1,
          -0.95,
          -0.9,
          -0.85,
          -0.8,
          -0.75,
          -0.7,
          -0.65,
          -0.6,
          -0.55,
          -0.5,
          -0.45,
          -0.4,
          -0.35,
          -0.3,
          -0.25,
          -0.2,
          -0.15,
          -0.1,
          -0.05,
          0,
          0.05,
          0.1,
          0.15,
          0.2,
          0.25,
          0.3,
          0.35,
          0.4,
          0.45,
          0.5,
          0.55,
          0.6,
          0.65,
          0.7,
          0.75,
          0.8,
          0.85,
          0.9,
          0.95,
          1
         ],
         "y": [
          0.7511342069719862,
          0.7130984332957234,
          0.6958941132795838,
          0.6811164489800933,
          0.6674732904228249,
          0.6545123240118663,
          0.6420219917041515,
          0.6298888320714293,
          0.618045762068463,
          0.6064520104380929,
          0.5950796173320938,
          0.5839103594714531,
          0.5729313893668172,
          0.5621333704624276,
          0.5515092646382053,
          0.5410534474597546,
          0.5307616491143387,
          0.5206297317852485,
          0.5106542736839758,
          0.5008320735818427,
          0.49116008775304715,
          0.4690163023361578,
          0.4476481384521396,
          0.4270196377631411,
          0.40709562043031006,
          0.3878421611164102,
          0.3692268520286603,
          0.3512191057178543,
          0.3337903420134747,
          0.3169140822265177,
          0.3005659629541478,
          0.28472369681452864,
          0.2693670179147161,
          0.2544775984067362,
          0.24003894289524721,
          0.22603629720983132,
          0.21245655519300302,
          0.19928817612851749,
          0.1865211099172709,
          0.17414673471609757,
          0.1621578109673432
         ]
        },
        {
         "customdata": [
          [
           -1,
           0
          ],
          [
           -0.95,
           0.0006578947368421056
          ],
          [
           -0.9,
           0.0013157894736842094
          ],
          [
           -0.85,
           0.0019736842105263167
          ],
          [
           -0.8,
           0.0026315789473684206
          ],
          [
           -0.75,
           0.003289473684210526
          ],
          [
           -0.7,
           0.003947368421052632
          ],
          [
           -0.65,
           0.0046052631578947355
          ],
          [
           -0.6,
           0.005263157894736843
          ],
          [
           -0.55,
           0.005921052631578947
          ],
          [
           -0.5,
           0.006578947368421052
          ],
          [
           -0.45,
           0.007236842105263157
          ],
          [
           -0.4,
           0.007894736842105263
          ],
          [
           -0.35,
           0.008552631578947367
          ],
          [
           -0.3,
           0.009210526315789475
          ],
          [
           -0.25,
           0.009868421052631578
          ],
          [
           -0.2,
           0.010526315789473684
          ],
          [
           -0.15,
           0.01118421052631579
          ],
          [
           -0.1,
           0.011842105263157893
          ],
          [
           -0.05,
           0.012499999999999999
          ],
          [
           0,
           0.013157894736842105
          ],
          [
           0.05,
           0.013157894736842105
          ],
          [
           0.1,
           0.013157894736842105
          ],
          [
           0.15,
           0.013157894736842105
          ],
          [
           0.2,
           0.013157894736842105
          ],
          [
           0.25,
           0.013157894736842105
          ],
          [
           0.3,
           0.013157894736842105
          ],
          [
           0.35,
           0.013157894736842105
          ],
          [
           0.4,
           0.013157894736842105
          ],
          [
           0.45,
           0.013157894736842105
          ],
          [
           0.5,
           0.013157894736842105
          ],
          [
           0.55,
           0.013157894736842105
          ],
          [
           0.6,
           0.013157894736842105
          ],
          [
           0.65,
           0.013157894736842105
          ],
          [
           0.7,
           0.013157894736842105
          ],
          [
           0.75,
           0.013157894736842105
          ],
          [
           0.8,
           0.013157894736842105
          ],
          [
           0.85,
           0.013157894736842105
          ],
          [
           0.9,
           0.013157894736842105
          ],
          [
           0.95,
           0.013157894736842105
          ],
          [
           1,
           0.013157894736842105
          ]
         ],
         "hoverinfo": "y",
         "mode": "lines+markers",
         "name": "thal = 0",
         "type": "scatter",
         "x": [
          -1,
          -0.95,
          -0.9,
          -0.85,
          -0.8,
          -0.75,
          -0.7,
          -0.65,
          -0.6,
          -0.55,
          -0.5,
          -0.45,
          -0.4,
          -0.35,
          -0.3,
          -0.25,
          -0.2,
          -0.15,
          -0.1,
          -0.05,
          0,
          0.05,
          0.1,
          0.15,
          0.2,
          0.25,
          0.3,
          0.35,
          0.4,
          0.45,
          0.5,
          0.55,
          0.6,
          0.65,
          0.7,
          0.75,
          0.8,
          0.85,
          0.9,
          0.95,
          1
         ],
         "y": [
          0.4950148923102242,
          0.49486960743445685,
          0.4946883050022328,
          0.494455614996797,
          0.4942777960590277,
          0.4940922376286886,
          0.4939019535409428,
          0.4937088971763133,
          0.49351427526324054,
          0.4933188031017617,
          0.49312288838142976,
          0.4929267542137434,
          0.49271691072910406,
          0.49252634097796105,
          0.49233372590163094,
          0.49213962710343223,
          0.49194451370861647,
          0.49174876176859184,
          0.4915526559942614,
          0.4913516306124632,
          0.49116008775304715,
          0.49116008775304715,
          0.49116008775304715,
          0.49116008775304715,
          0.49116008775304715,
          0.49116008775304715,
          0.49116008775304715,
          0.49116008775304715,
          0.49116008775304715,
          0.49116008775304715,
          0.49116008775304715,
          0.49116008775304715,
          0.49116008775304715,
          0.49116008775304715,
          0.49116008775304715,
          0.49116008775304715,
          0.49116008775304715,
          0.49116008775304715,
          0.49116008775304715,
          0.49116008775304715,
          0.49116008775304715
         ]
        },
        {
         "customdata": [
          [
           -1,
           0
          ],
          [
           -0.95,
           0.0032894736842105296
          ],
          [
           -0.9,
           0.006578947368421052
          ],
          [
           -0.85,
           0.009868421052631582
          ],
          [
           -0.8,
           0.013157894736842105
          ],
          [
           -0.75,
           0.016447368421052627
          ],
          [
           -0.7,
           0.019736842105263157
          ],
          [
           -0.65,
           0.02302631578947368
          ],
          [
           -0.6,
           0.02631578947368421
          ],
          [
           -0.55,
           0.02960526315789473
          ],
          [
           -0.5,
           0.03289473684210526
          ],
          [
           -0.45,
           0.03618421052631579
          ],
          [
           -0.4,
           0.039473684210526314
          ],
          [
           -0.35,
           0.042763157894736836
          ],
          [
           -0.3,
           0.046052631578947366
          ],
          [
           -0.25,
           0.049342105263157895
          ],
          [
           -0.2,
           0.05263157894736842
          ],
          [
           -0.15,
           0.05592105263157894
          ],
          [
           -0.1,
           0.05921052631578947
          ],
          [
           -0.05,
           0.0625
          ],
          [
           0,
           0.06578947368421052
          ],
          [
           0.05,
           0.1125
          ],
          [
           0.1,
           0.15921052631578947
          ],
          [
           0.15,
           0.20592105263157895
          ],
          [
           0.2,
           0.25263157894736843
          ],
          [
           0.25,
           0.2993421052631579
          ],
          [
           0.3,
           0.34605263157894733
          ],
          [
           0.35,
           0.3927631578947368
          ],
          [
           0.4,
           0.43947368421052635
          ],
          [
           0.45,
           0.4861842105263158
          ],
          [
           0.5,
           0.5328947368421053
          ],
          [
           0.55,
           0.5796052631578947
          ],
          [
           0.6,
           0.6263157894736842
          ],
          [
           0.65,
           0.6730263157894737
          ],
          [
           0.7,
           0.7197368421052631
          ],
          [
           0.75,
           0.7664473684210527
          ],
          [
           0.8,
           0.8131578947368422
          ],
          [
           0.85,
           0.8598684210526315
          ],
          [
           0.9,
           0.906578947368421
          ],
          [
           0.95,
           0.9532894736842105
          ],
          [
           1,
           1
          ]
         ],
         "hoverinfo": "y",
         "mode": "lines+markers",
         "name": "thal = 1",
         "type": "scatter",
         "x": [
          -1,
          -0.95,
          -0.9,
          -0.85,
          -0.8,
          -0.75,
          -0.7,
          -0.65,
          -0.6,
          -0.55,
          -0.5,
          -0.45,
          -0.4,
          -0.35,
          -0.3,
          -0.25,
          -0.2,
          -0.15,
          -0.1,
          -0.05,
          0,
          0.05,
          0.1,
          0.15,
          0.2,
          0.25,
          0.3,
          0.35,
          0.4,
          0.45,
          0.5,
          0.55,
          0.6,
          0.65,
          0.7,
          0.75,
          0.8,
          0.85,
          0.9,
          0.95,
          1
         ],
         "y": [
          0.4892970082440857,
          0.48938631922586023,
          0.48947932701585006,
          0.48957323571009015,
          0.4896661944125799,
          0.48975947167872,
          0.4898528252942821,
          0.4899461966465986,
          0.49003957195147885,
          0.4901332146453453,
          0.49022643416283546,
          0.4903197424936338,
          0.49041309147228296,
          0.4905064577874072,
          0.490599830868969,
          0.49069320630440943,
          0.4907865824412045,
          0.4908800616436222,
          0.4909733548840691,
          0.49106671262122303,
          0.49116008775304715,
          0.492486031736926,
          0.4938119796946934,
          0.4951379588448834,
          0.4964638640824516,
          0.49778980917079585,
          0.48929256101817087,
          0.48929256101817087,
          0.5176789673882923,
          0.5176789673882923,
          0.5176789673882923,
          0.5176789673882923,
          0.5176789673882923,
          0.5176789673882923,
          0.48929256101817087,
          0.48929256101817087,
          0.48929256101817087,
          0.48929256101817087,
          0.48929256101817087,
          0.48929256101817087,
          0.5176789302496484
         ]
        },
        {
         "customdata": [
          [
           -1,
           0
          ],
          [
           -0.95,
           0.026315789473684237
          ],
          [
           -0.9,
           0.05263157894736842
          ],
          [
           -0.85,
           0.07894736842105265
          ],
          [
           -0.8,
           0.10526315789473684
          ],
          [
           -0.75,
           0.13157894736842102
          ],
          [
           -0.7,
           0.15789473684210525
          ],
          [
           -0.65,
           0.18421052631578944
          ],
          [
           -0.6,
           0.21052631578947367
          ],
          [
           -0.55,
           0.23684210526315785
          ],
          [
           -0.5,
           0.2631578947368421
          ],
          [
           -0.45,
           0.2894736842105263
          ],
          [
           -0.4,
           0.3157894736842105
          ],
          [
           -0.35,
           0.3421052631578947
          ],
          [
           -0.3,
           0.3684210526315789
          ],
          [
           -0.25,
           0.39473684210526316
          ],
          [
           -0.2,
           0.42105263157894735
          ],
          [
           -0.15,
           0.4473684210526315
          ],
          [
           -0.1,
           0.47368421052631576
          ],
          [
           -0.05,
           0.5
          ],
          [
           0,
           0.5263157894736842
          ],
          [
           0.05,
           0.5499999999999999
          ],
          [
           0.1,
           0.5736842105263158
          ],
          [
           0.15,
           0.5973684210526315
          ],
          [
           0.2,
           0.6210526315789473
          ],
          [
           0.25,
           0.6447368421052632
          ],
          [
           0.3,
           0.6684210526315789
          ],
          [
           0.35,
           0.6921052631578947
          ],
          [
           0.4,
           0.7157894736842105
          ],
          [
           0.45,
           0.7394736842105263
          ],
          [
           0.5,
           0.763157894736842
          ],
          [
           0.55,
           0.7868421052631579
          ],
          [
           0.6,
           0.8105263157894737
          ],
          [
           0.65,
           0.8342105263157895
          ],
          [
           0.7,
           0.8578947368421053
          ],
          [
           0.75,
           0.881578947368421
          ],
          [
           0.8,
           0.9052631578947369
          ],
          [
           0.85,
           0.9289473684210526
          ],
          [
           0.9,
           0.9526315789473685
          ],
          [
           0.95,
           0.9763157894736842
          ],
          [
           1,
           1
          ]
         ],
         "hoverinfo": "y",
         "mode": "lines+markers",
         "name": "thal = 2",
         "type": "scatter",
         "x": [
          -1,
          -0.95,
          -0.9,
          -0.85,
          -0.8,
          -0.75,
          -0.7,
          -0.65,
          -0.6,
          -0.55,
          -0.5,
          -0.45,
          -0.4,
          -0.35,
          -0.3,
          -0.25,
          -0.2,
          -0.15,
          -0.1,
          -0.05,
          0,
          0.05,
          0.1,
          0.15,
          0.2,
          0.25,
          0.3,
          0.35,
          0.4,
          0.45,
          0.5,
          0.55,
          0.6,
          0.65,
          0.7,
          0.75,
          0.8,
          0.85,
          0.9,
          0.95,
          1
         ],
         "y": [
          0.20839202124888315,
          0.222394575009929,
          0.2365369475034209,
          0.2506854740657414,
          0.26482864003204754,
          0.2789741445355684,
          0.29311985697766874,
          0.3072655865094128,
          0.32141131729712963,
          0.3355573084472105,
          0.34970282815752846,
          0.3638485175471015,
          0.3779942417020636,
          0.39213997173005016,
          0.40628570252690904,
          0.4204314333946169,
          0.43457719039744497,
          0.4487228951379932,
          0.46286862654758426,
          0.47701435688150856,
          0.49116008775304715,
          0.5038912448982412,
          0.5166223804815693,
          0.5293533456759617,
          0.5420847188899535,
          0.5548158766542725,
          0.5675470342247217,
          0.5802781903789885,
          0.5930093384443164,
          0.6057404482373165,
          0.6184714018846698,
          0.631202823379528,
          0.6439339811170632,
          0.6566651383142982,
          0.6693962896431455,
          0.682127383325668,
          0.6948579520472714,
          0.7075897696854537,
          0.7203208833733944,
          0.7330461681001268,
          0.7456366462944748
         ]
        },
        {
         "customdata": [
          [
           -1,
           0
          ],
          [
           -0.95,
           0.019736842105263164
          ],
          [
           -0.9,
           0.03947368421052633
          ],
          [
           -0.85,
           0.05921052631578949
          ],
          [
           -0.8,
           0.0789473684210526
          ],
          [
           -0.75,
           0.09868421052631582
          ],
          [
           -0.7,
           0.11842105263157898
          ],
          [
           -0.65,
           0.1381578947368421
          ],
          [
           -0.6,
           0.15789473684210528
          ],
          [
           -0.55,
           0.17763157894736842
          ],
          [
           -0.5,
           0.19736842105263158
          ],
          [
           -0.45,
           0.21710526315789475
          ],
          [
           -0.4,
           0.23684210526315788
          ],
          [
           -0.35,
           0.2565789473684211
          ],
          [
           -0.3,
           0.27631578947368424
          ],
          [
           -0.25,
           0.29605263157894735
          ],
          [
           -0.2,
           0.3157894736842105
          ],
          [
           -0.15,
           0.3355263157894737
          ],
          [
           -0.1,
           0.35526315789473684
          ],
          [
           -0.05,
           0.375
          ],
          [
           0,
           0.39473684210526316
          ],
          [
           0.05,
           0.425
          ],
          [
           0.1,
           0.45526315789473687
          ],
          [
           0.15,
           0.4855263157894737
          ],
          [
           0.2,
           0.5157894736842106
          ],
          [
           0.25,
           0.5460526315789473
          ],
          [
           0.3,
           0.5763157894736842
          ],
          [
           0.35,
           0.6065789473684211
          ],
          [
           0.4,
           0.6368421052631579
          ],
          [
           0.45,
           0.6671052631578948
          ],
          [
           0.5,
           0.6973684210526316
          ],
          [
           0.55,
           0.7276315789473684
          ],
          [
           0.6,
           0.7578947368421052
          ],
          [
           0.65,
           0.7881578947368422
          ],
          [
           0.7,
           0.8184210526315789
          ],
          [
           0.75,
           0.8486842105263158
          ],
          [
           0.8,
           0.8789473684210527
          ],
          [
           0.85,
           0.9092105263157895
          ],
          [
           0.9,
           0.9394736842105263
          ],
          [
           0.95,
           0.9697368421052631
          ],
          [
           1,
           1
          ]
         ],
         "hoverinfo": "y",
         "mode": "lines+markers",
         "name": "thal = 3",
         "type": "scatter",
         "x": [
          -1,
          -0.95,
          -0.9,
          -0.85,
          -0.8,
          -0.75,
          -0.7,
          -0.65,
          -0.6,
          -0.55,
          -0.5,
          -0.45,
          -0.4,
          -0.35,
          -0.3,
          -0.25,
          -0.2,
          -0.15,
          -0.1,
          -0.05,
          0,
          0.05,
          0.1,
          0.15,
          0.2,
          0.25,
          0.3,
          0.35,
          0.4,
          0.45,
          0.5,
          0.55,
          0.6,
          0.65,
          0.7,
          0.75,
          0.8,
          0.85,
          0.9,
          0.95,
          1
         ],
         "y": [
          0.7089109453696322,
          0.6981477958320924,
          0.6872632647098765,
          0.6763687623958906,
          0.6654724458821684,
          0.6545792706510752,
          0.6436848487442958,
          0.6327902483176268,
          0.6218956237105675,
          0.611000996064133,
          0.6001053534826817,
          0.5892114514681857,
          0.5783170389590808,
          0.5674224679988422,
          0.5565278530516038,
          0.545633227506861,
          0.5347385998416181,
          0.5238439718471253,
          0.5129491426355335,
          0.5020547061342069,
          0.49116008775304715,
          0.4744549686431855,
          0.457749895121252,
          0.44104479880536474,
          0.424339702489525,
          0.40763460617668523,
          0.390929509883244,
          0.3742244136240932,
          0.3575193173449181,
          0.34081422096471525,
          0.324109576478472,
          0.30740402837731623,
          0.29069894106710775,
          0.2739939937013771,
          0.2572887393387178,
          0.24058364344547273,
          0.22387856153016983,
          0.20717383700323302,
          0.19046835506674448,
          0.17376405284620539,
          0.15719683367900014
         ]
        }
       ],
       "layout": {
        "margin": {
         "r": 50,
         "t": 50
        },
        "plot_bgcolor": "white",
        "template": {
         "data": {
          "bar": [
           {
            "error_x": {
             "color": "#2a3f5f"
            },
            "error_y": {
             "color": "#2a3f5f"
            },
            "marker": {
             "line": {
              "color": "#E5ECF6",
              "width": 0.5
             }
            },
            "type": "bar"
           }
          ],
          "barpolar": [
           {
            "marker": {
             "line": {
              "color": "#E5ECF6",
              "width": 0.5
             }
            },
            "type": "barpolar"
           }
          ],
          "carpet": [
           {
            "aaxis": {
             "endlinecolor": "#2a3f5f",
             "gridcolor": "white",
             "linecolor": "white",
             "minorgridcolor": "white",
             "startlinecolor": "#2a3f5f"
            },
            "baxis": {
             "endlinecolor": "#2a3f5f",
             "gridcolor": "white",
             "linecolor": "white",
             "minorgridcolor": "white",
             "startlinecolor": "#2a3f5f"
            },
            "type": "carpet"
           }
          ],
          "choropleth": [
           {
            "colorbar": {
             "outlinewidth": 0,
             "ticks": ""
            },
            "type": "choropleth"
           }
          ],
          "contour": [
           {
            "colorbar": {
             "outlinewidth": 0,
             "ticks": ""
            },
            "colorscale": [
             [
              0,
              "#0d0887"
             ],
             [
              0.1111111111111111,
              "#46039f"
             ],
             [
              0.2222222222222222,
              "#7201a8"
             ],
             [
              0.3333333333333333,
              "#9c179e"
             ],
             [
              0.4444444444444444,
              "#bd3786"
             ],
             [
              0.5555555555555556,
              "#d8576b"
             ],
             [
              0.6666666666666666,
              "#ed7953"
             ],
             [
              0.7777777777777778,
              "#fb9f3a"
             ],
             [
              0.8888888888888888,
              "#fdca26"
             ],
             [
              1,
              "#f0f921"
             ]
            ],
            "type": "contour"
           }
          ],
          "contourcarpet": [
           {
            "colorbar": {
             "outlinewidth": 0,
             "ticks": ""
            },
            "type": "contourcarpet"
           }
          ],
          "heatmap": [
           {
            "colorbar": {
             "outlinewidth": 0,
             "ticks": ""
            },
            "colorscale": [
             [
              0,
              "#0d0887"
             ],
             [
              0.1111111111111111,
              "#46039f"
             ],
             [
              0.2222222222222222,
              "#7201a8"
             ],
             [
              0.3333333333333333,
              "#9c179e"
             ],
             [
              0.4444444444444444,
              "#bd3786"
             ],
             [
              0.5555555555555556,
              "#d8576b"
             ],
             [
              0.6666666666666666,
              "#ed7953"
             ],
             [
              0.7777777777777778,
              "#fb9f3a"
             ],
             [
              0.8888888888888888,
              "#fdca26"
             ],
             [
              1,
              "#f0f921"
             ]
            ],
            "type": "heatmap"
           }
          ],
          "heatmapgl": [
           {
            "colorbar": {
             "outlinewidth": 0,
             "ticks": ""
            },
            "colorscale": [
             [
              0,
              "#0d0887"
             ],
             [
              0.1111111111111111,
              "#46039f"
             ],
             [
              0.2222222222222222,
              "#7201a8"
             ],
             [
              0.3333333333333333,
              "#9c179e"
             ],
             [
              0.4444444444444444,
              "#bd3786"
             ],
             [
              0.5555555555555556,
              "#d8576b"
             ],
             [
              0.6666666666666666,
              "#ed7953"
             ],
             [
              0.7777777777777778,
              "#fb9f3a"
             ],
             [
              0.8888888888888888,
              "#fdca26"
             ],
             [
              1,
              "#f0f921"
             ]
            ],
            "type": "heatmapgl"
           }
          ],
          "histogram": [
           {
            "marker": {
             "colorbar": {
              "outlinewidth": 0,
              "ticks": ""
             }
            },
            "type": "histogram"
           }
          ],
          "histogram2d": [
           {
            "colorbar": {
             "outlinewidth": 0,
             "ticks": ""
            },
            "colorscale": [
             [
              0,
              "#0d0887"
             ],
             [
              0.1111111111111111,
              "#46039f"
             ],
             [
              0.2222222222222222,
              "#7201a8"
             ],
             [
              0.3333333333333333,
              "#9c179e"
             ],
             [
              0.4444444444444444,
              "#bd3786"
             ],
             [
              0.5555555555555556,
              "#d8576b"
             ],
             [
              0.6666666666666666,
              "#ed7953"
             ],
             [
              0.7777777777777778,
              "#fb9f3a"
             ],
             [
              0.8888888888888888,
              "#fdca26"
             ],
             [
              1,
              "#f0f921"
             ]
            ],
            "type": "histogram2d"
           }
          ],
          "histogram2dcontour": [
           {
            "colorbar": {
             "outlinewidth": 0,
             "ticks": ""
            },
            "colorscale": [
             [
              0,
              "#0d0887"
             ],
             [
              0.1111111111111111,
              "#46039f"
             ],
             [
              0.2222222222222222,
              "#7201a8"
             ],
             [
              0.3333333333333333,
              "#9c179e"
             ],
             [
              0.4444444444444444,
              "#bd3786"
             ],
             [
              0.5555555555555556,
              "#d8576b"
             ],
             [
              0.6666666666666666,
              "#ed7953"
             ],
             [
              0.7777777777777778,
              "#fb9f3a"
             ],
             [
              0.8888888888888888,
              "#fdca26"
             ],
             [
              1,
              "#f0f921"
             ]
            ],
            "type": "histogram2dcontour"
           }
          ],
          "mesh3d": [
           {
            "colorbar": {
             "outlinewidth": 0,
             "ticks": ""
            },
            "type": "mesh3d"
           }
          ],
          "parcoords": [
           {
            "line": {
             "colorbar": {
              "outlinewidth": 0,
              "ticks": ""
             }
            },
            "type": "parcoords"
           }
          ],
          "scatter": [
           {
            "marker": {
             "colorbar": {
              "outlinewidth": 0,
              "ticks": ""
             }
            },
            "type": "scatter"
           }
          ],
          "scatter3d": [
           {
            "line": {
             "colorbar": {
              "outlinewidth": 0,
              "ticks": ""
             }
            },
            "marker": {
             "colorbar": {
              "outlinewidth": 0,
              "ticks": ""
             }
            },
            "type": "scatter3d"
           }
          ],
          "scattercarpet": [
           {
            "marker": {
             "colorbar": {
              "outlinewidth": 0,
              "ticks": ""
             }
            },
            "type": "scattercarpet"
           }
          ],
          "scattergeo": [
           {
            "marker": {
             "colorbar": {
              "outlinewidth": 0,
              "ticks": ""
             }
            },
            "type": "scattergeo"
           }
          ],
          "scattergl": [
           {
            "marker": {
             "colorbar": {
              "outlinewidth": 0,
              "ticks": ""
             }
            },
            "type": "scattergl"
           }
          ],
          "scattermapbox": [
           {
            "marker": {
             "colorbar": {
              "outlinewidth": 0,
              "ticks": ""
             }
            },
            "type": "scattermapbox"
           }
          ],
          "scatterpolar": [
           {
            "marker": {
             "colorbar": {
              "outlinewidth": 0,
              "ticks": ""
             }
            },
            "type": "scatterpolar"
           }
          ],
          "scatterpolargl": [
           {
            "marker": {
             "colorbar": {
              "outlinewidth": 0,
              "ticks": ""
             }
            },
            "type": "scatterpolargl"
           }
          ],
          "scatterternary": [
           {
            "marker": {
             "colorbar": {
              "outlinewidth": 0,
              "ticks": ""
             }
            },
            "type": "scatterternary"
           }
          ],
          "surface": [
           {
            "colorbar": {
             "outlinewidth": 0,
             "ticks": ""
            },
            "colorscale": [
             [
              0,
              "#0d0887"
             ],
             [
              0.1111111111111111,
              "#46039f"
             ],
             [
              0.2222222222222222,
              "#7201a8"
             ],
             [
              0.3333333333333333,
              "#9c179e"
             ],
             [
              0.4444444444444444,
              "#bd3786"
             ],
             [
              0.5555555555555556,
              "#d8576b"
             ],
             [
              0.6666666666666666,
              "#ed7953"
             ],
             [
              0.7777777777777778,
              "#fb9f3a"
             ],
             [
              0.8888888888888888,
              "#fdca26"
             ],
             [
              1,
              "#f0f921"
             ]
            ],
            "type": "surface"
           }
          ],
          "table": [
           {
            "cells": {
             "fill": {
              "color": "#EBF0F8"
             },
             "line": {
              "color": "white"
             }
            },
            "header": {
             "fill": {
              "color": "#C8D4E3"
             },
             "line": {
              "color": "white"
             }
            },
            "type": "table"
           }
          ]
         },
         "layout": {
          "annotationdefaults": {
           "arrowcolor": "#2a3f5f",
           "arrowhead": 0,
           "arrowwidth": 1
          },
          "colorscale": {
           "diverging": [
            [
             0,
             "#8e0152"
            ],
            [
             0.1,
             "#c51b7d"
            ],
            [
             0.2,
             "#de77ae"
            ],
            [
             0.3,
             "#f1b6da"
            ],
            [
             0.4,
             "#fde0ef"
            ],
            [
             0.5,
             "#f7f7f7"
            ],
            [
             0.6,
             "#e6f5d0"
            ],
            [
             0.7,
             "#b8e186"
            ],
            [
             0.8,
             "#7fbc41"
            ],
            [
             0.9,
             "#4d9221"
            ],
            [
             1,
             "#276419"
            ]
           ],
           "sequential": [
            [
             0,
             "#0d0887"
            ],
            [
             0.1111111111111111,
             "#46039f"
            ],
            [
             0.2222222222222222,
             "#7201a8"
            ],
            [
             0.3333333333333333,
             "#9c179e"
            ],
            [
             0.4444444444444444,
             "#bd3786"
            ],
            [
             0.5555555555555556,
             "#d8576b"
            ],
            [
             0.6666666666666666,
             "#ed7953"
            ],
            [
             0.7777777777777778,
             "#fb9f3a"
            ],
            [
             0.8888888888888888,
             "#fdca26"
            ],
            [
             1,
             "#f0f921"
            ]
           ],
           "sequentialminus": [
            [
             0,
             "#0d0887"
            ],
            [
             0.1111111111111111,
             "#46039f"
            ],
            [
             0.2222222222222222,
             "#7201a8"
            ],
            [
             0.3333333333333333,
             "#9c179e"
            ],
            [
             0.4444444444444444,
             "#bd3786"
            ],
            [
             0.5555555555555556,
             "#d8576b"
            ],
            [
             0.6666666666666666,
             "#ed7953"
            ],
            [
             0.7777777777777778,
             "#fb9f3a"
            ],
            [
             0.8888888888888888,
             "#fdca26"
            ],
            [
             1,
             "#f0f921"
            ]
           ]
          },
          "colorway": [
           "#636efa",
           "#EF553B",
           "#00cc96",
           "#ab63fa",
           "#FFA15A",
           "#19d3f3",
           "#FF6692",
           "#B6E880",
           "#FF97FF",
           "#FECB52"
          ],
          "font": {
           "color": "#2a3f5f"
          },
          "geo": {
           "bgcolor": "white",
           "lakecolor": "white",
           "landcolor": "#E5ECF6",
           "showlakes": true,
           "showland": true,
           "subunitcolor": "white"
          },
          "hoverlabel": {
           "align": "left"
          },
          "hovermode": "closest",
          "mapbox": {
           "style": "light"
          },
          "paper_bgcolor": "white",
          "plot_bgcolor": "#E5ECF6",
          "polar": {
           "angularaxis": {
            "gridcolor": "white",
            "linecolor": "white",
            "ticks": ""
           },
           "bgcolor": "#E5ECF6",
           "radialaxis": {
            "gridcolor": "white",
            "linecolor": "white",
            "ticks": ""
           }
          },
          "scene": {
           "xaxis": {
            "backgroundcolor": "#E5ECF6",
            "gridcolor": "white",
            "gridwidth": 2,
            "linecolor": "white",
            "showbackground": true,
            "ticks": "",
            "zerolinecolor": "white"
           },
           "yaxis": {
            "backgroundcolor": "#E5ECF6",
            "gridcolor": "white",
            "gridwidth": 2,
            "linecolor": "white",
            "showbackground": true,
            "ticks": "",
            "zerolinecolor": "white"
           },
           "zaxis": {
            "backgroundcolor": "#E5ECF6",
            "gridcolor": "white",
            "gridwidth": 2,
            "linecolor": "white",
            "showbackground": true,
            "ticks": "",
            "zerolinecolor": "white"
           }
          },
          "shapedefaults": {
           "line": {
            "color": "#2a3f5f"
           }
          },
          "ternary": {
           "aaxis": {
            "gridcolor": "white",
            "linecolor": "white",
            "ticks": ""
           },
           "baxis": {
            "gridcolor": "white",
            "linecolor": "white",
            "ticks": ""
           },
           "bgcolor": "#E5ECF6",
           "caxis": {
            "gridcolor": "white",
            "linecolor": "white",
            "ticks": ""
           }
          },
          "title": {
           "x": 0.05
          },
          "xaxis": {
           "automargin": true,
           "gridcolor": "white",
           "linecolor": "white",
           "ticks": "",
           "zerolinecolor": "white",
           "zerolinewidth": 2
          },
          "yaxis": {
           "automargin": true,
           "gridcolor": "white",
           "linecolor": "white",
           "ticks": "",
           "zerolinecolor": "white",
           "zerolinewidth": 2
          }
         }
        },
        "xaxis": {
         "gridcolor": "#eee",
         "linecolor": "black",
         "nticks": 5,
         "showgrid": true,
         "showline": true,
         "title": {
          "text": "tau"
         },
         "zeroline": false
        },
        "yaxis": {
         "gridcolor": "#eee",
         "linecolor": "black",
         "range": [
          0,
          1
         ],
         "showgrid": true,
         "showline": true,
         "title": {
          "text": "Average \"has_heart_disease\""
         }
        }
       }
      },
      "text/html": [
       "<div>\n",
       "        \n",
       "        \n",
       "            <div id=\"0dbba495-653b-4474-bc08-103035013e65\" class=\"plotly-graph-div\" style=\"height:525px; width:100%;\"></div>\n",
       "            <script type=\"text/javascript\">\n",
       "                require([\"plotly\"], function(Plotly) {\n",
       "                    window.PLOTLYENV=window.PLOTLYENV || {};\n",
       "                    \n",
       "                if (document.getElementById(\"0dbba495-653b-4474-bc08-103035013e65\")) {\n",
       "                    Plotly.newPlot(\n",
       "                        '0dbba495-653b-4474-bc08-103035013e65',\n",
       "                        [{\"customdata\": [[-1.0, 109.5], [-0.95, 111.49736842105264], [-0.9, 113.49473684210525], [-0.85, 115.4921052631579], [-0.8, 117.48947368421052], [-0.75, 119.48684210526315], [-0.7, 121.48421052631579], [-0.65, 123.48157894736842], [-0.6, 125.47894736842105], [-0.55, 127.47631578947369], [-0.5, 129.4736842105263], [-0.45, 131.47105263157894], [-0.4, 133.46842105263158], [-0.35, 135.4657894736842], [-0.3, 137.46315789473684], [-0.25, 139.46052631578948], [-0.2, 141.4578947368421], [-0.15, 143.45526315789473], [-0.1, 145.45263157894738], [-0.05, 147.45], [0.0, 149.44736842105263], [0.05, 151.1875], [0.1, 152.92763157894737], [0.15, 154.66776315789474], [0.2, 156.4078947368421], [0.25, 158.14802631578948], [0.3, 159.88815789473685], [0.35, 161.62828947368422], [0.4, 163.3684210526316], [0.45, 165.10855263157896], [0.5, 166.8486842105263], [0.55, 168.5888157894737], [0.6, 170.32894736842104], [0.65, 172.0690789473684], [0.7, 173.80921052631578], [0.75, 175.54934210526315], [0.8, 177.28947368421052], [0.85, 179.0296052631579], [0.9, 180.76973684210526], [0.95, 182.50986842105263], [1.0, 184.25]], \"hoverinfo\": \"y\", \"mode\": \"lines+markers\", \"name\": \"thalach\", \"type\": \"scatter\", \"x\": [-1.0, -0.95, -0.9, -0.85, -0.8, -0.75, -0.7, -0.65, -0.6, -0.55, -0.5, -0.45, -0.4, -0.35, -0.3, -0.25, -0.2, -0.15, -0.1, -0.05, 0.0, 0.05, 0.1, 0.15, 0.2, 0.25, 0.3, 0.35, 0.4, 0.45, 0.5, 0.55, 0.6, 0.65, 0.7, 0.75, 0.8, 0.85, 0.9, 0.95, 1.0], \"y\": [0.27516530680403245, 0.2751454330852669, 0.2762070836198347, 0.27835990337290994, 0.28161462655617403, 0.28598282090901594, 0.29147661270965614, 0.29810838415245605, 0.30589043478277217, 0.3148345986115871, 0.32495180838017534, 0.33625159823869577, 0.3487415358467566, 0.3624265745553584, 0.377308315798898, 0.39338417095912936, 0.41064641053583284, 0.42908108620064866, 0.4486668079217977, 0.46937335432292543, 0.49116008775304715, 0.5109805328129337, 0.5315372343855146, 0.5527770832955525, 0.5746362770033784, 0.5970389204744878, 0.6198955675186086, 0.6431017924593483, 0.6665369347169116, 0.6900632165406951, 0.7135254807780931, 0.7367518057123799, 0.7595552351136072, 0.7817367985625396, 0.803090025039785, 0.8234074438899908, 0.8424905679452107, 0.8601674039535907, 0.8763273925753625, 0.8909962668025172, 0.9044965587488959]}, {\"customdata\": [[-1.0, 0.0], [-0.95, 0.053749999999999964], [-0.9, 0.10749999999999993], [-0.85, 0.16125], [-0.8, 0.21499999999999997], [-0.75, 0.26875000000000004], [-0.7, 0.3225], [-0.65, 0.37625], [-0.6, 0.43000000000000005], [-0.55, 0.4837499999999999], [-0.5, 0.5375], [-0.45, 0.5912499999999999], [-0.4, 0.645], [-0.35, 0.69875], [-0.3, 0.7525], [-0.25, 0.8062499999999999], [-0.2, 0.86], [-0.15, 0.91375], [-0.1, 0.9674999999999999], [-0.05, 1.02125], [0.0, 1.075], [0.05, 1.20125], [0.1, 1.3275000000000001], [0.15, 1.4537499999999999], [0.2, 1.58], [0.25, 1.70625], [0.3, 1.8325], [0.35, 1.95875], [0.4, 2.085], [0.45, 2.21125], [0.5, 2.3375000000000004], [0.55, 2.46375], [0.6, 2.59], [0.65, 2.7162500000000005], [0.7, 2.8425000000000002], [0.75, 2.96875], [0.8, 3.0950000000000006], [0.85, 3.2212500000000004], [0.9, 3.3475], [0.95, 3.47375], [1.0, 3.6000000000000005]], \"hoverinfo\": \"y\", \"mode\": \"lines+markers\", \"name\": \"oldpeak\", \"type\": \"scatter\", \"x\": [-1.0, -0.95, -0.9, -0.85, -0.8, -0.75, -0.7, -0.65, -0.6, -0.55, -0.5, -0.45, -0.4, -0.35, -0.3, -0.25, -0.2, -0.15, -0.1, -0.05, 0.0, 0.05, 0.1, 0.15, 0.2, 0.25, 0.3, 0.35, 0.4, 0.45, 0.5, 0.55, 0.6, 0.65, 0.7, 0.75, 0.8, 0.85, 0.9, 0.95, 1.0], \"y\": [0.7511342069719862, 0.7130984332957234, 0.6958941132795838, 0.6811164489800933, 0.6674732904228249, 0.6545123240118663, 0.6420219917041515, 0.6298888320714293, 0.618045762068463, 0.6064520104380929, 0.5950796173320938, 0.5839103594714531, 0.5729313893668172, 0.5621333704624276, 0.5515092646382053, 0.5410534474597546, 0.5307616491143387, 0.5206297317852485, 0.5106542736839758, 0.5008320735818427, 0.49116008775304715, 0.4690163023361578, 0.4476481384521396, 0.4270196377631411, 0.40709562043031006, 0.3878421611164102, 0.3692268520286603, 0.3512191057178543, 0.3337903420134747, 0.3169140822265177, 0.3005659629541478, 0.28472369681452864, 0.2693670179147161, 0.2544775984067362, 0.24003894289524721, 0.22603629720983132, 0.21245655519300302, 0.19928817612851749, 0.1865211099172709, 0.17414673471609757, 0.1621578109673432]}, {\"customdata\": [[-1.0, 0.0], [-0.95, 0.0006578947368421056], [-0.9, 0.0013157894736842094], [-0.85, 0.0019736842105263167], [-0.8, 0.0026315789473684206], [-0.75, 0.003289473684210526], [-0.7, 0.003947368421052632], [-0.65, 0.0046052631578947355], [-0.6, 0.005263157894736843], [-0.55, 0.005921052631578947], [-0.5, 0.006578947368421052], [-0.45, 0.007236842105263157], [-0.4, 0.007894736842105263], [-0.35, 0.008552631578947367], [-0.3, 0.009210526315789475], [-0.25, 0.009868421052631578], [-0.2, 0.010526315789473684], [-0.15, 0.01118421052631579], [-0.1, 0.011842105263157893], [-0.05, 0.012499999999999999], [0.0, 0.013157894736842105], [0.05, 0.013157894736842105], [0.1, 0.013157894736842105], [0.15, 0.013157894736842105], [0.2, 0.013157894736842105], [0.25, 0.013157894736842105], [0.3, 0.013157894736842105], [0.35, 0.013157894736842105], [0.4, 0.013157894736842105], [0.45, 0.013157894736842105], [0.5, 0.013157894736842105], [0.55, 0.013157894736842105], [0.6, 0.013157894736842105], [0.65, 0.013157894736842105], [0.7, 0.013157894736842105], [0.75, 0.013157894736842105], [0.8, 0.013157894736842105], [0.85, 0.013157894736842105], [0.9, 0.013157894736842105], [0.95, 0.013157894736842105], [1.0, 0.013157894736842105]], \"hoverinfo\": \"y\", \"mode\": \"lines+markers\", \"name\": \"thal = 0\", \"type\": \"scatter\", \"x\": [-1.0, -0.95, -0.9, -0.85, -0.8, -0.75, -0.7, -0.65, -0.6, -0.55, -0.5, -0.45, -0.4, -0.35, -0.3, -0.25, -0.2, -0.15, -0.1, -0.05, 0.0, 0.05, 0.1, 0.15, 0.2, 0.25, 0.3, 0.35, 0.4, 0.45, 0.5, 0.55, 0.6, 0.65, 0.7, 0.75, 0.8, 0.85, 0.9, 0.95, 1.0], \"y\": [0.4950148923102242, 0.49486960743445685, 0.4946883050022328, 0.494455614996797, 0.4942777960590277, 0.4940922376286886, 0.4939019535409428, 0.4937088971763133, 0.49351427526324054, 0.4933188031017617, 0.49312288838142976, 0.4929267542137434, 0.49271691072910406, 0.49252634097796105, 0.49233372590163094, 0.49213962710343223, 0.49194451370861647, 0.49174876176859184, 0.4915526559942614, 0.4913516306124632, 0.49116008775304715, 0.49116008775304715, 0.49116008775304715, 0.49116008775304715, 0.49116008775304715, 0.49116008775304715, 0.49116008775304715, 0.49116008775304715, 0.49116008775304715, 0.49116008775304715, 0.49116008775304715, 0.49116008775304715, 0.49116008775304715, 0.49116008775304715, 0.49116008775304715, 0.49116008775304715, 0.49116008775304715, 0.49116008775304715, 0.49116008775304715, 0.49116008775304715, 0.49116008775304715]}, {\"customdata\": [[-1.0, 0.0], [-0.95, 0.0032894736842105296], [-0.9, 0.006578947368421052], [-0.85, 0.009868421052631582], [-0.8, 0.013157894736842105], [-0.75, 0.016447368421052627], [-0.7, 0.019736842105263157], [-0.65, 0.02302631578947368], [-0.6, 0.02631578947368421], [-0.55, 0.02960526315789473], [-0.5, 0.03289473684210526], [-0.45, 0.03618421052631579], [-0.4, 0.039473684210526314], [-0.35, 0.042763157894736836], [-0.3, 0.046052631578947366], [-0.25, 0.049342105263157895], [-0.2, 0.05263157894736842], [-0.15, 0.05592105263157894], [-0.1, 0.05921052631578947], [-0.05, 0.0625], [0.0, 0.06578947368421052], [0.05, 0.1125], [0.1, 0.15921052631578947], [0.15, 0.20592105263157895], [0.2, 0.25263157894736843], [0.25, 0.2993421052631579], [0.3, 0.34605263157894733], [0.35, 0.3927631578947368], [0.4, 0.43947368421052635], [0.45, 0.4861842105263158], [0.5, 0.5328947368421053], [0.55, 0.5796052631578947], [0.6, 0.6263157894736842], [0.65, 0.6730263157894737], [0.7, 0.7197368421052631], [0.75, 0.7664473684210527], [0.8, 0.8131578947368422], [0.85, 0.8598684210526315], [0.9, 0.906578947368421], [0.95, 0.9532894736842105], [1.0, 1.0]], \"hoverinfo\": \"y\", \"mode\": \"lines+markers\", \"name\": \"thal = 1\", \"type\": \"scatter\", \"x\": [-1.0, -0.95, -0.9, -0.85, -0.8, -0.75, -0.7, -0.65, -0.6, -0.55, -0.5, -0.45, -0.4, -0.35, -0.3, -0.25, -0.2, -0.15, -0.1, -0.05, 0.0, 0.05, 0.1, 0.15, 0.2, 0.25, 0.3, 0.35, 0.4, 0.45, 0.5, 0.55, 0.6, 0.65, 0.7, 0.75, 0.8, 0.85, 0.9, 0.95, 1.0], \"y\": [0.4892970082440857, 0.48938631922586023, 0.48947932701585006, 0.48957323571009015, 0.4896661944125799, 0.48975947167872, 0.4898528252942821, 0.4899461966465986, 0.49003957195147885, 0.4901332146453453, 0.49022643416283546, 0.4903197424936338, 0.49041309147228296, 0.4905064577874072, 0.490599830868969, 0.49069320630440943, 0.4907865824412045, 0.4908800616436222, 0.4909733548840691, 0.49106671262122303, 0.49116008775304715, 0.492486031736926, 0.4938119796946934, 0.4951379588448834, 0.4964638640824516, 0.49778980917079585, 0.48929256101817087, 0.48929256101817087, 0.5176789673882923, 0.5176789673882923, 0.5176789673882923, 0.5176789673882923, 0.5176789673882923, 0.5176789673882923, 0.48929256101817087, 0.48929256101817087, 0.48929256101817087, 0.48929256101817087, 0.48929256101817087, 0.48929256101817087, 0.5176789302496484]}, {\"customdata\": [[-1.0, 0.0], [-0.95, 0.026315789473684237], [-0.9, 0.05263157894736842], [-0.85, 0.07894736842105265], [-0.8, 0.10526315789473684], [-0.75, 0.13157894736842102], [-0.7, 0.15789473684210525], [-0.65, 0.18421052631578944], [-0.6, 0.21052631578947367], [-0.55, 0.23684210526315785], [-0.5, 0.2631578947368421], [-0.45, 0.2894736842105263], [-0.4, 0.3157894736842105], [-0.35, 0.3421052631578947], [-0.3, 0.3684210526315789], [-0.25, 0.39473684210526316], [-0.2, 0.42105263157894735], [-0.15, 0.4473684210526315], [-0.1, 0.47368421052631576], [-0.05, 0.5], [0.0, 0.5263157894736842], [0.05, 0.5499999999999999], [0.1, 0.5736842105263158], [0.15, 0.5973684210526315], [0.2, 0.6210526315789473], [0.25, 0.6447368421052632], [0.3, 0.6684210526315789], [0.35, 0.6921052631578947], [0.4, 0.7157894736842105], [0.45, 0.7394736842105263], [0.5, 0.763157894736842], [0.55, 0.7868421052631579], [0.6, 0.8105263157894737], [0.65, 0.8342105263157895], [0.7, 0.8578947368421053], [0.75, 0.881578947368421], [0.8, 0.9052631578947369], [0.85, 0.9289473684210526], [0.9, 0.9526315789473685], [0.95, 0.9763157894736842], [1.0, 1.0]], \"hoverinfo\": \"y\", \"mode\": \"lines+markers\", \"name\": \"thal = 2\", \"type\": \"scatter\", \"x\": [-1.0, -0.95, -0.9, -0.85, -0.8, -0.75, -0.7, -0.65, -0.6, -0.55, -0.5, -0.45, -0.4, -0.35, -0.3, -0.25, -0.2, -0.15, -0.1, -0.05, 0.0, 0.05, 0.1, 0.15, 0.2, 0.25, 0.3, 0.35, 0.4, 0.45, 0.5, 0.55, 0.6, 0.65, 0.7, 0.75, 0.8, 0.85, 0.9, 0.95, 1.0], \"y\": [0.20839202124888315, 0.222394575009929, 0.2365369475034209, 0.2506854740657414, 0.26482864003204754, 0.2789741445355684, 0.29311985697766874, 0.3072655865094128, 0.32141131729712963, 0.3355573084472105, 0.34970282815752846, 0.3638485175471015, 0.3779942417020636, 0.39213997173005016, 0.40628570252690904, 0.4204314333946169, 0.43457719039744497, 0.4487228951379932, 0.46286862654758426, 0.47701435688150856, 0.49116008775304715, 0.5038912448982412, 0.5166223804815693, 0.5293533456759617, 0.5420847188899535, 0.5548158766542725, 0.5675470342247217, 0.5802781903789885, 0.5930093384443164, 0.6057404482373165, 0.6184714018846698, 0.631202823379528, 0.6439339811170632, 0.6566651383142982, 0.6693962896431455, 0.682127383325668, 0.6948579520472714, 0.7075897696854537, 0.7203208833733944, 0.7330461681001268, 0.7456366462944748]}, {\"customdata\": [[-1.0, 0.0], [-0.95, 0.019736842105263164], [-0.9, 0.03947368421052633], [-0.85, 0.05921052631578949], [-0.8, 0.0789473684210526], [-0.75, 0.09868421052631582], [-0.7, 0.11842105263157898], [-0.65, 0.1381578947368421], [-0.6, 0.15789473684210528], [-0.55, 0.17763157894736842], [-0.5, 0.19736842105263158], [-0.45, 0.21710526315789475], [-0.4, 0.23684210526315788], [-0.35, 0.2565789473684211], [-0.3, 0.27631578947368424], [-0.25, 0.29605263157894735], [-0.2, 0.3157894736842105], [-0.15, 0.3355263157894737], [-0.1, 0.35526315789473684], [-0.05, 0.375], [0.0, 0.39473684210526316], [0.05, 0.425], [0.1, 0.45526315789473687], [0.15, 0.4855263157894737], [0.2, 0.5157894736842106], [0.25, 0.5460526315789473], [0.3, 0.5763157894736842], [0.35, 0.6065789473684211], [0.4, 0.6368421052631579], [0.45, 0.6671052631578948], [0.5, 0.6973684210526316], [0.55, 0.7276315789473684], [0.6, 0.7578947368421052], [0.65, 0.7881578947368422], [0.7, 0.8184210526315789], [0.75, 0.8486842105263158], [0.8, 0.8789473684210527], [0.85, 0.9092105263157895], [0.9, 0.9394736842105263], [0.95, 0.9697368421052631], [1.0, 1.0]], \"hoverinfo\": \"y\", \"mode\": \"lines+markers\", \"name\": \"thal = 3\", \"type\": \"scatter\", \"x\": [-1.0, -0.95, -0.9, -0.85, -0.8, -0.75, -0.7, -0.65, -0.6, -0.55, -0.5, -0.45, -0.4, -0.35, -0.3, -0.25, -0.2, -0.15, -0.1, -0.05, 0.0, 0.05, 0.1, 0.15, 0.2, 0.25, 0.3, 0.35, 0.4, 0.45, 0.5, 0.55, 0.6, 0.65, 0.7, 0.75, 0.8, 0.85, 0.9, 0.95, 1.0], \"y\": [0.7089109453696322, 0.6981477958320924, 0.6872632647098765, 0.6763687623958906, 0.6654724458821684, 0.6545792706510752, 0.6436848487442958, 0.6327902483176268, 0.6218956237105675, 0.611000996064133, 0.6001053534826817, 0.5892114514681857, 0.5783170389590808, 0.5674224679988422, 0.5565278530516038, 0.545633227506861, 0.5347385998416181, 0.5238439718471253, 0.5129491426355335, 0.5020547061342069, 0.49116008775304715, 0.4744549686431855, 0.457749895121252, 0.44104479880536474, 0.424339702489525, 0.40763460617668523, 0.390929509883244, 0.3742244136240932, 0.3575193173449181, 0.34081422096471525, 0.324109576478472, 0.30740402837731623, 0.29069894106710775, 0.2739939937013771, 0.2572887393387178, 0.24058364344547273, 0.22387856153016983, 0.20717383700323302, 0.19046835506674448, 0.17376405284620539, 0.15719683367900014]}],\n",
       "                        {\"margin\": {\"r\": 50, \"t\": 50}, \"plot_bgcolor\": \"white\", \"template\": {\"data\": {\"bar\": [{\"error_x\": {\"color\": \"#2a3f5f\"}, \"error_y\": {\"color\": \"#2a3f5f\"}, \"marker\": {\"line\": {\"color\": \"#E5ECF6\", \"width\": 0.5}}, \"type\": \"bar\"}], \"barpolar\": [{\"marker\": {\"line\": {\"color\": \"#E5ECF6\", \"width\": 0.5}}, \"type\": \"barpolar\"}], \"carpet\": [{\"aaxis\": {\"endlinecolor\": \"#2a3f5f\", \"gridcolor\": \"white\", \"linecolor\": \"white\", \"minorgridcolor\": \"white\", \"startlinecolor\": \"#2a3f5f\"}, \"baxis\": {\"endlinecolor\": \"#2a3f5f\", \"gridcolor\": \"white\", \"linecolor\": \"white\", \"minorgridcolor\": \"white\", \"startlinecolor\": \"#2a3f5f\"}, \"type\": \"carpet\"}], \"choropleth\": [{\"colorbar\": {\"outlinewidth\": 0, \"ticks\": \"\"}, \"type\": \"choropleth\"}], \"contour\": [{\"colorbar\": {\"outlinewidth\": 0, \"ticks\": \"\"}, \"colorscale\": [[0.0, \"#0d0887\"], [0.1111111111111111, \"#46039f\"], [0.2222222222222222, \"#7201a8\"], [0.3333333333333333, \"#9c179e\"], [0.4444444444444444, \"#bd3786\"], [0.5555555555555556, \"#d8576b\"], [0.6666666666666666, \"#ed7953\"], [0.7777777777777778, \"#fb9f3a\"], [0.8888888888888888, \"#fdca26\"], [1.0, \"#f0f921\"]], \"type\": \"contour\"}], \"contourcarpet\": [{\"colorbar\": {\"outlinewidth\": 0, \"ticks\": \"\"}, \"type\": \"contourcarpet\"}], \"heatmap\": [{\"colorbar\": {\"outlinewidth\": 0, \"ticks\": \"\"}, \"colorscale\": [[0.0, \"#0d0887\"], [0.1111111111111111, \"#46039f\"], [0.2222222222222222, \"#7201a8\"], [0.3333333333333333, \"#9c179e\"], [0.4444444444444444, \"#bd3786\"], [0.5555555555555556, \"#d8576b\"], [0.6666666666666666, \"#ed7953\"], [0.7777777777777778, \"#fb9f3a\"], [0.8888888888888888, \"#fdca26\"], [1.0, \"#f0f921\"]], \"type\": \"heatmap\"}], \"heatmapgl\": [{\"colorbar\": {\"outlinewidth\": 0, \"ticks\": \"\"}, \"colorscale\": [[0.0, \"#0d0887\"], [0.1111111111111111, \"#46039f\"], [0.2222222222222222, \"#7201a8\"], [0.3333333333333333, \"#9c179e\"], [0.4444444444444444, \"#bd3786\"], [0.5555555555555556, \"#d8576b\"], [0.6666666666666666, \"#ed7953\"], [0.7777777777777778, \"#fb9f3a\"], [0.8888888888888888, \"#fdca26\"], [1.0, \"#f0f921\"]], \"type\": \"heatmapgl\"}], \"histogram\": [{\"marker\": {\"colorbar\": {\"outlinewidth\": 0, \"ticks\": \"\"}}, \"type\": \"histogram\"}], \"histogram2d\": [{\"colorbar\": {\"outlinewidth\": 0, \"ticks\": \"\"}, \"colorscale\": [[0.0, \"#0d0887\"], [0.1111111111111111, \"#46039f\"], [0.2222222222222222, \"#7201a8\"], [0.3333333333333333, \"#9c179e\"], [0.4444444444444444, \"#bd3786\"], [0.5555555555555556, \"#d8576b\"], [0.6666666666666666, \"#ed7953\"], [0.7777777777777778, \"#fb9f3a\"], [0.8888888888888888, \"#fdca26\"], [1.0, \"#f0f921\"]], \"type\": \"histogram2d\"}], \"histogram2dcontour\": [{\"colorbar\": {\"outlinewidth\": 0, \"ticks\": \"\"}, \"colorscale\": [[0.0, \"#0d0887\"], [0.1111111111111111, \"#46039f\"], [0.2222222222222222, \"#7201a8\"], [0.3333333333333333, \"#9c179e\"], [0.4444444444444444, \"#bd3786\"], [0.5555555555555556, \"#d8576b\"], [0.6666666666666666, \"#ed7953\"], [0.7777777777777778, \"#fb9f3a\"], [0.8888888888888888, \"#fdca26\"], [1.0, \"#f0f921\"]], \"type\": \"histogram2dcontour\"}], \"mesh3d\": [{\"colorbar\": {\"outlinewidth\": 0, \"ticks\": \"\"}, \"type\": \"mesh3d\"}], \"parcoords\": [{\"line\": {\"colorbar\": {\"outlinewidth\": 0, \"ticks\": \"\"}}, \"type\": \"parcoords\"}], \"scatter\": [{\"marker\": {\"colorbar\": {\"outlinewidth\": 0, \"ticks\": \"\"}}, \"type\": \"scatter\"}], \"scatter3d\": [{\"line\": {\"colorbar\": {\"outlinewidth\": 0, \"ticks\": \"\"}}, \"marker\": {\"colorbar\": {\"outlinewidth\": 0, \"ticks\": \"\"}}, \"type\": \"scatter3d\"}], \"scattercarpet\": [{\"marker\": {\"colorbar\": {\"outlinewidth\": 0, \"ticks\": \"\"}}, \"type\": \"scattercarpet\"}], \"scattergeo\": [{\"marker\": {\"colorbar\": {\"outlinewidth\": 0, \"ticks\": \"\"}}, \"type\": \"scattergeo\"}], \"scattergl\": [{\"marker\": {\"colorbar\": {\"outlinewidth\": 0, \"ticks\": \"\"}}, \"type\": \"scattergl\"}], \"scattermapbox\": [{\"marker\": {\"colorbar\": {\"outlinewidth\": 0, \"ticks\": \"\"}}, \"type\": \"scattermapbox\"}], \"scatterpolar\": [{\"marker\": {\"colorbar\": {\"outlinewidth\": 0, \"ticks\": \"\"}}, \"type\": \"scatterpolar\"}], \"scatterpolargl\": [{\"marker\": {\"colorbar\": {\"outlinewidth\": 0, \"ticks\": \"\"}}, \"type\": \"scatterpolargl\"}], \"scatterternary\": [{\"marker\": {\"colorbar\": {\"outlinewidth\": 0, \"ticks\": \"\"}}, \"type\": \"scatterternary\"}], \"surface\": [{\"colorbar\": {\"outlinewidth\": 0, \"ticks\": \"\"}, \"colorscale\": [[0.0, \"#0d0887\"], [0.1111111111111111, \"#46039f\"], [0.2222222222222222, \"#7201a8\"], [0.3333333333333333, \"#9c179e\"], [0.4444444444444444, \"#bd3786\"], [0.5555555555555556, \"#d8576b\"], [0.6666666666666666, \"#ed7953\"], [0.7777777777777778, \"#fb9f3a\"], [0.8888888888888888, \"#fdca26\"], [1.0, \"#f0f921\"]], \"type\": \"surface\"}], \"table\": [{\"cells\": {\"fill\": {\"color\": \"#EBF0F8\"}, \"line\": {\"color\": \"white\"}}, \"header\": {\"fill\": {\"color\": \"#C8D4E3\"}, \"line\": {\"color\": \"white\"}}, \"type\": \"table\"}]}, \"layout\": {\"annotationdefaults\": {\"arrowcolor\": \"#2a3f5f\", \"arrowhead\": 0, \"arrowwidth\": 1}, \"colorscale\": {\"diverging\": [[0, \"#8e0152\"], [0.1, \"#c51b7d\"], [0.2, \"#de77ae\"], [0.3, \"#f1b6da\"], [0.4, \"#fde0ef\"], [0.5, \"#f7f7f7\"], [0.6, \"#e6f5d0\"], [0.7, \"#b8e186\"], [0.8, \"#7fbc41\"], [0.9, \"#4d9221\"], [1, \"#276419\"]], \"sequential\": [[0.0, \"#0d0887\"], [0.1111111111111111, \"#46039f\"], [0.2222222222222222, \"#7201a8\"], [0.3333333333333333, \"#9c179e\"], [0.4444444444444444, \"#bd3786\"], [0.5555555555555556, \"#d8576b\"], [0.6666666666666666, \"#ed7953\"], [0.7777777777777778, \"#fb9f3a\"], [0.8888888888888888, \"#fdca26\"], [1.0, \"#f0f921\"]], \"sequentialminus\": [[0.0, \"#0d0887\"], [0.1111111111111111, \"#46039f\"], [0.2222222222222222, \"#7201a8\"], [0.3333333333333333, \"#9c179e\"], [0.4444444444444444, \"#bd3786\"], [0.5555555555555556, \"#d8576b\"], [0.6666666666666666, \"#ed7953\"], [0.7777777777777778, \"#fb9f3a\"], [0.8888888888888888, \"#fdca26\"], [1.0, \"#f0f921\"]]}, \"colorway\": [\"#636efa\", \"#EF553B\", \"#00cc96\", \"#ab63fa\", \"#FFA15A\", \"#19d3f3\", \"#FF6692\", \"#B6E880\", \"#FF97FF\", \"#FECB52\"], \"font\": {\"color\": \"#2a3f5f\"}, \"geo\": {\"bgcolor\": \"white\", \"lakecolor\": \"white\", \"landcolor\": \"#E5ECF6\", \"showlakes\": true, \"showland\": true, \"subunitcolor\": \"white\"}, \"hoverlabel\": {\"align\": \"left\"}, \"hovermode\": \"closest\", \"mapbox\": {\"style\": \"light\"}, \"paper_bgcolor\": \"white\", \"plot_bgcolor\": \"#E5ECF6\", \"polar\": {\"angularaxis\": {\"gridcolor\": \"white\", \"linecolor\": \"white\", \"ticks\": \"\"}, \"bgcolor\": \"#E5ECF6\", \"radialaxis\": {\"gridcolor\": \"white\", \"linecolor\": \"white\", \"ticks\": \"\"}}, \"scene\": {\"xaxis\": {\"backgroundcolor\": \"#E5ECF6\", \"gridcolor\": \"white\", \"gridwidth\": 2, \"linecolor\": \"white\", \"showbackground\": true, \"ticks\": \"\", \"zerolinecolor\": \"white\"}, \"yaxis\": {\"backgroundcolor\": \"#E5ECF6\", \"gridcolor\": \"white\", \"gridwidth\": 2, \"linecolor\": \"white\", \"showbackground\": true, \"ticks\": \"\", \"zerolinecolor\": \"white\"}, \"zaxis\": {\"backgroundcolor\": \"#E5ECF6\", \"gridcolor\": \"white\", \"gridwidth\": 2, \"linecolor\": \"white\", \"showbackground\": true, \"ticks\": \"\", \"zerolinecolor\": \"white\"}}, \"shapedefaults\": {\"line\": {\"color\": \"#2a3f5f\"}}, \"ternary\": {\"aaxis\": {\"gridcolor\": \"white\", \"linecolor\": \"white\", \"ticks\": \"\"}, \"baxis\": {\"gridcolor\": \"white\", \"linecolor\": \"white\", \"ticks\": \"\"}, \"bgcolor\": \"#E5ECF6\", \"caxis\": {\"gridcolor\": \"white\", \"linecolor\": \"white\", \"ticks\": \"\"}}, \"title\": {\"x\": 0.05}, \"xaxis\": {\"automargin\": true, \"gridcolor\": \"white\", \"linecolor\": \"white\", \"ticks\": \"\", \"zerolinecolor\": \"white\", \"zerolinewidth\": 2}, \"yaxis\": {\"automargin\": true, \"gridcolor\": \"white\", \"linecolor\": \"white\", \"ticks\": \"\", \"zerolinecolor\": \"white\", \"zerolinewidth\": 2}}}, \"xaxis\": {\"gridcolor\": \"#eee\", \"linecolor\": \"black\", \"nticks\": 5, \"showgrid\": true, \"showline\": true, \"title\": {\"text\": \"tau\"}, \"zeroline\": false}, \"yaxis\": {\"gridcolor\": \"#eee\", \"linecolor\": \"black\", \"range\": [0, 1], \"showgrid\": true, \"showline\": true, \"title\": {\"text\": \"Average \\\"has_heart_disease\\\"\"}}},\n",
       "                        {\"responsive\": true}\n",
       "                    ).then(function(){\n",
       "                            \n",
       "var gd = document.getElementById('0dbba495-653b-4474-bc08-103035013e65');\n",
       "var x = new MutationObserver(function (mutations, observer) {{\n",
       "        var display = window.getComputedStyle(gd).display;\n",
       "        if (!display || display === 'none') {{\n",
       "            console.log([gd, 'removed!']);\n",
       "            Plotly.purge(gd);\n",
       "            observer.disconnect();\n",
       "        }}\n",
       "}});\n",
       "\n",
       "// Listen for the removal of the full notebook cells\n",
       "var notebookContainer = gd.closest('#notebook-container');\n",
       "if (notebookContainer) {{\n",
       "    x.observe(notebookContainer, {childList: true});\n",
       "}}\n",
       "\n",
       "// Listen for the clearing of the current output cell\n",
       "var outputEl = gd.closest('.output');\n",
       "if (outputEl) {{\n",
       "    x.observe(outputEl, {childList: true});\n",
       "}}\n",
       "\n",
       "                        })\n",
       "                };\n",
       "                });\n",
       "            </script>\n",
       "        </div>"
      ]
     },
     "metadata": {},
     "output_type": "display_data"
    }
   ],
   "source": [
    "explainer.plot_bias(\n",
    "    X_test=X_test[[\"thalach\", \"oldpeak\", \"thal\"]],\n",
    "    y_pred=y_pred,\n",
    ")"
   ]
  },
  {
   "cell_type": "code",
   "execution_count": null,
   "metadata": {},
   "outputs": [],
   "source": []
  }
 ],
 "metadata": {
  "kernelspec": {
   "display_name": "ethik",
   "language": "python",
   "name": "ethik"
  },
  "language_info": {
   "codemirror_mode": {
    "name": "ipython",
    "version": 3
   },
   "file_extension": ".py",
   "mimetype": "text/x-python",
   "name": "python",
   "nbconvert_exporter": "python",
   "pygments_lexer": "ipython3",
   "version": "3.7.3"
  }
 },
 "nbformat": 4,
 "nbformat_minor": 2
}
