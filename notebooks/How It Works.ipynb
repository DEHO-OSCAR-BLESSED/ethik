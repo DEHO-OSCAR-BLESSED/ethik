{
 "cells": [
  {
   "cell_type": "markdown",
   "metadata": {},
   "source": [
    "# How It Works\n",
    "\n",
    "In this notebook, we explain the algorithm behind `ethik` and how it is implemented.\n",
    "\n",
    "Let's assume you have a dataset and a model that generates predictions on this dataset. For the sake of the example, we'll be wortking with the \"Adult\" dataset. This dataset contains a binary label indicating if a person's annual income is larger than $50k per year. The data is available on the [UCI machine learning repository](https://archive.ics.uci.edu/ml/index.php)."
   ]
  },
  {
   "cell_type": "code",
   "execution_count": 73,
   "metadata": {},
   "outputs": [
    {
     "data": {
      "text/html": [
       "<div>\n",
       "<style scoped>\n",
       "    .dataframe tbody tr th:only-of-type {\n",
       "        vertical-align: middle;\n",
       "    }\n",
       "\n",
       "    .dataframe tbody tr th {\n",
       "        vertical-align: top;\n",
       "    }\n",
       "\n",
       "    .dataframe thead th {\n",
       "        text-align: right;\n",
       "    }\n",
       "</style>\n",
       "<table border=\"1\" class=\"dataframe\">\n",
       "  <thead>\n",
       "    <tr style=\"text-align: right;\">\n",
       "      <th></th>\n",
       "      <th>age</th>\n",
       "      <th>workclass</th>\n",
       "      <th>fnlwgt</th>\n",
       "      <th>education</th>\n",
       "      <th>education-num</th>\n",
       "      <th>marital-status</th>\n",
       "      <th>occupation</th>\n",
       "      <th>relationship</th>\n",
       "      <th>race</th>\n",
       "      <th>gender</th>\n",
       "      <th>capital-gain</th>\n",
       "      <th>capital-loss</th>\n",
       "      <th>hours-per-week</th>\n",
       "      <th>native-country</th>\n",
       "    </tr>\n",
       "  </thead>\n",
       "  <tbody>\n",
       "    <tr>\n",
       "      <td>0</td>\n",
       "      <td>39</td>\n",
       "      <td>State-gov</td>\n",
       "      <td>77516</td>\n",
       "      <td>Bachelors</td>\n",
       "      <td>13</td>\n",
       "      <td>Never-married</td>\n",
       "      <td>Adm-clerical</td>\n",
       "      <td>Not-in-family</td>\n",
       "      <td>White</td>\n",
       "      <td>Male</td>\n",
       "      <td>2174</td>\n",
       "      <td>0</td>\n",
       "      <td>40</td>\n",
       "      <td>United-States</td>\n",
       "    </tr>\n",
       "    <tr>\n",
       "      <td>1</td>\n",
       "      <td>50</td>\n",
       "      <td>Self-emp-not-inc</td>\n",
       "      <td>83311</td>\n",
       "      <td>Bachelors</td>\n",
       "      <td>13</td>\n",
       "      <td>Married-civ-spouse</td>\n",
       "      <td>Exec-managerial</td>\n",
       "      <td>Husband</td>\n",
       "      <td>White</td>\n",
       "      <td>Male</td>\n",
       "      <td>0</td>\n",
       "      <td>0</td>\n",
       "      <td>13</td>\n",
       "      <td>United-States</td>\n",
       "    </tr>\n",
       "    <tr>\n",
       "      <td>2</td>\n",
       "      <td>38</td>\n",
       "      <td>Private</td>\n",
       "      <td>215646</td>\n",
       "      <td>HS-grad</td>\n",
       "      <td>9</td>\n",
       "      <td>Divorced</td>\n",
       "      <td>Handlers-cleaners</td>\n",
       "      <td>Not-in-family</td>\n",
       "      <td>White</td>\n",
       "      <td>Male</td>\n",
       "      <td>0</td>\n",
       "      <td>0</td>\n",
       "      <td>40</td>\n",
       "      <td>United-States</td>\n",
       "    </tr>\n",
       "    <tr>\n",
       "      <td>3</td>\n",
       "      <td>53</td>\n",
       "      <td>Private</td>\n",
       "      <td>234721</td>\n",
       "      <td>11th</td>\n",
       "      <td>7</td>\n",
       "      <td>Married-civ-spouse</td>\n",
       "      <td>Handlers-cleaners</td>\n",
       "      <td>Husband</td>\n",
       "      <td>Black</td>\n",
       "      <td>Male</td>\n",
       "      <td>0</td>\n",
       "      <td>0</td>\n",
       "      <td>40</td>\n",
       "      <td>United-States</td>\n",
       "    </tr>\n",
       "    <tr>\n",
       "      <td>4</td>\n",
       "      <td>28</td>\n",
       "      <td>Private</td>\n",
       "      <td>338409</td>\n",
       "      <td>Bachelors</td>\n",
       "      <td>13</td>\n",
       "      <td>Married-civ-spouse</td>\n",
       "      <td>Prof-specialty</td>\n",
       "      <td>Wife</td>\n",
       "      <td>Black</td>\n",
       "      <td>Female</td>\n",
       "      <td>0</td>\n",
       "      <td>0</td>\n",
       "      <td>40</td>\n",
       "      <td>Cuba</td>\n",
       "    </tr>\n",
       "  </tbody>\n",
       "</table>\n",
       "</div>"
      ],
      "text/plain": [
       "   age          workclass  fnlwgt   education  education-num  \\\n",
       "0   39          State-gov   77516   Bachelors             13   \n",
       "1   50   Self-emp-not-inc   83311   Bachelors             13   \n",
       "2   38            Private  215646     HS-grad              9   \n",
       "3   53            Private  234721        11th              7   \n",
       "4   28            Private  338409   Bachelors             13   \n",
       "\n",
       "        marital-status          occupation    relationship    race  gender  \\\n",
       "0        Never-married        Adm-clerical   Not-in-family   White    Male   \n",
       "1   Married-civ-spouse     Exec-managerial         Husband   White    Male   \n",
       "2             Divorced   Handlers-cleaners   Not-in-family   White    Male   \n",
       "3   Married-civ-spouse   Handlers-cleaners         Husband   Black    Male   \n",
       "4   Married-civ-spouse      Prof-specialty            Wife   Black  Female   \n",
       "\n",
       "   capital-gain  capital-loss  hours-per-week  native-country  \n",
       "0          2174             0              40   United-States  \n",
       "1             0             0              13   United-States  \n",
       "2             0             0              40   United-States  \n",
       "3             0             0              40   United-States  \n",
       "4             0             0              40            Cuba  "
      ]
     },
     "execution_count": 73,
     "metadata": {},
     "output_type": "execute_result"
    }
   ],
   "source": [
    "import numpy as np\n",
    "import pandas as pd\n",
    "import plotly.graph_objs as go\n",
    "from sklearn import model_selection\n",
    "\n",
    "url = 'https://archive.ics.uci.edu/ml/machine-learning-databases/adult/adult.data'\n",
    "names = [\n",
    "    'age', 'workclass', 'fnlwgt', 'education',\n",
    "    'education-num', 'marital-status', 'occupation',\n",
    "    'relationship', 'race', 'gender', 'capital-gain',\n",
    "    'capital-loss', 'hours-per-week', 'native-country',\n",
    "    'salary'\n",
    "]\n",
    "dtypes = {\n",
    "    'workclass': 'category',\n",
    "    'education': 'category',\n",
    "    'marital-status': 'category',\n",
    "    'occupation': 'category',\n",
    "    'relationship': 'category',\n",
    "    'race': 'category',\n",
    "    'gender': 'category',\n",
    "    'native-country': 'category'\n",
    "}\n",
    "\n",
    "X = pd.read_csv(url, names=names, header=None, dtype=dtypes)\n",
    "X['gender'] = X['gender'].str.strip().astype('category')  # Remove leading whitespace\n",
    "y = X.pop('salary').map({' <=50K': False, ' >50K': True})\n",
    "\n",
    "X_train, X_test, y_train, y_test = model_selection.train_test_split(X, y, shuffle=True, random_state=42)\n",
    "\n",
    "X.head()"
   ]
  },
  {
   "cell_type": "markdown",
   "metadata": {},
   "source": [
    "`ethik` is model-agnostic and works with the data only."
   ]
  },
  {
   "cell_type": "code",
   "execution_count": 74,
   "metadata": {},
   "outputs": [
    {
     "data": {
      "text/plain": [
       "0       0.009978\n",
       "1       0.366950\n",
       "2       0.749978\n",
       "3       0.015823\n",
       "4       0.015583\n",
       "          ...   \n",
       "8136    0.004573\n",
       "8137    0.113812\n",
       "8138    0.001476\n",
       "8139    0.707632\n",
       "8140    0.261709\n",
       "Name: >$50k, Length: 8141, dtype: float64"
      ]
     },
     "execution_count": 74,
     "metadata": {},
     "output_type": "execute_result"
    }
   ],
   "source": [
    "def get_black_box_model_predictions():\n",
    "    import lightgbm as lgb\n",
    "    model = lgb.LGBMClassifier(random_state=42).fit(X_train, y_train)\n",
    "    return model.predict_proba(X_test)[:, 1]\n",
    "\n",
    "y_pred = get_black_box_model_predictions()\n",
    "# We use a named pandas series to make plot labels more explicit\n",
    "y_pred = pd.Series(y_pred, name='>$50k')\n",
    "y_pred"
   ]
  },
  {
   "cell_type": "markdown",
   "metadata": {},
   "source": [
    "`ethik` lets us explore how each feature impact the model's behavior, either its average prediction or its performance."
   ]
  },
  {
   "cell_type": "markdown",
   "metadata": {},
   "source": [
    "## The Maths\n",
    "\n",
    "Mathematically, we have a dataset of $n$ samples and $p$ features:\n",
    "\n",
    "$$\n",
    "\\begin{aligned}\n",
    "X &= \\{(x_i^1, x_i^2, \\ldots, x_i^p) \\}_{1 \\leq i \\leq n} \\\\\n",
    "&= \\{x_i\\}_{1 \\leq i \\leq n}\n",
    "\\end{aligned}\n",
    "$$\n",
    "\n",
    "Usually, $X$ is `X_test`. Whether to use the training or the test set is out of the scope of this notebook and is discussed [here](https://christophm.github.io/interpretable-ml-book/feature-importance.html).\n",
    "\n",
    "We also have the model's predictions:\n",
    "\n",
    "$$\n",
    "\\begin{aligned}\n",
    "\\hat{Y} &= \\{f(x_i)\\}_{1 \\leq i \\leq n} \\\\\n",
    "&= \\{y_i\\}_{1 \\leq i \\leq n}\n",
    "\\end{aligned}\n",
    "$$\n",
    "\n",
    "We potentially also have $Y$, the true output observed from the real world.\n",
    "\n",
    "The dataset $(X, \\hat{Y}, Y)$ can be considered as an empirical probability distribution $Q_n$ (the unobserved true distribution being $Q$). As explained in the [paper](https://arxiv.org/pdf/1810.07924v2.pdf), the key idea of `ethik` is to stress this distribution with respect to a property of $X$. For instance, we can ask:\n",
    "\n",
    "*How can we stress the distribution so that the mean of the feature $X^j$ is $\\mu_t$ instead of $\\mu$?*\n",
    "\n",
    "Let's take an example. First, let's build a toy dataset with two features $X_{age}$ and $X_{hours-per-week}$:"
   ]
  },
  {
   "cell_type": "code",
   "execution_count": 75,
   "metadata": {},
   "outputs": [
    {
     "data": {
      "text/plain": [
       "array([[2.70000000e+01, 3.80000000e+01, 9.97846722e-03, 0.00000000e+00],\n",
       "       [4.50000000e+01, 4.00000000e+01, 3.66949539e-01, 0.00000000e+00],\n",
       "       [2.90000000e+01, 5.50000000e+01, 7.49978306e-01, 1.00000000e+00],\n",
       "       ...,\n",
       "       [2.50000000e+01, 4.00000000e+01, 1.47576107e-03, 0.00000000e+00],\n",
       "       [5.00000000e+01, 4.00000000e+01, 7.07631637e-01, 1.00000000e+00],\n",
       "       [2.40000000e+01, 4.00000000e+01, 2.61709249e-01, 1.00000000e+00]])"
      ]
     },
     "execution_count": 75,
     "metadata": {},
     "output_type": "execute_result"
    }
   ],
   "source": [
    "n = len(X_test) \n",
    "ds = np.array([\n",
    "    [X_test[\"age\"].iloc[i], X_test[\"hours-per-week\"].iloc[i], y_pred[i], int(y_test.iloc[i])]\n",
    "    for i in range(n)\n",
    "])\n",
    "ds"
   ]
  },
  {
   "cell_type": "markdown",
   "metadata": {},
   "source": [
    "Let's plot the [marginal distribution](https://en.wikipedia.org/wiki/Marginal_distribution) of $X_{age}$:"
   ]
  },
  {
   "cell_type": "code",
   "execution_count": 76,
   "metadata": {},
   "outputs": [],
   "source": [
    "def mean_from_pdf(x, density):\n",
    "    return sum(x * density) / sum(density)\n",
    "\n",
    "def plot_pdf(x, density):\n",
    "    width = x[1:] - x[:-1]\n",
    "    mean = mean_from_pdf(x, density)\n",
    "    return go.Figure().add_bar(\n",
    "        x=x,\n",
    "        y=density,\n",
    "        width=width,\n",
    "    ).update_layout(\n",
    "        plot_bgcolor=\"#FFF\",\n",
    "        xaxis=dict(\n",
    "            title=\"age\",\n",
    "            linecolor=\"black\",\n",
    "        ),\n",
    "        yaxis=dict(\n",
    "            title=\"Density\",\n",
    "            linecolor=\"black\",\n",
    "        ),\n",
    "        shapes=[\n",
    "            go.layout.Shape(\n",
    "                type=\"line\",\n",
    "                x0=mean,\n",
    "                y0=0,\n",
    "                x1=mean,\n",
    "                y1=1,\n",
    "                yref=\"paper\",\n",
    "                line=dict(\n",
    "                    color=\"red\",\n",
    "                    width=1,\n",
    "                    dash=\"dash\",\n",
    "                )\n",
    "            )\n",
    "        ],\n",
    "        annotations=[\n",
    "            go.layout.Annotation(\n",
    "                x=mean,\n",
    "                y=1,\n",
    "                xref=\"x\",\n",
    "                yref=\"paper\",\n",
    "                text=f\"Mean = {mean:.2f}\",\n",
    "                showarrow=False,\n",
    "                yanchor=\"top\",\n",
    "                bgcolor=\"#FFF\",\n",
    "                bordercolor=\"red\",\n",
    "                borderpad=4,\n",
    "            )\n",
    "        ]\n",
    "    )"
   ]
  },
  {
   "cell_type": "code",
   "execution_count": 77,
   "metadata": {
    "scrolled": false
   },
   "outputs": [
    {
     "data": {
      "application/vnd.plotly.v1+json": {
       "config": {
        "plotlyServerURL": "https://plot.ly"
       },
       "data": [
        {
         "type": "bar",
         "width": [
          1.8249999999999957,
          1.8250000000000028,
          1.8250000000000028,
          1.8249999999999957,
          1.8250000000000028,
          1.8249999999999957,
          1.8250000000000028,
          1.8250000000000028,
          1.8249999999999957,
          1.8250000000000028,
          1.8249999999999957,
          1.8250000000000028,
          1.8249999999999957,
          1.8250000000000028,
          1.8250000000000028,
          1.8249999999999957,
          1.8250000000000028,
          1.8250000000000028,
          1.8249999999999957,
          1.8249999999999957,
          1.8250000000000028,
          1.8250000000000028,
          1.8250000000000028,
          1.8249999999999957,
          1.8249999999999957,
          1.8250000000000028,
          1.8250000000000028,
          1.8249999999999886,
          1.825000000000017,
          1.8249999999999886,
          1.8250000000000028,
          1.8250000000000028,
          1.8249999999999886,
          1.825000000000017,
          1.8249999999999886,
          1.8250000000000028,
          1.8250000000000028,
          1.8249999999999886,
          1.825000000000017
         ],
         "x": [
          17.9125,
          19.737499999999997,
          21.5625,
          23.387500000000003,
          25.2125,
          27.0375,
          28.862499999999997,
          30.6875,
          32.5125,
          34.3375,
          36.1625,
          37.9875,
          39.8125,
          41.637499999999996,
          43.4625,
          45.2875,
          47.1125,
          48.9375,
          50.7625,
          52.5875,
          54.412499999999994,
          56.2375,
          58.0625,
          59.8875,
          61.7125,
          63.537499999999994,
          65.3625,
          67.1875,
          69.01249999999999,
          70.8375,
          72.6625,
          74.4875,
          76.3125,
          78.13749999999999,
          79.9625,
          81.7875,
          83.6125,
          85.4375,
          87.26249999999999,
          89.0875
         ],
         "y": [
          0.016153648116333193,
          0.02557660951752756,
          0.02510546144746779,
          0.02786504300067476,
          0.028268884203583092,
          0.014134442101791546,
          0.02712466746200949,
          0.028740032273642753,
          0.028336191070734536,
          0.030153476483821905,
          0.030624624553881624,
          0.014807510773305459,
          0.024970847713165115,
          0.02591314385328445,
          0.02436508590880252,
          0.02436508590880252,
          0.021874731824201247,
          0.009355654534042957,
          0.021470890621292912,
          0.016490182452090104,
          0.015413272577667956,
          0.012115236087249872,
          0.006394152379381878,
          0.010634485009919373,
          0.008884506463983241,
          0.006528766113684704,
          0.0054518562392624,
          0.004846094434899986,
          0.0014134442101791519,
          0.0024230472174499745,
          0.0023557403502986046,
          0.001211523608724978,
          0.0013461373430277742,
          0.0008076824058166582,
          0.00047114807005971726,
          0.0006057618043624936,
          0.00047114807005972095,
          6.73068671513882e-05,
          0,
          0.0008076824058166582
         ]
        }
       ],
       "layout": {
        "annotations": [
         {
          "bgcolor": "#FFF",
          "bordercolor": "red",
          "borderpad": 4,
          "showarrow": false,
          "text": "Mean = 38.56",
          "x": 38.55959188060434,
          "xref": "x",
          "y": 1,
          "yanchor": "top",
          "yref": "paper"
         }
        ],
        "plot_bgcolor": "#FFF",
        "shapes": [
         {
          "line": {
           "color": "red",
           "dash": "dash",
           "width": 1
          },
          "type": "line",
          "x0": 38.55959188060434,
          "x1": 38.55959188060434,
          "y0": 0,
          "y1": 1,
          "yref": "paper"
         }
        ],
        "template": {
         "data": {
          "bar": [
           {
            "error_x": {
             "color": "#2a3f5f"
            },
            "error_y": {
             "color": "#2a3f5f"
            },
            "marker": {
             "line": {
              "color": "#E5ECF6",
              "width": 0.5
             }
            },
            "type": "bar"
           }
          ],
          "barpolar": [
           {
            "marker": {
             "line": {
              "color": "#E5ECF6",
              "width": 0.5
             }
            },
            "type": "barpolar"
           }
          ],
          "carpet": [
           {
            "aaxis": {
             "endlinecolor": "#2a3f5f",
             "gridcolor": "white",
             "linecolor": "white",
             "minorgridcolor": "white",
             "startlinecolor": "#2a3f5f"
            },
            "baxis": {
             "endlinecolor": "#2a3f5f",
             "gridcolor": "white",
             "linecolor": "white",
             "minorgridcolor": "white",
             "startlinecolor": "#2a3f5f"
            },
            "type": "carpet"
           }
          ],
          "choropleth": [
           {
            "colorbar": {
             "outlinewidth": 0,
             "ticks": ""
            },
            "type": "choropleth"
           }
          ],
          "contour": [
           {
            "colorbar": {
             "outlinewidth": 0,
             "ticks": ""
            },
            "colorscale": [
             [
              0,
              "#0d0887"
             ],
             [
              0.1111111111111111,
              "#46039f"
             ],
             [
              0.2222222222222222,
              "#7201a8"
             ],
             [
              0.3333333333333333,
              "#9c179e"
             ],
             [
              0.4444444444444444,
              "#bd3786"
             ],
             [
              0.5555555555555556,
              "#d8576b"
             ],
             [
              0.6666666666666666,
              "#ed7953"
             ],
             [
              0.7777777777777778,
              "#fb9f3a"
             ],
             [
              0.8888888888888888,
              "#fdca26"
             ],
             [
              1,
              "#f0f921"
             ]
            ],
            "type": "contour"
           }
          ],
          "contourcarpet": [
           {
            "colorbar": {
             "outlinewidth": 0,
             "ticks": ""
            },
            "type": "contourcarpet"
           }
          ],
          "heatmap": [
           {
            "colorbar": {
             "outlinewidth": 0,
             "ticks": ""
            },
            "colorscale": [
             [
              0,
              "#0d0887"
             ],
             [
              0.1111111111111111,
              "#46039f"
             ],
             [
              0.2222222222222222,
              "#7201a8"
             ],
             [
              0.3333333333333333,
              "#9c179e"
             ],
             [
              0.4444444444444444,
              "#bd3786"
             ],
             [
              0.5555555555555556,
              "#d8576b"
             ],
             [
              0.6666666666666666,
              "#ed7953"
             ],
             [
              0.7777777777777778,
              "#fb9f3a"
             ],
             [
              0.8888888888888888,
              "#fdca26"
             ],
             [
              1,
              "#f0f921"
             ]
            ],
            "type": "heatmap"
           }
          ],
          "heatmapgl": [
           {
            "colorbar": {
             "outlinewidth": 0,
             "ticks": ""
            },
            "colorscale": [
             [
              0,
              "#0d0887"
             ],
             [
              0.1111111111111111,
              "#46039f"
             ],
             [
              0.2222222222222222,
              "#7201a8"
             ],
             [
              0.3333333333333333,
              "#9c179e"
             ],
             [
              0.4444444444444444,
              "#bd3786"
             ],
             [
              0.5555555555555556,
              "#d8576b"
             ],
             [
              0.6666666666666666,
              "#ed7953"
             ],
             [
              0.7777777777777778,
              "#fb9f3a"
             ],
             [
              0.8888888888888888,
              "#fdca26"
             ],
             [
              1,
              "#f0f921"
             ]
            ],
            "type": "heatmapgl"
           }
          ],
          "histogram": [
           {
            "marker": {
             "colorbar": {
              "outlinewidth": 0,
              "ticks": ""
             }
            },
            "type": "histogram"
           }
          ],
          "histogram2d": [
           {
            "colorbar": {
             "outlinewidth": 0,
             "ticks": ""
            },
            "colorscale": [
             [
              0,
              "#0d0887"
             ],
             [
              0.1111111111111111,
              "#46039f"
             ],
             [
              0.2222222222222222,
              "#7201a8"
             ],
             [
              0.3333333333333333,
              "#9c179e"
             ],
             [
              0.4444444444444444,
              "#bd3786"
             ],
             [
              0.5555555555555556,
              "#d8576b"
             ],
             [
              0.6666666666666666,
              "#ed7953"
             ],
             [
              0.7777777777777778,
              "#fb9f3a"
             ],
             [
              0.8888888888888888,
              "#fdca26"
             ],
             [
              1,
              "#f0f921"
             ]
            ],
            "type": "histogram2d"
           }
          ],
          "histogram2dcontour": [
           {
            "colorbar": {
             "outlinewidth": 0,
             "ticks": ""
            },
            "colorscale": [
             [
              0,
              "#0d0887"
             ],
             [
              0.1111111111111111,
              "#46039f"
             ],
             [
              0.2222222222222222,
              "#7201a8"
             ],
             [
              0.3333333333333333,
              "#9c179e"
             ],
             [
              0.4444444444444444,
              "#bd3786"
             ],
             [
              0.5555555555555556,
              "#d8576b"
             ],
             [
              0.6666666666666666,
              "#ed7953"
             ],
             [
              0.7777777777777778,
              "#fb9f3a"
             ],
             [
              0.8888888888888888,
              "#fdca26"
             ],
             [
              1,
              "#f0f921"
             ]
            ],
            "type": "histogram2dcontour"
           }
          ],
          "mesh3d": [
           {
            "colorbar": {
             "outlinewidth": 0,
             "ticks": ""
            },
            "type": "mesh3d"
           }
          ],
          "parcoords": [
           {
            "line": {
             "colorbar": {
              "outlinewidth": 0,
              "ticks": ""
             }
            },
            "type": "parcoords"
           }
          ],
          "scatter": [
           {
            "marker": {
             "colorbar": {
              "outlinewidth": 0,
              "ticks": ""
             }
            },
            "type": "scatter"
           }
          ],
          "scatter3d": [
           {
            "line": {
             "colorbar": {
              "outlinewidth": 0,
              "ticks": ""
             }
            },
            "marker": {
             "colorbar": {
              "outlinewidth": 0,
              "ticks": ""
             }
            },
            "type": "scatter3d"
           }
          ],
          "scattercarpet": [
           {
            "marker": {
             "colorbar": {
              "outlinewidth": 0,
              "ticks": ""
             }
            },
            "type": "scattercarpet"
           }
          ],
          "scattergeo": [
           {
            "marker": {
             "colorbar": {
              "outlinewidth": 0,
              "ticks": ""
             }
            },
            "type": "scattergeo"
           }
          ],
          "scattergl": [
           {
            "marker": {
             "colorbar": {
              "outlinewidth": 0,
              "ticks": ""
             }
            },
            "type": "scattergl"
           }
          ],
          "scattermapbox": [
           {
            "marker": {
             "colorbar": {
              "outlinewidth": 0,
              "ticks": ""
             }
            },
            "type": "scattermapbox"
           }
          ],
          "scatterpolar": [
           {
            "marker": {
             "colorbar": {
              "outlinewidth": 0,
              "ticks": ""
             }
            },
            "type": "scatterpolar"
           }
          ],
          "scatterpolargl": [
           {
            "marker": {
             "colorbar": {
              "outlinewidth": 0,
              "ticks": ""
             }
            },
            "type": "scatterpolargl"
           }
          ],
          "scatterternary": [
           {
            "marker": {
             "colorbar": {
              "outlinewidth": 0,
              "ticks": ""
             }
            },
            "type": "scatterternary"
           }
          ],
          "surface": [
           {
            "colorbar": {
             "outlinewidth": 0,
             "ticks": ""
            },
            "colorscale": [
             [
              0,
              "#0d0887"
             ],
             [
              0.1111111111111111,
              "#46039f"
             ],
             [
              0.2222222222222222,
              "#7201a8"
             ],
             [
              0.3333333333333333,
              "#9c179e"
             ],
             [
              0.4444444444444444,
              "#bd3786"
             ],
             [
              0.5555555555555556,
              "#d8576b"
             ],
             [
              0.6666666666666666,
              "#ed7953"
             ],
             [
              0.7777777777777778,
              "#fb9f3a"
             ],
             [
              0.8888888888888888,
              "#fdca26"
             ],
             [
              1,
              "#f0f921"
             ]
            ],
            "type": "surface"
           }
          ],
          "table": [
           {
            "cells": {
             "fill": {
              "color": "#EBF0F8"
             },
             "line": {
              "color": "white"
             }
            },
            "header": {
             "fill": {
              "color": "#C8D4E3"
             },
             "line": {
              "color": "white"
             }
            },
            "type": "table"
           }
          ]
         },
         "layout": {
          "annotationdefaults": {
           "arrowcolor": "#2a3f5f",
           "arrowhead": 0,
           "arrowwidth": 1
          },
          "colorscale": {
           "diverging": [
            [
             0,
             "#8e0152"
            ],
            [
             0.1,
             "#c51b7d"
            ],
            [
             0.2,
             "#de77ae"
            ],
            [
             0.3,
             "#f1b6da"
            ],
            [
             0.4,
             "#fde0ef"
            ],
            [
             0.5,
             "#f7f7f7"
            ],
            [
             0.6,
             "#e6f5d0"
            ],
            [
             0.7,
             "#b8e186"
            ],
            [
             0.8,
             "#7fbc41"
            ],
            [
             0.9,
             "#4d9221"
            ],
            [
             1,
             "#276419"
            ]
           ],
           "sequential": [
            [
             0,
             "#0d0887"
            ],
            [
             0.1111111111111111,
             "#46039f"
            ],
            [
             0.2222222222222222,
             "#7201a8"
            ],
            [
             0.3333333333333333,
             "#9c179e"
            ],
            [
             0.4444444444444444,
             "#bd3786"
            ],
            [
             0.5555555555555556,
             "#d8576b"
            ],
            [
             0.6666666666666666,
             "#ed7953"
            ],
            [
             0.7777777777777778,
             "#fb9f3a"
            ],
            [
             0.8888888888888888,
             "#fdca26"
            ],
            [
             1,
             "#f0f921"
            ]
           ],
           "sequentialminus": [
            [
             0,
             "#0d0887"
            ],
            [
             0.1111111111111111,
             "#46039f"
            ],
            [
             0.2222222222222222,
             "#7201a8"
            ],
            [
             0.3333333333333333,
             "#9c179e"
            ],
            [
             0.4444444444444444,
             "#bd3786"
            ],
            [
             0.5555555555555556,
             "#d8576b"
            ],
            [
             0.6666666666666666,
             "#ed7953"
            ],
            [
             0.7777777777777778,
             "#fb9f3a"
            ],
            [
             0.8888888888888888,
             "#fdca26"
            ],
            [
             1,
             "#f0f921"
            ]
           ]
          },
          "colorway": [
           "#636efa",
           "#EF553B",
           "#00cc96",
           "#ab63fa",
           "#FFA15A",
           "#19d3f3",
           "#FF6692",
           "#B6E880",
           "#FF97FF",
           "#FECB52"
          ],
          "font": {
           "color": "#2a3f5f"
          },
          "geo": {
           "bgcolor": "white",
           "lakecolor": "white",
           "landcolor": "#E5ECF6",
           "showlakes": true,
           "showland": true,
           "subunitcolor": "white"
          },
          "hoverlabel": {
           "align": "left"
          },
          "hovermode": "closest",
          "mapbox": {
           "style": "light"
          },
          "paper_bgcolor": "white",
          "plot_bgcolor": "#E5ECF6",
          "polar": {
           "angularaxis": {
            "gridcolor": "white",
            "linecolor": "white",
            "ticks": ""
           },
           "bgcolor": "#E5ECF6",
           "radialaxis": {
            "gridcolor": "white",
            "linecolor": "white",
            "ticks": ""
           }
          },
          "scene": {
           "xaxis": {
            "backgroundcolor": "#E5ECF6",
            "gridcolor": "white",
            "gridwidth": 2,
            "linecolor": "white",
            "showbackground": true,
            "ticks": "",
            "zerolinecolor": "white"
           },
           "yaxis": {
            "backgroundcolor": "#E5ECF6",
            "gridcolor": "white",
            "gridwidth": 2,
            "linecolor": "white",
            "showbackground": true,
            "ticks": "",
            "zerolinecolor": "white"
           },
           "zaxis": {
            "backgroundcolor": "#E5ECF6",
            "gridcolor": "white",
            "gridwidth": 2,
            "linecolor": "white",
            "showbackground": true,
            "ticks": "",
            "zerolinecolor": "white"
           }
          },
          "shapedefaults": {
           "line": {
            "color": "#2a3f5f"
           }
          },
          "ternary": {
           "aaxis": {
            "gridcolor": "white",
            "linecolor": "white",
            "ticks": ""
           },
           "baxis": {
            "gridcolor": "white",
            "linecolor": "white",
            "ticks": ""
           },
           "bgcolor": "#E5ECF6",
           "caxis": {
            "gridcolor": "white",
            "linecolor": "white",
            "ticks": ""
           }
          },
          "title": {
           "x": 0.05
          },
          "xaxis": {
           "automargin": true,
           "gridcolor": "white",
           "linecolor": "white",
           "ticks": "",
           "zerolinecolor": "white",
           "zerolinewidth": 2
          },
          "yaxis": {
           "automargin": true,
           "gridcolor": "white",
           "linecolor": "white",
           "ticks": "",
           "zerolinecolor": "white",
           "zerolinewidth": 2
          }
         }
        },
        "xaxis": {
         "linecolor": "black",
         "title": {
          "text": "age"
         }
        },
        "yaxis": {
         "linecolor": "black",
         "title": {
          "text": "Density"
         }
        }
       }
      },
      "text/html": [
       "<div>\n",
       "        \n",
       "        \n",
       "            <div id=\"fb53e504-52d2-45c7-8614-7ab62aa3f705\" class=\"plotly-graph-div\" style=\"height:525px; width:100%;\"></div>\n",
       "            <script type=\"text/javascript\">\n",
       "                require([\"plotly\"], function(Plotly) {\n",
       "                    window.PLOTLYENV=window.PLOTLYENV || {};\n",
       "                    \n",
       "                if (document.getElementById(\"fb53e504-52d2-45c7-8614-7ab62aa3f705\")) {\n",
       "                    Plotly.newPlot(\n",
       "                        'fb53e504-52d2-45c7-8614-7ab62aa3f705',\n",
       "                        [{\"type\": \"bar\", \"width\": [1.8249999999999957, 1.8250000000000028, 1.8250000000000028, 1.8249999999999957, 1.8250000000000028, 1.8249999999999957, 1.8250000000000028, 1.8250000000000028, 1.8249999999999957, 1.8250000000000028, 1.8249999999999957, 1.8250000000000028, 1.8249999999999957, 1.8250000000000028, 1.8250000000000028, 1.8249999999999957, 1.8250000000000028, 1.8250000000000028, 1.8249999999999957, 1.8249999999999957, 1.8250000000000028, 1.8250000000000028, 1.8250000000000028, 1.8249999999999957, 1.8249999999999957, 1.8250000000000028, 1.8250000000000028, 1.8249999999999886, 1.825000000000017, 1.8249999999999886, 1.8250000000000028, 1.8250000000000028, 1.8249999999999886, 1.825000000000017, 1.8249999999999886, 1.8250000000000028, 1.8250000000000028, 1.8249999999999886, 1.825000000000017], \"x\": [17.9125, 19.737499999999997, 21.5625, 23.387500000000003, 25.2125, 27.0375, 28.862499999999997, 30.6875, 32.5125, 34.3375, 36.1625, 37.9875, 39.8125, 41.637499999999996, 43.4625, 45.2875, 47.1125, 48.9375, 50.7625, 52.5875, 54.412499999999994, 56.2375, 58.0625, 59.8875, 61.7125, 63.537499999999994, 65.3625, 67.1875, 69.01249999999999, 70.8375, 72.6625, 74.4875, 76.3125, 78.13749999999999, 79.9625, 81.7875, 83.6125, 85.4375, 87.26249999999999, 89.0875], \"y\": [0.016153648116333193, 0.02557660951752756, 0.02510546144746779, 0.02786504300067476, 0.028268884203583092, 0.014134442101791546, 0.02712466746200949, 0.028740032273642753, 0.028336191070734536, 0.030153476483821905, 0.030624624553881624, 0.014807510773305459, 0.024970847713165115, 0.02591314385328445, 0.02436508590880252, 0.02436508590880252, 0.021874731824201247, 0.009355654534042957, 0.021470890621292912, 0.016490182452090104, 0.015413272577667956, 0.012115236087249872, 0.006394152379381878, 0.010634485009919373, 0.008884506463983241, 0.006528766113684704, 0.0054518562392624, 0.004846094434899986, 0.0014134442101791519, 0.0024230472174499745, 0.0023557403502986046, 0.001211523608724978, 0.0013461373430277742, 0.0008076824058166582, 0.00047114807005971726, 0.0006057618043624936, 0.00047114807005972095, 6.73068671513882e-05, 0.0, 0.0008076824058166582]}],\n",
       "                        {\"annotations\": [{\"bgcolor\": \"#FFF\", \"bordercolor\": \"red\", \"borderpad\": 4, \"showarrow\": false, \"text\": \"Mean = 38.56\", \"x\": 38.55959188060434, \"xref\": \"x\", \"y\": 1, \"yanchor\": \"top\", \"yref\": \"paper\"}], \"plot_bgcolor\": \"#FFF\", \"shapes\": [{\"line\": {\"color\": \"red\", \"dash\": \"dash\", \"width\": 1}, \"type\": \"line\", \"x0\": 38.55959188060434, \"x1\": 38.55959188060434, \"y0\": 0, \"y1\": 1, \"yref\": \"paper\"}], \"template\": {\"data\": {\"bar\": [{\"error_x\": {\"color\": \"#2a3f5f\"}, \"error_y\": {\"color\": \"#2a3f5f\"}, \"marker\": {\"line\": {\"color\": \"#E5ECF6\", \"width\": 0.5}}, \"type\": \"bar\"}], \"barpolar\": [{\"marker\": {\"line\": {\"color\": \"#E5ECF6\", \"width\": 0.5}}, \"type\": \"barpolar\"}], \"carpet\": [{\"aaxis\": {\"endlinecolor\": \"#2a3f5f\", \"gridcolor\": \"white\", \"linecolor\": \"white\", \"minorgridcolor\": \"white\", \"startlinecolor\": \"#2a3f5f\"}, \"baxis\": {\"endlinecolor\": \"#2a3f5f\", \"gridcolor\": \"white\", \"linecolor\": \"white\", \"minorgridcolor\": \"white\", \"startlinecolor\": \"#2a3f5f\"}, \"type\": \"carpet\"}], \"choropleth\": [{\"colorbar\": {\"outlinewidth\": 0, \"ticks\": \"\"}, \"type\": \"choropleth\"}], \"contour\": [{\"colorbar\": {\"outlinewidth\": 0, \"ticks\": \"\"}, \"colorscale\": [[0.0, \"#0d0887\"], [0.1111111111111111, \"#46039f\"], [0.2222222222222222, \"#7201a8\"], [0.3333333333333333, \"#9c179e\"], [0.4444444444444444, \"#bd3786\"], [0.5555555555555556, \"#d8576b\"], [0.6666666666666666, \"#ed7953\"], [0.7777777777777778, \"#fb9f3a\"], [0.8888888888888888, \"#fdca26\"], [1.0, \"#f0f921\"]], \"type\": \"contour\"}], \"contourcarpet\": [{\"colorbar\": {\"outlinewidth\": 0, \"ticks\": \"\"}, \"type\": \"contourcarpet\"}], \"heatmap\": [{\"colorbar\": {\"outlinewidth\": 0, \"ticks\": \"\"}, \"colorscale\": [[0.0, \"#0d0887\"], [0.1111111111111111, \"#46039f\"], [0.2222222222222222, \"#7201a8\"], [0.3333333333333333, \"#9c179e\"], [0.4444444444444444, \"#bd3786\"], [0.5555555555555556, \"#d8576b\"], [0.6666666666666666, \"#ed7953\"], [0.7777777777777778, \"#fb9f3a\"], [0.8888888888888888, \"#fdca26\"], [1.0, \"#f0f921\"]], \"type\": \"heatmap\"}], \"heatmapgl\": [{\"colorbar\": {\"outlinewidth\": 0, \"ticks\": \"\"}, \"colorscale\": [[0.0, \"#0d0887\"], [0.1111111111111111, \"#46039f\"], [0.2222222222222222, \"#7201a8\"], [0.3333333333333333, \"#9c179e\"], [0.4444444444444444, \"#bd3786\"], [0.5555555555555556, \"#d8576b\"], [0.6666666666666666, \"#ed7953\"], [0.7777777777777778, \"#fb9f3a\"], [0.8888888888888888, \"#fdca26\"], [1.0, \"#f0f921\"]], \"type\": \"heatmapgl\"}], \"histogram\": [{\"marker\": {\"colorbar\": {\"outlinewidth\": 0, \"ticks\": \"\"}}, \"type\": \"histogram\"}], \"histogram2d\": [{\"colorbar\": {\"outlinewidth\": 0, \"ticks\": \"\"}, \"colorscale\": [[0.0, \"#0d0887\"], [0.1111111111111111, \"#46039f\"], [0.2222222222222222, \"#7201a8\"], [0.3333333333333333, \"#9c179e\"], [0.4444444444444444, \"#bd3786\"], [0.5555555555555556, \"#d8576b\"], [0.6666666666666666, \"#ed7953\"], [0.7777777777777778, \"#fb9f3a\"], [0.8888888888888888, \"#fdca26\"], [1.0, \"#f0f921\"]], \"type\": \"histogram2d\"}], \"histogram2dcontour\": [{\"colorbar\": {\"outlinewidth\": 0, \"ticks\": \"\"}, \"colorscale\": [[0.0, \"#0d0887\"], [0.1111111111111111, \"#46039f\"], [0.2222222222222222, \"#7201a8\"], [0.3333333333333333, \"#9c179e\"], [0.4444444444444444, \"#bd3786\"], [0.5555555555555556, \"#d8576b\"], [0.6666666666666666, \"#ed7953\"], [0.7777777777777778, \"#fb9f3a\"], [0.8888888888888888, \"#fdca26\"], [1.0, \"#f0f921\"]], \"type\": \"histogram2dcontour\"}], \"mesh3d\": [{\"colorbar\": {\"outlinewidth\": 0, \"ticks\": \"\"}, \"type\": \"mesh3d\"}], \"parcoords\": [{\"line\": {\"colorbar\": {\"outlinewidth\": 0, \"ticks\": \"\"}}, \"type\": \"parcoords\"}], \"scatter\": [{\"marker\": {\"colorbar\": {\"outlinewidth\": 0, \"ticks\": \"\"}}, \"type\": \"scatter\"}], \"scatter3d\": [{\"line\": {\"colorbar\": {\"outlinewidth\": 0, \"ticks\": \"\"}}, \"marker\": {\"colorbar\": {\"outlinewidth\": 0, \"ticks\": \"\"}}, \"type\": \"scatter3d\"}], \"scattercarpet\": [{\"marker\": {\"colorbar\": {\"outlinewidth\": 0, \"ticks\": \"\"}}, \"type\": \"scattercarpet\"}], \"scattergeo\": [{\"marker\": {\"colorbar\": {\"outlinewidth\": 0, \"ticks\": \"\"}}, \"type\": \"scattergeo\"}], \"scattergl\": [{\"marker\": {\"colorbar\": {\"outlinewidth\": 0, \"ticks\": \"\"}}, \"type\": \"scattergl\"}], \"scattermapbox\": [{\"marker\": {\"colorbar\": {\"outlinewidth\": 0, \"ticks\": \"\"}}, \"type\": \"scattermapbox\"}], \"scatterpolar\": [{\"marker\": {\"colorbar\": {\"outlinewidth\": 0, \"ticks\": \"\"}}, \"type\": \"scatterpolar\"}], \"scatterpolargl\": [{\"marker\": {\"colorbar\": {\"outlinewidth\": 0, \"ticks\": \"\"}}, \"type\": \"scatterpolargl\"}], \"scatterternary\": [{\"marker\": {\"colorbar\": {\"outlinewidth\": 0, \"ticks\": \"\"}}, \"type\": \"scatterternary\"}], \"surface\": [{\"colorbar\": {\"outlinewidth\": 0, \"ticks\": \"\"}, \"colorscale\": [[0.0, \"#0d0887\"], [0.1111111111111111, \"#46039f\"], [0.2222222222222222, \"#7201a8\"], [0.3333333333333333, \"#9c179e\"], [0.4444444444444444, \"#bd3786\"], [0.5555555555555556, \"#d8576b\"], [0.6666666666666666, \"#ed7953\"], [0.7777777777777778, \"#fb9f3a\"], [0.8888888888888888, \"#fdca26\"], [1.0, \"#f0f921\"]], \"type\": \"surface\"}], \"table\": [{\"cells\": {\"fill\": {\"color\": \"#EBF0F8\"}, \"line\": {\"color\": \"white\"}}, \"header\": {\"fill\": {\"color\": \"#C8D4E3\"}, \"line\": {\"color\": \"white\"}}, \"type\": \"table\"}]}, \"layout\": {\"annotationdefaults\": {\"arrowcolor\": \"#2a3f5f\", \"arrowhead\": 0, \"arrowwidth\": 1}, \"colorscale\": {\"diverging\": [[0, \"#8e0152\"], [0.1, \"#c51b7d\"], [0.2, \"#de77ae\"], [0.3, \"#f1b6da\"], [0.4, \"#fde0ef\"], [0.5, \"#f7f7f7\"], [0.6, \"#e6f5d0\"], [0.7, \"#b8e186\"], [0.8, \"#7fbc41\"], [0.9, \"#4d9221\"], [1, \"#276419\"]], \"sequential\": [[0.0, \"#0d0887\"], [0.1111111111111111, \"#46039f\"], [0.2222222222222222, \"#7201a8\"], [0.3333333333333333, \"#9c179e\"], [0.4444444444444444, \"#bd3786\"], [0.5555555555555556, \"#d8576b\"], [0.6666666666666666, \"#ed7953\"], [0.7777777777777778, \"#fb9f3a\"], [0.8888888888888888, \"#fdca26\"], [1.0, \"#f0f921\"]], \"sequentialminus\": [[0.0, \"#0d0887\"], [0.1111111111111111, \"#46039f\"], [0.2222222222222222, \"#7201a8\"], [0.3333333333333333, \"#9c179e\"], [0.4444444444444444, \"#bd3786\"], [0.5555555555555556, \"#d8576b\"], [0.6666666666666666, \"#ed7953\"], [0.7777777777777778, \"#fb9f3a\"], [0.8888888888888888, \"#fdca26\"], [1.0, \"#f0f921\"]]}, \"colorway\": [\"#636efa\", \"#EF553B\", \"#00cc96\", \"#ab63fa\", \"#FFA15A\", \"#19d3f3\", \"#FF6692\", \"#B6E880\", \"#FF97FF\", \"#FECB52\"], \"font\": {\"color\": \"#2a3f5f\"}, \"geo\": {\"bgcolor\": \"white\", \"lakecolor\": \"white\", \"landcolor\": \"#E5ECF6\", \"showlakes\": true, \"showland\": true, \"subunitcolor\": \"white\"}, \"hoverlabel\": {\"align\": \"left\"}, \"hovermode\": \"closest\", \"mapbox\": {\"style\": \"light\"}, \"paper_bgcolor\": \"white\", \"plot_bgcolor\": \"#E5ECF6\", \"polar\": {\"angularaxis\": {\"gridcolor\": \"white\", \"linecolor\": \"white\", \"ticks\": \"\"}, \"bgcolor\": \"#E5ECF6\", \"radialaxis\": {\"gridcolor\": \"white\", \"linecolor\": \"white\", \"ticks\": \"\"}}, \"scene\": {\"xaxis\": {\"backgroundcolor\": \"#E5ECF6\", \"gridcolor\": \"white\", \"gridwidth\": 2, \"linecolor\": \"white\", \"showbackground\": true, \"ticks\": \"\", \"zerolinecolor\": \"white\"}, \"yaxis\": {\"backgroundcolor\": \"#E5ECF6\", \"gridcolor\": \"white\", \"gridwidth\": 2, \"linecolor\": \"white\", \"showbackground\": true, \"ticks\": \"\", \"zerolinecolor\": \"white\"}, \"zaxis\": {\"backgroundcolor\": \"#E5ECF6\", \"gridcolor\": \"white\", \"gridwidth\": 2, \"linecolor\": \"white\", \"showbackground\": true, \"ticks\": \"\", \"zerolinecolor\": \"white\"}}, \"shapedefaults\": {\"line\": {\"color\": \"#2a3f5f\"}}, \"ternary\": {\"aaxis\": {\"gridcolor\": \"white\", \"linecolor\": \"white\", \"ticks\": \"\"}, \"baxis\": {\"gridcolor\": \"white\", \"linecolor\": \"white\", \"ticks\": \"\"}, \"bgcolor\": \"#E5ECF6\", \"caxis\": {\"gridcolor\": \"white\", \"linecolor\": \"white\", \"ticks\": \"\"}}, \"title\": {\"x\": 0.05}, \"xaxis\": {\"automargin\": true, \"gridcolor\": \"white\", \"linecolor\": \"white\", \"ticks\": \"\", \"zerolinecolor\": \"white\", \"zerolinewidth\": 2}, \"yaxis\": {\"automargin\": true, \"gridcolor\": \"white\", \"linecolor\": \"white\", \"ticks\": \"\", \"zerolinecolor\": \"white\", \"zerolinewidth\": 2}}}, \"xaxis\": {\"linecolor\": \"black\", \"title\": {\"text\": \"age\"}}, \"yaxis\": {\"linecolor\": \"black\", \"title\": {\"text\": \"Density\"}}},\n",
       "                        {\"responsive\": true}\n",
       "                    ).then(function(){\n",
       "                            \n",
       "var gd = document.getElementById('fb53e504-52d2-45c7-8614-7ab62aa3f705');\n",
       "var x = new MutationObserver(function (mutations, observer) {{\n",
       "        var display = window.getComputedStyle(gd).display;\n",
       "        if (!display || display === 'none') {{\n",
       "            console.log([gd, 'removed!']);\n",
       "            Plotly.purge(gd);\n",
       "            observer.disconnect();\n",
       "        }}\n",
       "}});\n",
       "\n",
       "// Listen for the removal of the full notebook cells\n",
       "var notebookContainer = gd.closest('#notebook-container');\n",
       "if (notebookContainer) {{\n",
       "    x.observe(notebookContainer, {childList: true});\n",
       "}}\n",
       "\n",
       "// Listen for the clearing of the current output cell\n",
       "var outputEl = gd.closest('.output');\n",
       "if (outputEl) {{\n",
       "    x.observe(outputEl, {childList: true});\n",
       "}}\n",
       "\n",
       "                        })\n",
       "                };\n",
       "                });\n",
       "            </script>\n",
       "        </div>"
      ]
     },
     "metadata": {},
     "output_type": "display_data"
    }
   ],
   "source": [
    "ages = ds[:, 0]\n",
    "densities, bin_edges = np.histogram(ages, bins=40, density=True)\n",
    "x_deltas = bin_edges[1:] - bin_edges[:-1]\n",
    "x_pdf = bin_edges[:-1] + x_deltas / 2\n",
    "y_pdf = densities\n",
    "plot_pdf(x_pdf, densities)"
   ]
  },
  {
   "cell_type": "markdown",
   "metadata": {},
   "source": [
    "Like with [counterfactual explanations](https://christophm.github.io/interpretable-ml-book/counterfactual.html), we now ask the question:\n",
    "\n",
    "*What if the mean age was $\\mu_t$?*\n",
    "\n",
    "For instance, we can stress $Q_n$ so that $\\mu_t = 20$:"
   ]
  },
  {
   "cell_type": "code",
   "execution_count": 78,
   "metadata": {},
   "outputs": [
    {
     "data": {
      "application/vnd.plotly.v1+json": {
       "config": {
        "plotlyServerURL": "https://plot.ly"
       },
       "data": [
        {
         "type": "bar",
         "width": [
          1.8249999999999957,
          1.8250000000000028,
          1.8250000000000028,
          1.8249999999999957,
          1.8250000000000028,
          1.8249999999999957,
          1.8250000000000028,
          1.8250000000000028,
          1.8249999999999957,
          1.8250000000000028,
          1.8249999999999957,
          1.8250000000000028,
          1.8249999999999957,
          1.8250000000000028,
          1.8250000000000028,
          1.8249999999999957,
          1.8250000000000028,
          1.8250000000000028,
          1.8249999999999957,
          1.8249999999999957,
          1.8250000000000028,
          1.8250000000000028,
          1.8250000000000028,
          1.8249999999999957,
          1.8249999999999957,
          1.8250000000000028,
          1.8250000000000028,
          1.8249999999999886,
          1.825000000000017,
          1.8249999999999886,
          1.8250000000000028,
          1.8250000000000028,
          1.8249999999999886,
          1.825000000000017,
          1.8249999999999886,
          1.8250000000000028,
          1.8250000000000028,
          1.8249999999999886,
          1.825000000000017
         ],
         "x": [
          17.9125,
          19.737499999999997,
          21.5625,
          23.387500000000003,
          25.2125,
          27.0375,
          28.862499999999997,
          30.6875,
          32.5125,
          34.3375,
          36.1625,
          37.9875,
          39.8125,
          41.637499999999996,
          43.4625,
          45.2875,
          47.1125,
          48.9375,
          50.7625,
          52.5875,
          54.412499999999994,
          56.2375,
          58.0625,
          59.8875,
          61.7125,
          63.537499999999994,
          65.3625,
          67.1875,
          69.01249999999999,
          70.8375,
          72.6625,
          74.4875,
          76.3125,
          78.13749999999999,
          79.9625,
          81.7875,
          83.6125,
          85.4375,
          87.26249999999999,
          89.0875
         ],
         "y": [
          0.68,
          0.15,
          0.0035864944924953986,
          0.003980720428667823,
          0.004038412029083299,
          0.0020192060145416495,
          0.0038749524945727843,
          0.004105718896234679,
          0.00404802729581922,
          0.0043076394976888435,
          0.004374946364840232,
          0.0021153586819007797,
          0.0035672639590235877,
          0.00370187769332635,
          0.00348072655840036,
          0.00348072655840036,
          0.003124961689171607,
          0.001336522076291851,
          0.0030672700887561305,
          0.0023557403502985864,
          0.0022018960825239938,
          0.0017307480124642675,
          0.0009134503399116968,
          0.0015192121442741961,
          0.001269215209140463,
          0.0009326808733835292,
          0.0007788366056089143,
          0.0006922992049857123,
          0.00020192060145416457,
          0.0003461496024928535,
          0.0003365343357569435,
          0.0001730748012464254,
          0.00019230533471825345,
          0.00011538320083095117,
          6.730686715138818e-05,
          8.653740062321337e-05,
          6.730686715138871e-05,
          9.615266735912599e-06,
          0,
          0.00011538320083095117
         ]
        }
       ],
       "layout": {
        "annotations": [
         {
          "bgcolor": "#FFF",
          "bordercolor": "red",
          "borderpad": 4,
          "showarrow": false,
          "text": "Mean = 20.00",
          "x": 19.999675278162105,
          "xref": "x",
          "y": 1,
          "yanchor": "top",
          "yref": "paper"
         }
        ],
        "plot_bgcolor": "#FFF",
        "shapes": [
         {
          "line": {
           "color": "red",
           "dash": "dash",
           "width": 1
          },
          "type": "line",
          "x0": 19.999675278162105,
          "x1": 19.999675278162105,
          "y0": 0,
          "y1": 1,
          "yref": "paper"
         }
        ],
        "template": {
         "data": {
          "bar": [
           {
            "error_x": {
             "color": "#2a3f5f"
            },
            "error_y": {
             "color": "#2a3f5f"
            },
            "marker": {
             "line": {
              "color": "#E5ECF6",
              "width": 0.5
             }
            },
            "type": "bar"
           }
          ],
          "barpolar": [
           {
            "marker": {
             "line": {
              "color": "#E5ECF6",
              "width": 0.5
             }
            },
            "type": "barpolar"
           }
          ],
          "carpet": [
           {
            "aaxis": {
             "endlinecolor": "#2a3f5f",
             "gridcolor": "white",
             "linecolor": "white",
             "minorgridcolor": "white",
             "startlinecolor": "#2a3f5f"
            },
            "baxis": {
             "endlinecolor": "#2a3f5f",
             "gridcolor": "white",
             "linecolor": "white",
             "minorgridcolor": "white",
             "startlinecolor": "#2a3f5f"
            },
            "type": "carpet"
           }
          ],
          "choropleth": [
           {
            "colorbar": {
             "outlinewidth": 0,
             "ticks": ""
            },
            "type": "choropleth"
           }
          ],
          "contour": [
           {
            "colorbar": {
             "outlinewidth": 0,
             "ticks": ""
            },
            "colorscale": [
             [
              0,
              "#0d0887"
             ],
             [
              0.1111111111111111,
              "#46039f"
             ],
             [
              0.2222222222222222,
              "#7201a8"
             ],
             [
              0.3333333333333333,
              "#9c179e"
             ],
             [
              0.4444444444444444,
              "#bd3786"
             ],
             [
              0.5555555555555556,
              "#d8576b"
             ],
             [
              0.6666666666666666,
              "#ed7953"
             ],
             [
              0.7777777777777778,
              "#fb9f3a"
             ],
             [
              0.8888888888888888,
              "#fdca26"
             ],
             [
              1,
              "#f0f921"
             ]
            ],
            "type": "contour"
           }
          ],
          "contourcarpet": [
           {
            "colorbar": {
             "outlinewidth": 0,
             "ticks": ""
            },
            "type": "contourcarpet"
           }
          ],
          "heatmap": [
           {
            "colorbar": {
             "outlinewidth": 0,
             "ticks": ""
            },
            "colorscale": [
             [
              0,
              "#0d0887"
             ],
             [
              0.1111111111111111,
              "#46039f"
             ],
             [
              0.2222222222222222,
              "#7201a8"
             ],
             [
              0.3333333333333333,
              "#9c179e"
             ],
             [
              0.4444444444444444,
              "#bd3786"
             ],
             [
              0.5555555555555556,
              "#d8576b"
             ],
             [
              0.6666666666666666,
              "#ed7953"
             ],
             [
              0.7777777777777778,
              "#fb9f3a"
             ],
             [
              0.8888888888888888,
              "#fdca26"
             ],
             [
              1,
              "#f0f921"
             ]
            ],
            "type": "heatmap"
           }
          ],
          "heatmapgl": [
           {
            "colorbar": {
             "outlinewidth": 0,
             "ticks": ""
            },
            "colorscale": [
             [
              0,
              "#0d0887"
             ],
             [
              0.1111111111111111,
              "#46039f"
             ],
             [
              0.2222222222222222,
              "#7201a8"
             ],
             [
              0.3333333333333333,
              "#9c179e"
             ],
             [
              0.4444444444444444,
              "#bd3786"
             ],
             [
              0.5555555555555556,
              "#d8576b"
             ],
             [
              0.6666666666666666,
              "#ed7953"
             ],
             [
              0.7777777777777778,
              "#fb9f3a"
             ],
             [
              0.8888888888888888,
              "#fdca26"
             ],
             [
              1,
              "#f0f921"
             ]
            ],
            "type": "heatmapgl"
           }
          ],
          "histogram": [
           {
            "marker": {
             "colorbar": {
              "outlinewidth": 0,
              "ticks": ""
             }
            },
            "type": "histogram"
           }
          ],
          "histogram2d": [
           {
            "colorbar": {
             "outlinewidth": 0,
             "ticks": ""
            },
            "colorscale": [
             [
              0,
              "#0d0887"
             ],
             [
              0.1111111111111111,
              "#46039f"
             ],
             [
              0.2222222222222222,
              "#7201a8"
             ],
             [
              0.3333333333333333,
              "#9c179e"
             ],
             [
              0.4444444444444444,
              "#bd3786"
             ],
             [
              0.5555555555555556,
              "#d8576b"
             ],
             [
              0.6666666666666666,
              "#ed7953"
             ],
             [
              0.7777777777777778,
              "#fb9f3a"
             ],
             [
              0.8888888888888888,
              "#fdca26"
             ],
             [
              1,
              "#f0f921"
             ]
            ],
            "type": "histogram2d"
           }
          ],
          "histogram2dcontour": [
           {
            "colorbar": {
             "outlinewidth": 0,
             "ticks": ""
            },
            "colorscale": [
             [
              0,
              "#0d0887"
             ],
             [
              0.1111111111111111,
              "#46039f"
             ],
             [
              0.2222222222222222,
              "#7201a8"
             ],
             [
              0.3333333333333333,
              "#9c179e"
             ],
             [
              0.4444444444444444,
              "#bd3786"
             ],
             [
              0.5555555555555556,
              "#d8576b"
             ],
             [
              0.6666666666666666,
              "#ed7953"
             ],
             [
              0.7777777777777778,
              "#fb9f3a"
             ],
             [
              0.8888888888888888,
              "#fdca26"
             ],
             [
              1,
              "#f0f921"
             ]
            ],
            "type": "histogram2dcontour"
           }
          ],
          "mesh3d": [
           {
            "colorbar": {
             "outlinewidth": 0,
             "ticks": ""
            },
            "type": "mesh3d"
           }
          ],
          "parcoords": [
           {
            "line": {
             "colorbar": {
              "outlinewidth": 0,
              "ticks": ""
             }
            },
            "type": "parcoords"
           }
          ],
          "scatter": [
           {
            "marker": {
             "colorbar": {
              "outlinewidth": 0,
              "ticks": ""
             }
            },
            "type": "scatter"
           }
          ],
          "scatter3d": [
           {
            "line": {
             "colorbar": {
              "outlinewidth": 0,
              "ticks": ""
             }
            },
            "marker": {
             "colorbar": {
              "outlinewidth": 0,
              "ticks": ""
             }
            },
            "type": "scatter3d"
           }
          ],
          "scattercarpet": [
           {
            "marker": {
             "colorbar": {
              "outlinewidth": 0,
              "ticks": ""
             }
            },
            "type": "scattercarpet"
           }
          ],
          "scattergeo": [
           {
            "marker": {
             "colorbar": {
              "outlinewidth": 0,
              "ticks": ""
             }
            },
            "type": "scattergeo"
           }
          ],
          "scattergl": [
           {
            "marker": {
             "colorbar": {
              "outlinewidth": 0,
              "ticks": ""
             }
            },
            "type": "scattergl"
           }
          ],
          "scattermapbox": [
           {
            "marker": {
             "colorbar": {
              "outlinewidth": 0,
              "ticks": ""
             }
            },
            "type": "scattermapbox"
           }
          ],
          "scatterpolar": [
           {
            "marker": {
             "colorbar": {
              "outlinewidth": 0,
              "ticks": ""
             }
            },
            "type": "scatterpolar"
           }
          ],
          "scatterpolargl": [
           {
            "marker": {
             "colorbar": {
              "outlinewidth": 0,
              "ticks": ""
             }
            },
            "type": "scatterpolargl"
           }
          ],
          "scatterternary": [
           {
            "marker": {
             "colorbar": {
              "outlinewidth": 0,
              "ticks": ""
             }
            },
            "type": "scatterternary"
           }
          ],
          "surface": [
           {
            "colorbar": {
             "outlinewidth": 0,
             "ticks": ""
            },
            "colorscale": [
             [
              0,
              "#0d0887"
             ],
             [
              0.1111111111111111,
              "#46039f"
             ],
             [
              0.2222222222222222,
              "#7201a8"
             ],
             [
              0.3333333333333333,
              "#9c179e"
             ],
             [
              0.4444444444444444,
              "#bd3786"
             ],
             [
              0.5555555555555556,
              "#d8576b"
             ],
             [
              0.6666666666666666,
              "#ed7953"
             ],
             [
              0.7777777777777778,
              "#fb9f3a"
             ],
             [
              0.8888888888888888,
              "#fdca26"
             ],
             [
              1,
              "#f0f921"
             ]
            ],
            "type": "surface"
           }
          ],
          "table": [
           {
            "cells": {
             "fill": {
              "color": "#EBF0F8"
             },
             "line": {
              "color": "white"
             }
            },
            "header": {
             "fill": {
              "color": "#C8D4E3"
             },
             "line": {
              "color": "white"
             }
            },
            "type": "table"
           }
          ]
         },
         "layout": {
          "annotationdefaults": {
           "arrowcolor": "#2a3f5f",
           "arrowhead": 0,
           "arrowwidth": 1
          },
          "colorscale": {
           "diverging": [
            [
             0,
             "#8e0152"
            ],
            [
             0.1,
             "#c51b7d"
            ],
            [
             0.2,
             "#de77ae"
            ],
            [
             0.3,
             "#f1b6da"
            ],
            [
             0.4,
             "#fde0ef"
            ],
            [
             0.5,
             "#f7f7f7"
            ],
            [
             0.6,
             "#e6f5d0"
            ],
            [
             0.7,
             "#b8e186"
            ],
            [
             0.8,
             "#7fbc41"
            ],
            [
             0.9,
             "#4d9221"
            ],
            [
             1,
             "#276419"
            ]
           ],
           "sequential": [
            [
             0,
             "#0d0887"
            ],
            [
             0.1111111111111111,
             "#46039f"
            ],
            [
             0.2222222222222222,
             "#7201a8"
            ],
            [
             0.3333333333333333,
             "#9c179e"
            ],
            [
             0.4444444444444444,
             "#bd3786"
            ],
            [
             0.5555555555555556,
             "#d8576b"
            ],
            [
             0.6666666666666666,
             "#ed7953"
            ],
            [
             0.7777777777777778,
             "#fb9f3a"
            ],
            [
             0.8888888888888888,
             "#fdca26"
            ],
            [
             1,
             "#f0f921"
            ]
           ],
           "sequentialminus": [
            [
             0,
             "#0d0887"
            ],
            [
             0.1111111111111111,
             "#46039f"
            ],
            [
             0.2222222222222222,
             "#7201a8"
            ],
            [
             0.3333333333333333,
             "#9c179e"
            ],
            [
             0.4444444444444444,
             "#bd3786"
            ],
            [
             0.5555555555555556,
             "#d8576b"
            ],
            [
             0.6666666666666666,
             "#ed7953"
            ],
            [
             0.7777777777777778,
             "#fb9f3a"
            ],
            [
             0.8888888888888888,
             "#fdca26"
            ],
            [
             1,
             "#f0f921"
            ]
           ]
          },
          "colorway": [
           "#636efa",
           "#EF553B",
           "#00cc96",
           "#ab63fa",
           "#FFA15A",
           "#19d3f3",
           "#FF6692",
           "#B6E880",
           "#FF97FF",
           "#FECB52"
          ],
          "font": {
           "color": "#2a3f5f"
          },
          "geo": {
           "bgcolor": "white",
           "lakecolor": "white",
           "landcolor": "#E5ECF6",
           "showlakes": true,
           "showland": true,
           "subunitcolor": "white"
          },
          "hoverlabel": {
           "align": "left"
          },
          "hovermode": "closest",
          "mapbox": {
           "style": "light"
          },
          "paper_bgcolor": "white",
          "plot_bgcolor": "#E5ECF6",
          "polar": {
           "angularaxis": {
            "gridcolor": "white",
            "linecolor": "white",
            "ticks": ""
           },
           "bgcolor": "#E5ECF6",
           "radialaxis": {
            "gridcolor": "white",
            "linecolor": "white",
            "ticks": ""
           }
          },
          "scene": {
           "xaxis": {
            "backgroundcolor": "#E5ECF6",
            "gridcolor": "white",
            "gridwidth": 2,
            "linecolor": "white",
            "showbackground": true,
            "ticks": "",
            "zerolinecolor": "white"
           },
           "yaxis": {
            "backgroundcolor": "#E5ECF6",
            "gridcolor": "white",
            "gridwidth": 2,
            "linecolor": "white",
            "showbackground": true,
            "ticks": "",
            "zerolinecolor": "white"
           },
           "zaxis": {
            "backgroundcolor": "#E5ECF6",
            "gridcolor": "white",
            "gridwidth": 2,
            "linecolor": "white",
            "showbackground": true,
            "ticks": "",
            "zerolinecolor": "white"
           }
          },
          "shapedefaults": {
           "line": {
            "color": "#2a3f5f"
           }
          },
          "ternary": {
           "aaxis": {
            "gridcolor": "white",
            "linecolor": "white",
            "ticks": ""
           },
           "baxis": {
            "gridcolor": "white",
            "linecolor": "white",
            "ticks": ""
           },
           "bgcolor": "#E5ECF6",
           "caxis": {
            "gridcolor": "white",
            "linecolor": "white",
            "ticks": ""
           }
          },
          "title": {
           "x": 0.05
          },
          "xaxis": {
           "automargin": true,
           "gridcolor": "white",
           "linecolor": "white",
           "ticks": "",
           "zerolinecolor": "white",
           "zerolinewidth": 2
          },
          "yaxis": {
           "automargin": true,
           "gridcolor": "white",
           "linecolor": "white",
           "ticks": "",
           "zerolinecolor": "white",
           "zerolinewidth": 2
          }
         }
        },
        "xaxis": {
         "linecolor": "black",
         "title": {
          "text": "age"
         }
        },
        "yaxis": {
         "linecolor": "black",
         "title": {
          "text": "Density"
         }
        }
       }
      },
      "text/html": [
       "<div>\n",
       "        \n",
       "        \n",
       "            <div id=\"41632679-d2b0-470c-996f-caab9cf3f956\" class=\"plotly-graph-div\" style=\"height:525px; width:100%;\"></div>\n",
       "            <script type=\"text/javascript\">\n",
       "                require([\"plotly\"], function(Plotly) {\n",
       "                    window.PLOTLYENV=window.PLOTLYENV || {};\n",
       "                    \n",
       "                if (document.getElementById(\"41632679-d2b0-470c-996f-caab9cf3f956\")) {\n",
       "                    Plotly.newPlot(\n",
       "                        '41632679-d2b0-470c-996f-caab9cf3f956',\n",
       "                        [{\"type\": \"bar\", \"width\": [1.8249999999999957, 1.8250000000000028, 1.8250000000000028, 1.8249999999999957, 1.8250000000000028, 1.8249999999999957, 1.8250000000000028, 1.8250000000000028, 1.8249999999999957, 1.8250000000000028, 1.8249999999999957, 1.8250000000000028, 1.8249999999999957, 1.8250000000000028, 1.8250000000000028, 1.8249999999999957, 1.8250000000000028, 1.8250000000000028, 1.8249999999999957, 1.8249999999999957, 1.8250000000000028, 1.8250000000000028, 1.8250000000000028, 1.8249999999999957, 1.8249999999999957, 1.8250000000000028, 1.8250000000000028, 1.8249999999999886, 1.825000000000017, 1.8249999999999886, 1.8250000000000028, 1.8250000000000028, 1.8249999999999886, 1.825000000000017, 1.8249999999999886, 1.8250000000000028, 1.8250000000000028, 1.8249999999999886, 1.825000000000017], \"x\": [17.9125, 19.737499999999997, 21.5625, 23.387500000000003, 25.2125, 27.0375, 28.862499999999997, 30.6875, 32.5125, 34.3375, 36.1625, 37.9875, 39.8125, 41.637499999999996, 43.4625, 45.2875, 47.1125, 48.9375, 50.7625, 52.5875, 54.412499999999994, 56.2375, 58.0625, 59.8875, 61.7125, 63.537499999999994, 65.3625, 67.1875, 69.01249999999999, 70.8375, 72.6625, 74.4875, 76.3125, 78.13749999999999, 79.9625, 81.7875, 83.6125, 85.4375, 87.26249999999999, 89.0875], \"y\": [0.68, 0.15, 0.0035864944924953986, 0.003980720428667823, 0.004038412029083299, 0.0020192060145416495, 0.0038749524945727843, 0.004105718896234679, 0.00404802729581922, 0.0043076394976888435, 0.004374946364840232, 0.0021153586819007797, 0.0035672639590235877, 0.00370187769332635, 0.00348072655840036, 0.00348072655840036, 0.003124961689171607, 0.001336522076291851, 0.0030672700887561305, 0.0023557403502985864, 0.0022018960825239938, 0.0017307480124642675, 0.0009134503399116968, 0.0015192121442741961, 0.001269215209140463, 0.0009326808733835292, 0.0007788366056089143, 0.0006922992049857123, 0.00020192060145416457, 0.0003461496024928535, 0.0003365343357569435, 0.0001730748012464254, 0.00019230533471825345, 0.00011538320083095117, 6.730686715138818e-05, 8.653740062321337e-05, 6.730686715138871e-05, 9.615266735912599e-06, 0.0, 0.00011538320083095117]}],\n",
       "                        {\"annotations\": [{\"bgcolor\": \"#FFF\", \"bordercolor\": \"red\", \"borderpad\": 4, \"showarrow\": false, \"text\": \"Mean = 20.00\", \"x\": 19.999675278162105, \"xref\": \"x\", \"y\": 1, \"yanchor\": \"top\", \"yref\": \"paper\"}], \"plot_bgcolor\": \"#FFF\", \"shapes\": [{\"line\": {\"color\": \"red\", \"dash\": \"dash\", \"width\": 1}, \"type\": \"line\", \"x0\": 19.999675278162105, \"x1\": 19.999675278162105, \"y0\": 0, \"y1\": 1, \"yref\": \"paper\"}], \"template\": {\"data\": {\"bar\": [{\"error_x\": {\"color\": \"#2a3f5f\"}, \"error_y\": {\"color\": \"#2a3f5f\"}, \"marker\": {\"line\": {\"color\": \"#E5ECF6\", \"width\": 0.5}}, \"type\": \"bar\"}], \"barpolar\": [{\"marker\": {\"line\": {\"color\": \"#E5ECF6\", \"width\": 0.5}}, \"type\": \"barpolar\"}], \"carpet\": [{\"aaxis\": {\"endlinecolor\": \"#2a3f5f\", \"gridcolor\": \"white\", \"linecolor\": \"white\", \"minorgridcolor\": \"white\", \"startlinecolor\": \"#2a3f5f\"}, \"baxis\": {\"endlinecolor\": \"#2a3f5f\", \"gridcolor\": \"white\", \"linecolor\": \"white\", \"minorgridcolor\": \"white\", \"startlinecolor\": \"#2a3f5f\"}, \"type\": \"carpet\"}], \"choropleth\": [{\"colorbar\": {\"outlinewidth\": 0, \"ticks\": \"\"}, \"type\": \"choropleth\"}], \"contour\": [{\"colorbar\": {\"outlinewidth\": 0, \"ticks\": \"\"}, \"colorscale\": [[0.0, \"#0d0887\"], [0.1111111111111111, \"#46039f\"], [0.2222222222222222, \"#7201a8\"], [0.3333333333333333, \"#9c179e\"], [0.4444444444444444, \"#bd3786\"], [0.5555555555555556, \"#d8576b\"], [0.6666666666666666, \"#ed7953\"], [0.7777777777777778, \"#fb9f3a\"], [0.8888888888888888, \"#fdca26\"], [1.0, \"#f0f921\"]], \"type\": \"contour\"}], \"contourcarpet\": [{\"colorbar\": {\"outlinewidth\": 0, \"ticks\": \"\"}, \"type\": \"contourcarpet\"}], \"heatmap\": [{\"colorbar\": {\"outlinewidth\": 0, \"ticks\": \"\"}, \"colorscale\": [[0.0, \"#0d0887\"], [0.1111111111111111, \"#46039f\"], [0.2222222222222222, \"#7201a8\"], [0.3333333333333333, \"#9c179e\"], [0.4444444444444444, \"#bd3786\"], [0.5555555555555556, \"#d8576b\"], [0.6666666666666666, \"#ed7953\"], [0.7777777777777778, \"#fb9f3a\"], [0.8888888888888888, \"#fdca26\"], [1.0, \"#f0f921\"]], \"type\": \"heatmap\"}], \"heatmapgl\": [{\"colorbar\": {\"outlinewidth\": 0, \"ticks\": \"\"}, \"colorscale\": [[0.0, \"#0d0887\"], [0.1111111111111111, \"#46039f\"], [0.2222222222222222, \"#7201a8\"], [0.3333333333333333, \"#9c179e\"], [0.4444444444444444, \"#bd3786\"], [0.5555555555555556, \"#d8576b\"], [0.6666666666666666, \"#ed7953\"], [0.7777777777777778, \"#fb9f3a\"], [0.8888888888888888, \"#fdca26\"], [1.0, \"#f0f921\"]], \"type\": \"heatmapgl\"}], \"histogram\": [{\"marker\": {\"colorbar\": {\"outlinewidth\": 0, \"ticks\": \"\"}}, \"type\": \"histogram\"}], \"histogram2d\": [{\"colorbar\": {\"outlinewidth\": 0, \"ticks\": \"\"}, \"colorscale\": [[0.0, \"#0d0887\"], [0.1111111111111111, \"#46039f\"], [0.2222222222222222, \"#7201a8\"], [0.3333333333333333, \"#9c179e\"], [0.4444444444444444, \"#bd3786\"], [0.5555555555555556, \"#d8576b\"], [0.6666666666666666, \"#ed7953\"], [0.7777777777777778, \"#fb9f3a\"], [0.8888888888888888, \"#fdca26\"], [1.0, \"#f0f921\"]], \"type\": \"histogram2d\"}], \"histogram2dcontour\": [{\"colorbar\": {\"outlinewidth\": 0, \"ticks\": \"\"}, \"colorscale\": [[0.0, \"#0d0887\"], [0.1111111111111111, \"#46039f\"], [0.2222222222222222, \"#7201a8\"], [0.3333333333333333, \"#9c179e\"], [0.4444444444444444, \"#bd3786\"], [0.5555555555555556, \"#d8576b\"], [0.6666666666666666, \"#ed7953\"], [0.7777777777777778, \"#fb9f3a\"], [0.8888888888888888, \"#fdca26\"], [1.0, \"#f0f921\"]], \"type\": \"histogram2dcontour\"}], \"mesh3d\": [{\"colorbar\": {\"outlinewidth\": 0, \"ticks\": \"\"}, \"type\": \"mesh3d\"}], \"parcoords\": [{\"line\": {\"colorbar\": {\"outlinewidth\": 0, \"ticks\": \"\"}}, \"type\": \"parcoords\"}], \"scatter\": [{\"marker\": {\"colorbar\": {\"outlinewidth\": 0, \"ticks\": \"\"}}, \"type\": \"scatter\"}], \"scatter3d\": [{\"line\": {\"colorbar\": {\"outlinewidth\": 0, \"ticks\": \"\"}}, \"marker\": {\"colorbar\": {\"outlinewidth\": 0, \"ticks\": \"\"}}, \"type\": \"scatter3d\"}], \"scattercarpet\": [{\"marker\": {\"colorbar\": {\"outlinewidth\": 0, \"ticks\": \"\"}}, \"type\": \"scattercarpet\"}], \"scattergeo\": [{\"marker\": {\"colorbar\": {\"outlinewidth\": 0, \"ticks\": \"\"}}, \"type\": \"scattergeo\"}], \"scattergl\": [{\"marker\": {\"colorbar\": {\"outlinewidth\": 0, \"ticks\": \"\"}}, \"type\": \"scattergl\"}], \"scattermapbox\": [{\"marker\": {\"colorbar\": {\"outlinewidth\": 0, \"ticks\": \"\"}}, \"type\": \"scattermapbox\"}], \"scatterpolar\": [{\"marker\": {\"colorbar\": {\"outlinewidth\": 0, \"ticks\": \"\"}}, \"type\": \"scatterpolar\"}], \"scatterpolargl\": [{\"marker\": {\"colorbar\": {\"outlinewidth\": 0, \"ticks\": \"\"}}, \"type\": \"scatterpolargl\"}], \"scatterternary\": [{\"marker\": {\"colorbar\": {\"outlinewidth\": 0, \"ticks\": \"\"}}, \"type\": \"scatterternary\"}], \"surface\": [{\"colorbar\": {\"outlinewidth\": 0, \"ticks\": \"\"}, \"colorscale\": [[0.0, \"#0d0887\"], [0.1111111111111111, \"#46039f\"], [0.2222222222222222, \"#7201a8\"], [0.3333333333333333, \"#9c179e\"], [0.4444444444444444, \"#bd3786\"], [0.5555555555555556, \"#d8576b\"], [0.6666666666666666, \"#ed7953\"], [0.7777777777777778, \"#fb9f3a\"], [0.8888888888888888, \"#fdca26\"], [1.0, \"#f0f921\"]], \"type\": \"surface\"}], \"table\": [{\"cells\": {\"fill\": {\"color\": \"#EBF0F8\"}, \"line\": {\"color\": \"white\"}}, \"header\": {\"fill\": {\"color\": \"#C8D4E3\"}, \"line\": {\"color\": \"white\"}}, \"type\": \"table\"}]}, \"layout\": {\"annotationdefaults\": {\"arrowcolor\": \"#2a3f5f\", \"arrowhead\": 0, \"arrowwidth\": 1}, \"colorscale\": {\"diverging\": [[0, \"#8e0152\"], [0.1, \"#c51b7d\"], [0.2, \"#de77ae\"], [0.3, \"#f1b6da\"], [0.4, \"#fde0ef\"], [0.5, \"#f7f7f7\"], [0.6, \"#e6f5d0\"], [0.7, \"#b8e186\"], [0.8, \"#7fbc41\"], [0.9, \"#4d9221\"], [1, \"#276419\"]], \"sequential\": [[0.0, \"#0d0887\"], [0.1111111111111111, \"#46039f\"], [0.2222222222222222, \"#7201a8\"], [0.3333333333333333, \"#9c179e\"], [0.4444444444444444, \"#bd3786\"], [0.5555555555555556, \"#d8576b\"], [0.6666666666666666, \"#ed7953\"], [0.7777777777777778, \"#fb9f3a\"], [0.8888888888888888, \"#fdca26\"], [1.0, \"#f0f921\"]], \"sequentialminus\": [[0.0, \"#0d0887\"], [0.1111111111111111, \"#46039f\"], [0.2222222222222222, \"#7201a8\"], [0.3333333333333333, \"#9c179e\"], [0.4444444444444444, \"#bd3786\"], [0.5555555555555556, \"#d8576b\"], [0.6666666666666666, \"#ed7953\"], [0.7777777777777778, \"#fb9f3a\"], [0.8888888888888888, \"#fdca26\"], [1.0, \"#f0f921\"]]}, \"colorway\": [\"#636efa\", \"#EF553B\", \"#00cc96\", \"#ab63fa\", \"#FFA15A\", \"#19d3f3\", \"#FF6692\", \"#B6E880\", \"#FF97FF\", \"#FECB52\"], \"font\": {\"color\": \"#2a3f5f\"}, \"geo\": {\"bgcolor\": \"white\", \"lakecolor\": \"white\", \"landcolor\": \"#E5ECF6\", \"showlakes\": true, \"showland\": true, \"subunitcolor\": \"white\"}, \"hoverlabel\": {\"align\": \"left\"}, \"hovermode\": \"closest\", \"mapbox\": {\"style\": \"light\"}, \"paper_bgcolor\": \"white\", \"plot_bgcolor\": \"#E5ECF6\", \"polar\": {\"angularaxis\": {\"gridcolor\": \"white\", \"linecolor\": \"white\", \"ticks\": \"\"}, \"bgcolor\": \"#E5ECF6\", \"radialaxis\": {\"gridcolor\": \"white\", \"linecolor\": \"white\", \"ticks\": \"\"}}, \"scene\": {\"xaxis\": {\"backgroundcolor\": \"#E5ECF6\", \"gridcolor\": \"white\", \"gridwidth\": 2, \"linecolor\": \"white\", \"showbackground\": true, \"ticks\": \"\", \"zerolinecolor\": \"white\"}, \"yaxis\": {\"backgroundcolor\": \"#E5ECF6\", \"gridcolor\": \"white\", \"gridwidth\": 2, \"linecolor\": \"white\", \"showbackground\": true, \"ticks\": \"\", \"zerolinecolor\": \"white\"}, \"zaxis\": {\"backgroundcolor\": \"#E5ECF6\", \"gridcolor\": \"white\", \"gridwidth\": 2, \"linecolor\": \"white\", \"showbackground\": true, \"ticks\": \"\", \"zerolinecolor\": \"white\"}}, \"shapedefaults\": {\"line\": {\"color\": \"#2a3f5f\"}}, \"ternary\": {\"aaxis\": {\"gridcolor\": \"white\", \"linecolor\": \"white\", \"ticks\": \"\"}, \"baxis\": {\"gridcolor\": \"white\", \"linecolor\": \"white\", \"ticks\": \"\"}, \"bgcolor\": \"#E5ECF6\", \"caxis\": {\"gridcolor\": \"white\", \"linecolor\": \"white\", \"ticks\": \"\"}}, \"title\": {\"x\": 0.05}, \"xaxis\": {\"automargin\": true, \"gridcolor\": \"white\", \"linecolor\": \"white\", \"ticks\": \"\", \"zerolinecolor\": \"white\", \"zerolinewidth\": 2}, \"yaxis\": {\"automargin\": true, \"gridcolor\": \"white\", \"linecolor\": \"white\", \"ticks\": \"\", \"zerolinecolor\": \"white\", \"zerolinewidth\": 2}}}, \"xaxis\": {\"linecolor\": \"black\", \"title\": {\"text\": \"age\"}}, \"yaxis\": {\"linecolor\": \"black\", \"title\": {\"text\": \"Density\"}}},\n",
       "                        {\"responsive\": true}\n",
       "                    ).then(function(){\n",
       "                            \n",
       "var gd = document.getElementById('41632679-d2b0-470c-996f-caab9cf3f956');\n",
       "var x = new MutationObserver(function (mutations, observer) {{\n",
       "        var display = window.getComputedStyle(gd).display;\n",
       "        if (!display || display === 'none') {{\n",
       "            console.log([gd, 'removed!']);\n",
       "            Plotly.purge(gd);\n",
       "            observer.disconnect();\n",
       "        }}\n",
       "}});\n",
       "\n",
       "// Listen for the removal of the full notebook cells\n",
       "var notebookContainer = gd.closest('#notebook-container');\n",
       "if (notebookContainer) {{\n",
       "    x.observe(notebookContainer, {childList: true});\n",
       "}}\n",
       "\n",
       "// Listen for the clearing of the current output cell\n",
       "var outputEl = gd.closest('.output');\n",
       "if (outputEl) {{\n",
       "    x.observe(outputEl, {childList: true});\n",
       "}}\n",
       "\n",
       "                        })\n",
       "                };\n",
       "                });\n",
       "            </script>\n",
       "        </div>"
      ]
     },
     "metadata": {},
     "output_type": "display_data"
    }
   ],
   "source": [
    "stressed_densities = np.copy(densities)\n",
    "stressed_densities[0] = 0.68\n",
    "stressed_densities[1] = 0.15\n",
    "for i, x in enumerate(x_pdf):\n",
    "    if x > 20:\n",
    "        stressed_densities[i] /= 7\n",
    "plot_pdf(x_pdf, stressed_densities)"
   ]
  },
  {
   "cell_type": "markdown",
   "metadata": {},
   "source": [
    "We could sample from this distribution and observe how the model behaves for a mean age of 20. It'd be really similar to [Partial Dependence Plots](https://christophm.github.io/interpretable-ml-book/pdp.html). \n",
    "\n",
    "The problem here is that we only stressed the marginal distribution of $X_{age}$. But features may be correlated (if I have a PhD, I'm probably not 20) and if we don't consider that, we are likely to generated unrealistic individuals (a 18-year-old who has a PhD).\n",
    "\n",
    "To address this issue, the key idea behind the paper is to **stress the whole distribution** $(X, \\hat{Y}, Y)$ with respect to the mean of one feature **while minimizing the distance to the original distribution**. The [Kullback–Leibler divergence](https://en.wikipedia.org/wiki/Kullback%E2%80%93Leibler_divergence) is used.\n",
    "\n",
    "Contrary to what was done above, we stress the whole distribution $(X, \\hat{Y}, Y)$, not just the marginal distribution of a feature $X_j$.\n",
    "\n",
    "Minimizing the Kullback–Leibler divergence between the stressed distribution and the originally-observed distribution lets us believe that we are not creating individuals that are too unrealistic. Of course, reaching a minimum doesn't mean that this minimum is actually small and, to certify the model, we need to define a threshold on the distance. This is out of the scope of this notebook though.\n",
    "\n",
    "As explained in the [paper](https://arxiv.org/pdf/1810.07924v2.pdf), we can efficiently compute a unique set of weights $\\{\\lambda_i^{(t)}\\}_{1 \\leq i \\leq n}$ to stress the probability density function to reach a criterion while minimizing the KL divergence:\n",
    "\n",
    "$$\n",
    "Q_t = \\frac{1}{n}\\sum_{i=1}^n \\lambda_i^{(t)} \\delta_{X_i, \\hat{Y}_i, Y_i}.\n",
    "$$\n",
    "\n",
    "with:\n",
    "\n",
    "* $Q_t$ being the new distribution meeting the criterion $t$ (e.g. $E[X_{age}] = \\mu_t$) and minimizing $KL(Q_t, Q_n)$ ;\n",
    "* $\\delta_{X_i, \\hat{Y}_i, Y_i}$ being the probability density of the $i$-th sample.\n",
    "\n",
    "The theorem that tells us how to compute these weights works for a wide class of deformations but the package only implements deformations on the mean of a single variable for now: $E[X_{j0}] = \\mu_t$."
   ]
  },
  {
   "cell_type": "markdown",
   "metadata": {},
   "source": [
    "## The code\n",
    "\n",
    "To learn how to use the package, please refer to the tutorials and the API reference. Here, we explain how it works internally.\n",
    "\n",
    "`ethik` provides different classes that inherit from `ethik.explainer.Explainer`:"
   ]
  },
  {
   "cell_type": "code",
   "execution_count": 79,
   "metadata": {},
   "outputs": [],
   "source": [
    "import ethik\n",
    "\n",
    "explainer = ethik.ClassificationExplainer()"
   ]
  },
  {
   "cell_type": "markdown",
   "metadata": {},
   "source": [
    "The explainer stores the computation results in its `.info` attribute, which is a pandas dataframe (firstly empty):"
   ]
  },
  {
   "cell_type": "code",
   "execution_count": 80,
   "metadata": {},
   "outputs": [
    {
     "data": {
      "text/html": [
       "<div>\n",
       "<style scoped>\n",
       "    .dataframe tbody tr th:only-of-type {\n",
       "        vertical-align: middle;\n",
       "    }\n",
       "\n",
       "    .dataframe tbody tr th {\n",
       "        vertical-align: top;\n",
       "    }\n",
       "\n",
       "    .dataframe thead th {\n",
       "        text-align: right;\n",
       "    }\n",
       "</style>\n",
       "<table border=\"1\" class=\"dataframe\">\n",
       "  <thead>\n",
       "    <tr style=\"text-align: right;\">\n",
       "      <th></th>\n",
       "      <th>feature</th>\n",
       "      <th>tau</th>\n",
       "      <th>value</th>\n",
       "      <th>lambda</th>\n",
       "      <th>label</th>\n",
       "      <th>bias</th>\n",
       "      <th>bias_low</th>\n",
       "      <th>bias_high</th>\n",
       "    </tr>\n",
       "  </thead>\n",
       "  <tbody>\n",
       "  </tbody>\n",
       "</table>\n",
       "</div>"
      ],
      "text/plain": [
       "Empty DataFrame\n",
       "Columns: [feature, tau, value, lambda, label, bias, bias_low, bias_high]\n",
       "Index: []"
      ]
     },
     "execution_count": 80,
     "metadata": {},
     "output_type": "execute_result"
    }
   ],
   "source": [
    "explainer.info"
   ]
  },
  {
   "cell_type": "markdown",
   "metadata": {},
   "source": [
    "When we ask for an explanation, *i.e.* for an analysis of how some features impact the model's output, the `.info` is completed:"
   ]
  },
  {
   "cell_type": "code",
   "execution_count": 81,
   "metadata": {
    "scrolled": true
   },
   "outputs": [
    {
     "data": {
      "text/html": [
       "<div>\n",
       "<style scoped>\n",
       "    .dataframe tbody tr th:only-of-type {\n",
       "        vertical-align: middle;\n",
       "    }\n",
       "\n",
       "    .dataframe tbody tr th {\n",
       "        vertical-align: top;\n",
       "    }\n",
       "\n",
       "    .dataframe thead th {\n",
       "        text-align: right;\n",
       "    }\n",
       "</style>\n",
       "<table border=\"1\" class=\"dataframe\">\n",
       "  <thead>\n",
       "    <tr style=\"text-align: right;\">\n",
       "      <th></th>\n",
       "      <th>feature</th>\n",
       "      <th>tau</th>\n",
       "      <th>value</th>\n",
       "      <th>lambda</th>\n",
       "      <th>label</th>\n",
       "      <th>bias</th>\n",
       "      <th>bias_low</th>\n",
       "      <th>bias_high</th>\n",
       "    </tr>\n",
       "  </thead>\n",
       "  <tbody>\n",
       "    <tr>\n",
       "      <td>0</td>\n",
       "      <td>age</td>\n",
       "      <td>-1.00</td>\n",
       "      <td>19.000000</td>\n",
       "      <td>-0.507662</td>\n",
       "      <td>&gt;$50k</td>\n",
       "      <td>0.005798</td>\n",
       "      <td>0.005798</td>\n",
       "      <td>0.005798</td>\n",
       "    </tr>\n",
       "    <tr>\n",
       "      <td>1</td>\n",
       "      <td>age</td>\n",
       "      <td>-0.95</td>\n",
       "      <td>19.976612</td>\n",
       "      <td>-0.352627</td>\n",
       "      <td>&gt;$50k</td>\n",
       "      <td>0.014250</td>\n",
       "      <td>0.014250</td>\n",
       "      <td>0.014250</td>\n",
       "    </tr>\n",
       "    <tr>\n",
       "      <td>2</td>\n",
       "      <td>age</td>\n",
       "      <td>-0.90</td>\n",
       "      <td>20.953224</td>\n",
       "      <td>-0.268180</td>\n",
       "      <td>&gt;$50k</td>\n",
       "      <td>0.026014</td>\n",
       "      <td>0.026014</td>\n",
       "      <td>0.026014</td>\n",
       "    </tr>\n",
       "    <tr>\n",
       "      <td>3</td>\n",
       "      <td>age</td>\n",
       "      <td>-0.85</td>\n",
       "      <td>21.929837</td>\n",
       "      <td>-0.214814</td>\n",
       "      <td>&gt;$50k</td>\n",
       "      <td>0.039703</td>\n",
       "      <td>0.039703</td>\n",
       "      <td>0.039703</td>\n",
       "    </tr>\n",
       "    <tr>\n",
       "      <td>4</td>\n",
       "      <td>age</td>\n",
       "      <td>-0.80</td>\n",
       "      <td>22.906449</td>\n",
       "      <td>-0.177631</td>\n",
       "      <td>&gt;$50k</td>\n",
       "      <td>0.054331</td>\n",
       "      <td>0.054331</td>\n",
       "      <td>0.054331</td>\n",
       "    </tr>\n",
       "    <tr>\n",
       "      <td>5</td>\n",
       "      <td>age</td>\n",
       "      <td>-0.75</td>\n",
       "      <td>23.883061</td>\n",
       "      <td>-0.149886</td>\n",
       "      <td>&gt;$50k</td>\n",
       "      <td>0.069283</td>\n",
       "      <td>0.069283</td>\n",
       "      <td>0.069283</td>\n",
       "    </tr>\n",
       "    <tr>\n",
       "      <td>6</td>\n",
       "      <td>age</td>\n",
       "      <td>-0.70</td>\n",
       "      <td>24.859673</td>\n",
       "      <td>-0.128117</td>\n",
       "      <td>&gt;$50k</td>\n",
       "      <td>0.084192</td>\n",
       "      <td>0.084192</td>\n",
       "      <td>0.084192</td>\n",
       "    </tr>\n",
       "    <tr>\n",
       "      <td>7</td>\n",
       "      <td>age</td>\n",
       "      <td>-0.65</td>\n",
       "      <td>25.836285</td>\n",
       "      <td>-0.110375</td>\n",
       "      <td>&gt;$50k</td>\n",
       "      <td>0.098834</td>\n",
       "      <td>0.098834</td>\n",
       "      <td>0.098834</td>\n",
       "    </tr>\n",
       "    <tr>\n",
       "      <td>8</td>\n",
       "      <td>age</td>\n",
       "      <td>-0.60</td>\n",
       "      <td>26.812898</td>\n",
       "      <td>-0.095480</td>\n",
       "      <td>&gt;$50k</td>\n",
       "      <td>0.113075</td>\n",
       "      <td>0.113075</td>\n",
       "      <td>0.113075</td>\n",
       "    </tr>\n",
       "    <tr>\n",
       "      <td>9</td>\n",
       "      <td>age</td>\n",
       "      <td>-0.55</td>\n",
       "      <td>27.789510</td>\n",
       "      <td>-0.082677</td>\n",
       "      <td>&gt;$50k</td>\n",
       "      <td>0.126831</td>\n",
       "      <td>0.126831</td>\n",
       "      <td>0.126831</td>\n",
       "    </tr>\n",
       "    <tr>\n",
       "      <td>10</td>\n",
       "      <td>age</td>\n",
       "      <td>-0.50</td>\n",
       "      <td>28.766122</td>\n",
       "      <td>-0.071457</td>\n",
       "      <td>&gt;$50k</td>\n",
       "      <td>0.140052</td>\n",
       "      <td>0.140052</td>\n",
       "      <td>0.140052</td>\n",
       "    </tr>\n",
       "    <tr>\n",
       "      <td>11</td>\n",
       "      <td>age</td>\n",
       "      <td>-0.45</td>\n",
       "      <td>29.742734</td>\n",
       "      <td>-0.061469</td>\n",
       "      <td>&gt;$50k</td>\n",
       "      <td>0.152705</td>\n",
       "      <td>0.152705</td>\n",
       "      <td>0.152705</td>\n",
       "    </tr>\n",
       "    <tr>\n",
       "      <td>12</td>\n",
       "      <td>age</td>\n",
       "      <td>-0.40</td>\n",
       "      <td>30.719347</td>\n",
       "      <td>-0.052458</td>\n",
       "      <td>&gt;$50k</td>\n",
       "      <td>0.164771</td>\n",
       "      <td>0.164771</td>\n",
       "      <td>0.164771</td>\n",
       "    </tr>\n",
       "    <tr>\n",
       "      <td>13</td>\n",
       "      <td>age</td>\n",
       "      <td>-0.35</td>\n",
       "      <td>31.695959</td>\n",
       "      <td>-0.044236</td>\n",
       "      <td>&gt;$50k</td>\n",
       "      <td>0.176240</td>\n",
       "      <td>0.176240</td>\n",
       "      <td>0.176240</td>\n",
       "    </tr>\n",
       "    <tr>\n",
       "      <td>14</td>\n",
       "      <td>age</td>\n",
       "      <td>-0.30</td>\n",
       "      <td>32.672571</td>\n",
       "      <td>-0.036661</td>\n",
       "      <td>&gt;$50k</td>\n",
       "      <td>0.187105</td>\n",
       "      <td>0.187105</td>\n",
       "      <td>0.187105</td>\n",
       "    </tr>\n",
       "    <tr>\n",
       "      <td>15</td>\n",
       "      <td>age</td>\n",
       "      <td>-0.25</td>\n",
       "      <td>33.649183</td>\n",
       "      <td>-0.029623</td>\n",
       "      <td>&gt;$50k</td>\n",
       "      <td>0.197363</td>\n",
       "      <td>0.197363</td>\n",
       "      <td>0.197363</td>\n",
       "    </tr>\n",
       "    <tr>\n",
       "      <td>16</td>\n",
       "      <td>age</td>\n",
       "      <td>-0.20</td>\n",
       "      <td>34.625795</td>\n",
       "      <td>-0.023036</td>\n",
       "      <td>&gt;$50k</td>\n",
       "      <td>0.207013</td>\n",
       "      <td>0.207013</td>\n",
       "      <td>0.207013</td>\n",
       "    </tr>\n",
       "    <tr>\n",
       "      <td>17</td>\n",
       "      <td>age</td>\n",
       "      <td>-0.15</td>\n",
       "      <td>35.602408</td>\n",
       "      <td>-0.016831</td>\n",
       "      <td>&gt;$50k</td>\n",
       "      <td>0.216057</td>\n",
       "      <td>0.216057</td>\n",
       "      <td>0.216057</td>\n",
       "    </tr>\n",
       "    <tr>\n",
       "      <td>18</td>\n",
       "      <td>age</td>\n",
       "      <td>-0.10</td>\n",
       "      <td>36.579020</td>\n",
       "      <td>-0.010953</td>\n",
       "      <td>&gt;$50k</td>\n",
       "      <td>0.224497</td>\n",
       "      <td>0.224497</td>\n",
       "      <td>0.224497</td>\n",
       "    </tr>\n",
       "    <tr>\n",
       "      <td>19</td>\n",
       "      <td>age</td>\n",
       "      <td>-0.05</td>\n",
       "      <td>37.555632</td>\n",
       "      <td>-0.005355</td>\n",
       "      <td>&gt;$50k</td>\n",
       "      <td>0.232333</td>\n",
       "      <td>0.232333</td>\n",
       "      <td>0.232333</td>\n",
       "    </tr>\n",
       "    <tr>\n",
       "      <td>20</td>\n",
       "      <td>age</td>\n",
       "      <td>0.00</td>\n",
       "      <td>38.532244</td>\n",
       "      <td>0.000000</td>\n",
       "      <td>&gt;$50k</td>\n",
       "      <td>0.239571</td>\n",
       "      <td>0.239571</td>\n",
       "      <td>0.239571</td>\n",
       "    </tr>\n",
       "    <tr>\n",
       "      <td>21</td>\n",
       "      <td>age</td>\n",
       "      <td>0.05</td>\n",
       "      <td>39.755632</td>\n",
       "      <td>0.006413</td>\n",
       "      <td>&gt;$50k</td>\n",
       "      <td>0.247797</td>\n",
       "      <td>0.247797</td>\n",
       "      <td>0.247797</td>\n",
       "    </tr>\n",
       "    <tr>\n",
       "      <td>22</td>\n",
       "      <td>age</td>\n",
       "      <td>0.10</td>\n",
       "      <td>40.979020</td>\n",
       "      <td>0.012546</td>\n",
       "      <td>&gt;$50k</td>\n",
       "      <td>0.255097</td>\n",
       "      <td>0.255097</td>\n",
       "      <td>0.255097</td>\n",
       "    </tr>\n",
       "    <tr>\n",
       "      <td>23</td>\n",
       "      <td>age</td>\n",
       "      <td>0.15</td>\n",
       "      <td>42.202408</td>\n",
       "      <td>0.018442</td>\n",
       "      <td>&gt;$50k</td>\n",
       "      <td>0.261480</td>\n",
       "      <td>0.261480</td>\n",
       "      <td>0.261480</td>\n",
       "    </tr>\n",
       "    <tr>\n",
       "      <td>24</td>\n",
       "      <td>age</td>\n",
       "      <td>0.20</td>\n",
       "      <td>43.425795</td>\n",
       "      <td>0.024135</td>\n",
       "      <td>&gt;$50k</td>\n",
       "      <td>0.266956</td>\n",
       "      <td>0.266956</td>\n",
       "      <td>0.266956</td>\n",
       "    </tr>\n",
       "    <tr>\n",
       "      <td>25</td>\n",
       "      <td>age</td>\n",
       "      <td>0.25</td>\n",
       "      <td>44.649183</td>\n",
       "      <td>0.029655</td>\n",
       "      <td>&gt;$50k</td>\n",
       "      <td>0.271539</td>\n",
       "      <td>0.271539</td>\n",
       "      <td>0.271539</td>\n",
       "    </tr>\n",
       "    <tr>\n",
       "      <td>26</td>\n",
       "      <td>age</td>\n",
       "      <td>0.30</td>\n",
       "      <td>45.872571</td>\n",
       "      <td>0.035028</td>\n",
       "      <td>&gt;$50k</td>\n",
       "      <td>0.275244</td>\n",
       "      <td>0.275244</td>\n",
       "      <td>0.275244</td>\n",
       "    </tr>\n",
       "    <tr>\n",
       "      <td>27</td>\n",
       "      <td>age</td>\n",
       "      <td>0.35</td>\n",
       "      <td>47.095959</td>\n",
       "      <td>0.040274</td>\n",
       "      <td>&gt;$50k</td>\n",
       "      <td>0.278086</td>\n",
       "      <td>0.278086</td>\n",
       "      <td>0.278086</td>\n",
       "    </tr>\n",
       "    <tr>\n",
       "      <td>28</td>\n",
       "      <td>age</td>\n",
       "      <td>0.40</td>\n",
       "      <td>48.319347</td>\n",
       "      <td>0.045414</td>\n",
       "      <td>&gt;$50k</td>\n",
       "      <td>0.280084</td>\n",
       "      <td>0.280084</td>\n",
       "      <td>0.280084</td>\n",
       "    </tr>\n",
       "    <tr>\n",
       "      <td>29</td>\n",
       "      <td>age</td>\n",
       "      <td>0.45</td>\n",
       "      <td>49.542734</td>\n",
       "      <td>0.050464</td>\n",
       "      <td>&gt;$50k</td>\n",
       "      <td>0.281260</td>\n",
       "      <td>0.281260</td>\n",
       "      <td>0.281260</td>\n",
       "    </tr>\n",
       "    <tr>\n",
       "      <td>30</td>\n",
       "      <td>age</td>\n",
       "      <td>0.50</td>\n",
       "      <td>50.766122</td>\n",
       "      <td>0.055437</td>\n",
       "      <td>&gt;$50k</td>\n",
       "      <td>0.281637</td>\n",
       "      <td>0.281637</td>\n",
       "      <td>0.281637</td>\n",
       "    </tr>\n",
       "    <tr>\n",
       "      <td>31</td>\n",
       "      <td>age</td>\n",
       "      <td>0.55</td>\n",
       "      <td>51.989510</td>\n",
       "      <td>0.060349</td>\n",
       "      <td>&gt;$50k</td>\n",
       "      <td>0.281242</td>\n",
       "      <td>0.281242</td>\n",
       "      <td>0.281242</td>\n",
       "    </tr>\n",
       "    <tr>\n",
       "      <td>32</td>\n",
       "      <td>age</td>\n",
       "      <td>0.60</td>\n",
       "      <td>53.212898</td>\n",
       "      <td>0.065211</td>\n",
       "      <td>&gt;$50k</td>\n",
       "      <td>0.280102</td>\n",
       "      <td>0.280102</td>\n",
       "      <td>0.280102</td>\n",
       "    </tr>\n",
       "    <tr>\n",
       "      <td>33</td>\n",
       "      <td>age</td>\n",
       "      <td>0.65</td>\n",
       "      <td>54.436285</td>\n",
       "      <td>0.070036</td>\n",
       "      <td>&gt;$50k</td>\n",
       "      <td>0.278247</td>\n",
       "      <td>0.278247</td>\n",
       "      <td>0.278247</td>\n",
       "    </tr>\n",
       "    <tr>\n",
       "      <td>34</td>\n",
       "      <td>age</td>\n",
       "      <td>0.70</td>\n",
       "      <td>55.659673</td>\n",
       "      <td>0.074833</td>\n",
       "      <td>&gt;$50k</td>\n",
       "      <td>0.275712</td>\n",
       "      <td>0.275712</td>\n",
       "      <td>0.275712</td>\n",
       "    </tr>\n",
       "    <tr>\n",
       "      <td>35</td>\n",
       "      <td>age</td>\n",
       "      <td>0.75</td>\n",
       "      <td>56.883061</td>\n",
       "      <td>0.079614</td>\n",
       "      <td>&gt;$50k</td>\n",
       "      <td>0.272529</td>\n",
       "      <td>0.272529</td>\n",
       "      <td>0.272529</td>\n",
       "    </tr>\n",
       "    <tr>\n",
       "      <td>36</td>\n",
       "      <td>age</td>\n",
       "      <td>0.80</td>\n",
       "      <td>58.106449</td>\n",
       "      <td>0.084391</td>\n",
       "      <td>&gt;$50k</td>\n",
       "      <td>0.268736</td>\n",
       "      <td>0.268736</td>\n",
       "      <td>0.268736</td>\n",
       "    </tr>\n",
       "    <tr>\n",
       "      <td>37</td>\n",
       "      <td>age</td>\n",
       "      <td>0.85</td>\n",
       "      <td>59.329837</td>\n",
       "      <td>0.089173</td>\n",
       "      <td>&gt;$50k</td>\n",
       "      <td>0.264369</td>\n",
       "      <td>0.264369</td>\n",
       "      <td>0.264369</td>\n",
       "    </tr>\n",
       "    <tr>\n",
       "      <td>38</td>\n",
       "      <td>age</td>\n",
       "      <td>0.90</td>\n",
       "      <td>60.553224</td>\n",
       "      <td>0.093974</td>\n",
       "      <td>&gt;$50k</td>\n",
       "      <td>0.259465</td>\n",
       "      <td>0.259465</td>\n",
       "      <td>0.259465</td>\n",
       "    </tr>\n",
       "    <tr>\n",
       "      <td>39</td>\n",
       "      <td>age</td>\n",
       "      <td>0.95</td>\n",
       "      <td>61.776612</td>\n",
       "      <td>0.098804</td>\n",
       "      <td>&gt;$50k</td>\n",
       "      <td>0.254065</td>\n",
       "      <td>0.254065</td>\n",
       "      <td>0.254065</td>\n",
       "    </tr>\n",
       "    <tr>\n",
       "      <td>40</td>\n",
       "      <td>age</td>\n",
       "      <td>1.00</td>\n",
       "      <td>63.000000</td>\n",
       "      <td>0.103678</td>\n",
       "      <td>&gt;$50k</td>\n",
       "      <td>0.248205</td>\n",
       "      <td>0.248205</td>\n",
       "      <td>0.248205</td>\n",
       "    </tr>\n",
       "  </tbody>\n",
       "</table>\n",
       "</div>"
      ],
      "text/plain": [
       "   feature   tau      value    lambda  label      bias  bias_low  bias_high\n",
       "0      age -1.00  19.000000 -0.507662  >$50k  0.005798  0.005798   0.005798\n",
       "1      age -0.95  19.976612 -0.352627  >$50k  0.014250  0.014250   0.014250\n",
       "2      age -0.90  20.953224 -0.268180  >$50k  0.026014  0.026014   0.026014\n",
       "3      age -0.85  21.929837 -0.214814  >$50k  0.039703  0.039703   0.039703\n",
       "4      age -0.80  22.906449 -0.177631  >$50k  0.054331  0.054331   0.054331\n",
       "5      age -0.75  23.883061 -0.149886  >$50k  0.069283  0.069283   0.069283\n",
       "6      age -0.70  24.859673 -0.128117  >$50k  0.084192  0.084192   0.084192\n",
       "7      age -0.65  25.836285 -0.110375  >$50k  0.098834  0.098834   0.098834\n",
       "8      age -0.60  26.812898 -0.095480  >$50k  0.113075  0.113075   0.113075\n",
       "9      age -0.55  27.789510 -0.082677  >$50k  0.126831  0.126831   0.126831\n",
       "10     age -0.50  28.766122 -0.071457  >$50k  0.140052  0.140052   0.140052\n",
       "11     age -0.45  29.742734 -0.061469  >$50k  0.152705  0.152705   0.152705\n",
       "12     age -0.40  30.719347 -0.052458  >$50k  0.164771  0.164771   0.164771\n",
       "13     age -0.35  31.695959 -0.044236  >$50k  0.176240  0.176240   0.176240\n",
       "14     age -0.30  32.672571 -0.036661  >$50k  0.187105  0.187105   0.187105\n",
       "15     age -0.25  33.649183 -0.029623  >$50k  0.197363  0.197363   0.197363\n",
       "16     age -0.20  34.625795 -0.023036  >$50k  0.207013  0.207013   0.207013\n",
       "17     age -0.15  35.602408 -0.016831  >$50k  0.216057  0.216057   0.216057\n",
       "18     age -0.10  36.579020 -0.010953  >$50k  0.224497  0.224497   0.224497\n",
       "19     age -0.05  37.555632 -0.005355  >$50k  0.232333  0.232333   0.232333\n",
       "20     age  0.00  38.532244  0.000000  >$50k  0.239571  0.239571   0.239571\n",
       "21     age  0.05  39.755632  0.006413  >$50k  0.247797  0.247797   0.247797\n",
       "22     age  0.10  40.979020  0.012546  >$50k  0.255097  0.255097   0.255097\n",
       "23     age  0.15  42.202408  0.018442  >$50k  0.261480  0.261480   0.261480\n",
       "24     age  0.20  43.425795  0.024135  >$50k  0.266956  0.266956   0.266956\n",
       "25     age  0.25  44.649183  0.029655  >$50k  0.271539  0.271539   0.271539\n",
       "26     age  0.30  45.872571  0.035028  >$50k  0.275244  0.275244   0.275244\n",
       "27     age  0.35  47.095959  0.040274  >$50k  0.278086  0.278086   0.278086\n",
       "28     age  0.40  48.319347  0.045414  >$50k  0.280084  0.280084   0.280084\n",
       "29     age  0.45  49.542734  0.050464  >$50k  0.281260  0.281260   0.281260\n",
       "30     age  0.50  50.766122  0.055437  >$50k  0.281637  0.281637   0.281637\n",
       "31     age  0.55  51.989510  0.060349  >$50k  0.281242  0.281242   0.281242\n",
       "32     age  0.60  53.212898  0.065211  >$50k  0.280102  0.280102   0.280102\n",
       "33     age  0.65  54.436285  0.070036  >$50k  0.278247  0.278247   0.278247\n",
       "34     age  0.70  55.659673  0.074833  >$50k  0.275712  0.275712   0.275712\n",
       "35     age  0.75  56.883061  0.079614  >$50k  0.272529  0.272529   0.272529\n",
       "36     age  0.80  58.106449  0.084391  >$50k  0.268736  0.268736   0.268736\n",
       "37     age  0.85  59.329837  0.089173  >$50k  0.264369  0.264369   0.264369\n",
       "38     age  0.90  60.553224  0.093974  >$50k  0.259465  0.259465   0.259465\n",
       "39     age  0.95  61.776612  0.098804  >$50k  0.254065  0.254065   0.254065\n",
       "40     age  1.00  63.000000  0.103678  >$50k  0.248205  0.248205   0.248205"
      ]
     },
     "execution_count": 81,
     "metadata": {},
     "output_type": "execute_result"
    }
   ],
   "source": [
    "explainer.explain_bias(\n",
    "    X_test=X_test[\"age\"],\n",
    "    y_pred=y_pred\n",
    ")\n",
    "explainer.info"
   ]
  },
  {
   "cell_type": "markdown",
   "metadata": {},
   "source": [
    "Because `explainer.n_samples = 1` (the default), we don't compute the confidence interval and `bias = bias_low = bias_high`.\n",
    "\n",
    "By default, caching is disabled and the `.info` is reset before each explanation:"
   ]
  },
  {
   "cell_type": "code",
   "execution_count": 82,
   "metadata": {
    "scrolled": false
   },
   "outputs": [
    {
     "data": {
      "text/html": [
       "<div>\n",
       "<style scoped>\n",
       "    .dataframe tbody tr th:only-of-type {\n",
       "        vertical-align: middle;\n",
       "    }\n",
       "\n",
       "    .dataframe tbody tr th {\n",
       "        vertical-align: top;\n",
       "    }\n",
       "\n",
       "    .dataframe thead th {\n",
       "        text-align: right;\n",
       "    }\n",
       "</style>\n",
       "<table border=\"1\" class=\"dataframe\">\n",
       "  <thead>\n",
       "    <tr style=\"text-align: right;\">\n",
       "      <th></th>\n",
       "      <th>feature</th>\n",
       "      <th>tau</th>\n",
       "      <th>value</th>\n",
       "      <th>lambda</th>\n",
       "      <th>label</th>\n",
       "      <th>bias</th>\n",
       "      <th>bias_low</th>\n",
       "      <th>bias_high</th>\n",
       "    </tr>\n",
       "  </thead>\n",
       "  <tbody>\n",
       "    <tr>\n",
       "      <td>0</td>\n",
       "      <td>education-num</td>\n",
       "      <td>-1.00</td>\n",
       "      <td>5.000000</td>\n",
       "      <td>-0.598658</td>\n",
       "      <td>&gt;$50k</td>\n",
       "      <td>0.094360</td>\n",
       "      <td>0.094360</td>\n",
       "      <td>0.094360</td>\n",
       "    </tr>\n",
       "    <tr>\n",
       "      <td>1</td>\n",
       "      <td>education-num</td>\n",
       "      <td>-0.95</td>\n",
       "      <td>5.252709</td>\n",
       "      <td>-0.568326</td>\n",
       "      <td>&gt;$50k</td>\n",
       "      <td>0.098050</td>\n",
       "      <td>0.098050</td>\n",
       "      <td>0.098050</td>\n",
       "    </tr>\n",
       "    <tr>\n",
       "      <td>2</td>\n",
       "      <td>education-num</td>\n",
       "      <td>-0.90</td>\n",
       "      <td>5.505417</td>\n",
       "      <td>-0.539281</td>\n",
       "      <td>&gt;$50k</td>\n",
       "      <td>0.102000</td>\n",
       "      <td>0.102000</td>\n",
       "      <td>0.102000</td>\n",
       "    </tr>\n",
       "    <tr>\n",
       "      <td>3</td>\n",
       "      <td>education-num</td>\n",
       "      <td>-0.85</td>\n",
       "      <td>5.758126</td>\n",
       "      <td>-0.511214</td>\n",
       "      <td>&gt;$50k</td>\n",
       "      <td>0.106208</td>\n",
       "      <td>0.106208</td>\n",
       "      <td>0.106208</td>\n",
       "    </tr>\n",
       "    <tr>\n",
       "      <td>4</td>\n",
       "      <td>education-num</td>\n",
       "      <td>-0.80</td>\n",
       "      <td>6.010834</td>\n",
       "      <td>-0.483862</td>\n",
       "      <td>&gt;$50k</td>\n",
       "      <td>0.110678</td>\n",
       "      <td>0.110678</td>\n",
       "      <td>0.110678</td>\n",
       "    </tr>\n",
       "    <tr>\n",
       "      <td>...</td>\n",
       "      <td>...</td>\n",
       "      <td>...</td>\n",
       "      <td>...</td>\n",
       "      <td>...</td>\n",
       "      <td>...</td>\n",
       "      <td>...</td>\n",
       "      <td>...</td>\n",
       "      <td>...</td>\n",
       "    </tr>\n",
       "    <tr>\n",
       "      <td>77</td>\n",
       "      <td>hours-per-week</td>\n",
       "      <td>0.80</td>\n",
       "      <td>56.118020</td>\n",
       "      <td>0.064397</td>\n",
       "      <td>&gt;$50k</td>\n",
       "      <td>0.303078</td>\n",
       "      <td>0.303078</td>\n",
       "      <td>0.303078</td>\n",
       "    </tr>\n",
       "    <tr>\n",
       "      <td>78</td>\n",
       "      <td>hours-per-week</td>\n",
       "      <td>0.85</td>\n",
       "      <td>57.088515</td>\n",
       "      <td>0.066726</td>\n",
       "      <td>&gt;$50k</td>\n",
       "      <td>0.304374</td>\n",
       "      <td>0.304374</td>\n",
       "      <td>0.304374</td>\n",
       "    </tr>\n",
       "    <tr>\n",
       "      <td>79</td>\n",
       "      <td>hours-per-week</td>\n",
       "      <td>0.90</td>\n",
       "      <td>58.059010</td>\n",
       "      <td>0.068968</td>\n",
       "      <td>&gt;$50k</td>\n",
       "      <td>0.305492</td>\n",
       "      <td>0.305492</td>\n",
       "      <td>0.305492</td>\n",
       "    </tr>\n",
       "    <tr>\n",
       "      <td>80</td>\n",
       "      <td>hours-per-week</td>\n",
       "      <td>0.95</td>\n",
       "      <td>59.029505</td>\n",
       "      <td>0.071134</td>\n",
       "      <td>&gt;$50k</td>\n",
       "      <td>0.306446</td>\n",
       "      <td>0.306446</td>\n",
       "      <td>0.306446</td>\n",
       "    </tr>\n",
       "    <tr>\n",
       "      <td>81</td>\n",
       "      <td>hours-per-week</td>\n",
       "      <td>1.00</td>\n",
       "      <td>60.000000</td>\n",
       "      <td>0.073234</td>\n",
       "      <td>&gt;$50k</td>\n",
       "      <td>0.307246</td>\n",
       "      <td>0.307246</td>\n",
       "      <td>0.307246</td>\n",
       "    </tr>\n",
       "  </tbody>\n",
       "</table>\n",
       "<p>82 rows × 8 columns</p>\n",
       "</div>"
      ],
      "text/plain": [
       "           feature   tau      value    lambda  label      bias  bias_low  \\\n",
       "0    education-num -1.00   5.000000 -0.598658  >$50k  0.094360  0.094360   \n",
       "1    education-num -0.95   5.252709 -0.568326  >$50k  0.098050  0.098050   \n",
       "2    education-num -0.90   5.505417 -0.539281  >$50k  0.102000  0.102000   \n",
       "3    education-num -0.85   5.758126 -0.511214  >$50k  0.106208  0.106208   \n",
       "4    education-num -0.80   6.010834 -0.483862  >$50k  0.110678  0.110678   \n",
       "..             ...   ...        ...       ...    ...       ...       ...   \n",
       "77  hours-per-week  0.80  56.118020  0.064397  >$50k  0.303078  0.303078   \n",
       "78  hours-per-week  0.85  57.088515  0.066726  >$50k  0.304374  0.304374   \n",
       "79  hours-per-week  0.90  58.059010  0.068968  >$50k  0.305492  0.305492   \n",
       "80  hours-per-week  0.95  59.029505  0.071134  >$50k  0.306446  0.306446   \n",
       "81  hours-per-week  1.00  60.000000  0.073234  >$50k  0.307246  0.307246   \n",
       "\n",
       "    bias_high  \n",
       "0    0.094360  \n",
       "1    0.098050  \n",
       "2    0.102000  \n",
       "3    0.106208  \n",
       "4    0.110678  \n",
       "..        ...  \n",
       "77   0.303078  \n",
       "78   0.304374  \n",
       "79   0.305492  \n",
       "80   0.306446  \n",
       "81   0.307246  \n",
       "\n",
       "[82 rows x 8 columns]"
      ]
     },
     "execution_count": 82,
     "metadata": {},
     "output_type": "execute_result"
    }
   ],
   "source": [
    "# No \"age\" anymore here\n",
    "# `.explain_*()` returns the filled `.info`\n",
    "explainer.explain_bias(\n",
    "    X_test=X_test[[\"education-num\", \"hours-per-week\"]],\n",
    "    y_pred=y_pred\n",
    ")"
   ]
  },
  {
   "cell_type": "markdown",
   "metadata": {},
   "source": [
    "The `.plot_*()` methods just call their corresponding `.explain_*()` method and plot the data by returning a `plotly.graph_objs.Figure()` object:"
   ]
  },
  {
   "cell_type": "code",
   "execution_count": 83,
   "metadata": {},
   "outputs": [
    {
     "data": {
      "application/vnd.plotly.v1+json": {
       "config": {
        "plotlyServerURL": "https://plot.ly"
       },
       "data": [
        {
         "hoverinfo": "x+y",
         "mode": "lines+markers",
         "showlegend": false,
         "type": "scatter",
         "x": [
          19,
          19.976612209802237,
          20.95322441960447,
          21.929836629406708,
          22.90644883920894,
          23.88306104901118,
          24.859673258813416,
          25.83628546861565,
          26.812897678417887,
          27.78950988822012,
          28.766122098022358,
          29.74273430782459,
          30.71934651762683,
          31.695958727429066,
          32.6725709372313,
          33.64918314703354,
          34.62579535683577,
          35.60240756663801,
          36.57901977644024,
          37.55563198624248,
          38.532244196044715,
          39.75563198624248,
          40.979019776440246,
          42.20240756663801,
          43.42579535683577,
          44.64918314703354,
          45.8725709372313,
          47.095958727429064,
          48.319346517626826,
          49.542734307824595,
          50.76612209802236,
          51.98950988822013,
          53.21289767841789,
          54.43628546861565,
          55.65967325881341,
          56.883061049011175,
          58.106448839208944,
          59.32983662940671,
          60.553224419604476,
          61.77661220980224,
          63
         ],
         "y": [
          0.005797684624482422,
          0.014249715931591566,
          0.026013736600836473,
          0.03970346949616241,
          0.05433099464725898,
          0.06928343454992962,
          0.08419198602608625,
          0.09883433717414408,
          0.11307516749869655,
          0.12683137399154262,
          0.14005169906601853,
          0.15270462250707084,
          0.164771031918936,
          0.17623971170172054,
          0.18710452031935051,
          0.19736260981546688,
          0.20701329507936064,
          0.21605733882238917,
          0.2244965051693695,
          0.23233329380254986,
          0.23957078919192432,
          0.24779707615691268,
          0.2550968221432593,
          0.2614795357027737,
          0.2669561931310934,
          0.27153943283472143,
          0.27524376106223025,
          0.27808574620086823,
          0.2800841837249692,
          0.2812602175380573,
          0.28163740681899335,
          0.281241730898787,
          0.280101528302795,
          0.27824736984908877,
          0.27571186942419024,
          0.27252943951264336,
          0.26873600146726273,
          0.2643686626349949,
          0.25946537363660566,
          0.25406457927535814,
          0.24820487574291256
         ]
        },
        {
         "hoverinfo": "text",
         "marker": {
          "size": 9,
          "symbol": "x"
         },
         "mode": "markers",
         "name": "Original mean",
         "showlegend": false,
         "text": [
          "Dataset mean"
         ],
         "type": "scatter",
         "x": [
          38.532244196044715
         ],
         "y": [
          0.23957078919192432
         ]
        }
       ],
       "layout": {
        "margin": {
         "r": 50,
         "t": 50
        },
        "plot_bgcolor": "white",
        "template": {
         "data": {
          "bar": [
           {
            "error_x": {
             "color": "#2a3f5f"
            },
            "error_y": {
             "color": "#2a3f5f"
            },
            "marker": {
             "line": {
              "color": "#E5ECF6",
              "width": 0.5
             }
            },
            "type": "bar"
           }
          ],
          "barpolar": [
           {
            "marker": {
             "line": {
              "color": "#E5ECF6",
              "width": 0.5
             }
            },
            "type": "barpolar"
           }
          ],
          "carpet": [
           {
            "aaxis": {
             "endlinecolor": "#2a3f5f",
             "gridcolor": "white",
             "linecolor": "white",
             "minorgridcolor": "white",
             "startlinecolor": "#2a3f5f"
            },
            "baxis": {
             "endlinecolor": "#2a3f5f",
             "gridcolor": "white",
             "linecolor": "white",
             "minorgridcolor": "white",
             "startlinecolor": "#2a3f5f"
            },
            "type": "carpet"
           }
          ],
          "choropleth": [
           {
            "colorbar": {
             "outlinewidth": 0,
             "ticks": ""
            },
            "type": "choropleth"
           }
          ],
          "contour": [
           {
            "colorbar": {
             "outlinewidth": 0,
             "ticks": ""
            },
            "colorscale": [
             [
              0,
              "#0d0887"
             ],
             [
              0.1111111111111111,
              "#46039f"
             ],
             [
              0.2222222222222222,
              "#7201a8"
             ],
             [
              0.3333333333333333,
              "#9c179e"
             ],
             [
              0.4444444444444444,
              "#bd3786"
             ],
             [
              0.5555555555555556,
              "#d8576b"
             ],
             [
              0.6666666666666666,
              "#ed7953"
             ],
             [
              0.7777777777777778,
              "#fb9f3a"
             ],
             [
              0.8888888888888888,
              "#fdca26"
             ],
             [
              1,
              "#f0f921"
             ]
            ],
            "type": "contour"
           }
          ],
          "contourcarpet": [
           {
            "colorbar": {
             "outlinewidth": 0,
             "ticks": ""
            },
            "type": "contourcarpet"
           }
          ],
          "heatmap": [
           {
            "colorbar": {
             "outlinewidth": 0,
             "ticks": ""
            },
            "colorscale": [
             [
              0,
              "#0d0887"
             ],
             [
              0.1111111111111111,
              "#46039f"
             ],
             [
              0.2222222222222222,
              "#7201a8"
             ],
             [
              0.3333333333333333,
              "#9c179e"
             ],
             [
              0.4444444444444444,
              "#bd3786"
             ],
             [
              0.5555555555555556,
              "#d8576b"
             ],
             [
              0.6666666666666666,
              "#ed7953"
             ],
             [
              0.7777777777777778,
              "#fb9f3a"
             ],
             [
              0.8888888888888888,
              "#fdca26"
             ],
             [
              1,
              "#f0f921"
             ]
            ],
            "type": "heatmap"
           }
          ],
          "heatmapgl": [
           {
            "colorbar": {
             "outlinewidth": 0,
             "ticks": ""
            },
            "colorscale": [
             [
              0,
              "#0d0887"
             ],
             [
              0.1111111111111111,
              "#46039f"
             ],
             [
              0.2222222222222222,
              "#7201a8"
             ],
             [
              0.3333333333333333,
              "#9c179e"
             ],
             [
              0.4444444444444444,
              "#bd3786"
             ],
             [
              0.5555555555555556,
              "#d8576b"
             ],
             [
              0.6666666666666666,
              "#ed7953"
             ],
             [
              0.7777777777777778,
              "#fb9f3a"
             ],
             [
              0.8888888888888888,
              "#fdca26"
             ],
             [
              1,
              "#f0f921"
             ]
            ],
            "type": "heatmapgl"
           }
          ],
          "histogram": [
           {
            "marker": {
             "colorbar": {
              "outlinewidth": 0,
              "ticks": ""
             }
            },
            "type": "histogram"
           }
          ],
          "histogram2d": [
           {
            "colorbar": {
             "outlinewidth": 0,
             "ticks": ""
            },
            "colorscale": [
             [
              0,
              "#0d0887"
             ],
             [
              0.1111111111111111,
              "#46039f"
             ],
             [
              0.2222222222222222,
              "#7201a8"
             ],
             [
              0.3333333333333333,
              "#9c179e"
             ],
             [
              0.4444444444444444,
              "#bd3786"
             ],
             [
              0.5555555555555556,
              "#d8576b"
             ],
             [
              0.6666666666666666,
              "#ed7953"
             ],
             [
              0.7777777777777778,
              "#fb9f3a"
             ],
             [
              0.8888888888888888,
              "#fdca26"
             ],
             [
              1,
              "#f0f921"
             ]
            ],
            "type": "histogram2d"
           }
          ],
          "histogram2dcontour": [
           {
            "colorbar": {
             "outlinewidth": 0,
             "ticks": ""
            },
            "colorscale": [
             [
              0,
              "#0d0887"
             ],
             [
              0.1111111111111111,
              "#46039f"
             ],
             [
              0.2222222222222222,
              "#7201a8"
             ],
             [
              0.3333333333333333,
              "#9c179e"
             ],
             [
              0.4444444444444444,
              "#bd3786"
             ],
             [
              0.5555555555555556,
              "#d8576b"
             ],
             [
              0.6666666666666666,
              "#ed7953"
             ],
             [
              0.7777777777777778,
              "#fb9f3a"
             ],
             [
              0.8888888888888888,
              "#fdca26"
             ],
             [
              1,
              "#f0f921"
             ]
            ],
            "type": "histogram2dcontour"
           }
          ],
          "mesh3d": [
           {
            "colorbar": {
             "outlinewidth": 0,
             "ticks": ""
            },
            "type": "mesh3d"
           }
          ],
          "parcoords": [
           {
            "line": {
             "colorbar": {
              "outlinewidth": 0,
              "ticks": ""
             }
            },
            "type": "parcoords"
           }
          ],
          "scatter": [
           {
            "marker": {
             "colorbar": {
              "outlinewidth": 0,
              "ticks": ""
             }
            },
            "type": "scatter"
           }
          ],
          "scatter3d": [
           {
            "line": {
             "colorbar": {
              "outlinewidth": 0,
              "ticks": ""
             }
            },
            "marker": {
             "colorbar": {
              "outlinewidth": 0,
              "ticks": ""
             }
            },
            "type": "scatter3d"
           }
          ],
          "scattercarpet": [
           {
            "marker": {
             "colorbar": {
              "outlinewidth": 0,
              "ticks": ""
             }
            },
            "type": "scattercarpet"
           }
          ],
          "scattergeo": [
           {
            "marker": {
             "colorbar": {
              "outlinewidth": 0,
              "ticks": ""
             }
            },
            "type": "scattergeo"
           }
          ],
          "scattergl": [
           {
            "marker": {
             "colorbar": {
              "outlinewidth": 0,
              "ticks": ""
             }
            },
            "type": "scattergl"
           }
          ],
          "scattermapbox": [
           {
            "marker": {
             "colorbar": {
              "outlinewidth": 0,
              "ticks": ""
             }
            },
            "type": "scattermapbox"
           }
          ],
          "scatterpolar": [
           {
            "marker": {
             "colorbar": {
              "outlinewidth": 0,
              "ticks": ""
             }
            },
            "type": "scatterpolar"
           }
          ],
          "scatterpolargl": [
           {
            "marker": {
             "colorbar": {
              "outlinewidth": 0,
              "ticks": ""
             }
            },
            "type": "scatterpolargl"
           }
          ],
          "scatterternary": [
           {
            "marker": {
             "colorbar": {
              "outlinewidth": 0,
              "ticks": ""
             }
            },
            "type": "scatterternary"
           }
          ],
          "surface": [
           {
            "colorbar": {
             "outlinewidth": 0,
             "ticks": ""
            },
            "colorscale": [
             [
              0,
              "#0d0887"
             ],
             [
              0.1111111111111111,
              "#46039f"
             ],
             [
              0.2222222222222222,
              "#7201a8"
             ],
             [
              0.3333333333333333,
              "#9c179e"
             ],
             [
              0.4444444444444444,
              "#bd3786"
             ],
             [
              0.5555555555555556,
              "#d8576b"
             ],
             [
              0.6666666666666666,
              "#ed7953"
             ],
             [
              0.7777777777777778,
              "#fb9f3a"
             ],
             [
              0.8888888888888888,
              "#fdca26"
             ],
             [
              1,
              "#f0f921"
             ]
            ],
            "type": "surface"
           }
          ],
          "table": [
           {
            "cells": {
             "fill": {
              "color": "#EBF0F8"
             },
             "line": {
              "color": "white"
             }
            },
            "header": {
             "fill": {
              "color": "#C8D4E3"
             },
             "line": {
              "color": "white"
             }
            },
            "type": "table"
           }
          ]
         },
         "layout": {
          "annotationdefaults": {
           "arrowcolor": "#2a3f5f",
           "arrowhead": 0,
           "arrowwidth": 1
          },
          "colorscale": {
           "diverging": [
            [
             0,
             "#8e0152"
            ],
            [
             0.1,
             "#c51b7d"
            ],
            [
             0.2,
             "#de77ae"
            ],
            [
             0.3,
             "#f1b6da"
            ],
            [
             0.4,
             "#fde0ef"
            ],
            [
             0.5,
             "#f7f7f7"
            ],
            [
             0.6,
             "#e6f5d0"
            ],
            [
             0.7,
             "#b8e186"
            ],
            [
             0.8,
             "#7fbc41"
            ],
            [
             0.9,
             "#4d9221"
            ],
            [
             1,
             "#276419"
            ]
           ],
           "sequential": [
            [
             0,
             "#0d0887"
            ],
            [
             0.1111111111111111,
             "#46039f"
            ],
            [
             0.2222222222222222,
             "#7201a8"
            ],
            [
             0.3333333333333333,
             "#9c179e"
            ],
            [
             0.4444444444444444,
             "#bd3786"
            ],
            [
             0.5555555555555556,
             "#d8576b"
            ],
            [
             0.6666666666666666,
             "#ed7953"
            ],
            [
             0.7777777777777778,
             "#fb9f3a"
            ],
            [
             0.8888888888888888,
             "#fdca26"
            ],
            [
             1,
             "#f0f921"
            ]
           ],
           "sequentialminus": [
            [
             0,
             "#0d0887"
            ],
            [
             0.1111111111111111,
             "#46039f"
            ],
            [
             0.2222222222222222,
             "#7201a8"
            ],
            [
             0.3333333333333333,
             "#9c179e"
            ],
            [
             0.4444444444444444,
             "#bd3786"
            ],
            [
             0.5555555555555556,
             "#d8576b"
            ],
            [
             0.6666666666666666,
             "#ed7953"
            ],
            [
             0.7777777777777778,
             "#fb9f3a"
            ],
            [
             0.8888888888888888,
             "#fdca26"
            ],
            [
             1,
             "#f0f921"
            ]
           ]
          },
          "colorway": [
           "#636efa",
           "#EF553B",
           "#00cc96",
           "#ab63fa",
           "#FFA15A",
           "#19d3f3",
           "#FF6692",
           "#B6E880",
           "#FF97FF",
           "#FECB52"
          ],
          "font": {
           "color": "#2a3f5f"
          },
          "geo": {
           "bgcolor": "white",
           "lakecolor": "white",
           "landcolor": "#E5ECF6",
           "showlakes": true,
           "showland": true,
           "subunitcolor": "white"
          },
          "hoverlabel": {
           "align": "left"
          },
          "hovermode": "closest",
          "mapbox": {
           "style": "light"
          },
          "paper_bgcolor": "white",
          "plot_bgcolor": "#E5ECF6",
          "polar": {
           "angularaxis": {
            "gridcolor": "white",
            "linecolor": "white",
            "ticks": ""
           },
           "bgcolor": "#E5ECF6",
           "radialaxis": {
            "gridcolor": "white",
            "linecolor": "white",
            "ticks": ""
           }
          },
          "scene": {
           "xaxis": {
            "backgroundcolor": "#E5ECF6",
            "gridcolor": "white",
            "gridwidth": 2,
            "linecolor": "white",
            "showbackground": true,
            "ticks": "",
            "zerolinecolor": "white"
           },
           "yaxis": {
            "backgroundcolor": "#E5ECF6",
            "gridcolor": "white",
            "gridwidth": 2,
            "linecolor": "white",
            "showbackground": true,
            "ticks": "",
            "zerolinecolor": "white"
           },
           "zaxis": {
            "backgroundcolor": "#E5ECF6",
            "gridcolor": "white",
            "gridwidth": 2,
            "linecolor": "white",
            "showbackground": true,
            "ticks": "",
            "zerolinecolor": "white"
           }
          },
          "shapedefaults": {
           "line": {
            "color": "#2a3f5f"
           }
          },
          "ternary": {
           "aaxis": {
            "gridcolor": "white",
            "linecolor": "white",
            "ticks": ""
           },
           "baxis": {
            "gridcolor": "white",
            "linecolor": "white",
            "ticks": ""
           },
           "bgcolor": "#E5ECF6",
           "caxis": {
            "gridcolor": "white",
            "linecolor": "white",
            "ticks": ""
           }
          },
          "title": {
           "x": 0.05
          },
          "xaxis": {
           "automargin": true,
           "gridcolor": "white",
           "linecolor": "white",
           "ticks": "",
           "zerolinecolor": "white",
           "zerolinewidth": 2
          },
          "yaxis": {
           "automargin": true,
           "gridcolor": "white",
           "linecolor": "white",
           "ticks": "",
           "zerolinecolor": "white",
           "zerolinewidth": 2
          }
         }
        },
        "xaxis": {
         "gridcolor": "#eee",
         "linecolor": "black",
         "showgrid": true,
         "showline": true,
         "title": {
          "text": "Average age"
         },
         "zeroline": false
        },
        "yaxis": {
         "gridcolor": "#eee",
         "linecolor": "black",
         "range": [
          0,
          1
         ],
         "showgrid": true,
         "showline": true,
         "title": {
          "text": "Average \">$50k\""
         }
        }
       }
      },
      "text/html": [
       "<div>\n",
       "        \n",
       "        \n",
       "            <div id=\"185ff399-4b02-42f6-91ad-92d39aa39a78\" class=\"plotly-graph-div\" style=\"height:525px; width:100%;\"></div>\n",
       "            <script type=\"text/javascript\">\n",
       "                require([\"plotly\"], function(Plotly) {\n",
       "                    window.PLOTLYENV=window.PLOTLYENV || {};\n",
       "                    \n",
       "                if (document.getElementById(\"185ff399-4b02-42f6-91ad-92d39aa39a78\")) {\n",
       "                    Plotly.newPlot(\n",
       "                        '185ff399-4b02-42f6-91ad-92d39aa39a78',\n",
       "                        [{\"hoverinfo\": \"x+y\", \"mode\": \"lines+markers\", \"showlegend\": false, \"type\": \"scatter\", \"x\": [19.0, 19.976612209802237, 20.95322441960447, 21.929836629406708, 22.90644883920894, 23.88306104901118, 24.859673258813416, 25.83628546861565, 26.812897678417887, 27.78950988822012, 28.766122098022358, 29.74273430782459, 30.71934651762683, 31.695958727429066, 32.6725709372313, 33.64918314703354, 34.62579535683577, 35.60240756663801, 36.57901977644024, 37.55563198624248, 38.532244196044715, 39.75563198624248, 40.979019776440246, 42.20240756663801, 43.42579535683577, 44.64918314703354, 45.8725709372313, 47.095958727429064, 48.319346517626826, 49.542734307824595, 50.76612209802236, 51.98950988822013, 53.21289767841789, 54.43628546861565, 55.65967325881341, 56.883061049011175, 58.106448839208944, 59.32983662940671, 60.553224419604476, 61.77661220980224, 63.0], \"y\": [0.005797684624482422, 0.014249715931591566, 0.026013736600836473, 0.03970346949616241, 0.05433099464725898, 0.06928343454992962, 0.08419198602608625, 0.09883433717414408, 0.11307516749869655, 0.12683137399154262, 0.14005169906601853, 0.15270462250707084, 0.164771031918936, 0.17623971170172054, 0.18710452031935051, 0.19736260981546688, 0.20701329507936064, 0.21605733882238917, 0.2244965051693695, 0.23233329380254986, 0.23957078919192432, 0.24779707615691268, 0.2550968221432593, 0.2614795357027737, 0.2669561931310934, 0.27153943283472143, 0.27524376106223025, 0.27808574620086823, 0.2800841837249692, 0.2812602175380573, 0.28163740681899335, 0.281241730898787, 0.280101528302795, 0.27824736984908877, 0.27571186942419024, 0.27252943951264336, 0.26873600146726273, 0.2643686626349949, 0.25946537363660566, 0.25406457927535814, 0.24820487574291256]}, {\"hoverinfo\": \"text\", \"marker\": {\"size\": 9, \"symbol\": \"x\"}, \"mode\": \"markers\", \"name\": \"Original mean\", \"showlegend\": false, \"text\": [\"Dataset mean\"], \"type\": \"scatter\", \"x\": [38.532244196044715], \"y\": [0.23957078919192432]}],\n",
       "                        {\"margin\": {\"r\": 50, \"t\": 50}, \"plot_bgcolor\": \"white\", \"template\": {\"data\": {\"bar\": [{\"error_x\": {\"color\": \"#2a3f5f\"}, \"error_y\": {\"color\": \"#2a3f5f\"}, \"marker\": {\"line\": {\"color\": \"#E5ECF6\", \"width\": 0.5}}, \"type\": \"bar\"}], \"barpolar\": [{\"marker\": {\"line\": {\"color\": \"#E5ECF6\", \"width\": 0.5}}, \"type\": \"barpolar\"}], \"carpet\": [{\"aaxis\": {\"endlinecolor\": \"#2a3f5f\", \"gridcolor\": \"white\", \"linecolor\": \"white\", \"minorgridcolor\": \"white\", \"startlinecolor\": \"#2a3f5f\"}, \"baxis\": {\"endlinecolor\": \"#2a3f5f\", \"gridcolor\": \"white\", \"linecolor\": \"white\", \"minorgridcolor\": \"white\", \"startlinecolor\": \"#2a3f5f\"}, \"type\": \"carpet\"}], \"choropleth\": [{\"colorbar\": {\"outlinewidth\": 0, \"ticks\": \"\"}, \"type\": \"choropleth\"}], \"contour\": [{\"colorbar\": {\"outlinewidth\": 0, \"ticks\": \"\"}, \"colorscale\": [[0.0, \"#0d0887\"], [0.1111111111111111, \"#46039f\"], [0.2222222222222222, \"#7201a8\"], [0.3333333333333333, \"#9c179e\"], [0.4444444444444444, \"#bd3786\"], [0.5555555555555556, \"#d8576b\"], [0.6666666666666666, \"#ed7953\"], [0.7777777777777778, \"#fb9f3a\"], [0.8888888888888888, \"#fdca26\"], [1.0, \"#f0f921\"]], \"type\": \"contour\"}], \"contourcarpet\": [{\"colorbar\": {\"outlinewidth\": 0, \"ticks\": \"\"}, \"type\": \"contourcarpet\"}], \"heatmap\": [{\"colorbar\": {\"outlinewidth\": 0, \"ticks\": \"\"}, \"colorscale\": [[0.0, \"#0d0887\"], [0.1111111111111111, \"#46039f\"], [0.2222222222222222, \"#7201a8\"], [0.3333333333333333, \"#9c179e\"], [0.4444444444444444, \"#bd3786\"], [0.5555555555555556, \"#d8576b\"], [0.6666666666666666, \"#ed7953\"], [0.7777777777777778, \"#fb9f3a\"], [0.8888888888888888, \"#fdca26\"], [1.0, \"#f0f921\"]], \"type\": \"heatmap\"}], \"heatmapgl\": [{\"colorbar\": {\"outlinewidth\": 0, \"ticks\": \"\"}, \"colorscale\": [[0.0, \"#0d0887\"], [0.1111111111111111, \"#46039f\"], [0.2222222222222222, \"#7201a8\"], [0.3333333333333333, \"#9c179e\"], [0.4444444444444444, \"#bd3786\"], [0.5555555555555556, \"#d8576b\"], [0.6666666666666666, \"#ed7953\"], [0.7777777777777778, \"#fb9f3a\"], [0.8888888888888888, \"#fdca26\"], [1.0, \"#f0f921\"]], \"type\": \"heatmapgl\"}], \"histogram\": [{\"marker\": {\"colorbar\": {\"outlinewidth\": 0, \"ticks\": \"\"}}, \"type\": \"histogram\"}], \"histogram2d\": [{\"colorbar\": {\"outlinewidth\": 0, \"ticks\": \"\"}, \"colorscale\": [[0.0, \"#0d0887\"], [0.1111111111111111, \"#46039f\"], [0.2222222222222222, \"#7201a8\"], [0.3333333333333333, \"#9c179e\"], [0.4444444444444444, \"#bd3786\"], [0.5555555555555556, \"#d8576b\"], [0.6666666666666666, \"#ed7953\"], [0.7777777777777778, \"#fb9f3a\"], [0.8888888888888888, \"#fdca26\"], [1.0, \"#f0f921\"]], \"type\": \"histogram2d\"}], \"histogram2dcontour\": [{\"colorbar\": {\"outlinewidth\": 0, \"ticks\": \"\"}, \"colorscale\": [[0.0, \"#0d0887\"], [0.1111111111111111, \"#46039f\"], [0.2222222222222222, \"#7201a8\"], [0.3333333333333333, \"#9c179e\"], [0.4444444444444444, \"#bd3786\"], [0.5555555555555556, \"#d8576b\"], [0.6666666666666666, \"#ed7953\"], [0.7777777777777778, \"#fb9f3a\"], [0.8888888888888888, \"#fdca26\"], [1.0, \"#f0f921\"]], \"type\": \"histogram2dcontour\"}], \"mesh3d\": [{\"colorbar\": {\"outlinewidth\": 0, \"ticks\": \"\"}, \"type\": \"mesh3d\"}], \"parcoords\": [{\"line\": {\"colorbar\": {\"outlinewidth\": 0, \"ticks\": \"\"}}, \"type\": \"parcoords\"}], \"scatter\": [{\"marker\": {\"colorbar\": {\"outlinewidth\": 0, \"ticks\": \"\"}}, \"type\": \"scatter\"}], \"scatter3d\": [{\"line\": {\"colorbar\": {\"outlinewidth\": 0, \"ticks\": \"\"}}, \"marker\": {\"colorbar\": {\"outlinewidth\": 0, \"ticks\": \"\"}}, \"type\": \"scatter3d\"}], \"scattercarpet\": [{\"marker\": {\"colorbar\": {\"outlinewidth\": 0, \"ticks\": \"\"}}, \"type\": \"scattercarpet\"}], \"scattergeo\": [{\"marker\": {\"colorbar\": {\"outlinewidth\": 0, \"ticks\": \"\"}}, \"type\": \"scattergeo\"}], \"scattergl\": [{\"marker\": {\"colorbar\": {\"outlinewidth\": 0, \"ticks\": \"\"}}, \"type\": \"scattergl\"}], \"scattermapbox\": [{\"marker\": {\"colorbar\": {\"outlinewidth\": 0, \"ticks\": \"\"}}, \"type\": \"scattermapbox\"}], \"scatterpolar\": [{\"marker\": {\"colorbar\": {\"outlinewidth\": 0, \"ticks\": \"\"}}, \"type\": \"scatterpolar\"}], \"scatterpolargl\": [{\"marker\": {\"colorbar\": {\"outlinewidth\": 0, \"ticks\": \"\"}}, \"type\": \"scatterpolargl\"}], \"scatterternary\": [{\"marker\": {\"colorbar\": {\"outlinewidth\": 0, \"ticks\": \"\"}}, \"type\": \"scatterternary\"}], \"surface\": [{\"colorbar\": {\"outlinewidth\": 0, \"ticks\": \"\"}, \"colorscale\": [[0.0, \"#0d0887\"], [0.1111111111111111, \"#46039f\"], [0.2222222222222222, \"#7201a8\"], [0.3333333333333333, \"#9c179e\"], [0.4444444444444444, \"#bd3786\"], [0.5555555555555556, \"#d8576b\"], [0.6666666666666666, \"#ed7953\"], [0.7777777777777778, \"#fb9f3a\"], [0.8888888888888888, \"#fdca26\"], [1.0, \"#f0f921\"]], \"type\": \"surface\"}], \"table\": [{\"cells\": {\"fill\": {\"color\": \"#EBF0F8\"}, \"line\": {\"color\": \"white\"}}, \"header\": {\"fill\": {\"color\": \"#C8D4E3\"}, \"line\": {\"color\": \"white\"}}, \"type\": \"table\"}]}, \"layout\": {\"annotationdefaults\": {\"arrowcolor\": \"#2a3f5f\", \"arrowhead\": 0, \"arrowwidth\": 1}, \"colorscale\": {\"diverging\": [[0, \"#8e0152\"], [0.1, \"#c51b7d\"], [0.2, \"#de77ae\"], [0.3, \"#f1b6da\"], [0.4, \"#fde0ef\"], [0.5, \"#f7f7f7\"], [0.6, \"#e6f5d0\"], [0.7, \"#b8e186\"], [0.8, \"#7fbc41\"], [0.9, \"#4d9221\"], [1, \"#276419\"]], \"sequential\": [[0.0, \"#0d0887\"], [0.1111111111111111, \"#46039f\"], [0.2222222222222222, \"#7201a8\"], [0.3333333333333333, \"#9c179e\"], [0.4444444444444444, \"#bd3786\"], [0.5555555555555556, \"#d8576b\"], [0.6666666666666666, \"#ed7953\"], [0.7777777777777778, \"#fb9f3a\"], [0.8888888888888888, \"#fdca26\"], [1.0, \"#f0f921\"]], \"sequentialminus\": [[0.0, \"#0d0887\"], [0.1111111111111111, \"#46039f\"], [0.2222222222222222, \"#7201a8\"], [0.3333333333333333, \"#9c179e\"], [0.4444444444444444, \"#bd3786\"], [0.5555555555555556, \"#d8576b\"], [0.6666666666666666, \"#ed7953\"], [0.7777777777777778, \"#fb9f3a\"], [0.8888888888888888, \"#fdca26\"], [1.0, \"#f0f921\"]]}, \"colorway\": [\"#636efa\", \"#EF553B\", \"#00cc96\", \"#ab63fa\", \"#FFA15A\", \"#19d3f3\", \"#FF6692\", \"#B6E880\", \"#FF97FF\", \"#FECB52\"], \"font\": {\"color\": \"#2a3f5f\"}, \"geo\": {\"bgcolor\": \"white\", \"lakecolor\": \"white\", \"landcolor\": \"#E5ECF6\", \"showlakes\": true, \"showland\": true, \"subunitcolor\": \"white\"}, \"hoverlabel\": {\"align\": \"left\"}, \"hovermode\": \"closest\", \"mapbox\": {\"style\": \"light\"}, \"paper_bgcolor\": \"white\", \"plot_bgcolor\": \"#E5ECF6\", \"polar\": {\"angularaxis\": {\"gridcolor\": \"white\", \"linecolor\": \"white\", \"ticks\": \"\"}, \"bgcolor\": \"#E5ECF6\", \"radialaxis\": {\"gridcolor\": \"white\", \"linecolor\": \"white\", \"ticks\": \"\"}}, \"scene\": {\"xaxis\": {\"backgroundcolor\": \"#E5ECF6\", \"gridcolor\": \"white\", \"gridwidth\": 2, \"linecolor\": \"white\", \"showbackground\": true, \"ticks\": \"\", \"zerolinecolor\": \"white\"}, \"yaxis\": {\"backgroundcolor\": \"#E5ECF6\", \"gridcolor\": \"white\", \"gridwidth\": 2, \"linecolor\": \"white\", \"showbackground\": true, \"ticks\": \"\", \"zerolinecolor\": \"white\"}, \"zaxis\": {\"backgroundcolor\": \"#E5ECF6\", \"gridcolor\": \"white\", \"gridwidth\": 2, \"linecolor\": \"white\", \"showbackground\": true, \"ticks\": \"\", \"zerolinecolor\": \"white\"}}, \"shapedefaults\": {\"line\": {\"color\": \"#2a3f5f\"}}, \"ternary\": {\"aaxis\": {\"gridcolor\": \"white\", \"linecolor\": \"white\", \"ticks\": \"\"}, \"baxis\": {\"gridcolor\": \"white\", \"linecolor\": \"white\", \"ticks\": \"\"}, \"bgcolor\": \"#E5ECF6\", \"caxis\": {\"gridcolor\": \"white\", \"linecolor\": \"white\", \"ticks\": \"\"}}, \"title\": {\"x\": 0.05}, \"xaxis\": {\"automargin\": true, \"gridcolor\": \"white\", \"linecolor\": \"white\", \"ticks\": \"\", \"zerolinecolor\": \"white\", \"zerolinewidth\": 2}, \"yaxis\": {\"automargin\": true, \"gridcolor\": \"white\", \"linecolor\": \"white\", \"ticks\": \"\", \"zerolinecolor\": \"white\", \"zerolinewidth\": 2}}}, \"xaxis\": {\"gridcolor\": \"#eee\", \"linecolor\": \"black\", \"showgrid\": true, \"showline\": true, \"title\": {\"text\": \"Average age\"}, \"zeroline\": false}, \"yaxis\": {\"gridcolor\": \"#eee\", \"linecolor\": \"black\", \"range\": [0, 1], \"showgrid\": true, \"showline\": true, \"title\": {\"text\": \"Average \\\">$50k\\\"\"}}},\n",
       "                        {\"responsive\": true}\n",
       "                    ).then(function(){\n",
       "                            \n",
       "var gd = document.getElementById('185ff399-4b02-42f6-91ad-92d39aa39a78');\n",
       "var x = new MutationObserver(function (mutations, observer) {{\n",
       "        var display = window.getComputedStyle(gd).display;\n",
       "        if (!display || display === 'none') {{\n",
       "            console.log([gd, 'removed!']);\n",
       "            Plotly.purge(gd);\n",
       "            observer.disconnect();\n",
       "        }}\n",
       "}});\n",
       "\n",
       "// Listen for the removal of the full notebook cells\n",
       "var notebookContainer = gd.closest('#notebook-container');\n",
       "if (notebookContainer) {{\n",
       "    x.observe(notebookContainer, {childList: true});\n",
       "}}\n",
       "\n",
       "// Listen for the clearing of the current output cell\n",
       "var outputEl = gd.closest('.output');\n",
       "if (outputEl) {{\n",
       "    x.observe(outputEl, {childList: true});\n",
       "}}\n",
       "\n",
       "                        })\n",
       "                };\n",
       "                });\n",
       "            </script>\n",
       "        </div>"
      ]
     },
     "metadata": {},
     "output_type": "display_data"
    }
   ],
   "source": [
    "explainer.plot_bias(\n",
    "    X_test=X_test[\"age\"],\n",
    "    y_pred=y_pred\n",
    ")"
   ]
  },
  {
   "cell_type": "code",
   "execution_count": 84,
   "metadata": {},
   "outputs": [
    {
     "data": {
      "text/html": [
       "<div>\n",
       "<style scoped>\n",
       "    .dataframe tbody tr th:only-of-type {\n",
       "        vertical-align: middle;\n",
       "    }\n",
       "\n",
       "    .dataframe tbody tr th {\n",
       "        vertical-align: top;\n",
       "    }\n",
       "\n",
       "    .dataframe thead th {\n",
       "        text-align: right;\n",
       "    }\n",
       "</style>\n",
       "<table border=\"1\" class=\"dataframe\">\n",
       "  <thead>\n",
       "    <tr style=\"text-align: right;\">\n",
       "      <th></th>\n",
       "      <th>feature</th>\n",
       "      <th>tau</th>\n",
       "      <th>value</th>\n",
       "      <th>lambda</th>\n",
       "      <th>label</th>\n",
       "      <th>bias</th>\n",
       "      <th>bias_low</th>\n",
       "      <th>bias_high</th>\n",
       "    </tr>\n",
       "  </thead>\n",
       "  <tbody>\n",
       "    <tr>\n",
       "      <td>0</td>\n",
       "      <td>age</td>\n",
       "      <td>-1.00</td>\n",
       "      <td>19.000000</td>\n",
       "      <td>-0.507662</td>\n",
       "      <td>&gt;$50k</td>\n",
       "      <td>0.005798</td>\n",
       "      <td>0.005798</td>\n",
       "      <td>0.005798</td>\n",
       "    </tr>\n",
       "    <tr>\n",
       "      <td>1</td>\n",
       "      <td>age</td>\n",
       "      <td>-0.95</td>\n",
       "      <td>19.976612</td>\n",
       "      <td>-0.352627</td>\n",
       "      <td>&gt;$50k</td>\n",
       "      <td>0.014250</td>\n",
       "      <td>0.014250</td>\n",
       "      <td>0.014250</td>\n",
       "    </tr>\n",
       "    <tr>\n",
       "      <td>2</td>\n",
       "      <td>age</td>\n",
       "      <td>-0.90</td>\n",
       "      <td>20.953224</td>\n",
       "      <td>-0.268180</td>\n",
       "      <td>&gt;$50k</td>\n",
       "      <td>0.026014</td>\n",
       "      <td>0.026014</td>\n",
       "      <td>0.026014</td>\n",
       "    </tr>\n",
       "    <tr>\n",
       "      <td>3</td>\n",
       "      <td>age</td>\n",
       "      <td>-0.85</td>\n",
       "      <td>21.929837</td>\n",
       "      <td>-0.214814</td>\n",
       "      <td>&gt;$50k</td>\n",
       "      <td>0.039703</td>\n",
       "      <td>0.039703</td>\n",
       "      <td>0.039703</td>\n",
       "    </tr>\n",
       "    <tr>\n",
       "      <td>4</td>\n",
       "      <td>age</td>\n",
       "      <td>-0.80</td>\n",
       "      <td>22.906449</td>\n",
       "      <td>-0.177631</td>\n",
       "      <td>&gt;$50k</td>\n",
       "      <td>0.054331</td>\n",
       "      <td>0.054331</td>\n",
       "      <td>0.054331</td>\n",
       "    </tr>\n",
       "  </tbody>\n",
       "</table>\n",
       "</div>"
      ],
      "text/plain": [
       "  feature   tau      value    lambda  label      bias  bias_low  bias_high\n",
       "0     age -1.00  19.000000 -0.507662  >$50k  0.005798  0.005798   0.005798\n",
       "1     age -0.95  19.976612 -0.352627  >$50k  0.014250  0.014250   0.014250\n",
       "2     age -0.90  20.953224 -0.268180  >$50k  0.026014  0.026014   0.026014\n",
       "3     age -0.85  21.929837 -0.214814  >$50k  0.039703  0.039703   0.039703\n",
       "4     age -0.80  22.906449 -0.177631  >$50k  0.054331  0.054331   0.054331"
      ]
     },
     "execution_count": 84,
     "metadata": {},
     "output_type": "execute_result"
    }
   ],
   "source": [
    "explainer.info.head()"
   ]
  },
  {
   "cell_type": "markdown",
   "metadata": {},
   "source": [
    "When caching is enabled, the explanations are stacked into the `.info`:"
   ]
  },
  {
   "cell_type": "code",
   "execution_count": 85,
   "metadata": {
    "scrolled": true
   },
   "outputs": [
    {
     "data": {
      "text/html": [
       "<div>\n",
       "<style scoped>\n",
       "    .dataframe tbody tr th:only-of-type {\n",
       "        vertical-align: middle;\n",
       "    }\n",
       "\n",
       "    .dataframe tbody tr th {\n",
       "        vertical-align: top;\n",
       "    }\n",
       "\n",
       "    .dataframe thead th {\n",
       "        text-align: right;\n",
       "    }\n",
       "</style>\n",
       "<table border=\"1\" class=\"dataframe\">\n",
       "  <thead>\n",
       "    <tr style=\"text-align: right;\">\n",
       "      <th></th>\n",
       "      <th>feature</th>\n",
       "      <th>tau</th>\n",
       "      <th>value</th>\n",
       "      <th>lambda</th>\n",
       "      <th>label</th>\n",
       "      <th>bias</th>\n",
       "      <th>bias_low</th>\n",
       "      <th>bias_high</th>\n",
       "    </tr>\n",
       "  </thead>\n",
       "  <tbody>\n",
       "    <tr>\n",
       "      <td>0</td>\n",
       "      <td>age</td>\n",
       "      <td>-1.00</td>\n",
       "      <td>19.000000</td>\n",
       "      <td>-0.507662</td>\n",
       "      <td>&gt;$50k</td>\n",
       "      <td>0.005798</td>\n",
       "      <td>0.005798</td>\n",
       "      <td>0.005798</td>\n",
       "    </tr>\n",
       "    <tr>\n",
       "      <td>1</td>\n",
       "      <td>age</td>\n",
       "      <td>-0.95</td>\n",
       "      <td>19.976612</td>\n",
       "      <td>-0.352627</td>\n",
       "      <td>&gt;$50k</td>\n",
       "      <td>0.014250</td>\n",
       "      <td>0.014250</td>\n",
       "      <td>0.014250</td>\n",
       "    </tr>\n",
       "    <tr>\n",
       "      <td>2</td>\n",
       "      <td>age</td>\n",
       "      <td>-0.90</td>\n",
       "      <td>20.953224</td>\n",
       "      <td>-0.268180</td>\n",
       "      <td>&gt;$50k</td>\n",
       "      <td>0.026014</td>\n",
       "      <td>0.026014</td>\n",
       "      <td>0.026014</td>\n",
       "    </tr>\n",
       "    <tr>\n",
       "      <td>3</td>\n",
       "      <td>age</td>\n",
       "      <td>-0.85</td>\n",
       "      <td>21.929837</td>\n",
       "      <td>-0.214814</td>\n",
       "      <td>&gt;$50k</td>\n",
       "      <td>0.039703</td>\n",
       "      <td>0.039703</td>\n",
       "      <td>0.039703</td>\n",
       "    </tr>\n",
       "    <tr>\n",
       "      <td>4</td>\n",
       "      <td>age</td>\n",
       "      <td>-0.80</td>\n",
       "      <td>22.906449</td>\n",
       "      <td>-0.177631</td>\n",
       "      <td>&gt;$50k</td>\n",
       "      <td>0.054331</td>\n",
       "      <td>0.054331</td>\n",
       "      <td>0.054331</td>\n",
       "    </tr>\n",
       "    <tr>\n",
       "      <td>5</td>\n",
       "      <td>age</td>\n",
       "      <td>-0.75</td>\n",
       "      <td>23.883061</td>\n",
       "      <td>-0.149886</td>\n",
       "      <td>&gt;$50k</td>\n",
       "      <td>0.069283</td>\n",
       "      <td>0.069283</td>\n",
       "      <td>0.069283</td>\n",
       "    </tr>\n",
       "    <tr>\n",
       "      <td>6</td>\n",
       "      <td>age</td>\n",
       "      <td>-0.70</td>\n",
       "      <td>24.859673</td>\n",
       "      <td>-0.128117</td>\n",
       "      <td>&gt;$50k</td>\n",
       "      <td>0.084192</td>\n",
       "      <td>0.084192</td>\n",
       "      <td>0.084192</td>\n",
       "    </tr>\n",
       "    <tr>\n",
       "      <td>7</td>\n",
       "      <td>age</td>\n",
       "      <td>-0.65</td>\n",
       "      <td>25.836285</td>\n",
       "      <td>-0.110375</td>\n",
       "      <td>&gt;$50k</td>\n",
       "      <td>0.098834</td>\n",
       "      <td>0.098834</td>\n",
       "      <td>0.098834</td>\n",
       "    </tr>\n",
       "    <tr>\n",
       "      <td>8</td>\n",
       "      <td>age</td>\n",
       "      <td>-0.60</td>\n",
       "      <td>26.812898</td>\n",
       "      <td>-0.095480</td>\n",
       "      <td>&gt;$50k</td>\n",
       "      <td>0.113075</td>\n",
       "      <td>0.113075</td>\n",
       "      <td>0.113075</td>\n",
       "    </tr>\n",
       "    <tr>\n",
       "      <td>9</td>\n",
       "      <td>age</td>\n",
       "      <td>-0.55</td>\n",
       "      <td>27.789510</td>\n",
       "      <td>-0.082677</td>\n",
       "      <td>&gt;$50k</td>\n",
       "      <td>0.126831</td>\n",
       "      <td>0.126831</td>\n",
       "      <td>0.126831</td>\n",
       "    </tr>\n",
       "    <tr>\n",
       "      <td>10</td>\n",
       "      <td>age</td>\n",
       "      <td>-0.50</td>\n",
       "      <td>28.766122</td>\n",
       "      <td>-0.071457</td>\n",
       "      <td>&gt;$50k</td>\n",
       "      <td>0.140052</td>\n",
       "      <td>0.140052</td>\n",
       "      <td>0.140052</td>\n",
       "    </tr>\n",
       "    <tr>\n",
       "      <td>11</td>\n",
       "      <td>age</td>\n",
       "      <td>-0.45</td>\n",
       "      <td>29.742734</td>\n",
       "      <td>-0.061469</td>\n",
       "      <td>&gt;$50k</td>\n",
       "      <td>0.152705</td>\n",
       "      <td>0.152705</td>\n",
       "      <td>0.152705</td>\n",
       "    </tr>\n",
       "    <tr>\n",
       "      <td>12</td>\n",
       "      <td>age</td>\n",
       "      <td>-0.40</td>\n",
       "      <td>30.719347</td>\n",
       "      <td>-0.052458</td>\n",
       "      <td>&gt;$50k</td>\n",
       "      <td>0.164771</td>\n",
       "      <td>0.164771</td>\n",
       "      <td>0.164771</td>\n",
       "    </tr>\n",
       "    <tr>\n",
       "      <td>13</td>\n",
       "      <td>age</td>\n",
       "      <td>-0.35</td>\n",
       "      <td>31.695959</td>\n",
       "      <td>-0.044236</td>\n",
       "      <td>&gt;$50k</td>\n",
       "      <td>0.176240</td>\n",
       "      <td>0.176240</td>\n",
       "      <td>0.176240</td>\n",
       "    </tr>\n",
       "    <tr>\n",
       "      <td>14</td>\n",
       "      <td>age</td>\n",
       "      <td>-0.30</td>\n",
       "      <td>32.672571</td>\n",
       "      <td>-0.036661</td>\n",
       "      <td>&gt;$50k</td>\n",
       "      <td>0.187105</td>\n",
       "      <td>0.187105</td>\n",
       "      <td>0.187105</td>\n",
       "    </tr>\n",
       "    <tr>\n",
       "      <td>15</td>\n",
       "      <td>age</td>\n",
       "      <td>-0.25</td>\n",
       "      <td>33.649183</td>\n",
       "      <td>-0.029623</td>\n",
       "      <td>&gt;$50k</td>\n",
       "      <td>0.197363</td>\n",
       "      <td>0.197363</td>\n",
       "      <td>0.197363</td>\n",
       "    </tr>\n",
       "    <tr>\n",
       "      <td>16</td>\n",
       "      <td>age</td>\n",
       "      <td>-0.20</td>\n",
       "      <td>34.625795</td>\n",
       "      <td>-0.023036</td>\n",
       "      <td>&gt;$50k</td>\n",
       "      <td>0.207013</td>\n",
       "      <td>0.207013</td>\n",
       "      <td>0.207013</td>\n",
       "    </tr>\n",
       "    <tr>\n",
       "      <td>17</td>\n",
       "      <td>age</td>\n",
       "      <td>-0.15</td>\n",
       "      <td>35.602408</td>\n",
       "      <td>-0.016831</td>\n",
       "      <td>&gt;$50k</td>\n",
       "      <td>0.216057</td>\n",
       "      <td>0.216057</td>\n",
       "      <td>0.216057</td>\n",
       "    </tr>\n",
       "    <tr>\n",
       "      <td>18</td>\n",
       "      <td>age</td>\n",
       "      <td>-0.10</td>\n",
       "      <td>36.579020</td>\n",
       "      <td>-0.010953</td>\n",
       "      <td>&gt;$50k</td>\n",
       "      <td>0.224497</td>\n",
       "      <td>0.224497</td>\n",
       "      <td>0.224497</td>\n",
       "    </tr>\n",
       "    <tr>\n",
       "      <td>19</td>\n",
       "      <td>age</td>\n",
       "      <td>-0.05</td>\n",
       "      <td>37.555632</td>\n",
       "      <td>-0.005355</td>\n",
       "      <td>&gt;$50k</td>\n",
       "      <td>0.232333</td>\n",
       "      <td>0.232333</td>\n",
       "      <td>0.232333</td>\n",
       "    </tr>\n",
       "    <tr>\n",
       "      <td>20</td>\n",
       "      <td>age</td>\n",
       "      <td>0.00</td>\n",
       "      <td>38.532244</td>\n",
       "      <td>0.000000</td>\n",
       "      <td>&gt;$50k</td>\n",
       "      <td>0.239571</td>\n",
       "      <td>0.239571</td>\n",
       "      <td>0.239571</td>\n",
       "    </tr>\n",
       "    <tr>\n",
       "      <td>21</td>\n",
       "      <td>age</td>\n",
       "      <td>0.05</td>\n",
       "      <td>39.755632</td>\n",
       "      <td>0.006413</td>\n",
       "      <td>&gt;$50k</td>\n",
       "      <td>0.247797</td>\n",
       "      <td>0.247797</td>\n",
       "      <td>0.247797</td>\n",
       "    </tr>\n",
       "    <tr>\n",
       "      <td>22</td>\n",
       "      <td>age</td>\n",
       "      <td>0.10</td>\n",
       "      <td>40.979020</td>\n",
       "      <td>0.012546</td>\n",
       "      <td>&gt;$50k</td>\n",
       "      <td>0.255097</td>\n",
       "      <td>0.255097</td>\n",
       "      <td>0.255097</td>\n",
       "    </tr>\n",
       "    <tr>\n",
       "      <td>23</td>\n",
       "      <td>age</td>\n",
       "      <td>0.15</td>\n",
       "      <td>42.202408</td>\n",
       "      <td>0.018442</td>\n",
       "      <td>&gt;$50k</td>\n",
       "      <td>0.261480</td>\n",
       "      <td>0.261480</td>\n",
       "      <td>0.261480</td>\n",
       "    </tr>\n",
       "    <tr>\n",
       "      <td>24</td>\n",
       "      <td>age</td>\n",
       "      <td>0.20</td>\n",
       "      <td>43.425795</td>\n",
       "      <td>0.024135</td>\n",
       "      <td>&gt;$50k</td>\n",
       "      <td>0.266956</td>\n",
       "      <td>0.266956</td>\n",
       "      <td>0.266956</td>\n",
       "    </tr>\n",
       "    <tr>\n",
       "      <td>25</td>\n",
       "      <td>age</td>\n",
       "      <td>0.25</td>\n",
       "      <td>44.649183</td>\n",
       "      <td>0.029655</td>\n",
       "      <td>&gt;$50k</td>\n",
       "      <td>0.271539</td>\n",
       "      <td>0.271539</td>\n",
       "      <td>0.271539</td>\n",
       "    </tr>\n",
       "    <tr>\n",
       "      <td>26</td>\n",
       "      <td>age</td>\n",
       "      <td>0.30</td>\n",
       "      <td>45.872571</td>\n",
       "      <td>0.035028</td>\n",
       "      <td>&gt;$50k</td>\n",
       "      <td>0.275244</td>\n",
       "      <td>0.275244</td>\n",
       "      <td>0.275244</td>\n",
       "    </tr>\n",
       "    <tr>\n",
       "      <td>27</td>\n",
       "      <td>age</td>\n",
       "      <td>0.35</td>\n",
       "      <td>47.095959</td>\n",
       "      <td>0.040274</td>\n",
       "      <td>&gt;$50k</td>\n",
       "      <td>0.278086</td>\n",
       "      <td>0.278086</td>\n",
       "      <td>0.278086</td>\n",
       "    </tr>\n",
       "    <tr>\n",
       "      <td>28</td>\n",
       "      <td>age</td>\n",
       "      <td>0.40</td>\n",
       "      <td>48.319347</td>\n",
       "      <td>0.045414</td>\n",
       "      <td>&gt;$50k</td>\n",
       "      <td>0.280084</td>\n",
       "      <td>0.280084</td>\n",
       "      <td>0.280084</td>\n",
       "    </tr>\n",
       "    <tr>\n",
       "      <td>29</td>\n",
       "      <td>age</td>\n",
       "      <td>0.45</td>\n",
       "      <td>49.542734</td>\n",
       "      <td>0.050464</td>\n",
       "      <td>&gt;$50k</td>\n",
       "      <td>0.281260</td>\n",
       "      <td>0.281260</td>\n",
       "      <td>0.281260</td>\n",
       "    </tr>\n",
       "    <tr>\n",
       "      <td>30</td>\n",
       "      <td>age</td>\n",
       "      <td>0.50</td>\n",
       "      <td>50.766122</td>\n",
       "      <td>0.055437</td>\n",
       "      <td>&gt;$50k</td>\n",
       "      <td>0.281637</td>\n",
       "      <td>0.281637</td>\n",
       "      <td>0.281637</td>\n",
       "    </tr>\n",
       "    <tr>\n",
       "      <td>31</td>\n",
       "      <td>age</td>\n",
       "      <td>0.55</td>\n",
       "      <td>51.989510</td>\n",
       "      <td>0.060349</td>\n",
       "      <td>&gt;$50k</td>\n",
       "      <td>0.281242</td>\n",
       "      <td>0.281242</td>\n",
       "      <td>0.281242</td>\n",
       "    </tr>\n",
       "    <tr>\n",
       "      <td>32</td>\n",
       "      <td>age</td>\n",
       "      <td>0.60</td>\n",
       "      <td>53.212898</td>\n",
       "      <td>0.065211</td>\n",
       "      <td>&gt;$50k</td>\n",
       "      <td>0.280102</td>\n",
       "      <td>0.280102</td>\n",
       "      <td>0.280102</td>\n",
       "    </tr>\n",
       "    <tr>\n",
       "      <td>33</td>\n",
       "      <td>age</td>\n",
       "      <td>0.65</td>\n",
       "      <td>54.436285</td>\n",
       "      <td>0.070036</td>\n",
       "      <td>&gt;$50k</td>\n",
       "      <td>0.278247</td>\n",
       "      <td>0.278247</td>\n",
       "      <td>0.278247</td>\n",
       "    </tr>\n",
       "    <tr>\n",
       "      <td>34</td>\n",
       "      <td>age</td>\n",
       "      <td>0.70</td>\n",
       "      <td>55.659673</td>\n",
       "      <td>0.074833</td>\n",
       "      <td>&gt;$50k</td>\n",
       "      <td>0.275712</td>\n",
       "      <td>0.275712</td>\n",
       "      <td>0.275712</td>\n",
       "    </tr>\n",
       "    <tr>\n",
       "      <td>35</td>\n",
       "      <td>age</td>\n",
       "      <td>0.75</td>\n",
       "      <td>56.883061</td>\n",
       "      <td>0.079614</td>\n",
       "      <td>&gt;$50k</td>\n",
       "      <td>0.272529</td>\n",
       "      <td>0.272529</td>\n",
       "      <td>0.272529</td>\n",
       "    </tr>\n",
       "    <tr>\n",
       "      <td>36</td>\n",
       "      <td>age</td>\n",
       "      <td>0.80</td>\n",
       "      <td>58.106449</td>\n",
       "      <td>0.084391</td>\n",
       "      <td>&gt;$50k</td>\n",
       "      <td>0.268736</td>\n",
       "      <td>0.268736</td>\n",
       "      <td>0.268736</td>\n",
       "    </tr>\n",
       "    <tr>\n",
       "      <td>37</td>\n",
       "      <td>age</td>\n",
       "      <td>0.85</td>\n",
       "      <td>59.329837</td>\n",
       "      <td>0.089173</td>\n",
       "      <td>&gt;$50k</td>\n",
       "      <td>0.264369</td>\n",
       "      <td>0.264369</td>\n",
       "      <td>0.264369</td>\n",
       "    </tr>\n",
       "    <tr>\n",
       "      <td>38</td>\n",
       "      <td>age</td>\n",
       "      <td>0.90</td>\n",
       "      <td>60.553224</td>\n",
       "      <td>0.093974</td>\n",
       "      <td>&gt;$50k</td>\n",
       "      <td>0.259465</td>\n",
       "      <td>0.259465</td>\n",
       "      <td>0.259465</td>\n",
       "    </tr>\n",
       "    <tr>\n",
       "      <td>39</td>\n",
       "      <td>age</td>\n",
       "      <td>0.95</td>\n",
       "      <td>61.776612</td>\n",
       "      <td>0.098804</td>\n",
       "      <td>&gt;$50k</td>\n",
       "      <td>0.254065</td>\n",
       "      <td>0.254065</td>\n",
       "      <td>0.254065</td>\n",
       "    </tr>\n",
       "    <tr>\n",
       "      <td>40</td>\n",
       "      <td>age</td>\n",
       "      <td>1.00</td>\n",
       "      <td>63.000000</td>\n",
       "      <td>0.103678</td>\n",
       "      <td>&gt;$50k</td>\n",
       "      <td>0.248205</td>\n",
       "      <td>0.248205</td>\n",
       "      <td>0.248205</td>\n",
       "    </tr>\n",
       "  </tbody>\n",
       "</table>\n",
       "</div>"
      ],
      "text/plain": [
       "   feature   tau      value    lambda  label      bias  bias_low  bias_high\n",
       "0      age -1.00  19.000000 -0.507662  >$50k  0.005798  0.005798   0.005798\n",
       "1      age -0.95  19.976612 -0.352627  >$50k  0.014250  0.014250   0.014250\n",
       "2      age -0.90  20.953224 -0.268180  >$50k  0.026014  0.026014   0.026014\n",
       "3      age -0.85  21.929837 -0.214814  >$50k  0.039703  0.039703   0.039703\n",
       "4      age -0.80  22.906449 -0.177631  >$50k  0.054331  0.054331   0.054331\n",
       "5      age -0.75  23.883061 -0.149886  >$50k  0.069283  0.069283   0.069283\n",
       "6      age -0.70  24.859673 -0.128117  >$50k  0.084192  0.084192   0.084192\n",
       "7      age -0.65  25.836285 -0.110375  >$50k  0.098834  0.098834   0.098834\n",
       "8      age -0.60  26.812898 -0.095480  >$50k  0.113075  0.113075   0.113075\n",
       "9      age -0.55  27.789510 -0.082677  >$50k  0.126831  0.126831   0.126831\n",
       "10     age -0.50  28.766122 -0.071457  >$50k  0.140052  0.140052   0.140052\n",
       "11     age -0.45  29.742734 -0.061469  >$50k  0.152705  0.152705   0.152705\n",
       "12     age -0.40  30.719347 -0.052458  >$50k  0.164771  0.164771   0.164771\n",
       "13     age -0.35  31.695959 -0.044236  >$50k  0.176240  0.176240   0.176240\n",
       "14     age -0.30  32.672571 -0.036661  >$50k  0.187105  0.187105   0.187105\n",
       "15     age -0.25  33.649183 -0.029623  >$50k  0.197363  0.197363   0.197363\n",
       "16     age -0.20  34.625795 -0.023036  >$50k  0.207013  0.207013   0.207013\n",
       "17     age -0.15  35.602408 -0.016831  >$50k  0.216057  0.216057   0.216057\n",
       "18     age -0.10  36.579020 -0.010953  >$50k  0.224497  0.224497   0.224497\n",
       "19     age -0.05  37.555632 -0.005355  >$50k  0.232333  0.232333   0.232333\n",
       "20     age  0.00  38.532244  0.000000  >$50k  0.239571  0.239571   0.239571\n",
       "21     age  0.05  39.755632  0.006413  >$50k  0.247797  0.247797   0.247797\n",
       "22     age  0.10  40.979020  0.012546  >$50k  0.255097  0.255097   0.255097\n",
       "23     age  0.15  42.202408  0.018442  >$50k  0.261480  0.261480   0.261480\n",
       "24     age  0.20  43.425795  0.024135  >$50k  0.266956  0.266956   0.266956\n",
       "25     age  0.25  44.649183  0.029655  >$50k  0.271539  0.271539   0.271539\n",
       "26     age  0.30  45.872571  0.035028  >$50k  0.275244  0.275244   0.275244\n",
       "27     age  0.35  47.095959  0.040274  >$50k  0.278086  0.278086   0.278086\n",
       "28     age  0.40  48.319347  0.045414  >$50k  0.280084  0.280084   0.280084\n",
       "29     age  0.45  49.542734  0.050464  >$50k  0.281260  0.281260   0.281260\n",
       "30     age  0.50  50.766122  0.055437  >$50k  0.281637  0.281637   0.281637\n",
       "31     age  0.55  51.989510  0.060349  >$50k  0.281242  0.281242   0.281242\n",
       "32     age  0.60  53.212898  0.065211  >$50k  0.280102  0.280102   0.280102\n",
       "33     age  0.65  54.436285  0.070036  >$50k  0.278247  0.278247   0.278247\n",
       "34     age  0.70  55.659673  0.074833  >$50k  0.275712  0.275712   0.275712\n",
       "35     age  0.75  56.883061  0.079614  >$50k  0.272529  0.272529   0.272529\n",
       "36     age  0.80  58.106449  0.084391  >$50k  0.268736  0.268736   0.268736\n",
       "37     age  0.85  59.329837  0.089173  >$50k  0.264369  0.264369   0.264369\n",
       "38     age  0.90  60.553224  0.093974  >$50k  0.259465  0.259465   0.259465\n",
       "39     age  0.95  61.776612  0.098804  >$50k  0.254065  0.254065   0.254065\n",
       "40     age  1.00  63.000000  0.103678  >$50k  0.248205  0.248205   0.248205"
      ]
     },
     "execution_count": 85,
     "metadata": {},
     "output_type": "execute_result"
    }
   ],
   "source": [
    "cache_explainer = ethik.ClassificationExplainer(memoize=True)\n",
    "cache_explainer.explain_bias(\n",
    "    X_test=X_test[\"age\"],\n",
    "    y_pred=y_pred\n",
    ")"
   ]
  },
  {
   "cell_type": "code",
   "execution_count": 86,
   "metadata": {
    "scrolled": true
   },
   "outputs": [
    {
     "ename": "KeyError",
     "evalue": "'age'",
     "output_type": "error",
     "traceback": [
      "\u001b[0;31m---------------------------------------------------------------------------\u001b[0m",
      "\u001b[0;31mKeyError\u001b[0m                                  Traceback (most recent call last)",
      "\u001b[0;32m~/.local/share/virtualenvs/ethik/lib/python3.7/site-packages/pandas-0.25.1-py3.7-linux-x86_64.egg/pandas/core/indexes/base.py\u001b[0m in \u001b[0;36mget_loc\u001b[0;34m(self, key, method, tolerance)\u001b[0m\n\u001b[1;32m   2896\u001b[0m             \u001b[0;32mtry\u001b[0m\u001b[0;34m:\u001b[0m\u001b[0;34m\u001b[0m\u001b[0;34m\u001b[0m\u001b[0m\n\u001b[0;32m-> 2897\u001b[0;31m                 \u001b[0;32mreturn\u001b[0m \u001b[0mself\u001b[0m\u001b[0;34m.\u001b[0m\u001b[0m_engine\u001b[0m\u001b[0;34m.\u001b[0m\u001b[0mget_loc\u001b[0m\u001b[0;34m(\u001b[0m\u001b[0mkey\u001b[0m\u001b[0;34m)\u001b[0m\u001b[0;34m\u001b[0m\u001b[0;34m\u001b[0m\u001b[0m\n\u001b[0m\u001b[1;32m   2898\u001b[0m             \u001b[0;32mexcept\u001b[0m \u001b[0mKeyError\u001b[0m\u001b[0;34m:\u001b[0m\u001b[0;34m\u001b[0m\u001b[0;34m\u001b[0m\u001b[0m\n",
      "\u001b[0;32mpandas/_libs/index.pyx\u001b[0m in \u001b[0;36mpandas._libs.index.IndexEngine.get_loc\u001b[0;34m()\u001b[0m\n",
      "\u001b[0;32mpandas/_libs/index.pyx\u001b[0m in \u001b[0;36mpandas._libs.index.IndexEngine.get_loc\u001b[0;34m()\u001b[0m\n",
      "\u001b[0;32mpandas/_libs/hashtable_class_helper.pxi\u001b[0m in \u001b[0;36mpandas._libs.hashtable.PyObjectHashTable.get_item\u001b[0;34m()\u001b[0m\n",
      "\u001b[0;32mpandas/_libs/hashtable_class_helper.pxi\u001b[0m in \u001b[0;36mpandas._libs.hashtable.PyObjectHashTable.get_item\u001b[0;34m()\u001b[0m\n",
      "\u001b[0;31mKeyError\u001b[0m: 'age'",
      "\nDuring handling of the above exception, another exception occurred:\n",
      "\u001b[0;31mKeyError\u001b[0m                                  Traceback (most recent call last)",
      "\u001b[0;32m<ipython-input-86-1740f34c1a58>\u001b[0m in \u001b[0;36m<module>\u001b[0;34m\u001b[0m\n\u001b[1;32m      1\u001b[0m cache_explainer.explain_bias(\n\u001b[1;32m      2\u001b[0m     \u001b[0mX_test\u001b[0m\u001b[0;34m=\u001b[0m\u001b[0mX_test\u001b[0m\u001b[0;34m[\u001b[0m\u001b[0;34m\"education-num\"\u001b[0m\u001b[0;34m]\u001b[0m\u001b[0;34m,\u001b[0m\u001b[0;34m\u001b[0m\u001b[0;34m\u001b[0m\u001b[0m\n\u001b[0;32m----> 3\u001b[0;31m     \u001b[0my_pred\u001b[0m\u001b[0;34m=\u001b[0m\u001b[0my_pred\u001b[0m\u001b[0;34m\u001b[0m\u001b[0;34m\u001b[0m\u001b[0m\n\u001b[0m\u001b[1;32m      4\u001b[0m )\n",
      "\u001b[0;32m~/Documents/ethik/ethik/explainer.py\u001b[0m in \u001b[0;36mexplain_bias\u001b[0;34m(self, X_test, y_pred)\u001b[0m\n\u001b[1;32m    510\u001b[0m             \u001b[0mdest_col\u001b[0m\u001b[0;34m=\u001b[0m\u001b[0;34m\"bias\"\u001b[0m\u001b[0;34m,\u001b[0m\u001b[0;34m\u001b[0m\u001b[0;34m\u001b[0m\u001b[0m\n\u001b[1;32m    511\u001b[0m             \u001b[0mkey_cols\u001b[0m\u001b[0;34m=\u001b[0m\u001b[0;34m[\u001b[0m\u001b[0;34m\"feature\"\u001b[0m\u001b[0;34m,\u001b[0m \u001b[0;34m\"label\"\u001b[0m\u001b[0;34m,\u001b[0m \u001b[0;34m\"lambda\"\u001b[0m\u001b[0;34m]\u001b[0m\u001b[0;34m,\u001b[0m\u001b[0;34m\u001b[0m\u001b[0;34m\u001b[0m\u001b[0m\n\u001b[0;32m--> 512\u001b[0;31m             \u001b[0mcompute\u001b[0m\u001b[0;34m=\u001b[0m\u001b[0mcompute\u001b[0m\u001b[0;34m,\u001b[0m\u001b[0;34m\u001b[0m\u001b[0;34m\u001b[0m\u001b[0m\n\u001b[0m\u001b[1;32m    513\u001b[0m         )\n\u001b[1;32m    514\u001b[0m \u001b[0;34m\u001b[0m\u001b[0m\n",
      "\u001b[0;32m~/Documents/ethik/ethik/explainer.py\u001b[0m in \u001b[0;36m_explain\u001b[0;34m(self, X_test, y_pred, dest_col, key_cols, compute)\u001b[0m\n\u001b[1;32m    361\u001b[0m \u001b[0;34m\u001b[0m\u001b[0m\n\u001b[1;32m    362\u001b[0m         \u001b[0;31m# Find the lambda values for each (feature, tau, label) triplet\u001b[0m\u001b[0;34m\u001b[0m\u001b[0;34m\u001b[0m\u001b[0;34m\u001b[0m\u001b[0m\n\u001b[0;32m--> 363\u001b[0;31m         \u001b[0mself\u001b[0m\u001b[0;34m.\u001b[0m\u001b[0m_find_lambdas\u001b[0m\u001b[0;34m(\u001b[0m\u001b[0mX_test\u001b[0m\u001b[0;34m,\u001b[0m \u001b[0my_pred\u001b[0m\u001b[0;34m)\u001b[0m\u001b[0;34m\u001b[0m\u001b[0;34m\u001b[0m\u001b[0m\n\u001b[0m\u001b[1;32m    364\u001b[0m \u001b[0;34m\u001b[0m\u001b[0m\n\u001b[1;32m    365\u001b[0m         \u001b[0;31m# One-hot encode the categorical variables\u001b[0m\u001b[0;34m\u001b[0m\u001b[0;34m\u001b[0m\u001b[0;34m\u001b[0m\u001b[0m\n",
      "\u001b[0;32m~/Documents/ethik/ethik/explainer.py\u001b[0m in \u001b[0;36m_find_lambdas\u001b[0;34m(self, X_test, y_pred)\u001b[0m\n\u001b[1;32m    331\u001b[0m                 \u001b[0mtol\u001b[0m\u001b[0;34m=\u001b[0m\u001b[0mself\u001b[0m\u001b[0;34m.\u001b[0m\u001b[0mtol\u001b[0m\u001b[0;34m,\u001b[0m\u001b[0;34m\u001b[0m\u001b[0;34m\u001b[0m\u001b[0m\n\u001b[1;32m    332\u001b[0m             )\n\u001b[0;32m--> 333\u001b[0;31m             \u001b[0;32mfor\u001b[0m \u001b[0mfeature\u001b[0m\u001b[0;34m,\u001b[0m \u001b[0mpart\u001b[0m \u001b[0;32min\u001b[0m \u001b[0mself\u001b[0m\u001b[0;34m.\u001b[0m\u001b[0minfo\u001b[0m\u001b[0;34m.\u001b[0m\u001b[0mgroupby\u001b[0m\u001b[0;34m(\u001b[0m\u001b[0;34m\"feature\"\u001b[0m\u001b[0;34m)\u001b[0m\u001b[0;34m\u001b[0m\u001b[0;34m\u001b[0m\u001b[0m\n\u001b[0m\u001b[1;32m    334\u001b[0m         )\n\u001b[1;32m    335\u001b[0m         \u001b[0mlambdas\u001b[0m \u001b[0;34m=\u001b[0m \u001b[0mdict\u001b[0m\u001b[0;34m(\u001b[0m\u001b[0mcollections\u001b[0m\u001b[0;34m.\u001b[0m\u001b[0mChainMap\u001b[0m\u001b[0;34m(\u001b[0m\u001b[0;34m*\u001b[0m\u001b[0mlambdas\u001b[0m\u001b[0;34m)\u001b[0m\u001b[0;34m)\u001b[0m\u001b[0;34m\u001b[0m\u001b[0;34m\u001b[0m\u001b[0m\n",
      "\u001b[0;32m~/.local/share/virtualenvs/ethik/lib/python3.7/site-packages/joblib-0.13.2-py3.7.egg/joblib/parallel.py\u001b[0m in \u001b[0;36m__call__\u001b[0;34m(self, iterable)\u001b[0m\n\u001b[1;32m    919\u001b[0m             \u001b[0;31m# remaining jobs.\u001b[0m\u001b[0;34m\u001b[0m\u001b[0;34m\u001b[0m\u001b[0;34m\u001b[0m\u001b[0m\n\u001b[1;32m    920\u001b[0m             \u001b[0mself\u001b[0m\u001b[0;34m.\u001b[0m\u001b[0m_iterating\u001b[0m \u001b[0;34m=\u001b[0m \u001b[0;32mFalse\u001b[0m\u001b[0;34m\u001b[0m\u001b[0;34m\u001b[0m\u001b[0m\n\u001b[0;32m--> 921\u001b[0;31m             \u001b[0;32mif\u001b[0m \u001b[0mself\u001b[0m\u001b[0;34m.\u001b[0m\u001b[0mdispatch_one_batch\u001b[0m\u001b[0;34m(\u001b[0m\u001b[0miterator\u001b[0m\u001b[0;34m)\u001b[0m\u001b[0;34m:\u001b[0m\u001b[0;34m\u001b[0m\u001b[0;34m\u001b[0m\u001b[0m\n\u001b[0m\u001b[1;32m    922\u001b[0m                 \u001b[0mself\u001b[0m\u001b[0;34m.\u001b[0m\u001b[0m_iterating\u001b[0m \u001b[0;34m=\u001b[0m \u001b[0mself\u001b[0m\u001b[0;34m.\u001b[0m\u001b[0m_original_iterator\u001b[0m \u001b[0;32mis\u001b[0m \u001b[0;32mnot\u001b[0m \u001b[0;32mNone\u001b[0m\u001b[0;34m\u001b[0m\u001b[0;34m\u001b[0m\u001b[0m\n\u001b[1;32m    923\u001b[0m \u001b[0;34m\u001b[0m\u001b[0m\n",
      "\u001b[0;32m~/.local/share/virtualenvs/ethik/lib/python3.7/site-packages/joblib-0.13.2-py3.7.egg/joblib/parallel.py\u001b[0m in \u001b[0;36mdispatch_one_batch\u001b[0;34m(self, iterator)\u001b[0m\n\u001b[1;32m    752\u001b[0m             tasks = BatchedCalls(itertools.islice(iterator, batch_size),\n\u001b[1;32m    753\u001b[0m                                  \u001b[0mself\u001b[0m\u001b[0;34m.\u001b[0m\u001b[0m_backend\u001b[0m\u001b[0;34m.\u001b[0m\u001b[0mget_nested_backend\u001b[0m\u001b[0;34m(\u001b[0m\u001b[0;34m)\u001b[0m\u001b[0;34m,\u001b[0m\u001b[0;34m\u001b[0m\u001b[0;34m\u001b[0m\u001b[0m\n\u001b[0;32m--> 754\u001b[0;31m                                  self._pickle_cache)\n\u001b[0m\u001b[1;32m    755\u001b[0m             \u001b[0;32mif\u001b[0m \u001b[0mlen\u001b[0m\u001b[0;34m(\u001b[0m\u001b[0mtasks\u001b[0m\u001b[0;34m)\u001b[0m \u001b[0;34m==\u001b[0m \u001b[0;36m0\u001b[0m\u001b[0;34m:\u001b[0m\u001b[0;34m\u001b[0m\u001b[0;34m\u001b[0m\u001b[0m\n\u001b[1;32m    756\u001b[0m                 \u001b[0;31m# No more tasks available in the iterator: tell caller to stop.\u001b[0m\u001b[0;34m\u001b[0m\u001b[0;34m\u001b[0m\u001b[0;34m\u001b[0m\u001b[0m\n",
      "\u001b[0;32m~/.local/share/virtualenvs/ethik/lib/python3.7/site-packages/joblib-0.13.2-py3.7.egg/joblib/parallel.py\u001b[0m in \u001b[0;36m__init__\u001b[0;34m(self, iterator_slice, backend_and_jobs, pickle_cache)\u001b[0m\n\u001b[1;32m    208\u001b[0m \u001b[0;34m\u001b[0m\u001b[0m\n\u001b[1;32m    209\u001b[0m     \u001b[0;32mdef\u001b[0m \u001b[0m__init__\u001b[0m\u001b[0;34m(\u001b[0m\u001b[0mself\u001b[0m\u001b[0;34m,\u001b[0m \u001b[0miterator_slice\u001b[0m\u001b[0;34m,\u001b[0m \u001b[0mbackend_and_jobs\u001b[0m\u001b[0;34m,\u001b[0m \u001b[0mpickle_cache\u001b[0m\u001b[0;34m=\u001b[0m\u001b[0;32mNone\u001b[0m\u001b[0;34m)\u001b[0m\u001b[0;34m:\u001b[0m\u001b[0;34m\u001b[0m\u001b[0;34m\u001b[0m\u001b[0m\n\u001b[0;32m--> 210\u001b[0;31m         \u001b[0mself\u001b[0m\u001b[0;34m.\u001b[0m\u001b[0mitems\u001b[0m \u001b[0;34m=\u001b[0m \u001b[0mlist\u001b[0m\u001b[0;34m(\u001b[0m\u001b[0miterator_slice\u001b[0m\u001b[0;34m)\u001b[0m\u001b[0;34m\u001b[0m\u001b[0;34m\u001b[0m\u001b[0m\n\u001b[0m\u001b[1;32m    211\u001b[0m         \u001b[0mself\u001b[0m\u001b[0;34m.\u001b[0m\u001b[0m_size\u001b[0m \u001b[0;34m=\u001b[0m \u001b[0mlen\u001b[0m\u001b[0;34m(\u001b[0m\u001b[0mself\u001b[0m\u001b[0;34m.\u001b[0m\u001b[0mitems\u001b[0m\u001b[0;34m)\u001b[0m\u001b[0;34m\u001b[0m\u001b[0;34m\u001b[0m\u001b[0m\n\u001b[1;32m    212\u001b[0m         \u001b[0;32mif\u001b[0m \u001b[0misinstance\u001b[0m\u001b[0;34m(\u001b[0m\u001b[0mbackend_and_jobs\u001b[0m\u001b[0;34m,\u001b[0m \u001b[0mtuple\u001b[0m\u001b[0;34m)\u001b[0m\u001b[0;34m:\u001b[0m\u001b[0;34m\u001b[0m\u001b[0;34m\u001b[0m\u001b[0m\n",
      "\u001b[0;32m~/Documents/ethik/ethik/explainer.py\u001b[0m in \u001b[0;36m<genexpr>\u001b[0;34m(.0)\u001b[0m\n\u001b[1;32m    331\u001b[0m                 \u001b[0mtol\u001b[0m\u001b[0;34m=\u001b[0m\u001b[0mself\u001b[0m\u001b[0;34m.\u001b[0m\u001b[0mtol\u001b[0m\u001b[0;34m,\u001b[0m\u001b[0;34m\u001b[0m\u001b[0;34m\u001b[0m\u001b[0m\n\u001b[1;32m    332\u001b[0m             )\n\u001b[0;32m--> 333\u001b[0;31m             \u001b[0;32mfor\u001b[0m \u001b[0mfeature\u001b[0m\u001b[0;34m,\u001b[0m \u001b[0mpart\u001b[0m \u001b[0;32min\u001b[0m \u001b[0mself\u001b[0m\u001b[0;34m.\u001b[0m\u001b[0minfo\u001b[0m\u001b[0;34m.\u001b[0m\u001b[0mgroupby\u001b[0m\u001b[0;34m(\u001b[0m\u001b[0;34m\"feature\"\u001b[0m\u001b[0;34m)\u001b[0m\u001b[0;34m\u001b[0m\u001b[0;34m\u001b[0m\u001b[0m\n\u001b[0m\u001b[1;32m    334\u001b[0m         )\n\u001b[1;32m    335\u001b[0m         \u001b[0mlambdas\u001b[0m \u001b[0;34m=\u001b[0m \u001b[0mdict\u001b[0m\u001b[0;34m(\u001b[0m\u001b[0mcollections\u001b[0m\u001b[0;34m.\u001b[0m\u001b[0mChainMap\u001b[0m\u001b[0;34m(\u001b[0m\u001b[0;34m*\u001b[0m\u001b[0mlambdas\u001b[0m\u001b[0;34m)\u001b[0m\u001b[0;34m)\u001b[0m\u001b[0;34m\u001b[0m\u001b[0;34m\u001b[0m\u001b[0m\n",
      "\u001b[0;32m~/.local/share/virtualenvs/ethik/lib/python3.7/site-packages/pandas-0.25.1-py3.7-linux-x86_64.egg/pandas/core/frame.py\u001b[0m in \u001b[0;36m__getitem__\u001b[0;34m(self, key)\u001b[0m\n\u001b[1;32m   2978\u001b[0m             \u001b[0;32mif\u001b[0m \u001b[0mself\u001b[0m\u001b[0;34m.\u001b[0m\u001b[0mcolumns\u001b[0m\u001b[0;34m.\u001b[0m\u001b[0mnlevels\u001b[0m \u001b[0;34m>\u001b[0m \u001b[0;36m1\u001b[0m\u001b[0;34m:\u001b[0m\u001b[0;34m\u001b[0m\u001b[0;34m\u001b[0m\u001b[0m\n\u001b[1;32m   2979\u001b[0m                 \u001b[0;32mreturn\u001b[0m \u001b[0mself\u001b[0m\u001b[0;34m.\u001b[0m\u001b[0m_getitem_multilevel\u001b[0m\u001b[0;34m(\u001b[0m\u001b[0mkey\u001b[0m\u001b[0;34m)\u001b[0m\u001b[0;34m\u001b[0m\u001b[0;34m\u001b[0m\u001b[0m\n\u001b[0;32m-> 2980\u001b[0;31m             \u001b[0mindexer\u001b[0m \u001b[0;34m=\u001b[0m \u001b[0mself\u001b[0m\u001b[0;34m.\u001b[0m\u001b[0mcolumns\u001b[0m\u001b[0;34m.\u001b[0m\u001b[0mget_loc\u001b[0m\u001b[0;34m(\u001b[0m\u001b[0mkey\u001b[0m\u001b[0;34m)\u001b[0m\u001b[0;34m\u001b[0m\u001b[0;34m\u001b[0m\u001b[0m\n\u001b[0m\u001b[1;32m   2981\u001b[0m             \u001b[0;32mif\u001b[0m \u001b[0mis_integer\u001b[0m\u001b[0;34m(\u001b[0m\u001b[0mindexer\u001b[0m\u001b[0;34m)\u001b[0m\u001b[0;34m:\u001b[0m\u001b[0;34m\u001b[0m\u001b[0;34m\u001b[0m\u001b[0m\n\u001b[1;32m   2982\u001b[0m                 \u001b[0mindexer\u001b[0m \u001b[0;34m=\u001b[0m \u001b[0;34m[\u001b[0m\u001b[0mindexer\u001b[0m\u001b[0;34m]\u001b[0m\u001b[0;34m\u001b[0m\u001b[0;34m\u001b[0m\u001b[0m\n",
      "\u001b[0;32m~/.local/share/virtualenvs/ethik/lib/python3.7/site-packages/pandas-0.25.1-py3.7-linux-x86_64.egg/pandas/core/indexes/base.py\u001b[0m in \u001b[0;36mget_loc\u001b[0;34m(self, key, method, tolerance)\u001b[0m\n\u001b[1;32m   2897\u001b[0m                 \u001b[0;32mreturn\u001b[0m \u001b[0mself\u001b[0m\u001b[0;34m.\u001b[0m\u001b[0m_engine\u001b[0m\u001b[0;34m.\u001b[0m\u001b[0mget_loc\u001b[0m\u001b[0;34m(\u001b[0m\u001b[0mkey\u001b[0m\u001b[0;34m)\u001b[0m\u001b[0;34m\u001b[0m\u001b[0;34m\u001b[0m\u001b[0m\n\u001b[1;32m   2898\u001b[0m             \u001b[0;32mexcept\u001b[0m \u001b[0mKeyError\u001b[0m\u001b[0;34m:\u001b[0m\u001b[0;34m\u001b[0m\u001b[0;34m\u001b[0m\u001b[0m\n\u001b[0;32m-> 2899\u001b[0;31m                 \u001b[0;32mreturn\u001b[0m \u001b[0mself\u001b[0m\u001b[0;34m.\u001b[0m\u001b[0m_engine\u001b[0m\u001b[0;34m.\u001b[0m\u001b[0mget_loc\u001b[0m\u001b[0;34m(\u001b[0m\u001b[0mself\u001b[0m\u001b[0;34m.\u001b[0m\u001b[0m_maybe_cast_indexer\u001b[0m\u001b[0;34m(\u001b[0m\u001b[0mkey\u001b[0m\u001b[0;34m)\u001b[0m\u001b[0;34m)\u001b[0m\u001b[0;34m\u001b[0m\u001b[0;34m\u001b[0m\u001b[0m\n\u001b[0m\u001b[1;32m   2900\u001b[0m         \u001b[0mindexer\u001b[0m \u001b[0;34m=\u001b[0m \u001b[0mself\u001b[0m\u001b[0;34m.\u001b[0m\u001b[0mget_indexer\u001b[0m\u001b[0;34m(\u001b[0m\u001b[0;34m[\u001b[0m\u001b[0mkey\u001b[0m\u001b[0;34m]\u001b[0m\u001b[0;34m,\u001b[0m \u001b[0mmethod\u001b[0m\u001b[0;34m=\u001b[0m\u001b[0mmethod\u001b[0m\u001b[0;34m,\u001b[0m \u001b[0mtolerance\u001b[0m\u001b[0;34m=\u001b[0m\u001b[0mtolerance\u001b[0m\u001b[0;34m)\u001b[0m\u001b[0;34m\u001b[0m\u001b[0;34m\u001b[0m\u001b[0m\n\u001b[1;32m   2901\u001b[0m         \u001b[0;32mif\u001b[0m \u001b[0mindexer\u001b[0m\u001b[0;34m.\u001b[0m\u001b[0mndim\u001b[0m \u001b[0;34m>\u001b[0m \u001b[0;36m1\u001b[0m \u001b[0;32mor\u001b[0m \u001b[0mindexer\u001b[0m\u001b[0;34m.\u001b[0m\u001b[0msize\u001b[0m \u001b[0;34m>\u001b[0m \u001b[0;36m1\u001b[0m\u001b[0;34m:\u001b[0m\u001b[0;34m\u001b[0m\u001b[0;34m\u001b[0m\u001b[0m\n",
      "\u001b[0;32mpandas/_libs/index.pyx\u001b[0m in \u001b[0;36mpandas._libs.index.IndexEngine.get_loc\u001b[0;34m()\u001b[0m\n",
      "\u001b[0;32mpandas/_libs/index.pyx\u001b[0m in \u001b[0;36mpandas._libs.index.IndexEngine.get_loc\u001b[0;34m()\u001b[0m\n",
      "\u001b[0;32mpandas/_libs/hashtable_class_helper.pxi\u001b[0m in \u001b[0;36mpandas._libs.hashtable.PyObjectHashTable.get_item\u001b[0;34m()\u001b[0m\n",
      "\u001b[0;32mpandas/_libs/hashtable_class_helper.pxi\u001b[0m in \u001b[0;36mpandas._libs.hashtable.PyObjectHashTable.get_item\u001b[0;34m()\u001b[0m\n",
      "\u001b[0;31mKeyError\u001b[0m: 'age'"
     ]
    }
   ],
   "source": [
    "cache_explainer.explain_bias(\n",
    "    X_test=X_test[\"education-num\"],\n",
    "    y_pred=y_pred\n",
    ")"
   ]
  },
  {
   "cell_type": "markdown",
   "metadata": {},
   "source": [
    "`.explain_*()` filters the `.info` to return the queried features only. But internally, the results are appended to the dataframe:"
   ]
  },
  {
   "cell_type": "code",
   "execution_count": null,
   "metadata": {
    "scrolled": true
   },
   "outputs": [],
   "source": [
    "cache_explainer.info"
   ]
  },
  {
   "cell_type": "markdown",
   "metadata": {},
   "source": [
    "When we explain performance, columns are added to the `.info` to store the results:"
   ]
  },
  {
   "cell_type": "code",
   "execution_count": null,
   "metadata": {
    "scrolled": true
   },
   "outputs": [],
   "source": [
    "from sklearn import metrics\n",
    "\n",
    "cache_explainer.explain_performance(\n",
    "    X_test=X_test[\"age\"],\n",
    "    y_test=y_test,\n",
    "    y_pred=y_pred > 0.5,\n",
    "    metric=metrics.accuracy_score,\n",
    ")"
   ]
  },
  {
   "cell_type": "code",
   "execution_count": null,
   "metadata": {
    "scrolled": true
   },
   "outputs": [],
   "source": [
    "cache_explainer.explain_performance(\n",
    "    X_test=X_test[\"age\"],\n",
    "    y_test=y_test,\n",
    "    y_pred=y_pred,\n",
    "    metric=metrics.log_loss,\n",
    ")"
   ]
  },
  {
   "cell_type": "code",
   "execution_count": null,
   "metadata": {},
   "outputs": [],
   "source": []
  }
 ],
 "metadata": {
  "kernelspec": {
   "display_name": "ethik",
   "language": "python",
   "name": "ethik"
  },
  "language_info": {
   "codemirror_mode": {
    "name": "ipython",
    "version": 3
   },
   "file_extension": ".py",
   "mimetype": "text/x-python",
   "name": "python",
   "nbconvert_exporter": "python",
   "pygments_lexer": "ipython3",
   "version": "3.7.3"
  }
 },
 "nbformat": 4,
 "nbformat_minor": 2
}
