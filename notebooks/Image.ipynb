{
 "cells": [
  {
   "cell_type": "markdown",
   "metadata": {},
   "source": [
    "# MNIST digit classification"
   ]
  },
  {
   "cell_type": "markdown",
   "metadata": {},
   "source": [
    "We'll train a simple CNN on the MNIST dataset by copy/pasting [this example](https://keras.io/examples/mnist_cnn/) from the Keras documentation.\n",
    "\n",
    "First, we load the data:"
   ]
  },
  {
   "cell_type": "code",
   "execution_count": 1,
   "metadata": {
    "scrolled": true
   },
   "outputs": [
    {
     "name": "stderr",
     "output_type": "stream",
     "text": [
      "Using TensorFlow backend.\n",
      "/home/max/anaconda3/lib/python3.7/site-packages/tensorflow/python/framework/dtypes.py:516: FutureWarning:\n",
      "\n",
      "Passing (type, 1) or '1type' as a synonym of type is deprecated; in a future version of numpy, it will be understood as (type, (1,)) / '(1,)type'.\n",
      "\n",
      "/home/max/anaconda3/lib/python3.7/site-packages/tensorflow/python/framework/dtypes.py:517: FutureWarning:\n",
      "\n",
      "Passing (type, 1) or '1type' as a synonym of type is deprecated; in a future version of numpy, it will be understood as (type, (1,)) / '(1,)type'.\n",
      "\n",
      "/home/max/anaconda3/lib/python3.7/site-packages/tensorflow/python/framework/dtypes.py:518: FutureWarning:\n",
      "\n",
      "Passing (type, 1) or '1type' as a synonym of type is deprecated; in a future version of numpy, it will be understood as (type, (1,)) / '(1,)type'.\n",
      "\n",
      "/home/max/anaconda3/lib/python3.7/site-packages/tensorflow/python/framework/dtypes.py:519: FutureWarning:\n",
      "\n",
      "Passing (type, 1) or '1type' as a synonym of type is deprecated; in a future version of numpy, it will be understood as (type, (1,)) / '(1,)type'.\n",
      "\n",
      "/home/max/anaconda3/lib/python3.7/site-packages/tensorflow/python/framework/dtypes.py:520: FutureWarning:\n",
      "\n",
      "Passing (type, 1) or '1type' as a synonym of type is deprecated; in a future version of numpy, it will be understood as (type, (1,)) / '(1,)type'.\n",
      "\n",
      "/home/max/anaconda3/lib/python3.7/site-packages/tensorflow/python/framework/dtypes.py:525: FutureWarning:\n",
      "\n",
      "Passing (type, 1) or '1type' as a synonym of type is deprecated; in a future version of numpy, it will be understood as (type, (1,)) / '(1,)type'.\n",
      "\n",
      "/home/max/anaconda3/lib/python3.7/site-packages/tensorboard/compat/tensorflow_stub/dtypes.py:541: FutureWarning:\n",
      "\n",
      "Passing (type, 1) or '1type' as a synonym of type is deprecated; in a future version of numpy, it will be understood as (type, (1,)) / '(1,)type'.\n",
      "\n",
      "/home/max/anaconda3/lib/python3.7/site-packages/tensorboard/compat/tensorflow_stub/dtypes.py:542: FutureWarning:\n",
      "\n",
      "Passing (type, 1) or '1type' as a synonym of type is deprecated; in a future version of numpy, it will be understood as (type, (1,)) / '(1,)type'.\n",
      "\n",
      "/home/max/anaconda3/lib/python3.7/site-packages/tensorboard/compat/tensorflow_stub/dtypes.py:543: FutureWarning:\n",
      "\n",
      "Passing (type, 1) or '1type' as a synonym of type is deprecated; in a future version of numpy, it will be understood as (type, (1,)) / '(1,)type'.\n",
      "\n",
      "/home/max/anaconda3/lib/python3.7/site-packages/tensorboard/compat/tensorflow_stub/dtypes.py:544: FutureWarning:\n",
      "\n",
      "Passing (type, 1) or '1type' as a synonym of type is deprecated; in a future version of numpy, it will be understood as (type, (1,)) / '(1,)type'.\n",
      "\n",
      "/home/max/anaconda3/lib/python3.7/site-packages/tensorboard/compat/tensorflow_stub/dtypes.py:545: FutureWarning:\n",
      "\n",
      "Passing (type, 1) or '1type' as a synonym of type is deprecated; in a future version of numpy, it will be understood as (type, (1,)) / '(1,)type'.\n",
      "\n",
      "/home/max/anaconda3/lib/python3.7/site-packages/tensorboard/compat/tensorflow_stub/dtypes.py:550: FutureWarning:\n",
      "\n",
      "Passing (type, 1) or '1type' as a synonym of type is deprecated; in a future version of numpy, it will be understood as (type, (1,)) / '(1,)type'.\n",
      "\n"
     ]
    },
    {
     "name": "stdout",
     "output_type": "stream",
     "text": [
      "x_train shape: (60000, 28, 28, 1)\n",
      "60000 train samples\n",
      "10000 test samples\n"
     ]
    }
   ],
   "source": [
    "import ethik\n",
    "\n",
    "import keras\n",
    "from keras.datasets import mnist\n",
    "from keras.models import Sequential\n",
    "from keras.layers import Dense, Dropout, Flatten\n",
    "from keras.layers import Conv2D, MaxPooling2D\n",
    "from keras import backend as K\n",
    "\n",
    "import numpy as np\n",
    "\n",
    "batch_size = 128\n",
    "num_classes = 10\n",
    "epochs = 12\n",
    "\n",
    "# input image dimensions\n",
    "img_rows, img_cols = 28, 28\n",
    "\n",
    "# the data, split between train and test sets\n",
    "(x_train, y_train), (x_test, y_test) = mnist.load_data()\n",
    "\n",
    "if K.image_data_format() == 'channels_first':\n",
    "    x_train = x_train.reshape(x_train.shape[0], 1, img_rows, img_cols)\n",
    "    x_test = x_test.reshape(x_test.shape[0], 1, img_rows, img_cols)\n",
    "    input_shape = (1, img_rows, img_cols)\n",
    "else:\n",
    "    x_train = x_train.reshape(x_train.shape[0], img_rows, img_cols, 1)\n",
    "    x_test = x_test.reshape(x_test.shape[0], img_rows, img_cols, 1)\n",
    "    input_shape = (img_rows, img_cols, 1)\n",
    "\n",
    "x_train = x_train.astype('float32')\n",
    "x_test = x_test.astype('float32')\n",
    "x_train /= 255\n",
    "x_test /= 255\n",
    "print('x_train shape:', x_train.shape)\n",
    "print(x_train.shape[0], 'train samples')\n",
    "print(x_test.shape[0], 'test samples')\n",
    "\n",
    "# convert class vectors to binary class matrices\n",
    "y_train = keras.utils.to_categorical(y_train, num_classes)\n",
    "y_test = keras.utils.to_categorical(y_test, num_classes)"
   ]
  },
  {
   "cell_type": "markdown",
   "metadata": {},
   "source": [
    "# Model creation\n",
    "\n",
    "Now let's create the CNN:"
   ]
  },
  {
   "cell_type": "code",
   "execution_count": 2,
   "metadata": {},
   "outputs": [
    {
     "name": "stderr",
     "output_type": "stream",
     "text": [
      "WARNING: Logging before flag parsing goes to stderr.\n",
      "W1001 16:35:56.148334 140542907729728 deprecation_wrapper.py:119] From /home/max/anaconda3/lib/python3.7/site-packages/keras/backend/tensorflow_backend.py:74: The name tf.get_default_graph is deprecated. Please use tf.compat.v1.get_default_graph instead.\n",
      "\n",
      "W1001 16:35:56.159496 140542907729728 deprecation_wrapper.py:119] From /home/max/anaconda3/lib/python3.7/site-packages/keras/backend/tensorflow_backend.py:517: The name tf.placeholder is deprecated. Please use tf.compat.v1.placeholder instead.\n",
      "\n",
      "W1001 16:35:56.161484 140542907729728 deprecation_wrapper.py:119] From /home/max/anaconda3/lib/python3.7/site-packages/keras/backend/tensorflow_backend.py:4138: The name tf.random_uniform is deprecated. Please use tf.random.uniform instead.\n",
      "\n",
      "W1001 16:35:56.186977 140542907729728 deprecation_wrapper.py:119] From /home/max/anaconda3/lib/python3.7/site-packages/keras/backend/tensorflow_backend.py:3976: The name tf.nn.max_pool is deprecated. Please use tf.nn.max_pool2d instead.\n",
      "\n",
      "W1001 16:35:56.190556 140542907729728 deprecation_wrapper.py:119] From /home/max/anaconda3/lib/python3.7/site-packages/keras/backend/tensorflow_backend.py:133: The name tf.placeholder_with_default is deprecated. Please use tf.compat.v1.placeholder_with_default instead.\n",
      "\n",
      "W1001 16:35:56.199215 140542907729728 deprecation.py:506] From /home/max/anaconda3/lib/python3.7/site-packages/keras/backend/tensorflow_backend.py:3445: calling dropout (from tensorflow.python.ops.nn_ops) with keep_prob is deprecated and will be removed in a future version.\n",
      "Instructions for updating:\n",
      "Please use `rate` instead of `keep_prob`. Rate should be set to `rate = 1 - keep_prob`.\n",
      "W1001 16:35:56.271221 140542907729728 deprecation_wrapper.py:119] From /home/max/anaconda3/lib/python3.7/site-packages/keras/optimizers.py:790: The name tf.train.Optimizer is deprecated. Please use tf.compat.v1.train.Optimizer instead.\n",
      "\n",
      "W1001 16:35:56.277235 140542907729728 deprecation_wrapper.py:119] From /home/max/anaconda3/lib/python3.7/site-packages/keras/backend/tensorflow_backend.py:3295: The name tf.log is deprecated. Please use tf.math.log instead.\n",
      "\n"
     ]
    }
   ],
   "source": [
    "model = Sequential()\n",
    "model.add(Conv2D(32, kernel_size=(3, 3),\n",
    "                 activation='relu',\n",
    "                 input_shape=input_shape))\n",
    "model.add(Conv2D(64, (3, 3), activation='relu'))\n",
    "model.add(MaxPooling2D(pool_size=(2, 2)))\n",
    "model.add(Dropout(0.25))\n",
    "model.add(Flatten())\n",
    "model.add(Dense(128, activation='relu'))\n",
    "model.add(Dropout(0.5))\n",
    "model.add(Dense(num_classes, activation='softmax'))\n",
    "\n",
    "model.compile(loss=keras.losses.categorical_crossentropy,\n",
    "              optimizer=keras.optimizers.Adadelta(),\n",
    "              metrics=['accuracy'])"
   ]
  },
  {
   "cell_type": "code",
   "execution_count": 3,
   "metadata": {},
   "outputs": [],
   "source": [
    "def train(model):\n",
    "    model.fit(x_train, y_train,\n",
    "              batch_size=batch_size,\n",
    "              epochs=epochs,\n",
    "              verbose=1,\n",
    "              validation_data=(x_test, y_test))\n",
    "    \n",
    "    return model.evaluate(x_test, y_test, verbose=0)\n",
    "    \n",
    "def predict(model):\n",
    "    return model.predict_proba(x_test)"
   ]
  },
  {
   "cell_type": "markdown",
   "metadata": {},
   "source": [
    "Let's train the model and predict the class probabilities for the test set. Training and prediction steps take a lot of time so we use caching:"
   ]
  },
  {
   "cell_type": "code",
   "execution_count": 4,
   "metadata": {},
   "outputs": [],
   "source": [
    "# loss, accuracy = train(model)\n",
    "# y_pred = predict(model)\n",
    "# np.save(\"cache/mnist.npy\", y_pred)\n",
    "\n",
    "y_pred = np.load(\"cache/mnist.npy\")"
   ]
  },
  {
   "cell_type": "markdown",
   "metadata": {},
   "source": [
    "`y_pred` is a `(n_samples, n_features)` (i.e. `(n_samples, n_digits)`) numpy array of probabilities:"
   ]
  },
  {
   "cell_type": "code",
   "execution_count": 5,
   "metadata": {},
   "outputs": [
    {
     "data": {
      "text/plain": [
       "(10000, 10)"
      ]
     },
     "execution_count": 5,
     "metadata": {},
     "output_type": "execute_result"
    }
   ],
   "source": [
    "y_pred.shape"
   ]
  },
  {
   "cell_type": "code",
   "execution_count": 6,
   "metadata": {},
   "outputs": [
    {
     "data": {
      "text/plain": [
       "True"
      ]
     },
     "execution_count": 6,
     "metadata": {},
     "output_type": "execute_result"
    }
   ],
   "source": [
    "np.isclose(np.sum(y_pred[0]), 1)"
   ]
  },
  {
   "cell_type": "markdown",
   "metadata": {},
   "source": [
    "# Bias explanation\n",
    "\n",
    "Now, we have the data and can use `ethik` to explain it. There is one feature per pixel:"
   ]
  },
  {
   "cell_type": "code",
   "execution_count": 7,
   "metadata": {
    "scrolled": false
   },
   "outputs": [
    {
     "name": "stderr",
     "output_type": "stream",
     "text": [
      "100%|██████████| 14520/14520 [00:17<00:00, 848.11it/s]\n"
     ]
    }
   ],
   "source": [
    "explainer = ethik.ImageClassificationExplainer()\n",
    "fig = explainer.plot_bias(x_test, y_pred)\n",
    "\n",
    "\n",
    "fig.write_image(\"mnist_bias_explanation.svg\")"
   ]
  },
  {
   "cell_type": "markdown",
   "metadata": {},
   "source": [
    "The previous plot highlights the regions of importance for identifying each digit. More precisely, the intensity of each pixel corresponds to the probability increase of saturating or not the pixel. A value of 0.28 means that saturating the pixel increases the probability predicted by the model by 0.28. Note that we do not saturate and desaturate the pixels independently. Instead, our method understands which pixels are linked together and saturates them in a realistic manner. The previous images show that the CNN seems to be using the same visual cues as a human. However, we can see that is uses very specific regions on images to identify particular digits. For instance, the top-right region of an image seems to trigger the \"5\" digit, whereas the bottom parts of the images seem to be linked with the \"7\" digit."
   ]
  },
  {
   "cell_type": "markdown",
   "metadata": {},
   "source": [
    "# Performance explanation\n",
    "\n",
    "`y_test` is an array of `n_samples` one-hot-encoded vectors:"
   ]
  },
  {
   "cell_type": "code",
   "execution_count": 8,
   "metadata": {},
   "outputs": [
    {
     "data": {
      "text/plain": [
       "array([[0., 0., 0., ..., 1., 0., 0.],\n",
       "       [0., 0., 1., ..., 0., 0., 0.],\n",
       "       [0., 1., 0., ..., 0., 0., 0.],\n",
       "       ...,\n",
       "       [0., 0., 0., ..., 0., 0., 0.],\n",
       "       [0., 0., 0., ..., 0., 0., 0.],\n",
       "       [0., 0., 0., ..., 0., 0., 0.]], dtype=float32)"
      ]
     },
     "execution_count": 8,
     "metadata": {},
     "output_type": "execute_result"
    }
   ],
   "source": [
    "y_test"
   ]
  },
  {
   "cell_type": "markdown",
   "metadata": {},
   "source": [
    "To get the label, we use `.argmax()`:"
   ]
  },
  {
   "cell_type": "code",
   "execution_count": 9,
   "metadata": {},
   "outputs": [
    {
     "data": {
      "text/plain": [
       "array([7, 2, 1, ..., 4, 5, 6])"
      ]
     },
     "execution_count": 9,
     "metadata": {},
     "output_type": "execute_result"
    }
   ],
   "source": [
    "y_test.argmax(axis=1)"
   ]
  },
  {
   "cell_type": "markdown",
   "metadata": {},
   "source": [
    "Then we can explain the model performance with `ethik`. Because of `sklearn.metrics.accuracy_score()` API, we need to convert the prediction vectors into their corresponding label:"
   ]
  },
  {
   "cell_type": "code",
   "execution_count": 10,
   "metadata": {},
   "outputs": [
    {
     "name": "stderr",
     "output_type": "stream",
     "text": [
      "100%|██████████| 1452/1452 [00:02<00:00, 605.21it/s]\n"
     ]
    },
    {
     "data": {
      "application/vnd.plotly.v1+json": {
       "config": {
        "plotlyServerURL": "https://plot.ly"
       },
       "data": [
        {
         "colorscale": [
          [
           0,
           "rgb(103,0,31)"
          ],
          [
           0.1,
           "rgb(178,24,43)"
          ],
          [
           0.2,
           "rgb(214,96,77)"
          ],
          [
           0.3,
           "rgb(244,165,130)"
          ],
          [
           0.4,
           "rgb(253,219,199)"
          ],
          [
           0.5,
           "rgb(247,247,247)"
          ],
          [
           0.6,
           "rgb(209,229,240)"
          ],
          [
           0.7,
           "rgb(146,197,222)"
          ],
          [
           0.8,
           "rgb(67,147,195)"
          ],
          [
           0.9,
           "rgb(33,102,172)"
          ],
          [
           1,
           "rgb(5,48,97)"
          ]
         ],
         "hoverinfo": "x+y+z",
         "reversescale": true,
         "showscale": true,
         "type": "heatmap",
         "x": [
          0,
          1,
          2,
          3,
          4,
          5,
          6,
          7,
          8,
          9,
          10,
          11,
          12,
          13,
          14,
          15,
          16,
          17,
          18,
          19,
          20,
          21,
          22,
          23,
          24,
          25,
          26,
          27
         ],
         "y": [
          0,
          1,
          2,
          3,
          4,
          5,
          6,
          7,
          8,
          9,
          10,
          11,
          12,
          13,
          14,
          15,
          16,
          17,
          18,
          19,
          20,
          21,
          22,
          23,
          24,
          25,
          26,
          27
         ],
         "z": [
          [
           0,
           0,
           0,
           0,
           0,
           0,
           9.720817093494816e-07,
           1.4122909977043463e-06,
           2.3645277903439066e-06,
           3.945905817426265e-06,
           4.479274580138082e-06,
           6.58463471336912e-06,
           1.3547089224408282e-05,
           1.9275185234368664e-05,
           2.434762171699134e-05,
           2.4447152695561414e-05,
           1.746330749874403e-05,
           1.2219819193526327e-05,
           5.553836157967673e-06,
           4.474093549533542e-06,
           2.6254629805766427e-06,
           5.436897265731488e-07,
           0,
           0,
           0,
           0,
           0,
           0
          ],
          [
           0,
           0,
           0,
           0,
           7.406538379273186e-07,
           1.0861687393948216e-07,
           -5.852493200897424e-05,
           -3.9970277051715186e-05,
           1.1661821294195462e-06,
           7.02278294093528e-05,
           0.00012004962291756183,
           0.00025918624125631506,
           0.00034145154598130834,
           0.0002916288407820433,
           0.00024509562729280177,
           0.0001790979926028502,
           0.0001937657200364873,
           4.3044574181250184e-05,
           -2.4577076491505423e-05,
           4.567867890226118e-05,
           2.343931519577236e-05,
           1.153908018181049e-05,
           3.982899996368694e-06,
           1.4469217556323244e-06,
           7.927754247516461e-07,
           0,
           0,
           0
          ],
          [
           0,
           0,
           0,
           1.0177638049002624e-06,
           4.510714681771333e-06,
           1.1640032647641796e-05,
           -0.00015592322167723438,
           -0.00015752481214825753,
           9.253475633719255e-05,
           0.0005189843043027498,
           0.008562472909859342,
           0.008790597088700558,
           0.008788853040864297,
           -0.03125552199147685,
           -0.026958792136546728,
           0.008550823121437623,
           0.008702725194175143,
           -2.7226871517571638e-05,
           -4.2333032764241274e-05,
           3.7640196335342324e-05,
           4.024254269741068e-05,
           2.3817703613482344e-05,
           1.3620530880054105e-05,
           3.1517882020937193e-06,
           1.5501093151293333e-06,
           5.436897265731488e-07,
           0,
           0
          ],
          [
           0,
           0,
           0,
           3.158001709469005e-06,
           -6.857588442243934e-05,
           -3.354511794129156e-05,
           -0.00024295177369582088,
           -0.0008300166088115457,
           0.008947285016664419,
           -2.6600536867316116e-05,
           0.007379558697739208,
           0.004370150366603043,
           0.004057095829865354,
           0.0038965444096273893,
           -0.0008625867828431222,
           -0.0038708485269327575,
           -0.0017400448285062042,
           0.008273026449124643,
           0.00810471204027774,
           -0.00015881406369311346,
           -0.00016831853962029353,
           -0.00014841488362760114,
           -4.26930181207652e-06,
           6.3303263615477334e-06,
           1.802795146166325e-06,
           5.436897265731488e-07,
           0,
           0
          ],
          [
           0,
           5.436897265731488e-07,
           1.2967170802680172e-06,
           2.0584011292235083e-05,
           -0.00018246840534408282,
           -0.00025434047584294017,
           -0.050556890070439175,
           0.008635690395626172,
           0.0027288747154525783,
           0.00776812730778087,
           0.00768322984470915,
           0.003245664753853794,
           0.004853601391356044,
           0.0074442311943131445,
           0.004567577365379938,
           0.0011239907927048653,
           -0.0008075015138560016,
           -0.005451439933716551,
           0.007288096363633034,
           0.007313351014969771,
           -0.0012638725336167056,
           -0.0005285641772133642,
           -0.0003419873471102175,
           -9.77550938210392e-05,
           -2.935155380345833e-05,
           3.7134760462187444e-06,
           5.436897265731488e-07,
           0
          ],
          [
           0,
           0,
           4.550475953268851e-06,
           -1.2676538261868764e-05,
           -7.114771151506272e-05,
           -6.0282019876289894e-05,
           0.00863731245279764,
           -0.0005130415380014686,
           0.0026637542823637617,
           0.0036424223261398714,
           0.00815615800798175,
           0.0067049849560356645,
           0.004254945536020349,
           0.0034828134670079613,
           0.006270580868125153,
           0.0017536890477457545,
           0.0006198131847152677,
           -0.0029164380407584733,
           -0.00930610743343685,
           -0.012574517955740494,
           0.007607686573335326,
           -0.002071612520587185,
           -0.0004715523460809834,
           -0.00019990601506192363,
           -3.138829112581121e-05,
           6.312042199918544e-06,
           6.899942819327265e-07,
           0
          ],
          [
           0,
           0,
           1.3272056905710983e-05,
           -5.051574869519015e-07,
           -0.00011251921782262642,
           0.008611566688998984,
           0.0008477062797940249,
           0.003915988074299381,
           0.005900110464981956,
           0.001769093751702533,
           0.005430862586079277,
           0.0015699177810549747,
           -0.0014110361219565881,
           0.003585195640645522,
           0.004550594238528771,
           0.003976500477047562,
           -0.000956788819890364,
           0.0016185370277417288,
           -0.0022727931312860328,
           -0.00803259296061809,
           -0.011262501403544678,
           -0.045136254736918624,
           -0.0007427004875018017,
           -0.00015333335268241655,
           6.867266839294395e-06,
           1.5201503585693388e-05,
           1.5736123643028677e-06,
           0
          ],
          [
           0,
           5.436897265731488e-07,
           1.3397570498785427e-05,
           1.787946722398015e-05,
           -6.14876801550146e-05,
           0.008406079025735869,
           0.0038326793528244973,
           0.005092966569120505,
           0.004923846737050375,
           0.001807109153587394,
           0.0018277926624740148,
           -0.001699730948471645,
           -0.00028370899783558556,
           -0.0019590697671967305,
           -0.00025852659504521647,
           0.0014554622286209185,
           0.0020413835167938377,
           0.005832672822940088,
           0.00212215740401156,
           -0.0016789485000118232,
           -0.007068429593100167,
           -6.741019859901609e-05,
           0.008409069096451893,
           0.00012451920521583393,
           5.167595400779046e-05,
           3.781398406488279e-05,
           4.064994783448128e-06,
           0
          ],
          [
           0,
           5.436897265731488e-07,
           6.52992967087318e-06,
           1.1582169866741765e-05,
           -4.5102645083727744e-05,
           0.008534018203853022,
           0.002363981354182698,
           0.0024753406288674507,
           -6.68237505113689e-05,
           0.0024828505590224204,
           -0.0009232119026828522,
           -0.0019081442200016285,
           -0.0023761683448140225,
           -0.0022390081516753257,
           -0.0034894164221017654,
           -0.0021767271082611117,
           0.00017611871995881767,
           0.004078803641760276,
           0.004027479054436012,
           0.0016401810839958841,
           -0.0027096847076162334,
           -0.004155709318418355,
           0.00843152732188035,
           -0.00014476715386668726,
           5.362222052052168e-06,
           5.1974695457701614e-05,
           4.25531446812677e-06,
           5.436897265731488e-07
          ],
          [
           0,
           5.436897265731488e-07,
           6.716809733520179e-06,
           -1.0177559206847597e-05,
           3.1257307817278424e-05,
           -0.015220144336185015,
           0.00038207913188692544,
           -0.0011798228632281527,
           -0.002020279574564521,
           -0.0018786813273408143,
           0.0019133978276045793,
           -0.0014460806193065112,
           0.00011985066181841031,
           -0.004667334481219143,
           -0.002677318325265521,
           -0.005045096820531336,
           -0.003204271519747559,
           -0.001853368648861431,
           0.001416375214113863,
           -0.0028549466820331215,
           -0.001706550055254219,
           -0.0020692917832932922,
           0.008359033229359492,
           0.008282327514861798,
           -0.00016313988872518337,
           -6.143851761897245e-05,
           4.513077638379492e-06,
           5.436897265731488e-07
          ],
          [
           0,
           0,
           4.038473118361807e-06,
           -8.004314766107967e-06,
           -0.0002385893097714975,
           -0.034158333859032886,
           -4.562817205211456e-05,
           0.0018529755669122183,
           -3.2137269573628835e-05,
           -0.0003118007393317912,
           0.0029936713809766147,
           0.0010001856609860305,
           0.0010612365769950838,
           -0.0018142966924235004,
           -0.0023797652646152523,
           -0.004084516945008221,
           -0.0024325922191391625,
           -0.0009088913040188329,
           -0.0027623746325809995,
           -0.002313390391188719,
           -0.004287097077279145,
           -0.00301077509267611,
           -0.006582839070738422,
           0.007714270264951195,
           -0.0002666437121082721,
           -0.00018161601022770313,
           4.006471958306612e-06,
           1.2115727772155083e-06
          ],
          [
           0,
           5.436897265731488e-07,
           3.4211241579651386e-06,
           -5.7693343900266925e-05,
           -0.00023881555750948635,
           -0.013439984267858085,
           -0.0025518396027301993,
           0.0029954035461684514,
           0.002469883199635259,
           -0.0016919128687820084,
           0.0013282813609187816,
           0.0024952811050963364,
           0.0021195530916475747,
           0.001685775510080978,
           0.0013707803521394446,
           -0.0015313779256391769,
           -0.0028897183070879517,
           -0.005977355651916483,
           -0.002379975437371673,
           -0.006418135701903083,
           -0.003520949855865596,
           -0.004010777693038148,
           -0.01079354083288242,
           0.00782246642617257,
           -0.00032848709817190347,
           -0.0002050486804370255,
           2.884645378675721e-06,
           1.3729488076430485e-06
          ],
          [
           0,
           0,
           1.5840240571440845e-06,
           -7.783998261434721e-05,
           -0.00011806843483019858,
           0.008010080306499079,
           -0.005143624261748525,
           0.002173615641256399,
           0.0040695587578769565,
           -0.0018251587473484543,
           0.004379025497466382,
           0.00299621944490569,
           0.0030109165711004193,
           0.006053758732747272,
           0.002070584350830851,
           0.002486632490461438,
           -0.0015067008487655853,
           -0.0009160965621815009,
           -0.007805164859865932,
           -0.00673257792638704,
           -0.005546572697455399,
           -0.0074121671822326984,
           -0.0060948030961121,
           0.007768990170068157,
           -0.0004806390031326657,
           -0.00016944312903066638,
           2.12556499279426e-06,
           5.436897265731488e-07
          ],
          [
           0,
           0,
           1.5468172923638335e-06,
           -8.005595294391377e-05,
           -0.0001348765602990909,
           0.008095808963559992,
           -0.0070593718139504436,
           0.0014181572586319247,
           0.006927143556472837,
           0.004294272921892772,
           0.0019359079089694697,
           -0.0027149285309493454,
           0.004198251002397901,
           0.008487565455715496,
           0.0023171457778827786,
           0.0021481139952824746,
           -0.0009631924073553177,
           0.00012079299643441566,
           -0.003204449023114564,
           -0.0069529143443740615,
           -0.002646216864482853,
           -0.00839184382855196,
           -0.007193775919077883,
           -0.02331365125764273,
           -0.00012339020691043423,
           -0.00010185015202668346,
           1.803701365266086e-06,
           0
          ],
          [
           0,
           7.687051312155191e-07,
           3.5280178842800325e-06,
           -7.489137195293427e-05,
           -2.3102081106451955e-05,
           -0.0395219127406502,
           -0.005333369815210154,
           -0.0012287936117876264,
           0.003953856443786319,
           0.005406929987573972,
           0.0015326792626029206,
           -0.003352958245929516,
           -0.0015761739798975105,
           0.0051632474942985285,
           0.0018345108391899512,
           -0.0005059297380729522,
           0.0004237782986052929,
           0.0003485767092239467,
           -0.0013233892370178024,
           -0.002602160580312818,
           -0.0038347169227033184,
           -0.007666958205402974,
           -0.005904052556367723,
           -0.02621707455958644,
           4.730305250510991e-05,
           2.6368654047037587e-05,
           6.092631769094581e-07,
           0
          ],
          [
           0,
           1.217566472866416e-06,
           5.9979661967135556e-06,
           -6.098238335150441e-05,
           1.7213571644858483e-05,
           -0.050582775601060725,
           -0.028839104576294794,
           -0.0027607709774737366,
           0.0003609932136213745,
           0.00380608147455308,
           0.0027102108106648037,
           -0.007687243076595185,
           -0.0022197289395964326,
           0.0021259840814905617,
           0.0008817890542955897,
           -0.0030484792193073984,
           -0.00025471797554210696,
           0.0009010394366056884,
           0.0011074809713592648,
           -0.0012103172893721537,
           -0.0029518790067163403,
           -0.007408302701953917,
           -0.0052655416091854645,
           -0.03512892547263846,
           -0.00019533887799572103,
           -2.649914271157794e-05,
           -8.288039782700096e-06,
           0
          ],
          [
           5.436897265731488e-07,
           1.922428648493124e-06,
           1.3911163235347246e-05,
           -3.794577431015522e-05,
           -0.00017912329971503382,
           -0.0012799619292434006,
           -0.02537273805814111,
           -0.0013657587688565842,
           -0.002459219844809013,
           0.0019509509633028888,
           0.002901723712989357,
           -0.006218111815648353,
           -0.004948691674232175,
           -0.008104701906686107,
           -0.003279237585726791,
           -0.003962625762473304,
           -0.001986571664359449,
           -0.0011909934355865959,
           0.0048510825726150175,
           0.003788974432782144,
           0.0022169921758932176,
           -0.002857184184537842,
           -0.006812316401631602,
           0.008117933684708367,
           -0.00022166288041114424,
           -5.7615740311267594e-05,
           -6.601928853455785e-05,
           -6.877597748788933e-05
          ],
          [
           8.161235842685244e-07,
           3.266599367779399e-06,
           2.0067797150025157e-05,
           7.51708450185129e-05,
           -0.00023755608772091374,
           -0.0015451377039052971,
           0.008260838257230563,
           -0.003583786460051086,
           -0.00265705827246554,
           0.0007665695097037739,
           -0.00012070874864300585,
           -0.0013442406420368647,
           -0.0041691700109229846,
           -0.015185394613684178,
           -0.007132408226686482,
           -0.0024162647961255557,
           0.0009275182970873708,
           -0.0008958649176270539,
           0.004381429858589692,
           0.005857956742039927,
           0.003550496637615641,
           -0.0013703106542766186,
           -0.005903542581403243,
           0.00823251722017937,
           -0.00011338261991411525,
           6.237759098426388e-05,
           -1.5353257608263782e-05,
           -1.4761283887110288e-05
          ],
          [
           6.989389746969721e-07,
           4.7604679880297596e-06,
           1.8512247798141424e-05,
           9.019635870066711e-05,
           -0.0001312995686882923,
           -0.0010229787860619455,
           0.008293252754762337,
           -0.0019819084874229675,
           -0.0033110264942318723,
           -0.0017356907417861445,
           7.274221400610514e-05,
           -0.0006978500717652603,
           -0.0015346451104624181,
           -0.0022805269235691705,
           -0.005306497720886982,
           -0.0022142815668114713,
           -0.0044950380332393625,
           0.0008810978373292588,
           0.004204657383467314,
           0.005758690858355342,
           0.004697054949586832,
           -0.00025622011046122495,
           -0.0016894650925735055,
           0.008259733032966343,
           -4.862206476652364e-05,
           1.7962978194008272e-05,
           2.060225893363299e-05,
           2.0020457138780756e-06
          ],
          [
           0,
           2.4328072539825385e-06,
           1.565219395260886e-05,
           6.233949370459957e-05,
           -2.6599391049764165e-06,
           -0.00033580030509572367,
           -0.023986162385769227,
           -0.004714867247294863,
           -0.0030474969423096576,
           -0.00585860581185349,
           -0.002592559817903406,
           0.0029537921340236917,
           -0.0002704526006803709,
           -0.0015435864677562083,
           -0.0019109227366386206,
           -0.0007982886447287507,
           -0.002968377195131766,
           0.0011563514879530112,
           0.0049984055055362075,
           0.004055980751346389,
           0.0006602285832806309,
           0.000555301047579948,
           -0.0014332576554906273,
           0.008331082151972868,
           9.255371832506132e-05,
           5.204762289079401e-05,
           3.1839251545928704e-05,
           1.4437333315520107e-06
          ],
          [
           0,
           7.613967767383656e-07,
           4.606604851686846e-06,
           3.9778501770393326e-05,
           -7.419443469069975e-05,
           -0.0001589979713818579,
           -0.026068030874279335,
           -0.014355056585168557,
           -0.006007756793276142,
           -0.004459608152773797,
           -0.0038041921504866627,
           0.0013237255788391966,
           0.0016766183576673033,
           -0.00043005014420760546,
           0.003292741558375667,
           0.000277667492245115,
           0.003156578258672549,
           0.0036793394926021294,
           0.006810094196058825,
           0.005261474312509451,
           0.003591986931222535,
           0.0031727236158650696,
           0.00902922481015811,
           0.00882914967147963,
           0.00015025594392537034,
           5.0043797162224735e-05,
           2.467147985896201e-05,
           1.161229960966459e-06
          ],
          [
           0,
           0,
           9.89215816704636e-07,
           1.2365772834699307e-05,
           -5.805894850241522e-05,
           -0.00012134588711831817,
           -0.0002545389287536004,
           -0.04424098833739165,
           -9.323721426701681e-06,
           -0.0013383532926070085,
           -0.0007006723186187003,
           -0.0018517201612187062,
           0.0015819573444016966,
           -0.0004132787412918226,
           0.0017186498220458368,
           0.0007047195621315838,
           0.002264645893706674,
           0.0020173339209338392,
           0.0034545119418554204,
           0.0068566747370741865,
           0.005058886145555275,
           0.006476620985097492,
           0.009178993229385757,
           0.008815124511201033,
           0.00022513296208903633,
           8.500915693121502e-05,
           1.9067600580346955e-05,
           1.9486014941616503e-06
          ],
          [
           0,
           5.436897265731488e-07,
           6.332623382343527e-07,
           3.8091238047099907e-06,
           -6.784640608270553e-05,
           -1.4994323296990686e-05,
           -6.652286045394362e-05,
           -0.0003497652926833794,
           0.008076522699639432,
           -0.013058388636111529,
           -0.0021735888014956517,
           -0.0019451988383474283,
           -0.000742038819757096,
           0.00023964989793823221,
           0.0008428326976046563,
           0.003620441979332756,
           0.001710189018577224,
           0.004544365036371789,
           0.0075032351237092065,
           0.005180639501145778,
           -0.0005431420661854425,
           0.00920747244363962,
           0.008743321902139334,
           0.00010894418595930322,
           7.751017657109394e-05,
           -3.623563610055669e-05,
           8.41434445619793e-06,
           0
          ],
          [
           0,
           0,
           0,
           1.218286370119337e-06,
           -7.245215530859994e-07,
           -6.805150878952393e-05,
           -6.484877118928534e-05,
           -8.570421896747504e-05,
           -0.00021043691737510084,
           -0.08718470972529313,
           0.008003575355609804,
           0.008345981763583143,
           0.0025752723322227666,
           -0.00014647262315303777,
           -0.00020034428642035085,
           0.0002272172808436279,
           0.003185052541763378,
           0.0038193800324206606,
           0.004067614685516863,
           -0.010754230592856406,
           0.008571504303522381,
           0.00012868541633936914,
           -2.4056622458634713e-05,
           -7.552765466589673e-05,
           -5.442014705536735e-05,
           -5.747077981843596e-05,
           2.580359012571698e-06,
           0
          ],
          [
           0,
           0,
           0,
           0,
           9.725998429965799e-07,
           -2.9976440243384417e-05,
           -8.384448957554635e-05,
           -6.682407022062797e-05,
           6.877943254735008e-05,
           0.00014791726655027926,
           0.00025498221506059515,
           0.00034038633849620137,
           0.0014359039641802518,
           0.009000362713574517,
           0.009077091984226682,
           0.008940395189326877,
           0.008771312556650757,
           -4.456372862471358e-05,
           0.00028822486422386273,
           0.00015568859380743483,
           -2.3825289987566833e-06,
           -8.915570610923407e-05,
           -3.712339485995031e-05,
           -3.293549824379127e-05,
           -9.672095534596359e-06,
           1.6029698911568246e-06,
           5.436897265731488e-07,
           0
          ],
          [
           0,
           0,
           0,
           0,
           0,
           1.760027602215608e-06,
           2.9561082215412426e-06,
           4.940086252847031e-06,
           1.4542792861838016e-05,
           2.8174611233611202e-05,
           6.291565004190591e-05,
           0.00011598276673674413,
           0.0001506449051073,
           0.00010824408446341582,
           0.00010331803378405002,
           0.00011576045819750025,
           8.183114357007693e-05,
           4.5951660462395516e-05,
           5.035394267882687e-05,
           -2.769653909828751e-05,
           -5.200624858425762e-05,
           -3.2430671870753436e-05,
           5.759214797285139e-06,
           2.602542522600615e-06,
           5.436897265731488e-07,
           0,
           0,
           0
          ],
          [
           0,
           0,
           0,
           0,
           0,
           5.436897265731488e-07,
           5.436897265731488e-07,
           5.436897265731488e-07,
           1.0646656142254685e-06,
           1.990306294774591e-06,
           2.9843972734200364e-06,
           7.204477494027195e-06,
           1.204495581741405e-05,
           1.1751428216077997e-05,
           1.1871748102576518e-05,
           6.602817893108792e-06,
           3.759655765378511e-06,
           2.4177449836626508e-06,
           2.6104534199822282e-06,
           1.1473612403500866e-06,
           7.811002729063432e-07,
           0,
           0,
           0,
           0,
           0,
           0,
           0
          ],
          [
           0,
           0,
           0,
           0,
           0,
           0,
           0,
           0,
           0,
           0,
           0,
           0,
           0,
           0,
           0,
           0,
           0,
           0,
           0,
           0,
           0,
           0,
           0,
           0,
           0,
           0,
           0,
           0
          ]
         ],
         "zmax": 0.08718470972529313,
         "zmin": -0.08718470972529313,
         "zsmooth": "best"
        }
       ],
       "layout": {
        "height": 500,
        "margin": {
         "b": 20,
         "l": 20,
         "t": 20
        },
        "plot_bgcolor": "white",
        "template": {
         "data": {
          "bar": [
           {
            "error_x": {
             "color": "#2a3f5f"
            },
            "error_y": {
             "color": "#2a3f5f"
            },
            "marker": {
             "line": {
              "color": "#E5ECF6",
              "width": 0.5
             }
            },
            "type": "bar"
           }
          ],
          "barpolar": [
           {
            "marker": {
             "line": {
              "color": "#E5ECF6",
              "width": 0.5
             }
            },
            "type": "barpolar"
           }
          ],
          "carpet": [
           {
            "aaxis": {
             "endlinecolor": "#2a3f5f",
             "gridcolor": "white",
             "linecolor": "white",
             "minorgridcolor": "white",
             "startlinecolor": "#2a3f5f"
            },
            "baxis": {
             "endlinecolor": "#2a3f5f",
             "gridcolor": "white",
             "linecolor": "white",
             "minorgridcolor": "white",
             "startlinecolor": "#2a3f5f"
            },
            "type": "carpet"
           }
          ],
          "choropleth": [
           {
            "colorbar": {
             "outlinewidth": 0,
             "ticks": ""
            },
            "type": "choropleth"
           }
          ],
          "contour": [
           {
            "colorbar": {
             "outlinewidth": 0,
             "ticks": ""
            },
            "colorscale": [
             [
              0,
              "#0d0887"
             ],
             [
              0.1111111111111111,
              "#46039f"
             ],
             [
              0.2222222222222222,
              "#7201a8"
             ],
             [
              0.3333333333333333,
              "#9c179e"
             ],
             [
              0.4444444444444444,
              "#bd3786"
             ],
             [
              0.5555555555555556,
              "#d8576b"
             ],
             [
              0.6666666666666666,
              "#ed7953"
             ],
             [
              0.7777777777777778,
              "#fb9f3a"
             ],
             [
              0.8888888888888888,
              "#fdca26"
             ],
             [
              1,
              "#f0f921"
             ]
            ],
            "type": "contour"
           }
          ],
          "contourcarpet": [
           {
            "colorbar": {
             "outlinewidth": 0,
             "ticks": ""
            },
            "type": "contourcarpet"
           }
          ],
          "heatmap": [
           {
            "colorbar": {
             "outlinewidth": 0,
             "ticks": ""
            },
            "colorscale": [
             [
              0,
              "#0d0887"
             ],
             [
              0.1111111111111111,
              "#46039f"
             ],
             [
              0.2222222222222222,
              "#7201a8"
             ],
             [
              0.3333333333333333,
              "#9c179e"
             ],
             [
              0.4444444444444444,
              "#bd3786"
             ],
             [
              0.5555555555555556,
              "#d8576b"
             ],
             [
              0.6666666666666666,
              "#ed7953"
             ],
             [
              0.7777777777777778,
              "#fb9f3a"
             ],
             [
              0.8888888888888888,
              "#fdca26"
             ],
             [
              1,
              "#f0f921"
             ]
            ],
            "type": "heatmap"
           }
          ],
          "heatmapgl": [
           {
            "colorbar": {
             "outlinewidth": 0,
             "ticks": ""
            },
            "colorscale": [
             [
              0,
              "#0d0887"
             ],
             [
              0.1111111111111111,
              "#46039f"
             ],
             [
              0.2222222222222222,
              "#7201a8"
             ],
             [
              0.3333333333333333,
              "#9c179e"
             ],
             [
              0.4444444444444444,
              "#bd3786"
             ],
             [
              0.5555555555555556,
              "#d8576b"
             ],
             [
              0.6666666666666666,
              "#ed7953"
             ],
             [
              0.7777777777777778,
              "#fb9f3a"
             ],
             [
              0.8888888888888888,
              "#fdca26"
             ],
             [
              1,
              "#f0f921"
             ]
            ],
            "type": "heatmapgl"
           }
          ],
          "histogram": [
           {
            "marker": {
             "colorbar": {
              "outlinewidth": 0,
              "ticks": ""
             }
            },
            "type": "histogram"
           }
          ],
          "histogram2d": [
           {
            "colorbar": {
             "outlinewidth": 0,
             "ticks": ""
            },
            "colorscale": [
             [
              0,
              "#0d0887"
             ],
             [
              0.1111111111111111,
              "#46039f"
             ],
             [
              0.2222222222222222,
              "#7201a8"
             ],
             [
              0.3333333333333333,
              "#9c179e"
             ],
             [
              0.4444444444444444,
              "#bd3786"
             ],
             [
              0.5555555555555556,
              "#d8576b"
             ],
             [
              0.6666666666666666,
              "#ed7953"
             ],
             [
              0.7777777777777778,
              "#fb9f3a"
             ],
             [
              0.8888888888888888,
              "#fdca26"
             ],
             [
              1,
              "#f0f921"
             ]
            ],
            "type": "histogram2d"
           }
          ],
          "histogram2dcontour": [
           {
            "colorbar": {
             "outlinewidth": 0,
             "ticks": ""
            },
            "colorscale": [
             [
              0,
              "#0d0887"
             ],
             [
              0.1111111111111111,
              "#46039f"
             ],
             [
              0.2222222222222222,
              "#7201a8"
             ],
             [
              0.3333333333333333,
              "#9c179e"
             ],
             [
              0.4444444444444444,
              "#bd3786"
             ],
             [
              0.5555555555555556,
              "#d8576b"
             ],
             [
              0.6666666666666666,
              "#ed7953"
             ],
             [
              0.7777777777777778,
              "#fb9f3a"
             ],
             [
              0.8888888888888888,
              "#fdca26"
             ],
             [
              1,
              "#f0f921"
             ]
            ],
            "type": "histogram2dcontour"
           }
          ],
          "mesh3d": [
           {
            "colorbar": {
             "outlinewidth": 0,
             "ticks": ""
            },
            "type": "mesh3d"
           }
          ],
          "parcoords": [
           {
            "line": {
             "colorbar": {
              "outlinewidth": 0,
              "ticks": ""
             }
            },
            "type": "parcoords"
           }
          ],
          "scatter": [
           {
            "marker": {
             "colorbar": {
              "outlinewidth": 0,
              "ticks": ""
             }
            },
            "type": "scatter"
           }
          ],
          "scatter3d": [
           {
            "line": {
             "colorbar": {
              "outlinewidth": 0,
              "ticks": ""
             }
            },
            "marker": {
             "colorbar": {
              "outlinewidth": 0,
              "ticks": ""
             }
            },
            "type": "scatter3d"
           }
          ],
          "scattercarpet": [
           {
            "marker": {
             "colorbar": {
              "outlinewidth": 0,
              "ticks": ""
             }
            },
            "type": "scattercarpet"
           }
          ],
          "scattergeo": [
           {
            "marker": {
             "colorbar": {
              "outlinewidth": 0,
              "ticks": ""
             }
            },
            "type": "scattergeo"
           }
          ],
          "scattergl": [
           {
            "marker": {
             "colorbar": {
              "outlinewidth": 0,
              "ticks": ""
             }
            },
            "type": "scattergl"
           }
          ],
          "scattermapbox": [
           {
            "marker": {
             "colorbar": {
              "outlinewidth": 0,
              "ticks": ""
             }
            },
            "type": "scattermapbox"
           }
          ],
          "scatterpolar": [
           {
            "marker": {
             "colorbar": {
              "outlinewidth": 0,
              "ticks": ""
             }
            },
            "type": "scatterpolar"
           }
          ],
          "scatterpolargl": [
           {
            "marker": {
             "colorbar": {
              "outlinewidth": 0,
              "ticks": ""
             }
            },
            "type": "scatterpolargl"
           }
          ],
          "scatterternary": [
           {
            "marker": {
             "colorbar": {
              "outlinewidth": 0,
              "ticks": ""
             }
            },
            "type": "scatterternary"
           }
          ],
          "surface": [
           {
            "colorbar": {
             "outlinewidth": 0,
             "ticks": ""
            },
            "colorscale": [
             [
              0,
              "#0d0887"
             ],
             [
              0.1111111111111111,
              "#46039f"
             ],
             [
              0.2222222222222222,
              "#7201a8"
             ],
             [
              0.3333333333333333,
              "#9c179e"
             ],
             [
              0.4444444444444444,
              "#bd3786"
             ],
             [
              0.5555555555555556,
              "#d8576b"
             ],
             [
              0.6666666666666666,
              "#ed7953"
             ],
             [
              0.7777777777777778,
              "#fb9f3a"
             ],
             [
              0.8888888888888888,
              "#fdca26"
             ],
             [
              1,
              "#f0f921"
             ]
            ],
            "type": "surface"
           }
          ],
          "table": [
           {
            "cells": {
             "fill": {
              "color": "#EBF0F8"
             },
             "line": {
              "color": "white"
             }
            },
            "header": {
             "fill": {
              "color": "#C8D4E3"
             },
             "line": {
              "color": "white"
             }
            },
            "type": "table"
           }
          ]
         },
         "layout": {
          "annotationdefaults": {
           "arrowcolor": "#2a3f5f",
           "arrowhead": 0,
           "arrowwidth": 1
          },
          "colorscale": {
           "diverging": [
            [
             0,
             "#8e0152"
            ],
            [
             0.1,
             "#c51b7d"
            ],
            [
             0.2,
             "#de77ae"
            ],
            [
             0.3,
             "#f1b6da"
            ],
            [
             0.4,
             "#fde0ef"
            ],
            [
             0.5,
             "#f7f7f7"
            ],
            [
             0.6,
             "#e6f5d0"
            ],
            [
             0.7,
             "#b8e186"
            ],
            [
             0.8,
             "#7fbc41"
            ],
            [
             0.9,
             "#4d9221"
            ],
            [
             1,
             "#276419"
            ]
           ],
           "sequential": [
            [
             0,
             "#0d0887"
            ],
            [
             0.1111111111111111,
             "#46039f"
            ],
            [
             0.2222222222222222,
             "#7201a8"
            ],
            [
             0.3333333333333333,
             "#9c179e"
            ],
            [
             0.4444444444444444,
             "#bd3786"
            ],
            [
             0.5555555555555556,
             "#d8576b"
            ],
            [
             0.6666666666666666,
             "#ed7953"
            ],
            [
             0.7777777777777778,
             "#fb9f3a"
            ],
            [
             0.8888888888888888,
             "#fdca26"
            ],
            [
             1,
             "#f0f921"
            ]
           ],
           "sequentialminus": [
            [
             0,
             "#0d0887"
            ],
            [
             0.1111111111111111,
             "#46039f"
            ],
            [
             0.2222222222222222,
             "#7201a8"
            ],
            [
             0.3333333333333333,
             "#9c179e"
            ],
            [
             0.4444444444444444,
             "#bd3786"
            ],
            [
             0.5555555555555556,
             "#d8576b"
            ],
            [
             0.6666666666666666,
             "#ed7953"
            ],
            [
             0.7777777777777778,
             "#fb9f3a"
            ],
            [
             0.8888888888888888,
             "#fdca26"
            ],
            [
             1,
             "#f0f921"
            ]
           ]
          },
          "colorway": [
           "#636efa",
           "#EF553B",
           "#00cc96",
           "#ab63fa",
           "#FFA15A",
           "#19d3f3",
           "#FF6692",
           "#B6E880",
           "#FF97FF",
           "#FECB52"
          ],
          "font": {
           "color": "#2a3f5f"
          },
          "geo": {
           "bgcolor": "white",
           "lakecolor": "white",
           "landcolor": "#E5ECF6",
           "showlakes": true,
           "showland": true,
           "subunitcolor": "white"
          },
          "hoverlabel": {
           "align": "left"
          },
          "hovermode": "closest",
          "mapbox": {
           "style": "light"
          },
          "paper_bgcolor": "white",
          "plot_bgcolor": "#E5ECF6",
          "polar": {
           "angularaxis": {
            "gridcolor": "white",
            "linecolor": "white",
            "ticks": ""
           },
           "bgcolor": "#E5ECF6",
           "radialaxis": {
            "gridcolor": "white",
            "linecolor": "white",
            "ticks": ""
           }
          },
          "scene": {
           "xaxis": {
            "backgroundcolor": "#E5ECF6",
            "gridcolor": "white",
            "gridwidth": 2,
            "linecolor": "white",
            "showbackground": true,
            "ticks": "",
            "zerolinecolor": "white"
           },
           "yaxis": {
            "backgroundcolor": "#E5ECF6",
            "gridcolor": "white",
            "gridwidth": 2,
            "linecolor": "white",
            "showbackground": true,
            "ticks": "",
            "zerolinecolor": "white"
           },
           "zaxis": {
            "backgroundcolor": "#E5ECF6",
            "gridcolor": "white",
            "gridwidth": 2,
            "linecolor": "white",
            "showbackground": true,
            "ticks": "",
            "zerolinecolor": "white"
           }
          },
          "shapedefaults": {
           "line": {
            "color": "#2a3f5f"
           }
          },
          "ternary": {
           "aaxis": {
            "gridcolor": "white",
            "linecolor": "white",
            "ticks": ""
           },
           "baxis": {
            "gridcolor": "white",
            "linecolor": "white",
            "ticks": ""
           },
           "bgcolor": "#E5ECF6",
           "caxis": {
            "gridcolor": "white",
            "linecolor": "white",
            "ticks": ""
           }
          },
          "title": {
           "x": 0.05
          },
          "xaxis": {
           "automargin": true,
           "gridcolor": "white",
           "linecolor": "white",
           "ticks": "",
           "zerolinecolor": "white",
           "zerolinewidth": 2
          },
          "yaxis": {
           "automargin": true,
           "gridcolor": "white",
           "linecolor": "white",
           "ticks": "",
           "zerolinecolor": "white",
           "zerolinewidth": 2
          }
         }
        },
        "width": 500,
        "xaxis": {
         "visible": false
        },
        "yaxis": {
         "scaleanchor": "x",
         "scaleratio": 1,
         "visible": false
        }
       }
      },
      "text/html": [
       "<div>\n",
       "        \n",
       "        \n",
       "            <div id=\"c9c5d678-d998-48b9-9ba1-da81e9723eb2\" class=\"plotly-graph-div\" style=\"height:500.0px; width:500px;\"></div>\n",
       "            <script type=\"text/javascript\">\n",
       "                require([\"plotly\"], function(Plotly) {\n",
       "                    window.PLOTLYENV=window.PLOTLYENV || {};\n",
       "                    \n",
       "                if (document.getElementById(\"c9c5d678-d998-48b9-9ba1-da81e9723eb2\")) {\n",
       "                    Plotly.newPlot(\n",
       "                        'c9c5d678-d998-48b9-9ba1-da81e9723eb2',\n",
       "                        [{\"colorscale\": [[0.0, \"rgb(103,0,31)\"], [0.1, \"rgb(178,24,43)\"], [0.2, \"rgb(214,96,77)\"], [0.3, \"rgb(244,165,130)\"], [0.4, \"rgb(253,219,199)\"], [0.5, \"rgb(247,247,247)\"], [0.6, \"rgb(209,229,240)\"], [0.7, \"rgb(146,197,222)\"], [0.8, \"rgb(67,147,195)\"], [0.9, \"rgb(33,102,172)\"], [1.0, \"rgb(5,48,97)\"]], \"hoverinfo\": \"x+y+z\", \"reversescale\": true, \"showscale\": true, \"type\": \"heatmap\", \"x\": [0, 1, 2, 3, 4, 5, 6, 7, 8, 9, 10, 11, 12, 13, 14, 15, 16, 17, 18, 19, 20, 21, 22, 23, 24, 25, 26, 27], \"y\": [0, 1, 2, 3, 4, 5, 6, 7, 8, 9, 10, 11, 12, 13, 14, 15, 16, 17, 18, 19, 20, 21, 22, 23, 24, 25, 26, 27], \"z\": [[0.0, 0.0, 0.0, 0.0, 0.0, 0.0, 9.720817093494816e-07, 1.4122909977043463e-06, 2.3645277903439066e-06, 3.945905817426265e-06, 4.479274580138082e-06, 6.58463471336912e-06, 1.3547089224408282e-05, 1.9275185234368664e-05, 2.434762171699134e-05, 2.4447152695561414e-05, 1.746330749874403e-05, 1.2219819193526327e-05, 5.553836157967673e-06, 4.474093549533542e-06, 2.6254629805766427e-06, 5.436897265731488e-07, 0.0, 0.0, 0.0, 0.0, 0.0, 0.0], [0.0, 0.0, 0.0, 0.0, 7.406538379273186e-07, 1.0861687393948216e-07, -5.852493200897424e-05, -3.9970277051715186e-05, 1.1661821294195462e-06, 7.02278294093528e-05, 0.00012004962291756183, 0.00025918624125631506, 0.00034145154598130834, 0.0002916288407820433, 0.00024509562729280177, 0.0001790979926028502, 0.0001937657200364873, 4.3044574181250184e-05, -2.4577076491505423e-05, 4.567867890226118e-05, 2.343931519577236e-05, 1.153908018181049e-05, 3.982899996368694e-06, 1.4469217556323244e-06, 7.927754247516461e-07, 0.0, 0.0, 0.0], [0.0, 0.0, 0.0, 1.0177638049002624e-06, 4.510714681771333e-06, 1.1640032647641796e-05, -0.00015592322167723438, -0.00015752481214825753, 9.253475633719255e-05, 0.0005189843043027498, 0.008562472909859342, 0.008790597088700558, 0.008788853040864297, -0.03125552199147685, -0.026958792136546728, 0.008550823121437623, 0.008702725194175143, -2.7226871517571638e-05, -4.2333032764241274e-05, 3.7640196335342324e-05, 4.024254269741068e-05, 2.3817703613482344e-05, 1.3620530880054105e-05, 3.1517882020937193e-06, 1.5501093151293333e-06, 5.436897265731488e-07, 0.0, 0.0], [0.0, 0.0, 0.0, 3.158001709469005e-06, -6.857588442243934e-05, -3.354511794129156e-05, -0.00024295177369582088, -0.0008300166088115457, 0.008947285016664419, -2.6600536867316116e-05, 0.007379558697739208, 0.004370150366603043, 0.004057095829865354, 0.0038965444096273893, -0.0008625867828431222, -0.0038708485269327575, -0.0017400448285062042, 0.008273026449124643, 0.00810471204027774, -0.00015881406369311346, -0.00016831853962029353, -0.00014841488362760114, -4.26930181207652e-06, 6.3303263615477334e-06, 1.802795146166325e-06, 5.436897265731488e-07, 0.0, 0.0], [0.0, 5.436897265731488e-07, 1.2967170802680172e-06, 2.0584011292235083e-05, -0.00018246840534408282, -0.00025434047584294017, -0.050556890070439175, 0.008635690395626172, 0.0027288747154525783, 0.00776812730778087, 0.00768322984470915, 0.003245664753853794, 0.004853601391356044, 0.0074442311943131445, 0.004567577365379938, 0.0011239907927048653, -0.0008075015138560016, -0.005451439933716551, 0.007288096363633034, 0.007313351014969771, -0.0012638725336167056, -0.0005285641772133642, -0.0003419873471102175, -9.77550938210392e-05, -2.935155380345833e-05, 3.7134760462187444e-06, 5.436897265731488e-07, 0.0], [0.0, 0.0, 4.550475953268851e-06, -1.2676538261868764e-05, -7.114771151506272e-05, -6.0282019876289894e-05, 0.00863731245279764, -0.0005130415380014686, 0.0026637542823637617, 0.0036424223261398714, 0.00815615800798175, 0.0067049849560356645, 0.004254945536020349, 0.0034828134670079613, 0.006270580868125153, 0.0017536890477457545, 0.0006198131847152677, -0.0029164380407584733, -0.00930610743343685, -0.012574517955740494, 0.007607686573335326, -0.002071612520587185, -0.0004715523460809834, -0.00019990601506192363, -3.138829112581121e-05, 6.312042199918544e-06, 6.899942819327265e-07, 0.0], [0.0, 0.0, 1.3272056905710983e-05, -5.051574869519015e-07, -0.00011251921782262642, 0.008611566688998984, 0.0008477062797940249, 0.003915988074299381, 0.005900110464981956, 0.001769093751702533, 0.005430862586079277, 0.0015699177810549747, -0.0014110361219565881, 0.003585195640645522, 0.004550594238528771, 0.003976500477047562, -0.000956788819890364, 0.0016185370277417288, -0.0022727931312860328, -0.00803259296061809, -0.011262501403544678, -0.045136254736918624, -0.0007427004875018017, -0.00015333335268241655, 6.867266839294395e-06, 1.5201503585693388e-05, 1.5736123643028677e-06, 0.0], [0.0, 5.436897265731488e-07, 1.3397570498785427e-05, 1.787946722398015e-05, -6.14876801550146e-05, 0.008406079025735869, 0.0038326793528244973, 0.005092966569120505, 0.004923846737050375, 0.001807109153587394, 0.0018277926624740148, -0.001699730948471645, -0.00028370899783558556, -0.0019590697671967305, -0.00025852659504521647, 0.0014554622286209185, 0.0020413835167938377, 0.005832672822940088, 0.00212215740401156, -0.0016789485000118232, -0.007068429593100167, -6.741019859901609e-05, 0.008409069096451893, 0.00012451920521583393, 5.167595400779046e-05, 3.781398406488279e-05, 4.064994783448128e-06, 0.0], [0.0, 5.436897265731488e-07, 6.52992967087318e-06, 1.1582169866741765e-05, -4.5102645083727744e-05, 0.008534018203853022, 0.002363981354182698, 0.0024753406288674507, -6.68237505113689e-05, 0.0024828505590224204, -0.0009232119026828522, -0.0019081442200016285, -0.0023761683448140225, -0.0022390081516753257, -0.0034894164221017654, -0.0021767271082611117, 0.00017611871995881767, 0.004078803641760276, 0.004027479054436012, 0.0016401810839958841, -0.0027096847076162334, -0.004155709318418355, 0.00843152732188035, -0.00014476715386668726, 5.362222052052168e-06, 5.1974695457701614e-05, 4.25531446812677e-06, 5.436897265731488e-07], [0.0, 5.436897265731488e-07, 6.716809733520179e-06, -1.0177559206847597e-05, 3.1257307817278424e-05, -0.015220144336185015, 0.00038207913188692544, -0.0011798228632281527, -0.002020279574564521, -0.0018786813273408143, 0.0019133978276045793, -0.0014460806193065112, 0.00011985066181841031, -0.004667334481219143, -0.002677318325265521, -0.005045096820531336, -0.003204271519747559, -0.001853368648861431, 0.001416375214113863, -0.0028549466820331215, -0.001706550055254219, -0.0020692917832932922, 0.008359033229359492, 0.008282327514861798, -0.00016313988872518337, -6.143851761897245e-05, 4.513077638379492e-06, 5.436897265731488e-07], [0.0, 0.0, 4.038473118361807e-06, -8.004314766107967e-06, -0.0002385893097714975, -0.034158333859032886, -4.562817205211456e-05, 0.0018529755669122183, -3.2137269573628835e-05, -0.0003118007393317912, 0.0029936713809766147, 0.0010001856609860305, 0.0010612365769950838, -0.0018142966924235004, -0.0023797652646152523, -0.004084516945008221, -0.0024325922191391625, -0.0009088913040188329, -0.0027623746325809995, -0.002313390391188719, -0.004287097077279145, -0.00301077509267611, -0.006582839070738422, 0.007714270264951195, -0.0002666437121082721, -0.00018161601022770313, 4.006471958306612e-06, 1.2115727772155083e-06], [0.0, 5.436897265731488e-07, 3.4211241579651386e-06, -5.7693343900266925e-05, -0.00023881555750948635, -0.013439984267858085, -0.0025518396027301993, 0.0029954035461684514, 0.002469883199635259, -0.0016919128687820084, 0.0013282813609187816, 0.0024952811050963364, 0.0021195530916475747, 0.001685775510080978, 0.0013707803521394446, -0.0015313779256391769, -0.0028897183070879517, -0.005977355651916483, -0.002379975437371673, -0.006418135701903083, -0.003520949855865596, -0.004010777693038148, -0.01079354083288242, 0.00782246642617257, -0.00032848709817190347, -0.0002050486804370255, 2.884645378675721e-06, 1.3729488076430485e-06], [0.0, 0.0, 1.5840240571440845e-06, -7.783998261434721e-05, -0.00011806843483019858, 0.008010080306499079, -0.005143624261748525, 0.002173615641256399, 0.0040695587578769565, -0.0018251587473484543, 0.004379025497466382, 0.00299621944490569, 0.0030109165711004193, 0.006053758732747272, 0.002070584350830851, 0.002486632490461438, -0.0015067008487655853, -0.0009160965621815009, -0.007805164859865932, -0.00673257792638704, -0.005546572697455399, -0.0074121671822326984, -0.0060948030961121, 0.007768990170068157, -0.0004806390031326657, -0.00016944312903066638, 2.12556499279426e-06, 5.436897265731488e-07], [0.0, 0.0, 1.5468172923638335e-06, -8.005595294391377e-05, -0.0001348765602990909, 0.008095808963559992, -0.0070593718139504436, 0.0014181572586319247, 0.006927143556472837, 0.004294272921892772, 0.0019359079089694697, -0.0027149285309493454, 0.004198251002397901, 0.008487565455715496, 0.0023171457778827786, 0.0021481139952824746, -0.0009631924073553177, 0.00012079299643441566, -0.003204449023114564, -0.0069529143443740615, -0.002646216864482853, -0.00839184382855196, -0.007193775919077883, -0.02331365125764273, -0.00012339020691043423, -0.00010185015202668346, 1.803701365266086e-06, 0.0], [0.0, 7.687051312155191e-07, 3.5280178842800325e-06, -7.489137195293427e-05, -2.3102081106451955e-05, -0.0395219127406502, -0.005333369815210154, -0.0012287936117876264, 0.003953856443786319, 0.005406929987573972, 0.0015326792626029206, -0.003352958245929516, -0.0015761739798975105, 0.0051632474942985285, 0.0018345108391899512, -0.0005059297380729522, 0.0004237782986052929, 0.0003485767092239467, -0.0013233892370178024, -0.002602160580312818, -0.0038347169227033184, -0.007666958205402974, -0.005904052556367723, -0.02621707455958644, 4.730305250510991e-05, 2.6368654047037587e-05, 6.092631769094581e-07, 0.0], [0.0, 1.217566472866416e-06, 5.9979661967135556e-06, -6.098238335150441e-05, 1.7213571644858483e-05, -0.050582775601060725, -0.028839104576294794, -0.0027607709774737366, 0.0003609932136213745, 0.00380608147455308, 0.0027102108106648037, -0.007687243076595185, -0.0022197289395964326, 0.0021259840814905617, 0.0008817890542955897, -0.0030484792193073984, -0.00025471797554210696, 0.0009010394366056884, 0.0011074809713592648, -0.0012103172893721537, -0.0029518790067163403, -0.007408302701953917, -0.0052655416091854645, -0.03512892547263846, -0.00019533887799572103, -2.649914271157794e-05, -8.288039782700096e-06, 0.0], [5.436897265731488e-07, 1.922428648493124e-06, 1.3911163235347246e-05, -3.794577431015522e-05, -0.00017912329971503382, -0.0012799619292434006, -0.02537273805814111, -0.0013657587688565842, -0.002459219844809013, 0.0019509509633028888, 0.002901723712989357, -0.006218111815648353, -0.004948691674232175, -0.008104701906686107, -0.003279237585726791, -0.003962625762473304, -0.001986571664359449, -0.0011909934355865959, 0.0048510825726150175, 0.003788974432782144, 0.0022169921758932176, -0.002857184184537842, -0.006812316401631602, 0.008117933684708367, -0.00022166288041114424, -5.7615740311267594e-05, -6.601928853455785e-05, -6.877597748788933e-05], [8.161235842685244e-07, 3.266599367779399e-06, 2.0067797150025157e-05, 7.51708450185129e-05, -0.00023755608772091374, -0.0015451377039052971, 0.008260838257230563, -0.003583786460051086, -0.00265705827246554, 0.0007665695097037739, -0.00012070874864300585, -0.0013442406420368647, -0.0041691700109229846, -0.015185394613684178, -0.007132408226686482, -0.0024162647961255557, 0.0009275182970873708, -0.0008958649176270539, 0.004381429858589692, 0.005857956742039927, 0.003550496637615641, -0.0013703106542766186, -0.005903542581403243, 0.00823251722017937, -0.00011338261991411525, 6.237759098426388e-05, -1.5353257608263782e-05, -1.4761283887110288e-05], [6.989389746969721e-07, 4.7604679880297596e-06, 1.8512247798141424e-05, 9.019635870066711e-05, -0.0001312995686882923, -0.0010229787860619455, 0.008293252754762337, -0.0019819084874229675, -0.0033110264942318723, -0.0017356907417861445, 7.274221400610514e-05, -0.0006978500717652603, -0.0015346451104624181, -0.0022805269235691705, -0.005306497720886982, -0.0022142815668114713, -0.0044950380332393625, 0.0008810978373292588, 0.004204657383467314, 0.005758690858355342, 0.004697054949586832, -0.00025622011046122495, -0.0016894650925735055, 0.008259733032966343, -4.862206476652364e-05, 1.7962978194008272e-05, 2.060225893363299e-05, 2.0020457138780756e-06], [0.0, 2.4328072539825385e-06, 1.565219395260886e-05, 6.233949370459957e-05, -2.6599391049764165e-06, -0.00033580030509572367, -0.023986162385769227, -0.004714867247294863, -0.0030474969423096576, -0.00585860581185349, -0.002592559817903406, 0.0029537921340236917, -0.0002704526006803709, -0.0015435864677562083, -0.0019109227366386206, -0.0007982886447287507, -0.002968377195131766, 0.0011563514879530112, 0.0049984055055362075, 0.004055980751346389, 0.0006602285832806309, 0.000555301047579948, -0.0014332576554906273, 0.008331082151972868, 9.255371832506132e-05, 5.204762289079401e-05, 3.1839251545928704e-05, 1.4437333315520107e-06], [0.0, 7.613967767383656e-07, 4.606604851686846e-06, 3.9778501770393326e-05, -7.419443469069975e-05, -0.0001589979713818579, -0.026068030874279335, -0.014355056585168557, -0.006007756793276142, -0.004459608152773797, -0.0038041921504866627, 0.0013237255788391966, 0.0016766183576673033, -0.00043005014420760546, 0.003292741558375667, 0.000277667492245115, 0.003156578258672549, 0.0036793394926021294, 0.006810094196058825, 0.005261474312509451, 0.003591986931222535, 0.0031727236158650696, 0.00902922481015811, 0.00882914967147963, 0.00015025594392537034, 5.0043797162224735e-05, 2.467147985896201e-05, 1.161229960966459e-06], [0.0, 0.0, 9.89215816704636e-07, 1.2365772834699307e-05, -5.805894850241522e-05, -0.00012134588711831817, -0.0002545389287536004, -0.04424098833739165, -9.323721426701681e-06, -0.0013383532926070085, -0.0007006723186187003, -0.0018517201612187062, 0.0015819573444016966, -0.0004132787412918226, 0.0017186498220458368, 0.0007047195621315838, 0.002264645893706674, 0.0020173339209338392, 0.0034545119418554204, 0.0068566747370741865, 0.005058886145555275, 0.006476620985097492, 0.009178993229385757, 0.008815124511201033, 0.00022513296208903633, 8.500915693121502e-05, 1.9067600580346955e-05, 1.9486014941616503e-06], [0.0, 5.436897265731488e-07, 6.332623382343527e-07, 3.8091238047099907e-06, -6.784640608270553e-05, -1.4994323296990686e-05, -6.652286045394362e-05, -0.0003497652926833794, 0.008076522699639432, -0.013058388636111529, -0.0021735888014956517, -0.0019451988383474283, -0.000742038819757096, 0.00023964989793823221, 0.0008428326976046563, 0.003620441979332756, 0.001710189018577224, 0.004544365036371789, 0.0075032351237092065, 0.005180639501145778, -0.0005431420661854425, 0.00920747244363962, 0.008743321902139334, 0.00010894418595930322, 7.751017657109394e-05, -3.623563610055669e-05, 8.41434445619793e-06, 0.0], [0.0, 0.0, 0.0, 1.218286370119337e-06, -7.245215530859994e-07, -6.805150878952393e-05, -6.484877118928534e-05, -8.570421896747504e-05, -0.00021043691737510084, -0.08718470972529313, 0.008003575355609804, 0.008345981763583143, 0.0025752723322227666, -0.00014647262315303777, -0.00020034428642035085, 0.0002272172808436279, 0.003185052541763378, 0.0038193800324206606, 0.004067614685516863, -0.010754230592856406, 0.008571504303522381, 0.00012868541633936914, -2.4056622458634713e-05, -7.552765466589673e-05, -5.442014705536735e-05, -5.747077981843596e-05, 2.580359012571698e-06, 0.0], [0.0, 0.0, 0.0, 0.0, 9.725998429965799e-07, -2.9976440243384417e-05, -8.384448957554635e-05, -6.682407022062797e-05, 6.877943254735008e-05, 0.00014791726655027926, 0.00025498221506059515, 0.00034038633849620137, 0.0014359039641802518, 0.009000362713574517, 0.009077091984226682, 0.008940395189326877, 0.008771312556650757, -4.456372862471358e-05, 0.00028822486422386273, 0.00015568859380743483, -2.3825289987566833e-06, -8.915570610923407e-05, -3.712339485995031e-05, -3.293549824379127e-05, -9.672095534596359e-06, 1.6029698911568246e-06, 5.436897265731488e-07, 0.0], [0.0, 0.0, 0.0, 0.0, 0.0, 1.760027602215608e-06, 2.9561082215412426e-06, 4.940086252847031e-06, 1.4542792861838016e-05, 2.8174611233611202e-05, 6.291565004190591e-05, 0.00011598276673674413, 0.0001506449051073, 0.00010824408446341582, 0.00010331803378405002, 0.00011576045819750025, 8.183114357007693e-05, 4.5951660462395516e-05, 5.035394267882687e-05, -2.769653909828751e-05, -5.200624858425762e-05, -3.2430671870753436e-05, 5.759214797285139e-06, 2.602542522600615e-06, 5.436897265731488e-07, 0.0, 0.0, 0.0], [0.0, 0.0, 0.0, 0.0, 0.0, 5.436897265731488e-07, 5.436897265731488e-07, 5.436897265731488e-07, 1.0646656142254685e-06, 1.990306294774591e-06, 2.9843972734200364e-06, 7.204477494027195e-06, 1.204495581741405e-05, 1.1751428216077997e-05, 1.1871748102576518e-05, 6.602817893108792e-06, 3.759655765378511e-06, 2.4177449836626508e-06, 2.6104534199822282e-06, 1.1473612403500866e-06, 7.811002729063432e-07, 0.0, 0.0, 0.0, 0.0, 0.0, 0.0, 0.0], [0.0, 0.0, 0.0, 0.0, 0.0, 0.0, 0.0, 0.0, 0.0, 0.0, 0.0, 0.0, 0.0, 0.0, 0.0, 0.0, 0.0, 0.0, 0.0, 0.0, 0.0, 0.0, 0.0, 0.0, 0.0, 0.0, 0.0, 0.0]], \"zmax\": 0.08718470972529313, \"zmin\": -0.08718470972529313, \"zsmooth\": \"best\"}],\n",
       "                        {\"height\": 500.0, \"margin\": {\"b\": 20, \"l\": 20, \"t\": 20}, \"plot_bgcolor\": \"white\", \"template\": {\"data\": {\"bar\": [{\"error_x\": {\"color\": \"#2a3f5f\"}, \"error_y\": {\"color\": \"#2a3f5f\"}, \"marker\": {\"line\": {\"color\": \"#E5ECF6\", \"width\": 0.5}}, \"type\": \"bar\"}], \"barpolar\": [{\"marker\": {\"line\": {\"color\": \"#E5ECF6\", \"width\": 0.5}}, \"type\": \"barpolar\"}], \"carpet\": [{\"aaxis\": {\"endlinecolor\": \"#2a3f5f\", \"gridcolor\": \"white\", \"linecolor\": \"white\", \"minorgridcolor\": \"white\", \"startlinecolor\": \"#2a3f5f\"}, \"baxis\": {\"endlinecolor\": \"#2a3f5f\", \"gridcolor\": \"white\", \"linecolor\": \"white\", \"minorgridcolor\": \"white\", \"startlinecolor\": \"#2a3f5f\"}, \"type\": \"carpet\"}], \"choropleth\": [{\"colorbar\": {\"outlinewidth\": 0, \"ticks\": \"\"}, \"type\": \"choropleth\"}], \"contour\": [{\"colorbar\": {\"outlinewidth\": 0, \"ticks\": \"\"}, \"colorscale\": [[0.0, \"#0d0887\"], [0.1111111111111111, \"#46039f\"], [0.2222222222222222, \"#7201a8\"], [0.3333333333333333, \"#9c179e\"], [0.4444444444444444, \"#bd3786\"], [0.5555555555555556, \"#d8576b\"], [0.6666666666666666, \"#ed7953\"], [0.7777777777777778, \"#fb9f3a\"], [0.8888888888888888, \"#fdca26\"], [1.0, \"#f0f921\"]], \"type\": \"contour\"}], \"contourcarpet\": [{\"colorbar\": {\"outlinewidth\": 0, \"ticks\": \"\"}, \"type\": \"contourcarpet\"}], \"heatmap\": [{\"colorbar\": {\"outlinewidth\": 0, \"ticks\": \"\"}, \"colorscale\": [[0.0, \"#0d0887\"], [0.1111111111111111, \"#46039f\"], [0.2222222222222222, \"#7201a8\"], [0.3333333333333333, \"#9c179e\"], [0.4444444444444444, \"#bd3786\"], [0.5555555555555556, \"#d8576b\"], [0.6666666666666666, \"#ed7953\"], [0.7777777777777778, \"#fb9f3a\"], [0.8888888888888888, \"#fdca26\"], [1.0, \"#f0f921\"]], \"type\": \"heatmap\"}], \"heatmapgl\": [{\"colorbar\": {\"outlinewidth\": 0, \"ticks\": \"\"}, \"colorscale\": [[0.0, \"#0d0887\"], [0.1111111111111111, \"#46039f\"], [0.2222222222222222, \"#7201a8\"], [0.3333333333333333, \"#9c179e\"], [0.4444444444444444, \"#bd3786\"], [0.5555555555555556, \"#d8576b\"], [0.6666666666666666, \"#ed7953\"], [0.7777777777777778, \"#fb9f3a\"], [0.8888888888888888, \"#fdca26\"], [1.0, \"#f0f921\"]], \"type\": \"heatmapgl\"}], \"histogram\": [{\"marker\": {\"colorbar\": {\"outlinewidth\": 0, \"ticks\": \"\"}}, \"type\": \"histogram\"}], \"histogram2d\": [{\"colorbar\": {\"outlinewidth\": 0, \"ticks\": \"\"}, \"colorscale\": [[0.0, \"#0d0887\"], [0.1111111111111111, \"#46039f\"], [0.2222222222222222, \"#7201a8\"], [0.3333333333333333, \"#9c179e\"], [0.4444444444444444, \"#bd3786\"], [0.5555555555555556, \"#d8576b\"], [0.6666666666666666, \"#ed7953\"], [0.7777777777777778, \"#fb9f3a\"], [0.8888888888888888, \"#fdca26\"], [1.0, \"#f0f921\"]], \"type\": \"histogram2d\"}], \"histogram2dcontour\": [{\"colorbar\": {\"outlinewidth\": 0, \"ticks\": \"\"}, \"colorscale\": [[0.0, \"#0d0887\"], [0.1111111111111111, \"#46039f\"], [0.2222222222222222, \"#7201a8\"], [0.3333333333333333, \"#9c179e\"], [0.4444444444444444, \"#bd3786\"], [0.5555555555555556, \"#d8576b\"], [0.6666666666666666, \"#ed7953\"], [0.7777777777777778, \"#fb9f3a\"], [0.8888888888888888, \"#fdca26\"], [1.0, \"#f0f921\"]], \"type\": \"histogram2dcontour\"}], \"mesh3d\": [{\"colorbar\": {\"outlinewidth\": 0, \"ticks\": \"\"}, \"type\": \"mesh3d\"}], \"parcoords\": [{\"line\": {\"colorbar\": {\"outlinewidth\": 0, \"ticks\": \"\"}}, \"type\": \"parcoords\"}], \"scatter\": [{\"marker\": {\"colorbar\": {\"outlinewidth\": 0, \"ticks\": \"\"}}, \"type\": \"scatter\"}], \"scatter3d\": [{\"line\": {\"colorbar\": {\"outlinewidth\": 0, \"ticks\": \"\"}}, \"marker\": {\"colorbar\": {\"outlinewidth\": 0, \"ticks\": \"\"}}, \"type\": \"scatter3d\"}], \"scattercarpet\": [{\"marker\": {\"colorbar\": {\"outlinewidth\": 0, \"ticks\": \"\"}}, \"type\": \"scattercarpet\"}], \"scattergeo\": [{\"marker\": {\"colorbar\": {\"outlinewidth\": 0, \"ticks\": \"\"}}, \"type\": \"scattergeo\"}], \"scattergl\": [{\"marker\": {\"colorbar\": {\"outlinewidth\": 0, \"ticks\": \"\"}}, \"type\": \"scattergl\"}], \"scattermapbox\": [{\"marker\": {\"colorbar\": {\"outlinewidth\": 0, \"ticks\": \"\"}}, \"type\": \"scattermapbox\"}], \"scatterpolar\": [{\"marker\": {\"colorbar\": {\"outlinewidth\": 0, \"ticks\": \"\"}}, \"type\": \"scatterpolar\"}], \"scatterpolargl\": [{\"marker\": {\"colorbar\": {\"outlinewidth\": 0, \"ticks\": \"\"}}, \"type\": \"scatterpolargl\"}], \"scatterternary\": [{\"marker\": {\"colorbar\": {\"outlinewidth\": 0, \"ticks\": \"\"}}, \"type\": \"scatterternary\"}], \"surface\": [{\"colorbar\": {\"outlinewidth\": 0, \"ticks\": \"\"}, \"colorscale\": [[0.0, \"#0d0887\"], [0.1111111111111111, \"#46039f\"], [0.2222222222222222, \"#7201a8\"], [0.3333333333333333, \"#9c179e\"], [0.4444444444444444, \"#bd3786\"], [0.5555555555555556, \"#d8576b\"], [0.6666666666666666, \"#ed7953\"], [0.7777777777777778, \"#fb9f3a\"], [0.8888888888888888, \"#fdca26\"], [1.0, \"#f0f921\"]], \"type\": \"surface\"}], \"table\": [{\"cells\": {\"fill\": {\"color\": \"#EBF0F8\"}, \"line\": {\"color\": \"white\"}}, \"header\": {\"fill\": {\"color\": \"#C8D4E3\"}, \"line\": {\"color\": \"white\"}}, \"type\": \"table\"}]}, \"layout\": {\"annotationdefaults\": {\"arrowcolor\": \"#2a3f5f\", \"arrowhead\": 0, \"arrowwidth\": 1}, \"colorscale\": {\"diverging\": [[0, \"#8e0152\"], [0.1, \"#c51b7d\"], [0.2, \"#de77ae\"], [0.3, \"#f1b6da\"], [0.4, \"#fde0ef\"], [0.5, \"#f7f7f7\"], [0.6, \"#e6f5d0\"], [0.7, \"#b8e186\"], [0.8, \"#7fbc41\"], [0.9, \"#4d9221\"], [1, \"#276419\"]], \"sequential\": [[0.0, \"#0d0887\"], [0.1111111111111111, \"#46039f\"], [0.2222222222222222, \"#7201a8\"], [0.3333333333333333, \"#9c179e\"], [0.4444444444444444, \"#bd3786\"], [0.5555555555555556, \"#d8576b\"], [0.6666666666666666, \"#ed7953\"], [0.7777777777777778, \"#fb9f3a\"], [0.8888888888888888, \"#fdca26\"], [1.0, \"#f0f921\"]], \"sequentialminus\": [[0.0, \"#0d0887\"], [0.1111111111111111, \"#46039f\"], [0.2222222222222222, \"#7201a8\"], [0.3333333333333333, \"#9c179e\"], [0.4444444444444444, \"#bd3786\"], [0.5555555555555556, \"#d8576b\"], [0.6666666666666666, \"#ed7953\"], [0.7777777777777778, \"#fb9f3a\"], [0.8888888888888888, \"#fdca26\"], [1.0, \"#f0f921\"]]}, \"colorway\": [\"#636efa\", \"#EF553B\", \"#00cc96\", \"#ab63fa\", \"#FFA15A\", \"#19d3f3\", \"#FF6692\", \"#B6E880\", \"#FF97FF\", \"#FECB52\"], \"font\": {\"color\": \"#2a3f5f\"}, \"geo\": {\"bgcolor\": \"white\", \"lakecolor\": \"white\", \"landcolor\": \"#E5ECF6\", \"showlakes\": true, \"showland\": true, \"subunitcolor\": \"white\"}, \"hoverlabel\": {\"align\": \"left\"}, \"hovermode\": \"closest\", \"mapbox\": {\"style\": \"light\"}, \"paper_bgcolor\": \"white\", \"plot_bgcolor\": \"#E5ECF6\", \"polar\": {\"angularaxis\": {\"gridcolor\": \"white\", \"linecolor\": \"white\", \"ticks\": \"\"}, \"bgcolor\": \"#E5ECF6\", \"radialaxis\": {\"gridcolor\": \"white\", \"linecolor\": \"white\", \"ticks\": \"\"}}, \"scene\": {\"xaxis\": {\"backgroundcolor\": \"#E5ECF6\", \"gridcolor\": \"white\", \"gridwidth\": 2, \"linecolor\": \"white\", \"showbackground\": true, \"ticks\": \"\", \"zerolinecolor\": \"white\"}, \"yaxis\": {\"backgroundcolor\": \"#E5ECF6\", \"gridcolor\": \"white\", \"gridwidth\": 2, \"linecolor\": \"white\", \"showbackground\": true, \"ticks\": \"\", \"zerolinecolor\": \"white\"}, \"zaxis\": {\"backgroundcolor\": \"#E5ECF6\", \"gridcolor\": \"white\", \"gridwidth\": 2, \"linecolor\": \"white\", \"showbackground\": true, \"ticks\": \"\", \"zerolinecolor\": \"white\"}}, \"shapedefaults\": {\"line\": {\"color\": \"#2a3f5f\"}}, \"ternary\": {\"aaxis\": {\"gridcolor\": \"white\", \"linecolor\": \"white\", \"ticks\": \"\"}, \"baxis\": {\"gridcolor\": \"white\", \"linecolor\": \"white\", \"ticks\": \"\"}, \"bgcolor\": \"#E5ECF6\", \"caxis\": {\"gridcolor\": \"white\", \"linecolor\": \"white\", \"ticks\": \"\"}}, \"title\": {\"x\": 0.05}, \"xaxis\": {\"automargin\": true, \"gridcolor\": \"white\", \"linecolor\": \"white\", \"ticks\": \"\", \"zerolinecolor\": \"white\", \"zerolinewidth\": 2}, \"yaxis\": {\"automargin\": true, \"gridcolor\": \"white\", \"linecolor\": \"white\", \"ticks\": \"\", \"zerolinecolor\": \"white\", \"zerolinewidth\": 2}}}, \"width\": 500, \"xaxis\": {\"visible\": false}, \"yaxis\": {\"scaleanchor\": \"x\", \"scaleratio\": 1.0, \"visible\": false}},\n",
       "                        {\"responsive\": true}\n",
       "                    ).then(function(){\n",
       "                            \n",
       "var gd = document.getElementById('c9c5d678-d998-48b9-9ba1-da81e9723eb2');\n",
       "var x = new MutationObserver(function (mutations, observer) {{\n",
       "        var display = window.getComputedStyle(gd).display;\n",
       "        if (!display || display === 'none') {{\n",
       "            console.log([gd, 'removed!']);\n",
       "            Plotly.purge(gd);\n",
       "            observer.disconnect();\n",
       "        }}\n",
       "}});\n",
       "\n",
       "// Listen for the removal of the full notebook cells\n",
       "var notebookContainer = gd.closest('#notebook-container');\n",
       "if (notebookContainer) {{\n",
       "    x.observe(notebookContainer, {childList: true});\n",
       "}}\n",
       "\n",
       "// Listen for the clearing of the current output cell\n",
       "var outputEl = gd.closest('.output');\n",
       "if (outputEl) {{\n",
       "    x.observe(outputEl, {childList: true});\n",
       "}}\n",
       "\n",
       "                        })\n",
       "                };\n",
       "                });\n",
       "            </script>\n",
       "        </div>"
      ]
     },
     "metadata": {},
     "output_type": "display_data"
    }
   ],
   "source": [
    "from sklearn import metrics\n",
    "\n",
    "explainer.plot_performance(\n",
    "    X_test=x_test,\n",
    "    y_test=y_test.argmax(axis=1),\n",
    "    y_pred=y_pred.argmax(axis=1),\n",
    "    metric=metrics.accuracy_score\n",
    ")"
   ]
  },
  {
   "cell_type": "markdown",
   "metadata": {},
   "source": [
    "**TODO: analysis**"
   ]
  },
  {
   "cell_type": "markdown",
   "metadata": {},
   "source": [
    "The log loss metric deals with vectors of probabilities so we don't need to get the label:"
   ]
  },
  {
   "cell_type": "code",
   "execution_count": 11,
   "metadata": {},
   "outputs": [
    {
     "name": "stderr",
     "output_type": "stream",
     "text": [
      "100%|██████████| 1452/1452 [00:14<00:00, 103.25it/s]\n"
     ]
    },
    {
     "data": {
      "application/vnd.plotly.v1+json": {
       "config": {
        "plotlyServerURL": "https://plot.ly"
       },
       "data": [
        {
         "colorscale": [
          [
           0,
           "rgb(103,0,31)"
          ],
          [
           0.1,
           "rgb(178,24,43)"
          ],
          [
           0.2,
           "rgb(214,96,77)"
          ],
          [
           0.3,
           "rgb(244,165,130)"
          ],
          [
           0.4,
           "rgb(253,219,199)"
          ],
          [
           0.5,
           "rgb(247,247,247)"
          ],
          [
           0.6,
           "rgb(209,229,240)"
          ],
          [
           0.7,
           "rgb(146,197,222)"
          ],
          [
           0.8,
           "rgb(67,147,195)"
          ],
          [
           0.9,
           "rgb(33,102,172)"
          ],
          [
           1,
           "rgb(5,48,97)"
          ]
         ],
         "hoverinfo": "x+y+z",
         "reversescale": true,
         "showscale": true,
         "type": "heatmap",
         "x": [
          0,
          1,
          2,
          3,
          4,
          5,
          6,
          7,
          8,
          9,
          10,
          11,
          12,
          13,
          14,
          15,
          16,
          17,
          18,
          19,
          20,
          21,
          22,
          23,
          24,
          25,
          26,
          27
         ],
         "y": [
          0,
          1,
          2,
          3,
          4,
          5,
          6,
          7,
          8,
          9,
          10,
          11,
          12,
          13,
          14,
          15,
          16,
          17,
          18,
          19,
          20,
          21,
          22,
          23,
          24,
          25,
          26,
          27
         ],
         "z": [
          [
           0,
           0,
           0,
           0,
           0,
           0,
           -2.996705672823896e-06,
           -4.353723633058332e-06,
           -6.412496945034513e-06,
           -3.3045865752145964e-08,
           -5.330700062210897e-06,
           -8.576761971731961e-06,
           -2.8113043192626308e-05,
           -5.909660904839312e-05,
           -7.473490442022265e-05,
           -7.52924917887636e-05,
           -5.379853178520688e-05,
           -3.7566086635219126e-05,
           -1.7064392004908363e-05,
           -1.3601345634352974e-05,
           -7.9517070923317e-06,
           -1.6756121436305171e-06,
           0,
           0,
           0,
           0,
           0,
           0
          ],
          [
           0,
           0,
           0,
           0,
           -2.2479032992413217e-06,
           -3.0116441351694945e-06,
           0.000130490182251565,
           7.805832438726248e-05,
           -1.2454345126498845e-05,
           -0.0001975174058913877,
           -0.00028846164387121356,
           -0.0006956488197335763,
           -0.0010164539225837911,
           -0.0009722487768583608,
           -0.0008868408157770118,
           -0.0006424944107384714,
           -0.000521954439111575,
           -0.00015108401043043007,
           2.820493803176033e-05,
           -0.00013077198768373863,
           -6.659150767154842e-05,
           -3.496764112726272e-05,
           -1.2178705282001046e-05,
           -4.460413457450102e-06,
           -2.443918440973858e-06,
           0,
           0,
           0
          ],
          [
           0,
           0,
           0,
           -3.137212747136159e-06,
           1.9980362103693555e-05,
           2.2049113751893e-06,
           0.0006815985442287682,
           0.0007667224269053627,
           0.00013590852979576337,
           -0.00042748470865660096,
           -0.026457251026569713,
           -0.02651050869740936,
           -0.027039936045957877,
           0.24499919907918827,
           0.21576229908408814,
           -0.025655472837766233,
           -0.025726313244644826,
           -0.0006573124678794055,
           -6.613122234196134e-05,
           -0.00013133551417862308,
           -5.157973425961096e-05,
           -7.646634169831273e-06,
           -2.374166958866303e-06,
           -9.299739716320254e-06,
           -4.778133180265848e-06,
           -1.6759588187982566e-06,
           0,
           0
          ],
          [
           0,
           0,
           0,
           1.9668398526153513e-05,
           0.0005042392306419397,
           0.0004608516592514711,
           0.0010612660600481348,
           0.003558246908651575,
           -0.027297172915139785,
           0.00010765611820701126,
           -0.023144038539215827,
           -0.006230594332148308,
           -0.009274234057862329,
           -0.010590304998029012,
           8.407756102894043e-05,
           0.013551782122721113,
           0.0017908006484334618,
           -0.021082891981571227,
           -0.025435646356289157,
           0.000245909303101758,
           0.00037231614645825625,
           0.00023528917465924157,
           3.603259994118535e-05,
           -1.9174256392251454e-05,
           -5.546630774601324e-06,
           -1.4255037230001544e-06,
           0,
           0
          ],
          [
           0,
           -1.676094473778561e-06,
           -3.997028394441687e-06,
           -9.060862654005492e-06,
           0.000635027469210344,
           0.0009104188554107835,
           0.27994443883728054,
           -0.009357111283741552,
           -0.014352147649567493,
           -0.02670313769503834,
           -0.028047425894108715,
           -0.0068923970869840395,
           -0.010926650879130959,
           -0.015401026788308327,
           -0.008482273520790541,
           0.002860198140478328,
           0.0008366200098946439,
           0.004084243495552954,
           -0.018675577132460895,
           -0.017925288237685192,
           0.0030129164695960643,
           0.0009514407671196261,
           0.0006507323056636344,
           0.00012068140249726217,
           4.836686317438374e-05,
           -7.812341244733262e-06,
           -1.676094473778561e-06,
           0
          ],
          [
           0,
           0,
           -1.3691047012358987e-05,
           -3.067114504274465e-05,
           0.00026166142726461936,
           0.00016286362155272863,
           -0.013716865951216097,
           -0.006984554240597608,
           -0.00970606569426493,
           -0.018259122408711834,
           -0.02598798241597724,
           -0.023523664155511305,
           -0.011937164858650148,
           -0.007065610527576028,
           -0.016575929723548335,
           -0.0018369630960424904,
           -0.0016990965938609298,
           0.0027468561737075126,
           0.01765014444793639,
           0.024323617317718833,
           -0.02406350333821829,
           0.003320966721771037,
           0.0007465289961498152,
           9.788519532119566e-05,
           2.4785570830181125e-05,
           -1.592180605233459e-05,
           -2.127124251578849e-06,
           0
          ],
          [
           0,
           0,
           -4.018643693956547e-05,
           -0.0001765223245504509,
           0.00039665529835920116,
           -0.01232563807479626,
           -0.00380325720171628,
           -0.009389493046810575,
           -0.015590823906203673,
           -0.004038019954883686,
           -0.018599144877793926,
           -0.0022215450165801558,
           0.0012066066611981022,
           -0.011309074384671654,
           -0.012058352380395161,
           -0.00864339658905609,
           4.3028264048741716e-05,
           -0.008028652690120593,
           -0.001393480649038898,
           0.015379846094337457,
           0.02733281407689892,
           0.07996342806576315,
           0.0010864256698696582,
           -9.213982387484831e-08,
           -8.827379235991015e-05,
           -4.6415576837311595e-05,
           -4.851017737970975e-06,
           0
          ],
          [
           0,
           -1.1558638891712159e-06,
           -4.0392556125621454e-05,
           -0.00023141615607281604,
           -0.0001340547876622078,
           -0.024653761046932246,
           -0.015328410298333425,
           -0.01346906974051958,
           -0.013472796683440742,
           -0.011430993770205244,
           -0.0021872772409297393,
           0.009931991034759821,
           0.005109471249012024,
           0.006868233383396368,
           0.0011207711619051902,
           -0.003117080688311298,
           -0.0028829223578756835,
           -0.02030571140859938,
           -0.012713562530250251,
           -0.003137890808383871,
           0.016617344974264252,
           0.00018461977138647945,
           -0.025146107742850206,
           -0.00041143218468304293,
           -0.00020553554001373833,
           -0.0001009404509573486,
           -1.2214719933345553e-05,
           0
          ],
          [
           0,
           -1.1558638891712159e-06,
           -1.9321030019590207e-05,
           -0.00019575524991361642,
           -0.00014762157540327073,
           -0.02684142029548721,
           -0.007952956959725588,
           -0.0020397884056518427,
           -0.001195809690100285,
           -0.013037195428097462,
           0.007895225573928844,
           0.013453171725566131,
           0.01890983567747608,
           0.011793156053681891,
           0.009350386977993303,
           0.0068638969927321825,
           -0.0007969318808205422,
           -0.013996953240603637,
           -0.019331130591080516,
           -0.014166115975930153,
           0.002136256861809408,
           0.01224898465560859,
           -0.026006120267989763,
           -0.0003318940035870223,
           -6.539655513560644e-05,
           -0.0001341939650698551,
           -4.023544232199805e-07,
           9.774460515091926e-06
          ],
          [
           0,
           -1.1558638891712159e-06,
           -1.9435458159688945e-05,
           -0.00010995665895256052,
           -0.00021476470827711328,
           0.004914646189869743,
           -0.004386053180338419,
           0.009803477192996263,
           0.0069234839048162335,
           0.0034648079930220156,
           0.003138903107533276,
           0.012472528967632495,
           0.005462340987357948,
           0.020244081428653717,
           0.009694565805248339,
           0.011906719267576058,
           0.01944280007728291,
           -0.0018064302997357548,
           -0.010897699962599339,
           0.0018744031183023403,
           -0.0034288095735635037,
           0.00067780070607288,
           -0.026209128222351878,
           -0.02610718052754674,
           2.52500768897837e-05,
           -2.6269063410445936e-05,
           6.031174273855855e-07,
           9.774460515091926e-06
          ],
          [
           0,
           0,
           -7.509723081198377e-06,
           -8.080645167867981e-05,
           -9.373552634222432e-05,
           0.1085412018013095,
           -0.0017044787557946757,
           -0.0010871129195806455,
           0.0008884651364885893,
           0.00413372216575604,
           0.002066449914255357,
           0.008483388803081995,
           0.01626769647709068,
           0.02517538334333039,
           0.021583291271398256,
           0.019650328421926183,
           0.011491903299120743,
           0.005855459912548842,
           0.004341663441539561,
           0.002907110252666458,
           0.0016164958083625565,
           0.0006904431432984345,
           0.012088690699060357,
           -0.024137015906473117,
           0.0006808461790199956,
           0.0003681646809773516,
           2.5475966861743943e-05,
           3.347870419889362e-05
          ],
          [
           0,
           -1.6757214218870997e-06,
           -5.681628413484879e-06,
           1.1446131933788573e-05,
           -0.000128209676273347,
           0.003664141286665531,
           -0.004466954749891314,
           -0.0061774065347695375,
           -0.0016825249732265006,
           0.017424239241594953,
           0.01491638959337322,
           0.012789977807503773,
           0.011655657571568893,
           0.007558369754012969,
           0.0035016570958173177,
           0.01472473755813106,
           0.02299537332105045,
           0.027399341924943327,
           0.01668486358391326,
           0.023558360378387017,
           0.008268388280910765,
           0.006009960998921853,
           0.022560018438429797,
           -0.024106484512066522,
           0.0010700362616630592,
           0.000726704873116428,
           3.1534601014623215e-05,
           2.6773732669464062e-05
          ],
          [
           0,
           0,
           -4.421457383607663e-06,
           4.980066603454958e-05,
           -0.0001291680720187996,
           -0.023347421489972143,
           0.010785469041904753,
           -0.006062584586465802,
           -0.0006205943075464938,
           0.00848132134513311,
           -0.010699770418870703,
           -0.0016333907520975771,
           -0.006994666979423386,
           -0.012926671122697134,
           -0.005766785476125521,
           -0.007593203998146423,
           0.011552644895507926,
           0.017391358250075643,
           0.03671829706798652,
           0.042755518060654696,
           0.01911628574419711,
           0.023009807578921185,
           0.02965925230470779,
           -0.023826759329486476,
           0.0015761564628246315,
           0.0005877229625300823,
           -3.1290989815323245e-06,
           -1.676094473778561e-06
          ],
          [
           0,
           0,
           -3.7445267667274296e-06,
           6.232964310709868e-05,
           -5.673103900739884e-05,
           -0.02430921021366939,
           0.01807091120210061,
           -0.00453602244932183,
           -0.0243340403126346,
           -0.019994467664116583,
           -0.006447728631494041,
           0.009107618251344214,
           -0.003783073075011384,
           -0.019135894302434887,
           -0.009978902506554279,
           -0.006977992449806101,
           0.009164616418628535,
           0.013670537187661782,
           0.0236874221697838,
           0.04474180610862508,
           0.011273038718675184,
           0.018193652921824933,
           0.02756154798205414,
           0.2547239126034712,
           0.0007879060633297907,
           0.00011998868242134655,
           -5.046551419873174e-06,
           0
          ],
          [
           0,
           -2.2254010023335657e-06,
           -9.844118408600805e-06,
           0.00010331173711450661,
           -0.00016826041072013145,
           0.4011400779184508,
           0.024186078973557144,
           0.003190924637625648,
           -0.018531129290841695,
           -0.023122661503890002,
           -0.010811708327822394,
           0.021933606651346953,
           0.013664593783820109,
           0.0037390110562874786,
           -0.003928217029066497,
           0.0009579700655558167,
           -0.0016506386778547232,
           0.005529973932219143,
           0.021421489097621003,
           0.04338989342533524,
           0.02069982257304564,
           0.02308322008387501,
           0.01829770342398091,
           0.2823904890769697,
           0.00042960183673201174,
           -6.126999577493047e-05,
           -1.4458588850109477e-06,
           0
          ],
          [
           0,
           -3.3409703116688005e-06,
           -1.7836816669825756e-05,
           6.259807887239871e-05,
           -0.00024262505183884897,
           0.5002895168691333,
           0.3065253686914054,
           0.007510624658870757,
           -0.008500327348529818,
           -0.020285658897204052,
           -0.014633266420048956,
           0.011899178316988897,
           0.01401441684561093,
           0.012413576665148675,
           0.005333791449335816,
           0.01077492810152661,
           0.0015826795589476174,
           -0.007271390689486637,
           0.009341170549589918,
           0.030369906992864872,
           0.016006059458660904,
           0.030790820242015546,
           0.014693195123936995,
           0.36265099555163893,
           0.0010823198864596088,
           6.10417063002279e-05,
           2.461563165426922e-05,
           0
          ],
          [
           -1.676094473778561e-06,
           -5.510794650442907e-06,
           -4.143883913446805e-05,
           -2.8241929632688567e-06,
           0.00020938365766975942,
           0.003959453905168966,
           0.27372281145555766,
           0.012011796351733106,
           0.00579331365949182,
           -0.01491409273550855,
           -0.014730919230868018,
           0.0212327679487308,
           0.01255823115550949,
           0.029951822506323993,
           0.017052616513323716,
           0.017887167791061472,
           0.003041350020935467,
           -0.0026964369268110237,
           -0.017994337608822734,
           -0.004413145982251412,
           -0.007936613359035876,
           -0.000397512318695413,
           0.0012171182263371674,
           -0.02452284147157154,
           0.0009186112227590713,
           0.0001279136370301373,
           0.00015124498281141388,
           0.00015356850933635063
          ],
          [
           -2.515957470694552e-06,
           -9.676452345258602e-06,
           -5.9671581820235076e-05,
           -0.00013238047383210688,
           0.00035267506025308745,
           0.0024830987341018934,
           -0.023034240200816562,
           0.012608967176916668,
           0.008296656984949316,
           0.0035697520783050524,
           0.004081346444002421,
           0.00484051814615204,
           0.015369716915618125,
           0.028035013100758736,
           0.017082750872703407,
           0.004220564078190232,
           -0.006055016111153191,
           -0.006725348431794873,
           -0.012977405511448995,
           -0.014443852659360514,
           -0.011512816685386694,
           -0.008310235945868733,
           -0.001800698333343391,
           -0.02583294753156415,
           0.0008672156959102853,
           -0.00011638275451266583,
           2.042905242168741e-05,
           3.133582114260916e-05
          ],
          [
           -2.1546990786984466e-06,
           -1.435603766852464e-05,
           -5.458053105127439e-05,
           -0.00018817575643418488,
           -1.3330600210741117e-06,
           0.0012777034567986768,
           -0.025057973077074944,
           0.010676787387201042,
           0.016831951082001844,
           0.019737810400882457,
           0.009947524851599318,
           0.012085518967410683,
           0.013393546609341642,
           0.00704007650622367,
           0.013210844446359473,
           0.012405059251622608,
           0.01069042582226273,
           0.0023414734246439244,
           -0.003336163700964609,
           -0.010294034776430018,
           -0.010998653835069039,
           -0.005932412154328777,
           -0.009319313334211553,
           -0.026008532381585438,
           0.0007396910261644705,
           -0.00016597790730502743,
           -7.68742080039346e-05,
           -6.1631435522221945e-06
          ],
          [
           0,
           -7.496385487644475e-06,
           -3.963846029382545e-05,
           -0.00016994797528627203,
           -2.0865219172695737e-05,
           0.001060426983762814,
           0.1943276740588308,
           0.01816865508020398,
           0.006191589979240613,
           0.00921828483977263,
           0.021099751988883607,
           -0.005352375864867094,
           0.0009291824067622946,
           0.0016645135332603658,
           0.011909466514091631,
           0.012799126794135914,
           0.02906811319787134,
           0.004436358080045492,
           -0.0015231470282844675,
           0.005044620985086325,
           0.0010858382140014958,
           -0.0021137320502014507,
           0.006055355951198951,
           -0.025851389682721423,
           0.0005053768955188484,
           -0.00027024776387352123,
           -0.00011969048866426052,
           -4.396154233955729e-06
          ],
          [
           0,
           -2.3455207167275005e-06,
           4.437677846410443e-06,
           -9.278440473337035e-05,
           9.475303302382623e-05,
           0.000516434331451484,
           0.20824307855405777,
           0.1289072738066882,
           0.013187074500286451,
           0.007921202638822209,
           0.00010984268894639881,
           0.0002931303823756441,
           -0.0032623009450251476,
           0.0009959741425519704,
           -0.004972895479038716,
           0.006530228569642617,
           -0.008462017405342932,
           -0.005445440894437121,
           -0.009835625496362157,
           -0.003486433046594045,
           -0.010140066814681874,
           -0.004615087441017133,
           -0.027608855381337775,
           -0.02633098245201934,
           -0.0002570252004232623,
           -0.0002663062139102272,
           -7.835979377688804e-05,
           -3.5566922454745298e-06
          ],
          [
           0,
           0,
           1.7692729139005825e-05,
           -1.3468912590467591e-05,
           4.300364641417545e-05,
           0.0004731359732396065,
           0.00039297773953634804,
           0.3371709978495592,
           0.0001432036212135543,
           -0.002421726574313641,
           -0.001813398853004848,
           -0.002033353559966887,
           -0.01175453645136131,
           -0.005042629348788651,
           -0.00783846537566172,
           -0.007897269666041786,
           -0.01202491562614394,
           -0.014244242619548281,
           -0.01420981038990916,
           -0.020691946777966687,
           -0.016139837348247813,
           -0.021608400090488172,
           -0.028138589280712195,
           -0.02677552174015807,
           -0.0006452657215856618,
           -0.0003022878832981066,
           -5.7510770428061825e-05,
           -5.98840040538437e-06
          ],
          [
           0,
           -1.676094473778561e-06,
           -1.9455804889829953e-06,
           -8.979488465642171e-06,
           4.371723442523484e-05,
           -9.956664621135064e-05,
           -8.482522118134772e-05,
           8.576039636945185e-05,
           -0.02550733057438395,
           0.05592470134729428,
           -0.005806261655124507,
           -0.0024684985957497095,
           -0.0005527179402388047,
           -0.002597614651708994,
           -0.005540102043486452,
           -0.015954915156401225,
           -0.013602995887271145,
           -0.019077217290724265,
           -0.022314761841199043,
           -0.007958423701529448,
           0.009048455975804458,
           -0.026391588283398822,
           -0.02599434930022857,
           0.0005802002407431228,
           0.0005221329677891247,
           0.0007715767776260742,
           -2.546604663067678e-05,
           0
          ],
          [
           0,
           0,
           0,
           -3.753338952517532e-06,
           -6.785819139421695e-06,
           3.902462054503411e-05,
           -6.227859369261485e-05,
           0.00018951823757926145,
           0.00044513786810743486,
           0.19051361652656387,
           -0.013811482524201618,
           -0.025941510532148687,
           -0.01247726782691294,
           0.0007896126131438433,
           -0.0018762425180254179,
           -0.0030246943983706295,
           -0.015410547797144312,
           -0.011377243967117902,
           -0.014512944383742208,
           0.0162615440330818,
           -0.02347372925429139,
           0.0023483131555584527,
           0.0008871539569769542,
           0.0009891984582951,
           0.0009512233953978683,
           0.0006568292228613347,
           -7.933351384551562e-06,
           0
          ],
          [
           0,
           0,
           0,
           0,
           -2.929887143555271e-06,
           1.8561750726148185e-05,
           4.1730481068254915e-05,
           -1.3606704807742759e-05,
           -0.00018372949435132777,
           -0.00037819951301531693,
           -0.0006837797820897634,
           -0.0009693552114869268,
           -0.004432530098623367,
           -0.027619959254747733,
           -0.016408182817374325,
           -0.027556938000324036,
           -0.019457025116196233,
           0.00012748688703678734,
           -0.000586044058567034,
           -0.00024262684814160135,
           0.0005961683175586124,
           0.0009236398682995195,
           0.0007956833354974026,
           0.0005141103867962911,
           0.00013431617206887889,
           -4.510811852952157e-06,
           -1.6517661272641426e-06,
           0
          ],
          [
           0,
           0,
           0,
           0,
           0,
           1.9988296693779217e-06,
           5.708670646864533e-06,
           -5.198789383133173e-06,
           -2.5909260644916415e-05,
           -6.68023507591417e-05,
           -0.00016786256136365127,
           -0.00031477315625813226,
           -0.000411385240495013,
           -0.0004567351032980921,
           -0.0004926205558987776,
           -0.0005007681968628615,
           -0.00033927050622819394,
           -0.00023227770348905122,
           -0.00021033899244482165,
           -2.699970558031617e-05,
           2.4822734366138077e-05,
           2.5243999336604234e-05,
           -1.7595328161160162e-05,
           -8.018417588035592e-06,
           -1.6719530973978436e-06,
           0,
           0,
           0
          ],
          [
           0,
           0,
           0,
           0,
           0,
           1.3737739954843703e-05,
           1.3737739954843703e-05,
           1.3737739954843703e-05,
           1.3218188806125852e-05,
           9.370360645549747e-06,
           -9.195768171769286e-06,
           -2.2169930267580684e-05,
           -3.7088602516478775e-05,
           -3.577209879824031e-05,
           -3.610917228282287e-05,
           -2.0042900875948122e-05,
           -8.414214727206493e-06,
           -7.100972852419618e-06,
           -8.011056717438514e-06,
           -3.53710165940449e-06,
           -2.4079871051713164e-06,
           0,
           0,
           0,
           0,
           0,
           0,
           0
          ],
          [
           0,
           0,
           0,
           0,
           0,
           0,
           0,
           0,
           0,
           0,
           0,
           0,
           0,
           0,
           0,
           0,
           0,
           0,
           0,
           0,
           0,
           0,
           0,
           0,
           0,
           0,
           0,
           0
          ]
         ],
         "zmax": 0.5002895168691333,
         "zmin": -0.5002895168691333,
         "zsmooth": "best"
        }
       ],
       "layout": {
        "height": 500,
        "margin": {
         "b": 20,
         "l": 20,
         "t": 20
        },
        "plot_bgcolor": "white",
        "template": {
         "data": {
          "bar": [
           {
            "error_x": {
             "color": "#2a3f5f"
            },
            "error_y": {
             "color": "#2a3f5f"
            },
            "marker": {
             "line": {
              "color": "#E5ECF6",
              "width": 0.5
             }
            },
            "type": "bar"
           }
          ],
          "barpolar": [
           {
            "marker": {
             "line": {
              "color": "#E5ECF6",
              "width": 0.5
             }
            },
            "type": "barpolar"
           }
          ],
          "carpet": [
           {
            "aaxis": {
             "endlinecolor": "#2a3f5f",
             "gridcolor": "white",
             "linecolor": "white",
             "minorgridcolor": "white",
             "startlinecolor": "#2a3f5f"
            },
            "baxis": {
             "endlinecolor": "#2a3f5f",
             "gridcolor": "white",
             "linecolor": "white",
             "minorgridcolor": "white",
             "startlinecolor": "#2a3f5f"
            },
            "type": "carpet"
           }
          ],
          "choropleth": [
           {
            "colorbar": {
             "outlinewidth": 0,
             "ticks": ""
            },
            "type": "choropleth"
           }
          ],
          "contour": [
           {
            "colorbar": {
             "outlinewidth": 0,
             "ticks": ""
            },
            "colorscale": [
             [
              0,
              "#0d0887"
             ],
             [
              0.1111111111111111,
              "#46039f"
             ],
             [
              0.2222222222222222,
              "#7201a8"
             ],
             [
              0.3333333333333333,
              "#9c179e"
             ],
             [
              0.4444444444444444,
              "#bd3786"
             ],
             [
              0.5555555555555556,
              "#d8576b"
             ],
             [
              0.6666666666666666,
              "#ed7953"
             ],
             [
              0.7777777777777778,
              "#fb9f3a"
             ],
             [
              0.8888888888888888,
              "#fdca26"
             ],
             [
              1,
              "#f0f921"
             ]
            ],
            "type": "contour"
           }
          ],
          "contourcarpet": [
           {
            "colorbar": {
             "outlinewidth": 0,
             "ticks": ""
            },
            "type": "contourcarpet"
           }
          ],
          "heatmap": [
           {
            "colorbar": {
             "outlinewidth": 0,
             "ticks": ""
            },
            "colorscale": [
             [
              0,
              "#0d0887"
             ],
             [
              0.1111111111111111,
              "#46039f"
             ],
             [
              0.2222222222222222,
              "#7201a8"
             ],
             [
              0.3333333333333333,
              "#9c179e"
             ],
             [
              0.4444444444444444,
              "#bd3786"
             ],
             [
              0.5555555555555556,
              "#d8576b"
             ],
             [
              0.6666666666666666,
              "#ed7953"
             ],
             [
              0.7777777777777778,
              "#fb9f3a"
             ],
             [
              0.8888888888888888,
              "#fdca26"
             ],
             [
              1,
              "#f0f921"
             ]
            ],
            "type": "heatmap"
           }
          ],
          "heatmapgl": [
           {
            "colorbar": {
             "outlinewidth": 0,
             "ticks": ""
            },
            "colorscale": [
             [
              0,
              "#0d0887"
             ],
             [
              0.1111111111111111,
              "#46039f"
             ],
             [
              0.2222222222222222,
              "#7201a8"
             ],
             [
              0.3333333333333333,
              "#9c179e"
             ],
             [
              0.4444444444444444,
              "#bd3786"
             ],
             [
              0.5555555555555556,
              "#d8576b"
             ],
             [
              0.6666666666666666,
              "#ed7953"
             ],
             [
              0.7777777777777778,
              "#fb9f3a"
             ],
             [
              0.8888888888888888,
              "#fdca26"
             ],
             [
              1,
              "#f0f921"
             ]
            ],
            "type": "heatmapgl"
           }
          ],
          "histogram": [
           {
            "marker": {
             "colorbar": {
              "outlinewidth": 0,
              "ticks": ""
             }
            },
            "type": "histogram"
           }
          ],
          "histogram2d": [
           {
            "colorbar": {
             "outlinewidth": 0,
             "ticks": ""
            },
            "colorscale": [
             [
              0,
              "#0d0887"
             ],
             [
              0.1111111111111111,
              "#46039f"
             ],
             [
              0.2222222222222222,
              "#7201a8"
             ],
             [
              0.3333333333333333,
              "#9c179e"
             ],
             [
              0.4444444444444444,
              "#bd3786"
             ],
             [
              0.5555555555555556,
              "#d8576b"
             ],
             [
              0.6666666666666666,
              "#ed7953"
             ],
             [
              0.7777777777777778,
              "#fb9f3a"
             ],
             [
              0.8888888888888888,
              "#fdca26"
             ],
             [
              1,
              "#f0f921"
             ]
            ],
            "type": "histogram2d"
           }
          ],
          "histogram2dcontour": [
           {
            "colorbar": {
             "outlinewidth": 0,
             "ticks": ""
            },
            "colorscale": [
             [
              0,
              "#0d0887"
             ],
             [
              0.1111111111111111,
              "#46039f"
             ],
             [
              0.2222222222222222,
              "#7201a8"
             ],
             [
              0.3333333333333333,
              "#9c179e"
             ],
             [
              0.4444444444444444,
              "#bd3786"
             ],
             [
              0.5555555555555556,
              "#d8576b"
             ],
             [
              0.6666666666666666,
              "#ed7953"
             ],
             [
              0.7777777777777778,
              "#fb9f3a"
             ],
             [
              0.8888888888888888,
              "#fdca26"
             ],
             [
              1,
              "#f0f921"
             ]
            ],
            "type": "histogram2dcontour"
           }
          ],
          "mesh3d": [
           {
            "colorbar": {
             "outlinewidth": 0,
             "ticks": ""
            },
            "type": "mesh3d"
           }
          ],
          "parcoords": [
           {
            "line": {
             "colorbar": {
              "outlinewidth": 0,
              "ticks": ""
             }
            },
            "type": "parcoords"
           }
          ],
          "scatter": [
           {
            "marker": {
             "colorbar": {
              "outlinewidth": 0,
              "ticks": ""
             }
            },
            "type": "scatter"
           }
          ],
          "scatter3d": [
           {
            "line": {
             "colorbar": {
              "outlinewidth": 0,
              "ticks": ""
             }
            },
            "marker": {
             "colorbar": {
              "outlinewidth": 0,
              "ticks": ""
             }
            },
            "type": "scatter3d"
           }
          ],
          "scattercarpet": [
           {
            "marker": {
             "colorbar": {
              "outlinewidth": 0,
              "ticks": ""
             }
            },
            "type": "scattercarpet"
           }
          ],
          "scattergeo": [
           {
            "marker": {
             "colorbar": {
              "outlinewidth": 0,
              "ticks": ""
             }
            },
            "type": "scattergeo"
           }
          ],
          "scattergl": [
           {
            "marker": {
             "colorbar": {
              "outlinewidth": 0,
              "ticks": ""
             }
            },
            "type": "scattergl"
           }
          ],
          "scattermapbox": [
           {
            "marker": {
             "colorbar": {
              "outlinewidth": 0,
              "ticks": ""
             }
            },
            "type": "scattermapbox"
           }
          ],
          "scatterpolar": [
           {
            "marker": {
             "colorbar": {
              "outlinewidth": 0,
              "ticks": ""
             }
            },
            "type": "scatterpolar"
           }
          ],
          "scatterpolargl": [
           {
            "marker": {
             "colorbar": {
              "outlinewidth": 0,
              "ticks": ""
             }
            },
            "type": "scatterpolargl"
           }
          ],
          "scatterternary": [
           {
            "marker": {
             "colorbar": {
              "outlinewidth": 0,
              "ticks": ""
             }
            },
            "type": "scatterternary"
           }
          ],
          "surface": [
           {
            "colorbar": {
             "outlinewidth": 0,
             "ticks": ""
            },
            "colorscale": [
             [
              0,
              "#0d0887"
             ],
             [
              0.1111111111111111,
              "#46039f"
             ],
             [
              0.2222222222222222,
              "#7201a8"
             ],
             [
              0.3333333333333333,
              "#9c179e"
             ],
             [
              0.4444444444444444,
              "#bd3786"
             ],
             [
              0.5555555555555556,
              "#d8576b"
             ],
             [
              0.6666666666666666,
              "#ed7953"
             ],
             [
              0.7777777777777778,
              "#fb9f3a"
             ],
             [
              0.8888888888888888,
              "#fdca26"
             ],
             [
              1,
              "#f0f921"
             ]
            ],
            "type": "surface"
           }
          ],
          "table": [
           {
            "cells": {
             "fill": {
              "color": "#EBF0F8"
             },
             "line": {
              "color": "white"
             }
            },
            "header": {
             "fill": {
              "color": "#C8D4E3"
             },
             "line": {
              "color": "white"
             }
            },
            "type": "table"
           }
          ]
         },
         "layout": {
          "annotationdefaults": {
           "arrowcolor": "#2a3f5f",
           "arrowhead": 0,
           "arrowwidth": 1
          },
          "colorscale": {
           "diverging": [
            [
             0,
             "#8e0152"
            ],
            [
             0.1,
             "#c51b7d"
            ],
            [
             0.2,
             "#de77ae"
            ],
            [
             0.3,
             "#f1b6da"
            ],
            [
             0.4,
             "#fde0ef"
            ],
            [
             0.5,
             "#f7f7f7"
            ],
            [
             0.6,
             "#e6f5d0"
            ],
            [
             0.7,
             "#b8e186"
            ],
            [
             0.8,
             "#7fbc41"
            ],
            [
             0.9,
             "#4d9221"
            ],
            [
             1,
             "#276419"
            ]
           ],
           "sequential": [
            [
             0,
             "#0d0887"
            ],
            [
             0.1111111111111111,
             "#46039f"
            ],
            [
             0.2222222222222222,
             "#7201a8"
            ],
            [
             0.3333333333333333,
             "#9c179e"
            ],
            [
             0.4444444444444444,
             "#bd3786"
            ],
            [
             0.5555555555555556,
             "#d8576b"
            ],
            [
             0.6666666666666666,
             "#ed7953"
            ],
            [
             0.7777777777777778,
             "#fb9f3a"
            ],
            [
             0.8888888888888888,
             "#fdca26"
            ],
            [
             1,
             "#f0f921"
            ]
           ],
           "sequentialminus": [
            [
             0,
             "#0d0887"
            ],
            [
             0.1111111111111111,
             "#46039f"
            ],
            [
             0.2222222222222222,
             "#7201a8"
            ],
            [
             0.3333333333333333,
             "#9c179e"
            ],
            [
             0.4444444444444444,
             "#bd3786"
            ],
            [
             0.5555555555555556,
             "#d8576b"
            ],
            [
             0.6666666666666666,
             "#ed7953"
            ],
            [
             0.7777777777777778,
             "#fb9f3a"
            ],
            [
             0.8888888888888888,
             "#fdca26"
            ],
            [
             1,
             "#f0f921"
            ]
           ]
          },
          "colorway": [
           "#636efa",
           "#EF553B",
           "#00cc96",
           "#ab63fa",
           "#FFA15A",
           "#19d3f3",
           "#FF6692",
           "#B6E880",
           "#FF97FF",
           "#FECB52"
          ],
          "font": {
           "color": "#2a3f5f"
          },
          "geo": {
           "bgcolor": "white",
           "lakecolor": "white",
           "landcolor": "#E5ECF6",
           "showlakes": true,
           "showland": true,
           "subunitcolor": "white"
          },
          "hoverlabel": {
           "align": "left"
          },
          "hovermode": "closest",
          "mapbox": {
           "style": "light"
          },
          "paper_bgcolor": "white",
          "plot_bgcolor": "#E5ECF6",
          "polar": {
           "angularaxis": {
            "gridcolor": "white",
            "linecolor": "white",
            "ticks": ""
           },
           "bgcolor": "#E5ECF6",
           "radialaxis": {
            "gridcolor": "white",
            "linecolor": "white",
            "ticks": ""
           }
          },
          "scene": {
           "xaxis": {
            "backgroundcolor": "#E5ECF6",
            "gridcolor": "white",
            "gridwidth": 2,
            "linecolor": "white",
            "showbackground": true,
            "ticks": "",
            "zerolinecolor": "white"
           },
           "yaxis": {
            "backgroundcolor": "#E5ECF6",
            "gridcolor": "white",
            "gridwidth": 2,
            "linecolor": "white",
            "showbackground": true,
            "ticks": "",
            "zerolinecolor": "white"
           },
           "zaxis": {
            "backgroundcolor": "#E5ECF6",
            "gridcolor": "white",
            "gridwidth": 2,
            "linecolor": "white",
            "showbackground": true,
            "ticks": "",
            "zerolinecolor": "white"
           }
          },
          "shapedefaults": {
           "line": {
            "color": "#2a3f5f"
           }
          },
          "ternary": {
           "aaxis": {
            "gridcolor": "white",
            "linecolor": "white",
            "ticks": ""
           },
           "baxis": {
            "gridcolor": "white",
            "linecolor": "white",
            "ticks": ""
           },
           "bgcolor": "#E5ECF6",
           "caxis": {
            "gridcolor": "white",
            "linecolor": "white",
            "ticks": ""
           }
          },
          "title": {
           "x": 0.05
          },
          "xaxis": {
           "automargin": true,
           "gridcolor": "white",
           "linecolor": "white",
           "ticks": "",
           "zerolinecolor": "white",
           "zerolinewidth": 2
          },
          "yaxis": {
           "automargin": true,
           "gridcolor": "white",
           "linecolor": "white",
           "ticks": "",
           "zerolinecolor": "white",
           "zerolinewidth": 2
          }
         }
        },
        "width": 500,
        "xaxis": {
         "visible": false
        },
        "yaxis": {
         "scaleanchor": "x",
         "scaleratio": 1,
         "visible": false
        }
       }
      },
      "text/html": [
       "<div>\n",
       "        \n",
       "        \n",
       "            <div id=\"5a7d250f-5861-4033-8f52-bc143167b626\" class=\"plotly-graph-div\" style=\"height:500.0px; width:500px;\"></div>\n",
       "            <script type=\"text/javascript\">\n",
       "                require([\"plotly\"], function(Plotly) {\n",
       "                    window.PLOTLYENV=window.PLOTLYENV || {};\n",
       "                    \n",
       "                if (document.getElementById(\"5a7d250f-5861-4033-8f52-bc143167b626\")) {\n",
       "                    Plotly.newPlot(\n",
       "                        '5a7d250f-5861-4033-8f52-bc143167b626',\n",
       "                        [{\"colorscale\": [[0.0, \"rgb(103,0,31)\"], [0.1, \"rgb(178,24,43)\"], [0.2, \"rgb(214,96,77)\"], [0.3, \"rgb(244,165,130)\"], [0.4, \"rgb(253,219,199)\"], [0.5, \"rgb(247,247,247)\"], [0.6, \"rgb(209,229,240)\"], [0.7, \"rgb(146,197,222)\"], [0.8, \"rgb(67,147,195)\"], [0.9, \"rgb(33,102,172)\"], [1.0, \"rgb(5,48,97)\"]], \"hoverinfo\": \"x+y+z\", \"reversescale\": true, \"showscale\": true, \"type\": \"heatmap\", \"x\": [0, 1, 2, 3, 4, 5, 6, 7, 8, 9, 10, 11, 12, 13, 14, 15, 16, 17, 18, 19, 20, 21, 22, 23, 24, 25, 26, 27], \"y\": [0, 1, 2, 3, 4, 5, 6, 7, 8, 9, 10, 11, 12, 13, 14, 15, 16, 17, 18, 19, 20, 21, 22, 23, 24, 25, 26, 27], \"z\": [[0.0, 0.0, 0.0, 0.0, 0.0, 0.0, -2.996705672823896e-06, -4.353723633058332e-06, -6.412496945034513e-06, -3.3045865752145964e-08, -5.330700062210897e-06, -8.576761971731961e-06, -2.8113043192626308e-05, -5.909660904839312e-05, -7.473490442022265e-05, -7.52924917887636e-05, -5.379853178520688e-05, -3.7566086635219126e-05, -1.7064392004908363e-05, -1.3601345634352974e-05, -7.9517070923317e-06, -1.6756121436305171e-06, 0.0, 0.0, 0.0, 0.0, 0.0, 0.0], [0.0, 0.0, 0.0, 0.0, -2.2479032992413217e-06, -3.0116441351694945e-06, 0.000130490182251565, 7.805832438726248e-05, -1.2454345126498845e-05, -0.0001975174058913877, -0.00028846164387121356, -0.0006956488197335763, -0.0010164539225837911, -0.0009722487768583608, -0.0008868408157770118, -0.0006424944107384714, -0.000521954439111575, -0.00015108401043043007, 2.820493803176033e-05, -0.00013077198768373863, -6.659150767154842e-05, -3.496764112726272e-05, -1.2178705282001046e-05, -4.460413457450102e-06, -2.443918440973858e-06, 0.0, 0.0, 0.0], [0.0, 0.0, 0.0, -3.137212747136159e-06, 1.9980362103693555e-05, 2.2049113751893e-06, 0.0006815985442287682, 0.0007667224269053627, 0.00013590852979576337, -0.00042748470865660096, -0.026457251026569713, -0.02651050869740936, -0.027039936045957877, 0.24499919907918827, 0.21576229908408814, -0.025655472837766233, -0.025726313244644826, -0.0006573124678794055, -6.613122234196134e-05, -0.00013133551417862308, -5.157973425961096e-05, -7.646634169831273e-06, -2.374166958866303e-06, -9.299739716320254e-06, -4.778133180265848e-06, -1.6759588187982566e-06, 0.0, 0.0], [0.0, 0.0, 0.0, 1.9668398526153513e-05, 0.0005042392306419397, 0.0004608516592514711, 0.0010612660600481348, 0.003558246908651575, -0.027297172915139785, 0.00010765611820701126, -0.023144038539215827, -0.006230594332148308, -0.009274234057862329, -0.010590304998029012, 8.407756102894043e-05, 0.013551782122721113, 0.0017908006484334618, -0.021082891981571227, -0.025435646356289157, 0.000245909303101758, 0.00037231614645825625, 0.00023528917465924157, 3.603259994118535e-05, -1.9174256392251454e-05, -5.546630774601324e-06, -1.4255037230001544e-06, 0.0, 0.0], [0.0, -1.676094473778561e-06, -3.997028394441687e-06, -9.060862654005492e-06, 0.000635027469210344, 0.0009104188554107835, 0.27994443883728054, -0.009357111283741552, -0.014352147649567493, -0.02670313769503834, -0.028047425894108715, -0.0068923970869840395, -0.010926650879130959, -0.015401026788308327, -0.008482273520790541, 0.002860198140478328, 0.0008366200098946439, 0.004084243495552954, -0.018675577132460895, -0.017925288237685192, 0.0030129164695960643, 0.0009514407671196261, 0.0006507323056636344, 0.00012068140249726217, 4.836686317438374e-05, -7.812341244733262e-06, -1.676094473778561e-06, 0.0], [0.0, 0.0, -1.3691047012358987e-05, -3.067114504274465e-05, 0.00026166142726461936, 0.00016286362155272863, -0.013716865951216097, -0.006984554240597608, -0.00970606569426493, -0.018259122408711834, -0.02598798241597724, -0.023523664155511305, -0.011937164858650148, -0.007065610527576028, -0.016575929723548335, -0.0018369630960424904, -0.0016990965938609298, 0.0027468561737075126, 0.01765014444793639, 0.024323617317718833, -0.02406350333821829, 0.003320966721771037, 0.0007465289961498152, 9.788519532119566e-05, 2.4785570830181125e-05, -1.592180605233459e-05, -2.127124251578849e-06, 0.0], [0.0, 0.0, -4.018643693956547e-05, -0.0001765223245504509, 0.00039665529835920116, -0.01232563807479626, -0.00380325720171628, -0.009389493046810575, -0.015590823906203673, -0.004038019954883686, -0.018599144877793926, -0.0022215450165801558, 0.0012066066611981022, -0.011309074384671654, -0.012058352380395161, -0.00864339658905609, 4.3028264048741716e-05, -0.008028652690120593, -0.001393480649038898, 0.015379846094337457, 0.02733281407689892, 0.07996342806576315, 0.0010864256698696582, -9.213982387484831e-08, -8.827379235991015e-05, -4.6415576837311595e-05, -4.851017737970975e-06, 0.0], [0.0, -1.1558638891712159e-06, -4.0392556125621454e-05, -0.00023141615607281604, -0.0001340547876622078, -0.024653761046932246, -0.015328410298333425, -0.01346906974051958, -0.013472796683440742, -0.011430993770205244, -0.0021872772409297393, 0.009931991034759821, 0.005109471249012024, 0.006868233383396368, 0.0011207711619051902, -0.003117080688311298, -0.0028829223578756835, -0.02030571140859938, -0.012713562530250251, -0.003137890808383871, 0.016617344974264252, 0.00018461977138647945, -0.025146107742850206, -0.00041143218468304293, -0.00020553554001373833, -0.0001009404509573486, -1.2214719933345553e-05, 0.0], [0.0, -1.1558638891712159e-06, -1.9321030019590207e-05, -0.00019575524991361642, -0.00014762157540327073, -0.02684142029548721, -0.007952956959725588, -0.0020397884056518427, -0.001195809690100285, -0.013037195428097462, 0.007895225573928844, 0.013453171725566131, 0.01890983567747608, 0.011793156053681891, 0.009350386977993303, 0.0068638969927321825, -0.0007969318808205422, -0.013996953240603637, -0.019331130591080516, -0.014166115975930153, 0.002136256861809408, 0.01224898465560859, -0.026006120267989763, -0.0003318940035870223, -6.539655513560644e-05, -0.0001341939650698551, -4.023544232199805e-07, 9.774460515091926e-06], [0.0, -1.1558638891712159e-06, -1.9435458159688945e-05, -0.00010995665895256052, -0.00021476470827711328, 0.004914646189869743, -0.004386053180338419, 0.009803477192996263, 0.0069234839048162335, 0.0034648079930220156, 0.003138903107533276, 0.012472528967632495, 0.005462340987357948, 0.020244081428653717, 0.009694565805248339, 0.011906719267576058, 0.01944280007728291, -0.0018064302997357548, -0.010897699962599339, 0.0018744031183023403, -0.0034288095735635037, 0.00067780070607288, -0.026209128222351878, -0.02610718052754674, 2.52500768897837e-05, -2.6269063410445936e-05, 6.031174273855855e-07, 9.774460515091926e-06], [0.0, 0.0, -7.509723081198377e-06, -8.080645167867981e-05, -9.373552634222432e-05, 0.1085412018013095, -0.0017044787557946757, -0.0010871129195806455, 0.0008884651364885893, 0.00413372216575604, 0.002066449914255357, 0.008483388803081995, 0.01626769647709068, 0.02517538334333039, 0.021583291271398256, 0.019650328421926183, 0.011491903299120743, 0.005855459912548842, 0.004341663441539561, 0.002907110252666458, 0.0016164958083625565, 0.0006904431432984345, 0.012088690699060357, -0.024137015906473117, 0.0006808461790199956, 0.0003681646809773516, 2.5475966861743943e-05, 3.347870419889362e-05], [0.0, -1.6757214218870997e-06, -5.681628413484879e-06, 1.1446131933788573e-05, -0.000128209676273347, 0.003664141286665531, -0.004466954749891314, -0.0061774065347695375, -0.0016825249732265006, 0.017424239241594953, 0.01491638959337322, 0.012789977807503773, 0.011655657571568893, 0.007558369754012969, 0.0035016570958173177, 0.01472473755813106, 0.02299537332105045, 0.027399341924943327, 0.01668486358391326, 0.023558360378387017, 0.008268388280910765, 0.006009960998921853, 0.022560018438429797, -0.024106484512066522, 0.0010700362616630592, 0.000726704873116428, 3.1534601014623215e-05, 2.6773732669464062e-05], [0.0, 0.0, -4.421457383607663e-06, 4.980066603454958e-05, -0.0001291680720187996, -0.023347421489972143, 0.010785469041904753, -0.006062584586465802, -0.0006205943075464938, 0.00848132134513311, -0.010699770418870703, -0.0016333907520975771, -0.006994666979423386, -0.012926671122697134, -0.005766785476125521, -0.007593203998146423, 0.011552644895507926, 0.017391358250075643, 0.03671829706798652, 0.042755518060654696, 0.01911628574419711, 0.023009807578921185, 0.02965925230470779, -0.023826759329486476, 0.0015761564628246315, 0.0005877229625300823, -3.1290989815323245e-06, -1.676094473778561e-06], [0.0, 0.0, -3.7445267667274296e-06, 6.232964310709868e-05, -5.673103900739884e-05, -0.02430921021366939, 0.01807091120210061, -0.00453602244932183, -0.0243340403126346, -0.019994467664116583, -0.006447728631494041, 0.009107618251344214, -0.003783073075011384, -0.019135894302434887, -0.009978902506554279, -0.006977992449806101, 0.009164616418628535, 0.013670537187661782, 0.0236874221697838, 0.04474180610862508, 0.011273038718675184, 0.018193652921824933, 0.02756154798205414, 0.2547239126034712, 0.0007879060633297907, 0.00011998868242134655, -5.046551419873174e-06, 0.0], [0.0, -2.2254010023335657e-06, -9.844118408600805e-06, 0.00010331173711450661, -0.00016826041072013145, 0.4011400779184508, 0.024186078973557144, 0.003190924637625648, -0.018531129290841695, -0.023122661503890002, -0.010811708327822394, 0.021933606651346953, 0.013664593783820109, 0.0037390110562874786, -0.003928217029066497, 0.0009579700655558167, -0.0016506386778547232, 0.005529973932219143, 0.021421489097621003, 0.04338989342533524, 0.02069982257304564, 0.02308322008387501, 0.01829770342398091, 0.2823904890769697, 0.00042960183673201174, -6.126999577493047e-05, -1.4458588850109477e-06, 0.0], [0.0, -3.3409703116688005e-06, -1.7836816669825756e-05, 6.259807887239871e-05, -0.00024262505183884897, 0.5002895168691333, 0.3065253686914054, 0.007510624658870757, -0.008500327348529818, -0.020285658897204052, -0.014633266420048956, 0.011899178316988897, 0.01401441684561093, 0.012413576665148675, 0.005333791449335816, 0.01077492810152661, 0.0015826795589476174, -0.007271390689486637, 0.009341170549589918, 0.030369906992864872, 0.016006059458660904, 0.030790820242015546, 0.014693195123936995, 0.36265099555163893, 0.0010823198864596088, 6.10417063002279e-05, 2.461563165426922e-05, 0.0], [-1.676094473778561e-06, -5.510794650442907e-06, -4.143883913446805e-05, -2.8241929632688567e-06, 0.00020938365766975942, 0.003959453905168966, 0.27372281145555766, 0.012011796351733106, 0.00579331365949182, -0.01491409273550855, -0.014730919230868018, 0.0212327679487308, 0.01255823115550949, 0.029951822506323993, 0.017052616513323716, 0.017887167791061472, 0.003041350020935467, -0.0026964369268110237, -0.017994337608822734, -0.004413145982251412, -0.007936613359035876, -0.000397512318695413, 0.0012171182263371674, -0.02452284147157154, 0.0009186112227590713, 0.0001279136370301373, 0.00015124498281141388, 0.00015356850933635063], [-2.515957470694552e-06, -9.676452345258602e-06, -5.9671581820235076e-05, -0.00013238047383210688, 0.00035267506025308745, 0.0024830987341018934, -0.023034240200816562, 0.012608967176916668, 0.008296656984949316, 0.0035697520783050524, 0.004081346444002421, 0.00484051814615204, 0.015369716915618125, 0.028035013100758736, 0.017082750872703407, 0.004220564078190232, -0.006055016111153191, -0.006725348431794873, -0.012977405511448995, -0.014443852659360514, -0.011512816685386694, -0.008310235945868733, -0.001800698333343391, -0.02583294753156415, 0.0008672156959102853, -0.00011638275451266583, 2.042905242168741e-05, 3.133582114260916e-05], [-2.1546990786984466e-06, -1.435603766852464e-05, -5.458053105127439e-05, -0.00018817575643418488, -1.3330600210741117e-06, 0.0012777034567986768, -0.025057973077074944, 0.010676787387201042, 0.016831951082001844, 0.019737810400882457, 0.009947524851599318, 0.012085518967410683, 0.013393546609341642, 0.00704007650622367, 0.013210844446359473, 0.012405059251622608, 0.01069042582226273, 0.0023414734246439244, -0.003336163700964609, -0.010294034776430018, -0.010998653835069039, -0.005932412154328777, -0.009319313334211553, -0.026008532381585438, 0.0007396910261644705, -0.00016597790730502743, -7.68742080039346e-05, -6.1631435522221945e-06], [0.0, -7.496385487644475e-06, -3.963846029382545e-05, -0.00016994797528627203, -2.0865219172695737e-05, 0.001060426983762814, 0.1943276740588308, 0.01816865508020398, 0.006191589979240613, 0.00921828483977263, 0.021099751988883607, -0.005352375864867094, 0.0009291824067622946, 0.0016645135332603658, 0.011909466514091631, 0.012799126794135914, 0.02906811319787134, 0.004436358080045492, -0.0015231470282844675, 0.005044620985086325, 0.0010858382140014958, -0.0021137320502014507, 0.006055355951198951, -0.025851389682721423, 0.0005053768955188484, -0.00027024776387352123, -0.00011969048866426052, -4.396154233955729e-06], [0.0, -2.3455207167275005e-06, 4.437677846410443e-06, -9.278440473337035e-05, 9.475303302382623e-05, 0.000516434331451484, 0.20824307855405777, 0.1289072738066882, 0.013187074500286451, 0.007921202638822209, 0.00010984268894639881, 0.0002931303823756441, -0.0032623009450251476, 0.0009959741425519704, -0.004972895479038716, 0.006530228569642617, -0.008462017405342932, -0.005445440894437121, -0.009835625496362157, -0.003486433046594045, -0.010140066814681874, -0.004615087441017133, -0.027608855381337775, -0.02633098245201934, -0.0002570252004232623, -0.0002663062139102272, -7.835979377688804e-05, -3.5566922454745298e-06], [0.0, 0.0, 1.7692729139005825e-05, -1.3468912590467591e-05, 4.300364641417545e-05, 0.0004731359732396065, 0.00039297773953634804, 0.3371709978495592, 0.0001432036212135543, -0.002421726574313641, -0.001813398853004848, -0.002033353559966887, -0.01175453645136131, -0.005042629348788651, -0.00783846537566172, -0.007897269666041786, -0.01202491562614394, -0.014244242619548281, -0.01420981038990916, -0.020691946777966687, -0.016139837348247813, -0.021608400090488172, -0.028138589280712195, -0.02677552174015807, -0.0006452657215856618, -0.0003022878832981066, -5.7510770428061825e-05, -5.98840040538437e-06], [0.0, -1.676094473778561e-06, -1.9455804889829953e-06, -8.979488465642171e-06, 4.371723442523484e-05, -9.956664621135064e-05, -8.482522118134772e-05, 8.576039636945185e-05, -0.02550733057438395, 0.05592470134729428, -0.005806261655124507, -0.0024684985957497095, -0.0005527179402388047, -0.002597614651708994, -0.005540102043486452, -0.015954915156401225, -0.013602995887271145, -0.019077217290724265, -0.022314761841199043, -0.007958423701529448, 0.009048455975804458, -0.026391588283398822, -0.02599434930022857, 0.0005802002407431228, 0.0005221329677891247, 0.0007715767776260742, -2.546604663067678e-05, 0.0], [0.0, 0.0, 0.0, -3.753338952517532e-06, -6.785819139421695e-06, 3.902462054503411e-05, -6.227859369261485e-05, 0.00018951823757926145, 0.00044513786810743486, 0.19051361652656387, -0.013811482524201618, -0.025941510532148687, -0.01247726782691294, 0.0007896126131438433, -0.0018762425180254179, -0.0030246943983706295, -0.015410547797144312, -0.011377243967117902, -0.014512944383742208, 0.0162615440330818, -0.02347372925429139, 0.0023483131555584527, 0.0008871539569769542, 0.0009891984582951, 0.0009512233953978683, 0.0006568292228613347, -7.933351384551562e-06, 0.0], [0.0, 0.0, 0.0, 0.0, -2.929887143555271e-06, 1.8561750726148185e-05, 4.1730481068254915e-05, -1.3606704807742759e-05, -0.00018372949435132777, -0.00037819951301531693, -0.0006837797820897634, -0.0009693552114869268, -0.004432530098623367, -0.027619959254747733, -0.016408182817374325, -0.027556938000324036, -0.019457025116196233, 0.00012748688703678734, -0.000586044058567034, -0.00024262684814160135, 0.0005961683175586124, 0.0009236398682995195, 0.0007956833354974026, 0.0005141103867962911, 0.00013431617206887889, -4.510811852952157e-06, -1.6517661272641426e-06, 0.0], [0.0, 0.0, 0.0, 0.0, 0.0, 1.9988296693779217e-06, 5.708670646864533e-06, -5.198789383133173e-06, -2.5909260644916415e-05, -6.68023507591417e-05, -0.00016786256136365127, -0.00031477315625813226, -0.000411385240495013, -0.0004567351032980921, -0.0004926205558987776, -0.0005007681968628615, -0.00033927050622819394, -0.00023227770348905122, -0.00021033899244482165, -2.699970558031617e-05, 2.4822734366138077e-05, 2.5243999336604234e-05, -1.7595328161160162e-05, -8.018417588035592e-06, -1.6719530973978436e-06, 0.0, 0.0, 0.0], [0.0, 0.0, 0.0, 0.0, 0.0, 1.3737739954843703e-05, 1.3737739954843703e-05, 1.3737739954843703e-05, 1.3218188806125852e-05, 9.370360645549747e-06, -9.195768171769286e-06, -2.2169930267580684e-05, -3.7088602516478775e-05, -3.577209879824031e-05, -3.610917228282287e-05, -2.0042900875948122e-05, -8.414214727206493e-06, -7.100972852419618e-06, -8.011056717438514e-06, -3.53710165940449e-06, -2.4079871051713164e-06, 0.0, 0.0, 0.0, 0.0, 0.0, 0.0, 0.0], [0.0, 0.0, 0.0, 0.0, 0.0, 0.0, 0.0, 0.0, 0.0, 0.0, 0.0, 0.0, 0.0, 0.0, 0.0, 0.0, 0.0, 0.0, 0.0, 0.0, 0.0, 0.0, 0.0, 0.0, 0.0, 0.0, 0.0, 0.0]], \"zmax\": 0.5002895168691333, \"zmin\": -0.5002895168691333, \"zsmooth\": \"best\"}],\n",
       "                        {\"height\": 500.0, \"margin\": {\"b\": 20, \"l\": 20, \"t\": 20}, \"plot_bgcolor\": \"white\", \"template\": {\"data\": {\"bar\": [{\"error_x\": {\"color\": \"#2a3f5f\"}, \"error_y\": {\"color\": \"#2a3f5f\"}, \"marker\": {\"line\": {\"color\": \"#E5ECF6\", \"width\": 0.5}}, \"type\": \"bar\"}], \"barpolar\": [{\"marker\": {\"line\": {\"color\": \"#E5ECF6\", \"width\": 0.5}}, \"type\": \"barpolar\"}], \"carpet\": [{\"aaxis\": {\"endlinecolor\": \"#2a3f5f\", \"gridcolor\": \"white\", \"linecolor\": \"white\", \"minorgridcolor\": \"white\", \"startlinecolor\": \"#2a3f5f\"}, \"baxis\": {\"endlinecolor\": \"#2a3f5f\", \"gridcolor\": \"white\", \"linecolor\": \"white\", \"minorgridcolor\": \"white\", \"startlinecolor\": \"#2a3f5f\"}, \"type\": \"carpet\"}], \"choropleth\": [{\"colorbar\": {\"outlinewidth\": 0, \"ticks\": \"\"}, \"type\": \"choropleth\"}], \"contour\": [{\"colorbar\": {\"outlinewidth\": 0, \"ticks\": \"\"}, \"colorscale\": [[0.0, \"#0d0887\"], [0.1111111111111111, \"#46039f\"], [0.2222222222222222, \"#7201a8\"], [0.3333333333333333, \"#9c179e\"], [0.4444444444444444, \"#bd3786\"], [0.5555555555555556, \"#d8576b\"], [0.6666666666666666, \"#ed7953\"], [0.7777777777777778, \"#fb9f3a\"], [0.8888888888888888, \"#fdca26\"], [1.0, \"#f0f921\"]], \"type\": \"contour\"}], \"contourcarpet\": [{\"colorbar\": {\"outlinewidth\": 0, \"ticks\": \"\"}, \"type\": \"contourcarpet\"}], \"heatmap\": [{\"colorbar\": {\"outlinewidth\": 0, \"ticks\": \"\"}, \"colorscale\": [[0.0, \"#0d0887\"], [0.1111111111111111, \"#46039f\"], [0.2222222222222222, \"#7201a8\"], [0.3333333333333333, \"#9c179e\"], [0.4444444444444444, \"#bd3786\"], [0.5555555555555556, \"#d8576b\"], [0.6666666666666666, \"#ed7953\"], [0.7777777777777778, \"#fb9f3a\"], [0.8888888888888888, \"#fdca26\"], [1.0, \"#f0f921\"]], \"type\": \"heatmap\"}], \"heatmapgl\": [{\"colorbar\": {\"outlinewidth\": 0, \"ticks\": \"\"}, \"colorscale\": [[0.0, \"#0d0887\"], [0.1111111111111111, \"#46039f\"], [0.2222222222222222, \"#7201a8\"], [0.3333333333333333, \"#9c179e\"], [0.4444444444444444, \"#bd3786\"], [0.5555555555555556, \"#d8576b\"], [0.6666666666666666, \"#ed7953\"], [0.7777777777777778, \"#fb9f3a\"], [0.8888888888888888, \"#fdca26\"], [1.0, \"#f0f921\"]], \"type\": \"heatmapgl\"}], \"histogram\": [{\"marker\": {\"colorbar\": {\"outlinewidth\": 0, \"ticks\": \"\"}}, \"type\": \"histogram\"}], \"histogram2d\": [{\"colorbar\": {\"outlinewidth\": 0, \"ticks\": \"\"}, \"colorscale\": [[0.0, \"#0d0887\"], [0.1111111111111111, \"#46039f\"], [0.2222222222222222, \"#7201a8\"], [0.3333333333333333, \"#9c179e\"], [0.4444444444444444, \"#bd3786\"], [0.5555555555555556, \"#d8576b\"], [0.6666666666666666, \"#ed7953\"], [0.7777777777777778, \"#fb9f3a\"], [0.8888888888888888, \"#fdca26\"], [1.0, \"#f0f921\"]], \"type\": \"histogram2d\"}], \"histogram2dcontour\": [{\"colorbar\": {\"outlinewidth\": 0, \"ticks\": \"\"}, \"colorscale\": [[0.0, \"#0d0887\"], [0.1111111111111111, \"#46039f\"], [0.2222222222222222, \"#7201a8\"], [0.3333333333333333, \"#9c179e\"], [0.4444444444444444, \"#bd3786\"], [0.5555555555555556, \"#d8576b\"], [0.6666666666666666, \"#ed7953\"], [0.7777777777777778, \"#fb9f3a\"], [0.8888888888888888, \"#fdca26\"], [1.0, \"#f0f921\"]], \"type\": \"histogram2dcontour\"}], \"mesh3d\": [{\"colorbar\": {\"outlinewidth\": 0, \"ticks\": \"\"}, \"type\": \"mesh3d\"}], \"parcoords\": [{\"line\": {\"colorbar\": {\"outlinewidth\": 0, \"ticks\": \"\"}}, \"type\": \"parcoords\"}], \"scatter\": [{\"marker\": {\"colorbar\": {\"outlinewidth\": 0, \"ticks\": \"\"}}, \"type\": \"scatter\"}], \"scatter3d\": [{\"line\": {\"colorbar\": {\"outlinewidth\": 0, \"ticks\": \"\"}}, \"marker\": {\"colorbar\": {\"outlinewidth\": 0, \"ticks\": \"\"}}, \"type\": \"scatter3d\"}], \"scattercarpet\": [{\"marker\": {\"colorbar\": {\"outlinewidth\": 0, \"ticks\": \"\"}}, \"type\": \"scattercarpet\"}], \"scattergeo\": [{\"marker\": {\"colorbar\": {\"outlinewidth\": 0, \"ticks\": \"\"}}, \"type\": \"scattergeo\"}], \"scattergl\": [{\"marker\": {\"colorbar\": {\"outlinewidth\": 0, \"ticks\": \"\"}}, \"type\": \"scattergl\"}], \"scattermapbox\": [{\"marker\": {\"colorbar\": {\"outlinewidth\": 0, \"ticks\": \"\"}}, \"type\": \"scattermapbox\"}], \"scatterpolar\": [{\"marker\": {\"colorbar\": {\"outlinewidth\": 0, \"ticks\": \"\"}}, \"type\": \"scatterpolar\"}], \"scatterpolargl\": [{\"marker\": {\"colorbar\": {\"outlinewidth\": 0, \"ticks\": \"\"}}, \"type\": \"scatterpolargl\"}], \"scatterternary\": [{\"marker\": {\"colorbar\": {\"outlinewidth\": 0, \"ticks\": \"\"}}, \"type\": \"scatterternary\"}], \"surface\": [{\"colorbar\": {\"outlinewidth\": 0, \"ticks\": \"\"}, \"colorscale\": [[0.0, \"#0d0887\"], [0.1111111111111111, \"#46039f\"], [0.2222222222222222, \"#7201a8\"], [0.3333333333333333, \"#9c179e\"], [0.4444444444444444, \"#bd3786\"], [0.5555555555555556, \"#d8576b\"], [0.6666666666666666, \"#ed7953\"], [0.7777777777777778, \"#fb9f3a\"], [0.8888888888888888, \"#fdca26\"], [1.0, \"#f0f921\"]], \"type\": \"surface\"}], \"table\": [{\"cells\": {\"fill\": {\"color\": \"#EBF0F8\"}, \"line\": {\"color\": \"white\"}}, \"header\": {\"fill\": {\"color\": \"#C8D4E3\"}, \"line\": {\"color\": \"white\"}}, \"type\": \"table\"}]}, \"layout\": {\"annotationdefaults\": {\"arrowcolor\": \"#2a3f5f\", \"arrowhead\": 0, \"arrowwidth\": 1}, \"colorscale\": {\"diverging\": [[0, \"#8e0152\"], [0.1, \"#c51b7d\"], [0.2, \"#de77ae\"], [0.3, \"#f1b6da\"], [0.4, \"#fde0ef\"], [0.5, \"#f7f7f7\"], [0.6, \"#e6f5d0\"], [0.7, \"#b8e186\"], [0.8, \"#7fbc41\"], [0.9, \"#4d9221\"], [1, \"#276419\"]], \"sequential\": [[0.0, \"#0d0887\"], [0.1111111111111111, \"#46039f\"], [0.2222222222222222, \"#7201a8\"], [0.3333333333333333, \"#9c179e\"], [0.4444444444444444, \"#bd3786\"], [0.5555555555555556, \"#d8576b\"], [0.6666666666666666, \"#ed7953\"], [0.7777777777777778, \"#fb9f3a\"], [0.8888888888888888, \"#fdca26\"], [1.0, \"#f0f921\"]], \"sequentialminus\": [[0.0, \"#0d0887\"], [0.1111111111111111, \"#46039f\"], [0.2222222222222222, \"#7201a8\"], [0.3333333333333333, \"#9c179e\"], [0.4444444444444444, \"#bd3786\"], [0.5555555555555556, \"#d8576b\"], [0.6666666666666666, \"#ed7953\"], [0.7777777777777778, \"#fb9f3a\"], [0.8888888888888888, \"#fdca26\"], [1.0, \"#f0f921\"]]}, \"colorway\": [\"#636efa\", \"#EF553B\", \"#00cc96\", \"#ab63fa\", \"#FFA15A\", \"#19d3f3\", \"#FF6692\", \"#B6E880\", \"#FF97FF\", \"#FECB52\"], \"font\": {\"color\": \"#2a3f5f\"}, \"geo\": {\"bgcolor\": \"white\", \"lakecolor\": \"white\", \"landcolor\": \"#E5ECF6\", \"showlakes\": true, \"showland\": true, \"subunitcolor\": \"white\"}, \"hoverlabel\": {\"align\": \"left\"}, \"hovermode\": \"closest\", \"mapbox\": {\"style\": \"light\"}, \"paper_bgcolor\": \"white\", \"plot_bgcolor\": \"#E5ECF6\", \"polar\": {\"angularaxis\": {\"gridcolor\": \"white\", \"linecolor\": \"white\", \"ticks\": \"\"}, \"bgcolor\": \"#E5ECF6\", \"radialaxis\": {\"gridcolor\": \"white\", \"linecolor\": \"white\", \"ticks\": \"\"}}, \"scene\": {\"xaxis\": {\"backgroundcolor\": \"#E5ECF6\", \"gridcolor\": \"white\", \"gridwidth\": 2, \"linecolor\": \"white\", \"showbackground\": true, \"ticks\": \"\", \"zerolinecolor\": \"white\"}, \"yaxis\": {\"backgroundcolor\": \"#E5ECF6\", \"gridcolor\": \"white\", \"gridwidth\": 2, \"linecolor\": \"white\", \"showbackground\": true, \"ticks\": \"\", \"zerolinecolor\": \"white\"}, \"zaxis\": {\"backgroundcolor\": \"#E5ECF6\", \"gridcolor\": \"white\", \"gridwidth\": 2, \"linecolor\": \"white\", \"showbackground\": true, \"ticks\": \"\", \"zerolinecolor\": \"white\"}}, \"shapedefaults\": {\"line\": {\"color\": \"#2a3f5f\"}}, \"ternary\": {\"aaxis\": {\"gridcolor\": \"white\", \"linecolor\": \"white\", \"ticks\": \"\"}, \"baxis\": {\"gridcolor\": \"white\", \"linecolor\": \"white\", \"ticks\": \"\"}, \"bgcolor\": \"#E5ECF6\", \"caxis\": {\"gridcolor\": \"white\", \"linecolor\": \"white\", \"ticks\": \"\"}}, \"title\": {\"x\": 0.05}, \"xaxis\": {\"automargin\": true, \"gridcolor\": \"white\", \"linecolor\": \"white\", \"ticks\": \"\", \"zerolinecolor\": \"white\", \"zerolinewidth\": 2}, \"yaxis\": {\"automargin\": true, \"gridcolor\": \"white\", \"linecolor\": \"white\", \"ticks\": \"\", \"zerolinecolor\": \"white\", \"zerolinewidth\": 2}}}, \"width\": 500, \"xaxis\": {\"visible\": false}, \"yaxis\": {\"scaleanchor\": \"x\", \"scaleratio\": 1.0, \"visible\": false}},\n",
       "                        {\"responsive\": true}\n",
       "                    ).then(function(){\n",
       "                            \n",
       "var gd = document.getElementById('5a7d250f-5861-4033-8f52-bc143167b626');\n",
       "var x = new MutationObserver(function (mutations, observer) {{\n",
       "        var display = window.getComputedStyle(gd).display;\n",
       "        if (!display || display === 'none') {{\n",
       "            console.log([gd, 'removed!']);\n",
       "            Plotly.purge(gd);\n",
       "            observer.disconnect();\n",
       "        }}\n",
       "}});\n",
       "\n",
       "// Listen for the removal of the full notebook cells\n",
       "var notebookContainer = gd.closest('#notebook-container');\n",
       "if (notebookContainer) {{\n",
       "    x.observe(notebookContainer, {childList: true});\n",
       "}}\n",
       "\n",
       "// Listen for the clearing of the current output cell\n",
       "var outputEl = gd.closest('.output');\n",
       "if (outputEl) {{\n",
       "    x.observe(outputEl, {childList: true});\n",
       "}}\n",
       "\n",
       "                        })\n",
       "                };\n",
       "                });\n",
       "            </script>\n",
       "        </div>"
      ]
     },
     "metadata": {},
     "output_type": "display_data"
    }
   ],
   "source": [
    "explainer.plot_performance(\n",
    "    X_test=x_test,\n",
    "    y_test=y_test,\n",
    "    y_pred=y_pred,\n",
    "    metric=metrics.log_loss\n",
    ")"
   ]
  },
  {
   "cell_type": "markdown",
   "metadata": {},
   "source": [
    "**TODO: analysis and comparison with `accuracy_score()`**"
   ]
  }
 ],
 "metadata": {
  "kernelspec": {
   "display_name": "Python 3",
   "language": "python",
   "name": "python3"
  },
  "language_info": {
   "codemirror_mode": {
    "name": "ipython",
    "version": 3
   },
   "file_extension": ".py",
   "mimetype": "text/x-python",
   "name": "python",
   "nbconvert_exporter": "python",
   "pygments_lexer": "ipython3",
   "version": "3.7.3"
  }
 },
 "nbformat": 4,
 "nbformat_minor": 2
}
