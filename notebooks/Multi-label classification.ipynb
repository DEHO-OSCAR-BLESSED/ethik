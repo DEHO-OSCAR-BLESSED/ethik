{
 "cells": [
  {
   "cell_type": "markdown",
   "metadata": {},
   "source": [
    "# Iris species classification"
   ]
  },
  {
   "cell_type": "code",
   "execution_count": 1,
   "metadata": {},
   "outputs": [],
   "source": [
    "import pandas as pd\n",
    "from sklearn import datasets\n",
    "\n",
    "iris = datasets.load_iris()\n",
    "\n",
    "X = pd.DataFrame(iris.data, columns=iris.feature_names)\n",
    "y = pd.Series(iris.target).map(lambda x: iris.target_names[x])"
   ]
  },
  {
   "cell_type": "code",
   "execution_count": 2,
   "metadata": {},
   "outputs": [
    {
     "data": {
      "text/html": [
       "<div>\n",
       "<style scoped>\n",
       "    .dataframe tbody tr th:only-of-type {\n",
       "        vertical-align: middle;\n",
       "    }\n",
       "\n",
       "    .dataframe tbody tr th {\n",
       "        vertical-align: top;\n",
       "    }\n",
       "\n",
       "    .dataframe thead th {\n",
       "        text-align: right;\n",
       "    }\n",
       "</style>\n",
       "<table border=\"1\" class=\"dataframe\">\n",
       "  <thead>\n",
       "    <tr style=\"text-align: right;\">\n",
       "      <th></th>\n",
       "      <th>sepal length (cm)</th>\n",
       "      <th>sepal width (cm)</th>\n",
       "      <th>petal length (cm)</th>\n",
       "      <th>petal width (cm)</th>\n",
       "    </tr>\n",
       "  </thead>\n",
       "  <tbody>\n",
       "    <tr>\n",
       "      <td>0</td>\n",
       "      <td>5.1</td>\n",
       "      <td>3.5</td>\n",
       "      <td>1.4</td>\n",
       "      <td>0.2</td>\n",
       "    </tr>\n",
       "    <tr>\n",
       "      <td>1</td>\n",
       "      <td>4.9</td>\n",
       "      <td>3.0</td>\n",
       "      <td>1.4</td>\n",
       "      <td>0.2</td>\n",
       "    </tr>\n",
       "    <tr>\n",
       "      <td>2</td>\n",
       "      <td>4.7</td>\n",
       "      <td>3.2</td>\n",
       "      <td>1.3</td>\n",
       "      <td>0.2</td>\n",
       "    </tr>\n",
       "    <tr>\n",
       "      <td>3</td>\n",
       "      <td>4.6</td>\n",
       "      <td>3.1</td>\n",
       "      <td>1.5</td>\n",
       "      <td>0.2</td>\n",
       "    </tr>\n",
       "    <tr>\n",
       "      <td>4</td>\n",
       "      <td>5.0</td>\n",
       "      <td>3.6</td>\n",
       "      <td>1.4</td>\n",
       "      <td>0.2</td>\n",
       "    </tr>\n",
       "  </tbody>\n",
       "</table>\n",
       "</div>"
      ],
      "text/plain": [
       "   sepal length (cm)  sepal width (cm)  petal length (cm)  petal width (cm)\n",
       "0                5.1               3.5                1.4               0.2\n",
       "1                4.9               3.0                1.4               0.2\n",
       "2                4.7               3.2                1.3               0.2\n",
       "3                4.6               3.1                1.5               0.2\n",
       "4                5.0               3.6                1.4               0.2"
      ]
     },
     "execution_count": 2,
     "metadata": {},
     "output_type": "execute_result"
    }
   ],
   "source": [
    "X.head()"
   ]
  },
  {
   "cell_type": "code",
   "execution_count": 3,
   "metadata": {},
   "outputs": [
    {
     "data": {
      "text/plain": [
       "0    setosa\n",
       "1    setosa\n",
       "2    setosa\n",
       "3    setosa\n",
       "4    setosa\n",
       "dtype: object"
      ]
     },
     "execution_count": 3,
     "metadata": {},
     "output_type": "execute_result"
    }
   ],
   "source": [
    "y.head()"
   ]
  },
  {
   "cell_type": "markdown",
   "metadata": {},
   "source": [
    "We'll train a nearest neighbors classifier, and scale the data beforehand by using a pipeline."
   ]
  },
  {
   "cell_type": "code",
   "execution_count": 4,
   "metadata": {},
   "outputs": [
    {
     "data": {
      "text/html": [
       "<div>\n",
       "<style scoped>\n",
       "    .dataframe tbody tr th:only-of-type {\n",
       "        vertical-align: middle;\n",
       "    }\n",
       "\n",
       "    .dataframe tbody tr th {\n",
       "        vertical-align: top;\n",
       "    }\n",
       "\n",
       "    .dataframe thead th {\n",
       "        text-align: right;\n",
       "    }\n",
       "</style>\n",
       "<table border=\"1\" class=\"dataframe\">\n",
       "  <thead>\n",
       "    <tr style=\"text-align: right;\">\n",
       "      <th></th>\n",
       "      <th>setosa</th>\n",
       "      <th>versicolor</th>\n",
       "      <th>virginica</th>\n",
       "    </tr>\n",
       "  </thead>\n",
       "  <tbody>\n",
       "    <tr>\n",
       "      <td>0</td>\n",
       "      <td>0.0</td>\n",
       "      <td>0.8</td>\n",
       "      <td>0.2</td>\n",
       "    </tr>\n",
       "    <tr>\n",
       "      <td>1</td>\n",
       "      <td>1.0</td>\n",
       "      <td>0.0</td>\n",
       "      <td>0.0</td>\n",
       "    </tr>\n",
       "    <tr>\n",
       "      <td>2</td>\n",
       "      <td>0.0</td>\n",
       "      <td>0.0</td>\n",
       "      <td>1.0</td>\n",
       "    </tr>\n",
       "    <tr>\n",
       "      <td>3</td>\n",
       "      <td>0.0</td>\n",
       "      <td>1.0</td>\n",
       "      <td>0.0</td>\n",
       "    </tr>\n",
       "    <tr>\n",
       "      <td>4</td>\n",
       "      <td>0.0</td>\n",
       "      <td>1.0</td>\n",
       "      <td>0.0</td>\n",
       "    </tr>\n",
       "  </tbody>\n",
       "</table>\n",
       "</div>"
      ],
      "text/plain": [
       "   setosa  versicolor  virginica\n",
       "0     0.0         0.8        0.2\n",
       "1     1.0         0.0        0.0\n",
       "2     0.0         0.0        1.0\n",
       "3     0.0         1.0        0.0\n",
       "4     0.0         1.0        0.0"
      ]
     },
     "execution_count": 4,
     "metadata": {},
     "output_type": "execute_result"
    }
   ],
   "source": [
    "from sklearn import model_selection\n",
    "from sklearn import neighbors\n",
    "from sklearn import pipeline\n",
    "from sklearn import preprocessing\n",
    "\n",
    "X_train, X_test, y_train, y_test = model_selection.train_test_split(X, y, shuffle=True, random_state=42)\n",
    "\n",
    "model = pipeline.make_pipeline(\n",
    "    preprocessing.StandardScaler(),\n",
    "    neighbors.KNeighborsClassifier()\n",
    ")\n",
    "model.fit(X_train, y_train)\n",
    "\n",
    "y_pred = model.predict_proba(X_test)\n",
    "y_pred = pd.DataFrame(y_pred, columns=model.classes_)\n",
    "\n",
    "y_pred.head()"
   ]
  },
  {
   "cell_type": "markdown",
   "metadata": {},
   "source": [
    "As we are working on a classification task, we will use a `ClassificationExplainer`."
   ]
  },
  {
   "cell_type": "code",
   "execution_count": 5,
   "metadata": {},
   "outputs": [],
   "source": [
    "import ethik\n",
    "\n",
    "explainer = ethik.ClassificationExplainer()"
   ]
  },
  {
   "cell_type": "markdown",
   "metadata": {},
   "source": [
    "## Prediction plots"
   ]
  },
  {
   "cell_type": "markdown",
   "metadata": {},
   "source": [
    "One variable, one class."
   ]
  },
  {
   "cell_type": "code",
   "execution_count": 11,
   "metadata": {},
   "outputs": [
    {
     "name": "stderr",
     "output_type": "stream",
     "text": [
      "41it [00:00, 1141.36it/s]\n"
     ]
    },
    {
     "data": {
      "application/vnd.plotly.v1+json": {
       "config": {
        "plotlyServerURL": "https://plot.ly"
       },
       "data": [
        {
         "hoverinfo": "x+y",
         "mode": "lines+markers",
         "showlegend": false,
         "type": "scatter",
         "x": [
          4.6850000000000005,
          4.744828947368422,
          4.804657894736843,
          4.864486842105263,
          4.924315789473685,
          4.984144736842106,
          5.043973684210527,
          5.103802631578947,
          5.163631578947369,
          5.22346052631579,
          5.283289473684211,
          5.3431184210526315,
          5.402947368421053,
          5.462776315789474,
          5.522605263157895,
          5.582434210526316,
          5.642263157894737,
          5.702092105263159,
          5.761921052631579,
          5.82175,
          5.881578947368421,
          5.9385,
          5.995421052631579,
          6.052342105263158,
          6.109263157894737,
          6.166184210526316,
          6.223105263157895,
          6.280026315789474,
          6.336947368421052,
          6.393868421052631,
          6.45078947368421,
          6.5077105263157895,
          6.564631578947369,
          6.621552631578947,
          6.678473684210526,
          6.735394736842105,
          6.792315789473684,
          6.849236842105263,
          6.906157894736841,
          6.9630789473684205,
          7.02
         ],
         "y": [
          0.9853124298748387,
          0.9690378724345088,
          0.9471595402871524,
          0.9213667116362181,
          0.8929890052304397,
          0.8629189801918735,
          0.8317459220502755,
          0.7998667090106795,
          0.7675618980922161,
          0.7350380307085117,
          0.7024541266230963,
          0.6699379329826167,
          0.6375960772102641,
          0.6055213464324622,
          0.5737959916238811,
          0.5424957305476956,
          0.5116913370533572,
          0.48144999505661895,
          0.4518361205196024,
          0.4229117726093628,
          0.39473684210526333,
          0.36867944609750797,
          0.34339963109740423,
          0.31894195470660197,
          0.29534785437659394,
          0.2726550481849747,
          0.2508969429879255,
          0.23010204758658828,
          0.21029343741570014,
          0.19148830998410432,
          0.17369766578091952,
          0.15692614161609086,
          0.14117201291092396,
          0.1264273693251087,
          0.1126784556724586,
          0.09990615878983221,
          0.08808661213920363,
          0.07719188427926524,
          0.06719071524412652,
          0.05804926609993295,
          0.049731850927237975
         ]
        },
        {
         "hoverinfo": "text",
         "marker": {
          "size": 9,
          "symbol": "x"
         },
         "mode": "markers",
         "name": "Original mean",
         "showlegend": false,
         "text": [
          "Dataset mean"
         ],
         "type": "scatter",
         "x": [
          5.881578947368421
         ],
         "y": [
          0.39473684210526333
         ]
        }
       ],
       "layout": {
        "margin": {
         "r": 50,
         "t": 50
        },
        "plot_bgcolor": "white",
        "template": {
         "data": {
          "bar": [
           {
            "error_x": {
             "color": "#2a3f5f"
            },
            "error_y": {
             "color": "#2a3f5f"
            },
            "marker": {
             "line": {
              "color": "#E5ECF6",
              "width": 0.5
             }
            },
            "type": "bar"
           }
          ],
          "barpolar": [
           {
            "marker": {
             "line": {
              "color": "#E5ECF6",
              "width": 0.5
             }
            },
            "type": "barpolar"
           }
          ],
          "carpet": [
           {
            "aaxis": {
             "endlinecolor": "#2a3f5f",
             "gridcolor": "white",
             "linecolor": "white",
             "minorgridcolor": "white",
             "startlinecolor": "#2a3f5f"
            },
            "baxis": {
             "endlinecolor": "#2a3f5f",
             "gridcolor": "white",
             "linecolor": "white",
             "minorgridcolor": "white",
             "startlinecolor": "#2a3f5f"
            },
            "type": "carpet"
           }
          ],
          "choropleth": [
           {
            "colorbar": {
             "outlinewidth": 0,
             "ticks": ""
            },
            "type": "choropleth"
           }
          ],
          "contour": [
           {
            "colorbar": {
             "outlinewidth": 0,
             "ticks": ""
            },
            "colorscale": [
             [
              0,
              "#0d0887"
             ],
             [
              0.1111111111111111,
              "#46039f"
             ],
             [
              0.2222222222222222,
              "#7201a8"
             ],
             [
              0.3333333333333333,
              "#9c179e"
             ],
             [
              0.4444444444444444,
              "#bd3786"
             ],
             [
              0.5555555555555556,
              "#d8576b"
             ],
             [
              0.6666666666666666,
              "#ed7953"
             ],
             [
              0.7777777777777778,
              "#fb9f3a"
             ],
             [
              0.8888888888888888,
              "#fdca26"
             ],
             [
              1,
              "#f0f921"
             ]
            ],
            "type": "contour"
           }
          ],
          "contourcarpet": [
           {
            "colorbar": {
             "outlinewidth": 0,
             "ticks": ""
            },
            "type": "contourcarpet"
           }
          ],
          "heatmap": [
           {
            "colorbar": {
             "outlinewidth": 0,
             "ticks": ""
            },
            "colorscale": [
             [
              0,
              "#0d0887"
             ],
             [
              0.1111111111111111,
              "#46039f"
             ],
             [
              0.2222222222222222,
              "#7201a8"
             ],
             [
              0.3333333333333333,
              "#9c179e"
             ],
             [
              0.4444444444444444,
              "#bd3786"
             ],
             [
              0.5555555555555556,
              "#d8576b"
             ],
             [
              0.6666666666666666,
              "#ed7953"
             ],
             [
              0.7777777777777778,
              "#fb9f3a"
             ],
             [
              0.8888888888888888,
              "#fdca26"
             ],
             [
              1,
              "#f0f921"
             ]
            ],
            "type": "heatmap"
           }
          ],
          "heatmapgl": [
           {
            "colorbar": {
             "outlinewidth": 0,
             "ticks": ""
            },
            "colorscale": [
             [
              0,
              "#0d0887"
             ],
             [
              0.1111111111111111,
              "#46039f"
             ],
             [
              0.2222222222222222,
              "#7201a8"
             ],
             [
              0.3333333333333333,
              "#9c179e"
             ],
             [
              0.4444444444444444,
              "#bd3786"
             ],
             [
              0.5555555555555556,
              "#d8576b"
             ],
             [
              0.6666666666666666,
              "#ed7953"
             ],
             [
              0.7777777777777778,
              "#fb9f3a"
             ],
             [
              0.8888888888888888,
              "#fdca26"
             ],
             [
              1,
              "#f0f921"
             ]
            ],
            "type": "heatmapgl"
           }
          ],
          "histogram": [
           {
            "marker": {
             "colorbar": {
              "outlinewidth": 0,
              "ticks": ""
             }
            },
            "type": "histogram"
           }
          ],
          "histogram2d": [
           {
            "colorbar": {
             "outlinewidth": 0,
             "ticks": ""
            },
            "colorscale": [
             [
              0,
              "#0d0887"
             ],
             [
              0.1111111111111111,
              "#46039f"
             ],
             [
              0.2222222222222222,
              "#7201a8"
             ],
             [
              0.3333333333333333,
              "#9c179e"
             ],
             [
              0.4444444444444444,
              "#bd3786"
             ],
             [
              0.5555555555555556,
              "#d8576b"
             ],
             [
              0.6666666666666666,
              "#ed7953"
             ],
             [
              0.7777777777777778,
              "#fb9f3a"
             ],
             [
              0.8888888888888888,
              "#fdca26"
             ],
             [
              1,
              "#f0f921"
             ]
            ],
            "type": "histogram2d"
           }
          ],
          "histogram2dcontour": [
           {
            "colorbar": {
             "outlinewidth": 0,
             "ticks": ""
            },
            "colorscale": [
             [
              0,
              "#0d0887"
             ],
             [
              0.1111111111111111,
              "#46039f"
             ],
             [
              0.2222222222222222,
              "#7201a8"
             ],
             [
              0.3333333333333333,
              "#9c179e"
             ],
             [
              0.4444444444444444,
              "#bd3786"
             ],
             [
              0.5555555555555556,
              "#d8576b"
             ],
             [
              0.6666666666666666,
              "#ed7953"
             ],
             [
              0.7777777777777778,
              "#fb9f3a"
             ],
             [
              0.8888888888888888,
              "#fdca26"
             ],
             [
              1,
              "#f0f921"
             ]
            ],
            "type": "histogram2dcontour"
           }
          ],
          "mesh3d": [
           {
            "colorbar": {
             "outlinewidth": 0,
             "ticks": ""
            },
            "type": "mesh3d"
           }
          ],
          "parcoords": [
           {
            "line": {
             "colorbar": {
              "outlinewidth": 0,
              "ticks": ""
             }
            },
            "type": "parcoords"
           }
          ],
          "scatter": [
           {
            "marker": {
             "colorbar": {
              "outlinewidth": 0,
              "ticks": ""
             }
            },
            "type": "scatter"
           }
          ],
          "scatter3d": [
           {
            "line": {
             "colorbar": {
              "outlinewidth": 0,
              "ticks": ""
             }
            },
            "marker": {
             "colorbar": {
              "outlinewidth": 0,
              "ticks": ""
             }
            },
            "type": "scatter3d"
           }
          ],
          "scattercarpet": [
           {
            "marker": {
             "colorbar": {
              "outlinewidth": 0,
              "ticks": ""
             }
            },
            "type": "scattercarpet"
           }
          ],
          "scattergeo": [
           {
            "marker": {
             "colorbar": {
              "outlinewidth": 0,
              "ticks": ""
             }
            },
            "type": "scattergeo"
           }
          ],
          "scattergl": [
           {
            "marker": {
             "colorbar": {
              "outlinewidth": 0,
              "ticks": ""
             }
            },
            "type": "scattergl"
           }
          ],
          "scattermapbox": [
           {
            "marker": {
             "colorbar": {
              "outlinewidth": 0,
              "ticks": ""
             }
            },
            "type": "scattermapbox"
           }
          ],
          "scatterpolar": [
           {
            "marker": {
             "colorbar": {
              "outlinewidth": 0,
              "ticks": ""
             }
            },
            "type": "scatterpolar"
           }
          ],
          "scatterpolargl": [
           {
            "marker": {
             "colorbar": {
              "outlinewidth": 0,
              "ticks": ""
             }
            },
            "type": "scatterpolargl"
           }
          ],
          "scatterternary": [
           {
            "marker": {
             "colorbar": {
              "outlinewidth": 0,
              "ticks": ""
             }
            },
            "type": "scatterternary"
           }
          ],
          "surface": [
           {
            "colorbar": {
             "outlinewidth": 0,
             "ticks": ""
            },
            "colorscale": [
             [
              0,
              "#0d0887"
             ],
             [
              0.1111111111111111,
              "#46039f"
             ],
             [
              0.2222222222222222,
              "#7201a8"
             ],
             [
              0.3333333333333333,
              "#9c179e"
             ],
             [
              0.4444444444444444,
              "#bd3786"
             ],
             [
              0.5555555555555556,
              "#d8576b"
             ],
             [
              0.6666666666666666,
              "#ed7953"
             ],
             [
              0.7777777777777778,
              "#fb9f3a"
             ],
             [
              0.8888888888888888,
              "#fdca26"
             ],
             [
              1,
              "#f0f921"
             ]
            ],
            "type": "surface"
           }
          ],
          "table": [
           {
            "cells": {
             "fill": {
              "color": "#EBF0F8"
             },
             "line": {
              "color": "white"
             }
            },
            "header": {
             "fill": {
              "color": "#C8D4E3"
             },
             "line": {
              "color": "white"
             }
            },
            "type": "table"
           }
          ]
         },
         "layout": {
          "annotationdefaults": {
           "arrowcolor": "#2a3f5f",
           "arrowhead": 0,
           "arrowwidth": 1
          },
          "colorscale": {
           "diverging": [
            [
             0,
             "#8e0152"
            ],
            [
             0.1,
             "#c51b7d"
            ],
            [
             0.2,
             "#de77ae"
            ],
            [
             0.3,
             "#f1b6da"
            ],
            [
             0.4,
             "#fde0ef"
            ],
            [
             0.5,
             "#f7f7f7"
            ],
            [
             0.6,
             "#e6f5d0"
            ],
            [
             0.7,
             "#b8e186"
            ],
            [
             0.8,
             "#7fbc41"
            ],
            [
             0.9,
             "#4d9221"
            ],
            [
             1,
             "#276419"
            ]
           ],
           "sequential": [
            [
             0,
             "#0d0887"
            ],
            [
             0.1111111111111111,
             "#46039f"
            ],
            [
             0.2222222222222222,
             "#7201a8"
            ],
            [
             0.3333333333333333,
             "#9c179e"
            ],
            [
             0.4444444444444444,
             "#bd3786"
            ],
            [
             0.5555555555555556,
             "#d8576b"
            ],
            [
             0.6666666666666666,
             "#ed7953"
            ],
            [
             0.7777777777777778,
             "#fb9f3a"
            ],
            [
             0.8888888888888888,
             "#fdca26"
            ],
            [
             1,
             "#f0f921"
            ]
           ],
           "sequentialminus": [
            [
             0,
             "#0d0887"
            ],
            [
             0.1111111111111111,
             "#46039f"
            ],
            [
             0.2222222222222222,
             "#7201a8"
            ],
            [
             0.3333333333333333,
             "#9c179e"
            ],
            [
             0.4444444444444444,
             "#bd3786"
            ],
            [
             0.5555555555555556,
             "#d8576b"
            ],
            [
             0.6666666666666666,
             "#ed7953"
            ],
            [
             0.7777777777777778,
             "#fb9f3a"
            ],
            [
             0.8888888888888888,
             "#fdca26"
            ],
            [
             1,
             "#f0f921"
            ]
           ]
          },
          "colorway": [
           "#636efa",
           "#EF553B",
           "#00cc96",
           "#ab63fa",
           "#FFA15A",
           "#19d3f3",
           "#FF6692",
           "#B6E880",
           "#FF97FF",
           "#FECB52"
          ],
          "font": {
           "color": "#2a3f5f"
          },
          "geo": {
           "bgcolor": "white",
           "lakecolor": "white",
           "landcolor": "#E5ECF6",
           "showlakes": true,
           "showland": true,
           "subunitcolor": "white"
          },
          "hoverlabel": {
           "align": "left"
          },
          "hovermode": "closest",
          "mapbox": {
           "style": "light"
          },
          "paper_bgcolor": "white",
          "plot_bgcolor": "#E5ECF6",
          "polar": {
           "angularaxis": {
            "gridcolor": "white",
            "linecolor": "white",
            "ticks": ""
           },
           "bgcolor": "#E5ECF6",
           "radialaxis": {
            "gridcolor": "white",
            "linecolor": "white",
            "ticks": ""
           }
          },
          "scene": {
           "xaxis": {
            "backgroundcolor": "#E5ECF6",
            "gridcolor": "white",
            "gridwidth": 2,
            "linecolor": "white",
            "showbackground": true,
            "ticks": "",
            "zerolinecolor": "white"
           },
           "yaxis": {
            "backgroundcolor": "#E5ECF6",
            "gridcolor": "white",
            "gridwidth": 2,
            "linecolor": "white",
            "showbackground": true,
            "ticks": "",
            "zerolinecolor": "white"
           },
           "zaxis": {
            "backgroundcolor": "#E5ECF6",
            "gridcolor": "white",
            "gridwidth": 2,
            "linecolor": "white",
            "showbackground": true,
            "ticks": "",
            "zerolinecolor": "white"
           }
          },
          "shapedefaults": {
           "line": {
            "color": "#2a3f5f"
           }
          },
          "ternary": {
           "aaxis": {
            "gridcolor": "white",
            "linecolor": "white",
            "ticks": ""
           },
           "baxis": {
            "gridcolor": "white",
            "linecolor": "white",
            "ticks": ""
           },
           "bgcolor": "#E5ECF6",
           "caxis": {
            "gridcolor": "white",
            "linecolor": "white",
            "ticks": ""
           }
          },
          "title": {
           "x": 0.05
          },
          "xaxis": {
           "automargin": true,
           "gridcolor": "white",
           "linecolor": "white",
           "ticks": "",
           "zerolinecolor": "white",
           "zerolinewidth": 2
          },
          "yaxis": {
           "automargin": true,
           "gridcolor": "white",
           "linecolor": "white",
           "ticks": "",
           "zerolinecolor": "white",
           "zerolinewidth": 2
          }
         }
        },
        "xaxis": {
         "gridcolor": "#eee",
         "linecolor": "black",
         "showgrid": true,
         "showline": true,
         "title": {
          "text": "Average sepal length (cm)"
         },
         "zeroline": false
        },
        "yaxis": {
         "gridcolor": "#eee",
         "linecolor": "black",
         "range": [
          0,
          1
         ],
         "showgrid": true,
         "showline": true,
         "title": {
          "text": "Average \"setosa\""
         }
        }
       }
      },
      "text/html": [
       "<div>\n",
       "        \n",
       "        \n",
       "            <div id=\"03430ab4-a0a8-40be-8d5a-b989cfc20840\" class=\"plotly-graph-div\" style=\"height:525px; width:100%;\"></div>\n",
       "            <script type=\"text/javascript\">\n",
       "                require([\"plotly\"], function(Plotly) {\n",
       "                    window.PLOTLYENV=window.PLOTLYENV || {};\n",
       "                    \n",
       "                if (document.getElementById(\"03430ab4-a0a8-40be-8d5a-b989cfc20840\")) {\n",
       "                    Plotly.newPlot(\n",
       "                        '03430ab4-a0a8-40be-8d5a-b989cfc20840',\n",
       "                        [{\"hoverinfo\": \"x+y\", \"mode\": \"lines+markers\", \"showlegend\": false, \"type\": \"scatter\", \"x\": [4.6850000000000005, 4.744828947368422, 4.804657894736843, 4.864486842105263, 4.924315789473685, 4.984144736842106, 5.043973684210527, 5.103802631578947, 5.163631578947369, 5.22346052631579, 5.283289473684211, 5.3431184210526315, 5.402947368421053, 5.462776315789474, 5.522605263157895, 5.582434210526316, 5.642263157894737, 5.702092105263159, 5.761921052631579, 5.82175, 5.881578947368421, 5.9385, 5.995421052631579, 6.052342105263158, 6.109263157894737, 6.166184210526316, 6.223105263157895, 6.280026315789474, 6.336947368421052, 6.393868421052631, 6.45078947368421, 6.5077105263157895, 6.564631578947369, 6.621552631578947, 6.678473684210526, 6.735394736842105, 6.792315789473684, 6.849236842105263, 6.906157894736841, 6.9630789473684205, 7.02], \"y\": [0.9853124298748387, 0.9690378724345088, 0.9471595402871524, 0.9213667116362181, 0.8929890052304397, 0.8629189801918735, 0.8317459220502755, 0.7998667090106795, 0.7675618980922161, 0.7350380307085117, 0.7024541266230963, 0.6699379329826167, 0.6375960772102641, 0.6055213464324622, 0.5737959916238811, 0.5424957305476956, 0.5116913370533572, 0.48144999505661895, 0.4518361205196024, 0.4229117726093628, 0.39473684210526333, 0.36867944609750797, 0.34339963109740423, 0.31894195470660197, 0.29534785437659394, 0.2726550481849747, 0.2508969429879255, 0.23010204758658828, 0.21029343741570014, 0.19148830998410432, 0.17369766578091952, 0.15692614161609086, 0.14117201291092396, 0.1264273693251087, 0.1126784556724586, 0.09990615878983221, 0.08808661213920363, 0.07719188427926524, 0.06719071524412652, 0.05804926609993295, 0.049731850927237975]}, {\"hoverinfo\": \"text\", \"marker\": {\"size\": 9, \"symbol\": \"x\"}, \"mode\": \"markers\", \"name\": \"Original mean\", \"showlegend\": false, \"text\": [\"Dataset mean\"], \"type\": \"scatter\", \"x\": [5.881578947368421], \"y\": [0.39473684210526333]}],\n",
       "                        {\"margin\": {\"r\": 50, \"t\": 50}, \"plot_bgcolor\": \"white\", \"template\": {\"data\": {\"bar\": [{\"error_x\": {\"color\": \"#2a3f5f\"}, \"error_y\": {\"color\": \"#2a3f5f\"}, \"marker\": {\"line\": {\"color\": \"#E5ECF6\", \"width\": 0.5}}, \"type\": \"bar\"}], \"barpolar\": [{\"marker\": {\"line\": {\"color\": \"#E5ECF6\", \"width\": 0.5}}, \"type\": \"barpolar\"}], \"carpet\": [{\"aaxis\": {\"endlinecolor\": \"#2a3f5f\", \"gridcolor\": \"white\", \"linecolor\": \"white\", \"minorgridcolor\": \"white\", \"startlinecolor\": \"#2a3f5f\"}, \"baxis\": {\"endlinecolor\": \"#2a3f5f\", \"gridcolor\": \"white\", \"linecolor\": \"white\", \"minorgridcolor\": \"white\", \"startlinecolor\": \"#2a3f5f\"}, \"type\": \"carpet\"}], \"choropleth\": [{\"colorbar\": {\"outlinewidth\": 0, \"ticks\": \"\"}, \"type\": \"choropleth\"}], \"contour\": [{\"colorbar\": {\"outlinewidth\": 0, \"ticks\": \"\"}, \"colorscale\": [[0.0, \"#0d0887\"], [0.1111111111111111, \"#46039f\"], [0.2222222222222222, \"#7201a8\"], [0.3333333333333333, \"#9c179e\"], [0.4444444444444444, \"#bd3786\"], [0.5555555555555556, \"#d8576b\"], [0.6666666666666666, \"#ed7953\"], [0.7777777777777778, \"#fb9f3a\"], [0.8888888888888888, \"#fdca26\"], [1.0, \"#f0f921\"]], \"type\": \"contour\"}], \"contourcarpet\": [{\"colorbar\": {\"outlinewidth\": 0, \"ticks\": \"\"}, \"type\": \"contourcarpet\"}], \"heatmap\": [{\"colorbar\": {\"outlinewidth\": 0, \"ticks\": \"\"}, \"colorscale\": [[0.0, \"#0d0887\"], [0.1111111111111111, \"#46039f\"], [0.2222222222222222, \"#7201a8\"], [0.3333333333333333, \"#9c179e\"], [0.4444444444444444, \"#bd3786\"], [0.5555555555555556, \"#d8576b\"], [0.6666666666666666, \"#ed7953\"], [0.7777777777777778, \"#fb9f3a\"], [0.8888888888888888, \"#fdca26\"], [1.0, \"#f0f921\"]], \"type\": \"heatmap\"}], \"heatmapgl\": [{\"colorbar\": {\"outlinewidth\": 0, \"ticks\": \"\"}, \"colorscale\": [[0.0, \"#0d0887\"], [0.1111111111111111, \"#46039f\"], [0.2222222222222222, \"#7201a8\"], [0.3333333333333333, \"#9c179e\"], [0.4444444444444444, \"#bd3786\"], [0.5555555555555556, \"#d8576b\"], [0.6666666666666666, \"#ed7953\"], [0.7777777777777778, \"#fb9f3a\"], [0.8888888888888888, \"#fdca26\"], [1.0, \"#f0f921\"]], \"type\": \"heatmapgl\"}], \"histogram\": [{\"marker\": {\"colorbar\": {\"outlinewidth\": 0, \"ticks\": \"\"}}, \"type\": \"histogram\"}], \"histogram2d\": [{\"colorbar\": {\"outlinewidth\": 0, \"ticks\": \"\"}, \"colorscale\": [[0.0, \"#0d0887\"], [0.1111111111111111, \"#46039f\"], [0.2222222222222222, \"#7201a8\"], [0.3333333333333333, \"#9c179e\"], [0.4444444444444444, \"#bd3786\"], [0.5555555555555556, \"#d8576b\"], [0.6666666666666666, \"#ed7953\"], [0.7777777777777778, \"#fb9f3a\"], [0.8888888888888888, \"#fdca26\"], [1.0, \"#f0f921\"]], \"type\": \"histogram2d\"}], \"histogram2dcontour\": [{\"colorbar\": {\"outlinewidth\": 0, \"ticks\": \"\"}, \"colorscale\": [[0.0, \"#0d0887\"], [0.1111111111111111, \"#46039f\"], [0.2222222222222222, \"#7201a8\"], [0.3333333333333333, \"#9c179e\"], [0.4444444444444444, \"#bd3786\"], [0.5555555555555556, \"#d8576b\"], [0.6666666666666666, \"#ed7953\"], [0.7777777777777778, \"#fb9f3a\"], [0.8888888888888888, \"#fdca26\"], [1.0, \"#f0f921\"]], \"type\": \"histogram2dcontour\"}], \"mesh3d\": [{\"colorbar\": {\"outlinewidth\": 0, \"ticks\": \"\"}, \"type\": \"mesh3d\"}], \"parcoords\": [{\"line\": {\"colorbar\": {\"outlinewidth\": 0, \"ticks\": \"\"}}, \"type\": \"parcoords\"}], \"scatter\": [{\"marker\": {\"colorbar\": {\"outlinewidth\": 0, \"ticks\": \"\"}}, \"type\": \"scatter\"}], \"scatter3d\": [{\"line\": {\"colorbar\": {\"outlinewidth\": 0, \"ticks\": \"\"}}, \"marker\": {\"colorbar\": {\"outlinewidth\": 0, \"ticks\": \"\"}}, \"type\": \"scatter3d\"}], \"scattercarpet\": [{\"marker\": {\"colorbar\": {\"outlinewidth\": 0, \"ticks\": \"\"}}, \"type\": \"scattercarpet\"}], \"scattergeo\": [{\"marker\": {\"colorbar\": {\"outlinewidth\": 0, \"ticks\": \"\"}}, \"type\": \"scattergeo\"}], \"scattergl\": [{\"marker\": {\"colorbar\": {\"outlinewidth\": 0, \"ticks\": \"\"}}, \"type\": \"scattergl\"}], \"scattermapbox\": [{\"marker\": {\"colorbar\": {\"outlinewidth\": 0, \"ticks\": \"\"}}, \"type\": \"scattermapbox\"}], \"scatterpolar\": [{\"marker\": {\"colorbar\": {\"outlinewidth\": 0, \"ticks\": \"\"}}, \"type\": \"scatterpolar\"}], \"scatterpolargl\": [{\"marker\": {\"colorbar\": {\"outlinewidth\": 0, \"ticks\": \"\"}}, \"type\": \"scatterpolargl\"}], \"scatterternary\": [{\"marker\": {\"colorbar\": {\"outlinewidth\": 0, \"ticks\": \"\"}}, \"type\": \"scatterternary\"}], \"surface\": [{\"colorbar\": {\"outlinewidth\": 0, \"ticks\": \"\"}, \"colorscale\": [[0.0, \"#0d0887\"], [0.1111111111111111, \"#46039f\"], [0.2222222222222222, \"#7201a8\"], [0.3333333333333333, \"#9c179e\"], [0.4444444444444444, \"#bd3786\"], [0.5555555555555556, \"#d8576b\"], [0.6666666666666666, \"#ed7953\"], [0.7777777777777778, \"#fb9f3a\"], [0.8888888888888888, \"#fdca26\"], [1.0, \"#f0f921\"]], \"type\": \"surface\"}], \"table\": [{\"cells\": {\"fill\": {\"color\": \"#EBF0F8\"}, \"line\": {\"color\": \"white\"}}, \"header\": {\"fill\": {\"color\": \"#C8D4E3\"}, \"line\": {\"color\": \"white\"}}, \"type\": \"table\"}]}, \"layout\": {\"annotationdefaults\": {\"arrowcolor\": \"#2a3f5f\", \"arrowhead\": 0, \"arrowwidth\": 1}, \"colorscale\": {\"diverging\": [[0, \"#8e0152\"], [0.1, \"#c51b7d\"], [0.2, \"#de77ae\"], [0.3, \"#f1b6da\"], [0.4, \"#fde0ef\"], [0.5, \"#f7f7f7\"], [0.6, \"#e6f5d0\"], [0.7, \"#b8e186\"], [0.8, \"#7fbc41\"], [0.9, \"#4d9221\"], [1, \"#276419\"]], \"sequential\": [[0.0, \"#0d0887\"], [0.1111111111111111, \"#46039f\"], [0.2222222222222222, \"#7201a8\"], [0.3333333333333333, \"#9c179e\"], [0.4444444444444444, \"#bd3786\"], [0.5555555555555556, \"#d8576b\"], [0.6666666666666666, \"#ed7953\"], [0.7777777777777778, \"#fb9f3a\"], [0.8888888888888888, \"#fdca26\"], [1.0, \"#f0f921\"]], \"sequentialminus\": [[0.0, \"#0d0887\"], [0.1111111111111111, \"#46039f\"], [0.2222222222222222, \"#7201a8\"], [0.3333333333333333, \"#9c179e\"], [0.4444444444444444, \"#bd3786\"], [0.5555555555555556, \"#d8576b\"], [0.6666666666666666, \"#ed7953\"], [0.7777777777777778, \"#fb9f3a\"], [0.8888888888888888, \"#fdca26\"], [1.0, \"#f0f921\"]]}, \"colorway\": [\"#636efa\", \"#EF553B\", \"#00cc96\", \"#ab63fa\", \"#FFA15A\", \"#19d3f3\", \"#FF6692\", \"#B6E880\", \"#FF97FF\", \"#FECB52\"], \"font\": {\"color\": \"#2a3f5f\"}, \"geo\": {\"bgcolor\": \"white\", \"lakecolor\": \"white\", \"landcolor\": \"#E5ECF6\", \"showlakes\": true, \"showland\": true, \"subunitcolor\": \"white\"}, \"hoverlabel\": {\"align\": \"left\"}, \"hovermode\": \"closest\", \"mapbox\": {\"style\": \"light\"}, \"paper_bgcolor\": \"white\", \"plot_bgcolor\": \"#E5ECF6\", \"polar\": {\"angularaxis\": {\"gridcolor\": \"white\", \"linecolor\": \"white\", \"ticks\": \"\"}, \"bgcolor\": \"#E5ECF6\", \"radialaxis\": {\"gridcolor\": \"white\", \"linecolor\": \"white\", \"ticks\": \"\"}}, \"scene\": {\"xaxis\": {\"backgroundcolor\": \"#E5ECF6\", \"gridcolor\": \"white\", \"gridwidth\": 2, \"linecolor\": \"white\", \"showbackground\": true, \"ticks\": \"\", \"zerolinecolor\": \"white\"}, \"yaxis\": {\"backgroundcolor\": \"#E5ECF6\", \"gridcolor\": \"white\", \"gridwidth\": 2, \"linecolor\": \"white\", \"showbackground\": true, \"ticks\": \"\", \"zerolinecolor\": \"white\"}, \"zaxis\": {\"backgroundcolor\": \"#E5ECF6\", \"gridcolor\": \"white\", \"gridwidth\": 2, \"linecolor\": \"white\", \"showbackground\": true, \"ticks\": \"\", \"zerolinecolor\": \"white\"}}, \"shapedefaults\": {\"line\": {\"color\": \"#2a3f5f\"}}, \"ternary\": {\"aaxis\": {\"gridcolor\": \"white\", \"linecolor\": \"white\", \"ticks\": \"\"}, \"baxis\": {\"gridcolor\": \"white\", \"linecolor\": \"white\", \"ticks\": \"\"}, \"bgcolor\": \"#E5ECF6\", \"caxis\": {\"gridcolor\": \"white\", \"linecolor\": \"white\", \"ticks\": \"\"}}, \"title\": {\"x\": 0.05}, \"xaxis\": {\"automargin\": true, \"gridcolor\": \"white\", \"linecolor\": \"white\", \"ticks\": \"\", \"zerolinecolor\": \"white\", \"zerolinewidth\": 2}, \"yaxis\": {\"automargin\": true, \"gridcolor\": \"white\", \"linecolor\": \"white\", \"ticks\": \"\", \"zerolinecolor\": \"white\", \"zerolinewidth\": 2}}}, \"xaxis\": {\"gridcolor\": \"#eee\", \"linecolor\": \"black\", \"showgrid\": true, \"showline\": true, \"title\": {\"text\": \"Average sepal length (cm)\"}, \"zeroline\": false}, \"yaxis\": {\"gridcolor\": \"#eee\", \"linecolor\": \"black\", \"range\": [0, 1], \"showgrid\": true, \"showline\": true, \"title\": {\"text\": \"Average \\\"setosa\\\"\"}}},\n",
       "                        {\"responsive\": true}\n",
       "                    ).then(function(){\n",
       "                            \n",
       "var gd = document.getElementById('03430ab4-a0a8-40be-8d5a-b989cfc20840');\n",
       "var x = new MutationObserver(function (mutations, observer) {{\n",
       "        var display = window.getComputedStyle(gd).display;\n",
       "        if (!display || display === 'none') {{\n",
       "            console.log([gd, 'removed!']);\n",
       "            Plotly.purge(gd);\n",
       "            observer.disconnect();\n",
       "        }}\n",
       "}});\n",
       "\n",
       "// Listen for the removal of the full notebook cells\n",
       "var notebookContainer = gd.closest('#notebook-container');\n",
       "if (notebookContainer) {{\n",
       "    x.observe(notebookContainer, {childList: true});\n",
       "}}\n",
       "\n",
       "// Listen for the clearing of the current output cell\n",
       "var outputEl = gd.closest('.output');\n",
       "if (outputEl) {{\n",
       "    x.observe(outputEl, {childList: true});\n",
       "}}\n",
       "\n",
       "                        })\n",
       "                };\n",
       "                });\n",
       "            </script>\n",
       "        </div>"
      ]
     },
     "metadata": {},
     "output_type": "display_data"
    }
   ],
   "source": [
    "explainer.plot_bias(\n",
    "    X_test=X_test['sepal length (cm)'],\n",
    "    y_pred=y_pred['setosa'],\n",
    ")"
   ]
  },
  {
   "cell_type": "markdown",
   "metadata": {},
   "source": [
    "Two variables, one class."
   ]
  },
  {
   "cell_type": "code",
   "execution_count": 7,
   "metadata": {},
   "outputs": [
    {
     "name": "stderr",
     "output_type": "stream",
     "text": [
      "82it [00:00, 1272.86it/s]\n"
     ]
    },
    {
     "data": {
      "application/vnd.plotly.v1+json": {
       "config": {
        "plotlyServerURL": "https://plot.ly"
       },
       "data": [
        {
         "customdata": [
          [
           -1,
           4.6850000000000005
          ],
          [
           -0.95,
           4.744828947368422
          ],
          [
           -0.9,
           4.804657894736843
          ],
          [
           -0.85,
           4.864486842105263
          ],
          [
           -0.8,
           4.924315789473685
          ],
          [
           -0.75,
           4.984144736842106
          ],
          [
           -0.7,
           5.043973684210527
          ],
          [
           -0.65,
           5.103802631578947
          ],
          [
           -0.6,
           5.163631578947369
          ],
          [
           -0.55,
           5.22346052631579
          ],
          [
           -0.5,
           5.283289473684211
          ],
          [
           -0.45,
           5.3431184210526315
          ],
          [
           -0.4,
           5.402947368421053
          ],
          [
           -0.35,
           5.462776315789474
          ],
          [
           -0.3,
           5.522605263157895
          ],
          [
           -0.25,
           5.582434210526316
          ],
          [
           -0.2,
           5.642263157894737
          ],
          [
           -0.15,
           5.702092105263159
          ],
          [
           -0.1,
           5.761921052631579
          ],
          [
           -0.05,
           5.82175
          ],
          [
           0,
           5.881578947368421
          ],
          [
           0.05,
           5.9385
          ],
          [
           0.1,
           5.995421052631579
          ],
          [
           0.15,
           6.052342105263158
          ],
          [
           0.2,
           6.109263157894737
          ],
          [
           0.25,
           6.166184210526316
          ],
          [
           0.3,
           6.223105263157895
          ],
          [
           0.35,
           6.280026315789474
          ],
          [
           0.4,
           6.336947368421052
          ],
          [
           0.45,
           6.393868421052631
          ],
          [
           0.5,
           6.45078947368421
          ],
          [
           0.55,
           6.5077105263157895
          ],
          [
           0.6,
           6.564631578947369
          ],
          [
           0.65,
           6.621552631578947
          ],
          [
           0.7,
           6.678473684210526
          ],
          [
           0.75,
           6.735394736842105
          ],
          [
           0.8,
           6.792315789473684
          ],
          [
           0.85,
           6.849236842105263
          ],
          [
           0.9,
           6.906157894736841
          ],
          [
           0.95,
           6.9630789473684205
          ],
          [
           1,
           7.02
          ]
         ],
         "hoverinfo": "y",
         "mode": "lines+markers",
         "name": "sepal length (cm)",
         "type": "scatter",
         "x": [
          -1,
          -0.95,
          -0.9,
          -0.85,
          -0.8,
          -0.75,
          -0.7,
          -0.65,
          -0.6,
          -0.55,
          -0.5,
          -0.45,
          -0.4,
          -0.35,
          -0.3,
          -0.25,
          -0.2,
          -0.15,
          -0.1,
          -0.05,
          0,
          0.05,
          0.1,
          0.15,
          0.2,
          0.25,
          0.3,
          0.35,
          0.4,
          0.45,
          0.5,
          0.55,
          0.6,
          0.65,
          0.7,
          0.75,
          0.8,
          0.85,
          0.9,
          0.95,
          1
         ],
         "y": [
          0.9853124298748387,
          0.9690378724345088,
          0.9471595402871524,
          0.9213667116362181,
          0.8929890052304397,
          0.8629189801918735,
          0.8317459220502755,
          0.7998667090106795,
          0.7675618980922161,
          0.7350380307085117,
          0.7024541266230963,
          0.6699379329826167,
          0.6375960772102641,
          0.6055213464324622,
          0.5737959916238811,
          0.5424957305476956,
          0.5116913370533572,
          0.48144999505661895,
          0.4518361205196024,
          0.4229117726093628,
          0.39473684210526333,
          0.36867944609750797,
          0.34339963109740423,
          0.31894195470660197,
          0.29534785437659394,
          0.2726550481849747,
          0.2508969429879255,
          0.23010204758658828,
          0.21029343741570014,
          0.19148830998410432,
          0.17369766578091952,
          0.15692614161609086,
          0.14117201291092396,
          0.1264273693251087,
          0.1126784556724586,
          0.09990615878983221,
          0.08808661213920363,
          0.07719188427926524,
          0.06719071524412652,
          0.05804926609993295,
          0.049731850927237975
         ]
        },
        {
         "customdata": [
          [
           -1,
           2.5
          ],
          [
           -0.95,
           2.5303947368421054
          ],
          [
           -0.9,
           2.5607894736842107
          ],
          [
           -0.85,
           2.5911842105263156
          ],
          [
           -0.8,
           2.621578947368421
          ],
          [
           -0.75,
           2.6519736842105264
          ],
          [
           -0.7,
           2.6823684210526313
          ],
          [
           -0.65,
           2.7127631578947367
          ],
          [
           -0.6,
           2.743157894736842
          ],
          [
           -0.55,
           2.7735526315789474
          ],
          [
           -0.5,
           2.8039473684210527
          ],
          [
           -0.45,
           2.8343421052631577
          ],
          [
           -0.4,
           2.864736842105263
          ],
          [
           -0.35,
           2.8951315789473684
          ],
          [
           -0.3,
           2.9255263157894733
          ],
          [
           -0.25,
           2.9559210526315787
          ],
          [
           -0.2,
           2.986315789473684
          ],
          [
           -0.15,
           3.0167105263157894
          ],
          [
           -0.1,
           3.0471052631578948
          ],
          [
           -0.05,
           3.0774999999999997
          ],
          [
           0,
           3.107894736842105
          ],
          [
           0.05,
           3.1424999999999996
          ],
          [
           0.1,
           3.1771052631578947
          ],
          [
           0.15,
           3.2117105263157892
          ],
          [
           0.2,
           3.246315789473684
          ],
          [
           0.25,
           3.280921052631579
          ],
          [
           0.3,
           3.3155263157894734
          ],
          [
           0.35,
           3.350131578947368
          ],
          [
           0.4,
           3.384736842105263
          ],
          [
           0.45,
           3.4193421052631576
          ],
          [
           0.5,
           3.453947368421052
          ],
          [
           0.55,
           3.4885526315789472
          ],
          [
           0.6,
           3.523157894736842
          ],
          [
           0.65,
           3.557763157894737
          ],
          [
           0.7,
           3.5923684210526314
          ],
          [
           0.75,
           3.626973684210526
          ],
          [
           0.8,
           3.661578947368421
          ],
          [
           0.85,
           3.6961842105263156
          ],
          [
           0.9,
           3.73078947368421
          ],
          [
           0.95,
           3.7653947368421052
          ],
          [
           1,
           3.8
          ]
         ],
         "hoverinfo": "y",
         "mode": "lines+markers",
         "name": "sepal width (cm)",
         "type": "scatter",
         "x": [
          -1,
          -0.95,
          -0.9,
          -0.85,
          -0.8,
          -0.75,
          -0.7,
          -0.65,
          -0.6,
          -0.55,
          -0.5,
          -0.45,
          -0.4,
          -0.35,
          -0.3,
          -0.25,
          -0.2,
          -0.15,
          -0.1,
          -0.05,
          0,
          0.05,
          0.1,
          0.15,
          0.2,
          0.25,
          0.3,
          0.35,
          0.4,
          0.45,
          0.5,
          0.55,
          0.6,
          0.65,
          0.7,
          0.75,
          0.8,
          0.85,
          0.9,
          0.95,
          1
         ],
         "y": [
          0.042828751357068054,
          0.05274505635723684,
          0.06369465784210729,
          0.07567038332855135,
          0.08866202743525381,
          0.10265508008916306,
          0.1176292224709973,
          0.133556641216927,
          0.15040024506462202,
          0.16811191738187797,
          0.18663116561384654,
          0.20588333559420496,
          0.22578062491135925,
          0.24622188083536875,
          0.2670949456110555,
          0.2882799755901328,
          0.3096538391697732,
          0.3310951459718967,
          0.3524892887686845,
          0.373733004104068,
          0.39473684210526333,
          0.4182672419177628,
          0.44131158950486704,
          0.46381582014050887,
          0.4857474769234695,
          0.507093026731047,
          0.527853271341514,
          0.54803909770834,
          0.5676691105023868,
          0.58676593651117,
          0.6053548308604755,
          0.6234621130963424,
          0.6411141634487204,
          0.6583367796847216,
          0.6751546271019772,
          0.6915912572703101,
          0.7076687355629889,
          0.7234077458817488,
          0.7388276001070162,
          0.753946311452253,
          0.7687806779903388
         ]
        }
       ],
       "layout": {
        "margin": {
         "r": 50,
         "t": 50
        },
        "plot_bgcolor": "white",
        "template": {
         "data": {
          "bar": [
           {
            "error_x": {
             "color": "#2a3f5f"
            },
            "error_y": {
             "color": "#2a3f5f"
            },
            "marker": {
             "line": {
              "color": "#E5ECF6",
              "width": 0.5
             }
            },
            "type": "bar"
           }
          ],
          "barpolar": [
           {
            "marker": {
             "line": {
              "color": "#E5ECF6",
              "width": 0.5
             }
            },
            "type": "barpolar"
           }
          ],
          "carpet": [
           {
            "aaxis": {
             "endlinecolor": "#2a3f5f",
             "gridcolor": "white",
             "linecolor": "white",
             "minorgridcolor": "white",
             "startlinecolor": "#2a3f5f"
            },
            "baxis": {
             "endlinecolor": "#2a3f5f",
             "gridcolor": "white",
             "linecolor": "white",
             "minorgridcolor": "white",
             "startlinecolor": "#2a3f5f"
            },
            "type": "carpet"
           }
          ],
          "choropleth": [
           {
            "colorbar": {
             "outlinewidth": 0,
             "ticks": ""
            },
            "type": "choropleth"
           }
          ],
          "contour": [
           {
            "colorbar": {
             "outlinewidth": 0,
             "ticks": ""
            },
            "colorscale": [
             [
              0,
              "#0d0887"
             ],
             [
              0.1111111111111111,
              "#46039f"
             ],
             [
              0.2222222222222222,
              "#7201a8"
             ],
             [
              0.3333333333333333,
              "#9c179e"
             ],
             [
              0.4444444444444444,
              "#bd3786"
             ],
             [
              0.5555555555555556,
              "#d8576b"
             ],
             [
              0.6666666666666666,
              "#ed7953"
             ],
             [
              0.7777777777777778,
              "#fb9f3a"
             ],
             [
              0.8888888888888888,
              "#fdca26"
             ],
             [
              1,
              "#f0f921"
             ]
            ],
            "type": "contour"
           }
          ],
          "contourcarpet": [
           {
            "colorbar": {
             "outlinewidth": 0,
             "ticks": ""
            },
            "type": "contourcarpet"
           }
          ],
          "heatmap": [
           {
            "colorbar": {
             "outlinewidth": 0,
             "ticks": ""
            },
            "colorscale": [
             [
              0,
              "#0d0887"
             ],
             [
              0.1111111111111111,
              "#46039f"
             ],
             [
              0.2222222222222222,
              "#7201a8"
             ],
             [
              0.3333333333333333,
              "#9c179e"
             ],
             [
              0.4444444444444444,
              "#bd3786"
             ],
             [
              0.5555555555555556,
              "#d8576b"
             ],
             [
              0.6666666666666666,
              "#ed7953"
             ],
             [
              0.7777777777777778,
              "#fb9f3a"
             ],
             [
              0.8888888888888888,
              "#fdca26"
             ],
             [
              1,
              "#f0f921"
             ]
            ],
            "type": "heatmap"
           }
          ],
          "heatmapgl": [
           {
            "colorbar": {
             "outlinewidth": 0,
             "ticks": ""
            },
            "colorscale": [
             [
              0,
              "#0d0887"
             ],
             [
              0.1111111111111111,
              "#46039f"
             ],
             [
              0.2222222222222222,
              "#7201a8"
             ],
             [
              0.3333333333333333,
              "#9c179e"
             ],
             [
              0.4444444444444444,
              "#bd3786"
             ],
             [
              0.5555555555555556,
              "#d8576b"
             ],
             [
              0.6666666666666666,
              "#ed7953"
             ],
             [
              0.7777777777777778,
              "#fb9f3a"
             ],
             [
              0.8888888888888888,
              "#fdca26"
             ],
             [
              1,
              "#f0f921"
             ]
            ],
            "type": "heatmapgl"
           }
          ],
          "histogram": [
           {
            "marker": {
             "colorbar": {
              "outlinewidth": 0,
              "ticks": ""
             }
            },
            "type": "histogram"
           }
          ],
          "histogram2d": [
           {
            "colorbar": {
             "outlinewidth": 0,
             "ticks": ""
            },
            "colorscale": [
             [
              0,
              "#0d0887"
             ],
             [
              0.1111111111111111,
              "#46039f"
             ],
             [
              0.2222222222222222,
              "#7201a8"
             ],
             [
              0.3333333333333333,
              "#9c179e"
             ],
             [
              0.4444444444444444,
              "#bd3786"
             ],
             [
              0.5555555555555556,
              "#d8576b"
             ],
             [
              0.6666666666666666,
              "#ed7953"
             ],
             [
              0.7777777777777778,
              "#fb9f3a"
             ],
             [
              0.8888888888888888,
              "#fdca26"
             ],
             [
              1,
              "#f0f921"
             ]
            ],
            "type": "histogram2d"
           }
          ],
          "histogram2dcontour": [
           {
            "colorbar": {
             "outlinewidth": 0,
             "ticks": ""
            },
            "colorscale": [
             [
              0,
              "#0d0887"
             ],
             [
              0.1111111111111111,
              "#46039f"
             ],
             [
              0.2222222222222222,
              "#7201a8"
             ],
             [
              0.3333333333333333,
              "#9c179e"
             ],
             [
              0.4444444444444444,
              "#bd3786"
             ],
             [
              0.5555555555555556,
              "#d8576b"
             ],
             [
              0.6666666666666666,
              "#ed7953"
             ],
             [
              0.7777777777777778,
              "#fb9f3a"
             ],
             [
              0.8888888888888888,
              "#fdca26"
             ],
             [
              1,
              "#f0f921"
             ]
            ],
            "type": "histogram2dcontour"
           }
          ],
          "mesh3d": [
           {
            "colorbar": {
             "outlinewidth": 0,
             "ticks": ""
            },
            "type": "mesh3d"
           }
          ],
          "parcoords": [
           {
            "line": {
             "colorbar": {
              "outlinewidth": 0,
              "ticks": ""
             }
            },
            "type": "parcoords"
           }
          ],
          "scatter": [
           {
            "marker": {
             "colorbar": {
              "outlinewidth": 0,
              "ticks": ""
             }
            },
            "type": "scatter"
           }
          ],
          "scatter3d": [
           {
            "line": {
             "colorbar": {
              "outlinewidth": 0,
              "ticks": ""
             }
            },
            "marker": {
             "colorbar": {
              "outlinewidth": 0,
              "ticks": ""
             }
            },
            "type": "scatter3d"
           }
          ],
          "scattercarpet": [
           {
            "marker": {
             "colorbar": {
              "outlinewidth": 0,
              "ticks": ""
             }
            },
            "type": "scattercarpet"
           }
          ],
          "scattergeo": [
           {
            "marker": {
             "colorbar": {
              "outlinewidth": 0,
              "ticks": ""
             }
            },
            "type": "scattergeo"
           }
          ],
          "scattergl": [
           {
            "marker": {
             "colorbar": {
              "outlinewidth": 0,
              "ticks": ""
             }
            },
            "type": "scattergl"
           }
          ],
          "scattermapbox": [
           {
            "marker": {
             "colorbar": {
              "outlinewidth": 0,
              "ticks": ""
             }
            },
            "type": "scattermapbox"
           }
          ],
          "scatterpolar": [
           {
            "marker": {
             "colorbar": {
              "outlinewidth": 0,
              "ticks": ""
             }
            },
            "type": "scatterpolar"
           }
          ],
          "scatterpolargl": [
           {
            "marker": {
             "colorbar": {
              "outlinewidth": 0,
              "ticks": ""
             }
            },
            "type": "scatterpolargl"
           }
          ],
          "scatterternary": [
           {
            "marker": {
             "colorbar": {
              "outlinewidth": 0,
              "ticks": ""
             }
            },
            "type": "scatterternary"
           }
          ],
          "surface": [
           {
            "colorbar": {
             "outlinewidth": 0,
             "ticks": ""
            },
            "colorscale": [
             [
              0,
              "#0d0887"
             ],
             [
              0.1111111111111111,
              "#46039f"
             ],
             [
              0.2222222222222222,
              "#7201a8"
             ],
             [
              0.3333333333333333,
              "#9c179e"
             ],
             [
              0.4444444444444444,
              "#bd3786"
             ],
             [
              0.5555555555555556,
              "#d8576b"
             ],
             [
              0.6666666666666666,
              "#ed7953"
             ],
             [
              0.7777777777777778,
              "#fb9f3a"
             ],
             [
              0.8888888888888888,
              "#fdca26"
             ],
             [
              1,
              "#f0f921"
             ]
            ],
            "type": "surface"
           }
          ],
          "table": [
           {
            "cells": {
             "fill": {
              "color": "#EBF0F8"
             },
             "line": {
              "color": "white"
             }
            },
            "header": {
             "fill": {
              "color": "#C8D4E3"
             },
             "line": {
              "color": "white"
             }
            },
            "type": "table"
           }
          ]
         },
         "layout": {
          "annotationdefaults": {
           "arrowcolor": "#2a3f5f",
           "arrowhead": 0,
           "arrowwidth": 1
          },
          "colorscale": {
           "diverging": [
            [
             0,
             "#8e0152"
            ],
            [
             0.1,
             "#c51b7d"
            ],
            [
             0.2,
             "#de77ae"
            ],
            [
             0.3,
             "#f1b6da"
            ],
            [
             0.4,
             "#fde0ef"
            ],
            [
             0.5,
             "#f7f7f7"
            ],
            [
             0.6,
             "#e6f5d0"
            ],
            [
             0.7,
             "#b8e186"
            ],
            [
             0.8,
             "#7fbc41"
            ],
            [
             0.9,
             "#4d9221"
            ],
            [
             1,
             "#276419"
            ]
           ],
           "sequential": [
            [
             0,
             "#0d0887"
            ],
            [
             0.1111111111111111,
             "#46039f"
            ],
            [
             0.2222222222222222,
             "#7201a8"
            ],
            [
             0.3333333333333333,
             "#9c179e"
            ],
            [
             0.4444444444444444,
             "#bd3786"
            ],
            [
             0.5555555555555556,
             "#d8576b"
            ],
            [
             0.6666666666666666,
             "#ed7953"
            ],
            [
             0.7777777777777778,
             "#fb9f3a"
            ],
            [
             0.8888888888888888,
             "#fdca26"
            ],
            [
             1,
             "#f0f921"
            ]
           ],
           "sequentialminus": [
            [
             0,
             "#0d0887"
            ],
            [
             0.1111111111111111,
             "#46039f"
            ],
            [
             0.2222222222222222,
             "#7201a8"
            ],
            [
             0.3333333333333333,
             "#9c179e"
            ],
            [
             0.4444444444444444,
             "#bd3786"
            ],
            [
             0.5555555555555556,
             "#d8576b"
            ],
            [
             0.6666666666666666,
             "#ed7953"
            ],
            [
             0.7777777777777778,
             "#fb9f3a"
            ],
            [
             0.8888888888888888,
             "#fdca26"
            ],
            [
             1,
             "#f0f921"
            ]
           ]
          },
          "colorway": [
           "#636efa",
           "#EF553B",
           "#00cc96",
           "#ab63fa",
           "#FFA15A",
           "#19d3f3",
           "#FF6692",
           "#B6E880",
           "#FF97FF",
           "#FECB52"
          ],
          "font": {
           "color": "#2a3f5f"
          },
          "geo": {
           "bgcolor": "white",
           "lakecolor": "white",
           "landcolor": "#E5ECF6",
           "showlakes": true,
           "showland": true,
           "subunitcolor": "white"
          },
          "hoverlabel": {
           "align": "left"
          },
          "hovermode": "closest",
          "mapbox": {
           "style": "light"
          },
          "paper_bgcolor": "white",
          "plot_bgcolor": "#E5ECF6",
          "polar": {
           "angularaxis": {
            "gridcolor": "white",
            "linecolor": "white",
            "ticks": ""
           },
           "bgcolor": "#E5ECF6",
           "radialaxis": {
            "gridcolor": "white",
            "linecolor": "white",
            "ticks": ""
           }
          },
          "scene": {
           "xaxis": {
            "backgroundcolor": "#E5ECF6",
            "gridcolor": "white",
            "gridwidth": 2,
            "linecolor": "white",
            "showbackground": true,
            "ticks": "",
            "zerolinecolor": "white"
           },
           "yaxis": {
            "backgroundcolor": "#E5ECF6",
            "gridcolor": "white",
            "gridwidth": 2,
            "linecolor": "white",
            "showbackground": true,
            "ticks": "",
            "zerolinecolor": "white"
           },
           "zaxis": {
            "backgroundcolor": "#E5ECF6",
            "gridcolor": "white",
            "gridwidth": 2,
            "linecolor": "white",
            "showbackground": true,
            "ticks": "",
            "zerolinecolor": "white"
           }
          },
          "shapedefaults": {
           "line": {
            "color": "#2a3f5f"
           }
          },
          "ternary": {
           "aaxis": {
            "gridcolor": "white",
            "linecolor": "white",
            "ticks": ""
           },
           "baxis": {
            "gridcolor": "white",
            "linecolor": "white",
            "ticks": ""
           },
           "bgcolor": "#E5ECF6",
           "caxis": {
            "gridcolor": "white",
            "linecolor": "white",
            "ticks": ""
           }
          },
          "title": {
           "x": 0.05
          },
          "xaxis": {
           "automargin": true,
           "gridcolor": "white",
           "linecolor": "white",
           "ticks": "",
           "zerolinecolor": "white",
           "zerolinewidth": 2
          },
          "yaxis": {
           "automargin": true,
           "gridcolor": "white",
           "linecolor": "white",
           "ticks": "",
           "zerolinecolor": "white",
           "zerolinewidth": 2
          }
         }
        },
        "xaxis": {
         "gridcolor": "#eee",
         "linecolor": "black",
         "nticks": 5,
         "showgrid": true,
         "showline": true,
         "title": {
          "text": "tau"
         },
         "zeroline": false
        },
        "yaxis": {
         "gridcolor": "#eee",
         "linecolor": "black",
         "range": [
          0,
          1
         ],
         "showgrid": true,
         "showline": true,
         "title": {
          "text": "Average \"setosa\""
         }
        }
       }
      },
      "text/html": [
       "<div>\n",
       "        \n",
       "        \n",
       "            <div id=\"0afdf493-831b-4434-a642-110a7d9ce5b9\" class=\"plotly-graph-div\" style=\"height:525px; width:100%;\"></div>\n",
       "            <script type=\"text/javascript\">\n",
       "                require([\"plotly\"], function(Plotly) {\n",
       "                    window.PLOTLYENV=window.PLOTLYENV || {};\n",
       "                    \n",
       "                if (document.getElementById(\"0afdf493-831b-4434-a642-110a7d9ce5b9\")) {\n",
       "                    Plotly.newPlot(\n",
       "                        '0afdf493-831b-4434-a642-110a7d9ce5b9',\n",
       "                        [{\"customdata\": [[-1.0, 4.6850000000000005], [-0.95, 4.744828947368422], [-0.9, 4.804657894736843], [-0.85, 4.864486842105263], [-0.8, 4.924315789473685], [-0.75, 4.984144736842106], [-0.7, 5.043973684210527], [-0.65, 5.103802631578947], [-0.6, 5.163631578947369], [-0.55, 5.22346052631579], [-0.5, 5.283289473684211], [-0.45, 5.3431184210526315], [-0.4, 5.402947368421053], [-0.35, 5.462776315789474], [-0.3, 5.522605263157895], [-0.25, 5.582434210526316], [-0.2, 5.642263157894737], [-0.15, 5.702092105263159], [-0.1, 5.761921052631579], [-0.05, 5.82175], [0.0, 5.881578947368421], [0.05, 5.9385], [0.1, 5.995421052631579], [0.15, 6.052342105263158], [0.2, 6.109263157894737], [0.25, 6.166184210526316], [0.3, 6.223105263157895], [0.35, 6.280026315789474], [0.4, 6.336947368421052], [0.45, 6.393868421052631], [0.5, 6.45078947368421], [0.55, 6.5077105263157895], [0.6, 6.564631578947369], [0.65, 6.621552631578947], [0.7, 6.678473684210526], [0.75, 6.735394736842105], [0.8, 6.792315789473684], [0.85, 6.849236842105263], [0.9, 6.906157894736841], [0.95, 6.9630789473684205], [1.0, 7.02]], \"hoverinfo\": \"y\", \"mode\": \"lines+markers\", \"name\": \"sepal length (cm)\", \"type\": \"scatter\", \"x\": [-1.0, -0.95, -0.9, -0.85, -0.8, -0.75, -0.7, -0.65, -0.6, -0.55, -0.5, -0.45, -0.4, -0.35, -0.3, -0.25, -0.2, -0.15, -0.1, -0.05, 0.0, 0.05, 0.1, 0.15, 0.2, 0.25, 0.3, 0.35, 0.4, 0.45, 0.5, 0.55, 0.6, 0.65, 0.7, 0.75, 0.8, 0.85, 0.9, 0.95, 1.0], \"y\": [0.9853124298748387, 0.9690378724345088, 0.9471595402871524, 0.9213667116362181, 0.8929890052304397, 0.8629189801918735, 0.8317459220502755, 0.7998667090106795, 0.7675618980922161, 0.7350380307085117, 0.7024541266230963, 0.6699379329826167, 0.6375960772102641, 0.6055213464324622, 0.5737959916238811, 0.5424957305476956, 0.5116913370533572, 0.48144999505661895, 0.4518361205196024, 0.4229117726093628, 0.39473684210526333, 0.36867944609750797, 0.34339963109740423, 0.31894195470660197, 0.29534785437659394, 0.2726550481849747, 0.2508969429879255, 0.23010204758658828, 0.21029343741570014, 0.19148830998410432, 0.17369766578091952, 0.15692614161609086, 0.14117201291092396, 0.1264273693251087, 0.1126784556724586, 0.09990615878983221, 0.08808661213920363, 0.07719188427926524, 0.06719071524412652, 0.05804926609993295, 0.049731850927237975]}, {\"customdata\": [[-1.0, 2.5], [-0.95, 2.5303947368421054], [-0.9, 2.5607894736842107], [-0.85, 2.5911842105263156], [-0.8, 2.621578947368421], [-0.75, 2.6519736842105264], [-0.7, 2.6823684210526313], [-0.65, 2.7127631578947367], [-0.6, 2.743157894736842], [-0.55, 2.7735526315789474], [-0.5, 2.8039473684210527], [-0.45, 2.8343421052631577], [-0.4, 2.864736842105263], [-0.35, 2.8951315789473684], [-0.3, 2.9255263157894733], [-0.25, 2.9559210526315787], [-0.2, 2.986315789473684], [-0.15, 3.0167105263157894], [-0.1, 3.0471052631578948], [-0.05, 3.0774999999999997], [0.0, 3.107894736842105], [0.05, 3.1424999999999996], [0.1, 3.1771052631578947], [0.15, 3.2117105263157892], [0.2, 3.246315789473684], [0.25, 3.280921052631579], [0.3, 3.3155263157894734], [0.35, 3.350131578947368], [0.4, 3.384736842105263], [0.45, 3.4193421052631576], [0.5, 3.453947368421052], [0.55, 3.4885526315789472], [0.6, 3.523157894736842], [0.65, 3.557763157894737], [0.7, 3.5923684210526314], [0.75, 3.626973684210526], [0.8, 3.661578947368421], [0.85, 3.6961842105263156], [0.9, 3.73078947368421], [0.95, 3.7653947368421052], [1.0, 3.8]], \"hoverinfo\": \"y\", \"mode\": \"lines+markers\", \"name\": \"sepal width (cm)\", \"type\": \"scatter\", \"x\": [-1.0, -0.95, -0.9, -0.85, -0.8, -0.75, -0.7, -0.65, -0.6, -0.55, -0.5, -0.45, -0.4, -0.35, -0.3, -0.25, -0.2, -0.15, -0.1, -0.05, 0.0, 0.05, 0.1, 0.15, 0.2, 0.25, 0.3, 0.35, 0.4, 0.45, 0.5, 0.55, 0.6, 0.65, 0.7, 0.75, 0.8, 0.85, 0.9, 0.95, 1.0], \"y\": [0.042828751357068054, 0.05274505635723684, 0.06369465784210729, 0.07567038332855135, 0.08866202743525381, 0.10265508008916306, 0.1176292224709973, 0.133556641216927, 0.15040024506462202, 0.16811191738187797, 0.18663116561384654, 0.20588333559420496, 0.22578062491135925, 0.24622188083536875, 0.2670949456110555, 0.2882799755901328, 0.3096538391697732, 0.3310951459718967, 0.3524892887686845, 0.373733004104068, 0.39473684210526333, 0.4182672419177628, 0.44131158950486704, 0.46381582014050887, 0.4857474769234695, 0.507093026731047, 0.527853271341514, 0.54803909770834, 0.5676691105023868, 0.58676593651117, 0.6053548308604755, 0.6234621130963424, 0.6411141634487204, 0.6583367796847216, 0.6751546271019772, 0.6915912572703101, 0.7076687355629889, 0.7234077458817488, 0.7388276001070162, 0.753946311452253, 0.7687806779903388]}],\n",
       "                        {\"margin\": {\"r\": 50, \"t\": 50}, \"plot_bgcolor\": \"white\", \"template\": {\"data\": {\"bar\": [{\"error_x\": {\"color\": \"#2a3f5f\"}, \"error_y\": {\"color\": \"#2a3f5f\"}, \"marker\": {\"line\": {\"color\": \"#E5ECF6\", \"width\": 0.5}}, \"type\": \"bar\"}], \"barpolar\": [{\"marker\": {\"line\": {\"color\": \"#E5ECF6\", \"width\": 0.5}}, \"type\": \"barpolar\"}], \"carpet\": [{\"aaxis\": {\"endlinecolor\": \"#2a3f5f\", \"gridcolor\": \"white\", \"linecolor\": \"white\", \"minorgridcolor\": \"white\", \"startlinecolor\": \"#2a3f5f\"}, \"baxis\": {\"endlinecolor\": \"#2a3f5f\", \"gridcolor\": \"white\", \"linecolor\": \"white\", \"minorgridcolor\": \"white\", \"startlinecolor\": \"#2a3f5f\"}, \"type\": \"carpet\"}], \"choropleth\": [{\"colorbar\": {\"outlinewidth\": 0, \"ticks\": \"\"}, \"type\": \"choropleth\"}], \"contour\": [{\"colorbar\": {\"outlinewidth\": 0, \"ticks\": \"\"}, \"colorscale\": [[0.0, \"#0d0887\"], [0.1111111111111111, \"#46039f\"], [0.2222222222222222, \"#7201a8\"], [0.3333333333333333, \"#9c179e\"], [0.4444444444444444, \"#bd3786\"], [0.5555555555555556, \"#d8576b\"], [0.6666666666666666, \"#ed7953\"], [0.7777777777777778, \"#fb9f3a\"], [0.8888888888888888, \"#fdca26\"], [1.0, \"#f0f921\"]], \"type\": \"contour\"}], \"contourcarpet\": [{\"colorbar\": {\"outlinewidth\": 0, \"ticks\": \"\"}, \"type\": \"contourcarpet\"}], \"heatmap\": [{\"colorbar\": {\"outlinewidth\": 0, \"ticks\": \"\"}, \"colorscale\": [[0.0, \"#0d0887\"], [0.1111111111111111, \"#46039f\"], [0.2222222222222222, \"#7201a8\"], [0.3333333333333333, \"#9c179e\"], [0.4444444444444444, \"#bd3786\"], [0.5555555555555556, \"#d8576b\"], [0.6666666666666666, \"#ed7953\"], [0.7777777777777778, \"#fb9f3a\"], [0.8888888888888888, \"#fdca26\"], [1.0, \"#f0f921\"]], \"type\": \"heatmap\"}], \"heatmapgl\": [{\"colorbar\": {\"outlinewidth\": 0, \"ticks\": \"\"}, \"colorscale\": [[0.0, \"#0d0887\"], [0.1111111111111111, \"#46039f\"], [0.2222222222222222, \"#7201a8\"], [0.3333333333333333, \"#9c179e\"], [0.4444444444444444, \"#bd3786\"], [0.5555555555555556, \"#d8576b\"], [0.6666666666666666, \"#ed7953\"], [0.7777777777777778, \"#fb9f3a\"], [0.8888888888888888, \"#fdca26\"], [1.0, \"#f0f921\"]], \"type\": \"heatmapgl\"}], \"histogram\": [{\"marker\": {\"colorbar\": {\"outlinewidth\": 0, \"ticks\": \"\"}}, \"type\": \"histogram\"}], \"histogram2d\": [{\"colorbar\": {\"outlinewidth\": 0, \"ticks\": \"\"}, \"colorscale\": [[0.0, \"#0d0887\"], [0.1111111111111111, \"#46039f\"], [0.2222222222222222, \"#7201a8\"], [0.3333333333333333, \"#9c179e\"], [0.4444444444444444, \"#bd3786\"], [0.5555555555555556, \"#d8576b\"], [0.6666666666666666, \"#ed7953\"], [0.7777777777777778, \"#fb9f3a\"], [0.8888888888888888, \"#fdca26\"], [1.0, \"#f0f921\"]], \"type\": \"histogram2d\"}], \"histogram2dcontour\": [{\"colorbar\": {\"outlinewidth\": 0, \"ticks\": \"\"}, \"colorscale\": [[0.0, \"#0d0887\"], [0.1111111111111111, \"#46039f\"], [0.2222222222222222, \"#7201a8\"], [0.3333333333333333, \"#9c179e\"], [0.4444444444444444, \"#bd3786\"], [0.5555555555555556, \"#d8576b\"], [0.6666666666666666, \"#ed7953\"], [0.7777777777777778, \"#fb9f3a\"], [0.8888888888888888, \"#fdca26\"], [1.0, \"#f0f921\"]], \"type\": \"histogram2dcontour\"}], \"mesh3d\": [{\"colorbar\": {\"outlinewidth\": 0, \"ticks\": \"\"}, \"type\": \"mesh3d\"}], \"parcoords\": [{\"line\": {\"colorbar\": {\"outlinewidth\": 0, \"ticks\": \"\"}}, \"type\": \"parcoords\"}], \"scatter\": [{\"marker\": {\"colorbar\": {\"outlinewidth\": 0, \"ticks\": \"\"}}, \"type\": \"scatter\"}], \"scatter3d\": [{\"line\": {\"colorbar\": {\"outlinewidth\": 0, \"ticks\": \"\"}}, \"marker\": {\"colorbar\": {\"outlinewidth\": 0, \"ticks\": \"\"}}, \"type\": \"scatter3d\"}], \"scattercarpet\": [{\"marker\": {\"colorbar\": {\"outlinewidth\": 0, \"ticks\": \"\"}}, \"type\": \"scattercarpet\"}], \"scattergeo\": [{\"marker\": {\"colorbar\": {\"outlinewidth\": 0, \"ticks\": \"\"}}, \"type\": \"scattergeo\"}], \"scattergl\": [{\"marker\": {\"colorbar\": {\"outlinewidth\": 0, \"ticks\": \"\"}}, \"type\": \"scattergl\"}], \"scattermapbox\": [{\"marker\": {\"colorbar\": {\"outlinewidth\": 0, \"ticks\": \"\"}}, \"type\": \"scattermapbox\"}], \"scatterpolar\": [{\"marker\": {\"colorbar\": {\"outlinewidth\": 0, \"ticks\": \"\"}}, \"type\": \"scatterpolar\"}], \"scatterpolargl\": [{\"marker\": {\"colorbar\": {\"outlinewidth\": 0, \"ticks\": \"\"}}, \"type\": \"scatterpolargl\"}], \"scatterternary\": [{\"marker\": {\"colorbar\": {\"outlinewidth\": 0, \"ticks\": \"\"}}, \"type\": \"scatterternary\"}], \"surface\": [{\"colorbar\": {\"outlinewidth\": 0, \"ticks\": \"\"}, \"colorscale\": [[0.0, \"#0d0887\"], [0.1111111111111111, \"#46039f\"], [0.2222222222222222, \"#7201a8\"], [0.3333333333333333, \"#9c179e\"], [0.4444444444444444, \"#bd3786\"], [0.5555555555555556, \"#d8576b\"], [0.6666666666666666, \"#ed7953\"], [0.7777777777777778, \"#fb9f3a\"], [0.8888888888888888, \"#fdca26\"], [1.0, \"#f0f921\"]], \"type\": \"surface\"}], \"table\": [{\"cells\": {\"fill\": {\"color\": \"#EBF0F8\"}, \"line\": {\"color\": \"white\"}}, \"header\": {\"fill\": {\"color\": \"#C8D4E3\"}, \"line\": {\"color\": \"white\"}}, \"type\": \"table\"}]}, \"layout\": {\"annotationdefaults\": {\"arrowcolor\": \"#2a3f5f\", \"arrowhead\": 0, \"arrowwidth\": 1}, \"colorscale\": {\"diverging\": [[0, \"#8e0152\"], [0.1, \"#c51b7d\"], [0.2, \"#de77ae\"], [0.3, \"#f1b6da\"], [0.4, \"#fde0ef\"], [0.5, \"#f7f7f7\"], [0.6, \"#e6f5d0\"], [0.7, \"#b8e186\"], [0.8, \"#7fbc41\"], [0.9, \"#4d9221\"], [1, \"#276419\"]], \"sequential\": [[0.0, \"#0d0887\"], [0.1111111111111111, \"#46039f\"], [0.2222222222222222, \"#7201a8\"], [0.3333333333333333, \"#9c179e\"], [0.4444444444444444, \"#bd3786\"], [0.5555555555555556, \"#d8576b\"], [0.6666666666666666, \"#ed7953\"], [0.7777777777777778, \"#fb9f3a\"], [0.8888888888888888, \"#fdca26\"], [1.0, \"#f0f921\"]], \"sequentialminus\": [[0.0, \"#0d0887\"], [0.1111111111111111, \"#46039f\"], [0.2222222222222222, \"#7201a8\"], [0.3333333333333333, \"#9c179e\"], [0.4444444444444444, \"#bd3786\"], [0.5555555555555556, \"#d8576b\"], [0.6666666666666666, \"#ed7953\"], [0.7777777777777778, \"#fb9f3a\"], [0.8888888888888888, \"#fdca26\"], [1.0, \"#f0f921\"]]}, \"colorway\": [\"#636efa\", \"#EF553B\", \"#00cc96\", \"#ab63fa\", \"#FFA15A\", \"#19d3f3\", \"#FF6692\", \"#B6E880\", \"#FF97FF\", \"#FECB52\"], \"font\": {\"color\": \"#2a3f5f\"}, \"geo\": {\"bgcolor\": \"white\", \"lakecolor\": \"white\", \"landcolor\": \"#E5ECF6\", \"showlakes\": true, \"showland\": true, \"subunitcolor\": \"white\"}, \"hoverlabel\": {\"align\": \"left\"}, \"hovermode\": \"closest\", \"mapbox\": {\"style\": \"light\"}, \"paper_bgcolor\": \"white\", \"plot_bgcolor\": \"#E5ECF6\", \"polar\": {\"angularaxis\": {\"gridcolor\": \"white\", \"linecolor\": \"white\", \"ticks\": \"\"}, \"bgcolor\": \"#E5ECF6\", \"radialaxis\": {\"gridcolor\": \"white\", \"linecolor\": \"white\", \"ticks\": \"\"}}, \"scene\": {\"xaxis\": {\"backgroundcolor\": \"#E5ECF6\", \"gridcolor\": \"white\", \"gridwidth\": 2, \"linecolor\": \"white\", \"showbackground\": true, \"ticks\": \"\", \"zerolinecolor\": \"white\"}, \"yaxis\": {\"backgroundcolor\": \"#E5ECF6\", \"gridcolor\": \"white\", \"gridwidth\": 2, \"linecolor\": \"white\", \"showbackground\": true, \"ticks\": \"\", \"zerolinecolor\": \"white\"}, \"zaxis\": {\"backgroundcolor\": \"#E5ECF6\", \"gridcolor\": \"white\", \"gridwidth\": 2, \"linecolor\": \"white\", \"showbackground\": true, \"ticks\": \"\", \"zerolinecolor\": \"white\"}}, \"shapedefaults\": {\"line\": {\"color\": \"#2a3f5f\"}}, \"ternary\": {\"aaxis\": {\"gridcolor\": \"white\", \"linecolor\": \"white\", \"ticks\": \"\"}, \"baxis\": {\"gridcolor\": \"white\", \"linecolor\": \"white\", \"ticks\": \"\"}, \"bgcolor\": \"#E5ECF6\", \"caxis\": {\"gridcolor\": \"white\", \"linecolor\": \"white\", \"ticks\": \"\"}}, \"title\": {\"x\": 0.05}, \"xaxis\": {\"automargin\": true, \"gridcolor\": \"white\", \"linecolor\": \"white\", \"ticks\": \"\", \"zerolinecolor\": \"white\", \"zerolinewidth\": 2}, \"yaxis\": {\"automargin\": true, \"gridcolor\": \"white\", \"linecolor\": \"white\", \"ticks\": \"\", \"zerolinecolor\": \"white\", \"zerolinewidth\": 2}}}, \"xaxis\": {\"gridcolor\": \"#eee\", \"linecolor\": \"black\", \"nticks\": 5, \"showgrid\": true, \"showline\": true, \"title\": {\"text\": \"tau\"}, \"zeroline\": false}, \"yaxis\": {\"gridcolor\": \"#eee\", \"linecolor\": \"black\", \"range\": [0, 1], \"showgrid\": true, \"showline\": true, \"title\": {\"text\": \"Average \\\"setosa\\\"\"}}},\n",
       "                        {\"responsive\": true}\n",
       "                    ).then(function(){\n",
       "                            \n",
       "var gd = document.getElementById('0afdf493-831b-4434-a642-110a7d9ce5b9');\n",
       "var x = new MutationObserver(function (mutations, observer) {{\n",
       "        var display = window.getComputedStyle(gd).display;\n",
       "        if (!display || display === 'none') {{\n",
       "            console.log([gd, 'removed!']);\n",
       "            Plotly.purge(gd);\n",
       "            observer.disconnect();\n",
       "        }}\n",
       "}});\n",
       "\n",
       "// Listen for the removal of the full notebook cells\n",
       "var notebookContainer = gd.closest('#notebook-container');\n",
       "if (notebookContainer) {{\n",
       "    x.observe(notebookContainer, {childList: true});\n",
       "}}\n",
       "\n",
       "// Listen for the clearing of the current output cell\n",
       "var outputEl = gd.closest('.output');\n",
       "if (outputEl) {{\n",
       "    x.observe(outputEl, {childList: true});\n",
       "}}\n",
       "\n",
       "                        })\n",
       "                };\n",
       "                });\n",
       "            </script>\n",
       "        </div>"
      ]
     },
     "metadata": {},
     "output_type": "display_data"
    }
   ],
   "source": [
    "explainer.plot_bias(\n",
    "    X_test=X_test[['sepal length (cm)', 'sepal width (cm)']],\n",
    "    y_pred=y_pred['setosa']\n",
    ")"
   ]
  },
  {
   "cell_type": "markdown",
   "metadata": {},
   "source": [
    "One variable, two classes."
   ]
  },
  {
   "cell_type": "code",
   "execution_count": 8,
   "metadata": {},
   "outputs": [
    {
     "name": "stderr",
     "output_type": "stream",
     "text": [
      "41it [00:00, 1263.23it/s]\n",
      "41it [00:00, 1259.27it/s]\n"
     ]
    },
    {
     "data": {
      "application/vnd.plotly.v1+json": {
       "config": {
        "plotlyServerURL": "https://plot.ly"
       },
       "data": [
        {
         "hoverinfo": "x+y",
         "marker": {
          "color": "hsl(269.0, 43.0%, 42.0%)"
         },
         "mode": "lines+markers",
         "showlegend": false,
         "type": "scatter",
         "x": [
          4.6850000000000005,
          4.744828947368422,
          4.804657894736843,
          4.864486842105263,
          4.924315789473685,
          4.984144736842106,
          5.043973684210527,
          5.103802631578947,
          5.163631578947369,
          5.22346052631579,
          5.283289473684211,
          5.3431184210526315,
          5.402947368421053,
          5.462776315789474,
          5.522605263157895,
          5.582434210526316,
          5.642263157894737,
          5.702092105263159,
          5.761921052631579,
          5.82175,
          5.881578947368421,
          5.9385,
          5.995421052631579,
          6.052342105263158,
          6.109263157894737,
          6.166184210526316,
          6.223105263157895,
          6.280026315789474,
          6.336947368421052,
          6.393868421052631,
          6.45078947368421,
          6.5077105263157895,
          6.564631578947369,
          6.621552631578947,
          6.678473684210526,
          6.735394736842105,
          6.792315789473684,
          6.849236842105263,
          6.906157894736841,
          6.9630789473684205,
          7.02
         ],
         "xaxis": "x",
         "y": [
          0.0131390018244816,
          0.026343089795414495,
          0.04286333911360634,
          0.06108580870464756,
          0.07995510208179088,
          0.09886374844063057,
          0.11746456726832166,
          0.1355540369408598,
          0.15300559259511165,
          0.16973600340824255,
          0.18568655051585278,
          0.2008125810459534,
          0.21507759971951393,
          0.22844954856679314,
          0.2408992842511481,
          0.2523990054389962,
          0.2629218665086626,
          0.2724417689740601,
          0.2809334338093529,
          0.2883726809073976,
          0.2947368421052633,
          0.299774894821067,
          0.3038057296403539,
          0.3068166586026904,
          0.3087983079579569,
          0.30974516395631885,
          0.3096560677950574,
          0.3085346358691328,
          0.30638957477313455,
          0.3032348659680218,
          0.29908980216961123,
          0.29397886693505004,
          0.28793145972464795,
          0.28098147969880427,
          0.27316679138290156,
          0.2645286029654511,
          0.2551107926302155,
          0.24495921970910725,
          0.23412105584718723,
          0.22264416750803648,
          0.21057657609316607
         ],
         "yaxis": "y"
        },
        {
         "hoverinfo": "text",
         "legendgroup": "Original mean",
         "marker": {
          "color": "hsl(269.0, 43.0%, 42.0%)",
          "size": 9,
          "symbol": "x"
         },
         "mode": "markers",
         "name": "Original mean",
         "showlegend": false,
         "text": [
          "Dataset mean"
         ],
         "type": "scatter",
         "x": [
          5.881578947368421
         ],
         "xaxis": "x",
         "y": [
          0.2947368421052633
         ],
         "yaxis": "y"
        },
        {
         "hoverinfo": "x+y",
         "marker": {
          "color": "hsl(269.0, 43.0%, 42.0%)"
         },
         "mode": "lines+markers",
         "showlegend": false,
         "type": "scatter",
         "x": [
          4.6850000000000005,
          4.744828947368422,
          4.804657894736843,
          4.864486842105263,
          4.924315789473685,
          4.984144736842106,
          5.043973684210527,
          5.103802631578947,
          5.163631578947369,
          5.22346052631579,
          5.283289473684211,
          5.3431184210526315,
          5.402947368421053,
          5.462776315789474,
          5.522605263157895,
          5.582434210526316,
          5.642263157894737,
          5.702092105263159,
          5.761921052631579,
          5.82175,
          5.881578947368421,
          5.9385,
          5.995421052631579,
          6.052342105263158,
          6.109263157894737,
          6.166184210526316,
          6.223105263157895,
          6.280026315789474,
          6.336947368421052,
          6.393868421052631,
          6.45078947368421,
          6.5077105263157895,
          6.564631578947369,
          6.621552631578947,
          6.678473684210526,
          6.735394736842105,
          6.792315789473684,
          6.849236842105263,
          6.906157894736841,
          6.9630789473684205,
          7.02
         ],
         "xaxis": "x2",
         "y": [
          0.001548568300679637,
          0.004619037770076819,
          0.009977120599241081,
          0.01754747965913435,
          0.02705589268776951,
          0.03821727136749578,
          0.050789510681402826,
          0.06457925404846075,
          0.0794325093126724,
          0.09522596588324553,
          0.11185932286105091,
          0.12924948597142993,
          0.1473263230702218,
          0.16602910500074466,
          0.18530472412497098,
          0.20510526401330825,
          0.22538679643797996,
          0.2461082359693208,
          0.26723044567104465,
          0.28871554648323955,
          0.31052631578947376,
          0.3315456590814251,
          0.35279463926224197,
          0.37424138669070767,
          0.39585383766544907,
          0.41759978785870655,
          0.4394469892170173,
          0.4613633165442789,
          0.4833169878111652,
          0.5052768240478739,
          0.527212532049469,
          0.5490949914488593,
          0.5708965273644281,
          0.5925911509760869,
          0.6141547529446397,
          0.6355652382447166,
          0.6568025952305809,
          0.6778488960116273,
          0.6986882289086862,
          0.7193065663920306,
          0.739691572979596
         ],
         "yaxis": "y2"
        },
        {
         "hoverinfo": "text",
         "legendgroup": "Original mean",
         "marker": {
          "color": "hsl(269.0, 43.0%, 42.0%)",
          "size": 9,
          "symbol": "x"
         },
         "mode": "markers",
         "name": "Original mean",
         "showlegend": false,
         "text": [
          "Dataset mean"
         ],
         "type": "scatter",
         "x": [
          5.881578947368421
         ],
         "xaxis": "x2",
         "y": [
          0.31052631578947376
         ],
         "yaxis": "y2"
        }
       ],
       "layout": {
        "plot_bgcolor": "white",
        "template": {
         "data": {
          "bar": [
           {
            "error_x": {
             "color": "#2a3f5f"
            },
            "error_y": {
             "color": "#2a3f5f"
            },
            "marker": {
             "line": {
              "color": "#E5ECF6",
              "width": 0.5
             }
            },
            "type": "bar"
           }
          ],
          "barpolar": [
           {
            "marker": {
             "line": {
              "color": "#E5ECF6",
              "width": 0.5
             }
            },
            "type": "barpolar"
           }
          ],
          "carpet": [
           {
            "aaxis": {
             "endlinecolor": "#2a3f5f",
             "gridcolor": "white",
             "linecolor": "white",
             "minorgridcolor": "white",
             "startlinecolor": "#2a3f5f"
            },
            "baxis": {
             "endlinecolor": "#2a3f5f",
             "gridcolor": "white",
             "linecolor": "white",
             "minorgridcolor": "white",
             "startlinecolor": "#2a3f5f"
            },
            "type": "carpet"
           }
          ],
          "choropleth": [
           {
            "colorbar": {
             "outlinewidth": 0,
             "ticks": ""
            },
            "type": "choropleth"
           }
          ],
          "contour": [
           {
            "colorbar": {
             "outlinewidth": 0,
             "ticks": ""
            },
            "colorscale": [
             [
              0,
              "#0d0887"
             ],
             [
              0.1111111111111111,
              "#46039f"
             ],
             [
              0.2222222222222222,
              "#7201a8"
             ],
             [
              0.3333333333333333,
              "#9c179e"
             ],
             [
              0.4444444444444444,
              "#bd3786"
             ],
             [
              0.5555555555555556,
              "#d8576b"
             ],
             [
              0.6666666666666666,
              "#ed7953"
             ],
             [
              0.7777777777777778,
              "#fb9f3a"
             ],
             [
              0.8888888888888888,
              "#fdca26"
             ],
             [
              1,
              "#f0f921"
             ]
            ],
            "type": "contour"
           }
          ],
          "contourcarpet": [
           {
            "colorbar": {
             "outlinewidth": 0,
             "ticks": ""
            },
            "type": "contourcarpet"
           }
          ],
          "heatmap": [
           {
            "colorbar": {
             "outlinewidth": 0,
             "ticks": ""
            },
            "colorscale": [
             [
              0,
              "#0d0887"
             ],
             [
              0.1111111111111111,
              "#46039f"
             ],
             [
              0.2222222222222222,
              "#7201a8"
             ],
             [
              0.3333333333333333,
              "#9c179e"
             ],
             [
              0.4444444444444444,
              "#bd3786"
             ],
             [
              0.5555555555555556,
              "#d8576b"
             ],
             [
              0.6666666666666666,
              "#ed7953"
             ],
             [
              0.7777777777777778,
              "#fb9f3a"
             ],
             [
              0.8888888888888888,
              "#fdca26"
             ],
             [
              1,
              "#f0f921"
             ]
            ],
            "type": "heatmap"
           }
          ],
          "heatmapgl": [
           {
            "colorbar": {
             "outlinewidth": 0,
             "ticks": ""
            },
            "colorscale": [
             [
              0,
              "#0d0887"
             ],
             [
              0.1111111111111111,
              "#46039f"
             ],
             [
              0.2222222222222222,
              "#7201a8"
             ],
             [
              0.3333333333333333,
              "#9c179e"
             ],
             [
              0.4444444444444444,
              "#bd3786"
             ],
             [
              0.5555555555555556,
              "#d8576b"
             ],
             [
              0.6666666666666666,
              "#ed7953"
             ],
             [
              0.7777777777777778,
              "#fb9f3a"
             ],
             [
              0.8888888888888888,
              "#fdca26"
             ],
             [
              1,
              "#f0f921"
             ]
            ],
            "type": "heatmapgl"
           }
          ],
          "histogram": [
           {
            "marker": {
             "colorbar": {
              "outlinewidth": 0,
              "ticks": ""
             }
            },
            "type": "histogram"
           }
          ],
          "histogram2d": [
           {
            "colorbar": {
             "outlinewidth": 0,
             "ticks": ""
            },
            "colorscale": [
             [
              0,
              "#0d0887"
             ],
             [
              0.1111111111111111,
              "#46039f"
             ],
             [
              0.2222222222222222,
              "#7201a8"
             ],
             [
              0.3333333333333333,
              "#9c179e"
             ],
             [
              0.4444444444444444,
              "#bd3786"
             ],
             [
              0.5555555555555556,
              "#d8576b"
             ],
             [
              0.6666666666666666,
              "#ed7953"
             ],
             [
              0.7777777777777778,
              "#fb9f3a"
             ],
             [
              0.8888888888888888,
              "#fdca26"
             ],
             [
              1,
              "#f0f921"
             ]
            ],
            "type": "histogram2d"
           }
          ],
          "histogram2dcontour": [
           {
            "colorbar": {
             "outlinewidth": 0,
             "ticks": ""
            },
            "colorscale": [
             [
              0,
              "#0d0887"
             ],
             [
              0.1111111111111111,
              "#46039f"
             ],
             [
              0.2222222222222222,
              "#7201a8"
             ],
             [
              0.3333333333333333,
              "#9c179e"
             ],
             [
              0.4444444444444444,
              "#bd3786"
             ],
             [
              0.5555555555555556,
              "#d8576b"
             ],
             [
              0.6666666666666666,
              "#ed7953"
             ],
             [
              0.7777777777777778,
              "#fb9f3a"
             ],
             [
              0.8888888888888888,
              "#fdca26"
             ],
             [
              1,
              "#f0f921"
             ]
            ],
            "type": "histogram2dcontour"
           }
          ],
          "mesh3d": [
           {
            "colorbar": {
             "outlinewidth": 0,
             "ticks": ""
            },
            "type": "mesh3d"
           }
          ],
          "parcoords": [
           {
            "line": {
             "colorbar": {
              "outlinewidth": 0,
              "ticks": ""
             }
            },
            "type": "parcoords"
           }
          ],
          "scatter": [
           {
            "marker": {
             "colorbar": {
              "outlinewidth": 0,
              "ticks": ""
             }
            },
            "type": "scatter"
           }
          ],
          "scatter3d": [
           {
            "line": {
             "colorbar": {
              "outlinewidth": 0,
              "ticks": ""
             }
            },
            "marker": {
             "colorbar": {
              "outlinewidth": 0,
              "ticks": ""
             }
            },
            "type": "scatter3d"
           }
          ],
          "scattercarpet": [
           {
            "marker": {
             "colorbar": {
              "outlinewidth": 0,
              "ticks": ""
             }
            },
            "type": "scattercarpet"
           }
          ],
          "scattergeo": [
           {
            "marker": {
             "colorbar": {
              "outlinewidth": 0,
              "ticks": ""
             }
            },
            "type": "scattergeo"
           }
          ],
          "scattergl": [
           {
            "marker": {
             "colorbar": {
              "outlinewidth": 0,
              "ticks": ""
             }
            },
            "type": "scattergl"
           }
          ],
          "scattermapbox": [
           {
            "marker": {
             "colorbar": {
              "outlinewidth": 0,
              "ticks": ""
             }
            },
            "type": "scattermapbox"
           }
          ],
          "scatterpolar": [
           {
            "marker": {
             "colorbar": {
              "outlinewidth": 0,
              "ticks": ""
             }
            },
            "type": "scatterpolar"
           }
          ],
          "scatterpolargl": [
           {
            "marker": {
             "colorbar": {
              "outlinewidth": 0,
              "ticks": ""
             }
            },
            "type": "scatterpolargl"
           }
          ],
          "scatterternary": [
           {
            "marker": {
             "colorbar": {
              "outlinewidth": 0,
              "ticks": ""
             }
            },
            "type": "scatterternary"
           }
          ],
          "surface": [
           {
            "colorbar": {
             "outlinewidth": 0,
             "ticks": ""
            },
            "colorscale": [
             [
              0,
              "#0d0887"
             ],
             [
              0.1111111111111111,
              "#46039f"
             ],
             [
              0.2222222222222222,
              "#7201a8"
             ],
             [
              0.3333333333333333,
              "#9c179e"
             ],
             [
              0.4444444444444444,
              "#bd3786"
             ],
             [
              0.5555555555555556,
              "#d8576b"
             ],
             [
              0.6666666666666666,
              "#ed7953"
             ],
             [
              0.7777777777777778,
              "#fb9f3a"
             ],
             [
              0.8888888888888888,
              "#fdca26"
             ],
             [
              1,
              "#f0f921"
             ]
            ],
            "type": "surface"
           }
          ],
          "table": [
           {
            "cells": {
             "fill": {
              "color": "#EBF0F8"
             },
             "line": {
              "color": "white"
             }
            },
            "header": {
             "fill": {
              "color": "#C8D4E3"
             },
             "line": {
              "color": "white"
             }
            },
            "type": "table"
           }
          ]
         },
         "layout": {
          "annotationdefaults": {
           "arrowcolor": "#2a3f5f",
           "arrowhead": 0,
           "arrowwidth": 1
          },
          "colorscale": {
           "diverging": [
            [
             0,
             "#8e0152"
            ],
            [
             0.1,
             "#c51b7d"
            ],
            [
             0.2,
             "#de77ae"
            ],
            [
             0.3,
             "#f1b6da"
            ],
            [
             0.4,
             "#fde0ef"
            ],
            [
             0.5,
             "#f7f7f7"
            ],
            [
             0.6,
             "#e6f5d0"
            ],
            [
             0.7,
             "#b8e186"
            ],
            [
             0.8,
             "#7fbc41"
            ],
            [
             0.9,
             "#4d9221"
            ],
            [
             1,
             "#276419"
            ]
           ],
           "sequential": [
            [
             0,
             "#0d0887"
            ],
            [
             0.1111111111111111,
             "#46039f"
            ],
            [
             0.2222222222222222,
             "#7201a8"
            ],
            [
             0.3333333333333333,
             "#9c179e"
            ],
            [
             0.4444444444444444,
             "#bd3786"
            ],
            [
             0.5555555555555556,
             "#d8576b"
            ],
            [
             0.6666666666666666,
             "#ed7953"
            ],
            [
             0.7777777777777778,
             "#fb9f3a"
            ],
            [
             0.8888888888888888,
             "#fdca26"
            ],
            [
             1,
             "#f0f921"
            ]
           ],
           "sequentialminus": [
            [
             0,
             "#0d0887"
            ],
            [
             0.1111111111111111,
             "#46039f"
            ],
            [
             0.2222222222222222,
             "#7201a8"
            ],
            [
             0.3333333333333333,
             "#9c179e"
            ],
            [
             0.4444444444444444,
             "#bd3786"
            ],
            [
             0.5555555555555556,
             "#d8576b"
            ],
            [
             0.6666666666666666,
             "#ed7953"
            ],
            [
             0.7777777777777778,
             "#fb9f3a"
            ],
            [
             0.8888888888888888,
             "#fdca26"
            ],
            [
             1,
             "#f0f921"
            ]
           ]
          },
          "colorway": [
           "#636efa",
           "#EF553B",
           "#00cc96",
           "#ab63fa",
           "#FFA15A",
           "#19d3f3",
           "#FF6692",
           "#B6E880",
           "#FF97FF",
           "#FECB52"
          ],
          "font": {
           "color": "#2a3f5f"
          },
          "geo": {
           "bgcolor": "white",
           "lakecolor": "white",
           "landcolor": "#E5ECF6",
           "showlakes": true,
           "showland": true,
           "subunitcolor": "white"
          },
          "hoverlabel": {
           "align": "left"
          },
          "hovermode": "closest",
          "mapbox": {
           "style": "light"
          },
          "paper_bgcolor": "white",
          "plot_bgcolor": "#E5ECF6",
          "polar": {
           "angularaxis": {
            "gridcolor": "white",
            "linecolor": "white",
            "ticks": ""
           },
           "bgcolor": "#E5ECF6",
           "radialaxis": {
            "gridcolor": "white",
            "linecolor": "white",
            "ticks": ""
           }
          },
          "scene": {
           "xaxis": {
            "backgroundcolor": "#E5ECF6",
            "gridcolor": "white",
            "gridwidth": 2,
            "linecolor": "white",
            "showbackground": true,
            "ticks": "",
            "zerolinecolor": "white"
           },
           "yaxis": {
            "backgroundcolor": "#E5ECF6",
            "gridcolor": "white",
            "gridwidth": 2,
            "linecolor": "white",
            "showbackground": true,
            "ticks": "",
            "zerolinecolor": "white"
           },
           "zaxis": {
            "backgroundcolor": "#E5ECF6",
            "gridcolor": "white",
            "gridwidth": 2,
            "linecolor": "white",
            "showbackground": true,
            "ticks": "",
            "zerolinecolor": "white"
           }
          },
          "shapedefaults": {
           "line": {
            "color": "#2a3f5f"
           }
          },
          "ternary": {
           "aaxis": {
            "gridcolor": "white",
            "linecolor": "white",
            "ticks": ""
           },
           "baxis": {
            "gridcolor": "white",
            "linecolor": "white",
            "ticks": ""
           },
           "bgcolor": "#E5ECF6",
           "caxis": {
            "gridcolor": "white",
            "linecolor": "white",
            "ticks": ""
           }
          },
          "title": {
           "x": 0.05
          },
          "xaxis": {
           "automargin": true,
           "gridcolor": "white",
           "linecolor": "white",
           "ticks": "",
           "zerolinecolor": "white",
           "zerolinewidth": 2
          },
          "yaxis": {
           "automargin": true,
           "gridcolor": "white",
           "linecolor": "white",
           "ticks": "",
           "zerolinecolor": "white",
           "zerolinewidth": 2
          }
         }
        },
        "xaxis": {
         "anchor": "y",
         "domain": [
          0,
          1
         ],
         "gridcolor": "#eee",
         "linecolor": "black",
         "matches": "x2",
         "nticks": 5,
         "showgrid": true,
         "showline": true,
         "showticklabels": false,
         "zeroline": false
        },
        "xaxis2": {
         "anchor": "y2",
         "domain": [
          0,
          1
         ],
         "gridcolor": "#eee",
         "linecolor": "black",
         "nticks": 5,
         "showgrid": true,
         "showline": true,
         "title": {
          "text": "Average sepal length (cm)"
         },
         "zeroline": false
        },
        "yaxis": {
         "anchor": "x",
         "domain": [
          0.575,
          1
         ],
         "gridcolor": "#eee",
         "linecolor": "black",
         "range": [
          0,
          1
         ],
         "showgrid": true,
         "showline": true,
         "title": {
          "text": "Average versicolor"
         }
        },
        "yaxis2": {
         "anchor": "x2",
         "domain": [
          0,
          0.425
         ],
         "gridcolor": "#eee",
         "linecolor": "black",
         "range": [
          0,
          1
         ],
         "showgrid": true,
         "showline": true,
         "title": {
          "text": "Average virginica"
         }
        }
       }
      },
      "text/html": [
       "<div>\n",
       "        \n",
       "        \n",
       "            <div id=\"f8c703f8-277d-41dc-bb64-39882a40710c\" class=\"plotly-graph-div\" style=\"height:525px; width:100%;\"></div>\n",
       "            <script type=\"text/javascript\">\n",
       "                require([\"plotly\"], function(Plotly) {\n",
       "                    window.PLOTLYENV=window.PLOTLYENV || {};\n",
       "                    \n",
       "                if (document.getElementById(\"f8c703f8-277d-41dc-bb64-39882a40710c\")) {\n",
       "                    Plotly.newPlot(\n",
       "                        'f8c703f8-277d-41dc-bb64-39882a40710c',\n",
       "                        [{\"hoverinfo\": \"x+y\", \"marker\": {\"color\": \"hsl(269.0, 43.0%, 42.0%)\"}, \"mode\": \"lines+markers\", \"showlegend\": false, \"type\": \"scatter\", \"x\": [4.6850000000000005, 4.744828947368422, 4.804657894736843, 4.864486842105263, 4.924315789473685, 4.984144736842106, 5.043973684210527, 5.103802631578947, 5.163631578947369, 5.22346052631579, 5.283289473684211, 5.3431184210526315, 5.402947368421053, 5.462776315789474, 5.522605263157895, 5.582434210526316, 5.642263157894737, 5.702092105263159, 5.761921052631579, 5.82175, 5.881578947368421, 5.9385, 5.995421052631579, 6.052342105263158, 6.109263157894737, 6.166184210526316, 6.223105263157895, 6.280026315789474, 6.336947368421052, 6.393868421052631, 6.45078947368421, 6.5077105263157895, 6.564631578947369, 6.621552631578947, 6.678473684210526, 6.735394736842105, 6.792315789473684, 6.849236842105263, 6.906157894736841, 6.9630789473684205, 7.02], \"xaxis\": \"x\", \"y\": [0.0131390018244816, 0.026343089795414495, 0.04286333911360634, 0.06108580870464756, 0.07995510208179088, 0.09886374844063057, 0.11746456726832166, 0.1355540369408598, 0.15300559259511165, 0.16973600340824255, 0.18568655051585278, 0.2008125810459534, 0.21507759971951393, 0.22844954856679314, 0.2408992842511481, 0.2523990054389962, 0.2629218665086626, 0.2724417689740601, 0.2809334338093529, 0.2883726809073976, 0.2947368421052633, 0.299774894821067, 0.3038057296403539, 0.3068166586026904, 0.3087983079579569, 0.30974516395631885, 0.3096560677950574, 0.3085346358691328, 0.30638957477313455, 0.3032348659680218, 0.29908980216961123, 0.29397886693505004, 0.28793145972464795, 0.28098147969880427, 0.27316679138290156, 0.2645286029654511, 0.2551107926302155, 0.24495921970910725, 0.23412105584718723, 0.22264416750803648, 0.21057657609316607], \"yaxis\": \"y\"}, {\"hoverinfo\": \"text\", \"legendgroup\": \"Original mean\", \"marker\": {\"color\": \"hsl(269.0, 43.0%, 42.0%)\", \"size\": 9, \"symbol\": \"x\"}, \"mode\": \"markers\", \"name\": \"Original mean\", \"showlegend\": false, \"text\": [\"Dataset mean\"], \"type\": \"scatter\", \"x\": [5.881578947368421], \"xaxis\": \"x\", \"y\": [0.2947368421052633], \"yaxis\": \"y\"}, {\"hoverinfo\": \"x+y\", \"marker\": {\"color\": \"hsl(269.0, 43.0%, 42.0%)\"}, \"mode\": \"lines+markers\", \"showlegend\": false, \"type\": \"scatter\", \"x\": [4.6850000000000005, 4.744828947368422, 4.804657894736843, 4.864486842105263, 4.924315789473685, 4.984144736842106, 5.043973684210527, 5.103802631578947, 5.163631578947369, 5.22346052631579, 5.283289473684211, 5.3431184210526315, 5.402947368421053, 5.462776315789474, 5.522605263157895, 5.582434210526316, 5.642263157894737, 5.702092105263159, 5.761921052631579, 5.82175, 5.881578947368421, 5.9385, 5.995421052631579, 6.052342105263158, 6.109263157894737, 6.166184210526316, 6.223105263157895, 6.280026315789474, 6.336947368421052, 6.393868421052631, 6.45078947368421, 6.5077105263157895, 6.564631578947369, 6.621552631578947, 6.678473684210526, 6.735394736842105, 6.792315789473684, 6.849236842105263, 6.906157894736841, 6.9630789473684205, 7.02], \"xaxis\": \"x2\", \"y\": [0.001548568300679637, 0.004619037770076819, 0.009977120599241081, 0.01754747965913435, 0.02705589268776951, 0.03821727136749578, 0.050789510681402826, 0.06457925404846075, 0.0794325093126724, 0.09522596588324553, 0.11185932286105091, 0.12924948597142993, 0.1473263230702218, 0.16602910500074466, 0.18530472412497098, 0.20510526401330825, 0.22538679643797996, 0.2461082359693208, 0.26723044567104465, 0.28871554648323955, 0.31052631578947376, 0.3315456590814251, 0.35279463926224197, 0.37424138669070767, 0.39585383766544907, 0.41759978785870655, 0.4394469892170173, 0.4613633165442789, 0.4833169878111652, 0.5052768240478739, 0.527212532049469, 0.5490949914488593, 0.5708965273644281, 0.5925911509760869, 0.6141547529446397, 0.6355652382447166, 0.6568025952305809, 0.6778488960116273, 0.6986882289086862, 0.7193065663920306, 0.739691572979596], \"yaxis\": \"y2\"}, {\"hoverinfo\": \"text\", \"legendgroup\": \"Original mean\", \"marker\": {\"color\": \"hsl(269.0, 43.0%, 42.0%)\", \"size\": 9, \"symbol\": \"x\"}, \"mode\": \"markers\", \"name\": \"Original mean\", \"showlegend\": false, \"text\": [\"Dataset mean\"], \"type\": \"scatter\", \"x\": [5.881578947368421], \"xaxis\": \"x2\", \"y\": [0.31052631578947376], \"yaxis\": \"y2\"}],\n",
       "                        {\"plot_bgcolor\": \"white\", \"template\": {\"data\": {\"bar\": [{\"error_x\": {\"color\": \"#2a3f5f\"}, \"error_y\": {\"color\": \"#2a3f5f\"}, \"marker\": {\"line\": {\"color\": \"#E5ECF6\", \"width\": 0.5}}, \"type\": \"bar\"}], \"barpolar\": [{\"marker\": {\"line\": {\"color\": \"#E5ECF6\", \"width\": 0.5}}, \"type\": \"barpolar\"}], \"carpet\": [{\"aaxis\": {\"endlinecolor\": \"#2a3f5f\", \"gridcolor\": \"white\", \"linecolor\": \"white\", \"minorgridcolor\": \"white\", \"startlinecolor\": \"#2a3f5f\"}, \"baxis\": {\"endlinecolor\": \"#2a3f5f\", \"gridcolor\": \"white\", \"linecolor\": \"white\", \"minorgridcolor\": \"white\", \"startlinecolor\": \"#2a3f5f\"}, \"type\": \"carpet\"}], \"choropleth\": [{\"colorbar\": {\"outlinewidth\": 0, \"ticks\": \"\"}, \"type\": \"choropleth\"}], \"contour\": [{\"colorbar\": {\"outlinewidth\": 0, \"ticks\": \"\"}, \"colorscale\": [[0.0, \"#0d0887\"], [0.1111111111111111, \"#46039f\"], [0.2222222222222222, \"#7201a8\"], [0.3333333333333333, \"#9c179e\"], [0.4444444444444444, \"#bd3786\"], [0.5555555555555556, \"#d8576b\"], [0.6666666666666666, \"#ed7953\"], [0.7777777777777778, \"#fb9f3a\"], [0.8888888888888888, \"#fdca26\"], [1.0, \"#f0f921\"]], \"type\": \"contour\"}], \"contourcarpet\": [{\"colorbar\": {\"outlinewidth\": 0, \"ticks\": \"\"}, \"type\": \"contourcarpet\"}], \"heatmap\": [{\"colorbar\": {\"outlinewidth\": 0, \"ticks\": \"\"}, \"colorscale\": [[0.0, \"#0d0887\"], [0.1111111111111111, \"#46039f\"], [0.2222222222222222, \"#7201a8\"], [0.3333333333333333, \"#9c179e\"], [0.4444444444444444, \"#bd3786\"], [0.5555555555555556, \"#d8576b\"], [0.6666666666666666, \"#ed7953\"], [0.7777777777777778, \"#fb9f3a\"], [0.8888888888888888, \"#fdca26\"], [1.0, \"#f0f921\"]], \"type\": \"heatmap\"}], \"heatmapgl\": [{\"colorbar\": {\"outlinewidth\": 0, \"ticks\": \"\"}, \"colorscale\": [[0.0, \"#0d0887\"], [0.1111111111111111, \"#46039f\"], [0.2222222222222222, \"#7201a8\"], [0.3333333333333333, \"#9c179e\"], [0.4444444444444444, \"#bd3786\"], [0.5555555555555556, \"#d8576b\"], [0.6666666666666666, \"#ed7953\"], [0.7777777777777778, \"#fb9f3a\"], [0.8888888888888888, \"#fdca26\"], [1.0, \"#f0f921\"]], \"type\": \"heatmapgl\"}], \"histogram\": [{\"marker\": {\"colorbar\": {\"outlinewidth\": 0, \"ticks\": \"\"}}, \"type\": \"histogram\"}], \"histogram2d\": [{\"colorbar\": {\"outlinewidth\": 0, \"ticks\": \"\"}, \"colorscale\": [[0.0, \"#0d0887\"], [0.1111111111111111, \"#46039f\"], [0.2222222222222222, \"#7201a8\"], [0.3333333333333333, \"#9c179e\"], [0.4444444444444444, \"#bd3786\"], [0.5555555555555556, \"#d8576b\"], [0.6666666666666666, \"#ed7953\"], [0.7777777777777778, \"#fb9f3a\"], [0.8888888888888888, \"#fdca26\"], [1.0, \"#f0f921\"]], \"type\": \"histogram2d\"}], \"histogram2dcontour\": [{\"colorbar\": {\"outlinewidth\": 0, \"ticks\": \"\"}, \"colorscale\": [[0.0, \"#0d0887\"], [0.1111111111111111, \"#46039f\"], [0.2222222222222222, \"#7201a8\"], [0.3333333333333333, \"#9c179e\"], [0.4444444444444444, \"#bd3786\"], [0.5555555555555556, \"#d8576b\"], [0.6666666666666666, \"#ed7953\"], [0.7777777777777778, \"#fb9f3a\"], [0.8888888888888888, \"#fdca26\"], [1.0, \"#f0f921\"]], \"type\": \"histogram2dcontour\"}], \"mesh3d\": [{\"colorbar\": {\"outlinewidth\": 0, \"ticks\": \"\"}, \"type\": \"mesh3d\"}], \"parcoords\": [{\"line\": {\"colorbar\": {\"outlinewidth\": 0, \"ticks\": \"\"}}, \"type\": \"parcoords\"}], \"scatter\": [{\"marker\": {\"colorbar\": {\"outlinewidth\": 0, \"ticks\": \"\"}}, \"type\": \"scatter\"}], \"scatter3d\": [{\"line\": {\"colorbar\": {\"outlinewidth\": 0, \"ticks\": \"\"}}, \"marker\": {\"colorbar\": {\"outlinewidth\": 0, \"ticks\": \"\"}}, \"type\": \"scatter3d\"}], \"scattercarpet\": [{\"marker\": {\"colorbar\": {\"outlinewidth\": 0, \"ticks\": \"\"}}, \"type\": \"scattercarpet\"}], \"scattergeo\": [{\"marker\": {\"colorbar\": {\"outlinewidth\": 0, \"ticks\": \"\"}}, \"type\": \"scattergeo\"}], \"scattergl\": [{\"marker\": {\"colorbar\": {\"outlinewidth\": 0, \"ticks\": \"\"}}, \"type\": \"scattergl\"}], \"scattermapbox\": [{\"marker\": {\"colorbar\": {\"outlinewidth\": 0, \"ticks\": \"\"}}, \"type\": \"scattermapbox\"}], \"scatterpolar\": [{\"marker\": {\"colorbar\": {\"outlinewidth\": 0, \"ticks\": \"\"}}, \"type\": \"scatterpolar\"}], \"scatterpolargl\": [{\"marker\": {\"colorbar\": {\"outlinewidth\": 0, \"ticks\": \"\"}}, \"type\": \"scatterpolargl\"}], \"scatterternary\": [{\"marker\": {\"colorbar\": {\"outlinewidth\": 0, \"ticks\": \"\"}}, \"type\": \"scatterternary\"}], \"surface\": [{\"colorbar\": {\"outlinewidth\": 0, \"ticks\": \"\"}, \"colorscale\": [[0.0, \"#0d0887\"], [0.1111111111111111, \"#46039f\"], [0.2222222222222222, \"#7201a8\"], [0.3333333333333333, \"#9c179e\"], [0.4444444444444444, \"#bd3786\"], [0.5555555555555556, \"#d8576b\"], [0.6666666666666666, \"#ed7953\"], [0.7777777777777778, \"#fb9f3a\"], [0.8888888888888888, \"#fdca26\"], [1.0, \"#f0f921\"]], \"type\": \"surface\"}], \"table\": [{\"cells\": {\"fill\": {\"color\": \"#EBF0F8\"}, \"line\": {\"color\": \"white\"}}, \"header\": {\"fill\": {\"color\": \"#C8D4E3\"}, \"line\": {\"color\": \"white\"}}, \"type\": \"table\"}]}, \"layout\": {\"annotationdefaults\": {\"arrowcolor\": \"#2a3f5f\", \"arrowhead\": 0, \"arrowwidth\": 1}, \"colorscale\": {\"diverging\": [[0, \"#8e0152\"], [0.1, \"#c51b7d\"], [0.2, \"#de77ae\"], [0.3, \"#f1b6da\"], [0.4, \"#fde0ef\"], [0.5, \"#f7f7f7\"], [0.6, \"#e6f5d0\"], [0.7, \"#b8e186\"], [0.8, \"#7fbc41\"], [0.9, \"#4d9221\"], [1, \"#276419\"]], \"sequential\": [[0.0, \"#0d0887\"], [0.1111111111111111, \"#46039f\"], [0.2222222222222222, \"#7201a8\"], [0.3333333333333333, \"#9c179e\"], [0.4444444444444444, \"#bd3786\"], [0.5555555555555556, \"#d8576b\"], [0.6666666666666666, \"#ed7953\"], [0.7777777777777778, \"#fb9f3a\"], [0.8888888888888888, \"#fdca26\"], [1.0, \"#f0f921\"]], \"sequentialminus\": [[0.0, \"#0d0887\"], [0.1111111111111111, \"#46039f\"], [0.2222222222222222, \"#7201a8\"], [0.3333333333333333, \"#9c179e\"], [0.4444444444444444, \"#bd3786\"], [0.5555555555555556, \"#d8576b\"], [0.6666666666666666, \"#ed7953\"], [0.7777777777777778, \"#fb9f3a\"], [0.8888888888888888, \"#fdca26\"], [1.0, \"#f0f921\"]]}, \"colorway\": [\"#636efa\", \"#EF553B\", \"#00cc96\", \"#ab63fa\", \"#FFA15A\", \"#19d3f3\", \"#FF6692\", \"#B6E880\", \"#FF97FF\", \"#FECB52\"], \"font\": {\"color\": \"#2a3f5f\"}, \"geo\": {\"bgcolor\": \"white\", \"lakecolor\": \"white\", \"landcolor\": \"#E5ECF6\", \"showlakes\": true, \"showland\": true, \"subunitcolor\": \"white\"}, \"hoverlabel\": {\"align\": \"left\"}, \"hovermode\": \"closest\", \"mapbox\": {\"style\": \"light\"}, \"paper_bgcolor\": \"white\", \"plot_bgcolor\": \"#E5ECF6\", \"polar\": {\"angularaxis\": {\"gridcolor\": \"white\", \"linecolor\": \"white\", \"ticks\": \"\"}, \"bgcolor\": \"#E5ECF6\", \"radialaxis\": {\"gridcolor\": \"white\", \"linecolor\": \"white\", \"ticks\": \"\"}}, \"scene\": {\"xaxis\": {\"backgroundcolor\": \"#E5ECF6\", \"gridcolor\": \"white\", \"gridwidth\": 2, \"linecolor\": \"white\", \"showbackground\": true, \"ticks\": \"\", \"zerolinecolor\": \"white\"}, \"yaxis\": {\"backgroundcolor\": \"#E5ECF6\", \"gridcolor\": \"white\", \"gridwidth\": 2, \"linecolor\": \"white\", \"showbackground\": true, \"ticks\": \"\", \"zerolinecolor\": \"white\"}, \"zaxis\": {\"backgroundcolor\": \"#E5ECF6\", \"gridcolor\": \"white\", \"gridwidth\": 2, \"linecolor\": \"white\", \"showbackground\": true, \"ticks\": \"\", \"zerolinecolor\": \"white\"}}, \"shapedefaults\": {\"line\": {\"color\": \"#2a3f5f\"}}, \"ternary\": {\"aaxis\": {\"gridcolor\": \"white\", \"linecolor\": \"white\", \"ticks\": \"\"}, \"baxis\": {\"gridcolor\": \"white\", \"linecolor\": \"white\", \"ticks\": \"\"}, \"bgcolor\": \"#E5ECF6\", \"caxis\": {\"gridcolor\": \"white\", \"linecolor\": \"white\", \"ticks\": \"\"}}, \"title\": {\"x\": 0.05}, \"xaxis\": {\"automargin\": true, \"gridcolor\": \"white\", \"linecolor\": \"white\", \"ticks\": \"\", \"zerolinecolor\": \"white\", \"zerolinewidth\": 2}, \"yaxis\": {\"automargin\": true, \"gridcolor\": \"white\", \"linecolor\": \"white\", \"ticks\": \"\", \"zerolinecolor\": \"white\", \"zerolinewidth\": 2}}}, \"xaxis\": {\"anchor\": \"y\", \"domain\": [0.0, 1.0], \"gridcolor\": \"#eee\", \"linecolor\": \"black\", \"matches\": \"x2\", \"nticks\": 5, \"showgrid\": true, \"showline\": true, \"showticklabels\": false, \"zeroline\": false}, \"xaxis2\": {\"anchor\": \"y2\", \"domain\": [0.0, 1.0], \"gridcolor\": \"#eee\", \"linecolor\": \"black\", \"nticks\": 5, \"showgrid\": true, \"showline\": true, \"title\": {\"text\": \"Average sepal length (cm)\"}, \"zeroline\": false}, \"yaxis\": {\"anchor\": \"x\", \"domain\": [0.575, 1.0], \"gridcolor\": \"#eee\", \"linecolor\": \"black\", \"range\": [0, 1], \"showgrid\": true, \"showline\": true, \"title\": {\"text\": \"Average versicolor\"}}, \"yaxis2\": {\"anchor\": \"x2\", \"domain\": [0.0, 0.425], \"gridcolor\": \"#eee\", \"linecolor\": \"black\", \"range\": [0, 1], \"showgrid\": true, \"showline\": true, \"title\": {\"text\": \"Average virginica\"}}},\n",
       "                        {\"responsive\": true}\n",
       "                    ).then(function(){\n",
       "                            \n",
       "var gd = document.getElementById('f8c703f8-277d-41dc-bb64-39882a40710c');\n",
       "var x = new MutationObserver(function (mutations, observer) {{\n",
       "        var display = window.getComputedStyle(gd).display;\n",
       "        if (!display || display === 'none') {{\n",
       "            console.log([gd, 'removed!']);\n",
       "            Plotly.purge(gd);\n",
       "            observer.disconnect();\n",
       "        }}\n",
       "}});\n",
       "\n",
       "// Listen for the removal of the full notebook cells\n",
       "var notebookContainer = gd.closest('#notebook-container');\n",
       "if (notebookContainer) {{\n",
       "    x.observe(notebookContainer, {childList: true});\n",
       "}}\n",
       "\n",
       "// Listen for the clearing of the current output cell\n",
       "var outputEl = gd.closest('.output');\n",
       "if (outputEl) {{\n",
       "    x.observe(outputEl, {childList: true});\n",
       "}}\n",
       "\n",
       "                        })\n",
       "                };\n",
       "                });\n",
       "            </script>\n",
       "        </div>"
      ]
     },
     "metadata": {},
     "output_type": "display_data"
    }
   ],
   "source": [
    "explainer.plot_bias(\n",
    "    X_test=X_test['sepal length (cm)'],\n",
    "    y_pred=y_pred[['versicolor', 'virginica']]\n",
    ")"
   ]
  },
  {
   "cell_type": "markdown",
   "metadata": {},
   "source": [
    "Two variables, two classes."
   ]
  },
  {
   "cell_type": "code",
   "execution_count": 9,
   "metadata": {
    "scrolled": false
   },
   "outputs": [
    {
     "name": "stderr",
     "output_type": "stream",
     "text": [
      "82it [00:00, 1144.18it/s]\n",
      "82it [00:00, 1182.72it/s]\n"
     ]
    },
    {
     "data": {
      "application/vnd.plotly.v1+json": {
       "config": {
        "plotlyServerURL": "https://plot.ly"
       },
       "data": [
        {
         "customdata": [
          [
           -1,
           4.6850000000000005
          ],
          [
           -0.95,
           4.744828947368422
          ],
          [
           -0.9,
           4.804657894736843
          ],
          [
           -0.85,
           4.864486842105263
          ],
          [
           -0.8,
           4.924315789473685
          ],
          [
           -0.75,
           4.984144736842106
          ],
          [
           -0.7,
           5.043973684210527
          ],
          [
           -0.65,
           5.103802631578947
          ],
          [
           -0.6,
           5.163631578947369
          ],
          [
           -0.55,
           5.22346052631579
          ],
          [
           -0.5,
           5.283289473684211
          ],
          [
           -0.45,
           5.3431184210526315
          ],
          [
           -0.4,
           5.402947368421053
          ],
          [
           -0.35,
           5.462776315789474
          ],
          [
           -0.3,
           5.522605263157895
          ],
          [
           -0.25,
           5.582434210526316
          ],
          [
           -0.2,
           5.642263157894737
          ],
          [
           -0.15,
           5.702092105263159
          ],
          [
           -0.1,
           5.761921052631579
          ],
          [
           -0.05,
           5.82175
          ],
          [
           0,
           5.881578947368421
          ],
          [
           0.05,
           5.9385
          ],
          [
           0.1,
           5.995421052631579
          ],
          [
           0.15,
           6.052342105263158
          ],
          [
           0.2,
           6.109263157894737
          ],
          [
           0.25,
           6.166184210526316
          ],
          [
           0.3,
           6.223105263157895
          ],
          [
           0.35,
           6.280026315789474
          ],
          [
           0.4,
           6.336947368421052
          ],
          [
           0.45,
           6.393868421052631
          ],
          [
           0.5,
           6.45078947368421
          ],
          [
           0.55,
           6.5077105263157895
          ],
          [
           0.6,
           6.564631578947369
          ],
          [
           0.65,
           6.621552631578947
          ],
          [
           0.7,
           6.678473684210526
          ],
          [
           0.75,
           6.735394736842105
          ],
          [
           0.8,
           6.792315789473684
          ],
          [
           0.85,
           6.849236842105263
          ],
          [
           0.9,
           6.906157894736841
          ],
          [
           0.95,
           6.9630789473684205
          ],
          [
           1,
           7.02
          ]
         ],
         "hoverinfo": "y",
         "legendgroup": "sepal length (cm)",
         "marker": {
          "color": "hsl(359.5, 85.5%, 64.0%)"
         },
         "mode": "lines+markers",
         "name": "sepal length (cm)",
         "type": "scatter",
         "x": [
          -1,
          -0.95,
          -0.9,
          -0.85,
          -0.8,
          -0.75,
          -0.7,
          -0.65,
          -0.6,
          -0.55,
          -0.5,
          -0.45,
          -0.4,
          -0.35,
          -0.3,
          -0.25,
          -0.2,
          -0.15,
          -0.1,
          -0.05,
          0,
          0.05,
          0.1,
          0.15,
          0.2,
          0.25,
          0.3,
          0.35,
          0.4,
          0.45,
          0.5,
          0.55,
          0.6,
          0.65,
          0.7,
          0.75,
          0.8,
          0.85,
          0.9,
          0.95,
          1
         ],
         "xaxis": "x",
         "y": [
          0.0131390018244816,
          0.026343089795414495,
          0.04286333911360634,
          0.06108580870464756,
          0.07995510208179088,
          0.09886374844063057,
          0.11746456726832166,
          0.1355540369408598,
          0.15300559259511165,
          0.16973600340824255,
          0.18568655051585278,
          0.2008125810459534,
          0.21507759971951393,
          0.22844954856679314,
          0.2408992842511481,
          0.2523990054389962,
          0.2629218665086626,
          0.2724417689740601,
          0.2809334338093529,
          0.2883726809073976,
          0.2947368421052633,
          0.299774894821067,
          0.3038057296403539,
          0.3068166586026904,
          0.3087983079579569,
          0.30974516395631885,
          0.3096560677950574,
          0.3085346358691328,
          0.30638957477313455,
          0.3032348659680218,
          0.29908980216961123,
          0.29397886693505004,
          0.28793145972464795,
          0.28098147969880427,
          0.27316679138290156,
          0.2645286029654511,
          0.2551107926302155,
          0.24495921970910725,
          0.23412105584718723,
          0.22264416750803648,
          0.21057657609316607
         ],
         "yaxis": "y"
        },
        {
         "customdata": [
          [
           -1,
           2.5
          ],
          [
           -0.95,
           2.5303947368421054
          ],
          [
           -0.9,
           2.5607894736842107
          ],
          [
           -0.85,
           2.5911842105263156
          ],
          [
           -0.8,
           2.621578947368421
          ],
          [
           -0.75,
           2.6519736842105264
          ],
          [
           -0.7,
           2.6823684210526313
          ],
          [
           -0.65,
           2.7127631578947367
          ],
          [
           -0.6,
           2.743157894736842
          ],
          [
           -0.55,
           2.7735526315789474
          ],
          [
           -0.5,
           2.8039473684210527
          ],
          [
           -0.45,
           2.8343421052631577
          ],
          [
           -0.4,
           2.864736842105263
          ],
          [
           -0.35,
           2.8951315789473684
          ],
          [
           -0.3,
           2.9255263157894733
          ],
          [
           -0.25,
           2.9559210526315787
          ],
          [
           -0.2,
           2.986315789473684
          ],
          [
           -0.15,
           3.0167105263157894
          ],
          [
           -0.1,
           3.0471052631578948
          ],
          [
           -0.05,
           3.0774999999999997
          ],
          [
           0,
           3.107894736842105
          ],
          [
           0.05,
           3.1424999999999996
          ],
          [
           0.1,
           3.1771052631578947
          ],
          [
           0.15,
           3.2117105263157892
          ],
          [
           0.2,
           3.246315789473684
          ],
          [
           0.25,
           3.280921052631579
          ],
          [
           0.3,
           3.3155263157894734
          ],
          [
           0.35,
           3.350131578947368
          ],
          [
           0.4,
           3.384736842105263
          ],
          [
           0.45,
           3.4193421052631576
          ],
          [
           0.5,
           3.453947368421052
          ],
          [
           0.55,
           3.4885526315789472
          ],
          [
           0.6,
           3.523157894736842
          ],
          [
           0.65,
           3.557763157894737
          ],
          [
           0.7,
           3.5923684210526314
          ],
          [
           0.75,
           3.626973684210526
          ],
          [
           0.8,
           3.661578947368421
          ],
          [
           0.85,
           3.6961842105263156
          ],
          [
           0.9,
           3.73078947368421
          ],
          [
           0.95,
           3.7653947368421052
          ],
          [
           1,
           3.8
          ]
         ],
         "hoverinfo": "y",
         "legendgroup": "sepal width (cm)",
         "marker": {
          "color": "hsl(269.0, 43.0%, 42.0%)"
         },
         "mode": "lines+markers",
         "name": "sepal width (cm)",
         "type": "scatter",
         "x": [
          -1,
          -0.95,
          -0.9,
          -0.85,
          -0.8,
          -0.75,
          -0.7,
          -0.65,
          -0.6,
          -0.55,
          -0.5,
          -0.45,
          -0.4,
          -0.35,
          -0.3,
          -0.25,
          -0.2,
          -0.15,
          -0.1,
          -0.05,
          0,
          0.05,
          0.1,
          0.15,
          0.2,
          0.25,
          0.3,
          0.35,
          0.4,
          0.45,
          0.5,
          0.55,
          0.6,
          0.65,
          0.7,
          0.75,
          0.8,
          0.85,
          0.9,
          0.95,
          1
         ],
         "xaxis": "x",
         "y": [
          0.6009855731854391,
          0.5850323243502041,
          0.5692917664792726,
          0.5536979411740119,
          0.5381962784722606,
          0.5227424016718764,
          0.5073014761305652,
          0.49184797163691346,
          0.47636571970846375,
          0.46084814223306825,
          0.4452983724198411,
          0.4297300003858661,
          0.4141658256161391,
          0.39863801992002285,
          0.3831865891260057,
          0.367857448506917,
          0.3526999362621068,
          0.3377639889015677,
          0.3230973010437766,
          0.3087427129262808,
          0.2947368421052633,
          0.2792507205733222,
          0.26428289900932356,
          0.24984935754856172,
          0.23595570825005333,
          0.22259836393247148,
          0.20976697467414449,
          0.19744669180023097,
          0.18561933821810528,
          0.17426544802928076,
          0.1633649443178769,
          0.15289796349181214,
          0.14284537006067313,
          0.1331890793157802,
          0.12391233647676267,
          0.11499968802789046,
          0.10643717971743635,
          0.09821229914616043,
          0.09031398260137743,
          0.08273259917514554,
          0.07545994313149751
         ],
         "yaxis": "y"
        },
        {
         "customdata": [
          [
           -1,
           4.6850000000000005
          ],
          [
           -0.95,
           4.744828947368422
          ],
          [
           -0.9,
           4.804657894736843
          ],
          [
           -0.85,
           4.864486842105263
          ],
          [
           -0.8,
           4.924315789473685
          ],
          [
           -0.75,
           4.984144736842106
          ],
          [
           -0.7,
           5.043973684210527
          ],
          [
           -0.65,
           5.103802631578947
          ],
          [
           -0.6,
           5.163631578947369
          ],
          [
           -0.55,
           5.22346052631579
          ],
          [
           -0.5,
           5.283289473684211
          ],
          [
           -0.45,
           5.3431184210526315
          ],
          [
           -0.4,
           5.402947368421053
          ],
          [
           -0.35,
           5.462776315789474
          ],
          [
           -0.3,
           5.522605263157895
          ],
          [
           -0.25,
           5.582434210526316
          ],
          [
           -0.2,
           5.642263157894737
          ],
          [
           -0.15,
           5.702092105263159
          ],
          [
           -0.1,
           5.761921052631579
          ],
          [
           -0.05,
           5.82175
          ],
          [
           0,
           5.881578947368421
          ],
          [
           0.05,
           5.9385
          ],
          [
           0.1,
           5.995421052631579
          ],
          [
           0.15,
           6.052342105263158
          ],
          [
           0.2,
           6.109263157894737
          ],
          [
           0.25,
           6.166184210526316
          ],
          [
           0.3,
           6.223105263157895
          ],
          [
           0.35,
           6.280026315789474
          ],
          [
           0.4,
           6.336947368421052
          ],
          [
           0.45,
           6.393868421052631
          ],
          [
           0.5,
           6.45078947368421
          ],
          [
           0.55,
           6.5077105263157895
          ],
          [
           0.6,
           6.564631578947369
          ],
          [
           0.65,
           6.621552631578947
          ],
          [
           0.7,
           6.678473684210526
          ],
          [
           0.75,
           6.735394736842105
          ],
          [
           0.8,
           6.792315789473684
          ],
          [
           0.85,
           6.849236842105263
          ],
          [
           0.9,
           6.906157894736841
          ],
          [
           0.95,
           6.9630789473684205
          ],
          [
           1,
           7.02
          ]
         ],
         "hoverinfo": "y",
         "legendgroup": "sepal length (cm)",
         "marker": {
          "color": "hsl(359.5, 85.5%, 64.0%)"
         },
         "mode": "lines+markers",
         "name": "sepal length (cm)",
         "showlegend": false,
         "type": "scatter",
         "x": [
          -1,
          -0.95,
          -0.9,
          -0.85,
          -0.8,
          -0.75,
          -0.7,
          -0.65,
          -0.6,
          -0.55,
          -0.5,
          -0.45,
          -0.4,
          -0.35,
          -0.3,
          -0.25,
          -0.2,
          -0.15,
          -0.1,
          -0.05,
          0,
          0.05,
          0.1,
          0.15,
          0.2,
          0.25,
          0.3,
          0.35,
          0.4,
          0.45,
          0.5,
          0.55,
          0.6,
          0.65,
          0.7,
          0.75,
          0.8,
          0.85,
          0.9,
          0.95,
          1
         ],
         "xaxis": "x2",
         "y": [
          0.001548568300679637,
          0.004619037770076819,
          0.009977120599241081,
          0.01754747965913435,
          0.02705589268776951,
          0.03821727136749578,
          0.050789510681402826,
          0.06457925404846075,
          0.0794325093126724,
          0.09522596588324553,
          0.11185932286105091,
          0.12924948597142993,
          0.1473263230702218,
          0.16602910500074466,
          0.18530472412497098,
          0.20510526401330825,
          0.22538679643797996,
          0.2461082359693208,
          0.26723044567104465,
          0.28871554648323955,
          0.31052631578947376,
          0.3315456590814251,
          0.35279463926224197,
          0.37424138669070767,
          0.39585383766544907,
          0.41759978785870655,
          0.4394469892170173,
          0.4613633165442789,
          0.4833169878111652,
          0.5052768240478739,
          0.527212532049469,
          0.5490949914488593,
          0.5708965273644281,
          0.5925911509760869,
          0.6141547529446397,
          0.6355652382447166,
          0.6568025952305809,
          0.6778488960116273,
          0.6986882289086862,
          0.7193065663920306,
          0.739691572979596
         ],
         "yaxis": "y2"
        },
        {
         "customdata": [
          [
           -1,
           2.5
          ],
          [
           -0.95,
           2.5303947368421054
          ],
          [
           -0.9,
           2.5607894736842107
          ],
          [
           -0.85,
           2.5911842105263156
          ],
          [
           -0.8,
           2.621578947368421
          ],
          [
           -0.75,
           2.6519736842105264
          ],
          [
           -0.7,
           2.6823684210526313
          ],
          [
           -0.65,
           2.7127631578947367
          ],
          [
           -0.6,
           2.743157894736842
          ],
          [
           -0.55,
           2.7735526315789474
          ],
          [
           -0.5,
           2.8039473684210527
          ],
          [
           -0.45,
           2.8343421052631577
          ],
          [
           -0.4,
           2.864736842105263
          ],
          [
           -0.35,
           2.8951315789473684
          ],
          [
           -0.3,
           2.9255263157894733
          ],
          [
           -0.25,
           2.9559210526315787
          ],
          [
           -0.2,
           2.986315789473684
          ],
          [
           -0.15,
           3.0167105263157894
          ],
          [
           -0.1,
           3.0471052631578948
          ],
          [
           -0.05,
           3.0774999999999997
          ],
          [
           0,
           3.107894736842105
          ],
          [
           0.05,
           3.1424999999999996
          ],
          [
           0.1,
           3.1771052631578947
          ],
          [
           0.15,
           3.2117105263157892
          ],
          [
           0.2,
           3.246315789473684
          ],
          [
           0.25,
           3.280921052631579
          ],
          [
           0.3,
           3.3155263157894734
          ],
          [
           0.35,
           3.350131578947368
          ],
          [
           0.4,
           3.384736842105263
          ],
          [
           0.45,
           3.4193421052631576
          ],
          [
           0.5,
           3.453947368421052
          ],
          [
           0.55,
           3.4885526315789472
          ],
          [
           0.6,
           3.523157894736842
          ],
          [
           0.65,
           3.557763157894737
          ],
          [
           0.7,
           3.5923684210526314
          ],
          [
           0.75,
           3.626973684210526
          ],
          [
           0.8,
           3.661578947368421
          ],
          [
           0.85,
           3.6961842105263156
          ],
          [
           0.9,
           3.73078947368421
          ],
          [
           0.95,
           3.7653947368421052
          ],
          [
           1,
           3.8
          ]
         ],
         "hoverinfo": "y",
         "legendgroup": "sepal width (cm)",
         "marker": {
          "color": "hsl(269.0, 43.0%, 42.0%)"
         },
         "mode": "lines+markers",
         "name": "sepal width (cm)",
         "showlegend": false,
         "type": "scatter",
         "x": [
          -1,
          -0.95,
          -0.9,
          -0.85,
          -0.8,
          -0.75,
          -0.7,
          -0.65,
          -0.6,
          -0.55,
          -0.5,
          -0.45,
          -0.4,
          -0.35,
          -0.3,
          -0.25,
          -0.2,
          -0.15,
          -0.1,
          -0.05,
          0,
          0.05,
          0.1,
          0.15,
          0.2,
          0.25,
          0.3,
          0.35,
          0.4,
          0.45,
          0.5,
          0.55,
          0.6,
          0.65,
          0.7,
          0.75,
          0.8,
          0.85,
          0.9,
          0.95,
          1
         ],
         "xaxis": "x2",
         "y": [
          0.35618567545749286,
          0.3622226192925592,
          0.3670135756786202,
          0.37063167549743675,
          0.37314169409248565,
          0.3746025182389608,
          0.3750693013984378,
          0.3745953871461595,
          0.37323403522691423,
          0.3710399403850538,
          0.36807046196631243,
          0.3643866640199289,
          0.3600535494725018,
          0.3551400992446083,
          0.34971846526293887,
          0.34386257590295005,
          0.33764622456812027,
          0.3311408651265357,
          0.32441341018753905,
          0.31752428296965135,
          0.31052631578947376,
          0.30248203750891495,
          0.29440551148580957,
          0.2863348223109294,
          0.27829681482647745,
          0.27030860933648165,
          0.26237975398434144,
          0.254514210491429,
          0.24671155127950828,
          0.2389686154595491,
          0.23128022482164767,
          0.2236399234118455,
          0.2160404664906064,
          0.20847414099949846,
          0.20093303642126015,
          0.19340905470179937,
          0.18589408471957466,
          0.1783799549720906,
          0.17085841729160645,
          0.16332108937260162,
          0.15575937887816368
         ],
         "yaxis": "y2"
        }
       ],
       "layout": {
        "plot_bgcolor": "white",
        "template": {
         "data": {
          "bar": [
           {
            "error_x": {
             "color": "#2a3f5f"
            },
            "error_y": {
             "color": "#2a3f5f"
            },
            "marker": {
             "line": {
              "color": "#E5ECF6",
              "width": 0.5
             }
            },
            "type": "bar"
           }
          ],
          "barpolar": [
           {
            "marker": {
             "line": {
              "color": "#E5ECF6",
              "width": 0.5
             }
            },
            "type": "barpolar"
           }
          ],
          "carpet": [
           {
            "aaxis": {
             "endlinecolor": "#2a3f5f",
             "gridcolor": "white",
             "linecolor": "white",
             "minorgridcolor": "white",
             "startlinecolor": "#2a3f5f"
            },
            "baxis": {
             "endlinecolor": "#2a3f5f",
             "gridcolor": "white",
             "linecolor": "white",
             "minorgridcolor": "white",
             "startlinecolor": "#2a3f5f"
            },
            "type": "carpet"
           }
          ],
          "choropleth": [
           {
            "colorbar": {
             "outlinewidth": 0,
             "ticks": ""
            },
            "type": "choropleth"
           }
          ],
          "contour": [
           {
            "colorbar": {
             "outlinewidth": 0,
             "ticks": ""
            },
            "colorscale": [
             [
              0,
              "#0d0887"
             ],
             [
              0.1111111111111111,
              "#46039f"
             ],
             [
              0.2222222222222222,
              "#7201a8"
             ],
             [
              0.3333333333333333,
              "#9c179e"
             ],
             [
              0.4444444444444444,
              "#bd3786"
             ],
             [
              0.5555555555555556,
              "#d8576b"
             ],
             [
              0.6666666666666666,
              "#ed7953"
             ],
             [
              0.7777777777777778,
              "#fb9f3a"
             ],
             [
              0.8888888888888888,
              "#fdca26"
             ],
             [
              1,
              "#f0f921"
             ]
            ],
            "type": "contour"
           }
          ],
          "contourcarpet": [
           {
            "colorbar": {
             "outlinewidth": 0,
             "ticks": ""
            },
            "type": "contourcarpet"
           }
          ],
          "heatmap": [
           {
            "colorbar": {
             "outlinewidth": 0,
             "ticks": ""
            },
            "colorscale": [
             [
              0,
              "#0d0887"
             ],
             [
              0.1111111111111111,
              "#46039f"
             ],
             [
              0.2222222222222222,
              "#7201a8"
             ],
             [
              0.3333333333333333,
              "#9c179e"
             ],
             [
              0.4444444444444444,
              "#bd3786"
             ],
             [
              0.5555555555555556,
              "#d8576b"
             ],
             [
              0.6666666666666666,
              "#ed7953"
             ],
             [
              0.7777777777777778,
              "#fb9f3a"
             ],
             [
              0.8888888888888888,
              "#fdca26"
             ],
             [
              1,
              "#f0f921"
             ]
            ],
            "type": "heatmap"
           }
          ],
          "heatmapgl": [
           {
            "colorbar": {
             "outlinewidth": 0,
             "ticks": ""
            },
            "colorscale": [
             [
              0,
              "#0d0887"
             ],
             [
              0.1111111111111111,
              "#46039f"
             ],
             [
              0.2222222222222222,
              "#7201a8"
             ],
             [
              0.3333333333333333,
              "#9c179e"
             ],
             [
              0.4444444444444444,
              "#bd3786"
             ],
             [
              0.5555555555555556,
              "#d8576b"
             ],
             [
              0.6666666666666666,
              "#ed7953"
             ],
             [
              0.7777777777777778,
              "#fb9f3a"
             ],
             [
              0.8888888888888888,
              "#fdca26"
             ],
             [
              1,
              "#f0f921"
             ]
            ],
            "type": "heatmapgl"
           }
          ],
          "histogram": [
           {
            "marker": {
             "colorbar": {
              "outlinewidth": 0,
              "ticks": ""
             }
            },
            "type": "histogram"
           }
          ],
          "histogram2d": [
           {
            "colorbar": {
             "outlinewidth": 0,
             "ticks": ""
            },
            "colorscale": [
             [
              0,
              "#0d0887"
             ],
             [
              0.1111111111111111,
              "#46039f"
             ],
             [
              0.2222222222222222,
              "#7201a8"
             ],
             [
              0.3333333333333333,
              "#9c179e"
             ],
             [
              0.4444444444444444,
              "#bd3786"
             ],
             [
              0.5555555555555556,
              "#d8576b"
             ],
             [
              0.6666666666666666,
              "#ed7953"
             ],
             [
              0.7777777777777778,
              "#fb9f3a"
             ],
             [
              0.8888888888888888,
              "#fdca26"
             ],
             [
              1,
              "#f0f921"
             ]
            ],
            "type": "histogram2d"
           }
          ],
          "histogram2dcontour": [
           {
            "colorbar": {
             "outlinewidth": 0,
             "ticks": ""
            },
            "colorscale": [
             [
              0,
              "#0d0887"
             ],
             [
              0.1111111111111111,
              "#46039f"
             ],
             [
              0.2222222222222222,
              "#7201a8"
             ],
             [
              0.3333333333333333,
              "#9c179e"
             ],
             [
              0.4444444444444444,
              "#bd3786"
             ],
             [
              0.5555555555555556,
              "#d8576b"
             ],
             [
              0.6666666666666666,
              "#ed7953"
             ],
             [
              0.7777777777777778,
              "#fb9f3a"
             ],
             [
              0.8888888888888888,
              "#fdca26"
             ],
             [
              1,
              "#f0f921"
             ]
            ],
            "type": "histogram2dcontour"
           }
          ],
          "mesh3d": [
           {
            "colorbar": {
             "outlinewidth": 0,
             "ticks": ""
            },
            "type": "mesh3d"
           }
          ],
          "parcoords": [
           {
            "line": {
             "colorbar": {
              "outlinewidth": 0,
              "ticks": ""
             }
            },
            "type": "parcoords"
           }
          ],
          "scatter": [
           {
            "marker": {
             "colorbar": {
              "outlinewidth": 0,
              "ticks": ""
             }
            },
            "type": "scatter"
           }
          ],
          "scatter3d": [
           {
            "line": {
             "colorbar": {
              "outlinewidth": 0,
              "ticks": ""
             }
            },
            "marker": {
             "colorbar": {
              "outlinewidth": 0,
              "ticks": ""
             }
            },
            "type": "scatter3d"
           }
          ],
          "scattercarpet": [
           {
            "marker": {
             "colorbar": {
              "outlinewidth": 0,
              "ticks": ""
             }
            },
            "type": "scattercarpet"
           }
          ],
          "scattergeo": [
           {
            "marker": {
             "colorbar": {
              "outlinewidth": 0,
              "ticks": ""
             }
            },
            "type": "scattergeo"
           }
          ],
          "scattergl": [
           {
            "marker": {
             "colorbar": {
              "outlinewidth": 0,
              "ticks": ""
             }
            },
            "type": "scattergl"
           }
          ],
          "scattermapbox": [
           {
            "marker": {
             "colorbar": {
              "outlinewidth": 0,
              "ticks": ""
             }
            },
            "type": "scattermapbox"
           }
          ],
          "scatterpolar": [
           {
            "marker": {
             "colorbar": {
              "outlinewidth": 0,
              "ticks": ""
             }
            },
            "type": "scatterpolar"
           }
          ],
          "scatterpolargl": [
           {
            "marker": {
             "colorbar": {
              "outlinewidth": 0,
              "ticks": ""
             }
            },
            "type": "scatterpolargl"
           }
          ],
          "scatterternary": [
           {
            "marker": {
             "colorbar": {
              "outlinewidth": 0,
              "ticks": ""
             }
            },
            "type": "scatterternary"
           }
          ],
          "surface": [
           {
            "colorbar": {
             "outlinewidth": 0,
             "ticks": ""
            },
            "colorscale": [
             [
              0,
              "#0d0887"
             ],
             [
              0.1111111111111111,
              "#46039f"
             ],
             [
              0.2222222222222222,
              "#7201a8"
             ],
             [
              0.3333333333333333,
              "#9c179e"
             ],
             [
              0.4444444444444444,
              "#bd3786"
             ],
             [
              0.5555555555555556,
              "#d8576b"
             ],
             [
              0.6666666666666666,
              "#ed7953"
             ],
             [
              0.7777777777777778,
              "#fb9f3a"
             ],
             [
              0.8888888888888888,
              "#fdca26"
             ],
             [
              1,
              "#f0f921"
             ]
            ],
            "type": "surface"
           }
          ],
          "table": [
           {
            "cells": {
             "fill": {
              "color": "#EBF0F8"
             },
             "line": {
              "color": "white"
             }
            },
            "header": {
             "fill": {
              "color": "#C8D4E3"
             },
             "line": {
              "color": "white"
             }
            },
            "type": "table"
           }
          ]
         },
         "layout": {
          "annotationdefaults": {
           "arrowcolor": "#2a3f5f",
           "arrowhead": 0,
           "arrowwidth": 1
          },
          "colorscale": {
           "diverging": [
            [
             0,
             "#8e0152"
            ],
            [
             0.1,
             "#c51b7d"
            ],
            [
             0.2,
             "#de77ae"
            ],
            [
             0.3,
             "#f1b6da"
            ],
            [
             0.4,
             "#fde0ef"
            ],
            [
             0.5,
             "#f7f7f7"
            ],
            [
             0.6,
             "#e6f5d0"
            ],
            [
             0.7,
             "#b8e186"
            ],
            [
             0.8,
             "#7fbc41"
            ],
            [
             0.9,
             "#4d9221"
            ],
            [
             1,
             "#276419"
            ]
           ],
           "sequential": [
            [
             0,
             "#0d0887"
            ],
            [
             0.1111111111111111,
             "#46039f"
            ],
            [
             0.2222222222222222,
             "#7201a8"
            ],
            [
             0.3333333333333333,
             "#9c179e"
            ],
            [
             0.4444444444444444,
             "#bd3786"
            ],
            [
             0.5555555555555556,
             "#d8576b"
            ],
            [
             0.6666666666666666,
             "#ed7953"
            ],
            [
             0.7777777777777778,
             "#fb9f3a"
            ],
            [
             0.8888888888888888,
             "#fdca26"
            ],
            [
             1,
             "#f0f921"
            ]
           ],
           "sequentialminus": [
            [
             0,
             "#0d0887"
            ],
            [
             0.1111111111111111,
             "#46039f"
            ],
            [
             0.2222222222222222,
             "#7201a8"
            ],
            [
             0.3333333333333333,
             "#9c179e"
            ],
            [
             0.4444444444444444,
             "#bd3786"
            ],
            [
             0.5555555555555556,
             "#d8576b"
            ],
            [
             0.6666666666666666,
             "#ed7953"
            ],
            [
             0.7777777777777778,
             "#fb9f3a"
            ],
            [
             0.8888888888888888,
             "#fdca26"
            ],
            [
             1,
             "#f0f921"
            ]
           ]
          },
          "colorway": [
           "#636efa",
           "#EF553B",
           "#00cc96",
           "#ab63fa",
           "#FFA15A",
           "#19d3f3",
           "#FF6692",
           "#B6E880",
           "#FF97FF",
           "#FECB52"
          ],
          "font": {
           "color": "#2a3f5f"
          },
          "geo": {
           "bgcolor": "white",
           "lakecolor": "white",
           "landcolor": "#E5ECF6",
           "showlakes": true,
           "showland": true,
           "subunitcolor": "white"
          },
          "hoverlabel": {
           "align": "left"
          },
          "hovermode": "closest",
          "mapbox": {
           "style": "light"
          },
          "paper_bgcolor": "white",
          "plot_bgcolor": "#E5ECF6",
          "polar": {
           "angularaxis": {
            "gridcolor": "white",
            "linecolor": "white",
            "ticks": ""
           },
           "bgcolor": "#E5ECF6",
           "radialaxis": {
            "gridcolor": "white",
            "linecolor": "white",
            "ticks": ""
           }
          },
          "scene": {
           "xaxis": {
            "backgroundcolor": "#E5ECF6",
            "gridcolor": "white",
            "gridwidth": 2,
            "linecolor": "white",
            "showbackground": true,
            "ticks": "",
            "zerolinecolor": "white"
           },
           "yaxis": {
            "backgroundcolor": "#E5ECF6",
            "gridcolor": "white",
            "gridwidth": 2,
            "linecolor": "white",
            "showbackground": true,
            "ticks": "",
            "zerolinecolor": "white"
           },
           "zaxis": {
            "backgroundcolor": "#E5ECF6",
            "gridcolor": "white",
            "gridwidth": 2,
            "linecolor": "white",
            "showbackground": true,
            "ticks": "",
            "zerolinecolor": "white"
           }
          },
          "shapedefaults": {
           "line": {
            "color": "#2a3f5f"
           }
          },
          "ternary": {
           "aaxis": {
            "gridcolor": "white",
            "linecolor": "white",
            "ticks": ""
           },
           "baxis": {
            "gridcolor": "white",
            "linecolor": "white",
            "ticks": ""
           },
           "bgcolor": "#E5ECF6",
           "caxis": {
            "gridcolor": "white",
            "linecolor": "white",
            "ticks": ""
           }
          },
          "title": {
           "x": 0.05
          },
          "xaxis": {
           "automargin": true,
           "gridcolor": "white",
           "linecolor": "white",
           "ticks": "",
           "zerolinecolor": "white",
           "zerolinewidth": 2
          },
          "yaxis": {
           "automargin": true,
           "gridcolor": "white",
           "linecolor": "white",
           "ticks": "",
           "zerolinecolor": "white",
           "zerolinewidth": 2
          }
         }
        },
        "xaxis": {
         "anchor": "y",
         "domain": [
          0,
          1
         ],
         "gridcolor": "#eee",
         "linecolor": "black",
         "matches": "x2",
         "nticks": 5,
         "showgrid": true,
         "showline": true,
         "showticklabels": false,
         "zeroline": false
        },
        "xaxis2": {
         "anchor": "y2",
         "domain": [
          0,
          1
         ],
         "gridcolor": "#eee",
         "linecolor": "black",
         "nticks": 5,
         "showgrid": true,
         "showline": true,
         "title": {
          "text": "tau"
         },
         "zeroline": false
        },
        "yaxis": {
         "anchor": "x",
         "domain": [
          0.575,
          1
         ],
         "gridcolor": "#eee",
         "linecolor": "black",
         "range": [
          0,
          1
         ],
         "showgrid": true,
         "showline": true,
         "title": {
          "text": "Average versicolor"
         }
        },
        "yaxis2": {
         "anchor": "x2",
         "domain": [
          0,
          0.425
         ],
         "gridcolor": "#eee",
         "linecolor": "black",
         "range": [
          0,
          1
         ],
         "showgrid": true,
         "showline": true,
         "title": {
          "text": "Average virginica"
         }
        }
       }
      },
      "text/html": [
       "<div>\n",
       "        \n",
       "        \n",
       "            <div id=\"7197a7f6-5c67-4498-89c1-0d6f9a6a9ea5\" class=\"plotly-graph-div\" style=\"height:525px; width:100%;\"></div>\n",
       "            <script type=\"text/javascript\">\n",
       "                require([\"plotly\"], function(Plotly) {\n",
       "                    window.PLOTLYENV=window.PLOTLYENV || {};\n",
       "                    \n",
       "                if (document.getElementById(\"7197a7f6-5c67-4498-89c1-0d6f9a6a9ea5\")) {\n",
       "                    Plotly.newPlot(\n",
       "                        '7197a7f6-5c67-4498-89c1-0d6f9a6a9ea5',\n",
       "                        [{\"customdata\": [[-1.0, 4.6850000000000005], [-0.95, 4.744828947368422], [-0.9, 4.804657894736843], [-0.85, 4.864486842105263], [-0.8, 4.924315789473685], [-0.75, 4.984144736842106], [-0.7, 5.043973684210527], [-0.65, 5.103802631578947], [-0.6, 5.163631578947369], [-0.55, 5.22346052631579], [-0.5, 5.283289473684211], [-0.45, 5.3431184210526315], [-0.4, 5.402947368421053], [-0.35, 5.462776315789474], [-0.3, 5.522605263157895], [-0.25, 5.582434210526316], [-0.2, 5.642263157894737], [-0.15, 5.702092105263159], [-0.1, 5.761921052631579], [-0.05, 5.82175], [0.0, 5.881578947368421], [0.05, 5.9385], [0.1, 5.995421052631579], [0.15, 6.052342105263158], [0.2, 6.109263157894737], [0.25, 6.166184210526316], [0.3, 6.223105263157895], [0.35, 6.280026315789474], [0.4, 6.336947368421052], [0.45, 6.393868421052631], [0.5, 6.45078947368421], [0.55, 6.5077105263157895], [0.6, 6.564631578947369], [0.65, 6.621552631578947], [0.7, 6.678473684210526], [0.75, 6.735394736842105], [0.8, 6.792315789473684], [0.85, 6.849236842105263], [0.9, 6.906157894736841], [0.95, 6.9630789473684205], [1.0, 7.02]], \"hoverinfo\": \"y\", \"legendgroup\": \"sepal length (cm)\", \"marker\": {\"color\": \"hsl(359.5, 85.5%, 64.0%)\"}, \"mode\": \"lines+markers\", \"name\": \"sepal length (cm)\", \"type\": \"scatter\", \"x\": [-1.0, -0.95, -0.9, -0.85, -0.8, -0.75, -0.7, -0.65, -0.6, -0.55, -0.5, -0.45, -0.4, -0.35, -0.3, -0.25, -0.2, -0.15, -0.1, -0.05, 0.0, 0.05, 0.1, 0.15, 0.2, 0.25, 0.3, 0.35, 0.4, 0.45, 0.5, 0.55, 0.6, 0.65, 0.7, 0.75, 0.8, 0.85, 0.9, 0.95, 1.0], \"xaxis\": \"x\", \"y\": [0.0131390018244816, 0.026343089795414495, 0.04286333911360634, 0.06108580870464756, 0.07995510208179088, 0.09886374844063057, 0.11746456726832166, 0.1355540369408598, 0.15300559259511165, 0.16973600340824255, 0.18568655051585278, 0.2008125810459534, 0.21507759971951393, 0.22844954856679314, 0.2408992842511481, 0.2523990054389962, 0.2629218665086626, 0.2724417689740601, 0.2809334338093529, 0.2883726809073976, 0.2947368421052633, 0.299774894821067, 0.3038057296403539, 0.3068166586026904, 0.3087983079579569, 0.30974516395631885, 0.3096560677950574, 0.3085346358691328, 0.30638957477313455, 0.3032348659680218, 0.29908980216961123, 0.29397886693505004, 0.28793145972464795, 0.28098147969880427, 0.27316679138290156, 0.2645286029654511, 0.2551107926302155, 0.24495921970910725, 0.23412105584718723, 0.22264416750803648, 0.21057657609316607], \"yaxis\": \"y\"}, {\"customdata\": [[-1.0, 2.5], [-0.95, 2.5303947368421054], [-0.9, 2.5607894736842107], [-0.85, 2.5911842105263156], [-0.8, 2.621578947368421], [-0.75, 2.6519736842105264], [-0.7, 2.6823684210526313], [-0.65, 2.7127631578947367], [-0.6, 2.743157894736842], [-0.55, 2.7735526315789474], [-0.5, 2.8039473684210527], [-0.45, 2.8343421052631577], [-0.4, 2.864736842105263], [-0.35, 2.8951315789473684], [-0.3, 2.9255263157894733], [-0.25, 2.9559210526315787], [-0.2, 2.986315789473684], [-0.15, 3.0167105263157894], [-0.1, 3.0471052631578948], [-0.05, 3.0774999999999997], [0.0, 3.107894736842105], [0.05, 3.1424999999999996], [0.1, 3.1771052631578947], [0.15, 3.2117105263157892], [0.2, 3.246315789473684], [0.25, 3.280921052631579], [0.3, 3.3155263157894734], [0.35, 3.350131578947368], [0.4, 3.384736842105263], [0.45, 3.4193421052631576], [0.5, 3.453947368421052], [0.55, 3.4885526315789472], [0.6, 3.523157894736842], [0.65, 3.557763157894737], [0.7, 3.5923684210526314], [0.75, 3.626973684210526], [0.8, 3.661578947368421], [0.85, 3.6961842105263156], [0.9, 3.73078947368421], [0.95, 3.7653947368421052], [1.0, 3.8]], \"hoverinfo\": \"y\", \"legendgroup\": \"sepal width (cm)\", \"marker\": {\"color\": \"hsl(269.0, 43.0%, 42.0%)\"}, \"mode\": \"lines+markers\", \"name\": \"sepal width (cm)\", \"type\": \"scatter\", \"x\": [-1.0, -0.95, -0.9, -0.85, -0.8, -0.75, -0.7, -0.65, -0.6, -0.55, -0.5, -0.45, -0.4, -0.35, -0.3, -0.25, -0.2, -0.15, -0.1, -0.05, 0.0, 0.05, 0.1, 0.15, 0.2, 0.25, 0.3, 0.35, 0.4, 0.45, 0.5, 0.55, 0.6, 0.65, 0.7, 0.75, 0.8, 0.85, 0.9, 0.95, 1.0], \"xaxis\": \"x\", \"y\": [0.6009855731854391, 0.5850323243502041, 0.5692917664792726, 0.5536979411740119, 0.5381962784722606, 0.5227424016718764, 0.5073014761305652, 0.49184797163691346, 0.47636571970846375, 0.46084814223306825, 0.4452983724198411, 0.4297300003858661, 0.4141658256161391, 0.39863801992002285, 0.3831865891260057, 0.367857448506917, 0.3526999362621068, 0.3377639889015677, 0.3230973010437766, 0.3087427129262808, 0.2947368421052633, 0.2792507205733222, 0.26428289900932356, 0.24984935754856172, 0.23595570825005333, 0.22259836393247148, 0.20976697467414449, 0.19744669180023097, 0.18561933821810528, 0.17426544802928076, 0.1633649443178769, 0.15289796349181214, 0.14284537006067313, 0.1331890793157802, 0.12391233647676267, 0.11499968802789046, 0.10643717971743635, 0.09821229914616043, 0.09031398260137743, 0.08273259917514554, 0.07545994313149751], \"yaxis\": \"y\"}, {\"customdata\": [[-1.0, 4.6850000000000005], [-0.95, 4.744828947368422], [-0.9, 4.804657894736843], [-0.85, 4.864486842105263], [-0.8, 4.924315789473685], [-0.75, 4.984144736842106], [-0.7, 5.043973684210527], [-0.65, 5.103802631578947], [-0.6, 5.163631578947369], [-0.55, 5.22346052631579], [-0.5, 5.283289473684211], [-0.45, 5.3431184210526315], [-0.4, 5.402947368421053], [-0.35, 5.462776315789474], [-0.3, 5.522605263157895], [-0.25, 5.582434210526316], [-0.2, 5.642263157894737], [-0.15, 5.702092105263159], [-0.1, 5.761921052631579], [-0.05, 5.82175], [0.0, 5.881578947368421], [0.05, 5.9385], [0.1, 5.995421052631579], [0.15, 6.052342105263158], [0.2, 6.109263157894737], [0.25, 6.166184210526316], [0.3, 6.223105263157895], [0.35, 6.280026315789474], [0.4, 6.336947368421052], [0.45, 6.393868421052631], [0.5, 6.45078947368421], [0.55, 6.5077105263157895], [0.6, 6.564631578947369], [0.65, 6.621552631578947], [0.7, 6.678473684210526], [0.75, 6.735394736842105], [0.8, 6.792315789473684], [0.85, 6.849236842105263], [0.9, 6.906157894736841], [0.95, 6.9630789473684205], [1.0, 7.02]], \"hoverinfo\": \"y\", \"legendgroup\": \"sepal length (cm)\", \"marker\": {\"color\": \"hsl(359.5, 85.5%, 64.0%)\"}, \"mode\": \"lines+markers\", \"name\": \"sepal length (cm)\", \"showlegend\": false, \"type\": \"scatter\", \"x\": [-1.0, -0.95, -0.9, -0.85, -0.8, -0.75, -0.7, -0.65, -0.6, -0.55, -0.5, -0.45, -0.4, -0.35, -0.3, -0.25, -0.2, -0.15, -0.1, -0.05, 0.0, 0.05, 0.1, 0.15, 0.2, 0.25, 0.3, 0.35, 0.4, 0.45, 0.5, 0.55, 0.6, 0.65, 0.7, 0.75, 0.8, 0.85, 0.9, 0.95, 1.0], \"xaxis\": \"x2\", \"y\": [0.001548568300679637, 0.004619037770076819, 0.009977120599241081, 0.01754747965913435, 0.02705589268776951, 0.03821727136749578, 0.050789510681402826, 0.06457925404846075, 0.0794325093126724, 0.09522596588324553, 0.11185932286105091, 0.12924948597142993, 0.1473263230702218, 0.16602910500074466, 0.18530472412497098, 0.20510526401330825, 0.22538679643797996, 0.2461082359693208, 0.26723044567104465, 0.28871554648323955, 0.31052631578947376, 0.3315456590814251, 0.35279463926224197, 0.37424138669070767, 0.39585383766544907, 0.41759978785870655, 0.4394469892170173, 0.4613633165442789, 0.4833169878111652, 0.5052768240478739, 0.527212532049469, 0.5490949914488593, 0.5708965273644281, 0.5925911509760869, 0.6141547529446397, 0.6355652382447166, 0.6568025952305809, 0.6778488960116273, 0.6986882289086862, 0.7193065663920306, 0.739691572979596], \"yaxis\": \"y2\"}, {\"customdata\": [[-1.0, 2.5], [-0.95, 2.5303947368421054], [-0.9, 2.5607894736842107], [-0.85, 2.5911842105263156], [-0.8, 2.621578947368421], [-0.75, 2.6519736842105264], [-0.7, 2.6823684210526313], [-0.65, 2.7127631578947367], [-0.6, 2.743157894736842], [-0.55, 2.7735526315789474], [-0.5, 2.8039473684210527], [-0.45, 2.8343421052631577], [-0.4, 2.864736842105263], [-0.35, 2.8951315789473684], [-0.3, 2.9255263157894733], [-0.25, 2.9559210526315787], [-0.2, 2.986315789473684], [-0.15, 3.0167105263157894], [-0.1, 3.0471052631578948], [-0.05, 3.0774999999999997], [0.0, 3.107894736842105], [0.05, 3.1424999999999996], [0.1, 3.1771052631578947], [0.15, 3.2117105263157892], [0.2, 3.246315789473684], [0.25, 3.280921052631579], [0.3, 3.3155263157894734], [0.35, 3.350131578947368], [0.4, 3.384736842105263], [0.45, 3.4193421052631576], [0.5, 3.453947368421052], [0.55, 3.4885526315789472], [0.6, 3.523157894736842], [0.65, 3.557763157894737], [0.7, 3.5923684210526314], [0.75, 3.626973684210526], [0.8, 3.661578947368421], [0.85, 3.6961842105263156], [0.9, 3.73078947368421], [0.95, 3.7653947368421052], [1.0, 3.8]], \"hoverinfo\": \"y\", \"legendgroup\": \"sepal width (cm)\", \"marker\": {\"color\": \"hsl(269.0, 43.0%, 42.0%)\"}, \"mode\": \"lines+markers\", \"name\": \"sepal width (cm)\", \"showlegend\": false, \"type\": \"scatter\", \"x\": [-1.0, -0.95, -0.9, -0.85, -0.8, -0.75, -0.7, -0.65, -0.6, -0.55, -0.5, -0.45, -0.4, -0.35, -0.3, -0.25, -0.2, -0.15, -0.1, -0.05, 0.0, 0.05, 0.1, 0.15, 0.2, 0.25, 0.3, 0.35, 0.4, 0.45, 0.5, 0.55, 0.6, 0.65, 0.7, 0.75, 0.8, 0.85, 0.9, 0.95, 1.0], \"xaxis\": \"x2\", \"y\": [0.35618567545749286, 0.3622226192925592, 0.3670135756786202, 0.37063167549743675, 0.37314169409248565, 0.3746025182389608, 0.3750693013984378, 0.3745953871461595, 0.37323403522691423, 0.3710399403850538, 0.36807046196631243, 0.3643866640199289, 0.3600535494725018, 0.3551400992446083, 0.34971846526293887, 0.34386257590295005, 0.33764622456812027, 0.3311408651265357, 0.32441341018753905, 0.31752428296965135, 0.31052631578947376, 0.30248203750891495, 0.29440551148580957, 0.2863348223109294, 0.27829681482647745, 0.27030860933648165, 0.26237975398434144, 0.254514210491429, 0.24671155127950828, 0.2389686154595491, 0.23128022482164767, 0.2236399234118455, 0.2160404664906064, 0.20847414099949846, 0.20093303642126015, 0.19340905470179937, 0.18589408471957466, 0.1783799549720906, 0.17085841729160645, 0.16332108937260162, 0.15575937887816368], \"yaxis\": \"y2\"}],\n",
       "                        {\"plot_bgcolor\": \"white\", \"template\": {\"data\": {\"bar\": [{\"error_x\": {\"color\": \"#2a3f5f\"}, \"error_y\": {\"color\": \"#2a3f5f\"}, \"marker\": {\"line\": {\"color\": \"#E5ECF6\", \"width\": 0.5}}, \"type\": \"bar\"}], \"barpolar\": [{\"marker\": {\"line\": {\"color\": \"#E5ECF6\", \"width\": 0.5}}, \"type\": \"barpolar\"}], \"carpet\": [{\"aaxis\": {\"endlinecolor\": \"#2a3f5f\", \"gridcolor\": \"white\", \"linecolor\": \"white\", \"minorgridcolor\": \"white\", \"startlinecolor\": \"#2a3f5f\"}, \"baxis\": {\"endlinecolor\": \"#2a3f5f\", \"gridcolor\": \"white\", \"linecolor\": \"white\", \"minorgridcolor\": \"white\", \"startlinecolor\": \"#2a3f5f\"}, \"type\": \"carpet\"}], \"choropleth\": [{\"colorbar\": {\"outlinewidth\": 0, \"ticks\": \"\"}, \"type\": \"choropleth\"}], \"contour\": [{\"colorbar\": {\"outlinewidth\": 0, \"ticks\": \"\"}, \"colorscale\": [[0.0, \"#0d0887\"], [0.1111111111111111, \"#46039f\"], [0.2222222222222222, \"#7201a8\"], [0.3333333333333333, \"#9c179e\"], [0.4444444444444444, \"#bd3786\"], [0.5555555555555556, \"#d8576b\"], [0.6666666666666666, \"#ed7953\"], [0.7777777777777778, \"#fb9f3a\"], [0.8888888888888888, \"#fdca26\"], [1.0, \"#f0f921\"]], \"type\": \"contour\"}], \"contourcarpet\": [{\"colorbar\": {\"outlinewidth\": 0, \"ticks\": \"\"}, \"type\": \"contourcarpet\"}], \"heatmap\": [{\"colorbar\": {\"outlinewidth\": 0, \"ticks\": \"\"}, \"colorscale\": [[0.0, \"#0d0887\"], [0.1111111111111111, \"#46039f\"], [0.2222222222222222, \"#7201a8\"], [0.3333333333333333, \"#9c179e\"], [0.4444444444444444, \"#bd3786\"], [0.5555555555555556, \"#d8576b\"], [0.6666666666666666, \"#ed7953\"], [0.7777777777777778, \"#fb9f3a\"], [0.8888888888888888, \"#fdca26\"], [1.0, \"#f0f921\"]], \"type\": \"heatmap\"}], \"heatmapgl\": [{\"colorbar\": {\"outlinewidth\": 0, \"ticks\": \"\"}, \"colorscale\": [[0.0, \"#0d0887\"], [0.1111111111111111, \"#46039f\"], [0.2222222222222222, \"#7201a8\"], [0.3333333333333333, \"#9c179e\"], [0.4444444444444444, \"#bd3786\"], [0.5555555555555556, \"#d8576b\"], [0.6666666666666666, \"#ed7953\"], [0.7777777777777778, \"#fb9f3a\"], [0.8888888888888888, \"#fdca26\"], [1.0, \"#f0f921\"]], \"type\": \"heatmapgl\"}], \"histogram\": [{\"marker\": {\"colorbar\": {\"outlinewidth\": 0, \"ticks\": \"\"}}, \"type\": \"histogram\"}], \"histogram2d\": [{\"colorbar\": {\"outlinewidth\": 0, \"ticks\": \"\"}, \"colorscale\": [[0.0, \"#0d0887\"], [0.1111111111111111, \"#46039f\"], [0.2222222222222222, \"#7201a8\"], [0.3333333333333333, \"#9c179e\"], [0.4444444444444444, \"#bd3786\"], [0.5555555555555556, \"#d8576b\"], [0.6666666666666666, \"#ed7953\"], [0.7777777777777778, \"#fb9f3a\"], [0.8888888888888888, \"#fdca26\"], [1.0, \"#f0f921\"]], \"type\": \"histogram2d\"}], \"histogram2dcontour\": [{\"colorbar\": {\"outlinewidth\": 0, \"ticks\": \"\"}, \"colorscale\": [[0.0, \"#0d0887\"], [0.1111111111111111, \"#46039f\"], [0.2222222222222222, \"#7201a8\"], [0.3333333333333333, \"#9c179e\"], [0.4444444444444444, \"#bd3786\"], [0.5555555555555556, \"#d8576b\"], [0.6666666666666666, \"#ed7953\"], [0.7777777777777778, \"#fb9f3a\"], [0.8888888888888888, \"#fdca26\"], [1.0, \"#f0f921\"]], \"type\": \"histogram2dcontour\"}], \"mesh3d\": [{\"colorbar\": {\"outlinewidth\": 0, \"ticks\": \"\"}, \"type\": \"mesh3d\"}], \"parcoords\": [{\"line\": {\"colorbar\": {\"outlinewidth\": 0, \"ticks\": \"\"}}, \"type\": \"parcoords\"}], \"scatter\": [{\"marker\": {\"colorbar\": {\"outlinewidth\": 0, \"ticks\": \"\"}}, \"type\": \"scatter\"}], \"scatter3d\": [{\"line\": {\"colorbar\": {\"outlinewidth\": 0, \"ticks\": \"\"}}, \"marker\": {\"colorbar\": {\"outlinewidth\": 0, \"ticks\": \"\"}}, \"type\": \"scatter3d\"}], \"scattercarpet\": [{\"marker\": {\"colorbar\": {\"outlinewidth\": 0, \"ticks\": \"\"}}, \"type\": \"scattercarpet\"}], \"scattergeo\": [{\"marker\": {\"colorbar\": {\"outlinewidth\": 0, \"ticks\": \"\"}}, \"type\": \"scattergeo\"}], \"scattergl\": [{\"marker\": {\"colorbar\": {\"outlinewidth\": 0, \"ticks\": \"\"}}, \"type\": \"scattergl\"}], \"scattermapbox\": [{\"marker\": {\"colorbar\": {\"outlinewidth\": 0, \"ticks\": \"\"}}, \"type\": \"scattermapbox\"}], \"scatterpolar\": [{\"marker\": {\"colorbar\": {\"outlinewidth\": 0, \"ticks\": \"\"}}, \"type\": \"scatterpolar\"}], \"scatterpolargl\": [{\"marker\": {\"colorbar\": {\"outlinewidth\": 0, \"ticks\": \"\"}}, \"type\": \"scatterpolargl\"}], \"scatterternary\": [{\"marker\": {\"colorbar\": {\"outlinewidth\": 0, \"ticks\": \"\"}}, \"type\": \"scatterternary\"}], \"surface\": [{\"colorbar\": {\"outlinewidth\": 0, \"ticks\": \"\"}, \"colorscale\": [[0.0, \"#0d0887\"], [0.1111111111111111, \"#46039f\"], [0.2222222222222222, \"#7201a8\"], [0.3333333333333333, \"#9c179e\"], [0.4444444444444444, \"#bd3786\"], [0.5555555555555556, \"#d8576b\"], [0.6666666666666666, \"#ed7953\"], [0.7777777777777778, \"#fb9f3a\"], [0.8888888888888888, \"#fdca26\"], [1.0, \"#f0f921\"]], \"type\": \"surface\"}], \"table\": [{\"cells\": {\"fill\": {\"color\": \"#EBF0F8\"}, \"line\": {\"color\": \"white\"}}, \"header\": {\"fill\": {\"color\": \"#C8D4E3\"}, \"line\": {\"color\": \"white\"}}, \"type\": \"table\"}]}, \"layout\": {\"annotationdefaults\": {\"arrowcolor\": \"#2a3f5f\", \"arrowhead\": 0, \"arrowwidth\": 1}, \"colorscale\": {\"diverging\": [[0, \"#8e0152\"], [0.1, \"#c51b7d\"], [0.2, \"#de77ae\"], [0.3, \"#f1b6da\"], [0.4, \"#fde0ef\"], [0.5, \"#f7f7f7\"], [0.6, \"#e6f5d0\"], [0.7, \"#b8e186\"], [0.8, \"#7fbc41\"], [0.9, \"#4d9221\"], [1, \"#276419\"]], \"sequential\": [[0.0, \"#0d0887\"], [0.1111111111111111, \"#46039f\"], [0.2222222222222222, \"#7201a8\"], [0.3333333333333333, \"#9c179e\"], [0.4444444444444444, \"#bd3786\"], [0.5555555555555556, \"#d8576b\"], [0.6666666666666666, \"#ed7953\"], [0.7777777777777778, \"#fb9f3a\"], [0.8888888888888888, \"#fdca26\"], [1.0, \"#f0f921\"]], \"sequentialminus\": [[0.0, \"#0d0887\"], [0.1111111111111111, \"#46039f\"], [0.2222222222222222, \"#7201a8\"], [0.3333333333333333, \"#9c179e\"], [0.4444444444444444, \"#bd3786\"], [0.5555555555555556, \"#d8576b\"], [0.6666666666666666, \"#ed7953\"], [0.7777777777777778, \"#fb9f3a\"], [0.8888888888888888, \"#fdca26\"], [1.0, \"#f0f921\"]]}, \"colorway\": [\"#636efa\", \"#EF553B\", \"#00cc96\", \"#ab63fa\", \"#FFA15A\", \"#19d3f3\", \"#FF6692\", \"#B6E880\", \"#FF97FF\", \"#FECB52\"], \"font\": {\"color\": \"#2a3f5f\"}, \"geo\": {\"bgcolor\": \"white\", \"lakecolor\": \"white\", \"landcolor\": \"#E5ECF6\", \"showlakes\": true, \"showland\": true, \"subunitcolor\": \"white\"}, \"hoverlabel\": {\"align\": \"left\"}, \"hovermode\": \"closest\", \"mapbox\": {\"style\": \"light\"}, \"paper_bgcolor\": \"white\", \"plot_bgcolor\": \"#E5ECF6\", \"polar\": {\"angularaxis\": {\"gridcolor\": \"white\", \"linecolor\": \"white\", \"ticks\": \"\"}, \"bgcolor\": \"#E5ECF6\", \"radialaxis\": {\"gridcolor\": \"white\", \"linecolor\": \"white\", \"ticks\": \"\"}}, \"scene\": {\"xaxis\": {\"backgroundcolor\": \"#E5ECF6\", \"gridcolor\": \"white\", \"gridwidth\": 2, \"linecolor\": \"white\", \"showbackground\": true, \"ticks\": \"\", \"zerolinecolor\": \"white\"}, \"yaxis\": {\"backgroundcolor\": \"#E5ECF6\", \"gridcolor\": \"white\", \"gridwidth\": 2, \"linecolor\": \"white\", \"showbackground\": true, \"ticks\": \"\", \"zerolinecolor\": \"white\"}, \"zaxis\": {\"backgroundcolor\": \"#E5ECF6\", \"gridcolor\": \"white\", \"gridwidth\": 2, \"linecolor\": \"white\", \"showbackground\": true, \"ticks\": \"\", \"zerolinecolor\": \"white\"}}, \"shapedefaults\": {\"line\": {\"color\": \"#2a3f5f\"}}, \"ternary\": {\"aaxis\": {\"gridcolor\": \"white\", \"linecolor\": \"white\", \"ticks\": \"\"}, \"baxis\": {\"gridcolor\": \"white\", \"linecolor\": \"white\", \"ticks\": \"\"}, \"bgcolor\": \"#E5ECF6\", \"caxis\": {\"gridcolor\": \"white\", \"linecolor\": \"white\", \"ticks\": \"\"}}, \"title\": {\"x\": 0.05}, \"xaxis\": {\"automargin\": true, \"gridcolor\": \"white\", \"linecolor\": \"white\", \"ticks\": \"\", \"zerolinecolor\": \"white\", \"zerolinewidth\": 2}, \"yaxis\": {\"automargin\": true, \"gridcolor\": \"white\", \"linecolor\": \"white\", \"ticks\": \"\", \"zerolinecolor\": \"white\", \"zerolinewidth\": 2}}}, \"xaxis\": {\"anchor\": \"y\", \"domain\": [0.0, 1.0], \"gridcolor\": \"#eee\", \"linecolor\": \"black\", \"matches\": \"x2\", \"nticks\": 5, \"showgrid\": true, \"showline\": true, \"showticklabels\": false, \"zeroline\": false}, \"xaxis2\": {\"anchor\": \"y2\", \"domain\": [0.0, 1.0], \"gridcolor\": \"#eee\", \"linecolor\": \"black\", \"nticks\": 5, \"showgrid\": true, \"showline\": true, \"title\": {\"text\": \"tau\"}, \"zeroline\": false}, \"yaxis\": {\"anchor\": \"x\", \"domain\": [0.575, 1.0], \"gridcolor\": \"#eee\", \"linecolor\": \"black\", \"range\": [0, 1], \"showgrid\": true, \"showline\": true, \"title\": {\"text\": \"Average versicolor\"}}, \"yaxis2\": {\"anchor\": \"x2\", \"domain\": [0.0, 0.425], \"gridcolor\": \"#eee\", \"linecolor\": \"black\", \"range\": [0, 1], \"showgrid\": true, \"showline\": true, \"title\": {\"text\": \"Average virginica\"}}},\n",
       "                        {\"responsive\": true}\n",
       "                    ).then(function(){\n",
       "                            \n",
       "var gd = document.getElementById('7197a7f6-5c67-4498-89c1-0d6f9a6a9ea5');\n",
       "var x = new MutationObserver(function (mutations, observer) {{\n",
       "        var display = window.getComputedStyle(gd).display;\n",
       "        if (!display || display === 'none') {{\n",
       "            console.log([gd, 'removed!']);\n",
       "            Plotly.purge(gd);\n",
       "            observer.disconnect();\n",
       "        }}\n",
       "}});\n",
       "\n",
       "// Listen for the removal of the full notebook cells\n",
       "var notebookContainer = gd.closest('#notebook-container');\n",
       "if (notebookContainer) {{\n",
       "    x.observe(notebookContainer, {childList: true});\n",
       "}}\n",
       "\n",
       "// Listen for the clearing of the current output cell\n",
       "var outputEl = gd.closest('.output');\n",
       "if (outputEl) {{\n",
       "    x.observe(outputEl, {childList: true});\n",
       "}}\n",
       "\n",
       "                        })\n",
       "                };\n",
       "                });\n",
       "            </script>\n",
       "        </div>"
      ]
     },
     "metadata": {},
     "output_type": "display_data"
    }
   ],
   "source": [
    "explainer.plot_bias(\n",
    "    X_test=X_test[['sepal length (cm)', 'sepal width (cm)']],\n",
    "    y_pred=y_pred[['versicolor', 'virginica']]\n",
    ")"
   ]
  },
  {
   "cell_type": "markdown",
   "metadata": {},
   "source": [
    "All the variables, all the classes."
   ]
  },
  {
   "cell_type": "code",
   "execution_count": 13,
   "metadata": {
    "scrolled": false
   },
   "outputs": [
    {
     "name": "stderr",
     "output_type": "stream",
     "text": [
      "164it [00:00, 1243.36it/s]\n",
      "164it [00:00, 991.03it/s] \n",
      "164it [00:00, 1195.98it/s]\n"
     ]
    },
    {
     "data": {
      "application/vnd.plotly.v1+json": {
       "config": {
        "plotlyServerURL": "https://plot.ly"
       },
       "data": [
        {
         "customdata": [
          [
           -1,
           4.6850000000000005
          ],
          [
           -0.95,
           4.744828947368422
          ],
          [
           -0.9,
           4.804657894736843
          ],
          [
           -0.85,
           4.864486842105263
          ],
          [
           -0.8,
           4.924315789473685
          ],
          [
           -0.75,
           4.984144736842106
          ],
          [
           -0.7,
           5.043973684210527
          ],
          [
           -0.65,
           5.103802631578947
          ],
          [
           -0.6,
           5.163631578947369
          ],
          [
           -0.55,
           5.22346052631579
          ],
          [
           -0.5,
           5.283289473684211
          ],
          [
           -0.45,
           5.3431184210526315
          ],
          [
           -0.4,
           5.402947368421053
          ],
          [
           -0.35,
           5.462776315789474
          ],
          [
           -0.3,
           5.522605263157895
          ],
          [
           -0.25,
           5.582434210526316
          ],
          [
           -0.2,
           5.642263157894737
          ],
          [
           -0.15,
           5.702092105263159
          ],
          [
           -0.1,
           5.761921052631579
          ],
          [
           -0.05,
           5.82175
          ],
          [
           0,
           5.881578947368421
          ],
          [
           0.05,
           5.9385
          ],
          [
           0.1,
           5.995421052631579
          ],
          [
           0.15,
           6.052342105263158
          ],
          [
           0.2,
           6.109263157894737
          ],
          [
           0.25,
           6.166184210526316
          ],
          [
           0.3,
           6.223105263157895
          ],
          [
           0.35,
           6.280026315789474
          ],
          [
           0.4,
           6.336947368421052
          ],
          [
           0.45,
           6.393868421052631
          ],
          [
           0.5,
           6.45078947368421
          ],
          [
           0.55,
           6.5077105263157895
          ],
          [
           0.6,
           6.564631578947369
          ],
          [
           0.65,
           6.621552631578947
          ],
          [
           0.7,
           6.678473684210526
          ],
          [
           0.75,
           6.735394736842105
          ],
          [
           0.8,
           6.792315789473684
          ],
          [
           0.85,
           6.849236842105263
          ],
          [
           0.9,
           6.906157894736841
          ],
          [
           0.95,
           6.9630789473684205
          ],
          [
           1,
           7.02
          ]
         ],
         "hoverinfo": "y",
         "legendgroup": "sepal length (cm)",
         "marker": {
          "color": "hsl(97.25, 56.75%, 62.5%)"
         },
         "mode": "lines+markers",
         "name": "sepal length (cm)",
         "type": "scatter",
         "x": [
          -1,
          -0.95,
          -0.9,
          -0.85,
          -0.8,
          -0.75,
          -0.7,
          -0.65,
          -0.6,
          -0.55,
          -0.5,
          -0.45,
          -0.4,
          -0.35,
          -0.3,
          -0.25,
          -0.2,
          -0.15,
          -0.1,
          -0.05,
          0,
          0.05,
          0.1,
          0.15,
          0.2,
          0.25,
          0.3,
          0.35,
          0.4,
          0.45,
          0.5,
          0.55,
          0.6,
          0.65,
          0.7,
          0.75,
          0.8,
          0.85,
          0.9,
          0.95,
          1
         ],
         "xaxis": "x",
         "y": [
          0.9853124298748387,
          0.9690378724345088,
          0.9471595402871524,
          0.9213667116362181,
          0.8929890052304397,
          0.8629189801918735,
          0.8317459220502755,
          0.7998667090106795,
          0.7675618980922161,
          0.7350380307085117,
          0.7024541266230963,
          0.6699379329826167,
          0.6375960772102641,
          0.6055213464324622,
          0.5737959916238811,
          0.5424957305476956,
          0.5116913370533572,
          0.48144999505661895,
          0.4518361205196024,
          0.4229117726093628,
          0.39473684210526333,
          0.36867944609750797,
          0.34339963109740423,
          0.31894195470660197,
          0.29534785437659394,
          0.2726550481849747,
          0.2508969429879255,
          0.23010204758658828,
          0.21029343741570014,
          0.19148830998410432,
          0.17369766578091952,
          0.15692614161609086,
          0.14117201291092396,
          0.1264273693251087,
          0.1126784556724586,
          0.09990615878983221,
          0.08808661213920363,
          0.07719188427926524,
          0.06719071524412652,
          0.05804926609993295,
          0.049731850927237975
         ],
         "yaxis": "y"
        },
        {
         "customdata": [
          [
           -1,
           2.5
          ],
          [
           -0.95,
           2.5303947368421054
          ],
          [
           -0.9,
           2.5607894736842107
          ],
          [
           -0.85,
           2.5911842105263156
          ],
          [
           -0.8,
           2.621578947368421
          ],
          [
           -0.75,
           2.6519736842105264
          ],
          [
           -0.7,
           2.6823684210526313
          ],
          [
           -0.65,
           2.7127631578947367
          ],
          [
           -0.6,
           2.743157894736842
          ],
          [
           -0.55,
           2.7735526315789474
          ],
          [
           -0.5,
           2.8039473684210527
          ],
          [
           -0.45,
           2.8343421052631577
          ],
          [
           -0.4,
           2.864736842105263
          ],
          [
           -0.35,
           2.8951315789473684
          ],
          [
           -0.3,
           2.9255263157894733
          ],
          [
           -0.25,
           2.9559210526315787
          ],
          [
           -0.2,
           2.986315789473684
          ],
          [
           -0.15,
           3.0167105263157894
          ],
          [
           -0.1,
           3.0471052631578948
          ],
          [
           -0.05,
           3.0774999999999997
          ],
          [
           0,
           3.107894736842105
          ],
          [
           0.05,
           3.1424999999999996
          ],
          [
           0.1,
           3.1771052631578947
          ],
          [
           0.15,
           3.2117105263157892
          ],
          [
           0.2,
           3.246315789473684
          ],
          [
           0.25,
           3.280921052631579
          ],
          [
           0.3,
           3.3155263157894734
          ],
          [
           0.35,
           3.350131578947368
          ],
          [
           0.4,
           3.384736842105263
          ],
          [
           0.45,
           3.4193421052631576
          ],
          [
           0.5,
           3.453947368421052
          ],
          [
           0.55,
           3.4885526315789472
          ],
          [
           0.6,
           3.523157894736842
          ],
          [
           0.65,
           3.557763157894737
          ],
          [
           0.7,
           3.5923684210526314
          ],
          [
           0.75,
           3.626973684210526
          ],
          [
           0.8,
           3.661578947368421
          ],
          [
           0.85,
           3.6961842105263156
          ],
          [
           0.9,
           3.73078947368421
          ],
          [
           0.95,
           3.7653947368421052
          ],
          [
           1,
           3.8
          ]
         ],
         "hoverinfo": "y",
         "legendgroup": "sepal width (cm)",
         "marker": {
          "color": "hsl(359.5, 85.5%, 64.0%)"
         },
         "mode": "lines+markers",
         "name": "sepal width (cm)",
         "type": "scatter",
         "x": [
          -1,
          -0.95,
          -0.9,
          -0.85,
          -0.8,
          -0.75,
          -0.7,
          -0.65,
          -0.6,
          -0.55,
          -0.5,
          -0.45,
          -0.4,
          -0.35,
          -0.3,
          -0.25,
          -0.2,
          -0.15,
          -0.1,
          -0.05,
          0,
          0.05,
          0.1,
          0.15,
          0.2,
          0.25,
          0.3,
          0.35,
          0.4,
          0.45,
          0.5,
          0.55,
          0.6,
          0.65,
          0.7,
          0.75,
          0.8,
          0.85,
          0.9,
          0.95,
          1
         ],
         "xaxis": "x",
         "y": [
          0.042828751357068054,
          0.05274505635723684,
          0.06369465784210729,
          0.07567038332855135,
          0.08866202743525381,
          0.10265508008916306,
          0.1176292224709973,
          0.133556641216927,
          0.15040024506462202,
          0.16811191738187797,
          0.18663116561384654,
          0.20588333559420496,
          0.22578062491135925,
          0.24622188083536875,
          0.2670949456110555,
          0.2882799755901328,
          0.3096538391697732,
          0.3310951459718967,
          0.3524892887686845,
          0.373733004104068,
          0.39473684210526333,
          0.4182672419177628,
          0.44131158950486704,
          0.46381582014050887,
          0.4857474769234695,
          0.507093026731047,
          0.527853271341514,
          0.54803909770834,
          0.5676691105023868,
          0.58676593651117,
          0.6053548308604755,
          0.6234621130963424,
          0.6411141634487204,
          0.6583367796847216,
          0.6751546271019772,
          0.6915912572703101,
          0.7076687355629889,
          0.7234077458817488,
          0.7388276001070162,
          0.753946311452253,
          0.7687806779903388
         ],
         "yaxis": "y"
        },
        {
         "customdata": [
          [
           -1,
           1.3000000000000003
          ],
          [
           -0.95,
           1.4156578947368423
          ],
          [
           -0.9,
           1.5313157894736844
          ],
          [
           -0.85,
           1.6469736842105267
          ],
          [
           -0.8,
           1.7626315789473685
          ],
          [
           -0.75,
           1.8782894736842108
          ],
          [
           -0.7,
           1.9939473684210531
          ],
          [
           -0.65,
           2.1096052631578948
          ],
          [
           -0.6,
           2.2252631578947373
          ],
          [
           -0.55,
           2.340921052631579
          ],
          [
           -0.5,
           2.4565789473684214
          ],
          [
           -0.45,
           2.5722368421052635
          ],
          [
           -0.4,
           2.6878947368421056
          ],
          [
           -0.35,
           2.803552631578948
          ],
          [
           -0.3,
           2.9192105263157897
          ],
          [
           -0.25,
           3.034868421052632
          ],
          [
           -0.2,
           3.150526315789474
          ],
          [
           -0.15,
           3.2661842105263164
          ],
          [
           -0.1,
           3.3818421052631584
          ],
          [
           -0.05,
           3.4975000000000005
          ],
          [
           0,
           3.6131578947368426
          ],
          [
           0.05,
           3.7312500000000006
          ],
          [
           0.1,
           3.8493421052631582
          ],
          [
           0.15,
           3.9674342105263163
          ],
          [
           0.2,
           4.085526315789474
          ],
          [
           0.25,
           4.2036184210526315
          ],
          [
           0.3,
           4.32171052631579
          ],
          [
           0.35,
           4.439802631578948
          ],
          [
           0.4,
           4.557894736842106
          ],
          [
           0.45,
           4.675986842105264
          ],
          [
           0.5,
           4.794078947368421
          ],
          [
           0.55,
           4.912171052631579
          ],
          [
           0.6,
           5.030263157894737
          ],
          [
           0.65,
           5.148355263157895
          ],
          [
           0.7,
           5.266447368421052
          ],
          [
           0.75,
           5.38453947368421
          ],
          [
           0.8,
           5.502631578947368
          ],
          [
           0.85,
           5.620723684210526
          ],
          [
           0.9,
           5.7388157894736835
          ],
          [
           0.95,
           5.856907894736842
          ],
          [
           1,
           5.975
          ]
         ],
         "hoverinfo": "y",
         "legendgroup": "petal length (cm)",
         "marker": {
          "color": "hsl(30.0, 99.25%, 55.25%)"
         },
         "mode": "lines+markers",
         "name": "petal length (cm)",
         "type": "scatter",
         "x": [
          -1,
          -0.95,
          -0.9,
          -0.85,
          -0.8,
          -0.75,
          -0.7,
          -0.65,
          -0.6,
          -0.55,
          -0.5,
          -0.45,
          -0.4,
          -0.35,
          -0.3,
          -0.25,
          -0.2,
          -0.15,
          -0.1,
          -0.05,
          0,
          0.05,
          0.1,
          0.15,
          0.2,
          0.25,
          0.3,
          0.35,
          0.4,
          0.45,
          0.5,
          0.55,
          0.6,
          0.65,
          0.7,
          0.75,
          0.8,
          0.85,
          0.9,
          0.95,
          1
         ],
         "xaxis": "x",
         "y": [
          0.9999846202533214,
          0.9955531338809532,
          0.9662825818079123,
          0.9324934418678316,
          0.8985068561851625,
          0.864737105138976,
          0.8312624789218055,
          0.7980971724256877,
          0.7652395196188269,
          0.7326846955136778,
          0.700428283789747,
          0.6684674554661376,
          0.6368015900827629,
          0.605431932238618,
          0.5743620698066602,
          0.5435977982778668,
          0.5131472404082111,
          0.48302100269177584,
          0.45323239903995327,
          0.42379776243038975,
          0.39473684210526333,
          0.36547454493047293,
          0.33665682099110306,
          0.3083199289243901,
          0.28050738687730714,
          0.25327160242046387,
          0.2266759501490714,
          0.20079745308977098,
          0.17573011419094903,
          0.15158939984698847,
          0.12851726904799501,
          0.10668822789321775,
          0.08631504937621548,
          0.0676518200854126,
          0.05098880796463945,
          0.03662911163217967,
          0.02483472813770281,
          0.015737156760233094,
          0.00924205879166759,
          0.004996226941191594,
          0.0024683045450526256
         ],
         "yaxis": "y"
        },
        {
         "customdata": [
          [
           -1,
           0.18500000000000005
          ],
          [
           -0.95,
           0.23351315789473692
          ],
          [
           -0.9,
           0.2820263157894737
          ],
          [
           -0.85,
           0.33053947368421055
          ],
          [
           -0.8,
           0.3790526315789473
          ],
          [
           -0.75,
           0.4275657894736842
          ],
          [
           -0.7,
           0.47607894736842116
          ],
          [
           -0.65,
           0.5245921052631579
          ],
          [
           -0.6,
           0.5731052631578948
          ],
          [
           -0.55,
           0.6216184210526315
          ],
          [
           -0.5,
           0.6701315789473684
          ],
          [
           -0.45,
           0.7186447368421052
          ],
          [
           -0.4,
           0.767157894736842
          ],
          [
           -0.35,
           0.8156710526315789
          ],
          [
           -0.3,
           0.8641842105263158
          ],
          [
           -0.25,
           0.9126973684210526
          ],
          [
           -0.2,
           0.9612105263157894
          ],
          [
           -0.15,
           1.0097236842105262
          ],
          [
           -0.1,
           1.058236842105263
          ],
          [
           -0.05,
           1.10675
          ],
          [
           0,
           1.1552631578947368
          ],
          [
           0.05,
           1.2125
          ],
          [
           0.1,
           1.269736842105263
          ],
          [
           0.15,
           1.3269736842105262
          ],
          [
           0.2,
           1.3842105263157893
          ],
          [
           0.25,
           1.4414473684210525
          ],
          [
           0.3,
           1.4986842105263156
          ],
          [
           0.35,
           1.5559210526315788
          ],
          [
           0.4,
           1.6131578947368421
          ],
          [
           0.45,
           1.670394736842105
          ],
          [
           0.5,
           1.7276315789473684
          ],
          [
           0.55,
           1.7848684210526315
          ],
          [
           0.6,
           1.8421052631578947
          ],
          [
           0.65,
           1.8993421052631578
          ],
          [
           0.7,
           1.956578947368421
          ],
          [
           0.75,
           2.013815789473684
          ],
          [
           0.8,
           2.0710526315789473
          ],
          [
           0.85,
           2.12828947368421
          ],
          [
           0.9,
           2.1855263157894735
          ],
          [
           0.95,
           2.2427631578947365
          ],
          [
           1,
           2.3
          ]
         ],
         "hoverinfo": "y",
         "legendgroup": "petal width (cm)",
         "marker": {
          "color": "hsl(269.0, 43.0%, 42.0%)"
         },
         "mode": "lines+markers",
         "name": "petal width (cm)",
         "type": "scatter",
         "x": [
          -1,
          -0.95,
          -0.9,
          -0.85,
          -0.8,
          -0.75,
          -0.7,
          -0.65,
          -0.6,
          -0.55,
          -0.5,
          -0.45,
          -0.4,
          -0.35,
          -0.3,
          -0.25,
          -0.2,
          -0.15,
          -0.1,
          -0.05,
          0,
          0.05,
          0.1,
          0.15,
          0.2,
          0.25,
          0.3,
          0.35,
          0.4,
          0.45,
          0.5,
          0.55,
          0.6,
          0.65,
          0.7,
          0.75,
          0.8,
          0.85,
          0.9,
          0.95,
          1
         ],
         "xaxis": "x",
         "y": [
          0.9998768850740397,
          0.9844642519885032,
          0.9512696768155341,
          0.9165749810916689,
          0.8821494713234181,
          0.8482390274666556,
          0.8148716843150796,
          0.7820270762427112,
          0.7496792308384171,
          0.7178031165205104,
          0.6863773961633388,
          0.6553846511221602,
          0.6248118187231576,
          0.5946485315875898,
          0.5648879748193801,
          0.5355261122789639,
          0.5065615499284408,
          0.47799543142869966,
          0.449831388765148,
          0.4220756065473982,
          0.39473684210526344,
          0.36303419748764443,
          0.33195281025422396,
          0.30152381024364816,
          0.2717863805128037,
          0.2427890148097984,
          0.21459179866445602,
          0.1872692862005928,
          0.1609145371606387,
          0.13564398653155102,
          0.11160649974200743,
          0.08899247997625606,
          0.06804934590457772,
          0.049100724152505236,
          0.03256779187454211,
          0.01898139235872852,
          0.00893392356720158,
          0.002846543480707305,
          0.0003915722491440408,
          3.764197645535759e-06,
          1.4163982381218577e-43
         ],
         "yaxis": "y"
        },
        {
         "customdata": [
          [
           -1,
           4.6850000000000005
          ],
          [
           -0.95,
           4.744828947368422
          ],
          [
           -0.9,
           4.804657894736843
          ],
          [
           -0.85,
           4.864486842105263
          ],
          [
           -0.8,
           4.924315789473685
          ],
          [
           -0.75,
           4.984144736842106
          ],
          [
           -0.7,
           5.043973684210527
          ],
          [
           -0.65,
           5.103802631578947
          ],
          [
           -0.6,
           5.163631578947369
          ],
          [
           -0.55,
           5.22346052631579
          ],
          [
           -0.5,
           5.283289473684211
          ],
          [
           -0.45,
           5.3431184210526315
          ],
          [
           -0.4,
           5.402947368421053
          ],
          [
           -0.35,
           5.462776315789474
          ],
          [
           -0.3,
           5.522605263157895
          ],
          [
           -0.25,
           5.582434210526316
          ],
          [
           -0.2,
           5.642263157894737
          ],
          [
           -0.15,
           5.702092105263159
          ],
          [
           -0.1,
           5.761921052631579
          ],
          [
           -0.05,
           5.82175
          ],
          [
           0,
           5.881578947368421
          ],
          [
           0.05,
           5.9385
          ],
          [
           0.1,
           5.995421052631579
          ],
          [
           0.15,
           6.052342105263158
          ],
          [
           0.2,
           6.109263157894737
          ],
          [
           0.25,
           6.166184210526316
          ],
          [
           0.3,
           6.223105263157895
          ],
          [
           0.35,
           6.280026315789474
          ],
          [
           0.4,
           6.336947368421052
          ],
          [
           0.45,
           6.393868421052631
          ],
          [
           0.5,
           6.45078947368421
          ],
          [
           0.55,
           6.5077105263157895
          ],
          [
           0.6,
           6.564631578947369
          ],
          [
           0.65,
           6.621552631578947
          ],
          [
           0.7,
           6.678473684210526
          ],
          [
           0.75,
           6.735394736842105
          ],
          [
           0.8,
           6.792315789473684
          ],
          [
           0.85,
           6.849236842105263
          ],
          [
           0.9,
           6.906157894736841
          ],
          [
           0.95,
           6.9630789473684205
          ],
          [
           1,
           7.02
          ]
         ],
         "hoverinfo": "y",
         "legendgroup": "sepal length (cm)",
         "marker": {
          "color": "hsl(97.25, 56.75%, 62.5%)"
         },
         "mode": "lines+markers",
         "name": "sepal length (cm)",
         "showlegend": false,
         "type": "scatter",
         "x": [
          -1,
          -0.95,
          -0.9,
          -0.85,
          -0.8,
          -0.75,
          -0.7,
          -0.65,
          -0.6,
          -0.55,
          -0.5,
          -0.45,
          -0.4,
          -0.35,
          -0.3,
          -0.25,
          -0.2,
          -0.15,
          -0.1,
          -0.05,
          0,
          0.05,
          0.1,
          0.15,
          0.2,
          0.25,
          0.3,
          0.35,
          0.4,
          0.45,
          0.5,
          0.55,
          0.6,
          0.65,
          0.7,
          0.75,
          0.8,
          0.85,
          0.9,
          0.95,
          1
         ],
         "xaxis": "x2",
         "y": [
          0.0131390018244816,
          0.026343089795414495,
          0.04286333911360634,
          0.06108580870464756,
          0.07995510208179088,
          0.09886374844063057,
          0.11746456726832166,
          0.1355540369408598,
          0.15300559259511165,
          0.16973600340824255,
          0.18568655051585278,
          0.2008125810459534,
          0.21507759971951393,
          0.22844954856679314,
          0.2408992842511481,
          0.2523990054389962,
          0.2629218665086626,
          0.2724417689740601,
          0.2809334338093529,
          0.2883726809073976,
          0.2947368421052633,
          0.299774894821067,
          0.3038057296403539,
          0.3068166586026904,
          0.3087983079579569,
          0.30974516395631885,
          0.3096560677950574,
          0.3085346358691328,
          0.30638957477313455,
          0.3032348659680218,
          0.29908980216961123,
          0.29397886693505004,
          0.28793145972464795,
          0.28098147969880427,
          0.27316679138290156,
          0.2645286029654511,
          0.2551107926302155,
          0.24495921970910725,
          0.23412105584718723,
          0.22264416750803648,
          0.21057657609316607
         ],
         "yaxis": "y2"
        },
        {
         "customdata": [
          [
           -1,
           2.5
          ],
          [
           -0.95,
           2.5303947368421054
          ],
          [
           -0.9,
           2.5607894736842107
          ],
          [
           -0.85,
           2.5911842105263156
          ],
          [
           -0.8,
           2.621578947368421
          ],
          [
           -0.75,
           2.6519736842105264
          ],
          [
           -0.7,
           2.6823684210526313
          ],
          [
           -0.65,
           2.7127631578947367
          ],
          [
           -0.6,
           2.743157894736842
          ],
          [
           -0.55,
           2.7735526315789474
          ],
          [
           -0.5,
           2.8039473684210527
          ],
          [
           -0.45,
           2.8343421052631577
          ],
          [
           -0.4,
           2.864736842105263
          ],
          [
           -0.35,
           2.8951315789473684
          ],
          [
           -0.3,
           2.9255263157894733
          ],
          [
           -0.25,
           2.9559210526315787
          ],
          [
           -0.2,
           2.986315789473684
          ],
          [
           -0.15,
           3.0167105263157894
          ],
          [
           -0.1,
           3.0471052631578948
          ],
          [
           -0.05,
           3.0774999999999997
          ],
          [
           0,
           3.107894736842105
          ],
          [
           0.05,
           3.1424999999999996
          ],
          [
           0.1,
           3.1771052631578947
          ],
          [
           0.15,
           3.2117105263157892
          ],
          [
           0.2,
           3.246315789473684
          ],
          [
           0.25,
           3.280921052631579
          ],
          [
           0.3,
           3.3155263157894734
          ],
          [
           0.35,
           3.350131578947368
          ],
          [
           0.4,
           3.384736842105263
          ],
          [
           0.45,
           3.4193421052631576
          ],
          [
           0.5,
           3.453947368421052
          ],
          [
           0.55,
           3.4885526315789472
          ],
          [
           0.6,
           3.523157894736842
          ],
          [
           0.65,
           3.557763157894737
          ],
          [
           0.7,
           3.5923684210526314
          ],
          [
           0.75,
           3.626973684210526
          ],
          [
           0.8,
           3.661578947368421
          ],
          [
           0.85,
           3.6961842105263156
          ],
          [
           0.9,
           3.73078947368421
          ],
          [
           0.95,
           3.7653947368421052
          ],
          [
           1,
           3.8
          ]
         ],
         "hoverinfo": "y",
         "legendgroup": "sepal width (cm)",
         "marker": {
          "color": "hsl(359.5, 85.5%, 64.0%)"
         },
         "mode": "lines+markers",
         "name": "sepal width (cm)",
         "showlegend": false,
         "type": "scatter",
         "x": [
          -1,
          -0.95,
          -0.9,
          -0.85,
          -0.8,
          -0.75,
          -0.7,
          -0.65,
          -0.6,
          -0.55,
          -0.5,
          -0.45,
          -0.4,
          -0.35,
          -0.3,
          -0.25,
          -0.2,
          -0.15,
          -0.1,
          -0.05,
          0,
          0.05,
          0.1,
          0.15,
          0.2,
          0.25,
          0.3,
          0.35,
          0.4,
          0.45,
          0.5,
          0.55,
          0.6,
          0.65,
          0.7,
          0.75,
          0.8,
          0.85,
          0.9,
          0.95,
          1
         ],
         "xaxis": "x2",
         "y": [
          0.6009855731854391,
          0.5850323243502041,
          0.5692917664792726,
          0.5536979411740119,
          0.5381962784722606,
          0.5227424016718764,
          0.5073014761305652,
          0.49184797163691346,
          0.47636571970846375,
          0.46084814223306825,
          0.4452983724198411,
          0.4297300003858661,
          0.4141658256161391,
          0.39863801992002285,
          0.3831865891260057,
          0.367857448506917,
          0.3526999362621068,
          0.3377639889015677,
          0.3230973010437766,
          0.3087427129262808,
          0.2947368421052633,
          0.2792507205733222,
          0.26428289900932356,
          0.24984935754856172,
          0.23595570825005333,
          0.22259836393247148,
          0.20976697467414449,
          0.19744669180023097,
          0.18561933821810528,
          0.17426544802928076,
          0.1633649443178769,
          0.15289796349181214,
          0.14284537006067313,
          0.1331890793157802,
          0.12391233647676267,
          0.11499968802789046,
          0.10643717971743635,
          0.09821229914616043,
          0.09031398260137743,
          0.08273259917514554,
          0.07545994313149751
         ],
         "yaxis": "y2"
        },
        {
         "customdata": [
          [
           -1,
           1.3000000000000003
          ],
          [
           -0.95,
           1.4156578947368423
          ],
          [
           -0.9,
           1.5313157894736844
          ],
          [
           -0.85,
           1.6469736842105267
          ],
          [
           -0.8,
           1.7626315789473685
          ],
          [
           -0.75,
           1.8782894736842108
          ],
          [
           -0.7,
           1.9939473684210531
          ],
          [
           -0.65,
           2.1096052631578948
          ],
          [
           -0.6,
           2.2252631578947373
          ],
          [
           -0.55,
           2.340921052631579
          ],
          [
           -0.5,
           2.4565789473684214
          ],
          [
           -0.45,
           2.5722368421052635
          ],
          [
           -0.4,
           2.6878947368421056
          ],
          [
           -0.35,
           2.803552631578948
          ],
          [
           -0.3,
           2.9192105263157897
          ],
          [
           -0.25,
           3.034868421052632
          ],
          [
           -0.2,
           3.150526315789474
          ],
          [
           -0.15,
           3.2661842105263164
          ],
          [
           -0.1,
           3.3818421052631584
          ],
          [
           -0.05,
           3.4975000000000005
          ],
          [
           0,
           3.6131578947368426
          ],
          [
           0.05,
           3.7312500000000006
          ],
          [
           0.1,
           3.8493421052631582
          ],
          [
           0.15,
           3.9674342105263163
          ],
          [
           0.2,
           4.085526315789474
          ],
          [
           0.25,
           4.2036184210526315
          ],
          [
           0.3,
           4.32171052631579
          ],
          [
           0.35,
           4.439802631578948
          ],
          [
           0.4,
           4.557894736842106
          ],
          [
           0.45,
           4.675986842105264
          ],
          [
           0.5,
           4.794078947368421
          ],
          [
           0.55,
           4.912171052631579
          ],
          [
           0.6,
           5.030263157894737
          ],
          [
           0.65,
           5.148355263157895
          ],
          [
           0.7,
           5.266447368421052
          ],
          [
           0.75,
           5.38453947368421
          ],
          [
           0.8,
           5.502631578947368
          ],
          [
           0.85,
           5.620723684210526
          ],
          [
           0.9,
           5.7388157894736835
          ],
          [
           0.95,
           5.856907894736842
          ],
          [
           1,
           5.975
          ]
         ],
         "hoverinfo": "y",
         "legendgroup": "petal length (cm)",
         "marker": {
          "color": "hsl(30.0, 99.25%, 55.25%)"
         },
         "mode": "lines+markers",
         "name": "petal length (cm)",
         "showlegend": false,
         "type": "scatter",
         "x": [
          -1,
          -0.95,
          -0.9,
          -0.85,
          -0.8,
          -0.75,
          -0.7,
          -0.65,
          -0.6,
          -0.55,
          -0.5,
          -0.45,
          -0.4,
          -0.35,
          -0.3,
          -0.25,
          -0.2,
          -0.15,
          -0.1,
          -0.05,
          0,
          0.05,
          0.1,
          0.15,
          0.2,
          0.25,
          0.3,
          0.35,
          0.4,
          0.45,
          0.5,
          0.55,
          0.6,
          0.65,
          0.7,
          0.75,
          0.8,
          0.85,
          0.9,
          0.95,
          1
         ],
         "xaxis": "x2",
         "y": [
          1.5181117608276927e-05,
          0.0039133700930708585,
          0.02613519421196544,
          0.04909997560406946,
          0.07061657629387003,
          0.09084870333069742,
          0.109976538100229,
          0.12812976794214848,
          0.14539983871046766,
          0.16185158560331478,
          0.17753108650618596,
          0.19247059324775473,
          0.20669157472235677,
          0.22020696802994297,
          0.23302229496743979,
          0.24513656901701544,
          0.2565427426175834,
          0.267227884394523,
          0.27717312223482793,
          0.28635336951021917,
          0.2947368421052633,
          0.3024338786831942,
          0.30920859462895284,
          0.3149997050098832,
          0.31973358907528343,
          0.32332198717166655,
          0.32565912362185195,
          0.3266181626650321,
          0.3260469541014717,
          0.3237631684765156,
          0.3195492686249858,
          0.31314853977399965,
          0.30426502222521995,
          0.2925732513793513,
          0.2777486763098324,
          0.2595349062996647,
          0.23786273806311328,
          0.21300743271859607,
          0.18570921148671285,
          0.1571332873260212,
          0.12862877670037537
         ],
         "yaxis": "y2"
        },
        {
         "customdata": [
          [
           -1,
           0.18500000000000005
          ],
          [
           -0.95,
           0.23351315789473692
          ],
          [
           -0.9,
           0.2820263157894737
          ],
          [
           -0.85,
           0.33053947368421055
          ],
          [
           -0.8,
           0.3790526315789473
          ],
          [
           -0.75,
           0.4275657894736842
          ],
          [
           -0.7,
           0.47607894736842116
          ],
          [
           -0.65,
           0.5245921052631579
          ],
          [
           -0.6,
           0.5731052631578948
          ],
          [
           -0.55,
           0.6216184210526315
          ],
          [
           -0.5,
           0.6701315789473684
          ],
          [
           -0.45,
           0.7186447368421052
          ],
          [
           -0.4,
           0.767157894736842
          ],
          [
           -0.35,
           0.8156710526315789
          ],
          [
           -0.3,
           0.8641842105263158
          ],
          [
           -0.25,
           0.9126973684210526
          ],
          [
           -0.2,
           0.9612105263157894
          ],
          [
           -0.15,
           1.0097236842105262
          ],
          [
           -0.1,
           1.058236842105263
          ],
          [
           -0.05,
           1.10675
          ],
          [
           0,
           1.1552631578947368
          ],
          [
           0.05,
           1.2125
          ],
          [
           0.1,
           1.269736842105263
          ],
          [
           0.15,
           1.3269736842105262
          ],
          [
           0.2,
           1.3842105263157893
          ],
          [
           0.25,
           1.4414473684210525
          ],
          [
           0.3,
           1.4986842105263156
          ],
          [
           0.35,
           1.5559210526315788
          ],
          [
           0.4,
           1.6131578947368421
          ],
          [
           0.45,
           1.670394736842105
          ],
          [
           0.5,
           1.7276315789473684
          ],
          [
           0.55,
           1.7848684210526315
          ],
          [
           0.6,
           1.8421052631578947
          ],
          [
           0.65,
           1.8993421052631578
          ],
          [
           0.7,
           1.956578947368421
          ],
          [
           0.75,
           2.013815789473684
          ],
          [
           0.8,
           2.0710526315789473
          ],
          [
           0.85,
           2.12828947368421
          ],
          [
           0.9,
           2.1855263157894735
          ],
          [
           0.95,
           2.2427631578947365
          ],
          [
           1,
           2.3
          ]
         ],
         "hoverinfo": "y",
         "legendgroup": "petal width (cm)",
         "marker": {
          "color": "hsl(269.0, 43.0%, 42.0%)"
         },
         "mode": "lines+markers",
         "name": "petal width (cm)",
         "showlegend": false,
         "type": "scatter",
         "x": [
          -1,
          -0.95,
          -0.9,
          -0.85,
          -0.8,
          -0.75,
          -0.7,
          -0.65,
          -0.6,
          -0.55,
          -0.5,
          -0.45,
          -0.4,
          -0.35,
          -0.3,
          -0.25,
          -0.2,
          -0.15,
          -0.1,
          -0.05,
          0,
          0.05,
          0.1,
          0.15,
          0.2,
          0.25,
          0.3,
          0.35,
          0.4,
          0.45,
          0.5,
          0.55,
          0.6,
          0.65,
          0.7,
          0.75,
          0.8,
          0.85,
          0.9,
          0.95,
          1
         ],
         "xaxis": "x2",
         "y": [
          0.00011800084551106529,
          0.013841764584521047,
          0.040427915472766834,
          0.06567220799468486,
          0.08887521968742426,
          0.11026620911234657,
          0.13008018273680333,
          0.14850084347424222,
          0.16566508350599865,
          0.1816764969327762,
          0.19661397859645885,
          0.21053789683074256,
          0.22349400589651688,
          0.23551692777189265,
          0.2466316566021296,
          0.25685520024478536,
          0.266197530023203,
          0.2746622205214403,
          0.2822468359036757,
          0.28894308961597115,
          0.29473684210526324,
          0.30038396363064335,
          0.30470154141596884,
          0.30763080207426796,
          0.30909696735365927,
          0.30900644192163274,
          0.30724290706984114,
          0.3036620559872671,
          0.29808447851001635,
          0.29028580948232247,
          0.2799840356549747,
          0.26682166838458204,
          0.25034376484046894,
          0.22997326843523183,
          0.20499536392482767,
          0.1745977291259429,
          0.13810287262615,
          0.09576492139632582,
          0.0507354677206216,
          0.012672954212178147,
          1.0149702975579614e-10
         ],
         "yaxis": "y2"
        },
        {
         "customdata": [
          [
           -1,
           4.6850000000000005
          ],
          [
           -0.95,
           4.744828947368422
          ],
          [
           -0.9,
           4.804657894736843
          ],
          [
           -0.85,
           4.864486842105263
          ],
          [
           -0.8,
           4.924315789473685
          ],
          [
           -0.75,
           4.984144736842106
          ],
          [
           -0.7,
           5.043973684210527
          ],
          [
           -0.65,
           5.103802631578947
          ],
          [
           -0.6,
           5.163631578947369
          ],
          [
           -0.55,
           5.22346052631579
          ],
          [
           -0.5,
           5.283289473684211
          ],
          [
           -0.45,
           5.3431184210526315
          ],
          [
           -0.4,
           5.402947368421053
          ],
          [
           -0.35,
           5.462776315789474
          ],
          [
           -0.3,
           5.522605263157895
          ],
          [
           -0.25,
           5.582434210526316
          ],
          [
           -0.2,
           5.642263157894737
          ],
          [
           -0.15,
           5.702092105263159
          ],
          [
           -0.1,
           5.761921052631579
          ],
          [
           -0.05,
           5.82175
          ],
          [
           0,
           5.881578947368421
          ],
          [
           0.05,
           5.9385
          ],
          [
           0.1,
           5.995421052631579
          ],
          [
           0.15,
           6.052342105263158
          ],
          [
           0.2,
           6.109263157894737
          ],
          [
           0.25,
           6.166184210526316
          ],
          [
           0.3,
           6.223105263157895
          ],
          [
           0.35,
           6.280026315789474
          ],
          [
           0.4,
           6.336947368421052
          ],
          [
           0.45,
           6.393868421052631
          ],
          [
           0.5,
           6.45078947368421
          ],
          [
           0.55,
           6.5077105263157895
          ],
          [
           0.6,
           6.564631578947369
          ],
          [
           0.65,
           6.621552631578947
          ],
          [
           0.7,
           6.678473684210526
          ],
          [
           0.75,
           6.735394736842105
          ],
          [
           0.8,
           6.792315789473684
          ],
          [
           0.85,
           6.849236842105263
          ],
          [
           0.9,
           6.906157894736841
          ],
          [
           0.95,
           6.9630789473684205
          ],
          [
           1,
           7.02
          ]
         ],
         "hoverinfo": "y",
         "legendgroup": "sepal length (cm)",
         "marker": {
          "color": "hsl(97.25, 56.75%, 62.5%)"
         },
         "mode": "lines+markers",
         "name": "sepal length (cm)",
         "showlegend": false,
         "type": "scatter",
         "x": [
          -1,
          -0.95,
          -0.9,
          -0.85,
          -0.8,
          -0.75,
          -0.7,
          -0.65,
          -0.6,
          -0.55,
          -0.5,
          -0.45,
          -0.4,
          -0.35,
          -0.3,
          -0.25,
          -0.2,
          -0.15,
          -0.1,
          -0.05,
          0,
          0.05,
          0.1,
          0.15,
          0.2,
          0.25,
          0.3,
          0.35,
          0.4,
          0.45,
          0.5,
          0.55,
          0.6,
          0.65,
          0.7,
          0.75,
          0.8,
          0.85,
          0.9,
          0.95,
          1
         ],
         "xaxis": "x3",
         "y": [
          0.001548568300679637,
          0.004619037770076819,
          0.009977120599241081,
          0.01754747965913435,
          0.02705589268776951,
          0.03821727136749578,
          0.050789510681402826,
          0.06457925404846075,
          0.0794325093126724,
          0.09522596588324553,
          0.11185932286105091,
          0.12924948597142993,
          0.1473263230702218,
          0.16602910500074466,
          0.18530472412497098,
          0.20510526401330825,
          0.22538679643797996,
          0.2461082359693208,
          0.26723044567104465,
          0.28871554648323955,
          0.31052631578947376,
          0.3315456590814251,
          0.35279463926224197,
          0.37424138669070767,
          0.39585383766544907,
          0.41759978785870655,
          0.4394469892170173,
          0.4613633165442789,
          0.4833169878111652,
          0.5052768240478739,
          0.527212532049469,
          0.5490949914488593,
          0.5708965273644281,
          0.5925911509760869,
          0.6141547529446397,
          0.6355652382447166,
          0.6568025952305809,
          0.6778488960116273,
          0.6986882289086862,
          0.7193065663920306,
          0.739691572979596
         ],
         "yaxis": "y3"
        },
        {
         "customdata": [
          [
           -1,
           2.5
          ],
          [
           -0.95,
           2.5303947368421054
          ],
          [
           -0.9,
           2.5607894736842107
          ],
          [
           -0.85,
           2.5911842105263156
          ],
          [
           -0.8,
           2.621578947368421
          ],
          [
           -0.75,
           2.6519736842105264
          ],
          [
           -0.7,
           2.6823684210526313
          ],
          [
           -0.65,
           2.7127631578947367
          ],
          [
           -0.6,
           2.743157894736842
          ],
          [
           -0.55,
           2.7735526315789474
          ],
          [
           -0.5,
           2.8039473684210527
          ],
          [
           -0.45,
           2.8343421052631577
          ],
          [
           -0.4,
           2.864736842105263
          ],
          [
           -0.35,
           2.8951315789473684
          ],
          [
           -0.3,
           2.9255263157894733
          ],
          [
           -0.25,
           2.9559210526315787
          ],
          [
           -0.2,
           2.986315789473684
          ],
          [
           -0.15,
           3.0167105263157894
          ],
          [
           -0.1,
           3.0471052631578948
          ],
          [
           -0.05,
           3.0774999999999997
          ],
          [
           0,
           3.107894736842105
          ],
          [
           0.05,
           3.1424999999999996
          ],
          [
           0.1,
           3.1771052631578947
          ],
          [
           0.15,
           3.2117105263157892
          ],
          [
           0.2,
           3.246315789473684
          ],
          [
           0.25,
           3.280921052631579
          ],
          [
           0.3,
           3.3155263157894734
          ],
          [
           0.35,
           3.350131578947368
          ],
          [
           0.4,
           3.384736842105263
          ],
          [
           0.45,
           3.4193421052631576
          ],
          [
           0.5,
           3.453947368421052
          ],
          [
           0.55,
           3.4885526315789472
          ],
          [
           0.6,
           3.523157894736842
          ],
          [
           0.65,
           3.557763157894737
          ],
          [
           0.7,
           3.5923684210526314
          ],
          [
           0.75,
           3.626973684210526
          ],
          [
           0.8,
           3.661578947368421
          ],
          [
           0.85,
           3.6961842105263156
          ],
          [
           0.9,
           3.73078947368421
          ],
          [
           0.95,
           3.7653947368421052
          ],
          [
           1,
           3.8
          ]
         ],
         "hoverinfo": "y",
         "legendgroup": "sepal width (cm)",
         "marker": {
          "color": "hsl(359.5, 85.5%, 64.0%)"
         },
         "mode": "lines+markers",
         "name": "sepal width (cm)",
         "showlegend": false,
         "type": "scatter",
         "x": [
          -1,
          -0.95,
          -0.9,
          -0.85,
          -0.8,
          -0.75,
          -0.7,
          -0.65,
          -0.6,
          -0.55,
          -0.5,
          -0.45,
          -0.4,
          -0.35,
          -0.3,
          -0.25,
          -0.2,
          -0.15,
          -0.1,
          -0.05,
          0,
          0.05,
          0.1,
          0.15,
          0.2,
          0.25,
          0.3,
          0.35,
          0.4,
          0.45,
          0.5,
          0.55,
          0.6,
          0.65,
          0.7,
          0.75,
          0.8,
          0.85,
          0.9,
          0.95,
          1
         ],
         "xaxis": "x3",
         "y": [
          0.35618567545749286,
          0.3622226192925592,
          0.3670135756786202,
          0.37063167549743675,
          0.37314169409248565,
          0.3746025182389608,
          0.3750693013984378,
          0.3745953871461595,
          0.37323403522691423,
          0.3710399403850538,
          0.36807046196631243,
          0.3643866640199289,
          0.3600535494725018,
          0.3551400992446083,
          0.34971846526293887,
          0.34386257590295005,
          0.33764622456812027,
          0.3311408651265357,
          0.32441341018753905,
          0.31752428296965135,
          0.31052631578947376,
          0.30248203750891495,
          0.29440551148580957,
          0.2863348223109294,
          0.27829681482647745,
          0.27030860933648165,
          0.26237975398434144,
          0.254514210491429,
          0.24671155127950828,
          0.2389686154595491,
          0.23128022482164767,
          0.2236399234118455,
          0.2160404664906064,
          0.20847414099949846,
          0.20093303642126015,
          0.19340905470179937,
          0.18589408471957466,
          0.1783799549720906,
          0.17085841729160645,
          0.16332108937260162,
          0.15575937887816368
         ],
         "yaxis": "y3"
        },
        {
         "customdata": [
          [
           -1,
           1.3000000000000003
          ],
          [
           -0.95,
           1.4156578947368423
          ],
          [
           -0.9,
           1.5313157894736844
          ],
          [
           -0.85,
           1.6469736842105267
          ],
          [
           -0.8,
           1.7626315789473685
          ],
          [
           -0.75,
           1.8782894736842108
          ],
          [
           -0.7,
           1.9939473684210531
          ],
          [
           -0.65,
           2.1096052631578948
          ],
          [
           -0.6,
           2.2252631578947373
          ],
          [
           -0.55,
           2.340921052631579
          ],
          [
           -0.5,
           2.4565789473684214
          ],
          [
           -0.45,
           2.5722368421052635
          ],
          [
           -0.4,
           2.6878947368421056
          ],
          [
           -0.35,
           2.803552631578948
          ],
          [
           -0.3,
           2.9192105263157897
          ],
          [
           -0.25,
           3.034868421052632
          ],
          [
           -0.2,
           3.150526315789474
          ],
          [
           -0.15,
           3.2661842105263164
          ],
          [
           -0.1,
           3.3818421052631584
          ],
          [
           -0.05,
           3.4975000000000005
          ],
          [
           0,
           3.6131578947368426
          ],
          [
           0.05,
           3.7312500000000006
          ],
          [
           0.1,
           3.8493421052631582
          ],
          [
           0.15,
           3.9674342105263163
          ],
          [
           0.2,
           4.085526315789474
          ],
          [
           0.25,
           4.2036184210526315
          ],
          [
           0.3,
           4.32171052631579
          ],
          [
           0.35,
           4.439802631578948
          ],
          [
           0.4,
           4.557894736842106
          ],
          [
           0.45,
           4.675986842105264
          ],
          [
           0.5,
           4.794078947368421
          ],
          [
           0.55,
           4.912171052631579
          ],
          [
           0.6,
           5.030263157894737
          ],
          [
           0.65,
           5.148355263157895
          ],
          [
           0.7,
           5.266447368421052
          ],
          [
           0.75,
           5.38453947368421
          ],
          [
           0.8,
           5.502631578947368
          ],
          [
           0.85,
           5.620723684210526
          ],
          [
           0.9,
           5.7388157894736835
          ],
          [
           0.95,
           5.856907894736842
          ],
          [
           1,
           5.975
          ]
         ],
         "hoverinfo": "y",
         "legendgroup": "petal length (cm)",
         "marker": {
          "color": "hsl(30.0, 99.25%, 55.25%)"
         },
         "mode": "lines+markers",
         "name": "petal length (cm)",
         "showlegend": false,
         "type": "scatter",
         "x": [
          -1,
          -0.95,
          -0.9,
          -0.85,
          -0.8,
          -0.75,
          -0.7,
          -0.65,
          -0.6,
          -0.55,
          -0.5,
          -0.45,
          -0.4,
          -0.35,
          -0.3,
          -0.25,
          -0.2,
          -0.15,
          -0.1,
          -0.05,
          0,
          0.05,
          0.1,
          0.15,
          0.2,
          0.25,
          0.3,
          0.35,
          0.4,
          0.45,
          0.5,
          0.55,
          0.6,
          0.65,
          0.7,
          0.75,
          0.8,
          0.85,
          0.9,
          0.95,
          1
         ],
         "xaxis": "x3",
         "y": [
          1.9862907019261774e-07,
          0.000533496025975714,
          0.0075822239801222125,
          0.018406582528098934,
          0.030876567520967596,
          0.04441419153032684,
          0.05876098297796566,
          0.07377305963216368,
          0.0893606416707056,
          0.10546371888300751,
          0.12204062970406708,
          0.1390619512861077,
          0.15650683519488043,
          0.17436109973143918,
          0.19261563522590003,
          0.2112656327051182,
          0.23031001697420542,
          0.24975111291370128,
          0.2695944787252188,
          0.289848868059391,
          0.31052631578947376,
          0.3320915763863328,
          0.3541345843799442,
          0.37668036606572686,
          0.39975902404740915,
          0.4234064104078696,
          0.44766492622907655,
          0.47258438424519683,
          0.498222931707579,
          0.5246474316764957,
          0.5519334623270193,
          0.5801632323327828,
          0.6094199283985646,
          0.6397749285352361,
          0.6712625157255284,
          0.7038359820681556,
          0.7373025337991841,
          0.771255410521171,
          0.8050487297216197,
          0.8378704857327874,
          0.8689029187545718
         ],
         "yaxis": "y3"
        },
        {
         "customdata": [
          [
           -1,
           0.18500000000000005
          ],
          [
           -0.95,
           0.23351315789473692
          ],
          [
           -0.9,
           0.2820263157894737
          ],
          [
           -0.85,
           0.33053947368421055
          ],
          [
           -0.8,
           0.3790526315789473
          ],
          [
           -0.75,
           0.4275657894736842
          ],
          [
           -0.7,
           0.47607894736842116
          ],
          [
           -0.65,
           0.5245921052631579
          ],
          [
           -0.6,
           0.5731052631578948
          ],
          [
           -0.55,
           0.6216184210526315
          ],
          [
           -0.5,
           0.6701315789473684
          ],
          [
           -0.45,
           0.7186447368421052
          ],
          [
           -0.4,
           0.767157894736842
          ],
          [
           -0.35,
           0.8156710526315789
          ],
          [
           -0.3,
           0.8641842105263158
          ],
          [
           -0.25,
           0.9126973684210526
          ],
          [
           -0.2,
           0.9612105263157894
          ],
          [
           -0.15,
           1.0097236842105262
          ],
          [
           -0.1,
           1.058236842105263
          ],
          [
           -0.05,
           1.10675
          ],
          [
           0,
           1.1552631578947368
          ],
          [
           0.05,
           1.2125
          ],
          [
           0.1,
           1.269736842105263
          ],
          [
           0.15,
           1.3269736842105262
          ],
          [
           0.2,
           1.3842105263157893
          ],
          [
           0.25,
           1.4414473684210525
          ],
          [
           0.3,
           1.4986842105263156
          ],
          [
           0.35,
           1.5559210526315788
          ],
          [
           0.4,
           1.6131578947368421
          ],
          [
           0.45,
           1.670394736842105
          ],
          [
           0.5,
           1.7276315789473684
          ],
          [
           0.55,
           1.7848684210526315
          ],
          [
           0.6,
           1.8421052631578947
          ],
          [
           0.65,
           1.8993421052631578
          ],
          [
           0.7,
           1.956578947368421
          ],
          [
           0.75,
           2.013815789473684
          ],
          [
           0.8,
           2.0710526315789473
          ],
          [
           0.85,
           2.12828947368421
          ],
          [
           0.9,
           2.1855263157894735
          ],
          [
           0.95,
           2.2427631578947365
          ],
          [
           1,
           2.3
          ]
         ],
         "hoverinfo": "y",
         "legendgroup": "petal width (cm)",
         "marker": {
          "color": "hsl(269.0, 43.0%, 42.0%)"
         },
         "mode": "lines+markers",
         "name": "petal width (cm)",
         "showlegend": false,
         "type": "scatter",
         "x": [
          -1,
          -0.95,
          -0.9,
          -0.85,
          -0.8,
          -0.75,
          -0.7,
          -0.65,
          -0.6,
          -0.55,
          -0.5,
          -0.45,
          -0.4,
          -0.35,
          -0.3,
          -0.25,
          -0.2,
          -0.15,
          -0.1,
          -0.05,
          0,
          0.05,
          0.1,
          0.15,
          0.2,
          0.25,
          0.3,
          0.35,
          0.4,
          0.45,
          0.5,
          0.55,
          0.6,
          0.65,
          0.7,
          0.75,
          0.8,
          0.85,
          0.9,
          0.95,
          1
         ],
         "xaxis": "x3",
         "y": [
          5.114080449523288e-06,
          0.001693983426975645,
          0.008302407711699227,
          0.017752810913646295,
          0.0289753089891578,
          0.0414947634209978,
          0.055048132948116925,
          0.06947208028304645,
          0.08465568565558411,
          0.1005203865467133,
          0.1170086252402025,
          0.1340774520470974,
          0.15169417538032554,
          0.16983454064051753,
          0.1884803685784902,
          0.20761868747625084,
          0.22724092004835625,
          0.24734234804986036,
          0.26792177533117634,
          0.2889813038366307,
          0.3105263157894736,
          0.33658183888171217,
          0.3633456483298072,
          0.3908453876820841,
          0.4191166521335371,
          0.44820454326856884,
          0.47816529426570303,
          0.50906865781214,
          0.5410009843293448,
          0.5740702039861267,
          0.608409464603018,
          0.6441858516391616,
          0.6816068892549534,
          0.7209260074122632,
          0.7624368442006302,
          0.8064208785153288,
          0.8529632038066484,
          0.9013885351229668,
          0.9488729600302342,
          0.9873232815901763,
          0.999999999898503
         ],
         "yaxis": "y3"
        }
       ],
       "layout": {
        "height": 1000,
        "plot_bgcolor": "white",
        "template": {
         "data": {
          "bar": [
           {
            "error_x": {
             "color": "#2a3f5f"
            },
            "error_y": {
             "color": "#2a3f5f"
            },
            "marker": {
             "line": {
              "color": "#E5ECF6",
              "width": 0.5
             }
            },
            "type": "bar"
           }
          ],
          "barpolar": [
           {
            "marker": {
             "line": {
              "color": "#E5ECF6",
              "width": 0.5
             }
            },
            "type": "barpolar"
           }
          ],
          "carpet": [
           {
            "aaxis": {
             "endlinecolor": "#2a3f5f",
             "gridcolor": "white",
             "linecolor": "white",
             "minorgridcolor": "white",
             "startlinecolor": "#2a3f5f"
            },
            "baxis": {
             "endlinecolor": "#2a3f5f",
             "gridcolor": "white",
             "linecolor": "white",
             "minorgridcolor": "white",
             "startlinecolor": "#2a3f5f"
            },
            "type": "carpet"
           }
          ],
          "choropleth": [
           {
            "colorbar": {
             "outlinewidth": 0,
             "ticks": ""
            },
            "type": "choropleth"
           }
          ],
          "contour": [
           {
            "colorbar": {
             "outlinewidth": 0,
             "ticks": ""
            },
            "colorscale": [
             [
              0,
              "#0d0887"
             ],
             [
              0.1111111111111111,
              "#46039f"
             ],
             [
              0.2222222222222222,
              "#7201a8"
             ],
             [
              0.3333333333333333,
              "#9c179e"
             ],
             [
              0.4444444444444444,
              "#bd3786"
             ],
             [
              0.5555555555555556,
              "#d8576b"
             ],
             [
              0.6666666666666666,
              "#ed7953"
             ],
             [
              0.7777777777777778,
              "#fb9f3a"
             ],
             [
              0.8888888888888888,
              "#fdca26"
             ],
             [
              1,
              "#f0f921"
             ]
            ],
            "type": "contour"
           }
          ],
          "contourcarpet": [
           {
            "colorbar": {
             "outlinewidth": 0,
             "ticks": ""
            },
            "type": "contourcarpet"
           }
          ],
          "heatmap": [
           {
            "colorbar": {
             "outlinewidth": 0,
             "ticks": ""
            },
            "colorscale": [
             [
              0,
              "#0d0887"
             ],
             [
              0.1111111111111111,
              "#46039f"
             ],
             [
              0.2222222222222222,
              "#7201a8"
             ],
             [
              0.3333333333333333,
              "#9c179e"
             ],
             [
              0.4444444444444444,
              "#bd3786"
             ],
             [
              0.5555555555555556,
              "#d8576b"
             ],
             [
              0.6666666666666666,
              "#ed7953"
             ],
             [
              0.7777777777777778,
              "#fb9f3a"
             ],
             [
              0.8888888888888888,
              "#fdca26"
             ],
             [
              1,
              "#f0f921"
             ]
            ],
            "type": "heatmap"
           }
          ],
          "heatmapgl": [
           {
            "colorbar": {
             "outlinewidth": 0,
             "ticks": ""
            },
            "colorscale": [
             [
              0,
              "#0d0887"
             ],
             [
              0.1111111111111111,
              "#46039f"
             ],
             [
              0.2222222222222222,
              "#7201a8"
             ],
             [
              0.3333333333333333,
              "#9c179e"
             ],
             [
              0.4444444444444444,
              "#bd3786"
             ],
             [
              0.5555555555555556,
              "#d8576b"
             ],
             [
              0.6666666666666666,
              "#ed7953"
             ],
             [
              0.7777777777777778,
              "#fb9f3a"
             ],
             [
              0.8888888888888888,
              "#fdca26"
             ],
             [
              1,
              "#f0f921"
             ]
            ],
            "type": "heatmapgl"
           }
          ],
          "histogram": [
           {
            "marker": {
             "colorbar": {
              "outlinewidth": 0,
              "ticks": ""
             }
            },
            "type": "histogram"
           }
          ],
          "histogram2d": [
           {
            "colorbar": {
             "outlinewidth": 0,
             "ticks": ""
            },
            "colorscale": [
             [
              0,
              "#0d0887"
             ],
             [
              0.1111111111111111,
              "#46039f"
             ],
             [
              0.2222222222222222,
              "#7201a8"
             ],
             [
              0.3333333333333333,
              "#9c179e"
             ],
             [
              0.4444444444444444,
              "#bd3786"
             ],
             [
              0.5555555555555556,
              "#d8576b"
             ],
             [
              0.6666666666666666,
              "#ed7953"
             ],
             [
              0.7777777777777778,
              "#fb9f3a"
             ],
             [
              0.8888888888888888,
              "#fdca26"
             ],
             [
              1,
              "#f0f921"
             ]
            ],
            "type": "histogram2d"
           }
          ],
          "histogram2dcontour": [
           {
            "colorbar": {
             "outlinewidth": 0,
             "ticks": ""
            },
            "colorscale": [
             [
              0,
              "#0d0887"
             ],
             [
              0.1111111111111111,
              "#46039f"
             ],
             [
              0.2222222222222222,
              "#7201a8"
             ],
             [
              0.3333333333333333,
              "#9c179e"
             ],
             [
              0.4444444444444444,
              "#bd3786"
             ],
             [
              0.5555555555555556,
              "#d8576b"
             ],
             [
              0.6666666666666666,
              "#ed7953"
             ],
             [
              0.7777777777777778,
              "#fb9f3a"
             ],
             [
              0.8888888888888888,
              "#fdca26"
             ],
             [
              1,
              "#f0f921"
             ]
            ],
            "type": "histogram2dcontour"
           }
          ],
          "mesh3d": [
           {
            "colorbar": {
             "outlinewidth": 0,
             "ticks": ""
            },
            "type": "mesh3d"
           }
          ],
          "parcoords": [
           {
            "line": {
             "colorbar": {
              "outlinewidth": 0,
              "ticks": ""
             }
            },
            "type": "parcoords"
           }
          ],
          "scatter": [
           {
            "marker": {
             "colorbar": {
              "outlinewidth": 0,
              "ticks": ""
             }
            },
            "type": "scatter"
           }
          ],
          "scatter3d": [
           {
            "line": {
             "colorbar": {
              "outlinewidth": 0,
              "ticks": ""
             }
            },
            "marker": {
             "colorbar": {
              "outlinewidth": 0,
              "ticks": ""
             }
            },
            "type": "scatter3d"
           }
          ],
          "scattercarpet": [
           {
            "marker": {
             "colorbar": {
              "outlinewidth": 0,
              "ticks": ""
             }
            },
            "type": "scattercarpet"
           }
          ],
          "scattergeo": [
           {
            "marker": {
             "colorbar": {
              "outlinewidth": 0,
              "ticks": ""
             }
            },
            "type": "scattergeo"
           }
          ],
          "scattergl": [
           {
            "marker": {
             "colorbar": {
              "outlinewidth": 0,
              "ticks": ""
             }
            },
            "type": "scattergl"
           }
          ],
          "scattermapbox": [
           {
            "marker": {
             "colorbar": {
              "outlinewidth": 0,
              "ticks": ""
             }
            },
            "type": "scattermapbox"
           }
          ],
          "scatterpolar": [
           {
            "marker": {
             "colorbar": {
              "outlinewidth": 0,
              "ticks": ""
             }
            },
            "type": "scatterpolar"
           }
          ],
          "scatterpolargl": [
           {
            "marker": {
             "colorbar": {
              "outlinewidth": 0,
              "ticks": ""
             }
            },
            "type": "scatterpolargl"
           }
          ],
          "scatterternary": [
           {
            "marker": {
             "colorbar": {
              "outlinewidth": 0,
              "ticks": ""
             }
            },
            "type": "scatterternary"
           }
          ],
          "surface": [
           {
            "colorbar": {
             "outlinewidth": 0,
             "ticks": ""
            },
            "colorscale": [
             [
              0,
              "#0d0887"
             ],
             [
              0.1111111111111111,
              "#46039f"
             ],
             [
              0.2222222222222222,
              "#7201a8"
             ],
             [
              0.3333333333333333,
              "#9c179e"
             ],
             [
              0.4444444444444444,
              "#bd3786"
             ],
             [
              0.5555555555555556,
              "#d8576b"
             ],
             [
              0.6666666666666666,
              "#ed7953"
             ],
             [
              0.7777777777777778,
              "#fb9f3a"
             ],
             [
              0.8888888888888888,
              "#fdca26"
             ],
             [
              1,
              "#f0f921"
             ]
            ],
            "type": "surface"
           }
          ],
          "table": [
           {
            "cells": {
             "fill": {
              "color": "#EBF0F8"
             },
             "line": {
              "color": "white"
             }
            },
            "header": {
             "fill": {
              "color": "#C8D4E3"
             },
             "line": {
              "color": "white"
             }
            },
            "type": "table"
           }
          ]
         },
         "layout": {
          "annotationdefaults": {
           "arrowcolor": "#2a3f5f",
           "arrowhead": 0,
           "arrowwidth": 1
          },
          "colorscale": {
           "diverging": [
            [
             0,
             "#8e0152"
            ],
            [
             0.1,
             "#c51b7d"
            ],
            [
             0.2,
             "#de77ae"
            ],
            [
             0.3,
             "#f1b6da"
            ],
            [
             0.4,
             "#fde0ef"
            ],
            [
             0.5,
             "#f7f7f7"
            ],
            [
             0.6,
             "#e6f5d0"
            ],
            [
             0.7,
             "#b8e186"
            ],
            [
             0.8,
             "#7fbc41"
            ],
            [
             0.9,
             "#4d9221"
            ],
            [
             1,
             "#276419"
            ]
           ],
           "sequential": [
            [
             0,
             "#0d0887"
            ],
            [
             0.1111111111111111,
             "#46039f"
            ],
            [
             0.2222222222222222,
             "#7201a8"
            ],
            [
             0.3333333333333333,
             "#9c179e"
            ],
            [
             0.4444444444444444,
             "#bd3786"
            ],
            [
             0.5555555555555556,
             "#d8576b"
            ],
            [
             0.6666666666666666,
             "#ed7953"
            ],
            [
             0.7777777777777778,
             "#fb9f3a"
            ],
            [
             0.8888888888888888,
             "#fdca26"
            ],
            [
             1,
             "#f0f921"
            ]
           ],
           "sequentialminus": [
            [
             0,
             "#0d0887"
            ],
            [
             0.1111111111111111,
             "#46039f"
            ],
            [
             0.2222222222222222,
             "#7201a8"
            ],
            [
             0.3333333333333333,
             "#9c179e"
            ],
            [
             0.4444444444444444,
             "#bd3786"
            ],
            [
             0.5555555555555556,
             "#d8576b"
            ],
            [
             0.6666666666666666,
             "#ed7953"
            ],
            [
             0.7777777777777778,
             "#fb9f3a"
            ],
            [
             0.8888888888888888,
             "#fdca26"
            ],
            [
             1,
             "#f0f921"
            ]
           ]
          },
          "colorway": [
           "#636efa",
           "#EF553B",
           "#00cc96",
           "#ab63fa",
           "#FFA15A",
           "#19d3f3",
           "#FF6692",
           "#B6E880",
           "#FF97FF",
           "#FECB52"
          ],
          "font": {
           "color": "#2a3f5f"
          },
          "geo": {
           "bgcolor": "white",
           "lakecolor": "white",
           "landcolor": "#E5ECF6",
           "showlakes": true,
           "showland": true,
           "subunitcolor": "white"
          },
          "hoverlabel": {
           "align": "left"
          },
          "hovermode": "closest",
          "mapbox": {
           "style": "light"
          },
          "paper_bgcolor": "white",
          "plot_bgcolor": "#E5ECF6",
          "polar": {
           "angularaxis": {
            "gridcolor": "white",
            "linecolor": "white",
            "ticks": ""
           },
           "bgcolor": "#E5ECF6",
           "radialaxis": {
            "gridcolor": "white",
            "linecolor": "white",
            "ticks": ""
           }
          },
          "scene": {
           "xaxis": {
            "backgroundcolor": "#E5ECF6",
            "gridcolor": "white",
            "gridwidth": 2,
            "linecolor": "white",
            "showbackground": true,
            "ticks": "",
            "zerolinecolor": "white"
           },
           "yaxis": {
            "backgroundcolor": "#E5ECF6",
            "gridcolor": "white",
            "gridwidth": 2,
            "linecolor": "white",
            "showbackground": true,
            "ticks": "",
            "zerolinecolor": "white"
           },
           "zaxis": {
            "backgroundcolor": "#E5ECF6",
            "gridcolor": "white",
            "gridwidth": 2,
            "linecolor": "white",
            "showbackground": true,
            "ticks": "",
            "zerolinecolor": "white"
           }
          },
          "shapedefaults": {
           "line": {
            "color": "#2a3f5f"
           }
          },
          "ternary": {
           "aaxis": {
            "gridcolor": "white",
            "linecolor": "white",
            "ticks": ""
           },
           "baxis": {
            "gridcolor": "white",
            "linecolor": "white",
            "ticks": ""
           },
           "bgcolor": "#E5ECF6",
           "caxis": {
            "gridcolor": "white",
            "linecolor": "white",
            "ticks": ""
           }
          },
          "title": {
           "x": 0.05
          },
          "xaxis": {
           "automargin": true,
           "gridcolor": "white",
           "linecolor": "white",
           "ticks": "",
           "zerolinecolor": "white",
           "zerolinewidth": 2
          },
          "yaxis": {
           "automargin": true,
           "gridcolor": "white",
           "linecolor": "white",
           "ticks": "",
           "zerolinecolor": "white",
           "zerolinewidth": 2
          }
         }
        },
        "xaxis": {
         "anchor": "y",
         "domain": [
          0,
          1
         ],
         "gridcolor": "#eee",
         "linecolor": "black",
         "matches": "x3",
         "nticks": 5,
         "showgrid": true,
         "showline": true,
         "showticklabels": false,
         "zeroline": false
        },
        "xaxis2": {
         "anchor": "y2",
         "domain": [
          0,
          1
         ],
         "gridcolor": "#eee",
         "linecolor": "black",
         "matches": "x3",
         "nticks": 5,
         "showgrid": true,
         "showline": true,
         "showticklabels": false,
         "zeroline": false
        },
        "xaxis3": {
         "anchor": "y3",
         "domain": [
          0,
          1
         ],
         "gridcolor": "#eee",
         "linecolor": "black",
         "nticks": 5,
         "showgrid": true,
         "showline": true,
         "title": {
          "text": "tau"
         },
         "zeroline": false
        },
        "yaxis": {
         "anchor": "x",
         "domain": [
          0.7333333333333333,
          1
         ],
         "gridcolor": "#eee",
         "linecolor": "black",
         "range": [
          0,
          1
         ],
         "showgrid": true,
         "showline": true,
         "title": {
          "text": "Average setosa"
         }
        },
        "yaxis2": {
         "anchor": "x2",
         "domain": [
          0.36666666666666664,
          0.6333333333333333
         ],
         "gridcolor": "#eee",
         "linecolor": "black",
         "range": [
          0,
          1
         ],
         "showgrid": true,
         "showline": true,
         "title": {
          "text": "Average versicolor"
         }
        },
        "yaxis3": {
         "anchor": "x3",
         "domain": [
          0,
          0.26666666666666666
         ],
         "gridcolor": "#eee",
         "linecolor": "black",
         "range": [
          0,
          1
         ],
         "showgrid": true,
         "showline": true,
         "title": {
          "text": "Average virginica"
         }
        }
       }
      },
      "text/html": [
       "<div>\n",
       "        \n",
       "        \n",
       "            <div id=\"30e41a47-bb97-4620-8278-67146dd3ed73\" class=\"plotly-graph-div\" style=\"height:1000px; width:100%;\"></div>\n",
       "            <script type=\"text/javascript\">\n",
       "                require([\"plotly\"], function(Plotly) {\n",
       "                    window.PLOTLYENV=window.PLOTLYENV || {};\n",
       "                    \n",
       "                if (document.getElementById(\"30e41a47-bb97-4620-8278-67146dd3ed73\")) {\n",
       "                    Plotly.newPlot(\n",
       "                        '30e41a47-bb97-4620-8278-67146dd3ed73',\n",
       "                        [{\"customdata\": [[-1.0, 4.6850000000000005], [-0.95, 4.744828947368422], [-0.9, 4.804657894736843], [-0.85, 4.864486842105263], [-0.8, 4.924315789473685], [-0.75, 4.984144736842106], [-0.7, 5.043973684210527], [-0.65, 5.103802631578947], [-0.6, 5.163631578947369], [-0.55, 5.22346052631579], [-0.5, 5.283289473684211], [-0.45, 5.3431184210526315], [-0.4, 5.402947368421053], [-0.35, 5.462776315789474], [-0.3, 5.522605263157895], [-0.25, 5.582434210526316], [-0.2, 5.642263157894737], [-0.15, 5.702092105263159], [-0.1, 5.761921052631579], [-0.05, 5.82175], [0.0, 5.881578947368421], [0.05, 5.9385], [0.1, 5.995421052631579], [0.15, 6.052342105263158], [0.2, 6.109263157894737], [0.25, 6.166184210526316], [0.3, 6.223105263157895], [0.35, 6.280026315789474], [0.4, 6.336947368421052], [0.45, 6.393868421052631], [0.5, 6.45078947368421], [0.55, 6.5077105263157895], [0.6, 6.564631578947369], [0.65, 6.621552631578947], [0.7, 6.678473684210526], [0.75, 6.735394736842105], [0.8, 6.792315789473684], [0.85, 6.849236842105263], [0.9, 6.906157894736841], [0.95, 6.9630789473684205], [1.0, 7.02]], \"hoverinfo\": \"y\", \"legendgroup\": \"sepal length (cm)\", \"marker\": {\"color\": \"hsl(97.25, 56.75%, 62.5%)\"}, \"mode\": \"lines+markers\", \"name\": \"sepal length (cm)\", \"type\": \"scatter\", \"x\": [-1.0, -0.95, -0.9, -0.85, -0.8, -0.75, -0.7, -0.65, -0.6, -0.55, -0.5, -0.45, -0.4, -0.35, -0.3, -0.25, -0.2, -0.15, -0.1, -0.05, 0.0, 0.05, 0.1, 0.15, 0.2, 0.25, 0.3, 0.35, 0.4, 0.45, 0.5, 0.55, 0.6, 0.65, 0.7, 0.75, 0.8, 0.85, 0.9, 0.95, 1.0], \"xaxis\": \"x\", \"y\": [0.9853124298748387, 0.9690378724345088, 0.9471595402871524, 0.9213667116362181, 0.8929890052304397, 0.8629189801918735, 0.8317459220502755, 0.7998667090106795, 0.7675618980922161, 0.7350380307085117, 0.7024541266230963, 0.6699379329826167, 0.6375960772102641, 0.6055213464324622, 0.5737959916238811, 0.5424957305476956, 0.5116913370533572, 0.48144999505661895, 0.4518361205196024, 0.4229117726093628, 0.39473684210526333, 0.36867944609750797, 0.34339963109740423, 0.31894195470660197, 0.29534785437659394, 0.2726550481849747, 0.2508969429879255, 0.23010204758658828, 0.21029343741570014, 0.19148830998410432, 0.17369766578091952, 0.15692614161609086, 0.14117201291092396, 0.1264273693251087, 0.1126784556724586, 0.09990615878983221, 0.08808661213920363, 0.07719188427926524, 0.06719071524412652, 0.05804926609993295, 0.049731850927237975], \"yaxis\": \"y\"}, {\"customdata\": [[-1.0, 2.5], [-0.95, 2.5303947368421054], [-0.9, 2.5607894736842107], [-0.85, 2.5911842105263156], [-0.8, 2.621578947368421], [-0.75, 2.6519736842105264], [-0.7, 2.6823684210526313], [-0.65, 2.7127631578947367], [-0.6, 2.743157894736842], [-0.55, 2.7735526315789474], [-0.5, 2.8039473684210527], [-0.45, 2.8343421052631577], [-0.4, 2.864736842105263], [-0.35, 2.8951315789473684], [-0.3, 2.9255263157894733], [-0.25, 2.9559210526315787], [-0.2, 2.986315789473684], [-0.15, 3.0167105263157894], [-0.1, 3.0471052631578948], [-0.05, 3.0774999999999997], [0.0, 3.107894736842105], [0.05, 3.1424999999999996], [0.1, 3.1771052631578947], [0.15, 3.2117105263157892], [0.2, 3.246315789473684], [0.25, 3.280921052631579], [0.3, 3.3155263157894734], [0.35, 3.350131578947368], [0.4, 3.384736842105263], [0.45, 3.4193421052631576], [0.5, 3.453947368421052], [0.55, 3.4885526315789472], [0.6, 3.523157894736842], [0.65, 3.557763157894737], [0.7, 3.5923684210526314], [0.75, 3.626973684210526], [0.8, 3.661578947368421], [0.85, 3.6961842105263156], [0.9, 3.73078947368421], [0.95, 3.7653947368421052], [1.0, 3.8]], \"hoverinfo\": \"y\", \"legendgroup\": \"sepal width (cm)\", \"marker\": {\"color\": \"hsl(359.5, 85.5%, 64.0%)\"}, \"mode\": \"lines+markers\", \"name\": \"sepal width (cm)\", \"type\": \"scatter\", \"x\": [-1.0, -0.95, -0.9, -0.85, -0.8, -0.75, -0.7, -0.65, -0.6, -0.55, -0.5, -0.45, -0.4, -0.35, -0.3, -0.25, -0.2, -0.15, -0.1, -0.05, 0.0, 0.05, 0.1, 0.15, 0.2, 0.25, 0.3, 0.35, 0.4, 0.45, 0.5, 0.55, 0.6, 0.65, 0.7, 0.75, 0.8, 0.85, 0.9, 0.95, 1.0], \"xaxis\": \"x\", \"y\": [0.042828751357068054, 0.05274505635723684, 0.06369465784210729, 0.07567038332855135, 0.08866202743525381, 0.10265508008916306, 0.1176292224709973, 0.133556641216927, 0.15040024506462202, 0.16811191738187797, 0.18663116561384654, 0.20588333559420496, 0.22578062491135925, 0.24622188083536875, 0.2670949456110555, 0.2882799755901328, 0.3096538391697732, 0.3310951459718967, 0.3524892887686845, 0.373733004104068, 0.39473684210526333, 0.4182672419177628, 0.44131158950486704, 0.46381582014050887, 0.4857474769234695, 0.507093026731047, 0.527853271341514, 0.54803909770834, 0.5676691105023868, 0.58676593651117, 0.6053548308604755, 0.6234621130963424, 0.6411141634487204, 0.6583367796847216, 0.6751546271019772, 0.6915912572703101, 0.7076687355629889, 0.7234077458817488, 0.7388276001070162, 0.753946311452253, 0.7687806779903388], \"yaxis\": \"y\"}, {\"customdata\": [[-1.0, 1.3000000000000003], [-0.95, 1.4156578947368423], [-0.9, 1.5313157894736844], [-0.85, 1.6469736842105267], [-0.8, 1.7626315789473685], [-0.75, 1.8782894736842108], [-0.7, 1.9939473684210531], [-0.65, 2.1096052631578948], [-0.6, 2.2252631578947373], [-0.55, 2.340921052631579], [-0.5, 2.4565789473684214], [-0.45, 2.5722368421052635], [-0.4, 2.6878947368421056], [-0.35, 2.803552631578948], [-0.3, 2.9192105263157897], [-0.25, 3.034868421052632], [-0.2, 3.150526315789474], [-0.15, 3.2661842105263164], [-0.1, 3.3818421052631584], [-0.05, 3.4975000000000005], [0.0, 3.6131578947368426], [0.05, 3.7312500000000006], [0.1, 3.8493421052631582], [0.15, 3.9674342105263163], [0.2, 4.085526315789474], [0.25, 4.2036184210526315], [0.3, 4.32171052631579], [0.35, 4.439802631578948], [0.4, 4.557894736842106], [0.45, 4.675986842105264], [0.5, 4.794078947368421], [0.55, 4.912171052631579], [0.6, 5.030263157894737], [0.65, 5.148355263157895], [0.7, 5.266447368421052], [0.75, 5.38453947368421], [0.8, 5.502631578947368], [0.85, 5.620723684210526], [0.9, 5.7388157894736835], [0.95, 5.856907894736842], [1.0, 5.975]], \"hoverinfo\": \"y\", \"legendgroup\": \"petal length (cm)\", \"marker\": {\"color\": \"hsl(30.0, 99.25%, 55.25%)\"}, \"mode\": \"lines+markers\", \"name\": \"petal length (cm)\", \"type\": \"scatter\", \"x\": [-1.0, -0.95, -0.9, -0.85, -0.8, -0.75, -0.7, -0.65, -0.6, -0.55, -0.5, -0.45, -0.4, -0.35, -0.3, -0.25, -0.2, -0.15, -0.1, -0.05, 0.0, 0.05, 0.1, 0.15, 0.2, 0.25, 0.3, 0.35, 0.4, 0.45, 0.5, 0.55, 0.6, 0.65, 0.7, 0.75, 0.8, 0.85, 0.9, 0.95, 1.0], \"xaxis\": \"x\", \"y\": [0.9999846202533214, 0.9955531338809532, 0.9662825818079123, 0.9324934418678316, 0.8985068561851625, 0.864737105138976, 0.8312624789218055, 0.7980971724256877, 0.7652395196188269, 0.7326846955136778, 0.700428283789747, 0.6684674554661376, 0.6368015900827629, 0.605431932238618, 0.5743620698066602, 0.5435977982778668, 0.5131472404082111, 0.48302100269177584, 0.45323239903995327, 0.42379776243038975, 0.39473684210526333, 0.36547454493047293, 0.33665682099110306, 0.3083199289243901, 0.28050738687730714, 0.25327160242046387, 0.2266759501490714, 0.20079745308977098, 0.17573011419094903, 0.15158939984698847, 0.12851726904799501, 0.10668822789321775, 0.08631504937621548, 0.0676518200854126, 0.05098880796463945, 0.03662911163217967, 0.02483472813770281, 0.015737156760233094, 0.00924205879166759, 0.004996226941191594, 0.0024683045450526256], \"yaxis\": \"y\"}, {\"customdata\": [[-1.0, 0.18500000000000005], [-0.95, 0.23351315789473692], [-0.9, 0.2820263157894737], [-0.85, 0.33053947368421055], [-0.8, 0.3790526315789473], [-0.75, 0.4275657894736842], [-0.7, 0.47607894736842116], [-0.65, 0.5245921052631579], [-0.6, 0.5731052631578948], [-0.55, 0.6216184210526315], [-0.5, 0.6701315789473684], [-0.45, 0.7186447368421052], [-0.4, 0.767157894736842], [-0.35, 0.8156710526315789], [-0.3, 0.8641842105263158], [-0.25, 0.9126973684210526], [-0.2, 0.9612105263157894], [-0.15, 1.0097236842105262], [-0.1, 1.058236842105263], [-0.05, 1.10675], [0.0, 1.1552631578947368], [0.05, 1.2125], [0.1, 1.269736842105263], [0.15, 1.3269736842105262], [0.2, 1.3842105263157893], [0.25, 1.4414473684210525], [0.3, 1.4986842105263156], [0.35, 1.5559210526315788], [0.4, 1.6131578947368421], [0.45, 1.670394736842105], [0.5, 1.7276315789473684], [0.55, 1.7848684210526315], [0.6, 1.8421052631578947], [0.65, 1.8993421052631578], [0.7, 1.956578947368421], [0.75, 2.013815789473684], [0.8, 2.0710526315789473], [0.85, 2.12828947368421], [0.9, 2.1855263157894735], [0.95, 2.2427631578947365], [1.0, 2.3]], \"hoverinfo\": \"y\", \"legendgroup\": \"petal width (cm)\", \"marker\": {\"color\": \"hsl(269.0, 43.0%, 42.0%)\"}, \"mode\": \"lines+markers\", \"name\": \"petal width (cm)\", \"type\": \"scatter\", \"x\": [-1.0, -0.95, -0.9, -0.85, -0.8, -0.75, -0.7, -0.65, -0.6, -0.55, -0.5, -0.45, -0.4, -0.35, -0.3, -0.25, -0.2, -0.15, -0.1, -0.05, 0.0, 0.05, 0.1, 0.15, 0.2, 0.25, 0.3, 0.35, 0.4, 0.45, 0.5, 0.55, 0.6, 0.65, 0.7, 0.75, 0.8, 0.85, 0.9, 0.95, 1.0], \"xaxis\": \"x\", \"y\": [0.9998768850740397, 0.9844642519885032, 0.9512696768155341, 0.9165749810916689, 0.8821494713234181, 0.8482390274666556, 0.8148716843150796, 0.7820270762427112, 0.7496792308384171, 0.7178031165205104, 0.6863773961633388, 0.6553846511221602, 0.6248118187231576, 0.5946485315875898, 0.5648879748193801, 0.5355261122789639, 0.5065615499284408, 0.47799543142869966, 0.449831388765148, 0.4220756065473982, 0.39473684210526344, 0.36303419748764443, 0.33195281025422396, 0.30152381024364816, 0.2717863805128037, 0.2427890148097984, 0.21459179866445602, 0.1872692862005928, 0.1609145371606387, 0.13564398653155102, 0.11160649974200743, 0.08899247997625606, 0.06804934590457772, 0.049100724152505236, 0.03256779187454211, 0.01898139235872852, 0.00893392356720158, 0.002846543480707305, 0.0003915722491440408, 3.764197645535759e-06, 1.4163982381218577e-43], \"yaxis\": \"y\"}, {\"customdata\": [[-1.0, 4.6850000000000005], [-0.95, 4.744828947368422], [-0.9, 4.804657894736843], [-0.85, 4.864486842105263], [-0.8, 4.924315789473685], [-0.75, 4.984144736842106], [-0.7, 5.043973684210527], [-0.65, 5.103802631578947], [-0.6, 5.163631578947369], [-0.55, 5.22346052631579], [-0.5, 5.283289473684211], [-0.45, 5.3431184210526315], [-0.4, 5.402947368421053], [-0.35, 5.462776315789474], [-0.3, 5.522605263157895], [-0.25, 5.582434210526316], [-0.2, 5.642263157894737], [-0.15, 5.702092105263159], [-0.1, 5.761921052631579], [-0.05, 5.82175], [0.0, 5.881578947368421], [0.05, 5.9385], [0.1, 5.995421052631579], [0.15, 6.052342105263158], [0.2, 6.109263157894737], [0.25, 6.166184210526316], [0.3, 6.223105263157895], [0.35, 6.280026315789474], [0.4, 6.336947368421052], [0.45, 6.393868421052631], [0.5, 6.45078947368421], [0.55, 6.5077105263157895], [0.6, 6.564631578947369], [0.65, 6.621552631578947], [0.7, 6.678473684210526], [0.75, 6.735394736842105], [0.8, 6.792315789473684], [0.85, 6.849236842105263], [0.9, 6.906157894736841], [0.95, 6.9630789473684205], [1.0, 7.02]], \"hoverinfo\": \"y\", \"legendgroup\": \"sepal length (cm)\", \"marker\": {\"color\": \"hsl(97.25, 56.75%, 62.5%)\"}, \"mode\": \"lines+markers\", \"name\": \"sepal length (cm)\", \"showlegend\": false, \"type\": \"scatter\", \"x\": [-1.0, -0.95, -0.9, -0.85, -0.8, -0.75, -0.7, -0.65, -0.6, -0.55, -0.5, -0.45, -0.4, -0.35, -0.3, -0.25, -0.2, -0.15, -0.1, -0.05, 0.0, 0.05, 0.1, 0.15, 0.2, 0.25, 0.3, 0.35, 0.4, 0.45, 0.5, 0.55, 0.6, 0.65, 0.7, 0.75, 0.8, 0.85, 0.9, 0.95, 1.0], \"xaxis\": \"x2\", \"y\": [0.0131390018244816, 0.026343089795414495, 0.04286333911360634, 0.06108580870464756, 0.07995510208179088, 0.09886374844063057, 0.11746456726832166, 0.1355540369408598, 0.15300559259511165, 0.16973600340824255, 0.18568655051585278, 0.2008125810459534, 0.21507759971951393, 0.22844954856679314, 0.2408992842511481, 0.2523990054389962, 0.2629218665086626, 0.2724417689740601, 0.2809334338093529, 0.2883726809073976, 0.2947368421052633, 0.299774894821067, 0.3038057296403539, 0.3068166586026904, 0.3087983079579569, 0.30974516395631885, 0.3096560677950574, 0.3085346358691328, 0.30638957477313455, 0.3032348659680218, 0.29908980216961123, 0.29397886693505004, 0.28793145972464795, 0.28098147969880427, 0.27316679138290156, 0.2645286029654511, 0.2551107926302155, 0.24495921970910725, 0.23412105584718723, 0.22264416750803648, 0.21057657609316607], \"yaxis\": \"y2\"}, {\"customdata\": [[-1.0, 2.5], [-0.95, 2.5303947368421054], [-0.9, 2.5607894736842107], [-0.85, 2.5911842105263156], [-0.8, 2.621578947368421], [-0.75, 2.6519736842105264], [-0.7, 2.6823684210526313], [-0.65, 2.7127631578947367], [-0.6, 2.743157894736842], [-0.55, 2.7735526315789474], [-0.5, 2.8039473684210527], [-0.45, 2.8343421052631577], [-0.4, 2.864736842105263], [-0.35, 2.8951315789473684], [-0.3, 2.9255263157894733], [-0.25, 2.9559210526315787], [-0.2, 2.986315789473684], [-0.15, 3.0167105263157894], [-0.1, 3.0471052631578948], [-0.05, 3.0774999999999997], [0.0, 3.107894736842105], [0.05, 3.1424999999999996], [0.1, 3.1771052631578947], [0.15, 3.2117105263157892], [0.2, 3.246315789473684], [0.25, 3.280921052631579], [0.3, 3.3155263157894734], [0.35, 3.350131578947368], [0.4, 3.384736842105263], [0.45, 3.4193421052631576], [0.5, 3.453947368421052], [0.55, 3.4885526315789472], [0.6, 3.523157894736842], [0.65, 3.557763157894737], [0.7, 3.5923684210526314], [0.75, 3.626973684210526], [0.8, 3.661578947368421], [0.85, 3.6961842105263156], [0.9, 3.73078947368421], [0.95, 3.7653947368421052], [1.0, 3.8]], \"hoverinfo\": \"y\", \"legendgroup\": \"sepal width (cm)\", \"marker\": {\"color\": \"hsl(359.5, 85.5%, 64.0%)\"}, \"mode\": \"lines+markers\", \"name\": \"sepal width (cm)\", \"showlegend\": false, \"type\": \"scatter\", \"x\": [-1.0, -0.95, -0.9, -0.85, -0.8, -0.75, -0.7, -0.65, -0.6, -0.55, -0.5, -0.45, -0.4, -0.35, -0.3, -0.25, -0.2, -0.15, -0.1, -0.05, 0.0, 0.05, 0.1, 0.15, 0.2, 0.25, 0.3, 0.35, 0.4, 0.45, 0.5, 0.55, 0.6, 0.65, 0.7, 0.75, 0.8, 0.85, 0.9, 0.95, 1.0], \"xaxis\": \"x2\", \"y\": [0.6009855731854391, 0.5850323243502041, 0.5692917664792726, 0.5536979411740119, 0.5381962784722606, 0.5227424016718764, 0.5073014761305652, 0.49184797163691346, 0.47636571970846375, 0.46084814223306825, 0.4452983724198411, 0.4297300003858661, 0.4141658256161391, 0.39863801992002285, 0.3831865891260057, 0.367857448506917, 0.3526999362621068, 0.3377639889015677, 0.3230973010437766, 0.3087427129262808, 0.2947368421052633, 0.2792507205733222, 0.26428289900932356, 0.24984935754856172, 0.23595570825005333, 0.22259836393247148, 0.20976697467414449, 0.19744669180023097, 0.18561933821810528, 0.17426544802928076, 0.1633649443178769, 0.15289796349181214, 0.14284537006067313, 0.1331890793157802, 0.12391233647676267, 0.11499968802789046, 0.10643717971743635, 0.09821229914616043, 0.09031398260137743, 0.08273259917514554, 0.07545994313149751], \"yaxis\": \"y2\"}, {\"customdata\": [[-1.0, 1.3000000000000003], [-0.95, 1.4156578947368423], [-0.9, 1.5313157894736844], [-0.85, 1.6469736842105267], [-0.8, 1.7626315789473685], [-0.75, 1.8782894736842108], [-0.7, 1.9939473684210531], [-0.65, 2.1096052631578948], [-0.6, 2.2252631578947373], [-0.55, 2.340921052631579], [-0.5, 2.4565789473684214], [-0.45, 2.5722368421052635], [-0.4, 2.6878947368421056], [-0.35, 2.803552631578948], [-0.3, 2.9192105263157897], [-0.25, 3.034868421052632], [-0.2, 3.150526315789474], [-0.15, 3.2661842105263164], [-0.1, 3.3818421052631584], [-0.05, 3.4975000000000005], [0.0, 3.6131578947368426], [0.05, 3.7312500000000006], [0.1, 3.8493421052631582], [0.15, 3.9674342105263163], [0.2, 4.085526315789474], [0.25, 4.2036184210526315], [0.3, 4.32171052631579], [0.35, 4.439802631578948], [0.4, 4.557894736842106], [0.45, 4.675986842105264], [0.5, 4.794078947368421], [0.55, 4.912171052631579], [0.6, 5.030263157894737], [0.65, 5.148355263157895], [0.7, 5.266447368421052], [0.75, 5.38453947368421], [0.8, 5.502631578947368], [0.85, 5.620723684210526], [0.9, 5.7388157894736835], [0.95, 5.856907894736842], [1.0, 5.975]], \"hoverinfo\": \"y\", \"legendgroup\": \"petal length (cm)\", \"marker\": {\"color\": \"hsl(30.0, 99.25%, 55.25%)\"}, \"mode\": \"lines+markers\", \"name\": \"petal length (cm)\", \"showlegend\": false, \"type\": \"scatter\", \"x\": [-1.0, -0.95, -0.9, -0.85, -0.8, -0.75, -0.7, -0.65, -0.6, -0.55, -0.5, -0.45, -0.4, -0.35, -0.3, -0.25, -0.2, -0.15, -0.1, -0.05, 0.0, 0.05, 0.1, 0.15, 0.2, 0.25, 0.3, 0.35, 0.4, 0.45, 0.5, 0.55, 0.6, 0.65, 0.7, 0.75, 0.8, 0.85, 0.9, 0.95, 1.0], \"xaxis\": \"x2\", \"y\": [1.5181117608276927e-05, 0.0039133700930708585, 0.02613519421196544, 0.04909997560406946, 0.07061657629387003, 0.09084870333069742, 0.109976538100229, 0.12812976794214848, 0.14539983871046766, 0.16185158560331478, 0.17753108650618596, 0.19247059324775473, 0.20669157472235677, 0.22020696802994297, 0.23302229496743979, 0.24513656901701544, 0.2565427426175834, 0.267227884394523, 0.27717312223482793, 0.28635336951021917, 0.2947368421052633, 0.3024338786831942, 0.30920859462895284, 0.3149997050098832, 0.31973358907528343, 0.32332198717166655, 0.32565912362185195, 0.3266181626650321, 0.3260469541014717, 0.3237631684765156, 0.3195492686249858, 0.31314853977399965, 0.30426502222521995, 0.2925732513793513, 0.2777486763098324, 0.2595349062996647, 0.23786273806311328, 0.21300743271859607, 0.18570921148671285, 0.1571332873260212, 0.12862877670037537], \"yaxis\": \"y2\"}, {\"customdata\": [[-1.0, 0.18500000000000005], [-0.95, 0.23351315789473692], [-0.9, 0.2820263157894737], [-0.85, 0.33053947368421055], [-0.8, 0.3790526315789473], [-0.75, 0.4275657894736842], [-0.7, 0.47607894736842116], [-0.65, 0.5245921052631579], [-0.6, 0.5731052631578948], [-0.55, 0.6216184210526315], [-0.5, 0.6701315789473684], [-0.45, 0.7186447368421052], [-0.4, 0.767157894736842], [-0.35, 0.8156710526315789], [-0.3, 0.8641842105263158], [-0.25, 0.9126973684210526], [-0.2, 0.9612105263157894], [-0.15, 1.0097236842105262], [-0.1, 1.058236842105263], [-0.05, 1.10675], [0.0, 1.1552631578947368], [0.05, 1.2125], [0.1, 1.269736842105263], [0.15, 1.3269736842105262], [0.2, 1.3842105263157893], [0.25, 1.4414473684210525], [0.3, 1.4986842105263156], [0.35, 1.5559210526315788], [0.4, 1.6131578947368421], [0.45, 1.670394736842105], [0.5, 1.7276315789473684], [0.55, 1.7848684210526315], [0.6, 1.8421052631578947], [0.65, 1.8993421052631578], [0.7, 1.956578947368421], [0.75, 2.013815789473684], [0.8, 2.0710526315789473], [0.85, 2.12828947368421], [0.9, 2.1855263157894735], [0.95, 2.2427631578947365], [1.0, 2.3]], \"hoverinfo\": \"y\", \"legendgroup\": \"petal width (cm)\", \"marker\": {\"color\": \"hsl(269.0, 43.0%, 42.0%)\"}, \"mode\": \"lines+markers\", \"name\": \"petal width (cm)\", \"showlegend\": false, \"type\": \"scatter\", \"x\": [-1.0, -0.95, -0.9, -0.85, -0.8, -0.75, -0.7, -0.65, -0.6, -0.55, -0.5, -0.45, -0.4, -0.35, -0.3, -0.25, -0.2, -0.15, -0.1, -0.05, 0.0, 0.05, 0.1, 0.15, 0.2, 0.25, 0.3, 0.35, 0.4, 0.45, 0.5, 0.55, 0.6, 0.65, 0.7, 0.75, 0.8, 0.85, 0.9, 0.95, 1.0], \"xaxis\": \"x2\", \"y\": [0.00011800084551106529, 0.013841764584521047, 0.040427915472766834, 0.06567220799468486, 0.08887521968742426, 0.11026620911234657, 0.13008018273680333, 0.14850084347424222, 0.16566508350599865, 0.1816764969327762, 0.19661397859645885, 0.21053789683074256, 0.22349400589651688, 0.23551692777189265, 0.2466316566021296, 0.25685520024478536, 0.266197530023203, 0.2746622205214403, 0.2822468359036757, 0.28894308961597115, 0.29473684210526324, 0.30038396363064335, 0.30470154141596884, 0.30763080207426796, 0.30909696735365927, 0.30900644192163274, 0.30724290706984114, 0.3036620559872671, 0.29808447851001635, 0.29028580948232247, 0.2799840356549747, 0.26682166838458204, 0.25034376484046894, 0.22997326843523183, 0.20499536392482767, 0.1745977291259429, 0.13810287262615, 0.09576492139632582, 0.0507354677206216, 0.012672954212178147, 1.0149702975579614e-10], \"yaxis\": \"y2\"}, {\"customdata\": [[-1.0, 4.6850000000000005], [-0.95, 4.744828947368422], [-0.9, 4.804657894736843], [-0.85, 4.864486842105263], [-0.8, 4.924315789473685], [-0.75, 4.984144736842106], [-0.7, 5.043973684210527], [-0.65, 5.103802631578947], [-0.6, 5.163631578947369], [-0.55, 5.22346052631579], [-0.5, 5.283289473684211], [-0.45, 5.3431184210526315], [-0.4, 5.402947368421053], [-0.35, 5.462776315789474], [-0.3, 5.522605263157895], [-0.25, 5.582434210526316], [-0.2, 5.642263157894737], [-0.15, 5.702092105263159], [-0.1, 5.761921052631579], [-0.05, 5.82175], [0.0, 5.881578947368421], [0.05, 5.9385], [0.1, 5.995421052631579], [0.15, 6.052342105263158], [0.2, 6.109263157894737], [0.25, 6.166184210526316], [0.3, 6.223105263157895], [0.35, 6.280026315789474], [0.4, 6.336947368421052], [0.45, 6.393868421052631], [0.5, 6.45078947368421], [0.55, 6.5077105263157895], [0.6, 6.564631578947369], [0.65, 6.621552631578947], [0.7, 6.678473684210526], [0.75, 6.735394736842105], [0.8, 6.792315789473684], [0.85, 6.849236842105263], [0.9, 6.906157894736841], [0.95, 6.9630789473684205], [1.0, 7.02]], \"hoverinfo\": \"y\", \"legendgroup\": \"sepal length (cm)\", \"marker\": {\"color\": \"hsl(97.25, 56.75%, 62.5%)\"}, \"mode\": \"lines+markers\", \"name\": \"sepal length (cm)\", \"showlegend\": false, \"type\": \"scatter\", \"x\": [-1.0, -0.95, -0.9, -0.85, -0.8, -0.75, -0.7, -0.65, -0.6, -0.55, -0.5, -0.45, -0.4, -0.35, -0.3, -0.25, -0.2, -0.15, -0.1, -0.05, 0.0, 0.05, 0.1, 0.15, 0.2, 0.25, 0.3, 0.35, 0.4, 0.45, 0.5, 0.55, 0.6, 0.65, 0.7, 0.75, 0.8, 0.85, 0.9, 0.95, 1.0], \"xaxis\": \"x3\", \"y\": [0.001548568300679637, 0.004619037770076819, 0.009977120599241081, 0.01754747965913435, 0.02705589268776951, 0.03821727136749578, 0.050789510681402826, 0.06457925404846075, 0.0794325093126724, 0.09522596588324553, 0.11185932286105091, 0.12924948597142993, 0.1473263230702218, 0.16602910500074466, 0.18530472412497098, 0.20510526401330825, 0.22538679643797996, 0.2461082359693208, 0.26723044567104465, 0.28871554648323955, 0.31052631578947376, 0.3315456590814251, 0.35279463926224197, 0.37424138669070767, 0.39585383766544907, 0.41759978785870655, 0.4394469892170173, 0.4613633165442789, 0.4833169878111652, 0.5052768240478739, 0.527212532049469, 0.5490949914488593, 0.5708965273644281, 0.5925911509760869, 0.6141547529446397, 0.6355652382447166, 0.6568025952305809, 0.6778488960116273, 0.6986882289086862, 0.7193065663920306, 0.739691572979596], \"yaxis\": \"y3\"}, {\"customdata\": [[-1.0, 2.5], [-0.95, 2.5303947368421054], [-0.9, 2.5607894736842107], [-0.85, 2.5911842105263156], [-0.8, 2.621578947368421], [-0.75, 2.6519736842105264], [-0.7, 2.6823684210526313], [-0.65, 2.7127631578947367], [-0.6, 2.743157894736842], [-0.55, 2.7735526315789474], [-0.5, 2.8039473684210527], [-0.45, 2.8343421052631577], [-0.4, 2.864736842105263], [-0.35, 2.8951315789473684], [-0.3, 2.9255263157894733], [-0.25, 2.9559210526315787], [-0.2, 2.986315789473684], [-0.15, 3.0167105263157894], [-0.1, 3.0471052631578948], [-0.05, 3.0774999999999997], [0.0, 3.107894736842105], [0.05, 3.1424999999999996], [0.1, 3.1771052631578947], [0.15, 3.2117105263157892], [0.2, 3.246315789473684], [0.25, 3.280921052631579], [0.3, 3.3155263157894734], [0.35, 3.350131578947368], [0.4, 3.384736842105263], [0.45, 3.4193421052631576], [0.5, 3.453947368421052], [0.55, 3.4885526315789472], [0.6, 3.523157894736842], [0.65, 3.557763157894737], [0.7, 3.5923684210526314], [0.75, 3.626973684210526], [0.8, 3.661578947368421], [0.85, 3.6961842105263156], [0.9, 3.73078947368421], [0.95, 3.7653947368421052], [1.0, 3.8]], \"hoverinfo\": \"y\", \"legendgroup\": \"sepal width (cm)\", \"marker\": {\"color\": \"hsl(359.5, 85.5%, 64.0%)\"}, \"mode\": \"lines+markers\", \"name\": \"sepal width (cm)\", \"showlegend\": false, \"type\": \"scatter\", \"x\": [-1.0, -0.95, -0.9, -0.85, -0.8, -0.75, -0.7, -0.65, -0.6, -0.55, -0.5, -0.45, -0.4, -0.35, -0.3, -0.25, -0.2, -0.15, -0.1, -0.05, 0.0, 0.05, 0.1, 0.15, 0.2, 0.25, 0.3, 0.35, 0.4, 0.45, 0.5, 0.55, 0.6, 0.65, 0.7, 0.75, 0.8, 0.85, 0.9, 0.95, 1.0], \"xaxis\": \"x3\", \"y\": [0.35618567545749286, 0.3622226192925592, 0.3670135756786202, 0.37063167549743675, 0.37314169409248565, 0.3746025182389608, 0.3750693013984378, 0.3745953871461595, 0.37323403522691423, 0.3710399403850538, 0.36807046196631243, 0.3643866640199289, 0.3600535494725018, 0.3551400992446083, 0.34971846526293887, 0.34386257590295005, 0.33764622456812027, 0.3311408651265357, 0.32441341018753905, 0.31752428296965135, 0.31052631578947376, 0.30248203750891495, 0.29440551148580957, 0.2863348223109294, 0.27829681482647745, 0.27030860933648165, 0.26237975398434144, 0.254514210491429, 0.24671155127950828, 0.2389686154595491, 0.23128022482164767, 0.2236399234118455, 0.2160404664906064, 0.20847414099949846, 0.20093303642126015, 0.19340905470179937, 0.18589408471957466, 0.1783799549720906, 0.17085841729160645, 0.16332108937260162, 0.15575937887816368], \"yaxis\": \"y3\"}, {\"customdata\": [[-1.0, 1.3000000000000003], [-0.95, 1.4156578947368423], [-0.9, 1.5313157894736844], [-0.85, 1.6469736842105267], [-0.8, 1.7626315789473685], [-0.75, 1.8782894736842108], [-0.7, 1.9939473684210531], [-0.65, 2.1096052631578948], [-0.6, 2.2252631578947373], [-0.55, 2.340921052631579], [-0.5, 2.4565789473684214], [-0.45, 2.5722368421052635], [-0.4, 2.6878947368421056], [-0.35, 2.803552631578948], [-0.3, 2.9192105263157897], [-0.25, 3.034868421052632], [-0.2, 3.150526315789474], [-0.15, 3.2661842105263164], [-0.1, 3.3818421052631584], [-0.05, 3.4975000000000005], [0.0, 3.6131578947368426], [0.05, 3.7312500000000006], [0.1, 3.8493421052631582], [0.15, 3.9674342105263163], [0.2, 4.085526315789474], [0.25, 4.2036184210526315], [0.3, 4.32171052631579], [0.35, 4.439802631578948], [0.4, 4.557894736842106], [0.45, 4.675986842105264], [0.5, 4.794078947368421], [0.55, 4.912171052631579], [0.6, 5.030263157894737], [0.65, 5.148355263157895], [0.7, 5.266447368421052], [0.75, 5.38453947368421], [0.8, 5.502631578947368], [0.85, 5.620723684210526], [0.9, 5.7388157894736835], [0.95, 5.856907894736842], [1.0, 5.975]], \"hoverinfo\": \"y\", \"legendgroup\": \"petal length (cm)\", \"marker\": {\"color\": \"hsl(30.0, 99.25%, 55.25%)\"}, \"mode\": \"lines+markers\", \"name\": \"petal length (cm)\", \"showlegend\": false, \"type\": \"scatter\", \"x\": [-1.0, -0.95, -0.9, -0.85, -0.8, -0.75, -0.7, -0.65, -0.6, -0.55, -0.5, -0.45, -0.4, -0.35, -0.3, -0.25, -0.2, -0.15, -0.1, -0.05, 0.0, 0.05, 0.1, 0.15, 0.2, 0.25, 0.3, 0.35, 0.4, 0.45, 0.5, 0.55, 0.6, 0.65, 0.7, 0.75, 0.8, 0.85, 0.9, 0.95, 1.0], \"xaxis\": \"x3\", \"y\": [1.9862907019261774e-07, 0.000533496025975714, 0.0075822239801222125, 0.018406582528098934, 0.030876567520967596, 0.04441419153032684, 0.05876098297796566, 0.07377305963216368, 0.0893606416707056, 0.10546371888300751, 0.12204062970406708, 0.1390619512861077, 0.15650683519488043, 0.17436109973143918, 0.19261563522590003, 0.2112656327051182, 0.23031001697420542, 0.24975111291370128, 0.2695944787252188, 0.289848868059391, 0.31052631578947376, 0.3320915763863328, 0.3541345843799442, 0.37668036606572686, 0.39975902404740915, 0.4234064104078696, 0.44766492622907655, 0.47258438424519683, 0.498222931707579, 0.5246474316764957, 0.5519334623270193, 0.5801632323327828, 0.6094199283985646, 0.6397749285352361, 0.6712625157255284, 0.7038359820681556, 0.7373025337991841, 0.771255410521171, 0.8050487297216197, 0.8378704857327874, 0.8689029187545718], \"yaxis\": \"y3\"}, {\"customdata\": [[-1.0, 0.18500000000000005], [-0.95, 0.23351315789473692], [-0.9, 0.2820263157894737], [-0.85, 0.33053947368421055], [-0.8, 0.3790526315789473], [-0.75, 0.4275657894736842], [-0.7, 0.47607894736842116], [-0.65, 0.5245921052631579], [-0.6, 0.5731052631578948], [-0.55, 0.6216184210526315], [-0.5, 0.6701315789473684], [-0.45, 0.7186447368421052], [-0.4, 0.767157894736842], [-0.35, 0.8156710526315789], [-0.3, 0.8641842105263158], [-0.25, 0.9126973684210526], [-0.2, 0.9612105263157894], [-0.15, 1.0097236842105262], [-0.1, 1.058236842105263], [-0.05, 1.10675], [0.0, 1.1552631578947368], [0.05, 1.2125], [0.1, 1.269736842105263], [0.15, 1.3269736842105262], [0.2, 1.3842105263157893], [0.25, 1.4414473684210525], [0.3, 1.4986842105263156], [0.35, 1.5559210526315788], [0.4, 1.6131578947368421], [0.45, 1.670394736842105], [0.5, 1.7276315789473684], [0.55, 1.7848684210526315], [0.6, 1.8421052631578947], [0.65, 1.8993421052631578], [0.7, 1.956578947368421], [0.75, 2.013815789473684], [0.8, 2.0710526315789473], [0.85, 2.12828947368421], [0.9, 2.1855263157894735], [0.95, 2.2427631578947365], [1.0, 2.3]], \"hoverinfo\": \"y\", \"legendgroup\": \"petal width (cm)\", \"marker\": {\"color\": \"hsl(269.0, 43.0%, 42.0%)\"}, \"mode\": \"lines+markers\", \"name\": \"petal width (cm)\", \"showlegend\": false, \"type\": \"scatter\", \"x\": [-1.0, -0.95, -0.9, -0.85, -0.8, -0.75, -0.7, -0.65, -0.6, -0.55, -0.5, -0.45, -0.4, -0.35, -0.3, -0.25, -0.2, -0.15, -0.1, -0.05, 0.0, 0.05, 0.1, 0.15, 0.2, 0.25, 0.3, 0.35, 0.4, 0.45, 0.5, 0.55, 0.6, 0.65, 0.7, 0.75, 0.8, 0.85, 0.9, 0.95, 1.0], \"xaxis\": \"x3\", \"y\": [5.114080449523288e-06, 0.001693983426975645, 0.008302407711699227, 0.017752810913646295, 0.0289753089891578, 0.0414947634209978, 0.055048132948116925, 0.06947208028304645, 0.08465568565558411, 0.1005203865467133, 0.1170086252402025, 0.1340774520470974, 0.15169417538032554, 0.16983454064051753, 0.1884803685784902, 0.20761868747625084, 0.22724092004835625, 0.24734234804986036, 0.26792177533117634, 0.2889813038366307, 0.3105263157894736, 0.33658183888171217, 0.3633456483298072, 0.3908453876820841, 0.4191166521335371, 0.44820454326856884, 0.47816529426570303, 0.50906865781214, 0.5410009843293448, 0.5740702039861267, 0.608409464603018, 0.6441858516391616, 0.6816068892549534, 0.7209260074122632, 0.7624368442006302, 0.8064208785153288, 0.8529632038066484, 0.9013885351229668, 0.9488729600302342, 0.9873232815901763, 0.999999999898503], \"yaxis\": \"y3\"}],\n",
       "                        {\"height\": 1000, \"plot_bgcolor\": \"white\", \"template\": {\"data\": {\"bar\": [{\"error_x\": {\"color\": \"#2a3f5f\"}, \"error_y\": {\"color\": \"#2a3f5f\"}, \"marker\": {\"line\": {\"color\": \"#E5ECF6\", \"width\": 0.5}}, \"type\": \"bar\"}], \"barpolar\": [{\"marker\": {\"line\": {\"color\": \"#E5ECF6\", \"width\": 0.5}}, \"type\": \"barpolar\"}], \"carpet\": [{\"aaxis\": {\"endlinecolor\": \"#2a3f5f\", \"gridcolor\": \"white\", \"linecolor\": \"white\", \"minorgridcolor\": \"white\", \"startlinecolor\": \"#2a3f5f\"}, \"baxis\": {\"endlinecolor\": \"#2a3f5f\", \"gridcolor\": \"white\", \"linecolor\": \"white\", \"minorgridcolor\": \"white\", \"startlinecolor\": \"#2a3f5f\"}, \"type\": \"carpet\"}], \"choropleth\": [{\"colorbar\": {\"outlinewidth\": 0, \"ticks\": \"\"}, \"type\": \"choropleth\"}], \"contour\": [{\"colorbar\": {\"outlinewidth\": 0, \"ticks\": \"\"}, \"colorscale\": [[0.0, \"#0d0887\"], [0.1111111111111111, \"#46039f\"], [0.2222222222222222, \"#7201a8\"], [0.3333333333333333, \"#9c179e\"], [0.4444444444444444, \"#bd3786\"], [0.5555555555555556, \"#d8576b\"], [0.6666666666666666, \"#ed7953\"], [0.7777777777777778, \"#fb9f3a\"], [0.8888888888888888, \"#fdca26\"], [1.0, \"#f0f921\"]], \"type\": \"contour\"}], \"contourcarpet\": [{\"colorbar\": {\"outlinewidth\": 0, \"ticks\": \"\"}, \"type\": \"contourcarpet\"}], \"heatmap\": [{\"colorbar\": {\"outlinewidth\": 0, \"ticks\": \"\"}, \"colorscale\": [[0.0, \"#0d0887\"], [0.1111111111111111, \"#46039f\"], [0.2222222222222222, \"#7201a8\"], [0.3333333333333333, \"#9c179e\"], [0.4444444444444444, \"#bd3786\"], [0.5555555555555556, \"#d8576b\"], [0.6666666666666666, \"#ed7953\"], [0.7777777777777778, \"#fb9f3a\"], [0.8888888888888888, \"#fdca26\"], [1.0, \"#f0f921\"]], \"type\": \"heatmap\"}], \"heatmapgl\": [{\"colorbar\": {\"outlinewidth\": 0, \"ticks\": \"\"}, \"colorscale\": [[0.0, \"#0d0887\"], [0.1111111111111111, \"#46039f\"], [0.2222222222222222, \"#7201a8\"], [0.3333333333333333, \"#9c179e\"], [0.4444444444444444, \"#bd3786\"], [0.5555555555555556, \"#d8576b\"], [0.6666666666666666, \"#ed7953\"], [0.7777777777777778, \"#fb9f3a\"], [0.8888888888888888, \"#fdca26\"], [1.0, \"#f0f921\"]], \"type\": \"heatmapgl\"}], \"histogram\": [{\"marker\": {\"colorbar\": {\"outlinewidth\": 0, \"ticks\": \"\"}}, \"type\": \"histogram\"}], \"histogram2d\": [{\"colorbar\": {\"outlinewidth\": 0, \"ticks\": \"\"}, \"colorscale\": [[0.0, \"#0d0887\"], [0.1111111111111111, \"#46039f\"], [0.2222222222222222, \"#7201a8\"], [0.3333333333333333, \"#9c179e\"], [0.4444444444444444, \"#bd3786\"], [0.5555555555555556, \"#d8576b\"], [0.6666666666666666, \"#ed7953\"], [0.7777777777777778, \"#fb9f3a\"], [0.8888888888888888, \"#fdca26\"], [1.0, \"#f0f921\"]], \"type\": \"histogram2d\"}], \"histogram2dcontour\": [{\"colorbar\": {\"outlinewidth\": 0, \"ticks\": \"\"}, \"colorscale\": [[0.0, \"#0d0887\"], [0.1111111111111111, \"#46039f\"], [0.2222222222222222, \"#7201a8\"], [0.3333333333333333, \"#9c179e\"], [0.4444444444444444, \"#bd3786\"], [0.5555555555555556, \"#d8576b\"], [0.6666666666666666, \"#ed7953\"], [0.7777777777777778, \"#fb9f3a\"], [0.8888888888888888, \"#fdca26\"], [1.0, \"#f0f921\"]], \"type\": \"histogram2dcontour\"}], \"mesh3d\": [{\"colorbar\": {\"outlinewidth\": 0, \"ticks\": \"\"}, \"type\": \"mesh3d\"}], \"parcoords\": [{\"line\": {\"colorbar\": {\"outlinewidth\": 0, \"ticks\": \"\"}}, \"type\": \"parcoords\"}], \"scatter\": [{\"marker\": {\"colorbar\": {\"outlinewidth\": 0, \"ticks\": \"\"}}, \"type\": \"scatter\"}], \"scatter3d\": [{\"line\": {\"colorbar\": {\"outlinewidth\": 0, \"ticks\": \"\"}}, \"marker\": {\"colorbar\": {\"outlinewidth\": 0, \"ticks\": \"\"}}, \"type\": \"scatter3d\"}], \"scattercarpet\": [{\"marker\": {\"colorbar\": {\"outlinewidth\": 0, \"ticks\": \"\"}}, \"type\": \"scattercarpet\"}], \"scattergeo\": [{\"marker\": {\"colorbar\": {\"outlinewidth\": 0, \"ticks\": \"\"}}, \"type\": \"scattergeo\"}], \"scattergl\": [{\"marker\": {\"colorbar\": {\"outlinewidth\": 0, \"ticks\": \"\"}}, \"type\": \"scattergl\"}], \"scattermapbox\": [{\"marker\": {\"colorbar\": {\"outlinewidth\": 0, \"ticks\": \"\"}}, \"type\": \"scattermapbox\"}], \"scatterpolar\": [{\"marker\": {\"colorbar\": {\"outlinewidth\": 0, \"ticks\": \"\"}}, \"type\": \"scatterpolar\"}], \"scatterpolargl\": [{\"marker\": {\"colorbar\": {\"outlinewidth\": 0, \"ticks\": \"\"}}, \"type\": \"scatterpolargl\"}], \"scatterternary\": [{\"marker\": {\"colorbar\": {\"outlinewidth\": 0, \"ticks\": \"\"}}, \"type\": \"scatterternary\"}], \"surface\": [{\"colorbar\": {\"outlinewidth\": 0, \"ticks\": \"\"}, \"colorscale\": [[0.0, \"#0d0887\"], [0.1111111111111111, \"#46039f\"], [0.2222222222222222, \"#7201a8\"], [0.3333333333333333, \"#9c179e\"], [0.4444444444444444, \"#bd3786\"], [0.5555555555555556, \"#d8576b\"], [0.6666666666666666, \"#ed7953\"], [0.7777777777777778, \"#fb9f3a\"], [0.8888888888888888, \"#fdca26\"], [1.0, \"#f0f921\"]], \"type\": \"surface\"}], \"table\": [{\"cells\": {\"fill\": {\"color\": \"#EBF0F8\"}, \"line\": {\"color\": \"white\"}}, \"header\": {\"fill\": {\"color\": \"#C8D4E3\"}, \"line\": {\"color\": \"white\"}}, \"type\": \"table\"}]}, \"layout\": {\"annotationdefaults\": {\"arrowcolor\": \"#2a3f5f\", \"arrowhead\": 0, \"arrowwidth\": 1}, \"colorscale\": {\"diverging\": [[0, \"#8e0152\"], [0.1, \"#c51b7d\"], [0.2, \"#de77ae\"], [0.3, \"#f1b6da\"], [0.4, \"#fde0ef\"], [0.5, \"#f7f7f7\"], [0.6, \"#e6f5d0\"], [0.7, \"#b8e186\"], [0.8, \"#7fbc41\"], [0.9, \"#4d9221\"], [1, \"#276419\"]], \"sequential\": [[0.0, \"#0d0887\"], [0.1111111111111111, \"#46039f\"], [0.2222222222222222, \"#7201a8\"], [0.3333333333333333, \"#9c179e\"], [0.4444444444444444, \"#bd3786\"], [0.5555555555555556, \"#d8576b\"], [0.6666666666666666, \"#ed7953\"], [0.7777777777777778, \"#fb9f3a\"], [0.8888888888888888, \"#fdca26\"], [1.0, \"#f0f921\"]], \"sequentialminus\": [[0.0, \"#0d0887\"], [0.1111111111111111, \"#46039f\"], [0.2222222222222222, \"#7201a8\"], [0.3333333333333333, \"#9c179e\"], [0.4444444444444444, \"#bd3786\"], [0.5555555555555556, \"#d8576b\"], [0.6666666666666666, \"#ed7953\"], [0.7777777777777778, \"#fb9f3a\"], [0.8888888888888888, \"#fdca26\"], [1.0, \"#f0f921\"]]}, \"colorway\": [\"#636efa\", \"#EF553B\", \"#00cc96\", \"#ab63fa\", \"#FFA15A\", \"#19d3f3\", \"#FF6692\", \"#B6E880\", \"#FF97FF\", \"#FECB52\"], \"font\": {\"color\": \"#2a3f5f\"}, \"geo\": {\"bgcolor\": \"white\", \"lakecolor\": \"white\", \"landcolor\": \"#E5ECF6\", \"showlakes\": true, \"showland\": true, \"subunitcolor\": \"white\"}, \"hoverlabel\": {\"align\": \"left\"}, \"hovermode\": \"closest\", \"mapbox\": {\"style\": \"light\"}, \"paper_bgcolor\": \"white\", \"plot_bgcolor\": \"#E5ECF6\", \"polar\": {\"angularaxis\": {\"gridcolor\": \"white\", \"linecolor\": \"white\", \"ticks\": \"\"}, \"bgcolor\": \"#E5ECF6\", \"radialaxis\": {\"gridcolor\": \"white\", \"linecolor\": \"white\", \"ticks\": \"\"}}, \"scene\": {\"xaxis\": {\"backgroundcolor\": \"#E5ECF6\", \"gridcolor\": \"white\", \"gridwidth\": 2, \"linecolor\": \"white\", \"showbackground\": true, \"ticks\": \"\", \"zerolinecolor\": \"white\"}, \"yaxis\": {\"backgroundcolor\": \"#E5ECF6\", \"gridcolor\": \"white\", \"gridwidth\": 2, \"linecolor\": \"white\", \"showbackground\": true, \"ticks\": \"\", \"zerolinecolor\": \"white\"}, \"zaxis\": {\"backgroundcolor\": \"#E5ECF6\", \"gridcolor\": \"white\", \"gridwidth\": 2, \"linecolor\": \"white\", \"showbackground\": true, \"ticks\": \"\", \"zerolinecolor\": \"white\"}}, \"shapedefaults\": {\"line\": {\"color\": \"#2a3f5f\"}}, \"ternary\": {\"aaxis\": {\"gridcolor\": \"white\", \"linecolor\": \"white\", \"ticks\": \"\"}, \"baxis\": {\"gridcolor\": \"white\", \"linecolor\": \"white\", \"ticks\": \"\"}, \"bgcolor\": \"#E5ECF6\", \"caxis\": {\"gridcolor\": \"white\", \"linecolor\": \"white\", \"ticks\": \"\"}}, \"title\": {\"x\": 0.05}, \"xaxis\": {\"automargin\": true, \"gridcolor\": \"white\", \"linecolor\": \"white\", \"ticks\": \"\", \"zerolinecolor\": \"white\", \"zerolinewidth\": 2}, \"yaxis\": {\"automargin\": true, \"gridcolor\": \"white\", \"linecolor\": \"white\", \"ticks\": \"\", \"zerolinecolor\": \"white\", \"zerolinewidth\": 2}}}, \"xaxis\": {\"anchor\": \"y\", \"domain\": [0.0, 1.0], \"gridcolor\": \"#eee\", \"linecolor\": \"black\", \"matches\": \"x3\", \"nticks\": 5, \"showgrid\": true, \"showline\": true, \"showticklabels\": false, \"zeroline\": false}, \"xaxis2\": {\"anchor\": \"y2\", \"domain\": [0.0, 1.0], \"gridcolor\": \"#eee\", \"linecolor\": \"black\", \"matches\": \"x3\", \"nticks\": 5, \"showgrid\": true, \"showline\": true, \"showticklabels\": false, \"zeroline\": false}, \"xaxis3\": {\"anchor\": \"y3\", \"domain\": [0.0, 1.0], \"gridcolor\": \"#eee\", \"linecolor\": \"black\", \"nticks\": 5, \"showgrid\": true, \"showline\": true, \"title\": {\"text\": \"tau\"}, \"zeroline\": false}, \"yaxis\": {\"anchor\": \"x\", \"domain\": [0.7333333333333333, 1.0], \"gridcolor\": \"#eee\", \"linecolor\": \"black\", \"range\": [0, 1], \"showgrid\": true, \"showline\": true, \"title\": {\"text\": \"Average setosa\"}}, \"yaxis2\": {\"anchor\": \"x2\", \"domain\": [0.36666666666666664, 0.6333333333333333], \"gridcolor\": \"#eee\", \"linecolor\": \"black\", \"range\": [0, 1], \"showgrid\": true, \"showline\": true, \"title\": {\"text\": \"Average versicolor\"}}, \"yaxis3\": {\"anchor\": \"x3\", \"domain\": [0.0, 0.26666666666666666], \"gridcolor\": \"#eee\", \"linecolor\": \"black\", \"range\": [0, 1], \"showgrid\": true, \"showline\": true, \"title\": {\"text\": \"Average virginica\"}}},\n",
       "                        {\"responsive\": true}\n",
       "                    ).then(function(){\n",
       "                            \n",
       "var gd = document.getElementById('30e41a47-bb97-4620-8278-67146dd3ed73');\n",
       "var x = new MutationObserver(function (mutations, observer) {{\n",
       "        var display = window.getComputedStyle(gd).display;\n",
       "        if (!display || display === 'none') {{\n",
       "            console.log([gd, 'removed!']);\n",
       "            Plotly.purge(gd);\n",
       "            observer.disconnect();\n",
       "        }}\n",
       "}});\n",
       "\n",
       "// Listen for the removal of the full notebook cells\n",
       "var notebookContainer = gd.closest('#notebook-container');\n",
       "if (notebookContainer) {{\n",
       "    x.observe(notebookContainer, {childList: true});\n",
       "}}\n",
       "\n",
       "// Listen for the clearing of the current output cell\n",
       "var outputEl = gd.closest('.output');\n",
       "if (outputEl) {{\n",
       "    x.observe(outputEl, {childList: true});\n",
       "}}\n",
       "\n",
       "                        })\n",
       "                };\n",
       "                });\n",
       "            </script>\n",
       "        </div>"
      ]
     },
     "metadata": {},
     "output_type": "display_data"
    }
   ],
   "source": [
    "explainer.plot_bias(\n",
    "    X_test=X_test,\n",
    "    y_pred=y_pred,\n",
    "    size=(None, 1000)\n",
    ")"
   ]
  },
  {
   "cell_type": "code",
   "execution_count": null,
   "metadata": {},
   "outputs": [],
   "source": []
  }
 ],
 "metadata": {
  "kernelspec": {
   "display_name": "ethik",
   "language": "python",
   "name": "ethik"
  },
  "language_info": {
   "codemirror_mode": {
    "name": "ipython",
    "version": 3
   },
   "file_extension": ".py",
   "mimetype": "text/x-python",
   "name": "python",
   "nbconvert_exporter": "python",
   "pygments_lexer": "ipython3",
   "version": "3.7.3"
  }
 },
 "nbformat": 4,
 "nbformat_minor": 2
}
