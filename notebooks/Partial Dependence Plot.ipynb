{
 "cells": [
  {
   "cell_type": "markdown",
   "metadata": {},
   "source": [
    "# Comparison with Partial Dependence Plot"
   ]
  },
  {
   "cell_type": "markdown",
   "metadata": {},
   "source": [
    "In the \"Interpretable Machine Learning\" book, we [can read](https://christophm.github.io/interpretable-ml-book/pdp.html):\n",
    "\n",
    "> The partial dependence plot (short PDP or PD plot) shows the marginal effect one or two features have on the predicted outcome of a machine learning model (Friedman, Jerome H. “Greedy function approximation: A gradient boosting machine.” Annals of statistics (2001): 1189-1232.). A partial dependence plot can show whether the relationship between the target and a feature is linear, monotonic or more complex. For example, when applied to a linear regression model, partial dependence plots always show a linear relationship.\n",
    "\n",
    "Put differently further in the book:\n",
    "\n",
    "> **Partial Dependence Plots:** “Let me show you what the model predicts on average when each data instance has the value v for that feature. I ignore whether the value v makes sense for all data instances.”\n",
    "\n",
    "PDPs are used in Google's [What-If Tool](https://pair-code.github.io/what-if-tool/walkthrough.html). In this notebook, we compare this method with ours on the \"Adult\" dataset (see the dedicated notebook for additional information)."
   ]
  },
  {
   "cell_type": "code",
   "execution_count": 36,
   "metadata": {},
   "outputs": [],
   "source": [
    "import ethik\n",
    "import lightgbm as lgb\n",
    "import pandas as pd\n",
    "from sklearn import model_selection\n",
    "from sklearn.inspection import plot_partial_dependence\n",
    "\n",
    "url = 'https://archive.ics.uci.edu/ml/machine-learning-databases/adult/adult.data'\n",
    "names = [\n",
    "    'age', 'workclass', 'fnlwgt', 'education',\n",
    "    'education-num', 'marital-status', 'occupation',\n",
    "    'relationship', 'race', 'gender', 'capital-gain',\n",
    "    'capital-loss', 'hours-per-week', 'native-country',\n",
    "    'salary'\n",
    "]\n",
    "dtypes = {\n",
    "    'workclass': 'category',\n",
    "    'education': 'category',\n",
    "    'marital-status': 'category',\n",
    "    'occupation': 'category',\n",
    "    'relationship': 'category',\n",
    "    'race': 'category',\n",
    "    'gender': 'category',\n",
    "    'native-country': 'category'\n",
    "}\n",
    "\n",
    "X = pd.read_csv(url, names=names, header=None, dtype=dtypes)\n",
    "y = X.pop('salary').map({' <=50K': False, ' >50K': True})\n",
    "\n",
    "# plot_partial_dependence() doesn't handle strings\n",
    "cat_columns = X.select_dtypes(['category']).columns\n",
    "X[cat_columns] = X[cat_columns].apply(lambda x: x.cat.codes)\n",
    "\n",
    "X_train, X_test, y_train, y_test = model_selection.train_test_split(X, y, shuffle=True, random_state=42)\n",
    "\n",
    "model = lgb.LGBMClassifier(random_state=42).fit(X_train, y_train)"
   ]
  },
  {
   "cell_type": "markdown",
   "metadata": {},
   "source": [
    "## Partial Dependence Plot"
   ]
  },
  {
   "cell_type": "code",
   "execution_count": 43,
   "metadata": {},
   "outputs": [
    {
     "data": {
      "image/png": "[encoded data removed]",
      "text/plain": [
       "<Figure size 432x288 with 3 Axes>"
      ]
     },
     "metadata": {
      "needs_background": "light"
     },
     "output_type": "display_data"
    }
   ],
   "source": [
    "plot_partial_dependence(\n",
    "    estimator=model,\n",
    "    X=X_test,\n",
    "    features=[\"age\", \"education-num\", \"hours-per-week\"],\n",
    "    feature_names=list(X_test.columns),\n",
    ")"
   ]
  },
  {
   "cell_type": "markdown",
   "metadata": {},
   "source": [
    "For `feature = x`, the corresponding y value is the average prediction of the model with all the samples having their `feature` set to `x`.\n",
    "\n",
    "For instance, we can see that when we set the age of all individuals to 50, the average probability of earning more than $50k a year is about 30%. Of course, this is an average and some individuals are more likely to be \"rich\" than that (e.g. the ones who have higher education levels)."
   ]
  },
  {
   "cell_type": "markdown",
   "metadata": {},
   "source": [
    "## Ethik"
   ]
  },
  {
   "cell_type": "code",
   "execution_count": 47,
   "metadata": {},
   "outputs": [],
   "source": [
    "y_pred = pd.Series(model.predict_proba(X_test)[:, 1], name='>$50k')\n",
    "explainer = ethik.Explainer()"
   ]
  },
  {
   "cell_type": "code",
   "execution_count": 53,
   "metadata": {},
   "outputs": [
    {
     "data": {
      "text/html": [
       "        <script type=\"text/javascript\">\n",
       "        window.PlotlyConfig = {MathJaxConfig: 'local'};\n",
       "        if (window.MathJax) {MathJax.Hub.Config({SVG: {font: \"STIX-Web\"}});}\n",
       "        if (typeof require !== 'undefined') {\n",
       "        require.undef(\"plotly\");\n",
       "        requirejs.config({\n",
       "            paths: {\n",
       "                'plotly': ['https://cdn.plot.ly/plotly-latest.min']\n",
       "            }\n",
       "        });\n",
       "        require(['plotly'], function(Plotly) {\n",
       "            window._Plotly = Plotly;\n",
       "        });\n",
       "        }\n",
       "        </script>\n",
       "        "
      ]
     },
     "metadata": {},
     "output_type": "display_data"
    },
    {
     "data": {
      "application/vnd.plotly.v1+json": {
       "config": {
        "linkText": "Export to plot.ly",
        "plotlyServerURL": "https://plot.ly",
        "showLink": false
       },
       "data": [
        {
         "hoverinfo": "x+y+text",
         "mode": "lines+markers",
         "name": "age",
         "text": [
          "age = 19.0",
          "age = 19.976612209802237",
          "age = 20.95322441960447",
          "age = 21.929836629406708",
          "age = 22.90644883920894",
          "age = 23.88306104901118",
          "age = 24.859673258813416",
          "age = 25.83628546861565",
          "age = 26.812897678417887",
          "age = 27.78950988822012",
          "age = 28.766122098022358",
          "age = 29.74273430782459",
          "age = 30.71934651762683",
          "age = 31.695958727429066",
          "age = 32.6725709372313",
          "age = 33.64918314703354",
          "age = 34.62579535683577",
          "age = 35.60240756663801",
          "age = 36.57901977644024",
          "age = 37.55563198624248",
          "age = 38.532244196044715",
          "age = 39.75563198624248",
          "age = 40.979019776440246",
          "age = 42.20240756663801",
          "age = 43.42579535683577",
          "age = 44.64918314703354",
          "age = 45.8725709372313",
          "age = 47.095958727429064",
          "age = 48.319346517626826",
          "age = 49.542734307824595",
          "age = 50.76612209802236",
          "age = 51.98950988822013",
          "age = 53.21289767841789",
          "age = 54.43628546861565",
          "age = 55.65967325881341",
          "age = 56.883061049011175",
          "age = 58.106448839208944",
          "age = 59.32983662940671",
          "age = 60.553224419604476",
          "age = 61.77661220980224",
          "age = 63.0"
         ],
         "type": "scatter",
         "x": [
          -1,
          -0.95,
          -0.9,
          -0.85,
          -0.8,
          -0.75,
          -0.7,
          -0.65,
          -0.6,
          -0.55,
          -0.5,
          -0.45,
          -0.4,
          -0.35,
          -0.3,
          -0.25,
          -0.2,
          -0.15,
          -0.1,
          -0.05,
          0,
          0.05,
          0.1,
          0.15,
          0.2,
          0.25,
          0.3,
          0.35,
          0.4,
          0.45,
          0.5,
          0.55,
          0.6,
          0.65,
          0.7,
          0.75,
          0.8,
          0.85,
          0.9,
          0.95,
          1
         ],
         "y": [
          0.005795288904050156,
          0.014115645581558017,
          0.025818041869586444,
          0.03947716431829931,
          0.05408784604543284,
          0.06903377218215195,
          0.08394451535249936,
          0.09859609957867316,
          0.11285161982950584,
          0.1266265924792117,
          0.13986861989446145,
          0.15254526883441127,
          0.1646367120690613,
          0.17613118288706958,
          0.18702212540629856,
          0.19730638874099857,
          0.20698307669291638,
          0.21605281687537245,
          0.22451730284975302,
          0.23237901668995536,
          0.23964107229357354,
          0.24789772017135098,
          0.2552275791216577,
          0.2616404453986808,
          0.2671476473159055,
          0.27176223105866854,
          0.2754991586899667,
          0.27837549523514604,
          0.28041056662231384,
          0.2816260740694739,
          0.28204615397376265,
          0.2816973758589993,
          0.280608674614239,
          0.278811217063312,
          0.276338206668762,
          0.27322463364340055,
          0.2695069806502043,
          0.26522289638184193,
          0.2604108504663437,
          0.25510978328833844,
          0.2493587634945709
         ]
        },
        {
         "hoverinfo": "x+y+text",
         "mode": "lines+markers",
         "name": "education-num",
         "text": [
          "education-num = 5.0",
          "education-num = 5.252708512467756",
          "education-num = 5.505417024935511",
          "education-num = 5.758125537403267",
          "education-num = 6.010834049871023",
          "education-num = 6.263542562338779",
          "education-num = 6.516251074806535",
          "education-num = 6.76895958727429",
          "education-num = 7.021668099742046",
          "education-num = 7.274376612209801",
          "education-num = 7.527085124677558",
          "education-num = 7.779793637145313",
          "education-num = 8.03250214961307",
          "education-num = 8.285210662080825",
          "education-num = 8.53791917454858",
          "education-num = 8.790627687016336",
          "education-num = 9.043336199484092",
          "education-num = 9.296044711951849",
          "education-num = 9.548753224419604",
          "education-num = 9.80146173688736",
          "education-num = 10.054170249355115",
          "education-num = 10.251461736887359",
          "education-num = 10.448753224419605",
          "education-num = 10.646044711951848",
          "education-num = 10.843336199484092",
          "education-num = 11.040627687016336",
          "education-num = 11.23791917454858",
          "education-num = 11.435210662080825",
          "education-num = 11.63250214961307",
          "education-num = 11.829793637145313",
          "education-num = 12.027085124677559",
          "education-num = 12.224376612209802",
          "education-num = 12.421668099742046",
          "education-num = 12.61895958727429",
          "education-num = 12.816251074806534",
          "education-num = 13.01354256233878",
          "education-num = 13.210834049871023",
          "education-num = 13.408125537403267",
          "education-num = 13.605417024935512",
          "education-num = 13.802708512467756",
          "education-num = 14.0"
         ],
         "type": "scatter",
         "x": [
          -1,
          -0.95,
          -0.9,
          -0.85,
          -0.8,
          -0.75,
          -0.7,
          -0.65,
          -0.6,
          -0.55,
          -0.5,
          -0.45,
          -0.4,
          -0.35,
          -0.3,
          -0.25,
          -0.2,
          -0.15,
          -0.1,
          -0.05,
          0,
          0.05,
          0.1,
          0.15,
          0.2,
          0.25,
          0.3,
          0.35,
          0.4,
          0.45,
          0.5,
          0.55,
          0.6,
          0.65,
          0.7,
          0.75,
          0.8,
          0.85,
          0.9,
          0.95,
          1
         ],
         "y": [
          0.0921069346501984,
          0.096000275939368,
          0.1001396518429584,
          0.10452541038903665,
          0.10916187533141464,
          0.11405728240761513,
          0.11922388989702565,
          0.12467824501477148,
          0.13044159260827443,
          0.13654041070715991,
          0.1430070461962891,
          0.14988039905004596,
          0.15720655955964263,
          0.16503923442861637,
          0.17343970425960384,
          0.18247595193281005,
          0.19222053481378373,
          0.20274683305071795,
          0.21412360709299852,
          0.22640839893846662,
          0.23964107229357348,
          0.25064301514646325,
          0.26223240011002463,
          0.27439971950962266,
          0.2871290310361436,
          0.3003999873556062,
          0.3141900059652911,
          0.3284762821146607,
          0.34323745622767393,
          0.358454861579893,
          0.3741133627799161,
          0.3902018385248948,
          0.4067133665296579,
          0.4236451431205123,
          0.44099812119686044,
          0.4587762794020318,
          0.47698533966910384,
          0.4956306289310201,
          0.5147136490344645,
          0.534226836726333,
          0.5541461072709021
         ]
        },
        {
         "hoverinfo": "x+y+text",
         "mode": "lines+markers",
         "name": "hours-per-week",
         "text": [
          "hours-per-week = 17.0",
          "hours-per-week = 18.17950497481882",
          "hours-per-week = 19.359009949637635",
          "hours-per-week = 20.538514924456457",
          "hours-per-week = 21.718019899275273",
          "hours-per-week = 22.897524874094092",
          "hours-per-week = 24.07702984891291",
          "hours-per-week = 25.256534823731727",
          "hours-per-week = 26.436039798550546",
          "hours-per-week = 27.615544773369365",
          "hours-per-week = 28.795049748188184",
          "hours-per-week = 29.974554723007003",
          "hours-per-week = 31.154059697825822",
          "hours-per-week = 32.33356467264464",
          "hours-per-week = 33.51306964746346",
          "hours-per-week = 34.69257462228228",
          "hours-per-week = 35.87207959710109",
          "hours-per-week = 37.05158457191991",
          "hours-per-week = 38.23108954673873",
          "hours-per-week = 39.41059452155755",
          "hours-per-week = 40.59009949637637",
          "hours-per-week = 41.56059452155755",
          "hours-per-week = 42.531089546738734",
          "hours-per-week = 43.50158457191991",
          "hours-per-week = 44.47207959710109",
          "hours-per-week = 45.44257462228228",
          "hours-per-week = 46.41306964746346",
          "hours-per-week = 47.38356467264464",
          "hours-per-week = 48.35405969782582",
          "hours-per-week = 49.324554723007004",
          "hours-per-week = 50.295049748188184",
          "hours-per-week = 51.26554477336937",
          "hours-per-week = 52.23603979855055",
          "hours-per-week = 53.20653482373173",
          "hours-per-week = 54.17702984891291",
          "hours-per-week = 55.14752487409409",
          "hours-per-week = 56.118019899275275",
          "hours-per-week = 57.088514924456454",
          "hours-per-week = 58.05900994963764",
          "hours-per-week = 59.02950497481882",
          "hours-per-week = 60.0"
         ],
         "type": "scatter",
         "x": [
          -1,
          -0.95,
          -0.9,
          -0.85,
          -0.8,
          -0.75,
          -0.7,
          -0.65,
          -0.6,
          -0.55,
          -0.5,
          -0.45,
          -0.4,
          -0.35,
          -0.3,
          -0.25,
          -0.2,
          -0.15,
          -0.1,
          -0.05,
          0,
          0.05,
          0.1,
          0.15,
          0.2,
          0.25,
          0.3,
          0.35,
          0.4,
          0.45,
          0.5,
          0.55,
          0.6,
          0.65,
          0.7,
          0.75,
          0.8,
          0.85,
          0.9,
          0.95,
          1
         ],
         "y": [
          0.09751095961897183,
          0.10195394871589039,
          0.10672629193622192,
          0.11180724152162973,
          0.11718149413984268,
          0.12283825213038797,
          0.12877052912609455,
          0.13497463305815469,
          0.14144976392137878,
          0.14819766136188636,
          0.155222222251793,
          0.16252897378061915,
          0.1701242223826096,
          0.17801358791187058,
          0.18619946145901103,
          0.19467670309741603,
          0.2034257234028422,
          0.2124023130744238,
          0.22152496699939767,
          0.23066393206338684,
          0.23964107229357354,
          0.2467607097600338,
          0.25352059066281507,
          0.2598322776267949,
          0.2656397648709474,
          0.2709207105783646,
          0.2756805030240773,
          0.27994337179033063,
          0.28374399484991164,
          0.2871211920683432,
          0.2901138734933293,
          0.2927587731135495,
          0.29508938596378986,
          0.29713563245839436,
          0.2989239224317083,
          0.3004774150394182,
          0.30181635640618376,
          0.3029584309110242,
          0.303919094010545,
          0.30471187263818283,
          0.3053486327379366
         ]
        }
       ],
       "layout": {
        "margin": {
         "r": 50,
         "t": 50
        },
        "plot_bgcolor": "white",
        "template": {
         "data": {
          "bar": [
           {
            "error_x": {
             "color": "#2a3f5f"
            },
            "error_y": {
             "color": "#2a3f5f"
            },
            "marker": {
             "line": {
              "color": "#E5ECF6",
              "width": 0.5
             }
            },
            "type": "bar"
           }
          ],
          "barpolar": [
           {
            "marker": {
             "line": {
              "color": "#E5ECF6",
              "width": 0.5
             }
            },
            "type": "barpolar"
           }
          ],
          "carpet": [
           {
            "aaxis": {
             "endlinecolor": "#2a3f5f",
             "gridcolor": "white",
             "linecolor": "white",
             "minorgridcolor": "white",
             "startlinecolor": "#2a3f5f"
            },
            "baxis": {
             "endlinecolor": "#2a3f5f",
             "gridcolor": "white",
             "linecolor": "white",
             "minorgridcolor": "white",
             "startlinecolor": "#2a3f5f"
            },
            "type": "carpet"
           }
          ],
          "choropleth": [
           {
            "colorbar": {
             "outlinewidth": 0,
             "ticks": ""
            },
            "type": "choropleth"
           }
          ],
          "contour": [
           {
            "colorbar": {
             "outlinewidth": 0,
             "ticks": ""
            },
            "colorscale": [
             [
              0,
              "#0d0887"
             ],
             [
              0.1111111111111111,
              "#46039f"
             ],
             [
              0.2222222222222222,
              "#7201a8"
             ],
             [
              0.3333333333333333,
              "#9c179e"
             ],
             [
              0.4444444444444444,
              "#bd3786"
             ],
             [
              0.5555555555555556,
              "#d8576b"
             ],
             [
              0.6666666666666666,
              "#ed7953"
             ],
             [
              0.7777777777777778,
              "#fb9f3a"
             ],
             [
              0.8888888888888888,
              "#fdca26"
             ],
             [
              1,
              "#f0f921"
             ]
            ],
            "type": "contour"
           }
          ],
          "contourcarpet": [
           {
            "colorbar": {
             "outlinewidth": 0,
             "ticks": ""
            },
            "type": "contourcarpet"
           }
          ],
          "heatmap": [
           {
            "colorbar": {
             "outlinewidth": 0,
             "ticks": ""
            },
            "colorscale": [
             [
              0,
              "#0d0887"
             ],
             [
              0.1111111111111111,
              "#46039f"
             ],
             [
              0.2222222222222222,
              "#7201a8"
             ],
             [
              0.3333333333333333,
              "#9c179e"
             ],
             [
              0.4444444444444444,
              "#bd3786"
             ],
             [
              0.5555555555555556,
              "#d8576b"
             ],
             [
              0.6666666666666666,
              "#ed7953"
             ],
             [
              0.7777777777777778,
              "#fb9f3a"
             ],
             [
              0.8888888888888888,
              "#fdca26"
             ],
             [
              1,
              "#f0f921"
             ]
            ],
            "type": "heatmap"
           }
          ],
          "heatmapgl": [
           {
            "colorbar": {
             "outlinewidth": 0,
             "ticks": ""
            },
            "colorscale": [
             [
              0,
              "#0d0887"
             ],
             [
              0.1111111111111111,
              "#46039f"
             ],
             [
              0.2222222222222222,
              "#7201a8"
             ],
             [
              0.3333333333333333,
              "#9c179e"
             ],
             [
              0.4444444444444444,
              "#bd3786"
             ],
             [
              0.5555555555555556,
              "#d8576b"
             ],
             [
              0.6666666666666666,
              "#ed7953"
             ],
             [
              0.7777777777777778,
              "#fb9f3a"
             ],
             [
              0.8888888888888888,
              "#fdca26"
             ],
             [
              1,
              "#f0f921"
             ]
            ],
            "type": "heatmapgl"
           }
          ],
          "histogram": [
           {
            "marker": {
             "colorbar": {
              "outlinewidth": 0,
              "ticks": ""
             }
            },
            "type": "histogram"
           }
          ],
          "histogram2d": [
           {
            "colorbar": {
             "outlinewidth": 0,
             "ticks": ""
            },
            "colorscale": [
             [
              0,
              "#0d0887"
             ],
             [
              0.1111111111111111,
              "#46039f"
             ],
             [
              0.2222222222222222,
              "#7201a8"
             ],
             [
              0.3333333333333333,
              "#9c179e"
             ],
             [
              0.4444444444444444,
              "#bd3786"
             ],
             [
              0.5555555555555556,
              "#d8576b"
             ],
             [
              0.6666666666666666,
              "#ed7953"
             ],
             [
              0.7777777777777778,
              "#fb9f3a"
             ],
             [
              0.8888888888888888,
              "#fdca26"
             ],
             [
              1,
              "#f0f921"
             ]
            ],
            "type": "histogram2d"
           }
          ],
          "histogram2dcontour": [
           {
            "colorbar": {
             "outlinewidth": 0,
             "ticks": ""
            },
            "colorscale": [
             [
              0,
              "#0d0887"
             ],
             [
              0.1111111111111111,
              "#46039f"
             ],
             [
              0.2222222222222222,
              "#7201a8"
             ],
             [
              0.3333333333333333,
              "#9c179e"
             ],
             [
              0.4444444444444444,
              "#bd3786"
             ],
             [
              0.5555555555555556,
              "#d8576b"
             ],
             [
              0.6666666666666666,
              "#ed7953"
             ],
             [
              0.7777777777777778,
              "#fb9f3a"
             ],
             [
              0.8888888888888888,
              "#fdca26"
             ],
             [
              1,
              "#f0f921"
             ]
            ],
            "type": "histogram2dcontour"
           }
          ],
          "mesh3d": [
           {
            "colorbar": {
             "outlinewidth": 0,
             "ticks": ""
            },
            "type": "mesh3d"
           }
          ],
          "parcoords": [
           {
            "line": {
             "colorbar": {
              "outlinewidth": 0,
              "ticks": ""
             }
            },
            "type": "parcoords"
           }
          ],
          "scatter": [
           {
            "marker": {
             "colorbar": {
              "outlinewidth": 0,
              "ticks": ""
             }
            },
            "type": "scatter"
           }
          ],
          "scatter3d": [
           {
            "line": {
             "colorbar": {
              "outlinewidth": 0,
              "ticks": ""
             }
            },
            "marker": {
             "colorbar": {
              "outlinewidth": 0,
              "ticks": ""
             }
            },
            "type": "scatter3d"
           }
          ],
          "scattercarpet": [
           {
            "marker": {
             "colorbar": {
              "outlinewidth": 0,
              "ticks": ""
             }
            },
            "type": "scattercarpet"
           }
          ],
          "scattergeo": [
           {
            "marker": {
             "colorbar": {
              "outlinewidth": 0,
              "ticks": ""
             }
            },
            "type": "scattergeo"
           }
          ],
          "scattergl": [
           {
            "marker": {
             "colorbar": {
              "outlinewidth": 0,
              "ticks": ""
             }
            },
            "type": "scattergl"
           }
          ],
          "scattermapbox": [
           {
            "marker": {
             "colorbar": {
              "outlinewidth": 0,
              "ticks": ""
             }
            },
            "type": "scattermapbox"
           }
          ],
          "scatterpolar": [
           {
            "marker": {
             "colorbar": {
              "outlinewidth": 0,
              "ticks": ""
             }
            },
            "type": "scatterpolar"
           }
          ],
          "scatterpolargl": [
           {
            "marker": {
             "colorbar": {
              "outlinewidth": 0,
              "ticks": ""
             }
            },
            "type": "scatterpolargl"
           }
          ],
          "scatterternary": [
           {
            "marker": {
             "colorbar": {
              "outlinewidth": 0,
              "ticks": ""
             }
            },
            "type": "scatterternary"
           }
          ],
          "surface": [
           {
            "colorbar": {
             "outlinewidth": 0,
             "ticks": ""
            },
            "colorscale": [
             [
              0,
              "#0d0887"
             ],
             [
              0.1111111111111111,
              "#46039f"
             ],
             [
              0.2222222222222222,
              "#7201a8"
             ],
             [
              0.3333333333333333,
              "#9c179e"
             ],
             [
              0.4444444444444444,
              "#bd3786"
             ],
             [
              0.5555555555555556,
              "#d8576b"
             ],
             [
              0.6666666666666666,
              "#ed7953"
             ],
             [
              0.7777777777777778,
              "#fb9f3a"
             ],
             [
              0.8888888888888888,
              "#fdca26"
             ],
             [
              1,
              "#f0f921"
             ]
            ],
            "type": "surface"
           }
          ],
          "table": [
           {
            "cells": {
             "fill": {
              "color": "#EBF0F8"
             },
             "line": {
              "color": "white"
             }
            },
            "header": {
             "fill": {
              "color": "#C8D4E3"
             },
             "line": {
              "color": "white"
             }
            },
            "type": "table"
           }
          ]
         },
         "layout": {
          "annotationdefaults": {
           "arrowcolor": "#2a3f5f",
           "arrowhead": 0,
           "arrowwidth": 1
          },
          "colorscale": {
           "diverging": [
            [
             0,
             "#8e0152"
            ],
            [
             0.1,
             "#c51b7d"
            ],
            [
             0.2,
             "#de77ae"
            ],
            [
             0.3,
             "#f1b6da"
            ],
            [
             0.4,
             "#fde0ef"
            ],
            [
             0.5,
             "#f7f7f7"
            ],
            [
             0.6,
             "#e6f5d0"
            ],
            [
             0.7,
             "#b8e186"
            ],
            [
             0.8,
             "#7fbc41"
            ],
            [
             0.9,
             "#4d9221"
            ],
            [
             1,
             "#276419"
            ]
           ],
           "sequential": [
            [
             0,
             "#0d0887"
            ],
            [
             0.1111111111111111,
             "#46039f"
            ],
            [
             0.2222222222222222,
             "#7201a8"
            ],
            [
             0.3333333333333333,
             "#9c179e"
            ],
            [
             0.4444444444444444,
             "#bd3786"
            ],
            [
             0.5555555555555556,
             "#d8576b"
            ],
            [
             0.6666666666666666,
             "#ed7953"
            ],
            [
             0.7777777777777778,
             "#fb9f3a"
            ],
            [
             0.8888888888888888,
             "#fdca26"
            ],
            [
             1,
             "#f0f921"
            ]
           ],
           "sequentialminus": [
            [
             0,
             "#0d0887"
            ],
            [
             0.1111111111111111,
             "#46039f"
            ],
            [
             0.2222222222222222,
             "#7201a8"
            ],
            [
             0.3333333333333333,
             "#9c179e"
            ],
            [
             0.4444444444444444,
             "#bd3786"
            ],
            [
             0.5555555555555556,
             "#d8576b"
            ],
            [
             0.6666666666666666,
             "#ed7953"
            ],
            [
             0.7777777777777778,
             "#fb9f3a"
            ],
            [
             0.8888888888888888,
             "#fdca26"
            ],
            [
             1,
             "#f0f921"
            ]
           ]
          },
          "colorway": [
           "#636efa",
           "#EF553B",
           "#00cc96",
           "#ab63fa",
           "#FFA15A",
           "#19d3f3",
           "#FF6692",
           "#B6E880",
           "#FF97FF",
           "#FECB52"
          ],
          "font": {
           "color": "#2a3f5f"
          },
          "geo": {
           "bgcolor": "white",
           "lakecolor": "white",
           "landcolor": "#E5ECF6",
           "showlakes": true,
           "showland": true,
           "subunitcolor": "white"
          },
          "hoverlabel": {
           "align": "left"
          },
          "hovermode": "closest",
          "mapbox": {
           "style": "light"
          },
          "paper_bgcolor": "white",
          "plot_bgcolor": "#E5ECF6",
          "polar": {
           "angularaxis": {
            "gridcolor": "white",
            "linecolor": "white",
            "ticks": ""
           },
           "bgcolor": "#E5ECF6",
           "radialaxis": {
            "gridcolor": "white",
            "linecolor": "white",
            "ticks": ""
           }
          },
          "scene": {
           "xaxis": {
            "backgroundcolor": "#E5ECF6",
            "gridcolor": "white",
            "gridwidth": 2,
            "linecolor": "white",
            "showbackground": true,
            "ticks": "",
            "zerolinecolor": "white"
           },
           "yaxis": {
            "backgroundcolor": "#E5ECF6",
            "gridcolor": "white",
            "gridwidth": 2,
            "linecolor": "white",
            "showbackground": true,
            "ticks": "",
            "zerolinecolor": "white"
           },
           "zaxis": {
            "backgroundcolor": "#E5ECF6",
            "gridcolor": "white",
            "gridwidth": 2,
            "linecolor": "white",
            "showbackground": true,
            "ticks": "",
            "zerolinecolor": "white"
           }
          },
          "shapedefaults": {
           "line": {
            "color": "#2a3f5f"
           }
          },
          "ternary": {
           "aaxis": {
            "gridcolor": "white",
            "linecolor": "white",
            "ticks": ""
           },
           "baxis": {
            "gridcolor": "white",
            "linecolor": "white",
            "ticks": ""
           },
           "bgcolor": "#E5ECF6",
           "caxis": {
            "gridcolor": "white",
            "linecolor": "white",
            "ticks": ""
           }
          },
          "title": {
           "x": 0.05
          },
          "xaxis": {
           "automargin": true,
           "gridcolor": "white",
           "linecolor": "white",
           "ticks": "",
           "zerolinecolor": "white",
           "zerolinewidth": 2
          },
          "yaxis": {
           "automargin": true,
           "gridcolor": "white",
           "linecolor": "white",
           "ticks": "",
           "zerolinecolor": "white",
           "zerolinewidth": 2
          }
         }
        },
        "xaxis": {
         "title": {
          "text": "tau"
         },
         "zeroline": false
        },
        "yaxis": {
         "range": [
          0,
          1
         ],
         "showline": true,
         "tickformat": "%",
         "title": {
          "text": "Proportion of >$50k"
         }
        }
       }
      },
      "text/html": [
       "<div>\n",
       "        \n",
       "        \n",
       "            <div id=\"7f9e36f0-d372-4f5f-b9b7-b26eb4432551\" class=\"plotly-graph-div\" style=\"height:525px; width:100%;\"></div>\n",
       "            <script type=\"text/javascript\">\n",
       "                require([\"plotly\"], function(Plotly) {\n",
       "                    window.PLOTLYENV=window.PLOTLYENV || {};\n",
       "                    \n",
       "                if (document.getElementById(\"7f9e36f0-d372-4f5f-b9b7-b26eb4432551\")) {\n",
       "                    Plotly.newPlot(\n",
       "                        '7f9e36f0-d372-4f5f-b9b7-b26eb4432551',\n",
       "                        [{\"hoverinfo\": \"x+y+text\", \"mode\": \"lines+markers\", \"name\": \"age\", \"text\": [\"age = 19.0\", \"age = 19.976612209802237\", \"age = 20.95322441960447\", \"age = 21.929836629406708\", \"age = 22.90644883920894\", \"age = 23.88306104901118\", \"age = 24.859673258813416\", \"age = 25.83628546861565\", \"age = 26.812897678417887\", \"age = 27.78950988822012\", \"age = 28.766122098022358\", \"age = 29.74273430782459\", \"age = 30.71934651762683\", \"age = 31.695958727429066\", \"age = 32.6725709372313\", \"age = 33.64918314703354\", \"age = 34.62579535683577\", \"age = 35.60240756663801\", \"age = 36.57901977644024\", \"age = 37.55563198624248\", \"age = 38.532244196044715\", \"age = 39.75563198624248\", \"age = 40.979019776440246\", \"age = 42.20240756663801\", \"age = 43.42579535683577\", \"age = 44.64918314703354\", \"age = 45.8725709372313\", \"age = 47.095958727429064\", \"age = 48.319346517626826\", \"age = 49.542734307824595\", \"age = 50.76612209802236\", \"age = 51.98950988822013\", \"age = 53.21289767841789\", \"age = 54.43628546861565\", \"age = 55.65967325881341\", \"age = 56.883061049011175\", \"age = 58.106448839208944\", \"age = 59.32983662940671\", \"age = 60.553224419604476\", \"age = 61.77661220980224\", \"age = 63.0\"], \"type\": \"scatter\", \"x\": [-1.0, -0.95, -0.9, -0.85, -0.8, -0.75, -0.7, -0.65, -0.6, -0.55, -0.5, -0.45, -0.4, -0.35, -0.3, -0.25, -0.2, -0.15, -0.1, -0.05, 0.0, 0.05, 0.1, 0.15, 0.2, 0.25, 0.3, 0.35, 0.4, 0.45, 0.5, 0.55, 0.6, 0.65, 0.7, 0.75, 0.8, 0.85, 0.9, 0.95, 1.0], \"y\": [0.005795288904050156, 0.014115645581558017, 0.025818041869586444, 0.03947716431829931, 0.05408784604543284, 0.06903377218215195, 0.08394451535249936, 0.09859609957867316, 0.11285161982950584, 0.1266265924792117, 0.13986861989446145, 0.15254526883441127, 0.1646367120690613, 0.17613118288706958, 0.18702212540629856, 0.19730638874099857, 0.20698307669291638, 0.21605281687537245, 0.22451730284975302, 0.23237901668995536, 0.23964107229357354, 0.24789772017135098, 0.2552275791216577, 0.2616404453986808, 0.2671476473159055, 0.27176223105866854, 0.2754991586899667, 0.27837549523514604, 0.28041056662231384, 0.2816260740694739, 0.28204615397376265, 0.2816973758589993, 0.280608674614239, 0.278811217063312, 0.276338206668762, 0.27322463364340055, 0.2695069806502043, 0.26522289638184193, 0.2604108504663437, 0.25510978328833844, 0.2493587634945709]}, {\"hoverinfo\": \"x+y+text\", \"mode\": \"lines+markers\", \"name\": \"education-num\", \"text\": [\"education-num = 5.0\", \"education-num = 5.252708512467756\", \"education-num = 5.505417024935511\", \"education-num = 5.758125537403267\", \"education-num = 6.010834049871023\", \"education-num = 6.263542562338779\", \"education-num = 6.516251074806535\", \"education-num = 6.76895958727429\", \"education-num = 7.021668099742046\", \"education-num = 7.274376612209801\", \"education-num = 7.527085124677558\", \"education-num = 7.779793637145313\", \"education-num = 8.03250214961307\", \"education-num = 8.285210662080825\", \"education-num = 8.53791917454858\", \"education-num = 8.790627687016336\", \"education-num = 9.043336199484092\", \"education-num = 9.296044711951849\", \"education-num = 9.548753224419604\", \"education-num = 9.80146173688736\", \"education-num = 10.054170249355115\", \"education-num = 10.251461736887359\", \"education-num = 10.448753224419605\", \"education-num = 10.646044711951848\", \"education-num = 10.843336199484092\", \"education-num = 11.040627687016336\", \"education-num = 11.23791917454858\", \"education-num = 11.435210662080825\", \"education-num = 11.63250214961307\", \"education-num = 11.829793637145313\", \"education-num = 12.027085124677559\", \"education-num = 12.224376612209802\", \"education-num = 12.421668099742046\", \"education-num = 12.61895958727429\", \"education-num = 12.816251074806534\", \"education-num = 13.01354256233878\", \"education-num = 13.210834049871023\", \"education-num = 13.408125537403267\", \"education-num = 13.605417024935512\", \"education-num = 13.802708512467756\", \"education-num = 14.0\"], \"type\": \"scatter\", \"x\": [-1.0, -0.95, -0.9, -0.85, -0.8, -0.75, -0.7, -0.65, -0.6, -0.55, -0.5, -0.45, -0.4, -0.35, -0.3, -0.25, -0.2, -0.15, -0.1, -0.05, 0.0, 0.05, 0.1, 0.15, 0.2, 0.25, 0.3, 0.35, 0.4, 0.45, 0.5, 0.55, 0.6, 0.65, 0.7, 0.75, 0.8, 0.85, 0.9, 0.95, 1.0], \"y\": [0.0921069346501984, 0.096000275939368, 0.1001396518429584, 0.10452541038903665, 0.10916187533141464, 0.11405728240761513, 0.11922388989702565, 0.12467824501477148, 0.13044159260827443, 0.13654041070715991, 0.1430070461962891, 0.14988039905004596, 0.15720655955964263, 0.16503923442861637, 0.17343970425960384, 0.18247595193281005, 0.19222053481378373, 0.20274683305071795, 0.21412360709299852, 0.22640839893846662, 0.23964107229357348, 0.25064301514646325, 0.26223240011002463, 0.27439971950962266, 0.2871290310361436, 0.3003999873556062, 0.3141900059652911, 0.3284762821146607, 0.34323745622767393, 0.358454861579893, 0.3741133627799161, 0.3902018385248948, 0.4067133665296579, 0.4236451431205123, 0.44099812119686044, 0.4587762794020318, 0.47698533966910384, 0.4956306289310201, 0.5147136490344645, 0.534226836726333, 0.5541461072709021]}, {\"hoverinfo\": \"x+y+text\", \"mode\": \"lines+markers\", \"name\": \"hours-per-week\", \"text\": [\"hours-per-week = 17.0\", \"hours-per-week = 18.17950497481882\", \"hours-per-week = 19.359009949637635\", \"hours-per-week = 20.538514924456457\", \"hours-per-week = 21.718019899275273\", \"hours-per-week = 22.897524874094092\", \"hours-per-week = 24.07702984891291\", \"hours-per-week = 25.256534823731727\", \"hours-per-week = 26.436039798550546\", \"hours-per-week = 27.615544773369365\", \"hours-per-week = 28.795049748188184\", \"hours-per-week = 29.974554723007003\", \"hours-per-week = 31.154059697825822\", \"hours-per-week = 32.33356467264464\", \"hours-per-week = 33.51306964746346\", \"hours-per-week = 34.69257462228228\", \"hours-per-week = 35.87207959710109\", \"hours-per-week = 37.05158457191991\", \"hours-per-week = 38.23108954673873\", \"hours-per-week = 39.41059452155755\", \"hours-per-week = 40.59009949637637\", \"hours-per-week = 41.56059452155755\", \"hours-per-week = 42.531089546738734\", \"hours-per-week = 43.50158457191991\", \"hours-per-week = 44.47207959710109\", \"hours-per-week = 45.44257462228228\", \"hours-per-week = 46.41306964746346\", \"hours-per-week = 47.38356467264464\", \"hours-per-week = 48.35405969782582\", \"hours-per-week = 49.324554723007004\", \"hours-per-week = 50.295049748188184\", \"hours-per-week = 51.26554477336937\", \"hours-per-week = 52.23603979855055\", \"hours-per-week = 53.20653482373173\", \"hours-per-week = 54.17702984891291\", \"hours-per-week = 55.14752487409409\", \"hours-per-week = 56.118019899275275\", \"hours-per-week = 57.088514924456454\", \"hours-per-week = 58.05900994963764\", \"hours-per-week = 59.02950497481882\", \"hours-per-week = 60.0\"], \"type\": \"scatter\", \"x\": [-1.0, -0.95, -0.9, -0.85, -0.8, -0.75, -0.7, -0.65, -0.6, -0.55, -0.5, -0.45, -0.4, -0.35, -0.3, -0.25, -0.2, -0.15, -0.1, -0.05, 0.0, 0.05, 0.1, 0.15, 0.2, 0.25, 0.3, 0.35, 0.4, 0.45, 0.5, 0.55, 0.6, 0.65, 0.7, 0.75, 0.8, 0.85, 0.9, 0.95, 1.0], \"y\": [0.09751095961897183, 0.10195394871589039, 0.10672629193622192, 0.11180724152162973, 0.11718149413984268, 0.12283825213038797, 0.12877052912609455, 0.13497463305815469, 0.14144976392137878, 0.14819766136188636, 0.155222222251793, 0.16252897378061915, 0.1701242223826096, 0.17801358791187058, 0.18619946145901103, 0.19467670309741603, 0.2034257234028422, 0.2124023130744238, 0.22152496699939767, 0.23066393206338684, 0.23964107229357354, 0.2467607097600338, 0.25352059066281507, 0.2598322776267949, 0.2656397648709474, 0.2709207105783646, 0.2756805030240773, 0.27994337179033063, 0.28374399484991164, 0.2871211920683432, 0.2901138734933293, 0.2927587731135495, 0.29508938596378986, 0.29713563245839436, 0.2989239224317083, 0.3004774150394182, 0.30181635640618376, 0.3029584309110242, 0.303919094010545, 0.30471187263818283, 0.3053486327379366]}],\n",
       "                        {\"margin\": {\"r\": 50, \"t\": 50}, \"plot_bgcolor\": \"white\", \"template\": {\"data\": {\"bar\": [{\"error_x\": {\"color\": \"#2a3f5f\"}, \"error_y\": {\"color\": \"#2a3f5f\"}, \"marker\": {\"line\": {\"color\": \"#E5ECF6\", \"width\": 0.5}}, \"type\": \"bar\"}], \"barpolar\": [{\"marker\": {\"line\": {\"color\": \"#E5ECF6\", \"width\": 0.5}}, \"type\": \"barpolar\"}], \"carpet\": [{\"aaxis\": {\"endlinecolor\": \"#2a3f5f\", \"gridcolor\": \"white\", \"linecolor\": \"white\", \"minorgridcolor\": \"white\", \"startlinecolor\": \"#2a3f5f\"}, \"baxis\": {\"endlinecolor\": \"#2a3f5f\", \"gridcolor\": \"white\", \"linecolor\": \"white\", \"minorgridcolor\": \"white\", \"startlinecolor\": \"#2a3f5f\"}, \"type\": \"carpet\"}], \"choropleth\": [{\"colorbar\": {\"outlinewidth\": 0, \"ticks\": \"\"}, \"type\": \"choropleth\"}], \"contour\": [{\"colorbar\": {\"outlinewidth\": 0, \"ticks\": \"\"}, \"colorscale\": [[0.0, \"#0d0887\"], [0.1111111111111111, \"#46039f\"], [0.2222222222222222, \"#7201a8\"], [0.3333333333333333, \"#9c179e\"], [0.4444444444444444, \"#bd3786\"], [0.5555555555555556, \"#d8576b\"], [0.6666666666666666, \"#ed7953\"], [0.7777777777777778, \"#fb9f3a\"], [0.8888888888888888, \"#fdca26\"], [1.0, \"#f0f921\"]], \"type\": \"contour\"}], \"contourcarpet\": [{\"colorbar\": {\"outlinewidth\": 0, \"ticks\": \"\"}, \"type\": \"contourcarpet\"}], \"heatmap\": [{\"colorbar\": {\"outlinewidth\": 0, \"ticks\": \"\"}, \"colorscale\": [[0.0, \"#0d0887\"], [0.1111111111111111, \"#46039f\"], [0.2222222222222222, \"#7201a8\"], [0.3333333333333333, \"#9c179e\"], [0.4444444444444444, \"#bd3786\"], [0.5555555555555556, \"#d8576b\"], [0.6666666666666666, \"#ed7953\"], [0.7777777777777778, \"#fb9f3a\"], [0.8888888888888888, \"#fdca26\"], [1.0, \"#f0f921\"]], \"type\": \"heatmap\"}], \"heatmapgl\": [{\"colorbar\": {\"outlinewidth\": 0, \"ticks\": \"\"}, \"colorscale\": [[0.0, \"#0d0887\"], [0.1111111111111111, \"#46039f\"], [0.2222222222222222, \"#7201a8\"], [0.3333333333333333, \"#9c179e\"], [0.4444444444444444, \"#bd3786\"], [0.5555555555555556, \"#d8576b\"], [0.6666666666666666, \"#ed7953\"], [0.7777777777777778, \"#fb9f3a\"], [0.8888888888888888, \"#fdca26\"], [1.0, \"#f0f921\"]], \"type\": \"heatmapgl\"}], \"histogram\": [{\"marker\": {\"colorbar\": {\"outlinewidth\": 0, \"ticks\": \"\"}}, \"type\": \"histogram\"}], \"histogram2d\": [{\"colorbar\": {\"outlinewidth\": 0, \"ticks\": \"\"}, \"colorscale\": [[0.0, \"#0d0887\"], [0.1111111111111111, \"#46039f\"], [0.2222222222222222, \"#7201a8\"], [0.3333333333333333, \"#9c179e\"], [0.4444444444444444, \"#bd3786\"], [0.5555555555555556, \"#d8576b\"], [0.6666666666666666, \"#ed7953\"], [0.7777777777777778, \"#fb9f3a\"], [0.8888888888888888, \"#fdca26\"], [1.0, \"#f0f921\"]], \"type\": \"histogram2d\"}], \"histogram2dcontour\": [{\"colorbar\": {\"outlinewidth\": 0, \"ticks\": \"\"}, \"colorscale\": [[0.0, \"#0d0887\"], [0.1111111111111111, \"#46039f\"], [0.2222222222222222, \"#7201a8\"], [0.3333333333333333, \"#9c179e\"], [0.4444444444444444, \"#bd3786\"], [0.5555555555555556, \"#d8576b\"], [0.6666666666666666, \"#ed7953\"], [0.7777777777777778, \"#fb9f3a\"], [0.8888888888888888, \"#fdca26\"], [1.0, \"#f0f921\"]], \"type\": \"histogram2dcontour\"}], \"mesh3d\": [{\"colorbar\": {\"outlinewidth\": 0, \"ticks\": \"\"}, \"type\": \"mesh3d\"}], \"parcoords\": [{\"line\": {\"colorbar\": {\"outlinewidth\": 0, \"ticks\": \"\"}}, \"type\": \"parcoords\"}], \"scatter\": [{\"marker\": {\"colorbar\": {\"outlinewidth\": 0, \"ticks\": \"\"}}, \"type\": \"scatter\"}], \"scatter3d\": [{\"line\": {\"colorbar\": {\"outlinewidth\": 0, \"ticks\": \"\"}}, \"marker\": {\"colorbar\": {\"outlinewidth\": 0, \"ticks\": \"\"}}, \"type\": \"scatter3d\"}], \"scattercarpet\": [{\"marker\": {\"colorbar\": {\"outlinewidth\": 0, \"ticks\": \"\"}}, \"type\": \"scattercarpet\"}], \"scattergeo\": [{\"marker\": {\"colorbar\": {\"outlinewidth\": 0, \"ticks\": \"\"}}, \"type\": \"scattergeo\"}], \"scattergl\": [{\"marker\": {\"colorbar\": {\"outlinewidth\": 0, \"ticks\": \"\"}}, \"type\": \"scattergl\"}], \"scattermapbox\": [{\"marker\": {\"colorbar\": {\"outlinewidth\": 0, \"ticks\": \"\"}}, \"type\": \"scattermapbox\"}], \"scatterpolar\": [{\"marker\": {\"colorbar\": {\"outlinewidth\": 0, \"ticks\": \"\"}}, \"type\": \"scatterpolar\"}], \"scatterpolargl\": [{\"marker\": {\"colorbar\": {\"outlinewidth\": 0, \"ticks\": \"\"}}, \"type\": \"scatterpolargl\"}], \"scatterternary\": [{\"marker\": {\"colorbar\": {\"outlinewidth\": 0, \"ticks\": \"\"}}, \"type\": \"scatterternary\"}], \"surface\": [{\"colorbar\": {\"outlinewidth\": 0, \"ticks\": \"\"}, \"colorscale\": [[0.0, \"#0d0887\"], [0.1111111111111111, \"#46039f\"], [0.2222222222222222, \"#7201a8\"], [0.3333333333333333, \"#9c179e\"], [0.4444444444444444, \"#bd3786\"], [0.5555555555555556, \"#d8576b\"], [0.6666666666666666, \"#ed7953\"], [0.7777777777777778, \"#fb9f3a\"], [0.8888888888888888, \"#fdca26\"], [1.0, \"#f0f921\"]], \"type\": \"surface\"}], \"table\": [{\"cells\": {\"fill\": {\"color\": \"#EBF0F8\"}, \"line\": {\"color\": \"white\"}}, \"header\": {\"fill\": {\"color\": \"#C8D4E3\"}, \"line\": {\"color\": \"white\"}}, \"type\": \"table\"}]}, \"layout\": {\"annotationdefaults\": {\"arrowcolor\": \"#2a3f5f\", \"arrowhead\": 0, \"arrowwidth\": 1}, \"colorscale\": {\"diverging\": [[0, \"#8e0152\"], [0.1, \"#c51b7d\"], [0.2, \"#de77ae\"], [0.3, \"#f1b6da\"], [0.4, \"#fde0ef\"], [0.5, \"#f7f7f7\"], [0.6, \"#e6f5d0\"], [0.7, \"#b8e186\"], [0.8, \"#7fbc41\"], [0.9, \"#4d9221\"], [1, \"#276419\"]], \"sequential\": [[0.0, \"#0d0887\"], [0.1111111111111111, \"#46039f\"], [0.2222222222222222, \"#7201a8\"], [0.3333333333333333, \"#9c179e\"], [0.4444444444444444, \"#bd3786\"], [0.5555555555555556, \"#d8576b\"], [0.6666666666666666, \"#ed7953\"], [0.7777777777777778, \"#fb9f3a\"], [0.8888888888888888, \"#fdca26\"], [1.0, \"#f0f921\"]], \"sequentialminus\": [[0.0, \"#0d0887\"], [0.1111111111111111, \"#46039f\"], [0.2222222222222222, \"#7201a8\"], [0.3333333333333333, \"#9c179e\"], [0.4444444444444444, \"#bd3786\"], [0.5555555555555556, \"#d8576b\"], [0.6666666666666666, \"#ed7953\"], [0.7777777777777778, \"#fb9f3a\"], [0.8888888888888888, \"#fdca26\"], [1.0, \"#f0f921\"]]}, \"colorway\": [\"#636efa\", \"#EF553B\", \"#00cc96\", \"#ab63fa\", \"#FFA15A\", \"#19d3f3\", \"#FF6692\", \"#B6E880\", \"#FF97FF\", \"#FECB52\"], \"font\": {\"color\": \"#2a3f5f\"}, \"geo\": {\"bgcolor\": \"white\", \"lakecolor\": \"white\", \"landcolor\": \"#E5ECF6\", \"showlakes\": true, \"showland\": true, \"subunitcolor\": \"white\"}, \"hoverlabel\": {\"align\": \"left\"}, \"hovermode\": \"closest\", \"mapbox\": {\"style\": \"light\"}, \"paper_bgcolor\": \"white\", \"plot_bgcolor\": \"#E5ECF6\", \"polar\": {\"angularaxis\": {\"gridcolor\": \"white\", \"linecolor\": \"white\", \"ticks\": \"\"}, \"bgcolor\": \"#E5ECF6\", \"radialaxis\": {\"gridcolor\": \"white\", \"linecolor\": \"white\", \"ticks\": \"\"}}, \"scene\": {\"xaxis\": {\"backgroundcolor\": \"#E5ECF6\", \"gridcolor\": \"white\", \"gridwidth\": 2, \"linecolor\": \"white\", \"showbackground\": true, \"ticks\": \"\", \"zerolinecolor\": \"white\"}, \"yaxis\": {\"backgroundcolor\": \"#E5ECF6\", \"gridcolor\": \"white\", \"gridwidth\": 2, \"linecolor\": \"white\", \"showbackground\": true, \"ticks\": \"\", \"zerolinecolor\": \"white\"}, \"zaxis\": {\"backgroundcolor\": \"#E5ECF6\", \"gridcolor\": \"white\", \"gridwidth\": 2, \"linecolor\": \"white\", \"showbackground\": true, \"ticks\": \"\", \"zerolinecolor\": \"white\"}}, \"shapedefaults\": {\"line\": {\"color\": \"#2a3f5f\"}}, \"ternary\": {\"aaxis\": {\"gridcolor\": \"white\", \"linecolor\": \"white\", \"ticks\": \"\"}, \"baxis\": {\"gridcolor\": \"white\", \"linecolor\": \"white\", \"ticks\": \"\"}, \"bgcolor\": \"#E5ECF6\", \"caxis\": {\"gridcolor\": \"white\", \"linecolor\": \"white\", \"ticks\": \"\"}}, \"title\": {\"x\": 0.05}, \"xaxis\": {\"automargin\": true, \"gridcolor\": \"white\", \"linecolor\": \"white\", \"ticks\": \"\", \"zerolinecolor\": \"white\", \"zerolinewidth\": 2}, \"yaxis\": {\"automargin\": true, \"gridcolor\": \"white\", \"linecolor\": \"white\", \"ticks\": \"\", \"zerolinecolor\": \"white\", \"zerolinewidth\": 2}}}, \"xaxis\": {\"title\": {\"text\": \"tau\"}, \"zeroline\": false}, \"yaxis\": {\"range\": [0, 1], \"showline\": true, \"tickformat\": \"%\", \"title\": {\"text\": \"Proportion of >$50k\"}}},\n",
       "                        {\"responsive\": true}\n",
       "                    ).then(function(){\n",
       "                            \n",
       "var gd = document.getElementById('7f9e36f0-d372-4f5f-b9b7-b26eb4432551');\n",
       "var x = new MutationObserver(function (mutations, observer) {{\n",
       "        var display = window.getComputedStyle(gd).display;\n",
       "        if (!display || display === 'none') {{\n",
       "            console.log([gd, 'removed!']);\n",
       "            Plotly.purge(gd);\n",
       "            observer.disconnect();\n",
       "        }}\n",
       "}});\n",
       "\n",
       "// Listen for the removal of the full notebook cells\n",
       "var notebookContainer = gd.closest('#notebook-container');\n",
       "if (notebookContainer) {{\n",
       "    x.observe(notebookContainer, {childList: true});\n",
       "}}\n",
       "\n",
       "// Listen for the clearing of the current output cell\n",
       "var outputEl = gd.closest('.output');\n",
       "if (outputEl) {{\n",
       "    x.observe(outputEl, {childList: true});\n",
       "}}\n",
       "\n",
       "                        })\n",
       "                };\n",
       "                });\n",
       "            </script>\n",
       "        </div>"
      ]
     },
     "metadata": {},
     "output_type": "display_data"
    }
   ],
   "source": [
    "explainer.plot_bias(\n",
    "    X_test=X_test[[\"age\", \"education-num\", \"hours-per-week\"]],\n",
    "    y_pred=y_pred,\n",
    "    inline=True\n",
    ")"
   ]
  },
  {
   "cell_type": "markdown",
   "metadata": {},
   "source": [
    "TODO: comparison with PDP"
   ]
  },
  {
   "cell_type": "code",
   "execution_count": null,
   "metadata": {},
   "outputs": [],
   "source": []
  }
 ],
 "metadata": {
  "kernelspec": {
   "display_name": "ethik",
   "language": "python",
   "name": "ethik"
  },
  "language_info": {
   "codemirror_mode": {
    "name": "ipython",
    "version": 3
   },
   "file_extension": ".py",
   "mimetype": "text/x-python",
   "name": "python",
   "nbconvert_exporter": "python",
   "pygments_lexer": "ipython3",
   "version": "3.7.3"
  }
 },
 "nbformat": 4,
 "nbformat_minor": 2
}
