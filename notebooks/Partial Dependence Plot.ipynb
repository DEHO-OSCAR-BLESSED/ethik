{
 "cells": [
  {
   "cell_type": "markdown",
   "metadata": {},
   "source": [
    "# Comparison with Partial Dependence Plot"
   ]
  },
  {
   "cell_type": "markdown",
   "metadata": {},
   "source": [
    "In the \"Interpretable Machine Learning\" book, we [can read](https://christophm.github.io/interpretable-ml-book/pdp.html):\n",
    "\n",
    "> The partial dependence plot (short PDP or PD plot) shows the marginal effect one or two features have on the predicted outcome of a machine learning model (Friedman, Jerome H. “Greedy function approximation: A gradient boosting machine.” Annals of statistics (2001): 1189-1232.). A partial dependence plot can show whether the relationship between the target and a feature is linear, monotonic or more complex. For example, when applied to a linear regression model, partial dependence plots always show a linear relationship.\n",
    "\n",
    "Put differently further in the book:\n",
    "\n",
    "> **Partial Dependence Plots:** “Let me show you what the model predicts on average when each data instance has the value v for that feature. I ignore whether the value v makes sense for all data instances.”\n",
    "\n",
    "Computing a PDP is really straightforward:\n",
    "\n",
    "1. Select a feature (e.g. \"age\")\n",
    "2. Define a grid on the feature's domain (e.g. 20, 21, 22, ..., 59, 60)\n",
    "3. For each value `v` of the grid:\n",
    "    1. Replace the feature with `v` for all data samples\n",
    "    2. Compute the predictions\n",
    "    3. Take the average\n",
    "4. Draw the curve `average_prediction = f(v)`\n",
    "\n",
    "PDPs are used in Google's [What-If Tool](https://pair-code.github.io/what-if-tool/walkthrough.html). In this notebook, we compare this method with ours, Entropic Variable Boosting (EVB), on the \"Adult\" dataset (see the dedicated notebook for additional information)."
   ]
  },
  {
   "cell_type": "code",
   "execution_count": 37,
   "metadata": {},
   "outputs": [],
   "source": [
    "import ethik\n",
    "import lightgbm as lgb\n",
    "import numpy as np\n",
    "import pandas as pd\n",
    "import plotly.graph_objs as go\n",
    "from sklearn import model_selection\n",
    "import sklearn.inspection\n",
    "\n",
    "url = 'https://archive.ics.uci.edu/ml/machine-learning-databases/adult/adult.data'\n",
    "names = [\n",
    "    'age', 'workclass', 'fnlwgt', 'education',\n",
    "    'education-num', 'marital-status', 'occupation',\n",
    "    'relationship', 'race', 'gender', 'capital-gain',\n",
    "    'capital-loss', 'hours-per-week', 'native-country',\n",
    "    'salary'\n",
    "]\n",
    "dtypes = {\n",
    "    'workclass': 'category',\n",
    "    'education': 'category',\n",
    "    'marital-status': 'category',\n",
    "    'occupation': 'category',\n",
    "    'relationship': 'category',\n",
    "    'race': 'category',\n",
    "    'gender': 'category',\n",
    "    'native-country': 'category'\n",
    "}\n",
    "\n",
    "X = pd.read_csv(url, names=names, header=None, dtype=dtypes)\n",
    "y = X.pop('salary').map({' <=50K': False, ' >50K': True})\n",
    "\n",
    "# plot_partial_dependence() doesn't handle strings\n",
    "cat_columns = X.select_dtypes(['category']).columns\n",
    "X[cat_columns] = X[cat_columns].apply(lambda x: x.cat.codes)\n",
    "\n",
    "X_train, X_test, y_train, y_test = model_selection.train_test_split(X, y, shuffle=True, random_state=42)\n",
    "\n",
    "model = lgb.LGBMClassifier(random_state=42).fit(X_train, y_train)\n",
    "y_pred = pd.Series(model.predict_proba(X_test)[:, 1], name='>$50k')"
   ]
  },
  {
   "cell_type": "markdown",
   "metadata": {},
   "source": [
    "Let's define helpers to compare PDP and EVB:"
   ]
  },
  {
   "cell_type": "code",
   "execution_count": 51,
   "metadata": {},
   "outputs": [],
   "source": [
    "def create_fig():\n",
    "    fig = go.Figure()\n",
    "    fig.update_layout(\n",
    "        margin=dict(t=50, r=50),\n",
    "        xaxis=dict(title=feature, zeroline=False),\n",
    "        yaxis=dict(title=\"Average prediction\", range=[0, 1], showline=True, tickformat=\"%\"),\n",
    "        plot_bgcolor=\"white\",\n",
    "    )\n",
    "    return fig\n",
    "\n",
    "def plot_partial_dependence(feature, n_samples=1, fig=None):\n",
    "    rs = model_selection.ShuffleSplit(n_splits=n_samples, train_size=0.8)\n",
    "    data = []\n",
    "    for index, _ in rs.split(X_test):\n",
    "        averaged_predictions, values = sklearn.inspection.partial_dependence(\n",
    "            estimator=model,\n",
    "            X=X_test.iloc[index],\n",
    "            features=[X_test.columns.get_loc(feature)],\n",
    "            grid_resolution=41,\n",
    "        )\n",
    "        x = values[0]\n",
    "        y = averaged_predictions[0]\n",
    "        data.append((x, y))\n",
    "    \n",
    "    x = data[0][0]\n",
    "    ys = [y for x, y in data]\n",
    "    \n",
    "    if fig is None:\n",
    "        fig = create_fig()\n",
    "    \n",
    "    if n_samples > 1:\n",
    "        low = np.quantile(ys, q=0.05, axis=0)\n",
    "        high = np.quantile(ys, q=0.95, axis=0)\n",
    "        fig.add_trace(\n",
    "            go.Scatter(\n",
    "                x=np.concatenate((x, x[::-1])),\n",
    "                y=np.concatenate((low, high[::-1])),\n",
    "                name=\"PDP: 5% - 95%\",\n",
    "                fill=\"toself\",\n",
    "                fillcolor=\"#eee\",\n",
    "                line_color=\"rgba(0, 0, 0, 0)\",\n",
    "                legendgroup=\"PDP\"\n",
    "            )\n",
    "        )\n",
    "    \n",
    "    fig.add_trace(go.Scatter(\n",
    "        x=x,\n",
    "        y=np.mean(ys, axis=0),\n",
    "        name=\"PDP\",\n",
    "        legendgroup=\"PDP\"\n",
    "    ))\n",
    "    \n",
    "    return fig\n",
    "\n",
    "def plot_evb(feature, n_samples=1):\n",
    "    return ethik.ClassificationExplainer(n_samples=n_samples).plot_bias(\n",
    "        X_test=X_test[feature],\n",
    "        y_pred=y_pred\n",
    "    )\n",
    "\n",
    "def plot_all(feature, n_samples=1):\n",
    "    fig = plot_evb(feature, n_samples=n_samples)\n",
    "    return plot_partial_dependence(feature, n_samples=n_samples, fig=fig)"
   ]
  },
  {
   "cell_type": "code",
   "execution_count": 52,
   "metadata": {},
   "outputs": [
    {
     "data": {
      "application/vnd.plotly.v1+json": {
       "config": {
        "plotlyServerURL": "https://plot.ly"
       },
       "data": [
        {
         "hoverinfo": "x+y",
         "mode": "lines+markers",
         "showlegend": false,
         "type": "scatter",
         "x": [
          19,
          19.976612209802237,
          20.95322441960447,
          21.929836629406708,
          22.90644883920894,
          23.88306104901118,
          24.859673258813416,
          25.83628546861565,
          26.812897678417887,
          27.78950988822012,
          28.766122098022358,
          29.74273430782459,
          30.71934651762683,
          31.695958727429066,
          32.6725709372313,
          33.64918314703354,
          34.62579535683577,
          35.60240756663801,
          36.57901977644024,
          37.55563198624248,
          38.532244196044715,
          39.75563198624248,
          40.979019776440246,
          42.20240756663801,
          43.42579535683577,
          44.64918314703354,
          45.8725709372313,
          47.095958727429064,
          48.319346517626826,
          49.542734307824595,
          50.76612209802236,
          51.98950988822013,
          53.21289767841789,
          54.43628546861565,
          55.65967325881341,
          56.883061049011175,
          58.106448839208944,
          59.32983662940671,
          60.553224419604476,
          61.77661220980224,
          63
         ],
         "y": [
          0.005666647640415569,
          0.014083561257358039,
          0.02581345776342054,
          0.03947671804718588,
          0.054087813780226,
          0.06903377218215194,
          0.08394451535249933,
          0.0985960995786731,
          0.11285161982950588,
          0.12662659247921176,
          0.1398686198944615,
          0.15254526906613203,
          0.16463671208848907,
          0.17613118288830482,
          0.18702212540635374,
          0.1973063887410002,
          0.20698307669291646,
          0.21605281706086352,
          0.22451730285482036,
          0.23237901668996896,
          0.2396410722935734,
          0.24789772017138437,
          0.25522757912659594,
          0.2616404453986808,
          0.26714764731590557,
          0.27176223105866854,
          0.27549915868996666,
          0.27837549523514604,
          0.28041056662231395,
          0.28162607406947393,
          0.2820461539737627,
          0.2816973758589993,
          0.280608674614239,
          0.278811217063312,
          0.2763382066687621,
          0.2732246336434005,
          0.2695069806502043,
          0.2652228963818499,
          0.2604108504665664,
          0.2551097832912074,
          0.24935876349457092
         ]
        },
        {
         "hoverinfo": "skip",
         "marker": {
          "color": "black",
          "size": 9,
          "symbol": "x"
         },
         "mode": "markers",
         "name": "Original mean",
         "type": "scatter",
         "x": [
          38.532244196044715
         ],
         "y": [
          0.2396410722935734
         ]
        },
        {
         "legendgroup": "PDP",
         "name": "PDP",
         "type": "scatter",
         "x": [
          19,
          20.1,
          21.2,
          22.3,
          23.4,
          24.5,
          25.6,
          26.700000000000003,
          27.8,
          28.9,
          30,
          31.1,
          32.2,
          33.3,
          34.400000000000006,
          35.5,
          36.6,
          37.7,
          38.8,
          39.900000000000006,
          41,
          42.1,
          43.2,
          44.3,
          45.400000000000006,
          46.5,
          47.6,
          48.7,
          49.800000000000004,
          50.900000000000006,
          52,
          53.1,
          54.2,
          55.300000000000004,
          56.400000000000006,
          57.5,
          58.6,
          59.7,
          60.800000000000004,
          61.900000000000006,
          63
         ],
         "y": [
          0.04127051291677969,
          0.04127051291677969,
          0.06485965041534894,
          0.09545672677614359,
          0.09175116472906937,
          0.1122465938780408,
          0.15096584487160247,
          0.15937347371255006,
          0.16788457317442487,
          0.18143617306025775,
          0.19883725333350927,
          0.2088607781420555,
          0.2104454112845667,
          0.21248162622845726,
          0.22018361842919892,
          0.22176552644974004,
          0.23515625516162303,
          0.2565967584749769,
          0.2565375399143744,
          0.25934868417765744,
          0.2606406598587853,
          0.26246817564205666,
          0.26476723532965385,
          0.2727857065187043,
          0.2788883678122286,
          0.27983420458011976,
          0.2865833091528257,
          0.2880027058441564,
          0.28794333328648863,
          0.287355769614473,
          0.2877791674650832,
          0.289767722234843,
          0.29167923494899456,
          0.2768852211060931,
          0.2779956139651016,
          0.2812649599055736,
          0.2813839905421757,
          0.29045277304518613,
          0.27716892021448225,
          0.2767635253777922,
          0.24809741625254408
         ]
        }
       ],
       "layout": {
        "margin": {
         "r": 50,
         "t": 50
        },
        "plot_bgcolor": "white",
        "template": {
         "data": {
          "bar": [
           {
            "error_x": {
             "color": "#2a3f5f"
            },
            "error_y": {
             "color": "#2a3f5f"
            },
            "marker": {
             "line": {
              "color": "#E5ECF6",
              "width": 0.5
             }
            },
            "type": "bar"
           }
          ],
          "barpolar": [
           {
            "marker": {
             "line": {
              "color": "#E5ECF6",
              "width": 0.5
             }
            },
            "type": "barpolar"
           }
          ],
          "carpet": [
           {
            "aaxis": {
             "endlinecolor": "#2a3f5f",
             "gridcolor": "white",
             "linecolor": "white",
             "minorgridcolor": "white",
             "startlinecolor": "#2a3f5f"
            },
            "baxis": {
             "endlinecolor": "#2a3f5f",
             "gridcolor": "white",
             "linecolor": "white",
             "minorgridcolor": "white",
             "startlinecolor": "#2a3f5f"
            },
            "type": "carpet"
           }
          ],
          "choropleth": [
           {
            "colorbar": {
             "outlinewidth": 0,
             "ticks": ""
            },
            "type": "choropleth"
           }
          ],
          "contour": [
           {
            "colorbar": {
             "outlinewidth": 0,
             "ticks": ""
            },
            "colorscale": [
             [
              0,
              "#0d0887"
             ],
             [
              0.1111111111111111,
              "#46039f"
             ],
             [
              0.2222222222222222,
              "#7201a8"
             ],
             [
              0.3333333333333333,
              "#9c179e"
             ],
             [
              0.4444444444444444,
              "#bd3786"
             ],
             [
              0.5555555555555556,
              "#d8576b"
             ],
             [
              0.6666666666666666,
              "#ed7953"
             ],
             [
              0.7777777777777778,
              "#fb9f3a"
             ],
             [
              0.8888888888888888,
              "#fdca26"
             ],
             [
              1,
              "#f0f921"
             ]
            ],
            "type": "contour"
           }
          ],
          "contourcarpet": [
           {
            "colorbar": {
             "outlinewidth": 0,
             "ticks": ""
            },
            "type": "contourcarpet"
           }
          ],
          "heatmap": [
           {
            "colorbar": {
             "outlinewidth": 0,
             "ticks": ""
            },
            "colorscale": [
             [
              0,
              "#0d0887"
             ],
             [
              0.1111111111111111,
              "#46039f"
             ],
             [
              0.2222222222222222,
              "#7201a8"
             ],
             [
              0.3333333333333333,
              "#9c179e"
             ],
             [
              0.4444444444444444,
              "#bd3786"
             ],
             [
              0.5555555555555556,
              "#d8576b"
             ],
             [
              0.6666666666666666,
              "#ed7953"
             ],
             [
              0.7777777777777778,
              "#fb9f3a"
             ],
             [
              0.8888888888888888,
              "#fdca26"
             ],
             [
              1,
              "#f0f921"
             ]
            ],
            "type": "heatmap"
           }
          ],
          "heatmapgl": [
           {
            "colorbar": {
             "outlinewidth": 0,
             "ticks": ""
            },
            "colorscale": [
             [
              0,
              "#0d0887"
             ],
             [
              0.1111111111111111,
              "#46039f"
             ],
             [
              0.2222222222222222,
              "#7201a8"
             ],
             [
              0.3333333333333333,
              "#9c179e"
             ],
             [
              0.4444444444444444,
              "#bd3786"
             ],
             [
              0.5555555555555556,
              "#d8576b"
             ],
             [
              0.6666666666666666,
              "#ed7953"
             ],
             [
              0.7777777777777778,
              "#fb9f3a"
             ],
             [
              0.8888888888888888,
              "#fdca26"
             ],
             [
              1,
              "#f0f921"
             ]
            ],
            "type": "heatmapgl"
           }
          ],
          "histogram": [
           {
            "marker": {
             "colorbar": {
              "outlinewidth": 0,
              "ticks": ""
             }
            },
            "type": "histogram"
           }
          ],
          "histogram2d": [
           {
            "colorbar": {
             "outlinewidth": 0,
             "ticks": ""
            },
            "colorscale": [
             [
              0,
              "#0d0887"
             ],
             [
              0.1111111111111111,
              "#46039f"
             ],
             [
              0.2222222222222222,
              "#7201a8"
             ],
             [
              0.3333333333333333,
              "#9c179e"
             ],
             [
              0.4444444444444444,
              "#bd3786"
             ],
             [
              0.5555555555555556,
              "#d8576b"
             ],
             [
              0.6666666666666666,
              "#ed7953"
             ],
             [
              0.7777777777777778,
              "#fb9f3a"
             ],
             [
              0.8888888888888888,
              "#fdca26"
             ],
             [
              1,
              "#f0f921"
             ]
            ],
            "type": "histogram2d"
           }
          ],
          "histogram2dcontour": [
           {
            "colorbar": {
             "outlinewidth": 0,
             "ticks": ""
            },
            "colorscale": [
             [
              0,
              "#0d0887"
             ],
             [
              0.1111111111111111,
              "#46039f"
             ],
             [
              0.2222222222222222,
              "#7201a8"
             ],
             [
              0.3333333333333333,
              "#9c179e"
             ],
             [
              0.4444444444444444,
              "#bd3786"
             ],
             [
              0.5555555555555556,
              "#d8576b"
             ],
             [
              0.6666666666666666,
              "#ed7953"
             ],
             [
              0.7777777777777778,
              "#fb9f3a"
             ],
             [
              0.8888888888888888,
              "#fdca26"
             ],
             [
              1,
              "#f0f921"
             ]
            ],
            "type": "histogram2dcontour"
           }
          ],
          "mesh3d": [
           {
            "colorbar": {
             "outlinewidth": 0,
             "ticks": ""
            },
            "type": "mesh3d"
           }
          ],
          "parcoords": [
           {
            "line": {
             "colorbar": {
              "outlinewidth": 0,
              "ticks": ""
             }
            },
            "type": "parcoords"
           }
          ],
          "scatter": [
           {
            "marker": {
             "colorbar": {
              "outlinewidth": 0,
              "ticks": ""
             }
            },
            "type": "scatter"
           }
          ],
          "scatter3d": [
           {
            "line": {
             "colorbar": {
              "outlinewidth": 0,
              "ticks": ""
             }
            },
            "marker": {
             "colorbar": {
              "outlinewidth": 0,
              "ticks": ""
             }
            },
            "type": "scatter3d"
           }
          ],
          "scattercarpet": [
           {
            "marker": {
             "colorbar": {
              "outlinewidth": 0,
              "ticks": ""
             }
            },
            "type": "scattercarpet"
           }
          ],
          "scattergeo": [
           {
            "marker": {
             "colorbar": {
              "outlinewidth": 0,
              "ticks": ""
             }
            },
            "type": "scattergeo"
           }
          ],
          "scattergl": [
           {
            "marker": {
             "colorbar": {
              "outlinewidth": 0,
              "ticks": ""
             }
            },
            "type": "scattergl"
           }
          ],
          "scattermapbox": [
           {
            "marker": {
             "colorbar": {
              "outlinewidth": 0,
              "ticks": ""
             }
            },
            "type": "scattermapbox"
           }
          ],
          "scatterpolar": [
           {
            "marker": {
             "colorbar": {
              "outlinewidth": 0,
              "ticks": ""
             }
            },
            "type": "scatterpolar"
           }
          ],
          "scatterpolargl": [
           {
            "marker": {
             "colorbar": {
              "outlinewidth": 0,
              "ticks": ""
             }
            },
            "type": "scatterpolargl"
           }
          ],
          "scatterternary": [
           {
            "marker": {
             "colorbar": {
              "outlinewidth": 0,
              "ticks": ""
             }
            },
            "type": "scatterternary"
           }
          ],
          "surface": [
           {
            "colorbar": {
             "outlinewidth": 0,
             "ticks": ""
            },
            "colorscale": [
             [
              0,
              "#0d0887"
             ],
             [
              0.1111111111111111,
              "#46039f"
             ],
             [
              0.2222222222222222,
              "#7201a8"
             ],
             [
              0.3333333333333333,
              "#9c179e"
             ],
             [
              0.4444444444444444,
              "#bd3786"
             ],
             [
              0.5555555555555556,
              "#d8576b"
             ],
             [
              0.6666666666666666,
              "#ed7953"
             ],
             [
              0.7777777777777778,
              "#fb9f3a"
             ],
             [
              0.8888888888888888,
              "#fdca26"
             ],
             [
              1,
              "#f0f921"
             ]
            ],
            "type": "surface"
           }
          ],
          "table": [
           {
            "cells": {
             "fill": {
              "color": "#EBF0F8"
             },
             "line": {
              "color": "white"
             }
            },
            "header": {
             "fill": {
              "color": "#C8D4E3"
             },
             "line": {
              "color": "white"
             }
            },
            "type": "table"
           }
          ]
         },
         "layout": {
          "annotationdefaults": {
           "arrowcolor": "#2a3f5f",
           "arrowhead": 0,
           "arrowwidth": 1
          },
          "colorscale": {
           "diverging": [
            [
             0,
             "#8e0152"
            ],
            [
             0.1,
             "#c51b7d"
            ],
            [
             0.2,
             "#de77ae"
            ],
            [
             0.3,
             "#f1b6da"
            ],
            [
             0.4,
             "#fde0ef"
            ],
            [
             0.5,
             "#f7f7f7"
            ],
            [
             0.6,
             "#e6f5d0"
            ],
            [
             0.7,
             "#b8e186"
            ],
            [
             0.8,
             "#7fbc41"
            ],
            [
             0.9,
             "#4d9221"
            ],
            [
             1,
             "#276419"
            ]
           ],
           "sequential": [
            [
             0,
             "#0d0887"
            ],
            [
             0.1111111111111111,
             "#46039f"
            ],
            [
             0.2222222222222222,
             "#7201a8"
            ],
            [
             0.3333333333333333,
             "#9c179e"
            ],
            [
             0.4444444444444444,
             "#bd3786"
            ],
            [
             0.5555555555555556,
             "#d8576b"
            ],
            [
             0.6666666666666666,
             "#ed7953"
            ],
            [
             0.7777777777777778,
             "#fb9f3a"
            ],
            [
             0.8888888888888888,
             "#fdca26"
            ],
            [
             1,
             "#f0f921"
            ]
           ],
           "sequentialminus": [
            [
             0,
             "#0d0887"
            ],
            [
             0.1111111111111111,
             "#46039f"
            ],
            [
             0.2222222222222222,
             "#7201a8"
            ],
            [
             0.3333333333333333,
             "#9c179e"
            ],
            [
             0.4444444444444444,
             "#bd3786"
            ],
            [
             0.5555555555555556,
             "#d8576b"
            ],
            [
             0.6666666666666666,
             "#ed7953"
            ],
            [
             0.7777777777777778,
             "#fb9f3a"
            ],
            [
             0.8888888888888888,
             "#fdca26"
            ],
            [
             1,
             "#f0f921"
            ]
           ]
          },
          "colorway": [
           "#636efa",
           "#EF553B",
           "#00cc96",
           "#ab63fa",
           "#FFA15A",
           "#19d3f3",
           "#FF6692",
           "#B6E880",
           "#FF97FF",
           "#FECB52"
          ],
          "font": {
           "color": "#2a3f5f"
          },
          "geo": {
           "bgcolor": "white",
           "lakecolor": "white",
           "landcolor": "#E5ECF6",
           "showlakes": true,
           "showland": true,
           "subunitcolor": "white"
          },
          "hoverlabel": {
           "align": "left"
          },
          "hovermode": "closest",
          "mapbox": {
           "style": "light"
          },
          "paper_bgcolor": "white",
          "plot_bgcolor": "#E5ECF6",
          "polar": {
           "angularaxis": {
            "gridcolor": "white",
            "linecolor": "white",
            "ticks": ""
           },
           "bgcolor": "#E5ECF6",
           "radialaxis": {
            "gridcolor": "white",
            "linecolor": "white",
            "ticks": ""
           }
          },
          "scene": {
           "xaxis": {
            "backgroundcolor": "#E5ECF6",
            "gridcolor": "white",
            "gridwidth": 2,
            "linecolor": "white",
            "showbackground": true,
            "ticks": "",
            "zerolinecolor": "white"
           },
           "yaxis": {
            "backgroundcolor": "#E5ECF6",
            "gridcolor": "white",
            "gridwidth": 2,
            "linecolor": "white",
            "showbackground": true,
            "ticks": "",
            "zerolinecolor": "white"
           },
           "zaxis": {
            "backgroundcolor": "#E5ECF6",
            "gridcolor": "white",
            "gridwidth": 2,
            "linecolor": "white",
            "showbackground": true,
            "ticks": "",
            "zerolinecolor": "white"
           }
          },
          "shapedefaults": {
           "line": {
            "color": "#2a3f5f"
           }
          },
          "ternary": {
           "aaxis": {
            "gridcolor": "white",
            "linecolor": "white",
            "ticks": ""
           },
           "baxis": {
            "gridcolor": "white",
            "linecolor": "white",
            "ticks": ""
           },
           "bgcolor": "#E5ECF6",
           "caxis": {
            "gridcolor": "white",
            "linecolor": "white",
            "ticks": ""
           }
          },
          "title": {
           "x": 0.05
          },
          "xaxis": {
           "automargin": true,
           "gridcolor": "white",
           "linecolor": "white",
           "ticks": "",
           "zerolinecolor": "white",
           "zerolinewidth": 2
          },
          "yaxis": {
           "automargin": true,
           "gridcolor": "white",
           "linecolor": "white",
           "ticks": "",
           "zerolinecolor": "white",
           "zerolinewidth": 2
          }
         }
        },
        "xaxis": {
         "title": {
          "text": "Average age"
         },
         "zeroline": false
        },
        "yaxis": {
         "range": [
          0,
          1
         ],
         "showline": true,
         "title": {
          "text": "Average \">$50k\""
         }
        }
       }
      },
      "text/html": [
       "<div>\n",
       "        \n",
       "        \n",
       "            <div id=\"31a5386a-ca5f-472d-8893-b8c402da822c\" class=\"plotly-graph-div\" style=\"height:525px; width:100%;\"></div>\n",
       "            <script type=\"text/javascript\">\n",
       "                require([\"plotly\"], function(Plotly) {\n",
       "                    window.PLOTLYENV=window.PLOTLYENV || {};\n",
       "                    \n",
       "                if (document.getElementById(\"31a5386a-ca5f-472d-8893-b8c402da822c\")) {\n",
       "                    Plotly.newPlot(\n",
       "                        '31a5386a-ca5f-472d-8893-b8c402da822c',\n",
       "                        [{\"hoverinfo\": \"x+y\", \"mode\": \"lines+markers\", \"showlegend\": false, \"type\": \"scatter\", \"x\": [19.0, 19.976612209802237, 20.95322441960447, 21.929836629406708, 22.90644883920894, 23.88306104901118, 24.859673258813416, 25.83628546861565, 26.812897678417887, 27.78950988822012, 28.766122098022358, 29.74273430782459, 30.71934651762683, 31.695958727429066, 32.6725709372313, 33.64918314703354, 34.62579535683577, 35.60240756663801, 36.57901977644024, 37.55563198624248, 38.532244196044715, 39.75563198624248, 40.979019776440246, 42.20240756663801, 43.42579535683577, 44.64918314703354, 45.8725709372313, 47.095958727429064, 48.319346517626826, 49.542734307824595, 50.76612209802236, 51.98950988822013, 53.21289767841789, 54.43628546861565, 55.65967325881341, 56.883061049011175, 58.106448839208944, 59.32983662940671, 60.553224419604476, 61.77661220980224, 63.0], \"y\": [0.005666647640415569, 0.014083561257358039, 0.02581345776342054, 0.03947671804718588, 0.054087813780226, 0.06903377218215194, 0.08394451535249933, 0.0985960995786731, 0.11285161982950588, 0.12662659247921176, 0.1398686198944615, 0.15254526906613203, 0.16463671208848907, 0.17613118288830482, 0.18702212540635374, 0.1973063887410002, 0.20698307669291646, 0.21605281706086352, 0.22451730285482036, 0.23237901668996896, 0.2396410722935734, 0.24789772017138437, 0.25522757912659594, 0.2616404453986808, 0.26714764731590557, 0.27176223105866854, 0.27549915868996666, 0.27837549523514604, 0.28041056662231395, 0.28162607406947393, 0.2820461539737627, 0.2816973758589993, 0.280608674614239, 0.278811217063312, 0.2763382066687621, 0.2732246336434005, 0.2695069806502043, 0.2652228963818499, 0.2604108504665664, 0.2551097832912074, 0.24935876349457092]}, {\"hoverinfo\": \"skip\", \"marker\": {\"color\": \"black\", \"size\": 9, \"symbol\": \"x\"}, \"mode\": \"markers\", \"name\": \"Original mean\", \"type\": \"scatter\", \"x\": [38.532244196044715], \"y\": [0.2396410722935734]}, {\"legendgroup\": \"PDP\", \"name\": \"PDP\", \"type\": \"scatter\", \"x\": [19.0, 20.1, 21.2, 22.3, 23.4, 24.5, 25.6, 26.700000000000003, 27.8, 28.9, 30.0, 31.1, 32.2, 33.3, 34.400000000000006, 35.5, 36.6, 37.7, 38.8, 39.900000000000006, 41.0, 42.1, 43.2, 44.3, 45.400000000000006, 46.5, 47.6, 48.7, 49.800000000000004, 50.900000000000006, 52.0, 53.1, 54.2, 55.300000000000004, 56.400000000000006, 57.5, 58.6, 59.7, 60.800000000000004, 61.900000000000006, 63.0], \"y\": [0.04127051291677969, 0.04127051291677969, 0.06485965041534894, 0.09545672677614359, 0.09175116472906937, 0.1122465938780408, 0.15096584487160247, 0.15937347371255006, 0.16788457317442487, 0.18143617306025775, 0.19883725333350927, 0.2088607781420555, 0.2104454112845667, 0.21248162622845726, 0.22018361842919892, 0.22176552644974004, 0.23515625516162303, 0.2565967584749769, 0.2565375399143744, 0.25934868417765744, 0.2606406598587853, 0.26246817564205666, 0.26476723532965385, 0.2727857065187043, 0.2788883678122286, 0.27983420458011976, 0.2865833091528257, 0.2880027058441564, 0.28794333328648863, 0.287355769614473, 0.2877791674650832, 0.289767722234843, 0.29167923494899456, 0.2768852211060931, 0.2779956139651016, 0.2812649599055736, 0.2813839905421757, 0.29045277304518613, 0.27716892021448225, 0.2767635253777922, 0.24809741625254408]}],\n",
       "                        {\"margin\": {\"r\": 50, \"t\": 50}, \"plot_bgcolor\": \"white\", \"template\": {\"data\": {\"bar\": [{\"error_x\": {\"color\": \"#2a3f5f\"}, \"error_y\": {\"color\": \"#2a3f5f\"}, \"marker\": {\"line\": {\"color\": \"#E5ECF6\", \"width\": 0.5}}, \"type\": \"bar\"}], \"barpolar\": [{\"marker\": {\"line\": {\"color\": \"#E5ECF6\", \"width\": 0.5}}, \"type\": \"barpolar\"}], \"carpet\": [{\"aaxis\": {\"endlinecolor\": \"#2a3f5f\", \"gridcolor\": \"white\", \"linecolor\": \"white\", \"minorgridcolor\": \"white\", \"startlinecolor\": \"#2a3f5f\"}, \"baxis\": {\"endlinecolor\": \"#2a3f5f\", \"gridcolor\": \"white\", \"linecolor\": \"white\", \"minorgridcolor\": \"white\", \"startlinecolor\": \"#2a3f5f\"}, \"type\": \"carpet\"}], \"choropleth\": [{\"colorbar\": {\"outlinewidth\": 0, \"ticks\": \"\"}, \"type\": \"choropleth\"}], \"contour\": [{\"colorbar\": {\"outlinewidth\": 0, \"ticks\": \"\"}, \"colorscale\": [[0.0, \"#0d0887\"], [0.1111111111111111, \"#46039f\"], [0.2222222222222222, \"#7201a8\"], [0.3333333333333333, \"#9c179e\"], [0.4444444444444444, \"#bd3786\"], [0.5555555555555556, \"#d8576b\"], [0.6666666666666666, \"#ed7953\"], [0.7777777777777778, \"#fb9f3a\"], [0.8888888888888888, \"#fdca26\"], [1.0, \"#f0f921\"]], \"type\": \"contour\"}], \"contourcarpet\": [{\"colorbar\": {\"outlinewidth\": 0, \"ticks\": \"\"}, \"type\": \"contourcarpet\"}], \"heatmap\": [{\"colorbar\": {\"outlinewidth\": 0, \"ticks\": \"\"}, \"colorscale\": [[0.0, \"#0d0887\"], [0.1111111111111111, \"#46039f\"], [0.2222222222222222, \"#7201a8\"], [0.3333333333333333, \"#9c179e\"], [0.4444444444444444, \"#bd3786\"], [0.5555555555555556, \"#d8576b\"], [0.6666666666666666, \"#ed7953\"], [0.7777777777777778, \"#fb9f3a\"], [0.8888888888888888, \"#fdca26\"], [1.0, \"#f0f921\"]], \"type\": \"heatmap\"}], \"heatmapgl\": [{\"colorbar\": {\"outlinewidth\": 0, \"ticks\": \"\"}, \"colorscale\": [[0.0, \"#0d0887\"], [0.1111111111111111, \"#46039f\"], [0.2222222222222222, \"#7201a8\"], [0.3333333333333333, \"#9c179e\"], [0.4444444444444444, \"#bd3786\"], [0.5555555555555556, \"#d8576b\"], [0.6666666666666666, \"#ed7953\"], [0.7777777777777778, \"#fb9f3a\"], [0.8888888888888888, \"#fdca26\"], [1.0, \"#f0f921\"]], \"type\": \"heatmapgl\"}], \"histogram\": [{\"marker\": {\"colorbar\": {\"outlinewidth\": 0, \"ticks\": \"\"}}, \"type\": \"histogram\"}], \"histogram2d\": [{\"colorbar\": {\"outlinewidth\": 0, \"ticks\": \"\"}, \"colorscale\": [[0.0, \"#0d0887\"], [0.1111111111111111, \"#46039f\"], [0.2222222222222222, \"#7201a8\"], [0.3333333333333333, \"#9c179e\"], [0.4444444444444444, \"#bd3786\"], [0.5555555555555556, \"#d8576b\"], [0.6666666666666666, \"#ed7953\"], [0.7777777777777778, \"#fb9f3a\"], [0.8888888888888888, \"#fdca26\"], [1.0, \"#f0f921\"]], \"type\": \"histogram2d\"}], \"histogram2dcontour\": [{\"colorbar\": {\"outlinewidth\": 0, \"ticks\": \"\"}, \"colorscale\": [[0.0, \"#0d0887\"], [0.1111111111111111, \"#46039f\"], [0.2222222222222222, \"#7201a8\"], [0.3333333333333333, \"#9c179e\"], [0.4444444444444444, \"#bd3786\"], [0.5555555555555556, \"#d8576b\"], [0.6666666666666666, \"#ed7953\"], [0.7777777777777778, \"#fb9f3a\"], [0.8888888888888888, \"#fdca26\"], [1.0, \"#f0f921\"]], \"type\": \"histogram2dcontour\"}], \"mesh3d\": [{\"colorbar\": {\"outlinewidth\": 0, \"ticks\": \"\"}, \"type\": \"mesh3d\"}], \"parcoords\": [{\"line\": {\"colorbar\": {\"outlinewidth\": 0, \"ticks\": \"\"}}, \"type\": \"parcoords\"}], \"scatter\": [{\"marker\": {\"colorbar\": {\"outlinewidth\": 0, \"ticks\": \"\"}}, \"type\": \"scatter\"}], \"scatter3d\": [{\"line\": {\"colorbar\": {\"outlinewidth\": 0, \"ticks\": \"\"}}, \"marker\": {\"colorbar\": {\"outlinewidth\": 0, \"ticks\": \"\"}}, \"type\": \"scatter3d\"}], \"scattercarpet\": [{\"marker\": {\"colorbar\": {\"outlinewidth\": 0, \"ticks\": \"\"}}, \"type\": \"scattercarpet\"}], \"scattergeo\": [{\"marker\": {\"colorbar\": {\"outlinewidth\": 0, \"ticks\": \"\"}}, \"type\": \"scattergeo\"}], \"scattergl\": [{\"marker\": {\"colorbar\": {\"outlinewidth\": 0, \"ticks\": \"\"}}, \"type\": \"scattergl\"}], \"scattermapbox\": [{\"marker\": {\"colorbar\": {\"outlinewidth\": 0, \"ticks\": \"\"}}, \"type\": \"scattermapbox\"}], \"scatterpolar\": [{\"marker\": {\"colorbar\": {\"outlinewidth\": 0, \"ticks\": \"\"}}, \"type\": \"scatterpolar\"}], \"scatterpolargl\": [{\"marker\": {\"colorbar\": {\"outlinewidth\": 0, \"ticks\": \"\"}}, \"type\": \"scatterpolargl\"}], \"scatterternary\": [{\"marker\": {\"colorbar\": {\"outlinewidth\": 0, \"ticks\": \"\"}}, \"type\": \"scatterternary\"}], \"surface\": [{\"colorbar\": {\"outlinewidth\": 0, \"ticks\": \"\"}, \"colorscale\": [[0.0, \"#0d0887\"], [0.1111111111111111, \"#46039f\"], [0.2222222222222222, \"#7201a8\"], [0.3333333333333333, \"#9c179e\"], [0.4444444444444444, \"#bd3786\"], [0.5555555555555556, \"#d8576b\"], [0.6666666666666666, \"#ed7953\"], [0.7777777777777778, \"#fb9f3a\"], [0.8888888888888888, \"#fdca26\"], [1.0, \"#f0f921\"]], \"type\": \"surface\"}], \"table\": [{\"cells\": {\"fill\": {\"color\": \"#EBF0F8\"}, \"line\": {\"color\": \"white\"}}, \"header\": {\"fill\": {\"color\": \"#C8D4E3\"}, \"line\": {\"color\": \"white\"}}, \"type\": \"table\"}]}, \"layout\": {\"annotationdefaults\": {\"arrowcolor\": \"#2a3f5f\", \"arrowhead\": 0, \"arrowwidth\": 1}, \"colorscale\": {\"diverging\": [[0, \"#8e0152\"], [0.1, \"#c51b7d\"], [0.2, \"#de77ae\"], [0.3, \"#f1b6da\"], [0.4, \"#fde0ef\"], [0.5, \"#f7f7f7\"], [0.6, \"#e6f5d0\"], [0.7, \"#b8e186\"], [0.8, \"#7fbc41\"], [0.9, \"#4d9221\"], [1, \"#276419\"]], \"sequential\": [[0.0, \"#0d0887\"], [0.1111111111111111, \"#46039f\"], [0.2222222222222222, \"#7201a8\"], [0.3333333333333333, \"#9c179e\"], [0.4444444444444444, \"#bd3786\"], [0.5555555555555556, \"#d8576b\"], [0.6666666666666666, \"#ed7953\"], [0.7777777777777778, \"#fb9f3a\"], [0.8888888888888888, \"#fdca26\"], [1.0, \"#f0f921\"]], \"sequentialminus\": [[0.0, \"#0d0887\"], [0.1111111111111111, \"#46039f\"], [0.2222222222222222, \"#7201a8\"], [0.3333333333333333, \"#9c179e\"], [0.4444444444444444, \"#bd3786\"], [0.5555555555555556, \"#d8576b\"], [0.6666666666666666, \"#ed7953\"], [0.7777777777777778, \"#fb9f3a\"], [0.8888888888888888, \"#fdca26\"], [1.0, \"#f0f921\"]]}, \"colorway\": [\"#636efa\", \"#EF553B\", \"#00cc96\", \"#ab63fa\", \"#FFA15A\", \"#19d3f3\", \"#FF6692\", \"#B6E880\", \"#FF97FF\", \"#FECB52\"], \"font\": {\"color\": \"#2a3f5f\"}, \"geo\": {\"bgcolor\": \"white\", \"lakecolor\": \"white\", \"landcolor\": \"#E5ECF6\", \"showlakes\": true, \"showland\": true, \"subunitcolor\": \"white\"}, \"hoverlabel\": {\"align\": \"left\"}, \"hovermode\": \"closest\", \"mapbox\": {\"style\": \"light\"}, \"paper_bgcolor\": \"white\", \"plot_bgcolor\": \"#E5ECF6\", \"polar\": {\"angularaxis\": {\"gridcolor\": \"white\", \"linecolor\": \"white\", \"ticks\": \"\"}, \"bgcolor\": \"#E5ECF6\", \"radialaxis\": {\"gridcolor\": \"white\", \"linecolor\": \"white\", \"ticks\": \"\"}}, \"scene\": {\"xaxis\": {\"backgroundcolor\": \"#E5ECF6\", \"gridcolor\": \"white\", \"gridwidth\": 2, \"linecolor\": \"white\", \"showbackground\": true, \"ticks\": \"\", \"zerolinecolor\": \"white\"}, \"yaxis\": {\"backgroundcolor\": \"#E5ECF6\", \"gridcolor\": \"white\", \"gridwidth\": 2, \"linecolor\": \"white\", \"showbackground\": true, \"ticks\": \"\", \"zerolinecolor\": \"white\"}, \"zaxis\": {\"backgroundcolor\": \"#E5ECF6\", \"gridcolor\": \"white\", \"gridwidth\": 2, \"linecolor\": \"white\", \"showbackground\": true, \"ticks\": \"\", \"zerolinecolor\": \"white\"}}, \"shapedefaults\": {\"line\": {\"color\": \"#2a3f5f\"}}, \"ternary\": {\"aaxis\": {\"gridcolor\": \"white\", \"linecolor\": \"white\", \"ticks\": \"\"}, \"baxis\": {\"gridcolor\": \"white\", \"linecolor\": \"white\", \"ticks\": \"\"}, \"bgcolor\": \"#E5ECF6\", \"caxis\": {\"gridcolor\": \"white\", \"linecolor\": \"white\", \"ticks\": \"\"}}, \"title\": {\"x\": 0.05}, \"xaxis\": {\"automargin\": true, \"gridcolor\": \"white\", \"linecolor\": \"white\", \"ticks\": \"\", \"zerolinecolor\": \"white\", \"zerolinewidth\": 2}, \"yaxis\": {\"automargin\": true, \"gridcolor\": \"white\", \"linecolor\": \"white\", \"ticks\": \"\", \"zerolinecolor\": \"white\", \"zerolinewidth\": 2}}}, \"xaxis\": {\"title\": {\"text\": \"Average age\"}, \"zeroline\": false}, \"yaxis\": {\"range\": [0, 1], \"showline\": true, \"title\": {\"text\": \"Average \\\">$50k\\\"\"}}},\n",
       "                        {\"responsive\": true}\n",
       "                    ).then(function(){\n",
       "                            \n",
       "var gd = document.getElementById('31a5386a-ca5f-472d-8893-b8c402da822c');\n",
       "var x = new MutationObserver(function (mutations, observer) {{\n",
       "        var display = window.getComputedStyle(gd).display;\n",
       "        if (!display || display === 'none') {{\n",
       "            console.log([gd, 'removed!']);\n",
       "            Plotly.purge(gd);\n",
       "            observer.disconnect();\n",
       "        }}\n",
       "}});\n",
       "\n",
       "// Listen for the removal of the full notebook cells\n",
       "var notebookContainer = gd.closest('#notebook-container');\n",
       "if (notebookContainer) {{\n",
       "    x.observe(notebookContainer, {childList: true});\n",
       "}}\n",
       "\n",
       "// Listen for the clearing of the current output cell\n",
       "var outputEl = gd.closest('.output');\n",
       "if (outputEl) {{\n",
       "    x.observe(outputEl, {childList: true});\n",
       "}}\n",
       "\n",
       "                        })\n",
       "                };\n",
       "                });\n",
       "            </script>\n",
       "        </div>"
      ]
     },
     "metadata": {},
     "output_type": "display_data"
    }
   ],
   "source": [
    "plot_all(\"age\")"
   ]
  },
  {
   "cell_type": "markdown",
   "metadata": {},
   "source": []
  },
  {
   "cell_type": "code",
   "execution_count": 53,
   "metadata": {},
   "outputs": [
    {
     "data": {
      "application/vnd.plotly.v1+json": {
       "config": {
        "plotlyServerURL": "https://plot.ly"
       },
       "data": [
        {
         "fill": "toself",
         "fillcolor": "#eee",
         "line": {
          "color": "rgba(0, 0, 0, 0)"
         },
         "name": "5.0% - 95.0%",
         "type": "scatter",
         "x": [
          19,
          19.976612209802237,
          20.95322441960447,
          21.929836629406708,
          22.90644883920894,
          23.88306104901118,
          24.859673258813416,
          25.83628546861565,
          26.812897678417887,
          27.78950988822012,
          28.766122098022358,
          29.74273430782459,
          30.71934651762683,
          31.695958727429066,
          32.6725709372313,
          33.64918314703354,
          34.62579535683577,
          35.60240756663801,
          36.57901977644024,
          37.55563198624248,
          38.532244196044715,
          39.75563198624248,
          40.979019776440246,
          42.20240756663801,
          43.42579535683577,
          44.64918314703354,
          45.8725709372313,
          47.095958727429064,
          48.319346517626826,
          49.542734307824595,
          50.76612209802236,
          51.98950988822013,
          53.21289767841789,
          54.43628546861565,
          55.65967325881341,
          56.883061049011175,
          58.106448839208944,
          59.32983662940671,
          60.553224419604476,
          61.77661220980224,
          63,
          63,
          61.77661220980224,
          60.553224419604476,
          59.32983662940671,
          58.106448839208944,
          56.883061049011175,
          55.65967325881341,
          54.43628546861565,
          53.21289767841789,
          51.98950988822013,
          50.76612209802236,
          49.542734307824595,
          48.319346517626826,
          47.095958727429064,
          45.8725709372313,
          44.64918314703354,
          43.42579535683577,
          42.20240756663801,
          40.979019776440246,
          39.75563198624248,
          38.532244196044715,
          37.55563198624248,
          36.57901977644024,
          35.60240756663801,
          34.62579535683577,
          33.64918314703354,
          32.6725709372313,
          31.695958727429066,
          30.71934651762683,
          29.74273430782459,
          28.766122098022358,
          27.78950988822012,
          26.812897678417887,
          25.83628546861565,
          24.859673258813416,
          23.88306104901118,
          22.90644883920894,
          21.929836629406708,
          20.95322441960447,
          19.976612209802237,
          19
         ],
         "y": [
          0.005365097102633719,
          0.013484904369085053,
          0.02494028118979231,
          0.038364134267144454,
          0.05276687717788426,
          0.0674989827394435,
          0.08227401424401246,
          0.09677936837503087,
          0.1109437609954961,
          0.12464150098077371,
          0.13783009729562745,
          0.15048377124704987,
          0.16248468107099723,
          0.1738883220608604,
          0.1847006722252031,
          0.19491162448950403,
          0.20452927622943137,
          0.21354306777463364,
          0.2219093162386505,
          0.22968960670100863,
          0.2368874387531092,
          0.2450882031829557,
          0.25240933585534125,
          0.2588909023831475,
          0.26445780062559654,
          0.26914308243664165,
          0.27300847164315906,
          0.2759943423092073,
          0.27809985005978505,
          0.2792186467469041,
          0.2794767375585414,
          0.2791057703355797,
          0.27798773125390874,
          0.27614962610273763,
          0.2736278501292291,
          0.27035988328735516,
          0.26643889804399407,
          0.2619039739124244,
          0.25676434508367796,
          0.25113854930251645,
          0.2451403463482428,
          0.25455440085975,
          0.26005812459003547,
          0.26510208525238577,
          0.2695690124983404,
          0.273484480394302,
          0.27686105674937406,
          0.27966286151467934,
          0.28195085534784575,
          0.28362204958411774,
          0.284606300548177,
          0.2848692043617186,
          0.2843783257362476,
          0.2831033906518844,
          0.2810164187362009,
          0.2780917936903593,
          0.2742379096846427,
          0.26947505121070836,
          0.26381005292762433,
          0.2572706049466929,
          0.24991945773579968,
          0.24163613887313612,
          0.2343431472178254,
          0.22644018020317325,
          0.21792257105405338,
          0.208788154263576,
          0.1991138784418866,
          0.18892212303375627,
          0.17810727245952263,
          0.16666257589609268,
          0.15462703044036002,
          0.1418938493669249,
          0.12851372406923917,
          0.11458699542322429,
          0.10016903545084788,
          0.08538076971785949,
          0.07035167085956898,
          0.05522776214342051,
          0.04037718740045668,
          0.026433339711659315,
          0.014474888479234395,
          0.005863984537145185
         ]
        },
        {
         "hoverinfo": "x+y",
         "mode": "lines+markers",
         "showlegend": false,
         "type": "scatter",
         "x": [
          19,
          19.976612209802237,
          20.95322441960447,
          21.929836629406708,
          22.90644883920894,
          23.88306104901118,
          24.859673258813416,
          25.83628546861565,
          26.812897678417887,
          27.78950988822012,
          28.766122098022358,
          29.74273430782459,
          30.71934651762683,
          31.695958727429066,
          32.6725709372313,
          33.64918314703354,
          34.62579535683577,
          35.60240756663801,
          36.57901977644024,
          37.55563198624248,
          38.532244196044715,
          39.75563198624248,
          40.979019776440246,
          42.20240756663801,
          43.42579535683577,
          44.64918314703354,
          45.8725709372313,
          47.095958727429064,
          48.319346517626826,
          49.542734307824595,
          50.76612209802236,
          51.98950988822013,
          53.21289767841789,
          54.43628546861565,
          55.65967325881341,
          56.883061049011175,
          58.106448839208944,
          59.32983662940671,
          60.553224419604476,
          61.77661220980224,
          63
         ],
         "y": [
          0.005621113026775769,
          0.013991039482515873,
          0.0256767682520702,
          0.0393044151041039,
          0.05388800228600374,
          0.06881299920860864,
          0.08370797005560818,
          0.09834793973081818,
          0.11259521506601664,
          0.12636468511728502,
          0.13960343123299981,
          0.1522785730948328,
          0.16436989050403447,
          0.1758652697664261,
          0.1867578465081229,
          0.19704419844531337,
          0.2067231943720674,
          0.21579526400357094,
          0.2242619403914121,
          0.23212558587570992,
          0.23938923528970077,
          0.24764735249366013,
          0.2549781262604994,
          0.2613914946050174,
          0.2668990427476151,
          0.2715141885921533,
          0.2752523778384583,
          0.2781312651339458,
          0.28017086280094905,
          0.2813936425828207,
          0.28182457947758627,
          0.28149113040038304,
          0.2804231442656399,
          0.2786527040459511,
          0.2762139052556011,
          0.27314257885834825,
          0.26947596953242486,
          0.26525238230165493,
          0.2605108116038657,
          0.2552905668680785,
          0.249630907651545
         ]
        },
        {
         "hoverinfo": "skip",
         "marker": {
          "color": "black",
          "size": 9,
          "symbol": "x"
         },
         "mode": "markers",
         "name": "Original mean",
         "type": "scatter",
         "x": [
          38.532244196044715
         ],
         "y": [
          0.23938923528970077
         ]
        },
        {
         "fill": "toself",
         "fillcolor": "#eee",
         "legendgroup": "PDP",
         "line": {
          "color": "rgba(0, 0, 0, 0)"
         },
         "name": "PDP: 5% - 95%",
         "type": "scatter",
         "x": [
          19,
          20.1,
          21.2,
          22.3,
          23.4,
          24.5,
          25.6,
          26.700000000000003,
          27.8,
          28.9,
          30,
          31.1,
          32.2,
          33.3,
          34.400000000000006,
          35.5,
          36.6,
          37.7,
          38.8,
          39.900000000000006,
          41,
          42.1,
          43.2,
          44.3,
          45.400000000000006,
          46.5,
          47.6,
          48.7,
          49.800000000000004,
          50.900000000000006,
          52,
          53.1,
          54.2,
          55.300000000000004,
          56.400000000000006,
          57.5,
          58.6,
          59.7,
          60.800000000000004,
          61.900000000000006,
          63,
          63,
          61.900000000000006,
          60.800000000000004,
          59.7,
          58.6,
          57.5,
          56.400000000000006,
          55.300000000000004,
          54.2,
          53.1,
          52,
          50.900000000000006,
          49.800000000000004,
          48.7,
          47.6,
          46.5,
          45.400000000000006,
          44.3,
          43.2,
          42.1,
          41,
          39.900000000000006,
          38.8,
          37.7,
          36.6,
          35.5,
          34.400000000000006,
          33.3,
          32.2,
          31.1,
          30,
          28.9,
          27.8,
          26.700000000000003,
          25.6,
          24.5,
          23.4,
          22.3,
          21.2,
          20.1,
          19
         ],
         "y": [
          0.041156484480131046,
          0.041156484480131046,
          0.06450141405494099,
          0.09453958156287029,
          0.09088788905694609,
          0.11140669625497406,
          0.14976252035497578,
          0.15825434282977985,
          0.1666902163704606,
          0.17996635125754196,
          0.19723014327859556,
          0.20697478055096918,
          0.20852674002265642,
          0.21043016149610616,
          0.2179440228808485,
          0.21955414379811272,
          0.23281558716284814,
          0.25414295237913676,
          0.2540943734726971,
          0.2568970909650122,
          0.258160422477661,
          0.25993045756291305,
          0.2621559695474964,
          0.27010033077957213,
          0.27610762491983437,
          0.2771074860287359,
          0.28389519150877246,
          0.28523817485508773,
          0.2851429619554773,
          0.2845411748165495,
          0.28507774136698694,
          0.28696833031586344,
          0.28880494715813854,
          0.2743381483715024,
          0.27548755660044266,
          0.27862148071842874,
          0.27867977306611785,
          0.2877326517780032,
          0.27479451364038493,
          0.27455115817798925,
          0.2461941592063201,
          0.25168845021536695,
          0.2805150847439911,
          0.28084666993253116,
          0.2938113705180479,
          0.28490274595428966,
          0.2847957422424668,
          0.28158900996237096,
          0.2804809804166541,
          0.2950041772029881,
          0.29318420414003965,
          0.2912118440723431,
          0.29067160868547015,
          0.2912603337461746,
          0.2913442743477338,
          0.2899772163313067,
          0.2832449819384151,
          0.2822505947365777,
          0.2762175839693993,
          0.2681204939326346,
          0.26583989588811313,
          0.2640197809809565,
          0.26271530048409053,
          0.25989264497452796,
          0.2599448315241338,
          0.23832837113898175,
          0.22491142452195081,
          0.22332854053264012,
          0.21563544134512036,
          0.21377467737072042,
          0.2122092124841015,
          0.2023501336875813,
          0.18464980059045294,
          0.17125275706234933,
          0.16265205710731945,
          0.15415852159910254,
          0.1154431354622843,
          0.09473706479704042,
          0.09839700617754668,
          0.06762703963436068,
          0.04353204403587979,
          0.04353204403587979
         ]
        },
        {
         "legendgroup": "PDP",
         "name": "PDP",
         "type": "scatter",
         "x": [
          19,
          20.1,
          21.2,
          22.3,
          23.4,
          24.5,
          25.6,
          26.700000000000003,
          27.8,
          28.9,
          30,
          31.1,
          32.2,
          33.3,
          34.400000000000006,
          35.5,
          36.6,
          37.7,
          38.8,
          39.900000000000006,
          41,
          42.1,
          43.2,
          44.3,
          45.400000000000006,
          46.5,
          47.6,
          48.7,
          49.800000000000004,
          50.900000000000006,
          52,
          53.1,
          54.2,
          55.300000000000004,
          56.400000000000006,
          57.5,
          58.6,
          59.7,
          60.800000000000004,
          61.900000000000006,
          63
         ],
         "y": [
          0.042197284347162876,
          0.042197284347162876,
          0.06591989977099684,
          0.09637514096430215,
          0.09274895726547791,
          0.113246065356857,
          0.1518364469135068,
          0.16033229316845185,
          0.16893574864393954,
          0.182308625090652,
          0.19985224705697693,
          0.20972243933804877,
          0.21131126315672571,
          0.21320602081839224,
          0.2208787566464763,
          0.22245683856503284,
          0.23579583771222432,
          0.2572540365415465,
          0.25719995102246274,
          0.25999777165133386,
          0.2612762487952449,
          0.26308739706418066,
          0.2653459395363418,
          0.27339955057210485,
          0.27940718688778404,
          0.280378495911693,
          0.287112857229791,
          0.28849662838733664,
          0.28839855241534423,
          0.2877759301893278,
          0.2883069722517118,
          0.290274334713535,
          0.2920847256103587,
          0.2774931616766905,
          0.27859612101644454,
          0.2818443951396702,
          0.2819167529929581,
          0.29093886447371536,
          0.27789987575408986,
          0.2776448859510255,
          0.24897293293547337
         ]
        }
       ],
       "layout": {
        "margin": {
         "r": 50,
         "t": 50
        },
        "plot_bgcolor": "white",
        "template": {
         "data": {
          "bar": [
           {
            "error_x": {
             "color": "#2a3f5f"
            },
            "error_y": {
             "color": "#2a3f5f"
            },
            "marker": {
             "line": {
              "color": "#E5ECF6",
              "width": 0.5
             }
            },
            "type": "bar"
           }
          ],
          "barpolar": [
           {
            "marker": {
             "line": {
              "color": "#E5ECF6",
              "width": 0.5
             }
            },
            "type": "barpolar"
           }
          ],
          "carpet": [
           {
            "aaxis": {
             "endlinecolor": "#2a3f5f",
             "gridcolor": "white",
             "linecolor": "white",
             "minorgridcolor": "white",
             "startlinecolor": "#2a3f5f"
            },
            "baxis": {
             "endlinecolor": "#2a3f5f",
             "gridcolor": "white",
             "linecolor": "white",
             "minorgridcolor": "white",
             "startlinecolor": "#2a3f5f"
            },
            "type": "carpet"
           }
          ],
          "choropleth": [
           {
            "colorbar": {
             "outlinewidth": 0,
             "ticks": ""
            },
            "type": "choropleth"
           }
          ],
          "contour": [
           {
            "colorbar": {
             "outlinewidth": 0,
             "ticks": ""
            },
            "colorscale": [
             [
              0,
              "#0d0887"
             ],
             [
              0.1111111111111111,
              "#46039f"
             ],
             [
              0.2222222222222222,
              "#7201a8"
             ],
             [
              0.3333333333333333,
              "#9c179e"
             ],
             [
              0.4444444444444444,
              "#bd3786"
             ],
             [
              0.5555555555555556,
              "#d8576b"
             ],
             [
              0.6666666666666666,
              "#ed7953"
             ],
             [
              0.7777777777777778,
              "#fb9f3a"
             ],
             [
              0.8888888888888888,
              "#fdca26"
             ],
             [
              1,
              "#f0f921"
             ]
            ],
            "type": "contour"
           }
          ],
          "contourcarpet": [
           {
            "colorbar": {
             "outlinewidth": 0,
             "ticks": ""
            },
            "type": "contourcarpet"
           }
          ],
          "heatmap": [
           {
            "colorbar": {
             "outlinewidth": 0,
             "ticks": ""
            },
            "colorscale": [
             [
              0,
              "#0d0887"
             ],
             [
              0.1111111111111111,
              "#46039f"
             ],
             [
              0.2222222222222222,
              "#7201a8"
             ],
             [
              0.3333333333333333,
              "#9c179e"
             ],
             [
              0.4444444444444444,
              "#bd3786"
             ],
             [
              0.5555555555555556,
              "#d8576b"
             ],
             [
              0.6666666666666666,
              "#ed7953"
             ],
             [
              0.7777777777777778,
              "#fb9f3a"
             ],
             [
              0.8888888888888888,
              "#fdca26"
             ],
             [
              1,
              "#f0f921"
             ]
            ],
            "type": "heatmap"
           }
          ],
          "heatmapgl": [
           {
            "colorbar": {
             "outlinewidth": 0,
             "ticks": ""
            },
            "colorscale": [
             [
              0,
              "#0d0887"
             ],
             [
              0.1111111111111111,
              "#46039f"
             ],
             [
              0.2222222222222222,
              "#7201a8"
             ],
             [
              0.3333333333333333,
              "#9c179e"
             ],
             [
              0.4444444444444444,
              "#bd3786"
             ],
             [
              0.5555555555555556,
              "#d8576b"
             ],
             [
              0.6666666666666666,
              "#ed7953"
             ],
             [
              0.7777777777777778,
              "#fb9f3a"
             ],
             [
              0.8888888888888888,
              "#fdca26"
             ],
             [
              1,
              "#f0f921"
             ]
            ],
            "type": "heatmapgl"
           }
          ],
          "histogram": [
           {
            "marker": {
             "colorbar": {
              "outlinewidth": 0,
              "ticks": ""
             }
            },
            "type": "histogram"
           }
          ],
          "histogram2d": [
           {
            "colorbar": {
             "outlinewidth": 0,
             "ticks": ""
            },
            "colorscale": [
             [
              0,
              "#0d0887"
             ],
             [
              0.1111111111111111,
              "#46039f"
             ],
             [
              0.2222222222222222,
              "#7201a8"
             ],
             [
              0.3333333333333333,
              "#9c179e"
             ],
             [
              0.4444444444444444,
              "#bd3786"
             ],
             [
              0.5555555555555556,
              "#d8576b"
             ],
             [
              0.6666666666666666,
              "#ed7953"
             ],
             [
              0.7777777777777778,
              "#fb9f3a"
             ],
             [
              0.8888888888888888,
              "#fdca26"
             ],
             [
              1,
              "#f0f921"
             ]
            ],
            "type": "histogram2d"
           }
          ],
          "histogram2dcontour": [
           {
            "colorbar": {
             "outlinewidth": 0,
             "ticks": ""
            },
            "colorscale": [
             [
              0,
              "#0d0887"
             ],
             [
              0.1111111111111111,
              "#46039f"
             ],
             [
              0.2222222222222222,
              "#7201a8"
             ],
             [
              0.3333333333333333,
              "#9c179e"
             ],
             [
              0.4444444444444444,
              "#bd3786"
             ],
             [
              0.5555555555555556,
              "#d8576b"
             ],
             [
              0.6666666666666666,
              "#ed7953"
             ],
             [
              0.7777777777777778,
              "#fb9f3a"
             ],
             [
              0.8888888888888888,
              "#fdca26"
             ],
             [
              1,
              "#f0f921"
             ]
            ],
            "type": "histogram2dcontour"
           }
          ],
          "mesh3d": [
           {
            "colorbar": {
             "outlinewidth": 0,
             "ticks": ""
            },
            "type": "mesh3d"
           }
          ],
          "parcoords": [
           {
            "line": {
             "colorbar": {
              "outlinewidth": 0,
              "ticks": ""
             }
            },
            "type": "parcoords"
           }
          ],
          "scatter": [
           {
            "marker": {
             "colorbar": {
              "outlinewidth": 0,
              "ticks": ""
             }
            },
            "type": "scatter"
           }
          ],
          "scatter3d": [
           {
            "line": {
             "colorbar": {
              "outlinewidth": 0,
              "ticks": ""
             }
            },
            "marker": {
             "colorbar": {
              "outlinewidth": 0,
              "ticks": ""
             }
            },
            "type": "scatter3d"
           }
          ],
          "scattercarpet": [
           {
            "marker": {
             "colorbar": {
              "outlinewidth": 0,
              "ticks": ""
             }
            },
            "type": "scattercarpet"
           }
          ],
          "scattergeo": [
           {
            "marker": {
             "colorbar": {
              "outlinewidth": 0,
              "ticks": ""
             }
            },
            "type": "scattergeo"
           }
          ],
          "scattergl": [
           {
            "marker": {
             "colorbar": {
              "outlinewidth": 0,
              "ticks": ""
             }
            },
            "type": "scattergl"
           }
          ],
          "scattermapbox": [
           {
            "marker": {
             "colorbar": {
              "outlinewidth": 0,
              "ticks": ""
             }
            },
            "type": "scattermapbox"
           }
          ],
          "scatterpolar": [
           {
            "marker": {
             "colorbar": {
              "outlinewidth": 0,
              "ticks": ""
             }
            },
            "type": "scatterpolar"
           }
          ],
          "scatterpolargl": [
           {
            "marker": {
             "colorbar": {
              "outlinewidth": 0,
              "ticks": ""
             }
            },
            "type": "scatterpolargl"
           }
          ],
          "scatterternary": [
           {
            "marker": {
             "colorbar": {
              "outlinewidth": 0,
              "ticks": ""
             }
            },
            "type": "scatterternary"
           }
          ],
          "surface": [
           {
            "colorbar": {
             "outlinewidth": 0,
             "ticks": ""
            },
            "colorscale": [
             [
              0,
              "#0d0887"
             ],
             [
              0.1111111111111111,
              "#46039f"
             ],
             [
              0.2222222222222222,
              "#7201a8"
             ],
             [
              0.3333333333333333,
              "#9c179e"
             ],
             [
              0.4444444444444444,
              "#bd3786"
             ],
             [
              0.5555555555555556,
              "#d8576b"
             ],
             [
              0.6666666666666666,
              "#ed7953"
             ],
             [
              0.7777777777777778,
              "#fb9f3a"
             ],
             [
              0.8888888888888888,
              "#fdca26"
             ],
             [
              1,
              "#f0f921"
             ]
            ],
            "type": "surface"
           }
          ],
          "table": [
           {
            "cells": {
             "fill": {
              "color": "#EBF0F8"
             },
             "line": {
              "color": "white"
             }
            },
            "header": {
             "fill": {
              "color": "#C8D4E3"
             },
             "line": {
              "color": "white"
             }
            },
            "type": "table"
           }
          ]
         },
         "layout": {
          "annotationdefaults": {
           "arrowcolor": "#2a3f5f",
           "arrowhead": 0,
           "arrowwidth": 1
          },
          "colorscale": {
           "diverging": [
            [
             0,
             "#8e0152"
            ],
            [
             0.1,
             "#c51b7d"
            ],
            [
             0.2,
             "#de77ae"
            ],
            [
             0.3,
             "#f1b6da"
            ],
            [
             0.4,
             "#fde0ef"
            ],
            [
             0.5,
             "#f7f7f7"
            ],
            [
             0.6,
             "#e6f5d0"
            ],
            [
             0.7,
             "#b8e186"
            ],
            [
             0.8,
             "#7fbc41"
            ],
            [
             0.9,
             "#4d9221"
            ],
            [
             1,
             "#276419"
            ]
           ],
           "sequential": [
            [
             0,
             "#0d0887"
            ],
            [
             0.1111111111111111,
             "#46039f"
            ],
            [
             0.2222222222222222,
             "#7201a8"
            ],
            [
             0.3333333333333333,
             "#9c179e"
            ],
            [
             0.4444444444444444,
             "#bd3786"
            ],
            [
             0.5555555555555556,
             "#d8576b"
            ],
            [
             0.6666666666666666,
             "#ed7953"
            ],
            [
             0.7777777777777778,
             "#fb9f3a"
            ],
            [
             0.8888888888888888,
             "#fdca26"
            ],
            [
             1,
             "#f0f921"
            ]
           ],
           "sequentialminus": [
            [
             0,
             "#0d0887"
            ],
            [
             0.1111111111111111,
             "#46039f"
            ],
            [
             0.2222222222222222,
             "#7201a8"
            ],
            [
             0.3333333333333333,
             "#9c179e"
            ],
            [
             0.4444444444444444,
             "#bd3786"
            ],
            [
             0.5555555555555556,
             "#d8576b"
            ],
            [
             0.6666666666666666,
             "#ed7953"
            ],
            [
             0.7777777777777778,
             "#fb9f3a"
            ],
            [
             0.8888888888888888,
             "#fdca26"
            ],
            [
             1,
             "#f0f921"
            ]
           ]
          },
          "colorway": [
           "#636efa",
           "#EF553B",
           "#00cc96",
           "#ab63fa",
           "#FFA15A",
           "#19d3f3",
           "#FF6692",
           "#B6E880",
           "#FF97FF",
           "#FECB52"
          ],
          "font": {
           "color": "#2a3f5f"
          },
          "geo": {
           "bgcolor": "white",
           "lakecolor": "white",
           "landcolor": "#E5ECF6",
           "showlakes": true,
           "showland": true,
           "subunitcolor": "white"
          },
          "hoverlabel": {
           "align": "left"
          },
          "hovermode": "closest",
          "mapbox": {
           "style": "light"
          },
          "paper_bgcolor": "white",
          "plot_bgcolor": "#E5ECF6",
          "polar": {
           "angularaxis": {
            "gridcolor": "white",
            "linecolor": "white",
            "ticks": ""
           },
           "bgcolor": "#E5ECF6",
           "radialaxis": {
            "gridcolor": "white",
            "linecolor": "white",
            "ticks": ""
           }
          },
          "scene": {
           "xaxis": {
            "backgroundcolor": "#E5ECF6",
            "gridcolor": "white",
            "gridwidth": 2,
            "linecolor": "white",
            "showbackground": true,
            "ticks": "",
            "zerolinecolor": "white"
           },
           "yaxis": {
            "backgroundcolor": "#E5ECF6",
            "gridcolor": "white",
            "gridwidth": 2,
            "linecolor": "white",
            "showbackground": true,
            "ticks": "",
            "zerolinecolor": "white"
           },
           "zaxis": {
            "backgroundcolor": "#E5ECF6",
            "gridcolor": "white",
            "gridwidth": 2,
            "linecolor": "white",
            "showbackground": true,
            "ticks": "",
            "zerolinecolor": "white"
           }
          },
          "shapedefaults": {
           "line": {
            "color": "#2a3f5f"
           }
          },
          "ternary": {
           "aaxis": {
            "gridcolor": "white",
            "linecolor": "white",
            "ticks": ""
           },
           "baxis": {
            "gridcolor": "white",
            "linecolor": "white",
            "ticks": ""
           },
           "bgcolor": "#E5ECF6",
           "caxis": {
            "gridcolor": "white",
            "linecolor": "white",
            "ticks": ""
           }
          },
          "title": {
           "x": 0.05
          },
          "xaxis": {
           "automargin": true,
           "gridcolor": "white",
           "linecolor": "white",
           "ticks": "",
           "zerolinecolor": "white",
           "zerolinewidth": 2
          },
          "yaxis": {
           "automargin": true,
           "gridcolor": "white",
           "linecolor": "white",
           "ticks": "",
           "zerolinecolor": "white",
           "zerolinewidth": 2
          }
         }
        },
        "xaxis": {
         "title": {
          "text": "Average age"
         },
         "zeroline": false
        },
        "yaxis": {
         "range": [
          0,
          1
         ],
         "showline": true,
         "title": {
          "text": "Average \">$50k\""
         }
        }
       }
      },
      "text/html": [
       "<div>\n",
       "        \n",
       "        \n",
       "            <div id=\"3ada3bf6-bc89-465c-91b8-c301c588c265\" class=\"plotly-graph-div\" style=\"height:525px; width:100%;\"></div>\n",
       "            <script type=\"text/javascript\">\n",
       "                require([\"plotly\"], function(Plotly) {\n",
       "                    window.PLOTLYENV=window.PLOTLYENV || {};\n",
       "                    \n",
       "                if (document.getElementById(\"3ada3bf6-bc89-465c-91b8-c301c588c265\")) {\n",
       "                    Plotly.newPlot(\n",
       "                        '3ada3bf6-bc89-465c-91b8-c301c588c265',\n",
       "                        [{\"fill\": \"toself\", \"fillcolor\": \"#eee\", \"line\": {\"color\": \"rgba(0, 0, 0, 0)\"}, \"name\": \"5.0% - 95.0%\", \"type\": \"scatter\", \"x\": [19.0, 19.976612209802237, 20.95322441960447, 21.929836629406708, 22.90644883920894, 23.88306104901118, 24.859673258813416, 25.83628546861565, 26.812897678417887, 27.78950988822012, 28.766122098022358, 29.74273430782459, 30.71934651762683, 31.695958727429066, 32.6725709372313, 33.64918314703354, 34.62579535683577, 35.60240756663801, 36.57901977644024, 37.55563198624248, 38.532244196044715, 39.75563198624248, 40.979019776440246, 42.20240756663801, 43.42579535683577, 44.64918314703354, 45.8725709372313, 47.095958727429064, 48.319346517626826, 49.542734307824595, 50.76612209802236, 51.98950988822013, 53.21289767841789, 54.43628546861565, 55.65967325881341, 56.883061049011175, 58.106448839208944, 59.32983662940671, 60.553224419604476, 61.77661220980224, 63.0, 63.0, 61.77661220980224, 60.553224419604476, 59.32983662940671, 58.106448839208944, 56.883061049011175, 55.65967325881341, 54.43628546861565, 53.21289767841789, 51.98950988822013, 50.76612209802236, 49.542734307824595, 48.319346517626826, 47.095958727429064, 45.8725709372313, 44.64918314703354, 43.42579535683577, 42.20240756663801, 40.979019776440246, 39.75563198624248, 38.532244196044715, 37.55563198624248, 36.57901977644024, 35.60240756663801, 34.62579535683577, 33.64918314703354, 32.6725709372313, 31.695958727429066, 30.71934651762683, 29.74273430782459, 28.766122098022358, 27.78950988822012, 26.812897678417887, 25.83628546861565, 24.859673258813416, 23.88306104901118, 22.90644883920894, 21.929836629406708, 20.95322441960447, 19.976612209802237, 19.0], \"y\": [0.005365097102633719, 0.013484904369085053, 0.02494028118979231, 0.038364134267144454, 0.05276687717788426, 0.0674989827394435, 0.08227401424401246, 0.09677936837503087, 0.1109437609954961, 0.12464150098077371, 0.13783009729562745, 0.15048377124704987, 0.16248468107099723, 0.1738883220608604, 0.1847006722252031, 0.19491162448950403, 0.20452927622943137, 0.21354306777463364, 0.2219093162386505, 0.22968960670100863, 0.2368874387531092, 0.2450882031829557, 0.25240933585534125, 0.2588909023831475, 0.26445780062559654, 0.26914308243664165, 0.27300847164315906, 0.2759943423092073, 0.27809985005978505, 0.2792186467469041, 0.2794767375585414, 0.2791057703355797, 0.27798773125390874, 0.27614962610273763, 0.2736278501292291, 0.27035988328735516, 0.26643889804399407, 0.2619039739124244, 0.25676434508367796, 0.25113854930251645, 0.2451403463482428, 0.25455440085975, 0.26005812459003547, 0.26510208525238577, 0.2695690124983404, 0.273484480394302, 0.27686105674937406, 0.27966286151467934, 0.28195085534784575, 0.28362204958411774, 0.284606300548177, 0.2848692043617186, 0.2843783257362476, 0.2831033906518844, 0.2810164187362009, 0.2780917936903593, 0.2742379096846427, 0.26947505121070836, 0.26381005292762433, 0.2572706049466929, 0.24991945773579968, 0.24163613887313612, 0.2343431472178254, 0.22644018020317325, 0.21792257105405338, 0.208788154263576, 0.1991138784418866, 0.18892212303375627, 0.17810727245952263, 0.16666257589609268, 0.15462703044036002, 0.1418938493669249, 0.12851372406923917, 0.11458699542322429, 0.10016903545084788, 0.08538076971785949, 0.07035167085956898, 0.05522776214342051, 0.04037718740045668, 0.026433339711659315, 0.014474888479234395, 0.005863984537145185]}, {\"hoverinfo\": \"x+y\", \"mode\": \"lines+markers\", \"showlegend\": false, \"type\": \"scatter\", \"x\": [19.0, 19.976612209802237, 20.95322441960447, 21.929836629406708, 22.90644883920894, 23.88306104901118, 24.859673258813416, 25.83628546861565, 26.812897678417887, 27.78950988822012, 28.766122098022358, 29.74273430782459, 30.71934651762683, 31.695958727429066, 32.6725709372313, 33.64918314703354, 34.62579535683577, 35.60240756663801, 36.57901977644024, 37.55563198624248, 38.532244196044715, 39.75563198624248, 40.979019776440246, 42.20240756663801, 43.42579535683577, 44.64918314703354, 45.8725709372313, 47.095958727429064, 48.319346517626826, 49.542734307824595, 50.76612209802236, 51.98950988822013, 53.21289767841789, 54.43628546861565, 55.65967325881341, 56.883061049011175, 58.106448839208944, 59.32983662940671, 60.553224419604476, 61.77661220980224, 63.0], \"y\": [0.005621113026775769, 0.013991039482515873, 0.0256767682520702, 0.0393044151041039, 0.05388800228600374, 0.06881299920860864, 0.08370797005560818, 0.09834793973081818, 0.11259521506601664, 0.12636468511728502, 0.13960343123299981, 0.1522785730948328, 0.16436989050403447, 0.1758652697664261, 0.1867578465081229, 0.19704419844531337, 0.2067231943720674, 0.21579526400357094, 0.2242619403914121, 0.23212558587570992, 0.23938923528970077, 0.24764735249366013, 0.2549781262604994, 0.2613914946050174, 0.2668990427476151, 0.2715141885921533, 0.2752523778384583, 0.2781312651339458, 0.28017086280094905, 0.2813936425828207, 0.28182457947758627, 0.28149113040038304, 0.2804231442656399, 0.2786527040459511, 0.2762139052556011, 0.27314257885834825, 0.26947596953242486, 0.26525238230165493, 0.2605108116038657, 0.2552905668680785, 0.249630907651545]}, {\"hoverinfo\": \"skip\", \"marker\": {\"color\": \"black\", \"size\": 9, \"symbol\": \"x\"}, \"mode\": \"markers\", \"name\": \"Original mean\", \"type\": \"scatter\", \"x\": [38.532244196044715], \"y\": [0.23938923528970077]}, {\"fill\": \"toself\", \"fillcolor\": \"#eee\", \"legendgroup\": \"PDP\", \"line\": {\"color\": \"rgba(0, 0, 0, 0)\"}, \"name\": \"PDP: 5% - 95%\", \"type\": \"scatter\", \"x\": [19.0, 20.1, 21.2, 22.3, 23.4, 24.5, 25.6, 26.700000000000003, 27.8, 28.9, 30.0, 31.1, 32.2, 33.3, 34.400000000000006, 35.5, 36.6, 37.7, 38.8, 39.900000000000006, 41.0, 42.1, 43.2, 44.3, 45.400000000000006, 46.5, 47.6, 48.7, 49.800000000000004, 50.900000000000006, 52.0, 53.1, 54.2, 55.300000000000004, 56.400000000000006, 57.5, 58.6, 59.7, 60.800000000000004, 61.900000000000006, 63.0, 63.0, 61.900000000000006, 60.800000000000004, 59.7, 58.6, 57.5, 56.400000000000006, 55.300000000000004, 54.2, 53.1, 52.0, 50.900000000000006, 49.800000000000004, 48.7, 47.6, 46.5, 45.400000000000006, 44.3, 43.2, 42.1, 41.0, 39.900000000000006, 38.8, 37.7, 36.6, 35.5, 34.400000000000006, 33.3, 32.2, 31.1, 30.0, 28.9, 27.8, 26.700000000000003, 25.6, 24.5, 23.4, 22.3, 21.2, 20.1, 19.0], \"y\": [0.041156484480131046, 0.041156484480131046, 0.06450141405494099, 0.09453958156287029, 0.09088788905694609, 0.11140669625497406, 0.14976252035497578, 0.15825434282977985, 0.1666902163704606, 0.17996635125754196, 0.19723014327859556, 0.20697478055096918, 0.20852674002265642, 0.21043016149610616, 0.2179440228808485, 0.21955414379811272, 0.23281558716284814, 0.25414295237913676, 0.2540943734726971, 0.2568970909650122, 0.258160422477661, 0.25993045756291305, 0.2621559695474964, 0.27010033077957213, 0.27610762491983437, 0.2771074860287359, 0.28389519150877246, 0.28523817485508773, 0.2851429619554773, 0.2845411748165495, 0.28507774136698694, 0.28696833031586344, 0.28880494715813854, 0.2743381483715024, 0.27548755660044266, 0.27862148071842874, 0.27867977306611785, 0.2877326517780032, 0.27479451364038493, 0.27455115817798925, 0.2461941592063201, 0.25168845021536695, 0.2805150847439911, 0.28084666993253116, 0.2938113705180479, 0.28490274595428966, 0.2847957422424668, 0.28158900996237096, 0.2804809804166541, 0.2950041772029881, 0.29318420414003965, 0.2912118440723431, 0.29067160868547015, 0.2912603337461746, 0.2913442743477338, 0.2899772163313067, 0.2832449819384151, 0.2822505947365777, 0.2762175839693993, 0.2681204939326346, 0.26583989588811313, 0.2640197809809565, 0.26271530048409053, 0.25989264497452796, 0.2599448315241338, 0.23832837113898175, 0.22491142452195081, 0.22332854053264012, 0.21563544134512036, 0.21377467737072042, 0.2122092124841015, 0.2023501336875813, 0.18464980059045294, 0.17125275706234933, 0.16265205710731945, 0.15415852159910254, 0.1154431354622843, 0.09473706479704042, 0.09839700617754668, 0.06762703963436068, 0.04353204403587979, 0.04353204403587979]}, {\"legendgroup\": \"PDP\", \"name\": \"PDP\", \"type\": \"scatter\", \"x\": [19.0, 20.1, 21.2, 22.3, 23.4, 24.5, 25.6, 26.700000000000003, 27.8, 28.9, 30.0, 31.1, 32.2, 33.3, 34.400000000000006, 35.5, 36.6, 37.7, 38.8, 39.900000000000006, 41.0, 42.1, 43.2, 44.3, 45.400000000000006, 46.5, 47.6, 48.7, 49.800000000000004, 50.900000000000006, 52.0, 53.1, 54.2, 55.300000000000004, 56.400000000000006, 57.5, 58.6, 59.7, 60.800000000000004, 61.900000000000006, 63.0], \"y\": [0.042197284347162876, 0.042197284347162876, 0.06591989977099684, 0.09637514096430215, 0.09274895726547791, 0.113246065356857, 0.1518364469135068, 0.16033229316845185, 0.16893574864393954, 0.182308625090652, 0.19985224705697693, 0.20972243933804877, 0.21131126315672571, 0.21320602081839224, 0.2208787566464763, 0.22245683856503284, 0.23579583771222432, 0.2572540365415465, 0.25719995102246274, 0.25999777165133386, 0.2612762487952449, 0.26308739706418066, 0.2653459395363418, 0.27339955057210485, 0.27940718688778404, 0.280378495911693, 0.287112857229791, 0.28849662838733664, 0.28839855241534423, 0.2877759301893278, 0.2883069722517118, 0.290274334713535, 0.2920847256103587, 0.2774931616766905, 0.27859612101644454, 0.2818443951396702, 0.2819167529929581, 0.29093886447371536, 0.27789987575408986, 0.2776448859510255, 0.24897293293547337]}],\n",
       "                        {\"margin\": {\"r\": 50, \"t\": 50}, \"plot_bgcolor\": \"white\", \"template\": {\"data\": {\"bar\": [{\"error_x\": {\"color\": \"#2a3f5f\"}, \"error_y\": {\"color\": \"#2a3f5f\"}, \"marker\": {\"line\": {\"color\": \"#E5ECF6\", \"width\": 0.5}}, \"type\": \"bar\"}], \"barpolar\": [{\"marker\": {\"line\": {\"color\": \"#E5ECF6\", \"width\": 0.5}}, \"type\": \"barpolar\"}], \"carpet\": [{\"aaxis\": {\"endlinecolor\": \"#2a3f5f\", \"gridcolor\": \"white\", \"linecolor\": \"white\", \"minorgridcolor\": \"white\", \"startlinecolor\": \"#2a3f5f\"}, \"baxis\": {\"endlinecolor\": \"#2a3f5f\", \"gridcolor\": \"white\", \"linecolor\": \"white\", \"minorgridcolor\": \"white\", \"startlinecolor\": \"#2a3f5f\"}, \"type\": \"carpet\"}], \"choropleth\": [{\"colorbar\": {\"outlinewidth\": 0, \"ticks\": \"\"}, \"type\": \"choropleth\"}], \"contour\": [{\"colorbar\": {\"outlinewidth\": 0, \"ticks\": \"\"}, \"colorscale\": [[0.0, \"#0d0887\"], [0.1111111111111111, \"#46039f\"], [0.2222222222222222, \"#7201a8\"], [0.3333333333333333, \"#9c179e\"], [0.4444444444444444, \"#bd3786\"], [0.5555555555555556, \"#d8576b\"], [0.6666666666666666, \"#ed7953\"], [0.7777777777777778, \"#fb9f3a\"], [0.8888888888888888, \"#fdca26\"], [1.0, \"#f0f921\"]], \"type\": \"contour\"}], \"contourcarpet\": [{\"colorbar\": {\"outlinewidth\": 0, \"ticks\": \"\"}, \"type\": \"contourcarpet\"}], \"heatmap\": [{\"colorbar\": {\"outlinewidth\": 0, \"ticks\": \"\"}, \"colorscale\": [[0.0, \"#0d0887\"], [0.1111111111111111, \"#46039f\"], [0.2222222222222222, \"#7201a8\"], [0.3333333333333333, \"#9c179e\"], [0.4444444444444444, \"#bd3786\"], [0.5555555555555556, \"#d8576b\"], [0.6666666666666666, \"#ed7953\"], [0.7777777777777778, \"#fb9f3a\"], [0.8888888888888888, \"#fdca26\"], [1.0, \"#f0f921\"]], \"type\": \"heatmap\"}], \"heatmapgl\": [{\"colorbar\": {\"outlinewidth\": 0, \"ticks\": \"\"}, \"colorscale\": [[0.0, \"#0d0887\"], [0.1111111111111111, \"#46039f\"], [0.2222222222222222, \"#7201a8\"], [0.3333333333333333, \"#9c179e\"], [0.4444444444444444, \"#bd3786\"], [0.5555555555555556, \"#d8576b\"], [0.6666666666666666, \"#ed7953\"], [0.7777777777777778, \"#fb9f3a\"], [0.8888888888888888, \"#fdca26\"], [1.0, \"#f0f921\"]], \"type\": \"heatmapgl\"}], \"histogram\": [{\"marker\": {\"colorbar\": {\"outlinewidth\": 0, \"ticks\": \"\"}}, \"type\": \"histogram\"}], \"histogram2d\": [{\"colorbar\": {\"outlinewidth\": 0, \"ticks\": \"\"}, \"colorscale\": [[0.0, \"#0d0887\"], [0.1111111111111111, \"#46039f\"], [0.2222222222222222, \"#7201a8\"], [0.3333333333333333, \"#9c179e\"], [0.4444444444444444, \"#bd3786\"], [0.5555555555555556, \"#d8576b\"], [0.6666666666666666, \"#ed7953\"], [0.7777777777777778, \"#fb9f3a\"], [0.8888888888888888, \"#fdca26\"], [1.0, \"#f0f921\"]], \"type\": \"histogram2d\"}], \"histogram2dcontour\": [{\"colorbar\": {\"outlinewidth\": 0, \"ticks\": \"\"}, \"colorscale\": [[0.0, \"#0d0887\"], [0.1111111111111111, \"#46039f\"], [0.2222222222222222, \"#7201a8\"], [0.3333333333333333, \"#9c179e\"], [0.4444444444444444, \"#bd3786\"], [0.5555555555555556, \"#d8576b\"], [0.6666666666666666, \"#ed7953\"], [0.7777777777777778, \"#fb9f3a\"], [0.8888888888888888, \"#fdca26\"], [1.0, \"#f0f921\"]], \"type\": \"histogram2dcontour\"}], \"mesh3d\": [{\"colorbar\": {\"outlinewidth\": 0, \"ticks\": \"\"}, \"type\": \"mesh3d\"}], \"parcoords\": [{\"line\": {\"colorbar\": {\"outlinewidth\": 0, \"ticks\": \"\"}}, \"type\": \"parcoords\"}], \"scatter\": [{\"marker\": {\"colorbar\": {\"outlinewidth\": 0, \"ticks\": \"\"}}, \"type\": \"scatter\"}], \"scatter3d\": [{\"line\": {\"colorbar\": {\"outlinewidth\": 0, \"ticks\": \"\"}}, \"marker\": {\"colorbar\": {\"outlinewidth\": 0, \"ticks\": \"\"}}, \"type\": \"scatter3d\"}], \"scattercarpet\": [{\"marker\": {\"colorbar\": {\"outlinewidth\": 0, \"ticks\": \"\"}}, \"type\": \"scattercarpet\"}], \"scattergeo\": [{\"marker\": {\"colorbar\": {\"outlinewidth\": 0, \"ticks\": \"\"}}, \"type\": \"scattergeo\"}], \"scattergl\": [{\"marker\": {\"colorbar\": {\"outlinewidth\": 0, \"ticks\": \"\"}}, \"type\": \"scattergl\"}], \"scattermapbox\": [{\"marker\": {\"colorbar\": {\"outlinewidth\": 0, \"ticks\": \"\"}}, \"type\": \"scattermapbox\"}], \"scatterpolar\": [{\"marker\": {\"colorbar\": {\"outlinewidth\": 0, \"ticks\": \"\"}}, \"type\": \"scatterpolar\"}], \"scatterpolargl\": [{\"marker\": {\"colorbar\": {\"outlinewidth\": 0, \"ticks\": \"\"}}, \"type\": \"scatterpolargl\"}], \"scatterternary\": [{\"marker\": {\"colorbar\": {\"outlinewidth\": 0, \"ticks\": \"\"}}, \"type\": \"scatterternary\"}], \"surface\": [{\"colorbar\": {\"outlinewidth\": 0, \"ticks\": \"\"}, \"colorscale\": [[0.0, \"#0d0887\"], [0.1111111111111111, \"#46039f\"], [0.2222222222222222, \"#7201a8\"], [0.3333333333333333, \"#9c179e\"], [0.4444444444444444, \"#bd3786\"], [0.5555555555555556, \"#d8576b\"], [0.6666666666666666, \"#ed7953\"], [0.7777777777777778, \"#fb9f3a\"], [0.8888888888888888, \"#fdca26\"], [1.0, \"#f0f921\"]], \"type\": \"surface\"}], \"table\": [{\"cells\": {\"fill\": {\"color\": \"#EBF0F8\"}, \"line\": {\"color\": \"white\"}}, \"header\": {\"fill\": {\"color\": \"#C8D4E3\"}, \"line\": {\"color\": \"white\"}}, \"type\": \"table\"}]}, \"layout\": {\"annotationdefaults\": {\"arrowcolor\": \"#2a3f5f\", \"arrowhead\": 0, \"arrowwidth\": 1}, \"colorscale\": {\"diverging\": [[0, \"#8e0152\"], [0.1, \"#c51b7d\"], [0.2, \"#de77ae\"], [0.3, \"#f1b6da\"], [0.4, \"#fde0ef\"], [0.5, \"#f7f7f7\"], [0.6, \"#e6f5d0\"], [0.7, \"#b8e186\"], [0.8, \"#7fbc41\"], [0.9, \"#4d9221\"], [1, \"#276419\"]], \"sequential\": [[0.0, \"#0d0887\"], [0.1111111111111111, \"#46039f\"], [0.2222222222222222, \"#7201a8\"], [0.3333333333333333, \"#9c179e\"], [0.4444444444444444, \"#bd3786\"], [0.5555555555555556, \"#d8576b\"], [0.6666666666666666, \"#ed7953\"], [0.7777777777777778, \"#fb9f3a\"], [0.8888888888888888, \"#fdca26\"], [1.0, \"#f0f921\"]], \"sequentialminus\": [[0.0, \"#0d0887\"], [0.1111111111111111, \"#46039f\"], [0.2222222222222222, \"#7201a8\"], [0.3333333333333333, \"#9c179e\"], [0.4444444444444444, \"#bd3786\"], [0.5555555555555556, \"#d8576b\"], [0.6666666666666666, \"#ed7953\"], [0.7777777777777778, \"#fb9f3a\"], [0.8888888888888888, \"#fdca26\"], [1.0, \"#f0f921\"]]}, \"colorway\": [\"#636efa\", \"#EF553B\", \"#00cc96\", \"#ab63fa\", \"#FFA15A\", \"#19d3f3\", \"#FF6692\", \"#B6E880\", \"#FF97FF\", \"#FECB52\"], \"font\": {\"color\": \"#2a3f5f\"}, \"geo\": {\"bgcolor\": \"white\", \"lakecolor\": \"white\", \"landcolor\": \"#E5ECF6\", \"showlakes\": true, \"showland\": true, \"subunitcolor\": \"white\"}, \"hoverlabel\": {\"align\": \"left\"}, \"hovermode\": \"closest\", \"mapbox\": {\"style\": \"light\"}, \"paper_bgcolor\": \"white\", \"plot_bgcolor\": \"#E5ECF6\", \"polar\": {\"angularaxis\": {\"gridcolor\": \"white\", \"linecolor\": \"white\", \"ticks\": \"\"}, \"bgcolor\": \"#E5ECF6\", \"radialaxis\": {\"gridcolor\": \"white\", \"linecolor\": \"white\", \"ticks\": \"\"}}, \"scene\": {\"xaxis\": {\"backgroundcolor\": \"#E5ECF6\", \"gridcolor\": \"white\", \"gridwidth\": 2, \"linecolor\": \"white\", \"showbackground\": true, \"ticks\": \"\", \"zerolinecolor\": \"white\"}, \"yaxis\": {\"backgroundcolor\": \"#E5ECF6\", \"gridcolor\": \"white\", \"gridwidth\": 2, \"linecolor\": \"white\", \"showbackground\": true, \"ticks\": \"\", \"zerolinecolor\": \"white\"}, \"zaxis\": {\"backgroundcolor\": \"#E5ECF6\", \"gridcolor\": \"white\", \"gridwidth\": 2, \"linecolor\": \"white\", \"showbackground\": true, \"ticks\": \"\", \"zerolinecolor\": \"white\"}}, \"shapedefaults\": {\"line\": {\"color\": \"#2a3f5f\"}}, \"ternary\": {\"aaxis\": {\"gridcolor\": \"white\", \"linecolor\": \"white\", \"ticks\": \"\"}, \"baxis\": {\"gridcolor\": \"white\", \"linecolor\": \"white\", \"ticks\": \"\"}, \"bgcolor\": \"#E5ECF6\", \"caxis\": {\"gridcolor\": \"white\", \"linecolor\": \"white\", \"ticks\": \"\"}}, \"title\": {\"x\": 0.05}, \"xaxis\": {\"automargin\": true, \"gridcolor\": \"white\", \"linecolor\": \"white\", \"ticks\": \"\", \"zerolinecolor\": \"white\", \"zerolinewidth\": 2}, \"yaxis\": {\"automargin\": true, \"gridcolor\": \"white\", \"linecolor\": \"white\", \"ticks\": \"\", \"zerolinecolor\": \"white\", \"zerolinewidth\": 2}}}, \"xaxis\": {\"title\": {\"text\": \"Average age\"}, \"zeroline\": false}, \"yaxis\": {\"range\": [0, 1], \"showline\": true, \"title\": {\"text\": \"Average \\\">$50k\\\"\"}}},\n",
       "                        {\"responsive\": true}\n",
       "                    ).then(function(){\n",
       "                            \n",
       "var gd = document.getElementById('3ada3bf6-bc89-465c-91b8-c301c588c265');\n",
       "var x = new MutationObserver(function (mutations, observer) {{\n",
       "        var display = window.getComputedStyle(gd).display;\n",
       "        if (!display || display === 'none') {{\n",
       "            console.log([gd, 'removed!']);\n",
       "            Plotly.purge(gd);\n",
       "            observer.disconnect();\n",
       "        }}\n",
       "}});\n",
       "\n",
       "// Listen for the removal of the full notebook cells\n",
       "var notebookContainer = gd.closest('#notebook-container');\n",
       "if (notebookContainer) {{\n",
       "    x.observe(notebookContainer, {childList: true});\n",
       "}}\n",
       "\n",
       "// Listen for the clearing of the current output cell\n",
       "var outputEl = gd.closest('.output');\n",
       "if (outputEl) {{\n",
       "    x.observe(outputEl, {childList: true});\n",
       "}}\n",
       "\n",
       "                        })\n",
       "                };\n",
       "                });\n",
       "            </script>\n",
       "        </div>"
      ]
     },
     "metadata": {},
     "output_type": "display_data"
    }
   ],
   "source": [
    "plot_all(\"age\", n_samples=30)"
   ]
  },
  {
   "cell_type": "code",
   "execution_count": 54,
   "metadata": {},
   "outputs": [
    {
     "data": {
      "application/vnd.plotly.v1+json": {
       "config": {
        "plotlyServerURL": "https://plot.ly"
       },
       "data": [
        {
         "hoverinfo": "x+y",
         "mode": "lines+markers",
         "showlegend": false,
         "type": "scatter",
         "x": [
          5,
          5.252708512467756,
          5.505417024935511,
          5.758125537403267,
          6.010834049871023,
          6.263542562338779,
          6.516251074806535,
          6.76895958727429,
          7.021668099742046,
          7.274376612209801,
          7.527085124677558,
          7.779793637145313,
          8.03250214961307,
          8.285210662080825,
          8.53791917454858,
          8.790627687016336,
          9.043336199484092,
          9.296044711951849,
          9.548753224419604,
          9.80146173688736,
          10.054170249355115,
          10.251461736887359,
          10.448753224419605,
          10.646044711951848,
          10.843336199484092,
          11.040627687016336,
          11.23791917454858,
          11.435210662080825,
          11.63250214961307,
          11.829793637145313,
          12.027085124677559,
          12.224376612209802,
          12.421668099742046,
          12.61895958727429,
          12.816251074806534,
          13.01354256233878,
          13.210834049871023,
          13.408125537403267,
          13.605417024935512,
          13.802708512467756,
          14
         ],
         "y": [
          0.09210693465019842,
          0.09600027593936801,
          0.10013965184295842,
          0.10452541038903668,
          0.10916187547678587,
          0.11405728241346447,
          0.1192238898970521,
          0.1246782450147706,
          0.13044159260827431,
          0.13654041070715983,
          0.14300704619628432,
          0.14988039905003406,
          0.15720655955963359,
          0.16503923442861357,
          0.17343970425960334,
          0.18247595193281002,
          0.19222053423495422,
          0.20274683300344526,
          0.21412360709168604,
          0.2264083989384634,
          0.2396410722935734,
          0.2506430151464632,
          0.262232400109997,
          0.2743997195091227,
          0.2871290310321861,
          0.30039998733382456,
          0.31419000586392576,
          0.32847628168252746,
          0.34323745449783694,
          0.35845486157989315,
          0.3741133627799157,
          0.3902018385248882,
          0.4067133665295884,
          0.423645143119854,
          0.44099812119140364,
          0.45877627936237764,
          0.4769853394160395,
          0.4956306275113423,
          0.5147136420317046,
          0.5342268367263333,
          0.5541461072709023
         ]
        },
        {
         "hoverinfo": "skip",
         "marker": {
          "color": "black",
          "size": 9,
          "symbol": "x"
         },
         "mode": "markers",
         "name": "Original mean",
         "type": "scatter",
         "x": [
          10.054170249355115
         ],
         "y": [
          0.2396410722935734
         ]
        },
        {
         "legendgroup": "PDP",
         "name": "PDP",
         "type": "scatter",
         "x": [
          1,
          2,
          3,
          4,
          5,
          6,
          7,
          8,
          9,
          10,
          11,
          12,
          13,
          14,
          15,
          16
         ],
         "y": [
          0.09943757526002041,
          0.11373001223579386,
          0.11373001223579386,
          0.12221158786531221,
          0.12647632099455808,
          0.13549907936074776,
          0.13489595063600301,
          0.17124028680784736,
          0.18952228143334104,
          0.2262219715856887,
          0.23400907686098388,
          0.24267024259002398,
          0.30585840622870464,
          0.3304991395643509,
          0.4105946079226561,
          0.4142383709253127
         ]
        }
       ],
       "layout": {
        "margin": {
         "r": 50,
         "t": 50
        },
        "plot_bgcolor": "white",
        "template": {
         "data": {
          "bar": [
           {
            "error_x": {
             "color": "#2a3f5f"
            },
            "error_y": {
             "color": "#2a3f5f"
            },
            "marker": {
             "line": {
              "color": "#E5ECF6",
              "width": 0.5
             }
            },
            "type": "bar"
           }
          ],
          "barpolar": [
           {
            "marker": {
             "line": {
              "color": "#E5ECF6",
              "width": 0.5
             }
            },
            "type": "barpolar"
           }
          ],
          "carpet": [
           {
            "aaxis": {
             "endlinecolor": "#2a3f5f",
             "gridcolor": "white",
             "linecolor": "white",
             "minorgridcolor": "white",
             "startlinecolor": "#2a3f5f"
            },
            "baxis": {
             "endlinecolor": "#2a3f5f",
             "gridcolor": "white",
             "linecolor": "white",
             "minorgridcolor": "white",
             "startlinecolor": "#2a3f5f"
            },
            "type": "carpet"
           }
          ],
          "choropleth": [
           {
            "colorbar": {
             "outlinewidth": 0,
             "ticks": ""
            },
            "type": "choropleth"
           }
          ],
          "contour": [
           {
            "colorbar": {
             "outlinewidth": 0,
             "ticks": ""
            },
            "colorscale": [
             [
              0,
              "#0d0887"
             ],
             [
              0.1111111111111111,
              "#46039f"
             ],
             [
              0.2222222222222222,
              "#7201a8"
             ],
             [
              0.3333333333333333,
              "#9c179e"
             ],
             [
              0.4444444444444444,
              "#bd3786"
             ],
             [
              0.5555555555555556,
              "#d8576b"
             ],
             [
              0.6666666666666666,
              "#ed7953"
             ],
             [
              0.7777777777777778,
              "#fb9f3a"
             ],
             [
              0.8888888888888888,
              "#fdca26"
             ],
             [
              1,
              "#f0f921"
             ]
            ],
            "type": "contour"
           }
          ],
          "contourcarpet": [
           {
            "colorbar": {
             "outlinewidth": 0,
             "ticks": ""
            },
            "type": "contourcarpet"
           }
          ],
          "heatmap": [
           {
            "colorbar": {
             "outlinewidth": 0,
             "ticks": ""
            },
            "colorscale": [
             [
              0,
              "#0d0887"
             ],
             [
              0.1111111111111111,
              "#46039f"
             ],
             [
              0.2222222222222222,
              "#7201a8"
             ],
             [
              0.3333333333333333,
              "#9c179e"
             ],
             [
              0.4444444444444444,
              "#bd3786"
             ],
             [
              0.5555555555555556,
              "#d8576b"
             ],
             [
              0.6666666666666666,
              "#ed7953"
             ],
             [
              0.7777777777777778,
              "#fb9f3a"
             ],
             [
              0.8888888888888888,
              "#fdca26"
             ],
             [
              1,
              "#f0f921"
             ]
            ],
            "type": "heatmap"
           }
          ],
          "heatmapgl": [
           {
            "colorbar": {
             "outlinewidth": 0,
             "ticks": ""
            },
            "colorscale": [
             [
              0,
              "#0d0887"
             ],
             [
              0.1111111111111111,
              "#46039f"
             ],
             [
              0.2222222222222222,
              "#7201a8"
             ],
             [
              0.3333333333333333,
              "#9c179e"
             ],
             [
              0.4444444444444444,
              "#bd3786"
             ],
             [
              0.5555555555555556,
              "#d8576b"
             ],
             [
              0.6666666666666666,
              "#ed7953"
             ],
             [
              0.7777777777777778,
              "#fb9f3a"
             ],
             [
              0.8888888888888888,
              "#fdca26"
             ],
             [
              1,
              "#f0f921"
             ]
            ],
            "type": "heatmapgl"
           }
          ],
          "histogram": [
           {
            "marker": {
             "colorbar": {
              "outlinewidth": 0,
              "ticks": ""
             }
            },
            "type": "histogram"
           }
          ],
          "histogram2d": [
           {
            "colorbar": {
             "outlinewidth": 0,
             "ticks": ""
            },
            "colorscale": [
             [
              0,
              "#0d0887"
             ],
             [
              0.1111111111111111,
              "#46039f"
             ],
             [
              0.2222222222222222,
              "#7201a8"
             ],
             [
              0.3333333333333333,
              "#9c179e"
             ],
             [
              0.4444444444444444,
              "#bd3786"
             ],
             [
              0.5555555555555556,
              "#d8576b"
             ],
             [
              0.6666666666666666,
              "#ed7953"
             ],
             [
              0.7777777777777778,
              "#fb9f3a"
             ],
             [
              0.8888888888888888,
              "#fdca26"
             ],
             [
              1,
              "#f0f921"
             ]
            ],
            "type": "histogram2d"
           }
          ],
          "histogram2dcontour": [
           {
            "colorbar": {
             "outlinewidth": 0,
             "ticks": ""
            },
            "colorscale": [
             [
              0,
              "#0d0887"
             ],
             [
              0.1111111111111111,
              "#46039f"
             ],
             [
              0.2222222222222222,
              "#7201a8"
             ],
             [
              0.3333333333333333,
              "#9c179e"
             ],
             [
              0.4444444444444444,
              "#bd3786"
             ],
             [
              0.5555555555555556,
              "#d8576b"
             ],
             [
              0.6666666666666666,
              "#ed7953"
             ],
             [
              0.7777777777777778,
              "#fb9f3a"
             ],
             [
              0.8888888888888888,
              "#fdca26"
             ],
             [
              1,
              "#f0f921"
             ]
            ],
            "type": "histogram2dcontour"
           }
          ],
          "mesh3d": [
           {
            "colorbar": {
             "outlinewidth": 0,
             "ticks": ""
            },
            "type": "mesh3d"
           }
          ],
          "parcoords": [
           {
            "line": {
             "colorbar": {
              "outlinewidth": 0,
              "ticks": ""
             }
            },
            "type": "parcoords"
           }
          ],
          "scatter": [
           {
            "marker": {
             "colorbar": {
              "outlinewidth": 0,
              "ticks": ""
             }
            },
            "type": "scatter"
           }
          ],
          "scatter3d": [
           {
            "line": {
             "colorbar": {
              "outlinewidth": 0,
              "ticks": ""
             }
            },
            "marker": {
             "colorbar": {
              "outlinewidth": 0,
              "ticks": ""
             }
            },
            "type": "scatter3d"
           }
          ],
          "scattercarpet": [
           {
            "marker": {
             "colorbar": {
              "outlinewidth": 0,
              "ticks": ""
             }
            },
            "type": "scattercarpet"
           }
          ],
          "scattergeo": [
           {
            "marker": {
             "colorbar": {
              "outlinewidth": 0,
              "ticks": ""
             }
            },
            "type": "scattergeo"
           }
          ],
          "scattergl": [
           {
            "marker": {
             "colorbar": {
              "outlinewidth": 0,
              "ticks": ""
             }
            },
            "type": "scattergl"
           }
          ],
          "scattermapbox": [
           {
            "marker": {
             "colorbar": {
              "outlinewidth": 0,
              "ticks": ""
             }
            },
            "type": "scattermapbox"
           }
          ],
          "scatterpolar": [
           {
            "marker": {
             "colorbar": {
              "outlinewidth": 0,
              "ticks": ""
             }
            },
            "type": "scatterpolar"
           }
          ],
          "scatterpolargl": [
           {
            "marker": {
             "colorbar": {
              "outlinewidth": 0,
              "ticks": ""
             }
            },
            "type": "scatterpolargl"
           }
          ],
          "scatterternary": [
           {
            "marker": {
             "colorbar": {
              "outlinewidth": 0,
              "ticks": ""
             }
            },
            "type": "scatterternary"
           }
          ],
          "surface": [
           {
            "colorbar": {
             "outlinewidth": 0,
             "ticks": ""
            },
            "colorscale": [
             [
              0,
              "#0d0887"
             ],
             [
              0.1111111111111111,
              "#46039f"
             ],
             [
              0.2222222222222222,
              "#7201a8"
             ],
             [
              0.3333333333333333,
              "#9c179e"
             ],
             [
              0.4444444444444444,
              "#bd3786"
             ],
             [
              0.5555555555555556,
              "#d8576b"
             ],
             [
              0.6666666666666666,
              "#ed7953"
             ],
             [
              0.7777777777777778,
              "#fb9f3a"
             ],
             [
              0.8888888888888888,
              "#fdca26"
             ],
             [
              1,
              "#f0f921"
             ]
            ],
            "type": "surface"
           }
          ],
          "table": [
           {
            "cells": {
             "fill": {
              "color": "#EBF0F8"
             },
             "line": {
              "color": "white"
             }
            },
            "header": {
             "fill": {
              "color": "#C8D4E3"
             },
             "line": {
              "color": "white"
             }
            },
            "type": "table"
           }
          ]
         },
         "layout": {
          "annotationdefaults": {
           "arrowcolor": "#2a3f5f",
           "arrowhead": 0,
           "arrowwidth": 1
          },
          "colorscale": {
           "diverging": [
            [
             0,
             "#8e0152"
            ],
            [
             0.1,
             "#c51b7d"
            ],
            [
             0.2,
             "#de77ae"
            ],
            [
             0.3,
             "#f1b6da"
            ],
            [
             0.4,
             "#fde0ef"
            ],
            [
             0.5,
             "#f7f7f7"
            ],
            [
             0.6,
             "#e6f5d0"
            ],
            [
             0.7,
             "#b8e186"
            ],
            [
             0.8,
             "#7fbc41"
            ],
            [
             0.9,
             "#4d9221"
            ],
            [
             1,
             "#276419"
            ]
           ],
           "sequential": [
            [
             0,
             "#0d0887"
            ],
            [
             0.1111111111111111,
             "#46039f"
            ],
            [
             0.2222222222222222,
             "#7201a8"
            ],
            [
             0.3333333333333333,
             "#9c179e"
            ],
            [
             0.4444444444444444,
             "#bd3786"
            ],
            [
             0.5555555555555556,
             "#d8576b"
            ],
            [
             0.6666666666666666,
             "#ed7953"
            ],
            [
             0.7777777777777778,
             "#fb9f3a"
            ],
            [
             0.8888888888888888,
             "#fdca26"
            ],
            [
             1,
             "#f0f921"
            ]
           ],
           "sequentialminus": [
            [
             0,
             "#0d0887"
            ],
            [
             0.1111111111111111,
             "#46039f"
            ],
            [
             0.2222222222222222,
             "#7201a8"
            ],
            [
             0.3333333333333333,
             "#9c179e"
            ],
            [
             0.4444444444444444,
             "#bd3786"
            ],
            [
             0.5555555555555556,
             "#d8576b"
            ],
            [
             0.6666666666666666,
             "#ed7953"
            ],
            [
             0.7777777777777778,
             "#fb9f3a"
            ],
            [
             0.8888888888888888,
             "#fdca26"
            ],
            [
             1,
             "#f0f921"
            ]
           ]
          },
          "colorway": [
           "#636efa",
           "#EF553B",
           "#00cc96",
           "#ab63fa",
           "#FFA15A",
           "#19d3f3",
           "#FF6692",
           "#B6E880",
           "#FF97FF",
           "#FECB52"
          ],
          "font": {
           "color": "#2a3f5f"
          },
          "geo": {
           "bgcolor": "white",
           "lakecolor": "white",
           "landcolor": "#E5ECF6",
           "showlakes": true,
           "showland": true,
           "subunitcolor": "white"
          },
          "hoverlabel": {
           "align": "left"
          },
          "hovermode": "closest",
          "mapbox": {
           "style": "light"
          },
          "paper_bgcolor": "white",
          "plot_bgcolor": "#E5ECF6",
          "polar": {
           "angularaxis": {
            "gridcolor": "white",
            "linecolor": "white",
            "ticks": ""
           },
           "bgcolor": "#E5ECF6",
           "radialaxis": {
            "gridcolor": "white",
            "linecolor": "white",
            "ticks": ""
           }
          },
          "scene": {
           "xaxis": {
            "backgroundcolor": "#E5ECF6",
            "gridcolor": "white",
            "gridwidth": 2,
            "linecolor": "white",
            "showbackground": true,
            "ticks": "",
            "zerolinecolor": "white"
           },
           "yaxis": {
            "backgroundcolor": "#E5ECF6",
            "gridcolor": "white",
            "gridwidth": 2,
            "linecolor": "white",
            "showbackground": true,
            "ticks": "",
            "zerolinecolor": "white"
           },
           "zaxis": {
            "backgroundcolor": "#E5ECF6",
            "gridcolor": "white",
            "gridwidth": 2,
            "linecolor": "white",
            "showbackground": true,
            "ticks": "",
            "zerolinecolor": "white"
           }
          },
          "shapedefaults": {
           "line": {
            "color": "#2a3f5f"
           }
          },
          "ternary": {
           "aaxis": {
            "gridcolor": "white",
            "linecolor": "white",
            "ticks": ""
           },
           "baxis": {
            "gridcolor": "white",
            "linecolor": "white",
            "ticks": ""
           },
           "bgcolor": "#E5ECF6",
           "caxis": {
            "gridcolor": "white",
            "linecolor": "white",
            "ticks": ""
           }
          },
          "title": {
           "x": 0.05
          },
          "xaxis": {
           "automargin": true,
           "gridcolor": "white",
           "linecolor": "white",
           "ticks": "",
           "zerolinecolor": "white",
           "zerolinewidth": 2
          },
          "yaxis": {
           "automargin": true,
           "gridcolor": "white",
           "linecolor": "white",
           "ticks": "",
           "zerolinecolor": "white",
           "zerolinewidth": 2
          }
         }
        },
        "xaxis": {
         "title": {
          "text": "Average education-num"
         },
         "zeroline": false
        },
        "yaxis": {
         "range": [
          0,
          1
         ],
         "showline": true,
         "title": {
          "text": "Average \">$50k\""
         }
        }
       }
      },
      "text/html": [
       "<div>\n",
       "        \n",
       "        \n",
       "            <div id=\"1ea54327-3675-4486-a28c-6832b6c70276\" class=\"plotly-graph-div\" style=\"height:525px; width:100%;\"></div>\n",
       "            <script type=\"text/javascript\">\n",
       "                require([\"plotly\"], function(Plotly) {\n",
       "                    window.PLOTLYENV=window.PLOTLYENV || {};\n",
       "                    \n",
       "                if (document.getElementById(\"1ea54327-3675-4486-a28c-6832b6c70276\")) {\n",
       "                    Plotly.newPlot(\n",
       "                        '1ea54327-3675-4486-a28c-6832b6c70276',\n",
       "                        [{\"hoverinfo\": \"x+y\", \"mode\": \"lines+markers\", \"showlegend\": false, \"type\": \"scatter\", \"x\": [5.0, 5.252708512467756, 5.505417024935511, 5.758125537403267, 6.010834049871023, 6.263542562338779, 6.516251074806535, 6.76895958727429, 7.021668099742046, 7.274376612209801, 7.527085124677558, 7.779793637145313, 8.03250214961307, 8.285210662080825, 8.53791917454858, 8.790627687016336, 9.043336199484092, 9.296044711951849, 9.548753224419604, 9.80146173688736, 10.054170249355115, 10.251461736887359, 10.448753224419605, 10.646044711951848, 10.843336199484092, 11.040627687016336, 11.23791917454858, 11.435210662080825, 11.63250214961307, 11.829793637145313, 12.027085124677559, 12.224376612209802, 12.421668099742046, 12.61895958727429, 12.816251074806534, 13.01354256233878, 13.210834049871023, 13.408125537403267, 13.605417024935512, 13.802708512467756, 14.0], \"y\": [0.09210693465019842, 0.09600027593936801, 0.10013965184295842, 0.10452541038903668, 0.10916187547678587, 0.11405728241346447, 0.1192238898970521, 0.1246782450147706, 0.13044159260827431, 0.13654041070715983, 0.14300704619628432, 0.14988039905003406, 0.15720655955963359, 0.16503923442861357, 0.17343970425960334, 0.18247595193281002, 0.19222053423495422, 0.20274683300344526, 0.21412360709168604, 0.2264083989384634, 0.2396410722935734, 0.2506430151464632, 0.262232400109997, 0.2743997195091227, 0.2871290310321861, 0.30039998733382456, 0.31419000586392576, 0.32847628168252746, 0.34323745449783694, 0.35845486157989315, 0.3741133627799157, 0.3902018385248882, 0.4067133665295884, 0.423645143119854, 0.44099812119140364, 0.45877627936237764, 0.4769853394160395, 0.4956306275113423, 0.5147136420317046, 0.5342268367263333, 0.5541461072709023]}, {\"hoverinfo\": \"skip\", \"marker\": {\"color\": \"black\", \"size\": 9, \"symbol\": \"x\"}, \"mode\": \"markers\", \"name\": \"Original mean\", \"type\": \"scatter\", \"x\": [10.054170249355115], \"y\": [0.2396410722935734]}, {\"legendgroup\": \"PDP\", \"name\": \"PDP\", \"type\": \"scatter\", \"x\": [1, 2, 3, 4, 5, 6, 7, 8, 9, 10, 11, 12, 13, 14, 15, 16], \"y\": [0.09943757526002041, 0.11373001223579386, 0.11373001223579386, 0.12221158786531221, 0.12647632099455808, 0.13549907936074776, 0.13489595063600301, 0.17124028680784736, 0.18952228143334104, 0.2262219715856887, 0.23400907686098388, 0.24267024259002398, 0.30585840622870464, 0.3304991395643509, 0.4105946079226561, 0.4142383709253127]}],\n",
       "                        {\"margin\": {\"r\": 50, \"t\": 50}, \"plot_bgcolor\": \"white\", \"template\": {\"data\": {\"bar\": [{\"error_x\": {\"color\": \"#2a3f5f\"}, \"error_y\": {\"color\": \"#2a3f5f\"}, \"marker\": {\"line\": {\"color\": \"#E5ECF6\", \"width\": 0.5}}, \"type\": \"bar\"}], \"barpolar\": [{\"marker\": {\"line\": {\"color\": \"#E5ECF6\", \"width\": 0.5}}, \"type\": \"barpolar\"}], \"carpet\": [{\"aaxis\": {\"endlinecolor\": \"#2a3f5f\", \"gridcolor\": \"white\", \"linecolor\": \"white\", \"minorgridcolor\": \"white\", \"startlinecolor\": \"#2a3f5f\"}, \"baxis\": {\"endlinecolor\": \"#2a3f5f\", \"gridcolor\": \"white\", \"linecolor\": \"white\", \"minorgridcolor\": \"white\", \"startlinecolor\": \"#2a3f5f\"}, \"type\": \"carpet\"}], \"choropleth\": [{\"colorbar\": {\"outlinewidth\": 0, \"ticks\": \"\"}, \"type\": \"choropleth\"}], \"contour\": [{\"colorbar\": {\"outlinewidth\": 0, \"ticks\": \"\"}, \"colorscale\": [[0.0, \"#0d0887\"], [0.1111111111111111, \"#46039f\"], [0.2222222222222222, \"#7201a8\"], [0.3333333333333333, \"#9c179e\"], [0.4444444444444444, \"#bd3786\"], [0.5555555555555556, \"#d8576b\"], [0.6666666666666666, \"#ed7953\"], [0.7777777777777778, \"#fb9f3a\"], [0.8888888888888888, \"#fdca26\"], [1.0, \"#f0f921\"]], \"type\": \"contour\"}], \"contourcarpet\": [{\"colorbar\": {\"outlinewidth\": 0, \"ticks\": \"\"}, \"type\": \"contourcarpet\"}], \"heatmap\": [{\"colorbar\": {\"outlinewidth\": 0, \"ticks\": \"\"}, \"colorscale\": [[0.0, \"#0d0887\"], [0.1111111111111111, \"#46039f\"], [0.2222222222222222, \"#7201a8\"], [0.3333333333333333, \"#9c179e\"], [0.4444444444444444, \"#bd3786\"], [0.5555555555555556, \"#d8576b\"], [0.6666666666666666, \"#ed7953\"], [0.7777777777777778, \"#fb9f3a\"], [0.8888888888888888, \"#fdca26\"], [1.0, \"#f0f921\"]], \"type\": \"heatmap\"}], \"heatmapgl\": [{\"colorbar\": {\"outlinewidth\": 0, \"ticks\": \"\"}, \"colorscale\": [[0.0, \"#0d0887\"], [0.1111111111111111, \"#46039f\"], [0.2222222222222222, \"#7201a8\"], [0.3333333333333333, \"#9c179e\"], [0.4444444444444444, \"#bd3786\"], [0.5555555555555556, \"#d8576b\"], [0.6666666666666666, \"#ed7953\"], [0.7777777777777778, \"#fb9f3a\"], [0.8888888888888888, \"#fdca26\"], [1.0, \"#f0f921\"]], \"type\": \"heatmapgl\"}], \"histogram\": [{\"marker\": {\"colorbar\": {\"outlinewidth\": 0, \"ticks\": \"\"}}, \"type\": \"histogram\"}], \"histogram2d\": [{\"colorbar\": {\"outlinewidth\": 0, \"ticks\": \"\"}, \"colorscale\": [[0.0, \"#0d0887\"], [0.1111111111111111, \"#46039f\"], [0.2222222222222222, \"#7201a8\"], [0.3333333333333333, \"#9c179e\"], [0.4444444444444444, \"#bd3786\"], [0.5555555555555556, \"#d8576b\"], [0.6666666666666666, \"#ed7953\"], [0.7777777777777778, \"#fb9f3a\"], [0.8888888888888888, \"#fdca26\"], [1.0, \"#f0f921\"]], \"type\": \"histogram2d\"}], \"histogram2dcontour\": [{\"colorbar\": {\"outlinewidth\": 0, \"ticks\": \"\"}, \"colorscale\": [[0.0, \"#0d0887\"], [0.1111111111111111, \"#46039f\"], [0.2222222222222222, \"#7201a8\"], [0.3333333333333333, \"#9c179e\"], [0.4444444444444444, \"#bd3786\"], [0.5555555555555556, \"#d8576b\"], [0.6666666666666666, \"#ed7953\"], [0.7777777777777778, \"#fb9f3a\"], [0.8888888888888888, \"#fdca26\"], [1.0, \"#f0f921\"]], \"type\": \"histogram2dcontour\"}], \"mesh3d\": [{\"colorbar\": {\"outlinewidth\": 0, \"ticks\": \"\"}, \"type\": \"mesh3d\"}], \"parcoords\": [{\"line\": {\"colorbar\": {\"outlinewidth\": 0, \"ticks\": \"\"}}, \"type\": \"parcoords\"}], \"scatter\": [{\"marker\": {\"colorbar\": {\"outlinewidth\": 0, \"ticks\": \"\"}}, \"type\": \"scatter\"}], \"scatter3d\": [{\"line\": {\"colorbar\": {\"outlinewidth\": 0, \"ticks\": \"\"}}, \"marker\": {\"colorbar\": {\"outlinewidth\": 0, \"ticks\": \"\"}}, \"type\": \"scatter3d\"}], \"scattercarpet\": [{\"marker\": {\"colorbar\": {\"outlinewidth\": 0, \"ticks\": \"\"}}, \"type\": \"scattercarpet\"}], \"scattergeo\": [{\"marker\": {\"colorbar\": {\"outlinewidth\": 0, \"ticks\": \"\"}}, \"type\": \"scattergeo\"}], \"scattergl\": [{\"marker\": {\"colorbar\": {\"outlinewidth\": 0, \"ticks\": \"\"}}, \"type\": \"scattergl\"}], \"scattermapbox\": [{\"marker\": {\"colorbar\": {\"outlinewidth\": 0, \"ticks\": \"\"}}, \"type\": \"scattermapbox\"}], \"scatterpolar\": [{\"marker\": {\"colorbar\": {\"outlinewidth\": 0, \"ticks\": \"\"}}, \"type\": \"scatterpolar\"}], \"scatterpolargl\": [{\"marker\": {\"colorbar\": {\"outlinewidth\": 0, \"ticks\": \"\"}}, \"type\": \"scatterpolargl\"}], \"scatterternary\": [{\"marker\": {\"colorbar\": {\"outlinewidth\": 0, \"ticks\": \"\"}}, \"type\": \"scatterternary\"}], \"surface\": [{\"colorbar\": {\"outlinewidth\": 0, \"ticks\": \"\"}, \"colorscale\": [[0.0, \"#0d0887\"], [0.1111111111111111, \"#46039f\"], [0.2222222222222222, \"#7201a8\"], [0.3333333333333333, \"#9c179e\"], [0.4444444444444444, \"#bd3786\"], [0.5555555555555556, \"#d8576b\"], [0.6666666666666666, \"#ed7953\"], [0.7777777777777778, \"#fb9f3a\"], [0.8888888888888888, \"#fdca26\"], [1.0, \"#f0f921\"]], \"type\": \"surface\"}], \"table\": [{\"cells\": {\"fill\": {\"color\": \"#EBF0F8\"}, \"line\": {\"color\": \"white\"}}, \"header\": {\"fill\": {\"color\": \"#C8D4E3\"}, \"line\": {\"color\": \"white\"}}, \"type\": \"table\"}]}, \"layout\": {\"annotationdefaults\": {\"arrowcolor\": \"#2a3f5f\", \"arrowhead\": 0, \"arrowwidth\": 1}, \"colorscale\": {\"diverging\": [[0, \"#8e0152\"], [0.1, \"#c51b7d\"], [0.2, \"#de77ae\"], [0.3, \"#f1b6da\"], [0.4, \"#fde0ef\"], [0.5, \"#f7f7f7\"], [0.6, \"#e6f5d0\"], [0.7, \"#b8e186\"], [0.8, \"#7fbc41\"], [0.9, \"#4d9221\"], [1, \"#276419\"]], \"sequential\": [[0.0, \"#0d0887\"], [0.1111111111111111, \"#46039f\"], [0.2222222222222222, \"#7201a8\"], [0.3333333333333333, \"#9c179e\"], [0.4444444444444444, \"#bd3786\"], [0.5555555555555556, \"#d8576b\"], [0.6666666666666666, \"#ed7953\"], [0.7777777777777778, \"#fb9f3a\"], [0.8888888888888888, \"#fdca26\"], [1.0, \"#f0f921\"]], \"sequentialminus\": [[0.0, \"#0d0887\"], [0.1111111111111111, \"#46039f\"], [0.2222222222222222, \"#7201a8\"], [0.3333333333333333, \"#9c179e\"], [0.4444444444444444, \"#bd3786\"], [0.5555555555555556, \"#d8576b\"], [0.6666666666666666, \"#ed7953\"], [0.7777777777777778, \"#fb9f3a\"], [0.8888888888888888, \"#fdca26\"], [1.0, \"#f0f921\"]]}, \"colorway\": [\"#636efa\", \"#EF553B\", \"#00cc96\", \"#ab63fa\", \"#FFA15A\", \"#19d3f3\", \"#FF6692\", \"#B6E880\", \"#FF97FF\", \"#FECB52\"], \"font\": {\"color\": \"#2a3f5f\"}, \"geo\": {\"bgcolor\": \"white\", \"lakecolor\": \"white\", \"landcolor\": \"#E5ECF6\", \"showlakes\": true, \"showland\": true, \"subunitcolor\": \"white\"}, \"hoverlabel\": {\"align\": \"left\"}, \"hovermode\": \"closest\", \"mapbox\": {\"style\": \"light\"}, \"paper_bgcolor\": \"white\", \"plot_bgcolor\": \"#E5ECF6\", \"polar\": {\"angularaxis\": {\"gridcolor\": \"white\", \"linecolor\": \"white\", \"ticks\": \"\"}, \"bgcolor\": \"#E5ECF6\", \"radialaxis\": {\"gridcolor\": \"white\", \"linecolor\": \"white\", \"ticks\": \"\"}}, \"scene\": {\"xaxis\": {\"backgroundcolor\": \"#E5ECF6\", \"gridcolor\": \"white\", \"gridwidth\": 2, \"linecolor\": \"white\", \"showbackground\": true, \"ticks\": \"\", \"zerolinecolor\": \"white\"}, \"yaxis\": {\"backgroundcolor\": \"#E5ECF6\", \"gridcolor\": \"white\", \"gridwidth\": 2, \"linecolor\": \"white\", \"showbackground\": true, \"ticks\": \"\", \"zerolinecolor\": \"white\"}, \"zaxis\": {\"backgroundcolor\": \"#E5ECF6\", \"gridcolor\": \"white\", \"gridwidth\": 2, \"linecolor\": \"white\", \"showbackground\": true, \"ticks\": \"\", \"zerolinecolor\": \"white\"}}, \"shapedefaults\": {\"line\": {\"color\": \"#2a3f5f\"}}, \"ternary\": {\"aaxis\": {\"gridcolor\": \"white\", \"linecolor\": \"white\", \"ticks\": \"\"}, \"baxis\": {\"gridcolor\": \"white\", \"linecolor\": \"white\", \"ticks\": \"\"}, \"bgcolor\": \"#E5ECF6\", \"caxis\": {\"gridcolor\": \"white\", \"linecolor\": \"white\", \"ticks\": \"\"}}, \"title\": {\"x\": 0.05}, \"xaxis\": {\"automargin\": true, \"gridcolor\": \"white\", \"linecolor\": \"white\", \"ticks\": \"\", \"zerolinecolor\": \"white\", \"zerolinewidth\": 2}, \"yaxis\": {\"automargin\": true, \"gridcolor\": \"white\", \"linecolor\": \"white\", \"ticks\": \"\", \"zerolinecolor\": \"white\", \"zerolinewidth\": 2}}}, \"xaxis\": {\"title\": {\"text\": \"Average education-num\"}, \"zeroline\": false}, \"yaxis\": {\"range\": [0, 1], \"showline\": true, \"title\": {\"text\": \"Average \\\">$50k\\\"\"}}},\n",
       "                        {\"responsive\": true}\n",
       "                    ).then(function(){\n",
       "                            \n",
       "var gd = document.getElementById('1ea54327-3675-4486-a28c-6832b6c70276');\n",
       "var x = new MutationObserver(function (mutations, observer) {{\n",
       "        var display = window.getComputedStyle(gd).display;\n",
       "        if (!display || display === 'none') {{\n",
       "            console.log([gd, 'removed!']);\n",
       "            Plotly.purge(gd);\n",
       "            observer.disconnect();\n",
       "        }}\n",
       "}});\n",
       "\n",
       "// Listen for the removal of the full notebook cells\n",
       "var notebookContainer = gd.closest('#notebook-container');\n",
       "if (notebookContainer) {{\n",
       "    x.observe(notebookContainer, {childList: true});\n",
       "}}\n",
       "\n",
       "// Listen for the clearing of the current output cell\n",
       "var outputEl = gd.closest('.output');\n",
       "if (outputEl) {{\n",
       "    x.observe(outputEl, {childList: true});\n",
       "}}\n",
       "\n",
       "                        })\n",
       "                };\n",
       "                });\n",
       "            </script>\n",
       "        </div>"
      ]
     },
     "metadata": {},
     "output_type": "display_data"
    }
   ],
   "source": [
    "plot_all(\"education-num\")"
   ]
  },
  {
   "cell_type": "code",
   "execution_count": 55,
   "metadata": {},
   "outputs": [
    {
     "data": {
      "application/vnd.plotly.v1+json": {
       "config": {
        "plotlyServerURL": "https://plot.ly"
       },
       "data": [
        {
         "fill": "toself",
         "fillcolor": "#eee",
         "line": {
          "color": "rgba(0, 0, 0, 0)"
         },
         "name": "5.0% - 95.0%",
         "type": "scatter",
         "x": [
          5,
          5.252708512467756,
          5.505417024935511,
          5.758125537403267,
          6.010834049871023,
          6.263542562338779,
          6.516251074806535,
          6.76895958727429,
          7.021668099742046,
          7.274376612209801,
          7.527085124677558,
          7.779793637145313,
          8.03250214961307,
          8.285210662080825,
          8.53791917454858,
          8.790627687016336,
          9.043336199484092,
          9.296044711951849,
          9.548753224419604,
          9.80146173688736,
          10.054170249355115,
          10.251461736887359,
          10.448753224419605,
          10.646044711951848,
          10.843336199484092,
          11.040627687016336,
          11.23791917454858,
          11.435210662080825,
          11.63250214961307,
          11.829793637145313,
          12.027085124677559,
          12.224376612209802,
          12.421668099742046,
          12.61895958727429,
          12.816251074806534,
          13.01354256233878,
          13.210834049871023,
          13.408125537403267,
          13.605417024935512,
          13.802708512467756,
          14,
          14,
          13.802708512467756,
          13.605417024935512,
          13.408125537403267,
          13.210834049871023,
          13.01354256233878,
          12.816251074806534,
          12.61895958727429,
          12.421668099742046,
          12.224376612209802,
          12.027085124677559,
          11.829793637145313,
          11.63250214961307,
          11.435210662080825,
          11.23791917454858,
          11.040627687016336,
          10.843336199484092,
          10.646044711951848,
          10.448753224419605,
          10.251461736887359,
          10.054170249355115,
          9.80146173688736,
          9.548753224419604,
          9.296044711951849,
          9.043336199484092,
          8.790627687016336,
          8.53791917454858,
          8.285210662080825,
          8.03250214961307,
          7.779793637145313,
          7.527085124677558,
          7.274376612209801,
          7.021668099742046,
          6.76895958727429,
          6.516251074806535,
          6.263542562338779,
          6.010834049871023,
          5.758125537403267,
          5.505417024935511,
          5.252708512467756,
          5
         ],
         "y": [
          0.08839756815478192,
          0.09288047780583801,
          0.09753239605569647,
          0.10221939355801823,
          0.10703919062377945,
          0.11192045148291792,
          0.11720912909064364,
          0.12281516238105047,
          0.12865490854735112,
          0.13482126087558705,
          0.14136482147366897,
          0.14832393783353193,
          0.1557442356776771,
          0.16361903468959116,
          0.17193274349422144,
          0.18085463009199215,
          0.19051889072762895,
          0.20109893042205695,
          0.2124797619418668,
          0.2247013298228343,
          0.23788464103893336,
          0.24881901617440605,
          0.2603028985183339,
          0.2723381102733969,
          0.28493768904844763,
          0.2980852004726262,
          0.3117898261382711,
          0.3259871487478688,
          0.3406069590192263,
          0.3555355569232691,
          0.37097593444864924,
          0.3869646764557496,
          0.40327410654845597,
          0.4198229149905814,
          0.4367232265983845,
          0.4539424117023929,
          0.4715631357916297,
          0.4895920224465383,
          0.5080323395504022,
          0.5268791071851576,
          0.546112036359184,
          0.560357174625125,
          0.5402160354349559,
          0.5204564872726201,
          0.5010800206739506,
          0.4821060603539148,
          0.46351948380501173,
          0.44538452861774747,
          0.42768902941279874,
          0.410476173721825,
          0.39373655907124094,
          0.37741812868272706,
          0.36146709794405996,
          0.3459529488343871,
          0.3309027667230017,
          0.3163502349382882,
          0.3023680589865939,
          0.28902591772975234,
          0.2762196180453054,
          0.26397168991311376,
          0.25231024628533993,
          0.24123605848034058,
          0.2279114994674987,
          0.21551936001454494,
          0.20404983622734996,
          0.19345026571749568,
          0.1837339795927696,
          0.17472337148054246,
          0.1663327352494774,
          0.1585096822204029,
          0.15120020056725153,
          0.1443477344616837,
          0.13797402309346155,
          0.1319694415963793,
          0.1263527544224027,
          0.12106124075855487,
          0.11608751103588552,
          0.11146804317083123,
          0.10714950277583751,
          0.10311095243871504,
          0.0993519001335026,
          0.09587709210288285
         ]
        },
        {
         "hoverinfo": "x+y",
         "mode": "lines+markers",
         "showlegend": false,
         "type": "scatter",
         "x": [
          5,
          5.252708512467756,
          5.505417024935511,
          5.758125537403267,
          6.010834049871023,
          6.263542562338779,
          6.516251074806535,
          6.76895958727429,
          7.021668099742046,
          7.274376612209801,
          7.527085124677558,
          7.779793637145313,
          8.03250214961307,
          8.285210662080825,
          8.53791917454858,
          8.790627687016336,
          9.043336199484092,
          9.296044711951849,
          9.548753224419604,
          9.80146173688736,
          10.054170249355115,
          10.251461736887359,
          10.448753224419605,
          10.646044711951848,
          10.843336199484092,
          11.040627687016336,
          11.23791917454858,
          11.435210662080825,
          11.63250214961307,
          11.829793637145313,
          12.027085124677559,
          12.224376612209802,
          12.421668099742046,
          12.61895958727429,
          12.816251074806534,
          13.01354256233878,
          13.210834049871023,
          13.408125537403267,
          13.605417024935512,
          13.802708512467756,
          14
         ],
         "y": [
          0.09280424893336844,
          0.09659378935910883,
          0.10063708456834121,
          0.10493370578299593,
          0.1094874397567832,
          0.11430616446413534,
          0.1194019194830469,
          0.12479114151696452,
          0.13049505218095334,
          0.1365401768604838,
          0.14295896649792497,
          0.149790468611562,
          0.1570809499394884,
          0.16488430438693236,
          0.1732619864557358,
          0.18228210749405696,
          0.19201726598029487,
          0.2025407494091685,
          0.21392103455172962,
          0.22621515031596975,
          0.23946219345793146,
          0.25047821958091204,
          0.26208358605148374,
          0.27426816720933866,
          0.28701537482453904,
          0.3003042108285896,
          0.31411145646245564,
          0.3284136989386994,
          0.34318900651329204,
          0.3584181842367858,
          0.3740855976702295,
          0.3901796665980344,
          0.4066930353539892,
          0.42362248628922927,
          0.4409685686866406,
          0.4587348577135895,
          0.47692666039593445,
          0.495548864029472,
          0.5146024902415439,
          0.5340794646156035,
          0.5539550931546173
         ]
        },
        {
         "hoverinfo": "skip",
         "marker": {
          "color": "black",
          "size": 9,
          "symbol": "x"
         },
         "mode": "markers",
         "name": "Original mean",
         "type": "scatter",
         "x": [
          10.054170249355115
         ],
         "y": [
          0.23946219345793146
         ]
        },
        {
         "fill": "toself",
         "fillcolor": "#eee",
         "legendgroup": "PDP",
         "line": {
          "color": "rgba(0, 0, 0, 0)"
         },
         "name": "PDP: 5% - 95%",
         "type": "scatter",
         "x": [
          1,
          2,
          3,
          4,
          5,
          6,
          7,
          8,
          9,
          10,
          11,
          12,
          13,
          14,
          15,
          16,
          16,
          15,
          14,
          13,
          12,
          11,
          10,
          9,
          8,
          7,
          6,
          5,
          4,
          3,
          2,
          1
         ],
         "y": [
          0.09784704785799164,
          0.11242491428891296,
          0.11242491428891296,
          0.12108252162404784,
          0.12548921261400103,
          0.13497972150937382,
          0.13427844280947693,
          0.17177046844572455,
          0.19069086767387933,
          0.228451022525688,
          0.23631341034996617,
          0.24515443438331497,
          0.3088761728077447,
          0.33381304492223685,
          0.41403026877181737,
          0.4177091277938705,
          0.4241723143061625,
          0.42050183085679704,
          0.3395053003199505,
          0.31429375558843164,
          0.2499158884531997,
          0.24101541998120946,
          0.23301461918197927,
          0.1950471446574208,
          0.17586938006748226,
          0.13798219996959468,
          0.13874635657900938,
          0.12925306672465245,
          0.12477184610280956,
          0.11601517919736018,
          0.11601517919736018,
          0.10122122392575239
         ]
        },
        {
         "legendgroup": "PDP",
         "name": "PDP",
         "type": "scatter",
         "x": [
          1,
          2,
          3,
          4,
          5,
          6,
          7,
          8,
          9,
          10,
          11,
          12,
          13,
          14,
          15,
          16
         ],
         "y": [
          0.09953914236208763,
          0.11417672041519454,
          0.11417672041519454,
          0.12287123901775657,
          0.12729212754977529,
          0.1367844239214761,
          0.13602671610110378,
          0.17399632508514998,
          0.19310612458408746,
          0.230896952369969,
          0.23881139411222974,
          0.24768762605114944,
          0.3116880474201416,
          0.33677857342738504,
          0.41730465714199666,
          0.42092501631141527
         ]
        }
       ],
       "layout": {
        "margin": {
         "r": 50,
         "t": 50
        },
        "plot_bgcolor": "white",
        "template": {
         "data": {
          "bar": [
           {
            "error_x": {
             "color": "#2a3f5f"
            },
            "error_y": {
             "color": "#2a3f5f"
            },
            "marker": {
             "line": {
              "color": "#E5ECF6",
              "width": 0.5
             }
            },
            "type": "bar"
           }
          ],
          "barpolar": [
           {
            "marker": {
             "line": {
              "color": "#E5ECF6",
              "width": 0.5
             }
            },
            "type": "barpolar"
           }
          ],
          "carpet": [
           {
            "aaxis": {
             "endlinecolor": "#2a3f5f",
             "gridcolor": "white",
             "linecolor": "white",
             "minorgridcolor": "white",
             "startlinecolor": "#2a3f5f"
            },
            "baxis": {
             "endlinecolor": "#2a3f5f",
             "gridcolor": "white",
             "linecolor": "white",
             "minorgridcolor": "white",
             "startlinecolor": "#2a3f5f"
            },
            "type": "carpet"
           }
          ],
          "choropleth": [
           {
            "colorbar": {
             "outlinewidth": 0,
             "ticks": ""
            },
            "type": "choropleth"
           }
          ],
          "contour": [
           {
            "colorbar": {
             "outlinewidth": 0,
             "ticks": ""
            },
            "colorscale": [
             [
              0,
              "#0d0887"
             ],
             [
              0.1111111111111111,
              "#46039f"
             ],
             [
              0.2222222222222222,
              "#7201a8"
             ],
             [
              0.3333333333333333,
              "#9c179e"
             ],
             [
              0.4444444444444444,
              "#bd3786"
             ],
             [
              0.5555555555555556,
              "#d8576b"
             ],
             [
              0.6666666666666666,
              "#ed7953"
             ],
             [
              0.7777777777777778,
              "#fb9f3a"
             ],
             [
              0.8888888888888888,
              "#fdca26"
             ],
             [
              1,
              "#f0f921"
             ]
            ],
            "type": "contour"
           }
          ],
          "contourcarpet": [
           {
            "colorbar": {
             "outlinewidth": 0,
             "ticks": ""
            },
            "type": "contourcarpet"
           }
          ],
          "heatmap": [
           {
            "colorbar": {
             "outlinewidth": 0,
             "ticks": ""
            },
            "colorscale": [
             [
              0,
              "#0d0887"
             ],
             [
              0.1111111111111111,
              "#46039f"
             ],
             [
              0.2222222222222222,
              "#7201a8"
             ],
             [
              0.3333333333333333,
              "#9c179e"
             ],
             [
              0.4444444444444444,
              "#bd3786"
             ],
             [
              0.5555555555555556,
              "#d8576b"
             ],
             [
              0.6666666666666666,
              "#ed7953"
             ],
             [
              0.7777777777777778,
              "#fb9f3a"
             ],
             [
              0.8888888888888888,
              "#fdca26"
             ],
             [
              1,
              "#f0f921"
             ]
            ],
            "type": "heatmap"
           }
          ],
          "heatmapgl": [
           {
            "colorbar": {
             "outlinewidth": 0,
             "ticks": ""
            },
            "colorscale": [
             [
              0,
              "#0d0887"
             ],
             [
              0.1111111111111111,
              "#46039f"
             ],
             [
              0.2222222222222222,
              "#7201a8"
             ],
             [
              0.3333333333333333,
              "#9c179e"
             ],
             [
              0.4444444444444444,
              "#bd3786"
             ],
             [
              0.5555555555555556,
              "#d8576b"
             ],
             [
              0.6666666666666666,
              "#ed7953"
             ],
             [
              0.7777777777777778,
              "#fb9f3a"
             ],
             [
              0.8888888888888888,
              "#fdca26"
             ],
             [
              1,
              "#f0f921"
             ]
            ],
            "type": "heatmapgl"
           }
          ],
          "histogram": [
           {
            "marker": {
             "colorbar": {
              "outlinewidth": 0,
              "ticks": ""
             }
            },
            "type": "histogram"
           }
          ],
          "histogram2d": [
           {
            "colorbar": {
             "outlinewidth": 0,
             "ticks": ""
            },
            "colorscale": [
             [
              0,
              "#0d0887"
             ],
             [
              0.1111111111111111,
              "#46039f"
             ],
             [
              0.2222222222222222,
              "#7201a8"
             ],
             [
              0.3333333333333333,
              "#9c179e"
             ],
             [
              0.4444444444444444,
              "#bd3786"
             ],
             [
              0.5555555555555556,
              "#d8576b"
             ],
             [
              0.6666666666666666,
              "#ed7953"
             ],
             [
              0.7777777777777778,
              "#fb9f3a"
             ],
             [
              0.8888888888888888,
              "#fdca26"
             ],
             [
              1,
              "#f0f921"
             ]
            ],
            "type": "histogram2d"
           }
          ],
          "histogram2dcontour": [
           {
            "colorbar": {
             "outlinewidth": 0,
             "ticks": ""
            },
            "colorscale": [
             [
              0,
              "#0d0887"
             ],
             [
              0.1111111111111111,
              "#46039f"
             ],
             [
              0.2222222222222222,
              "#7201a8"
             ],
             [
              0.3333333333333333,
              "#9c179e"
             ],
             [
              0.4444444444444444,
              "#bd3786"
             ],
             [
              0.5555555555555556,
              "#d8576b"
             ],
             [
              0.6666666666666666,
              "#ed7953"
             ],
             [
              0.7777777777777778,
              "#fb9f3a"
             ],
             [
              0.8888888888888888,
              "#fdca26"
             ],
             [
              1,
              "#f0f921"
             ]
            ],
            "type": "histogram2dcontour"
           }
          ],
          "mesh3d": [
           {
            "colorbar": {
             "outlinewidth": 0,
             "ticks": ""
            },
            "type": "mesh3d"
           }
          ],
          "parcoords": [
           {
            "line": {
             "colorbar": {
              "outlinewidth": 0,
              "ticks": ""
             }
            },
            "type": "parcoords"
           }
          ],
          "scatter": [
           {
            "marker": {
             "colorbar": {
              "outlinewidth": 0,
              "ticks": ""
             }
            },
            "type": "scatter"
           }
          ],
          "scatter3d": [
           {
            "line": {
             "colorbar": {
              "outlinewidth": 0,
              "ticks": ""
             }
            },
            "marker": {
             "colorbar": {
              "outlinewidth": 0,
              "ticks": ""
             }
            },
            "type": "scatter3d"
           }
          ],
          "scattercarpet": [
           {
            "marker": {
             "colorbar": {
              "outlinewidth": 0,
              "ticks": ""
             }
            },
            "type": "scattercarpet"
           }
          ],
          "scattergeo": [
           {
            "marker": {
             "colorbar": {
              "outlinewidth": 0,
              "ticks": ""
             }
            },
            "type": "scattergeo"
           }
          ],
          "scattergl": [
           {
            "marker": {
             "colorbar": {
              "outlinewidth": 0,
              "ticks": ""
             }
            },
            "type": "scattergl"
           }
          ],
          "scattermapbox": [
           {
            "marker": {
             "colorbar": {
              "outlinewidth": 0,
              "ticks": ""
             }
            },
            "type": "scattermapbox"
           }
          ],
          "scatterpolar": [
           {
            "marker": {
             "colorbar": {
              "outlinewidth": 0,
              "ticks": ""
             }
            },
            "type": "scatterpolar"
           }
          ],
          "scatterpolargl": [
           {
            "marker": {
             "colorbar": {
              "outlinewidth": 0,
              "ticks": ""
             }
            },
            "type": "scatterpolargl"
           }
          ],
          "scatterternary": [
           {
            "marker": {
             "colorbar": {
              "outlinewidth": 0,
              "ticks": ""
             }
            },
            "type": "scatterternary"
           }
          ],
          "surface": [
           {
            "colorbar": {
             "outlinewidth": 0,
             "ticks": ""
            },
            "colorscale": [
             [
              0,
              "#0d0887"
             ],
             [
              0.1111111111111111,
              "#46039f"
             ],
             [
              0.2222222222222222,
              "#7201a8"
             ],
             [
              0.3333333333333333,
              "#9c179e"
             ],
             [
              0.4444444444444444,
              "#bd3786"
             ],
             [
              0.5555555555555556,
              "#d8576b"
             ],
             [
              0.6666666666666666,
              "#ed7953"
             ],
             [
              0.7777777777777778,
              "#fb9f3a"
             ],
             [
              0.8888888888888888,
              "#fdca26"
             ],
             [
              1,
              "#f0f921"
             ]
            ],
            "type": "surface"
           }
          ],
          "table": [
           {
            "cells": {
             "fill": {
              "color": "#EBF0F8"
             },
             "line": {
              "color": "white"
             }
            },
            "header": {
             "fill": {
              "color": "#C8D4E3"
             },
             "line": {
              "color": "white"
             }
            },
            "type": "table"
           }
          ]
         },
         "layout": {
          "annotationdefaults": {
           "arrowcolor": "#2a3f5f",
           "arrowhead": 0,
           "arrowwidth": 1
          },
          "colorscale": {
           "diverging": [
            [
             0,
             "#8e0152"
            ],
            [
             0.1,
             "#c51b7d"
            ],
            [
             0.2,
             "#de77ae"
            ],
            [
             0.3,
             "#f1b6da"
            ],
            [
             0.4,
             "#fde0ef"
            ],
            [
             0.5,
             "#f7f7f7"
            ],
            [
             0.6,
             "#e6f5d0"
            ],
            [
             0.7,
             "#b8e186"
            ],
            [
             0.8,
             "#7fbc41"
            ],
            [
             0.9,
             "#4d9221"
            ],
            [
             1,
             "#276419"
            ]
           ],
           "sequential": [
            [
             0,
             "#0d0887"
            ],
            [
             0.1111111111111111,
             "#46039f"
            ],
            [
             0.2222222222222222,
             "#7201a8"
            ],
            [
             0.3333333333333333,
             "#9c179e"
            ],
            [
             0.4444444444444444,
             "#bd3786"
            ],
            [
             0.5555555555555556,
             "#d8576b"
            ],
            [
             0.6666666666666666,
             "#ed7953"
            ],
            [
             0.7777777777777778,
             "#fb9f3a"
            ],
            [
             0.8888888888888888,
             "#fdca26"
            ],
            [
             1,
             "#f0f921"
            ]
           ],
           "sequentialminus": [
            [
             0,
             "#0d0887"
            ],
            [
             0.1111111111111111,
             "#46039f"
            ],
            [
             0.2222222222222222,
             "#7201a8"
            ],
            [
             0.3333333333333333,
             "#9c179e"
            ],
            [
             0.4444444444444444,
             "#bd3786"
            ],
            [
             0.5555555555555556,
             "#d8576b"
            ],
            [
             0.6666666666666666,
             "#ed7953"
            ],
            [
             0.7777777777777778,
             "#fb9f3a"
            ],
            [
             0.8888888888888888,
             "#fdca26"
            ],
            [
             1,
             "#f0f921"
            ]
           ]
          },
          "colorway": [
           "#636efa",
           "#EF553B",
           "#00cc96",
           "#ab63fa",
           "#FFA15A",
           "#19d3f3",
           "#FF6692",
           "#B6E880",
           "#FF97FF",
           "#FECB52"
          ],
          "font": {
           "color": "#2a3f5f"
          },
          "geo": {
           "bgcolor": "white",
           "lakecolor": "white",
           "landcolor": "#E5ECF6",
           "showlakes": true,
           "showland": true,
           "subunitcolor": "white"
          },
          "hoverlabel": {
           "align": "left"
          },
          "hovermode": "closest",
          "mapbox": {
           "style": "light"
          },
          "paper_bgcolor": "white",
          "plot_bgcolor": "#E5ECF6",
          "polar": {
           "angularaxis": {
            "gridcolor": "white",
            "linecolor": "white",
            "ticks": ""
           },
           "bgcolor": "#E5ECF6",
           "radialaxis": {
            "gridcolor": "white",
            "linecolor": "white",
            "ticks": ""
           }
          },
          "scene": {
           "xaxis": {
            "backgroundcolor": "#E5ECF6",
            "gridcolor": "white",
            "gridwidth": 2,
            "linecolor": "white",
            "showbackground": true,
            "ticks": "",
            "zerolinecolor": "white"
           },
           "yaxis": {
            "backgroundcolor": "#E5ECF6",
            "gridcolor": "white",
            "gridwidth": 2,
            "linecolor": "white",
            "showbackground": true,
            "ticks": "",
            "zerolinecolor": "white"
           },
           "zaxis": {
            "backgroundcolor": "#E5ECF6",
            "gridcolor": "white",
            "gridwidth": 2,
            "linecolor": "white",
            "showbackground": true,
            "ticks": "",
            "zerolinecolor": "white"
           }
          },
          "shapedefaults": {
           "line": {
            "color": "#2a3f5f"
           }
          },
          "ternary": {
           "aaxis": {
            "gridcolor": "white",
            "linecolor": "white",
            "ticks": ""
           },
           "baxis": {
            "gridcolor": "white",
            "linecolor": "white",
            "ticks": ""
           },
           "bgcolor": "#E5ECF6",
           "caxis": {
            "gridcolor": "white",
            "linecolor": "white",
            "ticks": ""
           }
          },
          "title": {
           "x": 0.05
          },
          "xaxis": {
           "automargin": true,
           "gridcolor": "white",
           "linecolor": "white",
           "ticks": "",
           "zerolinecolor": "white",
           "zerolinewidth": 2
          },
          "yaxis": {
           "automargin": true,
           "gridcolor": "white",
           "linecolor": "white",
           "ticks": "",
           "zerolinecolor": "white",
           "zerolinewidth": 2
          }
         }
        },
        "xaxis": {
         "title": {
          "text": "Average education-num"
         },
         "zeroline": false
        },
        "yaxis": {
         "range": [
          0,
          1
         ],
         "showline": true,
         "title": {
          "text": "Average \">$50k\""
         }
        }
       }
      },
      "text/html": [
       "<div>\n",
       "        \n",
       "        \n",
       "            <div id=\"2e808ef5-f1c2-4e1e-8873-4110da2ff495\" class=\"plotly-graph-div\" style=\"height:525px; width:100%;\"></div>\n",
       "            <script type=\"text/javascript\">\n",
       "                require([\"plotly\"], function(Plotly) {\n",
       "                    window.PLOTLYENV=window.PLOTLYENV || {};\n",
       "                    \n",
       "                if (document.getElementById(\"2e808ef5-f1c2-4e1e-8873-4110da2ff495\")) {\n",
       "                    Plotly.newPlot(\n",
       "                        '2e808ef5-f1c2-4e1e-8873-4110da2ff495',\n",
       "                        [{\"fill\": \"toself\", \"fillcolor\": \"#eee\", \"line\": {\"color\": \"rgba(0, 0, 0, 0)\"}, \"name\": \"5.0% - 95.0%\", \"type\": \"scatter\", \"x\": [5.0, 5.252708512467756, 5.505417024935511, 5.758125537403267, 6.010834049871023, 6.263542562338779, 6.516251074806535, 6.76895958727429, 7.021668099742046, 7.274376612209801, 7.527085124677558, 7.779793637145313, 8.03250214961307, 8.285210662080825, 8.53791917454858, 8.790627687016336, 9.043336199484092, 9.296044711951849, 9.548753224419604, 9.80146173688736, 10.054170249355115, 10.251461736887359, 10.448753224419605, 10.646044711951848, 10.843336199484092, 11.040627687016336, 11.23791917454858, 11.435210662080825, 11.63250214961307, 11.829793637145313, 12.027085124677559, 12.224376612209802, 12.421668099742046, 12.61895958727429, 12.816251074806534, 13.01354256233878, 13.210834049871023, 13.408125537403267, 13.605417024935512, 13.802708512467756, 14.0, 14.0, 13.802708512467756, 13.605417024935512, 13.408125537403267, 13.210834049871023, 13.01354256233878, 12.816251074806534, 12.61895958727429, 12.421668099742046, 12.224376612209802, 12.027085124677559, 11.829793637145313, 11.63250214961307, 11.435210662080825, 11.23791917454858, 11.040627687016336, 10.843336199484092, 10.646044711951848, 10.448753224419605, 10.251461736887359, 10.054170249355115, 9.80146173688736, 9.548753224419604, 9.296044711951849, 9.043336199484092, 8.790627687016336, 8.53791917454858, 8.285210662080825, 8.03250214961307, 7.779793637145313, 7.527085124677558, 7.274376612209801, 7.021668099742046, 6.76895958727429, 6.516251074806535, 6.263542562338779, 6.010834049871023, 5.758125537403267, 5.505417024935511, 5.252708512467756, 5.0], \"y\": [0.08839756815478192, 0.09288047780583801, 0.09753239605569647, 0.10221939355801823, 0.10703919062377945, 0.11192045148291792, 0.11720912909064364, 0.12281516238105047, 0.12865490854735112, 0.13482126087558705, 0.14136482147366897, 0.14832393783353193, 0.1557442356776771, 0.16361903468959116, 0.17193274349422144, 0.18085463009199215, 0.19051889072762895, 0.20109893042205695, 0.2124797619418668, 0.2247013298228343, 0.23788464103893336, 0.24881901617440605, 0.2603028985183339, 0.2723381102733969, 0.28493768904844763, 0.2980852004726262, 0.3117898261382711, 0.3259871487478688, 0.3406069590192263, 0.3555355569232691, 0.37097593444864924, 0.3869646764557496, 0.40327410654845597, 0.4198229149905814, 0.4367232265983845, 0.4539424117023929, 0.4715631357916297, 0.4895920224465383, 0.5080323395504022, 0.5268791071851576, 0.546112036359184, 0.560357174625125, 0.5402160354349559, 0.5204564872726201, 0.5010800206739506, 0.4821060603539148, 0.46351948380501173, 0.44538452861774747, 0.42768902941279874, 0.410476173721825, 0.39373655907124094, 0.37741812868272706, 0.36146709794405996, 0.3459529488343871, 0.3309027667230017, 0.3163502349382882, 0.3023680589865939, 0.28902591772975234, 0.2762196180453054, 0.26397168991311376, 0.25231024628533993, 0.24123605848034058, 0.2279114994674987, 0.21551936001454494, 0.20404983622734996, 0.19345026571749568, 0.1837339795927696, 0.17472337148054246, 0.1663327352494774, 0.1585096822204029, 0.15120020056725153, 0.1443477344616837, 0.13797402309346155, 0.1319694415963793, 0.1263527544224027, 0.12106124075855487, 0.11608751103588552, 0.11146804317083123, 0.10714950277583751, 0.10311095243871504, 0.0993519001335026, 0.09587709210288285]}, {\"hoverinfo\": \"x+y\", \"mode\": \"lines+markers\", \"showlegend\": false, \"type\": \"scatter\", \"x\": [5.0, 5.252708512467756, 5.505417024935511, 5.758125537403267, 6.010834049871023, 6.263542562338779, 6.516251074806535, 6.76895958727429, 7.021668099742046, 7.274376612209801, 7.527085124677558, 7.779793637145313, 8.03250214961307, 8.285210662080825, 8.53791917454858, 8.790627687016336, 9.043336199484092, 9.296044711951849, 9.548753224419604, 9.80146173688736, 10.054170249355115, 10.251461736887359, 10.448753224419605, 10.646044711951848, 10.843336199484092, 11.040627687016336, 11.23791917454858, 11.435210662080825, 11.63250214961307, 11.829793637145313, 12.027085124677559, 12.224376612209802, 12.421668099742046, 12.61895958727429, 12.816251074806534, 13.01354256233878, 13.210834049871023, 13.408125537403267, 13.605417024935512, 13.802708512467756, 14.0], \"y\": [0.09280424893336844, 0.09659378935910883, 0.10063708456834121, 0.10493370578299593, 0.1094874397567832, 0.11430616446413534, 0.1194019194830469, 0.12479114151696452, 0.13049505218095334, 0.1365401768604838, 0.14295896649792497, 0.149790468611562, 0.1570809499394884, 0.16488430438693236, 0.1732619864557358, 0.18228210749405696, 0.19201726598029487, 0.2025407494091685, 0.21392103455172962, 0.22621515031596975, 0.23946219345793146, 0.25047821958091204, 0.26208358605148374, 0.27426816720933866, 0.28701537482453904, 0.3003042108285896, 0.31411145646245564, 0.3284136989386994, 0.34318900651329204, 0.3584181842367858, 0.3740855976702295, 0.3901796665980344, 0.4066930353539892, 0.42362248628922927, 0.4409685686866406, 0.4587348577135895, 0.47692666039593445, 0.495548864029472, 0.5146024902415439, 0.5340794646156035, 0.5539550931546173]}, {\"hoverinfo\": \"skip\", \"marker\": {\"color\": \"black\", \"size\": 9, \"symbol\": \"x\"}, \"mode\": \"markers\", \"name\": \"Original mean\", \"type\": \"scatter\", \"x\": [10.054170249355115], \"y\": [0.23946219345793146]}, {\"fill\": \"toself\", \"fillcolor\": \"#eee\", \"legendgroup\": \"PDP\", \"line\": {\"color\": \"rgba(0, 0, 0, 0)\"}, \"name\": \"PDP: 5% - 95%\", \"type\": \"scatter\", \"x\": [1, 2, 3, 4, 5, 6, 7, 8, 9, 10, 11, 12, 13, 14, 15, 16, 16, 15, 14, 13, 12, 11, 10, 9, 8, 7, 6, 5, 4, 3, 2, 1], \"y\": [0.09784704785799164, 0.11242491428891296, 0.11242491428891296, 0.12108252162404784, 0.12548921261400103, 0.13497972150937382, 0.13427844280947693, 0.17177046844572455, 0.19069086767387933, 0.228451022525688, 0.23631341034996617, 0.24515443438331497, 0.3088761728077447, 0.33381304492223685, 0.41403026877181737, 0.4177091277938705, 0.4241723143061625, 0.42050183085679704, 0.3395053003199505, 0.31429375558843164, 0.2499158884531997, 0.24101541998120946, 0.23301461918197927, 0.1950471446574208, 0.17586938006748226, 0.13798219996959468, 0.13874635657900938, 0.12925306672465245, 0.12477184610280956, 0.11601517919736018, 0.11601517919736018, 0.10122122392575239]}, {\"legendgroup\": \"PDP\", \"name\": \"PDP\", \"type\": \"scatter\", \"x\": [1, 2, 3, 4, 5, 6, 7, 8, 9, 10, 11, 12, 13, 14, 15, 16], \"y\": [0.09953914236208763, 0.11417672041519454, 0.11417672041519454, 0.12287123901775657, 0.12729212754977529, 0.1367844239214761, 0.13602671610110378, 0.17399632508514998, 0.19310612458408746, 0.230896952369969, 0.23881139411222974, 0.24768762605114944, 0.3116880474201416, 0.33677857342738504, 0.41730465714199666, 0.42092501631141527]}],\n",
       "                        {\"margin\": {\"r\": 50, \"t\": 50}, \"plot_bgcolor\": \"white\", \"template\": {\"data\": {\"bar\": [{\"error_x\": {\"color\": \"#2a3f5f\"}, \"error_y\": {\"color\": \"#2a3f5f\"}, \"marker\": {\"line\": {\"color\": \"#E5ECF6\", \"width\": 0.5}}, \"type\": \"bar\"}], \"barpolar\": [{\"marker\": {\"line\": {\"color\": \"#E5ECF6\", \"width\": 0.5}}, \"type\": \"barpolar\"}], \"carpet\": [{\"aaxis\": {\"endlinecolor\": \"#2a3f5f\", \"gridcolor\": \"white\", \"linecolor\": \"white\", \"minorgridcolor\": \"white\", \"startlinecolor\": \"#2a3f5f\"}, \"baxis\": {\"endlinecolor\": \"#2a3f5f\", \"gridcolor\": \"white\", \"linecolor\": \"white\", \"minorgridcolor\": \"white\", \"startlinecolor\": \"#2a3f5f\"}, \"type\": \"carpet\"}], \"choropleth\": [{\"colorbar\": {\"outlinewidth\": 0, \"ticks\": \"\"}, \"type\": \"choropleth\"}], \"contour\": [{\"colorbar\": {\"outlinewidth\": 0, \"ticks\": \"\"}, \"colorscale\": [[0.0, \"#0d0887\"], [0.1111111111111111, \"#46039f\"], [0.2222222222222222, \"#7201a8\"], [0.3333333333333333, \"#9c179e\"], [0.4444444444444444, \"#bd3786\"], [0.5555555555555556, \"#d8576b\"], [0.6666666666666666, \"#ed7953\"], [0.7777777777777778, \"#fb9f3a\"], [0.8888888888888888, \"#fdca26\"], [1.0, \"#f0f921\"]], \"type\": \"contour\"}], \"contourcarpet\": [{\"colorbar\": {\"outlinewidth\": 0, \"ticks\": \"\"}, \"type\": \"contourcarpet\"}], \"heatmap\": [{\"colorbar\": {\"outlinewidth\": 0, \"ticks\": \"\"}, \"colorscale\": [[0.0, \"#0d0887\"], [0.1111111111111111, \"#46039f\"], [0.2222222222222222, \"#7201a8\"], [0.3333333333333333, \"#9c179e\"], [0.4444444444444444, \"#bd3786\"], [0.5555555555555556, \"#d8576b\"], [0.6666666666666666, \"#ed7953\"], [0.7777777777777778, \"#fb9f3a\"], [0.8888888888888888, \"#fdca26\"], [1.0, \"#f0f921\"]], \"type\": \"heatmap\"}], \"heatmapgl\": [{\"colorbar\": {\"outlinewidth\": 0, \"ticks\": \"\"}, \"colorscale\": [[0.0, \"#0d0887\"], [0.1111111111111111, \"#46039f\"], [0.2222222222222222, \"#7201a8\"], [0.3333333333333333, \"#9c179e\"], [0.4444444444444444, \"#bd3786\"], [0.5555555555555556, \"#d8576b\"], [0.6666666666666666, \"#ed7953\"], [0.7777777777777778, \"#fb9f3a\"], [0.8888888888888888, \"#fdca26\"], [1.0, \"#f0f921\"]], \"type\": \"heatmapgl\"}], \"histogram\": [{\"marker\": {\"colorbar\": {\"outlinewidth\": 0, \"ticks\": \"\"}}, \"type\": \"histogram\"}], \"histogram2d\": [{\"colorbar\": {\"outlinewidth\": 0, \"ticks\": \"\"}, \"colorscale\": [[0.0, \"#0d0887\"], [0.1111111111111111, \"#46039f\"], [0.2222222222222222, \"#7201a8\"], [0.3333333333333333, \"#9c179e\"], [0.4444444444444444, \"#bd3786\"], [0.5555555555555556, \"#d8576b\"], [0.6666666666666666, \"#ed7953\"], [0.7777777777777778, \"#fb9f3a\"], [0.8888888888888888, \"#fdca26\"], [1.0, \"#f0f921\"]], \"type\": \"histogram2d\"}], \"histogram2dcontour\": [{\"colorbar\": {\"outlinewidth\": 0, \"ticks\": \"\"}, \"colorscale\": [[0.0, \"#0d0887\"], [0.1111111111111111, \"#46039f\"], [0.2222222222222222, \"#7201a8\"], [0.3333333333333333, \"#9c179e\"], [0.4444444444444444, \"#bd3786\"], [0.5555555555555556, \"#d8576b\"], [0.6666666666666666, \"#ed7953\"], [0.7777777777777778, \"#fb9f3a\"], [0.8888888888888888, \"#fdca26\"], [1.0, \"#f0f921\"]], \"type\": \"histogram2dcontour\"}], \"mesh3d\": [{\"colorbar\": {\"outlinewidth\": 0, \"ticks\": \"\"}, \"type\": \"mesh3d\"}], \"parcoords\": [{\"line\": {\"colorbar\": {\"outlinewidth\": 0, \"ticks\": \"\"}}, \"type\": \"parcoords\"}], \"scatter\": [{\"marker\": {\"colorbar\": {\"outlinewidth\": 0, \"ticks\": \"\"}}, \"type\": \"scatter\"}], \"scatter3d\": [{\"line\": {\"colorbar\": {\"outlinewidth\": 0, \"ticks\": \"\"}}, \"marker\": {\"colorbar\": {\"outlinewidth\": 0, \"ticks\": \"\"}}, \"type\": \"scatter3d\"}], \"scattercarpet\": [{\"marker\": {\"colorbar\": {\"outlinewidth\": 0, \"ticks\": \"\"}}, \"type\": \"scattercarpet\"}], \"scattergeo\": [{\"marker\": {\"colorbar\": {\"outlinewidth\": 0, \"ticks\": \"\"}}, \"type\": \"scattergeo\"}], \"scattergl\": [{\"marker\": {\"colorbar\": {\"outlinewidth\": 0, \"ticks\": \"\"}}, \"type\": \"scattergl\"}], \"scattermapbox\": [{\"marker\": {\"colorbar\": {\"outlinewidth\": 0, \"ticks\": \"\"}}, \"type\": \"scattermapbox\"}], \"scatterpolar\": [{\"marker\": {\"colorbar\": {\"outlinewidth\": 0, \"ticks\": \"\"}}, \"type\": \"scatterpolar\"}], \"scatterpolargl\": [{\"marker\": {\"colorbar\": {\"outlinewidth\": 0, \"ticks\": \"\"}}, \"type\": \"scatterpolargl\"}], \"scatterternary\": [{\"marker\": {\"colorbar\": {\"outlinewidth\": 0, \"ticks\": \"\"}}, \"type\": \"scatterternary\"}], \"surface\": [{\"colorbar\": {\"outlinewidth\": 0, \"ticks\": \"\"}, \"colorscale\": [[0.0, \"#0d0887\"], [0.1111111111111111, \"#46039f\"], [0.2222222222222222, \"#7201a8\"], [0.3333333333333333, \"#9c179e\"], [0.4444444444444444, \"#bd3786\"], [0.5555555555555556, \"#d8576b\"], [0.6666666666666666, \"#ed7953\"], [0.7777777777777778, \"#fb9f3a\"], [0.8888888888888888, \"#fdca26\"], [1.0, \"#f0f921\"]], \"type\": \"surface\"}], \"table\": [{\"cells\": {\"fill\": {\"color\": \"#EBF0F8\"}, \"line\": {\"color\": \"white\"}}, \"header\": {\"fill\": {\"color\": \"#C8D4E3\"}, \"line\": {\"color\": \"white\"}}, \"type\": \"table\"}]}, \"layout\": {\"annotationdefaults\": {\"arrowcolor\": \"#2a3f5f\", \"arrowhead\": 0, \"arrowwidth\": 1}, \"colorscale\": {\"diverging\": [[0, \"#8e0152\"], [0.1, \"#c51b7d\"], [0.2, \"#de77ae\"], [0.3, \"#f1b6da\"], [0.4, \"#fde0ef\"], [0.5, \"#f7f7f7\"], [0.6, \"#e6f5d0\"], [0.7, \"#b8e186\"], [0.8, \"#7fbc41\"], [0.9, \"#4d9221\"], [1, \"#276419\"]], \"sequential\": [[0.0, \"#0d0887\"], [0.1111111111111111, \"#46039f\"], [0.2222222222222222, \"#7201a8\"], [0.3333333333333333, \"#9c179e\"], [0.4444444444444444, \"#bd3786\"], [0.5555555555555556, \"#d8576b\"], [0.6666666666666666, \"#ed7953\"], [0.7777777777777778, \"#fb9f3a\"], [0.8888888888888888, \"#fdca26\"], [1.0, \"#f0f921\"]], \"sequentialminus\": [[0.0, \"#0d0887\"], [0.1111111111111111, \"#46039f\"], [0.2222222222222222, \"#7201a8\"], [0.3333333333333333, \"#9c179e\"], [0.4444444444444444, \"#bd3786\"], [0.5555555555555556, \"#d8576b\"], [0.6666666666666666, \"#ed7953\"], [0.7777777777777778, \"#fb9f3a\"], [0.8888888888888888, \"#fdca26\"], [1.0, \"#f0f921\"]]}, \"colorway\": [\"#636efa\", \"#EF553B\", \"#00cc96\", \"#ab63fa\", \"#FFA15A\", \"#19d3f3\", \"#FF6692\", \"#B6E880\", \"#FF97FF\", \"#FECB52\"], \"font\": {\"color\": \"#2a3f5f\"}, \"geo\": {\"bgcolor\": \"white\", \"lakecolor\": \"white\", \"landcolor\": \"#E5ECF6\", \"showlakes\": true, \"showland\": true, \"subunitcolor\": \"white\"}, \"hoverlabel\": {\"align\": \"left\"}, \"hovermode\": \"closest\", \"mapbox\": {\"style\": \"light\"}, \"paper_bgcolor\": \"white\", \"plot_bgcolor\": \"#E5ECF6\", \"polar\": {\"angularaxis\": {\"gridcolor\": \"white\", \"linecolor\": \"white\", \"ticks\": \"\"}, \"bgcolor\": \"#E5ECF6\", \"radialaxis\": {\"gridcolor\": \"white\", \"linecolor\": \"white\", \"ticks\": \"\"}}, \"scene\": {\"xaxis\": {\"backgroundcolor\": \"#E5ECF6\", \"gridcolor\": \"white\", \"gridwidth\": 2, \"linecolor\": \"white\", \"showbackground\": true, \"ticks\": \"\", \"zerolinecolor\": \"white\"}, \"yaxis\": {\"backgroundcolor\": \"#E5ECF6\", \"gridcolor\": \"white\", \"gridwidth\": 2, \"linecolor\": \"white\", \"showbackground\": true, \"ticks\": \"\", \"zerolinecolor\": \"white\"}, \"zaxis\": {\"backgroundcolor\": \"#E5ECF6\", \"gridcolor\": \"white\", \"gridwidth\": 2, \"linecolor\": \"white\", \"showbackground\": true, \"ticks\": \"\", \"zerolinecolor\": \"white\"}}, \"shapedefaults\": {\"line\": {\"color\": \"#2a3f5f\"}}, \"ternary\": {\"aaxis\": {\"gridcolor\": \"white\", \"linecolor\": \"white\", \"ticks\": \"\"}, \"baxis\": {\"gridcolor\": \"white\", \"linecolor\": \"white\", \"ticks\": \"\"}, \"bgcolor\": \"#E5ECF6\", \"caxis\": {\"gridcolor\": \"white\", \"linecolor\": \"white\", \"ticks\": \"\"}}, \"title\": {\"x\": 0.05}, \"xaxis\": {\"automargin\": true, \"gridcolor\": \"white\", \"linecolor\": \"white\", \"ticks\": \"\", \"zerolinecolor\": \"white\", \"zerolinewidth\": 2}, \"yaxis\": {\"automargin\": true, \"gridcolor\": \"white\", \"linecolor\": \"white\", \"ticks\": \"\", \"zerolinecolor\": \"white\", \"zerolinewidth\": 2}}}, \"xaxis\": {\"title\": {\"text\": \"Average education-num\"}, \"zeroline\": false}, \"yaxis\": {\"range\": [0, 1], \"showline\": true, \"title\": {\"text\": \"Average \\\">$50k\\\"\"}}},\n",
       "                        {\"responsive\": true}\n",
       "                    ).then(function(){\n",
       "                            \n",
       "var gd = document.getElementById('2e808ef5-f1c2-4e1e-8873-4110da2ff495');\n",
       "var x = new MutationObserver(function (mutations, observer) {{\n",
       "        var display = window.getComputedStyle(gd).display;\n",
       "        if (!display || display === 'none') {{\n",
       "            console.log([gd, 'removed!']);\n",
       "            Plotly.purge(gd);\n",
       "            observer.disconnect();\n",
       "        }}\n",
       "}});\n",
       "\n",
       "// Listen for the removal of the full notebook cells\n",
       "var notebookContainer = gd.closest('#notebook-container');\n",
       "if (notebookContainer) {{\n",
       "    x.observe(notebookContainer, {childList: true});\n",
       "}}\n",
       "\n",
       "// Listen for the clearing of the current output cell\n",
       "var outputEl = gd.closest('.output');\n",
       "if (outputEl) {{\n",
       "    x.observe(outputEl, {childList: true});\n",
       "}}\n",
       "\n",
       "                        })\n",
       "                };\n",
       "                });\n",
       "            </script>\n",
       "        </div>"
      ]
     },
     "metadata": {},
     "output_type": "display_data"
    }
   ],
   "source": [
    "plot_all(\"education-num\", n_samples=30)"
   ]
  },
  {
   "cell_type": "code",
   "execution_count": null,
   "metadata": {},
   "outputs": [],
   "source": []
  }
 ],
 "metadata": {
  "kernelspec": {
   "display_name": "ethik",
   "language": "python",
   "name": "ethik"
  },
  "language_info": {
   "codemirror_mode": {
    "name": "ipython",
    "version": 3
   },
   "file_extension": ".py",
   "mimetype": "text/x-python",
   "name": "python",
   "nbconvert_exporter": "python",
   "pygments_lexer": "ipython3",
   "version": "3.7.3"
  }
 },
 "nbformat": 4,
 "nbformat_minor": 2
}
