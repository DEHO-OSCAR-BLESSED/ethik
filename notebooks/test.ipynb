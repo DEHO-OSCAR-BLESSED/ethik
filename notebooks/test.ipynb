{
 "cells": [
  {
   "cell_type": "code",
   "execution_count": 1,
   "metadata": {},
   "outputs": [],
   "source": [
    "import ethik\n",
    "import pandas as pd\n",
    "from sklearn import metrics"
   ]
  },
  {
   "cell_type": "code",
   "execution_count": 2,
   "metadata": {},
   "outputs": [],
   "source": [
    "X = pd.DataFrame({\n",
    "    \"x0\": [1, 2, 3],\n",
    "    \"x1\": [7, 23, 30]\n",
    "})\n",
    "y_pred = pd.Series([0, 1, 0], name=\"my_label\")"
   ]
  },
  {
   "cell_type": "code",
   "execution_count": 3,
   "metadata": {},
   "outputs": [
    {
     "data": {
      "text/plain": [
       "<ethik.explainer.Explainer at 0x7f9b3312d860>"
      ]
     },
     "execution_count": 3,
     "metadata": {},
     "output_type": "execute_result"
    }
   ],
   "source": [
    "explainer = ethik.Explainer()\n",
    "explainer._fit(X, y_pred)"
   ]
  },
  {
   "cell_type": "code",
   "execution_count": 4,
   "metadata": {},
   "outputs": [
    {
     "data": {
      "text/html": [
       "        <script type=\"text/javascript\">\n",
       "        window.PlotlyConfig = {MathJaxConfig: 'local'};\n",
       "        if (window.MathJax) {MathJax.Hub.Config({SVG: {font: \"STIX-Web\"}});}\n",
       "        if (typeof require !== 'undefined') {\n",
       "        require.undef(\"plotly\");\n",
       "        requirejs.config({\n",
       "            paths: {\n",
       "                'plotly': ['https://cdn.plot.ly/plotly-latest.min']\n",
       "            }\n",
       "        });\n",
       "        require(['plotly'], function(Plotly) {\n",
       "            window._Plotly = Plotly;\n",
       "        });\n",
       "        }\n",
       "        </script>\n",
       "        "
      ]
     },
     "metadata": {},
     "output_type": "display_data"
    },
    {
     "data": {
      "application/vnd.plotly.v1+json": {
       "config": {
        "linkText": "Export to plot.ly",
        "plotlyServerURL": "https://plot.ly",
        "showLink": false
       },
       "data": [
        {
         "hoverinfo": "x",
         "marker": {
          "color": [
           "red",
           "blue"
          ]
         },
         "orientation": "h",
         "type": "bar",
         "uid": "244dd93b-4bca-4dc9-87f4-756592200181",
         "x": [
          0.07930310221937063,
          0.07996958863040952
         ],
         "y": [
          "x1",
          "x0"
         ]
        }
       ],
       "layout": {
        "margin": {
         "b": 0,
         "l": 200,
         "t": 40
        },
        "xaxis": {
         "range": [
          0,
          1
         ],
         "showline": true,
         "side": "top",
         "title": {
          "text": "Importance"
         },
         "zeroline": false
        },
        "yaxis": {
         "showline": true,
         "zeroline": false
        }
       }
      },
      "text/html": [
       "<div>\n",
       "        \n",
       "        \n",
       "            <div id=\"04b15fbf-1112-499a-96b6-c3b0919b3c0b\" class=\"plotly-graph-div\" style=\"height:525px; width:100%;\"></div>\n",
       "            <script type=\"text/javascript\">\n",
       "                require([\"plotly\"], function(Plotly) {\n",
       "                    window.PLOTLYENV=window.PLOTLYENV || {};\n",
       "                    window.PLOTLYENV.BASE_URL='https://plot.ly';\n",
       "                    \n",
       "                if (document.getElementById(\"04b15fbf-1112-499a-96b6-c3b0919b3c0b\")) {\n",
       "                    Plotly.newPlot(\n",
       "                        '04b15fbf-1112-499a-96b6-c3b0919b3c0b',\n",
       "                        [{\"hoverinfo\": \"x\", \"marker\": {\"color\": [\"red\", \"blue\"]}, \"orientation\": \"h\", \"type\": \"bar\", \"uid\": \"244dd93b-4bca-4dc9-87f4-756592200181\", \"x\": [0.07930310221937063, 0.07996958863040952], \"y\": [\"x1\", \"x0\"]}],\n",
       "                        {\"margin\": {\"b\": 0, \"l\": 200, \"t\": 40}, \"xaxis\": {\"range\": [0, 1], \"showline\": true, \"side\": \"top\", \"title\": {\"text\": \"Importance\"}, \"zeroline\": false}, \"yaxis\": {\"showline\": true, \"zeroline\": false}},\n",
       "                        {\"showLink\": false, \"linkText\": \"Export to plot.ly\", \"plotlyServerURL\": \"https://plot.ly\", \"responsive\": true}\n",
       "                    ).then(function(){\n",
       "                            \n",
       "var gd = document.getElementById('04b15fbf-1112-499a-96b6-c3b0919b3c0b');\n",
       "var x = new MutationObserver(function (mutations, observer) {{\n",
       "        var display = window.getComputedStyle(gd).display;\n",
       "        if (!display || display === 'none') {{\n",
       "            console.log([gd, 'removed!']);\n",
       "            Plotly.purge(gd);\n",
       "            observer.disconnect();\n",
       "        }}\n",
       "}});\n",
       "\n",
       "// Listen for the removal of the full notebook cells\n",
       "var notebookContainer = gd.closest('#notebook-container');\n",
       "if (notebookContainer) {{\n",
       "    x.observe(notebookContainer, {childList: true});\n",
       "}}\n",
       "\n",
       "// Listen for the clearing of the current output cell\n",
       "var outputEl = gd.closest('.output');\n",
       "if (outputEl) {{\n",
       "    x.observe(outputEl, {childList: true});\n",
       "}}\n",
       "\n",
       "                        })\n",
       "                };\n",
       "                });\n",
       "            </script>\n",
       "        </div>"
      ]
     },
     "metadata": {},
     "output_type": "display_data"
    }
   ],
   "source": [
    "explainer.plot_bias_ranking(X, y_pred, inline=True, colors=[\"red\", \"blue\"])"
   ]
  },
  {
   "cell_type": "code",
   "execution_count": 5,
   "metadata": {
    "scrolled": false
   },
   "outputs": [
    {
     "data": {
      "text/plain": [
       "<ethik.explainer.Explainer at 0x7f9b3312d860>"
      ]
     },
     "execution_count": 5,
     "metadata": {},
     "output_type": "execute_result"
    }
   ],
   "source": [
    "explainer._fit(pd.DataFrame({\n",
    "    \"x0\": [1, 2, 3],\n",
    "    \"x2\": [1, 2, 3]\n",
    "}), y_pred)"
   ]
  },
  {
   "cell_type": "code",
   "execution_count": 6,
   "metadata": {
    "scrolled": false
   },
   "outputs": [
    {
     "data": {
      "text/html": [
       "        <script type=\"text/javascript\">\n",
       "        window.PlotlyConfig = {MathJaxConfig: 'local'};\n",
       "        if (window.MathJax) {MathJax.Hub.Config({SVG: {font: \"STIX-Web\"}});}\n",
       "        if (typeof require !== 'undefined') {\n",
       "        require.undef(\"plotly\");\n",
       "        requirejs.config({\n",
       "            paths: {\n",
       "                'plotly': ['https://cdn.plot.ly/plotly-latest.min']\n",
       "            }\n",
       "        });\n",
       "        require(['plotly'], function(Plotly) {\n",
       "            window._Plotly = Plotly;\n",
       "        });\n",
       "        }\n",
       "        </script>\n",
       "        "
      ]
     },
     "metadata": {},
     "output_type": "display_data"
    },
    {
     "data": {
      "application/vnd.plotly.v1+json": {
       "config": {
        "linkText": "Export to plot.ly",
        "plotlyServerURL": "https://plot.ly",
        "showLink": false
       },
       "data": [
        {
         "hoverinfo": "x+y",
         "mode": "lines+markers",
         "showlegend": false,
         "type": "scatter",
         "uid": "39c57f46-ead9-4398-9330-6036ca1e03b0",
         "x": [
          1.1,
          1.145,
          1.19,
          1.235,
          1.28,
          1.3250000000000002,
          1.37,
          1.415,
          1.46,
          1.505,
          1.55,
          1.595,
          1.6400000000000001,
          1.685,
          1.73,
          1.775,
          1.82,
          1.865,
          1.91,
          1.955,
          2,
          2.045,
          2.09,
          2.135,
          2.18,
          2.225,
          2.27,
          2.315,
          2.36,
          2.405,
          2.45,
          2.495,
          2.54,
          2.585,
          2.63,
          2.675,
          2.7199999999999998,
          2.7649999999999997,
          2.81,
          2.855,
          2.9
         ],
         "y": [
          0.08433244412378645,
          0.11473970603409969,
          0.1417923810930492,
          0.1660357130095062,
          0.18786187428513246,
          0.20756355558769257,
          0.22536555197470498,
          0.24144440148634846,
          0.2559411735345987,
          0.26897011547336613,
          0.2806246818797954,
          0.29098184703988517,
          0.30010525441171754,
          0.30804755540942025,
          0.31485216823581197,
          0.32055461153523845,
          0.32518351872471724,
          0.32876140644674107,
          0.3313052484872261,
          0.3328268909704331,
          0.3333333333333333,
          0.3328268909704331,
          0.3313052484872261,
          0.3287614064467411,
          0.3251835187247172,
          0.32055461153523845,
          0.31485216823581197,
          0.30804755540942036,
          0.3001052544117175,
          0.29098184703988533,
          0.28062468187979556,
          0.2689701154733661,
          0.25594117353459866,
          0.24144440148634858,
          0.2253655519747047,
          0.20756355558769254,
          0.18786187428513226,
          0.16603571300950626,
          0.1417923810930494,
          0.11473970603409943,
          0.0843324441237864
         ]
        },
        {
         "hoverinfo": "skip",
         "marker": {
          "size": 9,
          "symbol": "x"
         },
         "mode": "markers",
         "name": "Original mean",
         "type": "scatter",
         "uid": "d6056507-52e2-4f81-80a7-512ec46b38b9",
         "x": [
          2
         ],
         "y": [
          0.3333333333333333
         ]
        }
       ],
       "layout": {
        "margin": {
         "r": 50,
         "t": 50
        },
        "xaxis": {
         "title": {
          "text": "Mean x0"
         },
         "zeroline": false
        },
        "yaxis": {
         "range": [
          0,
          1
         ],
         "showline": true,
         "tickformat": "%",
         "title": {
          "text": "Proportion of my_label"
         }
        }
       }
      },
      "text/html": [
       "<div>\n",
       "        \n",
       "        \n",
       "            <div id=\"7e2cd069-c62f-40c8-9a60-b091fe931af2\" class=\"plotly-graph-div\" style=\"height:525px; width:100%;\"></div>\n",
       "            <script type=\"text/javascript\">\n",
       "                require([\"plotly\"], function(Plotly) {\n",
       "                    window.PLOTLYENV=window.PLOTLYENV || {};\n",
       "                    window.PLOTLYENV.BASE_URL='https://plot.ly';\n",
       "                    \n",
       "                if (document.getElementById(\"7e2cd069-c62f-40c8-9a60-b091fe931af2\")) {\n",
       "                    Plotly.newPlot(\n",
       "                        '7e2cd069-c62f-40c8-9a60-b091fe931af2',\n",
       "                        [{\"hoverinfo\": \"x+y\", \"mode\": \"lines+markers\", \"showlegend\": false, \"type\": \"scatter\", \"uid\": \"39c57f46-ead9-4398-9330-6036ca1e03b0\", \"x\": [1.1, 1.145, 1.19, 1.235, 1.28, 1.3250000000000002, 1.37, 1.415, 1.46, 1.505, 1.55, 1.595, 1.6400000000000001, 1.685, 1.73, 1.775, 1.82, 1.865, 1.91, 1.955, 2.0, 2.045, 2.09, 2.135, 2.18, 2.225, 2.27, 2.315, 2.36, 2.405, 2.45, 2.495, 2.54, 2.585, 2.63, 2.675, 2.7199999999999998, 2.7649999999999997, 2.81, 2.855, 2.9], \"y\": [0.08433244412378645, 0.11473970603409969, 0.1417923810930492, 0.1660357130095062, 0.18786187428513246, 0.20756355558769257, 0.22536555197470498, 0.24144440148634846, 0.2559411735345987, 0.26897011547336613, 0.2806246818797954, 0.29098184703988517, 0.30010525441171754, 0.30804755540942025, 0.31485216823581197, 0.32055461153523845, 0.32518351872471724, 0.32876140644674107, 0.3313052484872261, 0.3328268909704331, 0.3333333333333333, 0.3328268909704331, 0.3313052484872261, 0.3287614064467411, 0.3251835187247172, 0.32055461153523845, 0.31485216823581197, 0.30804755540942036, 0.3001052544117175, 0.29098184703988533, 0.28062468187979556, 0.2689701154733661, 0.25594117353459866, 0.24144440148634858, 0.2253655519747047, 0.20756355558769254, 0.18786187428513226, 0.16603571300950626, 0.1417923810930494, 0.11473970603409943, 0.0843324441237864]}, {\"hoverinfo\": \"skip\", \"marker\": {\"size\": 9, \"symbol\": \"x\"}, \"mode\": \"markers\", \"name\": \"Original mean\", \"type\": \"scatter\", \"uid\": \"d6056507-52e2-4f81-80a7-512ec46b38b9\", \"x\": [2.0], \"y\": [0.3333333333333333]}],\n",
       "                        {\"margin\": {\"r\": 50, \"t\": 50}, \"xaxis\": {\"title\": {\"text\": \"Mean x0\"}, \"zeroline\": false}, \"yaxis\": {\"range\": [0, 1], \"showline\": true, \"tickformat\": \"%\", \"title\": {\"text\": \"Proportion of my_label\"}}},\n",
       "                        {\"showLink\": false, \"linkText\": \"Export to plot.ly\", \"plotlyServerURL\": \"https://plot.ly\", \"responsive\": true}\n",
       "                    ).then(function(){\n",
       "                            \n",
       "var gd = document.getElementById('7e2cd069-c62f-40c8-9a60-b091fe931af2');\n",
       "var x = new MutationObserver(function (mutations, observer) {{\n",
       "        var display = window.getComputedStyle(gd).display;\n",
       "        if (!display || display === 'none') {{\n",
       "            console.log([gd, 'removed!']);\n",
       "            Plotly.purge(gd);\n",
       "            observer.disconnect();\n",
       "        }}\n",
       "}});\n",
       "\n",
       "// Listen for the removal of the full notebook cells\n",
       "var notebookContainer = gd.closest('#notebook-container');\n",
       "if (notebookContainer) {{\n",
       "    x.observe(notebookContainer, {childList: true});\n",
       "}}\n",
       "\n",
       "// Listen for the clearing of the current output cell\n",
       "var outputEl = gd.closest('.output');\n",
       "if (outputEl) {{\n",
       "    x.observe(outputEl, {childList: true});\n",
       "}}\n",
       "\n",
       "                        })\n",
       "                };\n",
       "                });\n",
       "            </script>\n",
       "        </div>"
      ]
     },
     "metadata": {},
     "output_type": "display_data"
    }
   ],
   "source": [
    "explainer.plot_bias(X[\"x0\"], pd.Series([0, 1, 0], name=\"my_y\"), inline=True)"
   ]
  },
  {
   "cell_type": "code",
   "execution_count": 7,
   "metadata": {},
   "outputs": [
    {
     "data": {
      "text/html": [
       "        <script type=\"text/javascript\">\n",
       "        window.PlotlyConfig = {MathJaxConfig: 'local'};\n",
       "        if (window.MathJax) {MathJax.Hub.Config({SVG: {font: \"STIX-Web\"}});}\n",
       "        if (typeof require !== 'undefined') {\n",
       "        require.undef(\"plotly\");\n",
       "        requirejs.config({\n",
       "            paths: {\n",
       "                'plotly': ['https://cdn.plot.ly/plotly-latest.min']\n",
       "            }\n",
       "        });\n",
       "        require(['plotly'], function(Plotly) {\n",
       "            window._Plotly = Plotly;\n",
       "        });\n",
       "        }\n",
       "        </script>\n",
       "        "
      ]
     },
     "metadata": {},
     "output_type": "display_data"
    },
    {
     "data": {
      "application/vnd.plotly.v1+json": {
       "config": {
        "linkText": "Export to plot.ly",
        "plotlyServerURL": "https://plot.ly",
        "showLink": false
       },
       "data": [
        {
         "hoverinfo": "x+y",
         "mode": "lines+markers",
         "showlegend": false,
         "type": "scatter",
         "uid": "caabec3d-d7f9-4dc0-bd1b-1c996c9597fe",
         "x": [
          1.1,
          1.145,
          1.19,
          1.235,
          1.28,
          1.3250000000000002,
          1.37,
          1.415,
          1.46,
          1.505,
          1.55,
          1.595,
          1.6400000000000001,
          1.685,
          1.73,
          1.775,
          1.82,
          1.865,
          1.91,
          1.955,
          2,
          2.045,
          2.09,
          2.135,
          2.18,
          2.225,
          2.27,
          2.315,
          2.36,
          2.405,
          2.45,
          2.495,
          2.54,
          2.585,
          2.63,
          2.675,
          2.7199999999999998,
          2.7649999999999997,
          2.81,
          2.855,
          2.9
         ],
         "y": [
          0.08433244412378645,
          0.11473970603409969,
          0.1417923810930492,
          0.1660357130095062,
          0.18786187428513246,
          0.20756355558769257,
          0.22536555197470498,
          0.24144440148634846,
          0.2559411735345987,
          0.26897011547336613,
          0.2806246818797954,
          0.29098184703988517,
          0.30010525441171754,
          0.30804755540942025,
          0.31485216823581197,
          0.32055461153523845,
          0.32518351872471724,
          0.32876140644674107,
          0.3313052484872261,
          0.3328268909704331,
          0.3333333333333333,
          0.3328268909704331,
          0.3313052484872261,
          0.3287614064467411,
          0.3251835187247172,
          0.32055461153523845,
          0.31485216823581197,
          0.30804755540942036,
          0.3001052544117175,
          0.29098184703988533,
          0.28062468187979556,
          0.2689701154733661,
          0.25594117353459866,
          0.24144440148634858,
          0.2253655519747047,
          0.20756355558769254,
          0.18786187428513226,
          0.16603571300950626,
          0.1417923810930494,
          0.11473970603409943,
          0.0843324441237864
         ]
        },
        {
         "hoverinfo": "skip",
         "marker": {
          "size": 9,
          "symbol": "x"
         },
         "mode": "markers",
         "name": "Original mean",
         "type": "scatter",
         "uid": "1cc2e0e0-766d-4397-b3a1-d3c256dfb48f",
         "x": [
          2
         ],
         "y": [
          0.3333333333333333
         ]
        }
       ],
       "layout": {
        "margin": {
         "r": 50,
         "t": 50
        },
        "xaxis": {
         "title": {
          "text": "Mean x0"
         },
         "zeroline": false
        },
        "yaxis": {
         "range": [
          0,
          1
         ],
         "showline": true,
         "tickformat": "%",
         "title": {
          "text": "Proportion of my_label"
         }
        }
       }
      },
      "text/html": [
       "<div>\n",
       "        \n",
       "        \n",
       "            <div id=\"5451da3b-1fb2-475a-9648-45517b140aca\" class=\"plotly-graph-div\" style=\"height:525px; width:100%;\"></div>\n",
       "            <script type=\"text/javascript\">\n",
       "                require([\"plotly\"], function(Plotly) {\n",
       "                    window.PLOTLYENV=window.PLOTLYENV || {};\n",
       "                    window.PLOTLYENV.BASE_URL='https://plot.ly';\n",
       "                    \n",
       "                if (document.getElementById(\"5451da3b-1fb2-475a-9648-45517b140aca\")) {\n",
       "                    Plotly.newPlot(\n",
       "                        '5451da3b-1fb2-475a-9648-45517b140aca',\n",
       "                        [{\"hoverinfo\": \"x+y\", \"mode\": \"lines+markers\", \"showlegend\": false, \"type\": \"scatter\", \"uid\": \"caabec3d-d7f9-4dc0-bd1b-1c996c9597fe\", \"x\": [1.1, 1.145, 1.19, 1.235, 1.28, 1.3250000000000002, 1.37, 1.415, 1.46, 1.505, 1.55, 1.595, 1.6400000000000001, 1.685, 1.73, 1.775, 1.82, 1.865, 1.91, 1.955, 2.0, 2.045, 2.09, 2.135, 2.18, 2.225, 2.27, 2.315, 2.36, 2.405, 2.45, 2.495, 2.54, 2.585, 2.63, 2.675, 2.7199999999999998, 2.7649999999999997, 2.81, 2.855, 2.9], \"y\": [0.08433244412378645, 0.11473970603409969, 0.1417923810930492, 0.1660357130095062, 0.18786187428513246, 0.20756355558769257, 0.22536555197470498, 0.24144440148634846, 0.2559411735345987, 0.26897011547336613, 0.2806246818797954, 0.29098184703988517, 0.30010525441171754, 0.30804755540942025, 0.31485216823581197, 0.32055461153523845, 0.32518351872471724, 0.32876140644674107, 0.3313052484872261, 0.3328268909704331, 0.3333333333333333, 0.3328268909704331, 0.3313052484872261, 0.3287614064467411, 0.3251835187247172, 0.32055461153523845, 0.31485216823581197, 0.30804755540942036, 0.3001052544117175, 0.29098184703988533, 0.28062468187979556, 0.2689701154733661, 0.25594117353459866, 0.24144440148634858, 0.2253655519747047, 0.20756355558769254, 0.18786187428513226, 0.16603571300950626, 0.1417923810930494, 0.11473970603409943, 0.0843324441237864]}, {\"hoverinfo\": \"skip\", \"marker\": {\"size\": 9, \"symbol\": \"x\"}, \"mode\": \"markers\", \"name\": \"Original mean\", \"type\": \"scatter\", \"uid\": \"1cc2e0e0-766d-4397-b3a1-d3c256dfb48f\", \"x\": [2.0], \"y\": [0.3333333333333333]}],\n",
       "                        {\"margin\": {\"r\": 50, \"t\": 50}, \"xaxis\": {\"title\": {\"text\": \"Mean x0\"}, \"zeroline\": false}, \"yaxis\": {\"range\": [0, 1], \"showline\": true, \"tickformat\": \"%\", \"title\": {\"text\": \"Proportion of my_label\"}}},\n",
       "                        {\"showLink\": false, \"linkText\": \"Export to plot.ly\", \"plotlyServerURL\": \"https://plot.ly\", \"responsive\": true}\n",
       "                    ).then(function(){\n",
       "                            \n",
       "var gd = document.getElementById('5451da3b-1fb2-475a-9648-45517b140aca');\n",
       "var x = new MutationObserver(function (mutations, observer) {{\n",
       "        var display = window.getComputedStyle(gd).display;\n",
       "        if (!display || display === 'none') {{\n",
       "            console.log([gd, 'removed!']);\n",
       "            Plotly.purge(gd);\n",
       "            observer.disconnect();\n",
       "        }}\n",
       "}});\n",
       "\n",
       "// Listen for the removal of the full notebook cells\n",
       "var notebookContainer = gd.closest('#notebook-container');\n",
       "if (notebookContainer) {{\n",
       "    x.observe(notebookContainer, {childList: true});\n",
       "}}\n",
       "\n",
       "// Listen for the clearing of the current output cell\n",
       "var outputEl = gd.closest('.output');\n",
       "if (outputEl) {{\n",
       "    x.observe(outputEl, {childList: true});\n",
       "}}\n",
       "\n",
       "                        })\n",
       "                };\n",
       "                });\n",
       "            </script>\n",
       "        </div>"
      ]
     },
     "metadata": {},
     "output_type": "display_data"
    }
   ],
   "source": [
    "explainer.plot_bias(X[\"x0\"], pd.Series([0, 1, 0], name=\"my_y\"), inline=True)"
   ]
  },
  {
   "cell_type": "code",
   "execution_count": 8,
   "metadata": {
    "scrolled": false
   },
   "outputs": [
    {
     "data": {
      "text/html": [
       "        <script type=\"text/javascript\">\n",
       "        window.PlotlyConfig = {MathJaxConfig: 'local'};\n",
       "        if (window.MathJax) {MathJax.Hub.Config({SVG: {font: \"STIX-Web\"}});}\n",
       "        if (typeof require !== 'undefined') {\n",
       "        require.undef(\"plotly\");\n",
       "        requirejs.config({\n",
       "            paths: {\n",
       "                'plotly': ['https://cdn.plot.ly/plotly-latest.min']\n",
       "            }\n",
       "        });\n",
       "        require(['plotly'], function(Plotly) {\n",
       "            window._Plotly = Plotly;\n",
       "        });\n",
       "        }\n",
       "        </script>\n",
       "        "
      ]
     },
     "metadata": {},
     "output_type": "display_data"
    },
    {
     "data": {
      "application/vnd.plotly.v1+json": {
       "config": {
        "linkText": "Export to plot.ly",
        "plotlyServerURL": "https://plot.ly",
        "showLink": false
       },
       "data": [
        {
         "hoverinfo": "x+y+text",
         "mode": "lines+markers",
         "name": "x0",
         "text": [
          "x0 = 1.1",
          "x0 = 1.145",
          "x0 = 1.19",
          "x0 = 1.235",
          "x0 = 1.28",
          "x0 = 1.3250000000000002",
          "x0 = 1.37",
          "x0 = 1.415",
          "x0 = 1.46",
          "x0 = 1.505",
          "x0 = 1.55",
          "x0 = 1.595",
          "x0 = 1.6400000000000001",
          "x0 = 1.685",
          "x0 = 1.73",
          "x0 = 1.775",
          "x0 = 1.82",
          "x0 = 1.865",
          "x0 = 1.91",
          "x0 = 1.955",
          "x0 = 2.0",
          "x0 = 2.045",
          "x0 = 2.09",
          "x0 = 2.135",
          "x0 = 2.18",
          "x0 = 2.225",
          "x0 = 2.27",
          "x0 = 2.315",
          "x0 = 2.36",
          "x0 = 2.405",
          "x0 = 2.45",
          "x0 = 2.495",
          "x0 = 2.54",
          "x0 = 2.585",
          "x0 = 2.63",
          "x0 = 2.675",
          "x0 = 2.7199999999999998",
          "x0 = 2.7649999999999997",
          "x0 = 2.81",
          "x0 = 2.855",
          "x0 = 2.9"
         ],
         "type": "scatter",
         "uid": "49fb03ec-7e53-4106-9f7e-2365d5e7a79c",
         "x": [
          -1,
          -0.95,
          -0.9,
          -0.85,
          -0.8,
          -0.75,
          -0.7,
          -0.65,
          -0.6,
          -0.55,
          -0.5,
          -0.45,
          -0.4,
          -0.35,
          -0.3,
          -0.25,
          -0.2,
          -0.15,
          -0.1,
          -0.05,
          0,
          0.05,
          0.1,
          0.15,
          0.2,
          0.25,
          0.3,
          0.35,
          0.4,
          0.45,
          0.5,
          0.55,
          0.6,
          0.65,
          0.7,
          0.75,
          0.8,
          0.85,
          0.9,
          0.95,
          1
         ],
         "y": [
          0.08433244412378645,
          0.11473970603409969,
          0.1417923810930492,
          0.1660357130095062,
          0.18786187428513246,
          0.20756355558769257,
          0.22536555197470498,
          0.24144440148634846,
          0.2559411735345987,
          0.26897011547336613,
          0.2806246818797954,
          0.29098184703988517,
          0.30010525441171754,
          0.30804755540942025,
          0.31485216823581197,
          0.32055461153523845,
          0.32518351872471724,
          0.32876140644674107,
          0.3313052484872261,
          0.3328268909704331,
          0.3333333333333333,
          0.3328268909704331,
          0.3313052484872261,
          0.3287614064467411,
          0.3251835187247172,
          0.32055461153523845,
          0.31485216823581197,
          0.30804755540942036,
          0.3001052544117175,
          0.29098184703988533,
          0.28062468187979556,
          0.2689701154733661,
          0.25594117353459866,
          0.24144440148634858,
          0.2253655519747047,
          0.20756355558769254,
          0.18786187428513226,
          0.16603571300950626,
          0.1417923810930494,
          0.11473970603409943,
          0.0843324441237864
         ]
        },
        {
         "hoverinfo": "x+y+text",
         "mode": "lines+markers",
         "name": "x1",
         "text": [
          "x1 = 8.6",
          "x1 = 9.17",
          "x1 = 9.74",
          "x1 = 10.31",
          "x1 = 10.879999999999999",
          "x1 = 11.45",
          "x1 = 12.02",
          "x1 = 12.59",
          "x1 = 13.16",
          "x1 = 13.73",
          "x1 = 14.3",
          "x1 = 14.870000000000001",
          "x1 = 15.44",
          "x1 = 16.01",
          "x1 = 16.58",
          "x1 = 17.15",
          "x1 = 17.72",
          "x1 = 18.29",
          "x1 = 18.86",
          "x1 = 19.43",
          "x1 = 20.0",
          "x1 = 20.465",
          "x1 = 20.93",
          "x1 = 21.395",
          "x1 = 21.86",
          "x1 = 22.325",
          "x1 = 22.79",
          "x1 = 23.255",
          "x1 = 23.72",
          "x1 = 24.185",
          "x1 = 24.65",
          "x1 = 25.115",
          "x1 = 25.58",
          "x1 = 26.044999999999998",
          "x1 = 26.509999999999998",
          "x1 = 26.974999999999998",
          "x1 = 27.439999999999998",
          "x1 = 27.904999999999998",
          "x1 = 28.369999999999997",
          "x1 = 28.834999999999997",
          "x1 = 29.299999999999997"
         ],
         "type": "scatter",
         "uid": "86c3e053-22d2-4c13-b06f-f933248bead2",
         "x": [
          -1,
          -0.95,
          -0.9,
          -0.85,
          -0.8,
          -0.75,
          -0.7,
          -0.65,
          -0.6,
          -0.55,
          -0.5,
          -0.45,
          -0.4,
          -0.35,
          -0.3,
          -0.25,
          -0.2,
          -0.15,
          -0.1,
          -0.05,
          0,
          0.05,
          0.1,
          0.15,
          0.2,
          0.25,
          0.3,
          0.35,
          0.4,
          0.45,
          0.5,
          0.55,
          0.6,
          0.65,
          0.7,
          0.75,
          0.8,
          0.85,
          0.9,
          0.95,
          1
         ],
         "y": [
          0.06834271865833297,
          0.08879637069852651,
          0.10812416684826932,
          0.12649919371039525,
          0.14403250912928403,
          0.16079962718292787,
          0.17685348935416165,
          0.1922315530139027,
          0.20695996025387975,
          0.22105611011187948,
          0.23453028651666516,
          0.24738668743508643,
          0.2596240472301854,
          0.27123596126327365,
          0.28221097328784633,
          0.29253245514704157,
          0.30217828589860146,
          0.3111203186657467,
          0.31932360476143806,
          0.3267453229155974,
          0.3333333333333333,
          0.33804662358374277,
          0.34212202498354627,
          0.34551107258266,
          0.34815634724391625,
          0.3499893875079152,
          0.35092792745096635,
          0.35087219211046566,
          0.34969985165791684,
          0.3472590311143627,
          0.34335844696514284,
          0.3377532178133856,
          0.3301240502388535,
          0.3200461646702008,
          0.30694238596403345,
          0.29001280675741364,
          0.26813513969685027,
          0.23975276079704855,
          0.20287457035925788,
          0.1556340410123935,
          0.09816337044073077
         ]
        }
       ],
       "layout": {
        "margin": {
         "r": 50,
         "t": 50
        },
        "xaxis": {
         "title": {
          "text": "tau"
         },
         "zeroline": false
        },
        "yaxis": {
         "range": [
          0,
          1
         ],
         "showline": true,
         "tickformat": "%",
         "title": {
          "text": "Proportion of my_label"
         }
        }
       }
      },
      "text/html": [
       "<div>\n",
       "        \n",
       "        \n",
       "            <div id=\"2c9de117-9185-41ce-9bee-53d79188ea2b\" class=\"plotly-graph-div\" style=\"height:525px; width:100%;\"></div>\n",
       "            <script type=\"text/javascript\">\n",
       "                require([\"plotly\"], function(Plotly) {\n",
       "                    window.PLOTLYENV=window.PLOTLYENV || {};\n",
       "                    window.PLOTLYENV.BASE_URL='https://plot.ly';\n",
       "                    \n",
       "                if (document.getElementById(\"2c9de117-9185-41ce-9bee-53d79188ea2b\")) {\n",
       "                    Plotly.newPlot(\n",
       "                        '2c9de117-9185-41ce-9bee-53d79188ea2b',\n",
       "                        [{\"hoverinfo\": \"x+y+text\", \"mode\": \"lines+markers\", \"name\": \"x0\", \"text\": [\"x0 = 1.1\", \"x0 = 1.145\", \"x0 = 1.19\", \"x0 = 1.235\", \"x0 = 1.28\", \"x0 = 1.3250000000000002\", \"x0 = 1.37\", \"x0 = 1.415\", \"x0 = 1.46\", \"x0 = 1.505\", \"x0 = 1.55\", \"x0 = 1.595\", \"x0 = 1.6400000000000001\", \"x0 = 1.685\", \"x0 = 1.73\", \"x0 = 1.775\", \"x0 = 1.82\", \"x0 = 1.865\", \"x0 = 1.91\", \"x0 = 1.955\", \"x0 = 2.0\", \"x0 = 2.045\", \"x0 = 2.09\", \"x0 = 2.135\", \"x0 = 2.18\", \"x0 = 2.225\", \"x0 = 2.27\", \"x0 = 2.315\", \"x0 = 2.36\", \"x0 = 2.405\", \"x0 = 2.45\", \"x0 = 2.495\", \"x0 = 2.54\", \"x0 = 2.585\", \"x0 = 2.63\", \"x0 = 2.675\", \"x0 = 2.7199999999999998\", \"x0 = 2.7649999999999997\", \"x0 = 2.81\", \"x0 = 2.855\", \"x0 = 2.9\"], \"type\": \"scatter\", \"uid\": \"49fb03ec-7e53-4106-9f7e-2365d5e7a79c\", \"x\": [-1.0, -0.95, -0.9, -0.85, -0.8, -0.75, -0.7, -0.65, -0.6, -0.55, -0.5, -0.45, -0.4, -0.35, -0.3, -0.25, -0.2, -0.15, -0.1, -0.05, 0.0, 0.05, 0.1, 0.15, 0.2, 0.25, 0.3, 0.35, 0.4, 0.45, 0.5, 0.55, 0.6, 0.65, 0.7, 0.75, 0.8, 0.85, 0.9, 0.95, 1.0], \"y\": [0.08433244412378645, 0.11473970603409969, 0.1417923810930492, 0.1660357130095062, 0.18786187428513246, 0.20756355558769257, 0.22536555197470498, 0.24144440148634846, 0.2559411735345987, 0.26897011547336613, 0.2806246818797954, 0.29098184703988517, 0.30010525441171754, 0.30804755540942025, 0.31485216823581197, 0.32055461153523845, 0.32518351872471724, 0.32876140644674107, 0.3313052484872261, 0.3328268909704331, 0.3333333333333333, 0.3328268909704331, 0.3313052484872261, 0.3287614064467411, 0.3251835187247172, 0.32055461153523845, 0.31485216823581197, 0.30804755540942036, 0.3001052544117175, 0.29098184703988533, 0.28062468187979556, 0.2689701154733661, 0.25594117353459866, 0.24144440148634858, 0.2253655519747047, 0.20756355558769254, 0.18786187428513226, 0.16603571300950626, 0.1417923810930494, 0.11473970603409943, 0.0843324441237864]}, {\"hoverinfo\": \"x+y+text\", \"mode\": \"lines+markers\", \"name\": \"x1\", \"text\": [\"x1 = 8.6\", \"x1 = 9.17\", \"x1 = 9.74\", \"x1 = 10.31\", \"x1 = 10.879999999999999\", \"x1 = 11.45\", \"x1 = 12.02\", \"x1 = 12.59\", \"x1 = 13.16\", \"x1 = 13.73\", \"x1 = 14.3\", \"x1 = 14.870000000000001\", \"x1 = 15.44\", \"x1 = 16.01\", \"x1 = 16.58\", \"x1 = 17.15\", \"x1 = 17.72\", \"x1 = 18.29\", \"x1 = 18.86\", \"x1 = 19.43\", \"x1 = 20.0\", \"x1 = 20.465\", \"x1 = 20.93\", \"x1 = 21.395\", \"x1 = 21.86\", \"x1 = 22.325\", \"x1 = 22.79\", \"x1 = 23.255\", \"x1 = 23.72\", \"x1 = 24.185\", \"x1 = 24.65\", \"x1 = 25.115\", \"x1 = 25.58\", \"x1 = 26.044999999999998\", \"x1 = 26.509999999999998\", \"x1 = 26.974999999999998\", \"x1 = 27.439999999999998\", \"x1 = 27.904999999999998\", \"x1 = 28.369999999999997\", \"x1 = 28.834999999999997\", \"x1 = 29.299999999999997\"], \"type\": \"scatter\", \"uid\": \"86c3e053-22d2-4c13-b06f-f933248bead2\", \"x\": [-1.0, -0.95, -0.9, -0.85, -0.8, -0.75, -0.7, -0.65, -0.6, -0.55, -0.5, -0.45, -0.4, -0.35, -0.3, -0.25, -0.2, -0.15, -0.1, -0.05, 0.0, 0.05, 0.1, 0.15, 0.2, 0.25, 0.3, 0.35, 0.4, 0.45, 0.5, 0.55, 0.6, 0.65, 0.7, 0.75, 0.8, 0.85, 0.9, 0.95, 1.0], \"y\": [0.06834271865833297, 0.08879637069852651, 0.10812416684826932, 0.12649919371039525, 0.14403250912928403, 0.16079962718292787, 0.17685348935416165, 0.1922315530139027, 0.20695996025387975, 0.22105611011187948, 0.23453028651666516, 0.24738668743508643, 0.2596240472301854, 0.27123596126327365, 0.28221097328784633, 0.29253245514704157, 0.30217828589860146, 0.3111203186657467, 0.31932360476143806, 0.3267453229155974, 0.3333333333333333, 0.33804662358374277, 0.34212202498354627, 0.34551107258266, 0.34815634724391625, 0.3499893875079152, 0.35092792745096635, 0.35087219211046566, 0.34969985165791684, 0.3472590311143627, 0.34335844696514284, 0.3377532178133856, 0.3301240502388535, 0.3200461646702008, 0.30694238596403345, 0.29001280675741364, 0.26813513969685027, 0.23975276079704855, 0.20287457035925788, 0.1556340410123935, 0.09816337044073077]}],\n",
       "                        {\"margin\": {\"r\": 50, \"t\": 50}, \"xaxis\": {\"title\": {\"text\": \"tau\"}, \"zeroline\": false}, \"yaxis\": {\"range\": [0, 1], \"showline\": true, \"tickformat\": \"%\", \"title\": {\"text\": \"Proportion of my_label\"}}},\n",
       "                        {\"showLink\": false, \"linkText\": \"Export to plot.ly\", \"plotlyServerURL\": \"https://plot.ly\", \"responsive\": true}\n",
       "                    ).then(function(){\n",
       "                            \n",
       "var gd = document.getElementById('2c9de117-9185-41ce-9bee-53d79188ea2b');\n",
       "var x = new MutationObserver(function (mutations, observer) {{\n",
       "        var display = window.getComputedStyle(gd).display;\n",
       "        if (!display || display === 'none') {{\n",
       "            console.log([gd, 'removed!']);\n",
       "            Plotly.purge(gd);\n",
       "            observer.disconnect();\n",
       "        }}\n",
       "}});\n",
       "\n",
       "// Listen for the removal of the full notebook cells\n",
       "var notebookContainer = gd.closest('#notebook-container');\n",
       "if (notebookContainer) {{\n",
       "    x.observe(notebookContainer, {childList: true});\n",
       "}}\n",
       "\n",
       "// Listen for the clearing of the current output cell\n",
       "var outputEl = gd.closest('.output');\n",
       "if (outputEl) {{\n",
       "    x.observe(outputEl, {childList: true});\n",
       "}}\n",
       "\n",
       "                        })\n",
       "                };\n",
       "                });\n",
       "            </script>\n",
       "        </div>"
      ]
     },
     "metadata": {},
     "output_type": "display_data"
    }
   ],
   "source": [
    "explainer.plot_bias(X, pd.Series([0, 1, 0], name=\"my_y\"), inline=True)"
   ]
  },
  {
   "cell_type": "code",
   "execution_count": 9,
   "metadata": {},
   "outputs": [
    {
     "name": "stdout",
     "output_type": "stream",
     "text": [
      "{('x1', None, -0.16178176251015466): 0.9096348246888242, ('x1', None, -0.14325093131939534): 0.8786271915263798, ('x1', None, -0.12872223821578596): 0.8479622100896569, ('x1', None, -0.11663260198590683): 0.8175872019142276, ('x1', None, -0.10617401054965662): 0.7874683667867396, ('x1', None, -0.09687335608543869): 0.7575827221617176, ('x1', None, -0.08842884230083352): 0.7279141554139509, ('x1', None, -0.08063529729795592): 0.6984512664740297, ('x1', None, -0.07334605316135678): 0.6691860990531668, ('x1', None, -0.06645179506362447): 0.6401133577920366, ('x1', None, -0.05986802778856924): 0.6112299127992757, ('x1', None, -0.05352723370223034): 0.5825344864327997, ('x1', None, -0.04737372793272133): 0.5540274638864653, ('x1', None, -0.04136013082445266): 0.5257107943981341, ('x1', None, -0.03544483943036264): 0.4975879646515252, ('x1', None, -0.02959012515602344): 0.46966403539003093, ('x1', None, -0.023760619901403088): 0.4419457390743388, ('x1', None, -0.017922028724899605): 0.41444164214520746, ('x1', None, -0.012039948187754546): 0.3871623811595624, ('x1', None, -0.006078688512542064): 0.3601209886778617, ('x1', None, 0.0): 0.3333333333333333, ('x1', None, 0.005075132073254611): 0.31168146238755656, ('x1', None, 0.010282209878931024): 0.29022373152674674, ('x1', None, 0.015650416101681587): 0.26897489095310334, ('x1', None, 0.0212134247222736): 0.24795241605619942, ('x1', None, 0.027010797132641394): 0.22717714293237376, ('x1', None, 0.03308985420586789): 0.20667410903666242, ('x1', None, 0.039508245340329325): 0.1864736806620322, ('x1', None, 0.04633755812774504): 0.16661308862585142, ('x1', None, 0.05366851811661664): 0.1471385557478028, ('x1', None, 0.061618684137890394): 0.12810829874973925, ('x1', None, 0.07034418127540276): 0.109596846752448, ('x1', None, 0.08005819430505688): 0.09170137601426222, ('x1', None, 0.09106122195574283): 0.07455116727430065, ('x1', None, 0.10379266847166309): 0.05832188253342627, ('x1', None, 0.11892291644643799): 0.04325697188738323, ('x1', None, 0.13752570852972887): 0.02969800196211405, ('x1', None, 0.16141630943941515): 0.018118749353068814, ('x1', None, 0.19384428799676034): 0.00912556029817707, ('x1', None, 0.2410248206081297): 0.0032907326523201456, ('x1', None, 0.3167306572354891): 0.00061812944856507, ('x0', None, -2.3762944057746638): 0.9078335635927092, ('x0', None, -2.0259766533436485): 0.8701301433307356, ('x0', None, -1.77199398360344): 0.8341038093935347, ('x0', None, -1.5717612936043752): 0.7994821434943523, ('x0', None, -1.4055653445165954): 0.766069062857422, ('x0', None, -1.2626874766946357): 0.7337182222061535, ('x0', None, -1.136661428723809): 0.7023172240126473, ('x0', None, -1.0232884049776756): 0.6717777992568258, ('x0', None, -0.9196864904515737): 0.6420294132327007, ('x0', None, -0.8237890327368059): 0.6130149422633171, ('x0', None, -0.7340596636286294): 0.5846876590601022, ('x0', None, -0.6493206511713888): 0.5570090764800575, ('x0', None, -0.5686444438386258): 0.5299473727941411, ('x0', None, -0.49128231447296594): 0.5034762222952899, ('x0', None, -0.41661572412104997): 0.47757391588209397, ('x0', None, -0.3441220882060691): 0.4522226942323809, ('x0', None, -0.27334992759361504): 0.4274082406376414, ('x0', None, -0.20390026061310812): 0.40311929677662944, ('x0', None, -0.13541219274409555): 0.37934737575638705, ('x0', None, -0.06755132408252218): 0.3560865545147833, ('x0', None, 0.0): 0.3333333333333333, ('x0', None, 0.06755132408252218): 0.3110865545147835, ('x0', None, 0.13541219274409488): 0.28934737575638714, ('x0', None, 0.20390026061310706): 0.2681192967766297, ('x0', None, 0.27334992759361537): 0.24740824063764133, ('x0', None, 0.34412208820606915): 0.22722269423238062, ('x0', None, 0.41661572412104997): 0.2075739158820941, ('x0', None, 0.49128231447296516): 0.18847622229529007, ('x0', None, 0.5686444438386259): 0.16994737279414135, ('x0', None, 0.6493206511713874): 0.15200907648005757, ('x0', None, 0.7340596636286286): 0.13468765906010247, ('x0', None, 0.8237890327368059): 0.11801494226331688, ('x0', None, 0.9196864904515737): 0.10202941323270068, ('x0', None, 1.0232884049776751): 0.08677779925682584, ('x0', None, 1.1366614287238106): 0.07231722401264744, ('x0', None, 1.2626874766946359): 0.05871822220615391, ('x0', None, 1.4055653445165963): 0.04606906285744537, ('x0', None, 1.5717612936043748): 0.0344821434961416, ('x0', None, 1.7719939836034384): 0.024103809513416178, ('x0', None, 2.025976653343651): 0.01513015063516478, ('x0', None, 2.376294405774664): 0.007833992283504369}\n"
     ]
    },
    {
     "data": {
      "text/html": [
       "        <script type=\"text/javascript\">\n",
       "        window.PlotlyConfig = {MathJaxConfig: 'local'};\n",
       "        if (window.MathJax) {MathJax.Hub.Config({SVG: {font: \"STIX-Web\"}});}\n",
       "        if (typeof require !== 'undefined') {\n",
       "        require.undef(\"plotly\");\n",
       "        requirejs.config({\n",
       "            paths: {\n",
       "                'plotly': ['https://cdn.plot.ly/plotly-latest.min']\n",
       "            }\n",
       "        });\n",
       "        require(['plotly'], function(Plotly) {\n",
       "            window._Plotly = Plotly;\n",
       "        });\n",
       "        }\n",
       "        </script>\n",
       "        "
      ]
     },
     "metadata": {},
     "output_type": "display_data"
    },
    {
     "data": {
      "application/vnd.plotly.v1+json": {
       "config": {
        "linkText": "Export to plot.ly",
        "plotlyServerURL": "https://plot.ly",
        "showLink": false
       },
       "data": [
        {
         "hoverinfo": "x+y+text",
         "mode": "lines+markers",
         "name": "x0",
         "text": [
          "x0 = 1.1",
          "x0 = 1.145",
          "x0 = 1.19",
          "x0 = 1.235",
          "x0 = 1.28",
          "x0 = 1.3250000000000002",
          "x0 = 1.37",
          "x0 = 1.415",
          "x0 = 1.46",
          "x0 = 1.505",
          "x0 = 1.55",
          "x0 = 1.595",
          "x0 = 1.6400000000000001",
          "x0 = 1.685",
          "x0 = 1.73",
          "x0 = 1.775",
          "x0 = 1.82",
          "x0 = 1.865",
          "x0 = 1.91",
          "x0 = 1.955",
          "x0 = 2.0",
          "x0 = 2.045",
          "x0 = 2.09",
          "x0 = 2.135",
          "x0 = 2.18",
          "x0 = 2.225",
          "x0 = 2.27",
          "x0 = 2.315",
          "x0 = 2.36",
          "x0 = 2.405",
          "x0 = 2.45",
          "x0 = 2.495",
          "x0 = 2.54",
          "x0 = 2.585",
          "x0 = 2.63",
          "x0 = 2.675",
          "x0 = 2.7199999999999998",
          "x0 = 2.7649999999999997",
          "x0 = 2.81",
          "x0 = 2.855",
          "x0 = 2.9"
         ],
         "type": "scatter",
         "uid": "3ce92ddc-e8db-4345-93dd-3d1b2641ea2f",
         "x": [
          -1,
          -0.95,
          -0.9,
          -0.85,
          -0.8,
          -0.75,
          -0.7,
          -0.65,
          -0.6,
          -0.55,
          -0.5,
          -0.45,
          -0.4,
          -0.35,
          -0.3,
          -0.25,
          -0.2,
          -0.15,
          -0.1,
          -0.05,
          0,
          0.05,
          0.1,
          0.15,
          0.2,
          0.25,
          0.3,
          0.35,
          0.4,
          0.45,
          0.5,
          0.55,
          0.6,
          0.65,
          0.7,
          0.75,
          0.8,
          0.85,
          0.9,
          0.95,
          1
         ],
         "y": [
          null,
          null,
          null,
          null,
          null,
          null,
          null,
          null,
          null,
          null,
          null,
          null,
          null,
          null,
          null,
          null,
          null,
          null,
          null,
          null,
          null,
          null,
          null,
          null,
          null,
          null,
          null,
          null,
          null,
          null,
          null,
          null,
          null,
          null,
          null,
          null,
          null,
          null,
          null,
          null,
          null
         ]
        },
        {
         "hoverinfo": "x+y+text",
         "mode": "lines+markers",
         "name": "x1",
         "text": [
          "x1 = 8.6",
          "x1 = 9.17",
          "x1 = 9.74",
          "x1 = 10.31",
          "x1 = 10.879999999999999",
          "x1 = 11.45",
          "x1 = 12.02",
          "x1 = 12.59",
          "x1 = 13.16",
          "x1 = 13.73",
          "x1 = 14.3",
          "x1 = 14.870000000000001",
          "x1 = 15.44",
          "x1 = 16.01",
          "x1 = 16.58",
          "x1 = 17.15",
          "x1 = 17.72",
          "x1 = 18.29",
          "x1 = 18.86",
          "x1 = 19.43",
          "x1 = 20.0",
          "x1 = 20.465",
          "x1 = 20.93",
          "x1 = 21.395",
          "x1 = 21.86",
          "x1 = 22.325",
          "x1 = 22.79",
          "x1 = 23.255",
          "x1 = 23.72",
          "x1 = 24.185",
          "x1 = 24.65",
          "x1 = 25.115",
          "x1 = 25.58",
          "x1 = 26.044999999999998",
          "x1 = 26.509999999999998",
          "x1 = 26.974999999999998",
          "x1 = 27.439999999999998",
          "x1 = 27.904999999999998",
          "x1 = 28.369999999999997",
          "x1 = 28.834999999999997",
          "x1 = 29.299999999999997"
         ],
         "type": "scatter",
         "uid": "7f93ee75-5107-4095-b155-d5685fdf21d5",
         "x": [
          -1,
          -0.95,
          -0.9,
          -0.85,
          -0.8,
          -0.75,
          -0.7,
          -0.65,
          -0.6,
          -0.55,
          -0.5,
          -0.45,
          -0.4,
          -0.35,
          -0.3,
          -0.25,
          -0.2,
          -0.15,
          -0.1,
          -0.05,
          0,
          0.05,
          0.1,
          0.15,
          0.2,
          0.25,
          0.3,
          0.35,
          0.4,
          0.45,
          0.5,
          0.55,
          0.6,
          0.65,
          0.7,
          0.75,
          0.8,
          0.85,
          0.9,
          0.95,
          1
         ],
         "y": [
          null,
          null,
          null,
          null,
          null,
          null,
          null,
          null,
          null,
          null,
          null,
          null,
          null,
          null,
          null,
          null,
          null,
          null,
          null,
          null,
          null,
          null,
          null,
          null,
          null,
          null,
          null,
          null,
          null,
          null,
          null,
          null,
          null,
          null,
          null,
          null,
          null,
          null,
          null,
          null,
          null
         ]
        }
       ],
       "layout": {
        "margin": {
         "r": 50,
         "t": 50
        },
        "xaxis": {
         "title": {
          "text": "tau"
         },
         "zeroline": false
        },
        "yaxis": {
         "range": [
          0,
          1
         ],
         "showline": true,
         "tickformat": "%",
         "title": {
          "text": "Score"
         }
        }
       }
      },
      "text/html": [
       "<div>\n",
       "        \n",
       "        \n",
       "            <div id=\"c32af467-d375-450b-b278-e00fd0f00e85\" class=\"plotly-graph-div\" style=\"height:525px; width:100%;\"></div>\n",
       "            <script type=\"text/javascript\">\n",
       "                require([\"plotly\"], function(Plotly) {\n",
       "                    window.PLOTLYENV=window.PLOTLYENV || {};\n",
       "                    window.PLOTLYENV.BASE_URL='https://plot.ly';\n",
       "                    \n",
       "                if (document.getElementById(\"c32af467-d375-450b-b278-e00fd0f00e85\")) {\n",
       "                    Plotly.newPlot(\n",
       "                        'c32af467-d375-450b-b278-e00fd0f00e85',\n",
       "                        [{\"hoverinfo\": \"x+y+text\", \"mode\": \"lines+markers\", \"name\": \"x0\", \"text\": [\"x0 = 1.1\", \"x0 = 1.145\", \"x0 = 1.19\", \"x0 = 1.235\", \"x0 = 1.28\", \"x0 = 1.3250000000000002\", \"x0 = 1.37\", \"x0 = 1.415\", \"x0 = 1.46\", \"x0 = 1.505\", \"x0 = 1.55\", \"x0 = 1.595\", \"x0 = 1.6400000000000001\", \"x0 = 1.685\", \"x0 = 1.73\", \"x0 = 1.775\", \"x0 = 1.82\", \"x0 = 1.865\", \"x0 = 1.91\", \"x0 = 1.955\", \"x0 = 2.0\", \"x0 = 2.045\", \"x0 = 2.09\", \"x0 = 2.135\", \"x0 = 2.18\", \"x0 = 2.225\", \"x0 = 2.27\", \"x0 = 2.315\", \"x0 = 2.36\", \"x0 = 2.405\", \"x0 = 2.45\", \"x0 = 2.495\", \"x0 = 2.54\", \"x0 = 2.585\", \"x0 = 2.63\", \"x0 = 2.675\", \"x0 = 2.7199999999999998\", \"x0 = 2.7649999999999997\", \"x0 = 2.81\", \"x0 = 2.855\", \"x0 = 2.9\"], \"type\": \"scatter\", \"uid\": \"3ce92ddc-e8db-4345-93dd-3d1b2641ea2f\", \"x\": [-1.0, -0.95, -0.9, -0.85, -0.8, -0.75, -0.7, -0.65, -0.6, -0.55, -0.5, -0.45, -0.4, -0.35, -0.3, -0.25, -0.2, -0.15, -0.1, -0.05, 0.0, 0.05, 0.1, 0.15, 0.2, 0.25, 0.3, 0.35, 0.4, 0.45, 0.5, 0.55, 0.6, 0.65, 0.7, 0.75, 0.8, 0.85, 0.9, 0.95, 1.0], \"y\": [null, null, null, null, null, null, null, null, null, null, null, null, null, null, null, null, null, null, null, null, null, null, null, null, null, null, null, null, null, null, null, null, null, null, null, null, null, null, null, null, null]}, {\"hoverinfo\": \"x+y+text\", \"mode\": \"lines+markers\", \"name\": \"x1\", \"text\": [\"x1 = 8.6\", \"x1 = 9.17\", \"x1 = 9.74\", \"x1 = 10.31\", \"x1 = 10.879999999999999\", \"x1 = 11.45\", \"x1 = 12.02\", \"x1 = 12.59\", \"x1 = 13.16\", \"x1 = 13.73\", \"x1 = 14.3\", \"x1 = 14.870000000000001\", \"x1 = 15.44\", \"x1 = 16.01\", \"x1 = 16.58\", \"x1 = 17.15\", \"x1 = 17.72\", \"x1 = 18.29\", \"x1 = 18.86\", \"x1 = 19.43\", \"x1 = 20.0\", \"x1 = 20.465\", \"x1 = 20.93\", \"x1 = 21.395\", \"x1 = 21.86\", \"x1 = 22.325\", \"x1 = 22.79\", \"x1 = 23.255\", \"x1 = 23.72\", \"x1 = 24.185\", \"x1 = 24.65\", \"x1 = 25.115\", \"x1 = 25.58\", \"x1 = 26.044999999999998\", \"x1 = 26.509999999999998\", \"x1 = 26.974999999999998\", \"x1 = 27.439999999999998\", \"x1 = 27.904999999999998\", \"x1 = 28.369999999999997\", \"x1 = 28.834999999999997\", \"x1 = 29.299999999999997\"], \"type\": \"scatter\", \"uid\": \"7f93ee75-5107-4095-b155-d5685fdf21d5\", \"x\": [-1.0, -0.95, -0.9, -0.85, -0.8, -0.75, -0.7, -0.65, -0.6, -0.55, -0.5, -0.45, -0.4, -0.35, -0.3, -0.25, -0.2, -0.15, -0.1, -0.05, 0.0, 0.05, 0.1, 0.15, 0.2, 0.25, 0.3, 0.35, 0.4, 0.45, 0.5, 0.55, 0.6, 0.65, 0.7, 0.75, 0.8, 0.85, 0.9, 0.95, 1.0], \"y\": [null, null, null, null, null, null, null, null, null, null, null, null, null, null, null, null, null, null, null, null, null, null, null, null, null, null, null, null, null, null, null, null, null, null, null, null, null, null, null, null, null]}],\n",
       "                        {\"margin\": {\"r\": 50, \"t\": 50}, \"xaxis\": {\"title\": {\"text\": \"tau\"}, \"zeroline\": false}, \"yaxis\": {\"range\": [0, 1], \"showline\": true, \"tickformat\": \"%\", \"title\": {\"text\": \"Score\"}}},\n",
       "                        {\"showLink\": false, \"linkText\": \"Export to plot.ly\", \"plotlyServerURL\": \"https://plot.ly\", \"responsive\": true}\n",
       "                    ).then(function(){\n",
       "                            \n",
       "var gd = document.getElementById('c32af467-d375-450b-b278-e00fd0f00e85');\n",
       "var x = new MutationObserver(function (mutations, observer) {{\n",
       "        var display = window.getComputedStyle(gd).display;\n",
       "        if (!display || display === 'none') {{\n",
       "            console.log([gd, 'removed!']);\n",
       "            Plotly.purge(gd);\n",
       "            observer.disconnect();\n",
       "        }}\n",
       "}});\n",
       "\n",
       "// Listen for the removal of the full notebook cells\n",
       "var notebookContainer = gd.closest('#notebook-container');\n",
       "if (notebookContainer) {{\n",
       "    x.observe(notebookContainer, {childList: true});\n",
       "}}\n",
       "\n",
       "// Listen for the clearing of the current output cell\n",
       "var outputEl = gd.closest('.output');\n",
       "if (outputEl) {{\n",
       "    x.observe(outputEl, {childList: true});\n",
       "}}\n",
       "\n",
       "                        })\n",
       "                };\n",
       "                });\n",
       "            </script>\n",
       "        </div>"
      ]
     },
     "metadata": {},
     "output_type": "display_data"
    }
   ],
   "source": [
    "explainer.plot_performance(X, [0, 0, 1], y_pred, metrics.accuracy_score, inline=True)"
   ]
  },
  {
   "cell_type": "code",
   "execution_count": 10,
   "metadata": {
    "scrolled": true
   },
   "outputs": [
    {
     "name": "stdout",
     "output_type": "stream",
     "text": [
      "{('x0', None, -2.3762944057746638): 0.9078335635927092, ('x0', None, -2.0259766533436485): 0.8701301433307356, ('x0', None, -1.77199398360344): 0.8341038093935347, ('x0', None, -1.5717612936043752): 0.7994821434943523, ('x0', None, -1.4055653445165954): 0.766069062857422, ('x0', None, -1.2626874766946357): 0.7337182222061535, ('x0', None, -1.136661428723809): 0.7023172240126473, ('x0', None, -1.0232884049776756): 0.6717777992568258, ('x0', None, -0.9196864904515737): 0.6420294132327007, ('x0', None, -0.8237890327368059): 0.6130149422633171, ('x0', None, -0.7340596636286294): 0.5846876590601022, ('x0', None, -0.6493206511713888): 0.5570090764800575, ('x0', None, -0.5686444438386258): 0.5299473727941411, ('x0', None, -0.49128231447296594): 0.5034762222952899, ('x0', None, -0.41661572412104997): 0.47757391588209397, ('x0', None, -0.3441220882060691): 0.4522226942323809, ('x0', None, -0.27334992759361504): 0.4274082406376414, ('x0', None, -0.20390026061310812): 0.40311929677662944, ('x0', None, -0.13541219274409555): 0.37934737575638705, ('x0', None, -0.06755132408252218): 0.3560865545147833, ('x0', None, 0.0): 0.3333333333333333, ('x0', None, 0.06755132408252218): 0.3110865545147835, ('x0', None, 0.13541219274409488): 0.28934737575638714, ('x0', None, 0.20390026061310706): 0.2681192967766297, ('x0', None, 0.27334992759361537): 0.24740824063764133, ('x0', None, 0.34412208820606915): 0.22722269423238062, ('x0', None, 0.41661572412104997): 0.2075739158820941, ('x0', None, 0.49128231447296516): 0.18847622229529007, ('x0', None, 0.5686444438386259): 0.16994737279414135, ('x0', None, 0.6493206511713874): 0.15200907648005757, ('x0', None, 0.7340596636286286): 0.13468765906010247, ('x0', None, 0.8237890327368059): 0.11801494226331688, ('x0', None, 0.9196864904515737): 0.10202941323270068, ('x0', None, 1.0232884049776751): 0.08677779925682584, ('x0', None, 1.1366614287238106): 0.07231722401264744, ('x0', None, 1.2626874766946359): 0.05871822220615391, ('x0', None, 1.4055653445165963): 0.04606906285744537, ('x0', None, 1.5717612936043748): 0.0344821434961416, ('x0', None, 1.7719939836034384): 0.024103809513416178, ('x0', None, 2.025976653343651): 0.01513015063516478, ('x0', None, 2.376294405774664): 0.007833992283504369}\n"
     ]
    },
    {
     "data": {
      "text/html": [
       "        <script type=\"text/javascript\">\n",
       "        window.PlotlyConfig = {MathJaxConfig: 'local'};\n",
       "        if (window.MathJax) {MathJax.Hub.Config({SVG: {font: \"STIX-Web\"}});}\n",
       "        if (typeof require !== 'undefined') {\n",
       "        require.undef(\"plotly\");\n",
       "        requirejs.config({\n",
       "            paths: {\n",
       "                'plotly': ['https://cdn.plot.ly/plotly-latest.min']\n",
       "            }\n",
       "        });\n",
       "        require(['plotly'], function(Plotly) {\n",
       "            window._Plotly = Plotly;\n",
       "        });\n",
       "        }\n",
       "        </script>\n",
       "        "
      ]
     },
     "metadata": {},
     "output_type": "display_data"
    },
    {
     "data": {
      "application/vnd.plotly.v1+json": {
       "config": {
        "linkText": "Export to plot.ly",
        "plotlyServerURL": "https://plot.ly",
        "showLink": false
       },
       "data": [
        {
         "hoverinfo": "x+y",
         "mode": "lines+markers",
         "showlegend": false,
         "type": "scatter",
         "uid": "11cb3883-bc1d-4657-8d41-fe69e12f1e01",
         "x": [
          1.1,
          1.145,
          1.19,
          1.235,
          1.28,
          1.3250000000000002,
          1.37,
          1.415,
          1.46,
          1.505,
          1.55,
          1.595,
          1.6400000000000001,
          1.685,
          1.73,
          1.775,
          1.82,
          1.865,
          1.91,
          1.955,
          2,
          2.045,
          2.09,
          2.135,
          2.18,
          2.225,
          2.27,
          2.315,
          2.36,
          2.405,
          2.45,
          2.495,
          2.54,
          2.585,
          2.63,
          2.675,
          2.7199999999999998,
          2.7649999999999997,
          2.81,
          2.855,
          2.9
         ],
         "y": [
          null,
          null,
          null,
          null,
          null,
          null,
          null,
          null,
          null,
          null,
          null,
          null,
          null,
          null,
          null,
          null,
          null,
          null,
          null,
          null,
          null,
          null,
          null,
          null,
          null,
          null,
          null,
          null,
          null,
          null,
          null,
          null,
          null,
          null,
          null,
          null,
          null,
          null,
          null,
          null,
          null
         ]
        },
        {
         "hoverinfo": "skip",
         "marker": {
          "size": 9,
          "symbol": "x"
         },
         "mode": "markers",
         "name": "Original mean",
         "type": "scatter",
         "uid": "452b68a9-8310-4ca7-b133-60d2c2510cde",
         "x": [
          2
         ],
         "y": [
          null
         ]
        }
       ],
       "layout": {
        "margin": {
         "r": 50,
         "t": 50
        },
        "xaxis": {
         "title": {
          "text": "Mean x0"
         },
         "zeroline": false
        },
        "yaxis": {
         "range": [
          0,
          1
         ],
         "showline": true,
         "tickformat": "%",
         "title": {
          "text": "Score"
         }
        }
       }
      },
      "text/html": [
       "<div>\n",
       "        \n",
       "        \n",
       "            <div id=\"ace87176-5f83-4f60-87b1-665399509617\" class=\"plotly-graph-div\" style=\"height:525px; width:100%;\"></div>\n",
       "            <script type=\"text/javascript\">\n",
       "                require([\"plotly\"], function(Plotly) {\n",
       "                    window.PLOTLYENV=window.PLOTLYENV || {};\n",
       "                    window.PLOTLYENV.BASE_URL='https://plot.ly';\n",
       "                    \n",
       "                if (document.getElementById(\"ace87176-5f83-4f60-87b1-665399509617\")) {\n",
       "                    Plotly.newPlot(\n",
       "                        'ace87176-5f83-4f60-87b1-665399509617',\n",
       "                        [{\"hoverinfo\": \"x+y\", \"mode\": \"lines+markers\", \"showlegend\": false, \"type\": \"scatter\", \"uid\": \"11cb3883-bc1d-4657-8d41-fe69e12f1e01\", \"x\": [1.1, 1.145, 1.19, 1.235, 1.28, 1.3250000000000002, 1.37, 1.415, 1.46, 1.505, 1.55, 1.595, 1.6400000000000001, 1.685, 1.73, 1.775, 1.82, 1.865, 1.91, 1.955, 2.0, 2.045, 2.09, 2.135, 2.18, 2.225, 2.27, 2.315, 2.36, 2.405, 2.45, 2.495, 2.54, 2.585, 2.63, 2.675, 2.7199999999999998, 2.7649999999999997, 2.81, 2.855, 2.9], \"y\": [null, null, null, null, null, null, null, null, null, null, null, null, null, null, null, null, null, null, null, null, null, null, null, null, null, null, null, null, null, null, null, null, null, null, null, null, null, null, null, null, null]}, {\"hoverinfo\": \"skip\", \"marker\": {\"size\": 9, \"symbol\": \"x\"}, \"mode\": \"markers\", \"name\": \"Original mean\", \"type\": \"scatter\", \"uid\": \"452b68a9-8310-4ca7-b133-60d2c2510cde\", \"x\": [2.0], \"y\": [null]}],\n",
       "                        {\"margin\": {\"r\": 50, \"t\": 50}, \"xaxis\": {\"title\": {\"text\": \"Mean x0\"}, \"zeroline\": false}, \"yaxis\": {\"range\": [0, 1], \"showline\": true, \"tickformat\": \"%\", \"title\": {\"text\": \"Score\"}}},\n",
       "                        {\"showLink\": false, \"linkText\": \"Export to plot.ly\", \"plotlyServerURL\": \"https://plot.ly\", \"responsive\": true}\n",
       "                    ).then(function(){\n",
       "                            \n",
       "var gd = document.getElementById('ace87176-5f83-4f60-87b1-665399509617');\n",
       "var x = new MutationObserver(function (mutations, observer) {{\n",
       "        var display = window.getComputedStyle(gd).display;\n",
       "        if (!display || display === 'none') {{\n",
       "            console.log([gd, 'removed!']);\n",
       "            Plotly.purge(gd);\n",
       "            observer.disconnect();\n",
       "        }}\n",
       "}});\n",
       "\n",
       "// Listen for the removal of the full notebook cells\n",
       "var notebookContainer = gd.closest('#notebook-container');\n",
       "if (notebookContainer) {{\n",
       "    x.observe(notebookContainer, {childList: true});\n",
       "}}\n",
       "\n",
       "// Listen for the clearing of the current output cell\n",
       "var outputEl = gd.closest('.output');\n",
       "if (outputEl) {{\n",
       "    x.observe(outputEl, {childList: true});\n",
       "}}\n",
       "\n",
       "                        })\n",
       "                };\n",
       "                });\n",
       "            </script>\n",
       "        </div>"
      ]
     },
     "metadata": {},
     "output_type": "display_data"
    }
   ],
   "source": [
    "explainer.plot_performance(X[\"x0\"], [0, 0, 1], y_pred, metrics.accuracy_score, inline=True)"
   ]
  },
  {
   "cell_type": "code",
   "execution_count": 11,
   "metadata": {},
   "outputs": [
    {
     "name": "stdout",
     "output_type": "stream",
     "text": [
      "{('x1', None, -0.16178176251015466): 0.9096348246888242, ('x1', None, -0.14325093131939534): 0.8786271915263798, ('x1', None, -0.12872223821578596): 0.8479622100896569, ('x1', None, -0.11663260198590683): 0.8175872019142276, ('x1', None, -0.10617401054965662): 0.7874683667867396, ('x1', None, -0.09687335608543869): 0.7575827221617176, ('x1', None, -0.08842884230083352): 0.7279141554139509, ('x1', None, -0.08063529729795592): 0.6984512664740297, ('x1', None, -0.07334605316135678): 0.6691860990531668, ('x1', None, -0.06645179506362447): 0.6401133577920366, ('x1', None, -0.05986802778856924): 0.6112299127992757, ('x1', None, -0.05352723370223034): 0.5825344864327997, ('x1', None, -0.04737372793272133): 0.5540274638864653, ('x1', None, -0.04136013082445266): 0.5257107943981341, ('x1', None, -0.03544483943036264): 0.4975879646515252, ('x1', None, -0.02959012515602344): 0.46966403539003093, ('x1', None, -0.023760619901403088): 0.4419457390743388, ('x1', None, -0.017922028724899605): 0.41444164214520746, ('x1', None, -0.012039948187754546): 0.3871623811595624, ('x1', None, -0.006078688512542064): 0.3601209886778617, ('x1', None, 0.0): 0.3333333333333333, ('x1', None, 0.005075132073254611): 0.31168146238755656, ('x1', None, 0.010282209878931024): 0.29022373152674674, ('x1', None, 0.015650416101681587): 0.26897489095310334, ('x1', None, 0.0212134247222736): 0.24795241605619942, ('x1', None, 0.027010797132641394): 0.22717714293237376, ('x1', None, 0.03308985420586789): 0.20667410903666242, ('x1', None, 0.039508245340329325): 0.1864736806620322, ('x1', None, 0.04633755812774504): 0.16661308862585142, ('x1', None, 0.05366851811661664): 0.1471385557478028, ('x1', None, 0.061618684137890394): 0.12810829874973925, ('x1', None, 0.07034418127540276): 0.109596846752448, ('x1', None, 0.08005819430505688): 0.09170137601426222, ('x1', None, 0.09106122195574283): 0.07455116727430065, ('x1', None, 0.10379266847166309): 0.05832188253342627, ('x1', None, 0.11892291644643799): 0.04325697188738323, ('x1', None, 0.13752570852972887): 0.02969800196211405, ('x1', None, 0.16141630943941515): 0.018118749353068814, ('x1', None, 0.19384428799676034): 0.00912556029817707, ('x1', None, 0.2410248206081297): 0.0032907326523201456, ('x1', None, 0.3167306572354891): 0.00061812944856507, ('x0', None, -2.3762944057746638): 0.9078335635927092, ('x0', None, -2.0259766533436485): 0.8701301433307356, ('x0', None, -1.77199398360344): 0.8341038093935347, ('x0', None, -1.5717612936043752): 0.7994821434943523, ('x0', None, -1.4055653445165954): 0.766069062857422, ('x0', None, -1.2626874766946357): 0.7337182222061535, ('x0', None, -1.136661428723809): 0.7023172240126473, ('x0', None, -1.0232884049776756): 0.6717777992568258, ('x0', None, -0.9196864904515737): 0.6420294132327007, ('x0', None, -0.8237890327368059): 0.6130149422633171, ('x0', None, -0.7340596636286294): 0.5846876590601022, ('x0', None, -0.6493206511713888): 0.5570090764800575, ('x0', None, -0.5686444438386258): 0.5299473727941411, ('x0', None, -0.49128231447296594): 0.5034762222952899, ('x0', None, -0.41661572412104997): 0.47757391588209397, ('x0', None, -0.3441220882060691): 0.4522226942323809, ('x0', None, -0.27334992759361504): 0.4274082406376414, ('x0', None, -0.20390026061310812): 0.40311929677662944, ('x0', None, -0.13541219274409555): 0.37934737575638705, ('x0', None, -0.06755132408252218): 0.3560865545147833, ('x0', None, 0.0): 0.3333333333333333, ('x0', None, 0.06755132408252218): 0.3110865545147835, ('x0', None, 0.13541219274409488): 0.28934737575638714, ('x0', None, 0.20390026061310706): 0.2681192967766297, ('x0', None, 0.27334992759361537): 0.24740824063764133, ('x0', None, 0.34412208820606915): 0.22722269423238062, ('x0', None, 0.41661572412104997): 0.2075739158820941, ('x0', None, 0.49128231447296516): 0.18847622229529007, ('x0', None, 0.5686444438386259): 0.16994737279414135, ('x0', None, 0.6493206511713874): 0.15200907648005757, ('x0', None, 0.7340596636286286): 0.13468765906010247, ('x0', None, 0.8237890327368059): 0.11801494226331688, ('x0', None, 0.9196864904515737): 0.10202941323270068, ('x0', None, 1.0232884049776751): 0.08677779925682584, ('x0', None, 1.1366614287238106): 0.07231722401264744, ('x0', None, 1.2626874766946359): 0.05871822220615391, ('x0', None, 1.4055653445165963): 0.04606906285744537, ('x0', None, 1.5717612936043748): 0.0344821434961416, ('x0', None, 1.7719939836034384): 0.024103809513416178, ('x0', None, 2.025976653343651): 0.01513015063516478, ('x0', None, 2.376294405774664): 0.007833992283504369}\n"
     ]
    },
    {
     "data": {
      "text/html": [
       "        <script type=\"text/javascript\">\n",
       "        window.PlotlyConfig = {MathJaxConfig: 'local'};\n",
       "        if (window.MathJax) {MathJax.Hub.Config({SVG: {font: \"STIX-Web\"}});}\n",
       "        if (typeof require !== 'undefined') {\n",
       "        require.undef(\"plotly\");\n",
       "        requirejs.config({\n",
       "            paths: {\n",
       "                'plotly': ['https://cdn.plot.ly/plotly-latest.min']\n",
       "            }\n",
       "        });\n",
       "        require(['plotly'], function(Plotly) {\n",
       "            window._Plotly = Plotly;\n",
       "        });\n",
       "        }\n",
       "        </script>\n",
       "        "
      ]
     },
     "metadata": {},
     "output_type": "display_data"
    },
    {
     "data": {
      "application/vnd.plotly.v1+json": {
       "config": {
        "linkText": "Export to plot.ly",
        "plotlyServerURL": "https://plot.ly",
        "showLink": false
       },
       "data": [
        {
         "hoverinfo": "x",
         "orientation": "h",
         "type": "bar",
         "uid": "69c473bc-eb50-4987-badd-907341c464f5",
         "x": [
          null,
          null
         ],
         "y": [
          "x0",
          "x1"
         ]
        }
       ],
       "layout": {
        "margin": {
         "b": 0,
         "l": 200,
         "t": 40
        },
        "xaxis": {
         "range": [
          0,
          1
         ],
         "showline": true,
         "side": "top",
         "tickformat": "%",
         "title": {
          "text": "min_score"
         },
         "zeroline": false
        },
        "yaxis": {
         "showline": true,
         "zeroline": false
        }
       }
      },
      "text/html": [
       "<div>\n",
       "        \n",
       "        \n",
       "            <div id=\"c3a7e777-9f16-4446-b628-90c68ca0db7b\" class=\"plotly-graph-div\" style=\"height:525px; width:100%;\"></div>\n",
       "            <script type=\"text/javascript\">\n",
       "                require([\"plotly\"], function(Plotly) {\n",
       "                    window.PLOTLYENV=window.PLOTLYENV || {};\n",
       "                    window.PLOTLYENV.BASE_URL='https://plot.ly';\n",
       "                    \n",
       "                if (document.getElementById(\"c3a7e777-9f16-4446-b628-90c68ca0db7b\")) {\n",
       "                    Plotly.newPlot(\n",
       "                        'c3a7e777-9f16-4446-b628-90c68ca0db7b',\n",
       "                        [{\"hoverinfo\": \"x\", \"orientation\": \"h\", \"type\": \"bar\", \"uid\": \"69c473bc-eb50-4987-badd-907341c464f5\", \"x\": [null, null], \"y\": [\"x0\", \"x1\"]}],\n",
       "                        {\"margin\": {\"b\": 0, \"l\": 200, \"t\": 40}, \"xaxis\": {\"range\": [0, 1], \"showline\": true, \"side\": \"top\", \"tickformat\": \"%\", \"title\": {\"text\": \"min_score\"}, \"zeroline\": false}, \"yaxis\": {\"showline\": true, \"zeroline\": false}},\n",
       "                        {\"showLink\": false, \"linkText\": \"Export to plot.ly\", \"plotlyServerURL\": \"https://plot.ly\", \"responsive\": true}\n",
       "                    ).then(function(){\n",
       "                            \n",
       "var gd = document.getElementById('c3a7e777-9f16-4446-b628-90c68ca0db7b');\n",
       "var x = new MutationObserver(function (mutations, observer) {{\n",
       "        var display = window.getComputedStyle(gd).display;\n",
       "        if (!display || display === 'none') {{\n",
       "            console.log([gd, 'removed!']);\n",
       "            Plotly.purge(gd);\n",
       "            observer.disconnect();\n",
       "        }}\n",
       "}});\n",
       "\n",
       "// Listen for the removal of the full notebook cells\n",
       "var notebookContainer = gd.closest('#notebook-container');\n",
       "if (notebookContainer) {{\n",
       "    x.observe(notebookContainer, {childList: true});\n",
       "}}\n",
       "\n",
       "// Listen for the clearing of the current output cell\n",
       "var outputEl = gd.closest('.output');\n",
       "if (outputEl) {{\n",
       "    x.observe(outputEl, {childList: true});\n",
       "}}\n",
       "\n",
       "                        })\n",
       "                };\n",
       "                });\n",
       "            </script>\n",
       "        </div>"
      ]
     },
     "metadata": {},
     "output_type": "display_data"
    }
   ],
   "source": [
    "explainer.plot_performance_ranking(X, [0, 0, 1], [0, 1, 0], metrics.accuracy_score, \"min_score\", inline=True)"
   ]
  },
  {
   "cell_type": "code",
   "execution_count": 12,
   "metadata": {},
   "outputs": [
    {
     "name": "stdout",
     "output_type": "stream",
     "text": [
      "{('x1', None, -0.16178176251015466): 0.9096348246888242, ('x1', None, -0.14325093131939534): 0.8786271915263798, ('x1', None, -0.12872223821578596): 0.8479622100896569, ('x1', None, -0.11663260198590683): 0.8175872019142276, ('x1', None, -0.10617401054965662): 0.7874683667867396, ('x1', None, -0.09687335608543869): 0.7575827221617176, ('x1', None, -0.08842884230083352): 0.7279141554139509, ('x1', None, -0.08063529729795592): 0.6984512664740297, ('x1', None, -0.07334605316135678): 0.6691860990531668, ('x1', None, -0.06645179506362447): 0.6401133577920366, ('x1', None, -0.05986802778856924): 0.6112299127992757, ('x1', None, -0.05352723370223034): 0.5825344864327997, ('x1', None, -0.04737372793272133): 0.5540274638864653, ('x1', None, -0.04136013082445266): 0.5257107943981341, ('x1', None, -0.03544483943036264): 0.4975879646515252, ('x1', None, -0.02959012515602344): 0.46966403539003093, ('x1', None, -0.023760619901403088): 0.4419457390743388, ('x1', None, -0.017922028724899605): 0.41444164214520746, ('x1', None, -0.012039948187754546): 0.3871623811595624, ('x1', None, -0.006078688512542064): 0.3601209886778617, ('x1', None, 0.0): 0.3333333333333333, ('x1', None, 0.005075132073254611): 0.31168146238755656, ('x1', None, 0.010282209878931024): 0.29022373152674674, ('x1', None, 0.015650416101681587): 0.26897489095310334, ('x1', None, 0.0212134247222736): 0.24795241605619942, ('x1', None, 0.027010797132641394): 0.22717714293237376, ('x1', None, 0.03308985420586789): 0.20667410903666242, ('x1', None, 0.039508245340329325): 0.1864736806620322, ('x1', None, 0.04633755812774504): 0.16661308862585142, ('x1', None, 0.05366851811661664): 0.1471385557478028, ('x1', None, 0.061618684137890394): 0.12810829874973925, ('x1', None, 0.07034418127540276): 0.109596846752448, ('x1', None, 0.08005819430505688): 0.09170137601426222, ('x1', None, 0.09106122195574283): 0.07455116727430065, ('x1', None, 0.10379266847166309): 0.05832188253342627, ('x1', None, 0.11892291644643799): 0.04325697188738323, ('x1', None, 0.13752570852972887): 0.02969800196211405, ('x1', None, 0.16141630943941515): 0.018118749353068814, ('x1', None, 0.19384428799676034): 0.00912556029817707, ('x1', None, 0.2410248206081297): 0.0032907326523201456, ('x1', None, 0.3167306572354891): 0.00061812944856507, ('x0', None, -2.3762944057746638): 0.9078335635927092, ('x0', None, -2.0259766533436485): 0.8701301433307356, ('x0', None, -1.77199398360344): 0.8341038093935347, ('x0', None, -1.5717612936043752): 0.7994821434943523, ('x0', None, -1.4055653445165954): 0.766069062857422, ('x0', None, -1.2626874766946357): 0.7337182222061535, ('x0', None, -1.136661428723809): 0.7023172240126473, ('x0', None, -1.0232884049776756): 0.6717777992568258, ('x0', None, -0.9196864904515737): 0.6420294132327007, ('x0', None, -0.8237890327368059): 0.6130149422633171, ('x0', None, -0.7340596636286294): 0.5846876590601022, ('x0', None, -0.6493206511713888): 0.5570090764800575, ('x0', None, -0.5686444438386258): 0.5299473727941411, ('x0', None, -0.49128231447296594): 0.5034762222952899, ('x0', None, -0.41661572412104997): 0.47757391588209397, ('x0', None, -0.3441220882060691): 0.4522226942323809, ('x0', None, -0.27334992759361504): 0.4274082406376414, ('x0', None, -0.20390026061310812): 0.40311929677662944, ('x0', None, -0.13541219274409555): 0.37934737575638705, ('x0', None, -0.06755132408252218): 0.3560865545147833, ('x0', None, 0.0): 0.3333333333333333, ('x0', None, 0.06755132408252218): 0.3110865545147835, ('x0', None, 0.13541219274409488): 0.28934737575638714, ('x0', None, 0.20390026061310706): 0.2681192967766297, ('x0', None, 0.27334992759361537): 0.24740824063764133, ('x0', None, 0.34412208820606915): 0.22722269423238062, ('x0', None, 0.41661572412104997): 0.2075739158820941, ('x0', None, 0.49128231447296516): 0.18847622229529007, ('x0', None, 0.5686444438386259): 0.16994737279414135, ('x0', None, 0.6493206511713874): 0.15200907648005757, ('x0', None, 0.7340596636286286): 0.13468765906010247, ('x0', None, 0.8237890327368059): 0.11801494226331688, ('x0', None, 0.9196864904515737): 0.10202941323270068, ('x0', None, 1.0232884049776751): 0.08677779925682584, ('x0', None, 1.1366614287238106): 0.07231722401264744, ('x0', None, 1.2626874766946359): 0.05871822220615391, ('x0', None, 1.4055653445165963): 0.04606906285744537, ('x0', None, 1.5717612936043748): 0.0344821434961416, ('x0', None, 1.7719939836034384): 0.024103809513416178, ('x0', None, 2.025976653343651): 0.01513015063516478, ('x0', None, 2.376294405774664): 0.007833992283504369}\n"
     ]
    },
    {
     "data": {
      "text/html": [
       "        <script type=\"text/javascript\">\n",
       "        window.PlotlyConfig = {MathJaxConfig: 'local'};\n",
       "        if (window.MathJax) {MathJax.Hub.Config({SVG: {font: \"STIX-Web\"}});}\n",
       "        if (typeof require !== 'undefined') {\n",
       "        require.undef(\"plotly\");\n",
       "        requirejs.config({\n",
       "            paths: {\n",
       "                'plotly': ['https://cdn.plot.ly/plotly-latest.min']\n",
       "            }\n",
       "        });\n",
       "        require(['plotly'], function(Plotly) {\n",
       "            window._Plotly = Plotly;\n",
       "        });\n",
       "        }\n",
       "        </script>\n",
       "        "
      ]
     },
     "metadata": {},
     "output_type": "display_data"
    },
    {
     "data": {
      "application/vnd.plotly.v1+json": {
       "config": {
        "linkText": "Export to plot.ly",
        "plotlyServerURL": "https://plot.ly",
        "showLink": false
       },
       "data": [
        {
         "hoverinfo": "x+y+text",
         "mode": "lines+markers",
         "name": "x0",
         "text": [
          "x0 = 1.1",
          "x0 = 1.145",
          "x0 = 1.19",
          "x0 = 1.235",
          "x0 = 1.28",
          "x0 = 1.3250000000000002",
          "x0 = 1.37",
          "x0 = 1.415",
          "x0 = 1.46",
          "x0 = 1.505",
          "x0 = 1.55",
          "x0 = 1.595",
          "x0 = 1.6400000000000001",
          "x0 = 1.685",
          "x0 = 1.73",
          "x0 = 1.775",
          "x0 = 1.82",
          "x0 = 1.865",
          "x0 = 1.91",
          "x0 = 1.955",
          "x0 = 2.0",
          "x0 = 2.045",
          "x0 = 2.09",
          "x0 = 2.135",
          "x0 = 2.18",
          "x0 = 2.225",
          "x0 = 2.27",
          "x0 = 2.315",
          "x0 = 2.36",
          "x0 = 2.405",
          "x0 = 2.45",
          "x0 = 2.495",
          "x0 = 2.54",
          "x0 = 2.585",
          "x0 = 2.63",
          "x0 = 2.675",
          "x0 = 2.7199999999999998",
          "x0 = 2.7649999999999997",
          "x0 = 2.81",
          "x0 = 2.855",
          "x0 = 2.9"
         ],
         "type": "scatter",
         "uid": "9083d312-744c-40aa-aca3-10c33880ab89",
         "x": [
          -1,
          -0.95,
          -0.9,
          -0.85,
          -0.8,
          -0.75,
          -0.7,
          -0.65,
          -0.6,
          -0.55,
          -0.5,
          -0.45,
          -0.4,
          -0.35,
          -0.3,
          -0.25,
          -0.2,
          -0.15,
          -0.1,
          -0.05,
          0,
          0.05,
          0.1,
          0.15,
          0.2,
          0.25,
          0.3,
          0.35,
          0.4,
          0.45,
          0.5,
          0.55,
          0.6,
          0.65,
          0.7,
          0.75,
          0.8,
          0.85,
          0.9,
          0.95,
          1
         ],
         "y": [
          null,
          null,
          null,
          null,
          null,
          null,
          null,
          null,
          null,
          null,
          null,
          null,
          null,
          null,
          null,
          null,
          null,
          null,
          null,
          null,
          null,
          null,
          null,
          null,
          null,
          null,
          null,
          null,
          null,
          null,
          null,
          null,
          null,
          null,
          null,
          null,
          null,
          null,
          null,
          null,
          null
         ]
        },
        {
         "hoverinfo": "x+y+text",
         "mode": "lines+markers",
         "name": "x1",
         "text": [
          "x1 = 8.6",
          "x1 = 9.17",
          "x1 = 9.74",
          "x1 = 10.31",
          "x1 = 10.879999999999999",
          "x1 = 11.45",
          "x1 = 12.02",
          "x1 = 12.59",
          "x1 = 13.16",
          "x1 = 13.73",
          "x1 = 14.3",
          "x1 = 14.870000000000001",
          "x1 = 15.44",
          "x1 = 16.01",
          "x1 = 16.58",
          "x1 = 17.15",
          "x1 = 17.72",
          "x1 = 18.29",
          "x1 = 18.86",
          "x1 = 19.43",
          "x1 = 20.0",
          "x1 = 20.465",
          "x1 = 20.93",
          "x1 = 21.395",
          "x1 = 21.86",
          "x1 = 22.325",
          "x1 = 22.79",
          "x1 = 23.255",
          "x1 = 23.72",
          "x1 = 24.185",
          "x1 = 24.65",
          "x1 = 25.115",
          "x1 = 25.58",
          "x1 = 26.044999999999998",
          "x1 = 26.509999999999998",
          "x1 = 26.974999999999998",
          "x1 = 27.439999999999998",
          "x1 = 27.904999999999998",
          "x1 = 28.369999999999997",
          "x1 = 28.834999999999997",
          "x1 = 29.299999999999997"
         ],
         "type": "scatter",
         "uid": "63f6330d-8862-4cc4-92c8-91ba164dbf48",
         "x": [
          -1,
          -0.95,
          -0.9,
          -0.85,
          -0.8,
          -0.75,
          -0.7,
          -0.65,
          -0.6,
          -0.55,
          -0.5,
          -0.45,
          -0.4,
          -0.35,
          -0.3,
          -0.25,
          -0.2,
          -0.15,
          -0.1,
          -0.05,
          0,
          0.05,
          0.1,
          0.15,
          0.2,
          0.25,
          0.3,
          0.35,
          0.4,
          0.45,
          0.5,
          0.55,
          0.6,
          0.65,
          0.7,
          0.75,
          0.8,
          0.85,
          0.9,
          0.95,
          1
         ],
         "y": [
          null,
          null,
          null,
          null,
          null,
          null,
          null,
          null,
          null,
          null,
          null,
          null,
          null,
          null,
          null,
          null,
          null,
          null,
          null,
          null,
          null,
          null,
          null,
          null,
          null,
          null,
          null,
          null,
          null,
          null,
          null,
          null,
          null,
          null,
          null,
          null,
          null,
          null,
          null,
          null,
          null
         ]
        }
       ],
       "layout": {
        "margin": {
         "r": 50,
         "t": 50
        },
        "xaxis": {
         "title": {
          "text": "tau"
         },
         "zeroline": false
        },
        "yaxis": {
         "range": [
          0,
          1
         ],
         "showline": true,
         "tickformat": "%",
         "title": {
          "text": "Score"
         }
        }
       }
      },
      "text/html": [
       "<div>\n",
       "        \n",
       "        \n",
       "            <div id=\"ed6aa19c-0d91-47c1-847f-774ef07277fc\" class=\"plotly-graph-div\" style=\"height:525px; width:100%;\"></div>\n",
       "            <script type=\"text/javascript\">\n",
       "                require([\"plotly\"], function(Plotly) {\n",
       "                    window.PLOTLYENV=window.PLOTLYENV || {};\n",
       "                    window.PLOTLYENV.BASE_URL='https://plot.ly';\n",
       "                    \n",
       "                if (document.getElementById(\"ed6aa19c-0d91-47c1-847f-774ef07277fc\")) {\n",
       "                    Plotly.newPlot(\n",
       "                        'ed6aa19c-0d91-47c1-847f-774ef07277fc',\n",
       "                        [{\"hoverinfo\": \"x+y+text\", \"mode\": \"lines+markers\", \"name\": \"x0\", \"text\": [\"x0 = 1.1\", \"x0 = 1.145\", \"x0 = 1.19\", \"x0 = 1.235\", \"x0 = 1.28\", \"x0 = 1.3250000000000002\", \"x0 = 1.37\", \"x0 = 1.415\", \"x0 = 1.46\", \"x0 = 1.505\", \"x0 = 1.55\", \"x0 = 1.595\", \"x0 = 1.6400000000000001\", \"x0 = 1.685\", \"x0 = 1.73\", \"x0 = 1.775\", \"x0 = 1.82\", \"x0 = 1.865\", \"x0 = 1.91\", \"x0 = 1.955\", \"x0 = 2.0\", \"x0 = 2.045\", \"x0 = 2.09\", \"x0 = 2.135\", \"x0 = 2.18\", \"x0 = 2.225\", \"x0 = 2.27\", \"x0 = 2.315\", \"x0 = 2.36\", \"x0 = 2.405\", \"x0 = 2.45\", \"x0 = 2.495\", \"x0 = 2.54\", \"x0 = 2.585\", \"x0 = 2.63\", \"x0 = 2.675\", \"x0 = 2.7199999999999998\", \"x0 = 2.7649999999999997\", \"x0 = 2.81\", \"x0 = 2.855\", \"x0 = 2.9\"], \"type\": \"scatter\", \"uid\": \"9083d312-744c-40aa-aca3-10c33880ab89\", \"x\": [-1.0, -0.95, -0.9, -0.85, -0.8, -0.75, -0.7, -0.65, -0.6, -0.55, -0.5, -0.45, -0.4, -0.35, -0.3, -0.25, -0.2, -0.15, -0.1, -0.05, 0.0, 0.05, 0.1, 0.15, 0.2, 0.25, 0.3, 0.35, 0.4, 0.45, 0.5, 0.55, 0.6, 0.65, 0.7, 0.75, 0.8, 0.85, 0.9, 0.95, 1.0], \"y\": [null, null, null, null, null, null, null, null, null, null, null, null, null, null, null, null, null, null, null, null, null, null, null, null, null, null, null, null, null, null, null, null, null, null, null, null, null, null, null, null, null]}, {\"hoverinfo\": \"x+y+text\", \"mode\": \"lines+markers\", \"name\": \"x1\", \"text\": [\"x1 = 8.6\", \"x1 = 9.17\", \"x1 = 9.74\", \"x1 = 10.31\", \"x1 = 10.879999999999999\", \"x1 = 11.45\", \"x1 = 12.02\", \"x1 = 12.59\", \"x1 = 13.16\", \"x1 = 13.73\", \"x1 = 14.3\", \"x1 = 14.870000000000001\", \"x1 = 15.44\", \"x1 = 16.01\", \"x1 = 16.58\", \"x1 = 17.15\", \"x1 = 17.72\", \"x1 = 18.29\", \"x1 = 18.86\", \"x1 = 19.43\", \"x1 = 20.0\", \"x1 = 20.465\", \"x1 = 20.93\", \"x1 = 21.395\", \"x1 = 21.86\", \"x1 = 22.325\", \"x1 = 22.79\", \"x1 = 23.255\", \"x1 = 23.72\", \"x1 = 24.185\", \"x1 = 24.65\", \"x1 = 25.115\", \"x1 = 25.58\", \"x1 = 26.044999999999998\", \"x1 = 26.509999999999998\", \"x1 = 26.974999999999998\", \"x1 = 27.439999999999998\", \"x1 = 27.904999999999998\", \"x1 = 28.369999999999997\", \"x1 = 28.834999999999997\", \"x1 = 29.299999999999997\"], \"type\": \"scatter\", \"uid\": \"63f6330d-8862-4cc4-92c8-91ba164dbf48\", \"x\": [-1.0, -0.95, -0.9, -0.85, -0.8, -0.75, -0.7, -0.65, -0.6, -0.55, -0.5, -0.45, -0.4, -0.35, -0.3, -0.25, -0.2, -0.15, -0.1, -0.05, 0.0, 0.05, 0.1, 0.15, 0.2, 0.25, 0.3, 0.35, 0.4, 0.45, 0.5, 0.55, 0.6, 0.65, 0.7, 0.75, 0.8, 0.85, 0.9, 0.95, 1.0], \"y\": [null, null, null, null, null, null, null, null, null, null, null, null, null, null, null, null, null, null, null, null, null, null, null, null, null, null, null, null, null, null, null, null, null, null, null, null, null, null, null, null, null]}],\n",
       "                        {\"margin\": {\"r\": 50, \"t\": 50}, \"xaxis\": {\"title\": {\"text\": \"tau\"}, \"zeroline\": false}, \"yaxis\": {\"range\": [0, 1], \"showline\": true, \"tickformat\": \"%\", \"title\": {\"text\": \"Score\"}}},\n",
       "                        {\"showLink\": false, \"linkText\": \"Export to plot.ly\", \"plotlyServerURL\": \"https://plot.ly\", \"responsive\": true}\n",
       "                    ).then(function(){\n",
       "                            \n",
       "var gd = document.getElementById('ed6aa19c-0d91-47c1-847f-774ef07277fc');\n",
       "var x = new MutationObserver(function (mutations, observer) {{\n",
       "        var display = window.getComputedStyle(gd).display;\n",
       "        if (!display || display === 'none') {{\n",
       "            console.log([gd, 'removed!']);\n",
       "            Plotly.purge(gd);\n",
       "            observer.disconnect();\n",
       "        }}\n",
       "}});\n",
       "\n",
       "// Listen for the removal of the full notebook cells\n",
       "var notebookContainer = gd.closest('#notebook-container');\n",
       "if (notebookContainer) {{\n",
       "    x.observe(notebookContainer, {childList: true});\n",
       "}}\n",
       "\n",
       "// Listen for the clearing of the current output cell\n",
       "var outputEl = gd.closest('.output');\n",
       "if (outputEl) {{\n",
       "    x.observe(outputEl, {childList: true});\n",
       "}}\n",
       "\n",
       "                        })\n",
       "                };\n",
       "                });\n",
       "            </script>\n",
       "        </div>"
      ]
     },
     "metadata": {},
     "output_type": "display_data"
    }
   ],
   "source": [
    "explainer.plot_performance(X, [0, 0, 1], [0, 1, 0], metrics.accuracy_score, inline=True)"
   ]
  },
  {
   "cell_type": "code",
   "execution_count": null,
   "metadata": {},
   "outputs": [],
   "source": []
  }
 ],
 "metadata": {
  "kernelspec": {
   "display_name": "Python [conda env:ethik] *",
   "language": "python",
   "name": "conda-env-ethik-py"
  },
  "language_info": {
   "codemirror_mode": {
    "name": "ipython",
    "version": 3
   },
   "file_extension": ".py",
   "mimetype": "text/x-python",
   "name": "python",
   "nbconvert_exporter": "python",
   "pygments_lexer": "ipython3",
   "version": "3.7.3"
  }
 },
 "nbformat": 4,
 "nbformat_minor": 2
}
