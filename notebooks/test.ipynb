{
 "cells": [
  {
   "cell_type": "code",
   "execution_count": 1,
   "metadata": {},
   "outputs": [],
   "source": [
    "import ethik\n",
    "import pandas as pd\n",
    "from sklearn import metrics"
   ]
  },
  {
   "cell_type": "code",
   "execution_count": 2,
   "metadata": {},
   "outputs": [],
   "source": [
    "X = pd.DataFrame({\n",
    "    \"x0\": [1, 2, 3],\n",
    "    \"x1\": [7, 23, 30]\n",
    "})"
   ]
  },
  {
   "cell_type": "code",
   "execution_count": 3,
   "metadata": {},
   "outputs": [],
   "source": [
    "explainer = ethik.Explainer()"
   ]
  },
  {
   "cell_type": "code",
   "execution_count": 4,
   "metadata": {},
   "outputs": [
    {
     "data": {
      "text/plain": [
       "<ethik.explainer.Explainer at 0x7f17d07f7c18>"
      ]
     },
     "execution_count": 4,
     "metadata": {},
     "output_type": "execute_result"
    }
   ],
   "source": [
    "explainer.fit(X)"
   ]
  },
  {
   "cell_type": "code",
   "execution_count": 5,
   "metadata": {
    "scrolled": true
   },
   "outputs": [
    {
     "data": {
      "text/html": [
       "        <script type=\"text/javascript\">\n",
       "        window.PlotlyConfig = {MathJaxConfig: 'local'};\n",
       "        if (window.MathJax) {MathJax.Hub.Config({SVG: {font: \"STIX-Web\"}});}\n",
       "        if (typeof require !== 'undefined') {\n",
       "        require.undef(\"plotly\");\n",
       "        requirejs.config({\n",
       "            paths: {\n",
       "                'plotly': ['https://cdn.plot.ly/plotly-latest.min']\n",
       "            }\n",
       "        });\n",
       "        require(['plotly'], function(Plotly) {\n",
       "            window._Plotly = Plotly;\n",
       "        });\n",
       "        }\n",
       "        </script>\n",
       "        "
      ]
     },
     "metadata": {},
     "output_type": "display_data"
    },
    {
     "data": {
      "application/vnd.plotly.v1+json": {
       "config": {
        "linkText": "Export to plot.ly",
        "plotlyServerURL": "https://plot.ly",
        "showLink": false
       },
       "data": [
        {
         "hoverinfo": "x+y",
         "mode": "lines+markers",
         "showlegend": false,
         "type": "scatter",
         "uid": "90515838-47f5-458d-9b0a-6aab9c404b7f",
         "x": [
          1.1,
          1.145,
          1.19,
          1.235,
          1.28,
          1.3250000000000002,
          1.37,
          1.415,
          1.46,
          1.505,
          1.55,
          1.595,
          1.6400000000000001,
          1.685,
          1.73,
          1.775,
          1.82,
          1.865,
          1.91,
          1.955,
          2,
          2.045,
          2.09,
          2.135,
          2.18,
          2.225,
          2.27,
          2.315,
          2.36,
          2.405,
          2.45,
          2.495,
          2.54,
          2.585,
          2.63,
          2.675,
          2.7199999999999998,
          2.7649999999999997,
          2.81,
          2.855,
          2.9
         ],
         "y": [
          0.08433244412378645,
          0.11473970603409969,
          0.1417923810930492,
          0.1660357130095062,
          0.18786187428513246,
          0.20756355558769257,
          0.22536555197470498,
          0.24144440148634846,
          0.2559411735345987,
          0.26897011547336613,
          0.2806246818797954,
          0.29098184703988517,
          0.30010525441171754,
          0.30804755540942025,
          0.31485216823581197,
          0.32055461153523845,
          0.32518351872471724,
          0.32876140644674107,
          0.3313052484872261,
          0.3328268909704331,
          0.3333333333333333,
          0.3328268909704331,
          0.3313052484872261,
          0.3287614064467411,
          0.3251835187247172,
          0.32055461153523845,
          0.31485216823581197,
          0.30804755540942036,
          0.3001052544117175,
          0.29098184703988533,
          0.28062468187979556,
          0.2689701154733661,
          0.25594117353459866,
          0.24144440148634858,
          0.2253655519747047,
          0.20756355558769254,
          0.18786187428513226,
          0.16603571300950626,
          0.1417923810930494,
          0.11473970603409943,
          0.0843324441237864
         ]
        },
        {
         "hoverinfo": "skip",
         "marker": {
          "size": 9,
          "symbol": "x"
         },
         "mode": "markers",
         "name": "Original mean",
         "type": "scatter",
         "uid": "735fd77a-63b8-4d14-9a9c-0a1d52db324b",
         "x": [
          2
         ],
         "y": [
          0.3333333333333333
         ]
        }
       ],
       "layout": {
        "margin": {
         "r": 50,
         "t": 50
        },
        "xaxis": {
         "title": {
          "text": "Mean x0"
         },
         "zeroline": false
        },
        "yaxis": {
         "range": [
          0,
          1
         ],
         "showline": true,
         "tickformat": "%",
         "title": {
          "text": "Proportion of my_y"
         }
        }
       }
      },
      "text/html": [
       "<div>\n",
       "        \n",
       "        \n",
       "            <div id=\"05d46732-a873-4e51-aeaa-d80b2cb7eca0\" class=\"plotly-graph-div\" style=\"height:525px; width:100%;\"></div>\n",
       "            <script type=\"text/javascript\">\n",
       "                require([\"plotly\"], function(Plotly) {\n",
       "                    window.PLOTLYENV=window.PLOTLYENV || {};\n",
       "                    window.PLOTLYENV.BASE_URL='https://plot.ly';\n",
       "                    \n",
       "                if (document.getElementById(\"05d46732-a873-4e51-aeaa-d80b2cb7eca0\")) {\n",
       "                    Plotly.newPlot(\n",
       "                        '05d46732-a873-4e51-aeaa-d80b2cb7eca0',\n",
       "                        [{\"hoverinfo\": \"x+y\", \"mode\": \"lines+markers\", \"showlegend\": false, \"type\": \"scatter\", \"uid\": \"90515838-47f5-458d-9b0a-6aab9c404b7f\", \"x\": [1.1, 1.145, 1.19, 1.235, 1.28, 1.3250000000000002, 1.37, 1.415, 1.46, 1.505, 1.55, 1.595, 1.6400000000000001, 1.685, 1.73, 1.775, 1.82, 1.865, 1.91, 1.955, 2.0, 2.045, 2.09, 2.135, 2.18, 2.225, 2.27, 2.315, 2.36, 2.405, 2.45, 2.495, 2.54, 2.585, 2.63, 2.675, 2.7199999999999998, 2.7649999999999997, 2.81, 2.855, 2.9], \"y\": [0.08433244412378645, 0.11473970603409969, 0.1417923810930492, 0.1660357130095062, 0.18786187428513246, 0.20756355558769257, 0.22536555197470498, 0.24144440148634846, 0.2559411735345987, 0.26897011547336613, 0.2806246818797954, 0.29098184703988517, 0.30010525441171754, 0.30804755540942025, 0.31485216823581197, 0.32055461153523845, 0.32518351872471724, 0.32876140644674107, 0.3313052484872261, 0.3328268909704331, 0.3333333333333333, 0.3328268909704331, 0.3313052484872261, 0.3287614064467411, 0.3251835187247172, 0.32055461153523845, 0.31485216823581197, 0.30804755540942036, 0.3001052544117175, 0.29098184703988533, 0.28062468187979556, 0.2689701154733661, 0.25594117353459866, 0.24144440148634858, 0.2253655519747047, 0.20756355558769254, 0.18786187428513226, 0.16603571300950626, 0.1417923810930494, 0.11473970603409943, 0.0843324441237864]}, {\"hoverinfo\": \"skip\", \"marker\": {\"size\": 9, \"symbol\": \"x\"}, \"mode\": \"markers\", \"name\": \"Original mean\", \"type\": \"scatter\", \"uid\": \"735fd77a-63b8-4d14-9a9c-0a1d52db324b\", \"x\": [2.0], \"y\": [0.3333333333333333]}],\n",
       "                        {\"margin\": {\"r\": 50, \"t\": 50}, \"xaxis\": {\"title\": {\"text\": \"Mean x0\"}, \"zeroline\": false}, \"yaxis\": {\"range\": [0, 1], \"showline\": true, \"tickformat\": \"%\", \"title\": {\"text\": \"Proportion of my_y\"}}},\n",
       "                        {\"showLink\": false, \"linkText\": \"Export to plot.ly\", \"plotlyServerURL\": \"https://plot.ly\", \"responsive\": true}\n",
       "                    ).then(function(){\n",
       "                            \n",
       "var gd = document.getElementById('05d46732-a873-4e51-aeaa-d80b2cb7eca0');\n",
       "var x = new MutationObserver(function (mutations, observer) {{\n",
       "        var display = window.getComputedStyle(gd).display;\n",
       "        if (!display || display === 'none') {{\n",
       "            console.log([gd, 'removed!']);\n",
       "            Plotly.purge(gd);\n",
       "            observer.disconnect();\n",
       "        }}\n",
       "}});\n",
       "\n",
       "// Listen for the removal of the full notebook cells\n",
       "var notebookContainer = gd.closest('#notebook-container');\n",
       "if (notebookContainer) {{\n",
       "    x.observe(notebookContainer, {childList: true});\n",
       "}}\n",
       "\n",
       "// Listen for the clearing of the current output cell\n",
       "var outputEl = gd.closest('.output');\n",
       "if (outputEl) {{\n",
       "    x.observe(outputEl, {childList: true});\n",
       "}}\n",
       "\n",
       "                        })\n",
       "                };\n",
       "                });\n",
       "            </script>\n",
       "        </div>"
      ]
     },
     "metadata": {},
     "output_type": "display_data"
    }
   ],
   "source": [
    "explainer.plot_predictions(X[\"x0\"], pd.Series([0, 1, 0], name=\"my_y\"), inline=True)"
   ]
  },
  {
   "cell_type": "code",
   "execution_count": 6,
   "metadata": {
    "scrolled": true
   },
   "outputs": [
    {
     "data": {
      "text/html": [
       "        <script type=\"text/javascript\">\n",
       "        window.PlotlyConfig = {MathJaxConfig: 'local'};\n",
       "        if (window.MathJax) {MathJax.Hub.Config({SVG: {font: \"STIX-Web\"}});}\n",
       "        if (typeof require !== 'undefined') {\n",
       "        require.undef(\"plotly\");\n",
       "        requirejs.config({\n",
       "            paths: {\n",
       "                'plotly': ['https://cdn.plot.ly/plotly-latest.min']\n",
       "            }\n",
       "        });\n",
       "        require(['plotly'], function(Plotly) {\n",
       "            window._Plotly = Plotly;\n",
       "        });\n",
       "        }\n",
       "        </script>\n",
       "        "
      ]
     },
     "metadata": {},
     "output_type": "display_data"
    },
    {
     "data": {
      "application/vnd.plotly.v1+json": {
       "config": {
        "linkText": "Export to plot.ly",
        "plotlyServerURL": "https://plot.ly",
        "showLink": false
       },
       "data": [
        {
         "hoverinfo": "x+y",
         "mode": "lines+markers",
         "name": "x0",
         "type": "scatter",
         "uid": "2dc10d89-6af4-45ca-be79-5f79e38202cb",
         "x": [
          -1,
          -0.95,
          -0.9,
          -0.85,
          -0.8,
          -0.75,
          -0.7,
          -0.65,
          -0.6,
          -0.55,
          -0.5,
          -0.45,
          -0.4,
          -0.35,
          -0.3,
          -0.25,
          -0.2,
          -0.15,
          -0.1,
          -0.05,
          0,
          0.05,
          0.1,
          0.15,
          0.2,
          0.25,
          0.3,
          0.35,
          0.4,
          0.45,
          0.5,
          0.55,
          0.6,
          0.65,
          0.7,
          0.75,
          0.8,
          0.85,
          0.9,
          0.95,
          1
         ],
         "y": [
          0.08433244412378645,
          0.11473970603409969,
          0.1417923810930492,
          0.1660357130095062,
          0.18786187428513246,
          0.20756355558769257,
          0.22536555197470498,
          0.24144440148634846,
          0.2559411735345987,
          0.26897011547336613,
          0.2806246818797954,
          0.29098184703988517,
          0.30010525441171754,
          0.30804755540942025,
          0.31485216823581197,
          0.32055461153523845,
          0.32518351872471724,
          0.32876140644674107,
          0.3313052484872261,
          0.3328268909704331,
          0.3333333333333333,
          0.3328268909704331,
          0.3313052484872261,
          0.3287614064467411,
          0.3251835187247172,
          0.32055461153523845,
          0.31485216823581197,
          0.30804755540942036,
          0.3001052544117175,
          0.29098184703988533,
          0.28062468187979556,
          0.2689701154733661,
          0.25594117353459866,
          0.24144440148634858,
          0.2253655519747047,
          0.20756355558769254,
          0.18786187428513226,
          0.16603571300950626,
          0.1417923810930494,
          0.11473970603409943,
          0.0843324441237864
         ]
        },
        {
         "hoverinfo": "x+y",
         "mode": "lines+markers",
         "name": "x1",
         "type": "scatter",
         "uid": "7ca60e1c-1fd0-4205-aa23-5d710685c156",
         "x": [
          -1,
          -0.95,
          -0.9,
          -0.85,
          -0.8,
          -0.75,
          -0.7,
          -0.65,
          -0.6,
          -0.55,
          -0.5,
          -0.45,
          -0.4,
          -0.35,
          -0.3,
          -0.25,
          -0.2,
          -0.15,
          -0.1,
          -0.05,
          0,
          0.05,
          0.1,
          0.15,
          0.2,
          0.25,
          0.3,
          0.35,
          0.4,
          0.45,
          0.5,
          0.55,
          0.6,
          0.65,
          0.7,
          0.75,
          0.8,
          0.85,
          0.9,
          0.95,
          1
         ],
         "y": [
          0.06834271865833297,
          0.08879637069852651,
          0.10812416684826932,
          0.12649919371039525,
          0.14403250912928403,
          0.16079962718292787,
          0.17685348935416165,
          0.1922315530139027,
          0.20695996025387975,
          0.22105611011187948,
          0.23453028651666516,
          0.24738668743508643,
          0.2596240472301854,
          0.27123596126327365,
          0.28221097328784633,
          0.29253245514704157,
          0.30217828589860146,
          0.3111203186657467,
          0.31932360476143806,
          0.3267453229155974,
          0.3333333333333333,
          0.33804662358374277,
          0.34212202498354627,
          0.34551107258266,
          0.34815634724391625,
          0.3499893875079152,
          0.35092792745096635,
          0.35087219211046566,
          0.34969985165791684,
          0.3472590311143627,
          0.34335844696514284,
          0.3377532178133856,
          0.3301240502388535,
          0.3200461646702008,
          0.30694238596403345,
          0.29001280675741364,
          0.26813513969685027,
          0.23975276079704855,
          0.20287457035925788,
          0.1556340410123935,
          0.09816337044073077
         ]
        }
       ],
       "layout": {
        "margin": {
         "r": 50,
         "t": 50
        },
        "xaxis": {
         "title": {
          "text": "tau"
         },
         "zeroline": false
        },
        "yaxis": {
         "range": [
          0,
          1
         ],
         "showline": true,
         "tickformat": "%",
         "title": {
          "text": "Proportion of my_y"
         }
        }
       }
      },
      "text/html": [
       "<div>\n",
       "        \n",
       "        \n",
       "            <div id=\"efcb1d8f-6894-4fee-9fa8-92cdb0fd0d27\" class=\"plotly-graph-div\" style=\"height:525px; width:100%;\"></div>\n",
       "            <script type=\"text/javascript\">\n",
       "                require([\"plotly\"], function(Plotly) {\n",
       "                    window.PLOTLYENV=window.PLOTLYENV || {};\n",
       "                    window.PLOTLYENV.BASE_URL='https://plot.ly';\n",
       "                    \n",
       "                if (document.getElementById(\"efcb1d8f-6894-4fee-9fa8-92cdb0fd0d27\")) {\n",
       "                    Plotly.newPlot(\n",
       "                        'efcb1d8f-6894-4fee-9fa8-92cdb0fd0d27',\n",
       "                        [{\"hoverinfo\": \"x+y\", \"mode\": \"lines+markers\", \"name\": \"x0\", \"type\": \"scatter\", \"uid\": \"2dc10d89-6af4-45ca-be79-5f79e38202cb\", \"x\": [-1.0, -0.95, -0.9, -0.85, -0.8, -0.75, -0.7, -0.65, -0.6, -0.55, -0.5, -0.45, -0.4, -0.35, -0.3, -0.25, -0.2, -0.15, -0.1, -0.05, 0.0, 0.05, 0.1, 0.15, 0.2, 0.25, 0.3, 0.35, 0.4, 0.45, 0.5, 0.55, 0.6, 0.65, 0.7, 0.75, 0.8, 0.85, 0.9, 0.95, 1.0], \"y\": [0.08433244412378645, 0.11473970603409969, 0.1417923810930492, 0.1660357130095062, 0.18786187428513246, 0.20756355558769257, 0.22536555197470498, 0.24144440148634846, 0.2559411735345987, 0.26897011547336613, 0.2806246818797954, 0.29098184703988517, 0.30010525441171754, 0.30804755540942025, 0.31485216823581197, 0.32055461153523845, 0.32518351872471724, 0.32876140644674107, 0.3313052484872261, 0.3328268909704331, 0.3333333333333333, 0.3328268909704331, 0.3313052484872261, 0.3287614064467411, 0.3251835187247172, 0.32055461153523845, 0.31485216823581197, 0.30804755540942036, 0.3001052544117175, 0.29098184703988533, 0.28062468187979556, 0.2689701154733661, 0.25594117353459866, 0.24144440148634858, 0.2253655519747047, 0.20756355558769254, 0.18786187428513226, 0.16603571300950626, 0.1417923810930494, 0.11473970603409943, 0.0843324441237864]}, {\"hoverinfo\": \"x+y\", \"mode\": \"lines+markers\", \"name\": \"x1\", \"type\": \"scatter\", \"uid\": \"7ca60e1c-1fd0-4205-aa23-5d710685c156\", \"x\": [-1.0, -0.95, -0.9, -0.85, -0.8, -0.75, -0.7, -0.65, -0.6, -0.55, -0.5, -0.45, -0.4, -0.35, -0.3, -0.25, -0.2, -0.15, -0.1, -0.05, 0.0, 0.05, 0.1, 0.15, 0.2, 0.25, 0.3, 0.35, 0.4, 0.45, 0.5, 0.55, 0.6, 0.65, 0.7, 0.75, 0.8, 0.85, 0.9, 0.95, 1.0], \"y\": [0.06834271865833297, 0.08879637069852651, 0.10812416684826932, 0.12649919371039525, 0.14403250912928403, 0.16079962718292787, 0.17685348935416165, 0.1922315530139027, 0.20695996025387975, 0.22105611011187948, 0.23453028651666516, 0.24738668743508643, 0.2596240472301854, 0.27123596126327365, 0.28221097328784633, 0.29253245514704157, 0.30217828589860146, 0.3111203186657467, 0.31932360476143806, 0.3267453229155974, 0.3333333333333333, 0.33804662358374277, 0.34212202498354627, 0.34551107258266, 0.34815634724391625, 0.3499893875079152, 0.35092792745096635, 0.35087219211046566, 0.34969985165791684, 0.3472590311143627, 0.34335844696514284, 0.3377532178133856, 0.3301240502388535, 0.3200461646702008, 0.30694238596403345, 0.29001280675741364, 0.26813513969685027, 0.23975276079704855, 0.20287457035925788, 0.1556340410123935, 0.09816337044073077]}],\n",
       "                        {\"margin\": {\"r\": 50, \"t\": 50}, \"xaxis\": {\"title\": {\"text\": \"tau\"}, \"zeroline\": false}, \"yaxis\": {\"range\": [0, 1], \"showline\": true, \"tickformat\": \"%\", \"title\": {\"text\": \"Proportion of my_y\"}}},\n",
       "                        {\"showLink\": false, \"linkText\": \"Export to plot.ly\", \"plotlyServerURL\": \"https://plot.ly\", \"responsive\": true}\n",
       "                    ).then(function(){\n",
       "                            \n",
       "var gd = document.getElementById('efcb1d8f-6894-4fee-9fa8-92cdb0fd0d27');\n",
       "var x = new MutationObserver(function (mutations, observer) {{\n",
       "        var display = window.getComputedStyle(gd).display;\n",
       "        if (!display || display === 'none') {{\n",
       "            console.log([gd, 'removed!']);\n",
       "            Plotly.purge(gd);\n",
       "            observer.disconnect();\n",
       "        }}\n",
       "}});\n",
       "\n",
       "// Listen for the removal of the full notebook cells\n",
       "var notebookContainer = gd.closest('#notebook-container');\n",
       "if (notebookContainer) {{\n",
       "    x.observe(notebookContainer, {childList: true});\n",
       "}}\n",
       "\n",
       "// Listen for the clearing of the current output cell\n",
       "var outputEl = gd.closest('.output');\n",
       "if (outputEl) {{\n",
       "    x.observe(outputEl, {childList: true});\n",
       "}}\n",
       "\n",
       "                        })\n",
       "                };\n",
       "                });\n",
       "            </script>\n",
       "        </div>"
      ]
     },
     "metadata": {},
     "output_type": "display_data"
    }
   ],
   "source": [
    "explainer.plot_predictions(X, pd.Series([0, 1, 0], name=\"my_y\"), inline=True)"
   ]
  },
  {
   "cell_type": "code",
   "execution_count": 7,
   "metadata": {
    "scrolled": true
   },
   "outputs": [
    {
     "data": {
      "text/html": [
       "        <script type=\"text/javascript\">\n",
       "        window.PlotlyConfig = {MathJaxConfig: 'local'};\n",
       "        if (window.MathJax) {MathJax.Hub.Config({SVG: {font: \"STIX-Web\"}});}\n",
       "        if (typeof require !== 'undefined') {\n",
       "        require.undef(\"plotly\");\n",
       "        requirejs.config({\n",
       "            paths: {\n",
       "                'plotly': ['https://cdn.plot.ly/plotly-latest.min']\n",
       "            }\n",
       "        });\n",
       "        require(['plotly'], function(Plotly) {\n",
       "            window._Plotly = Plotly;\n",
       "        });\n",
       "        }\n",
       "        </script>\n",
       "        "
      ]
     },
     "metadata": {},
     "output_type": "display_data"
    },
    {
     "data": {
      "application/vnd.plotly.v1+json": {
       "config": {
        "linkText": "Export to plot.ly",
        "plotlyServerURL": "https://plot.ly",
        "showLink": false
       },
       "data": [
        {
         "hoverinfo": "x+y",
         "mode": "lines+markers",
         "name": "x0",
         "type": "scatter",
         "uid": "b295e809-49a1-4c2b-830b-4f46a1e7b0fa",
         "x": [
          -1,
          -0.95,
          -0.9,
          -0.85,
          -0.8,
          -0.75,
          -0.7,
          -0.65,
          -0.6,
          -0.55,
          -0.5,
          -0.45,
          -0.4,
          -0.35,
          -0.3,
          -0.25,
          -0.2,
          -0.15,
          -0.1,
          -0.05,
          0,
          0.05,
          0.1,
          0.15,
          0.2,
          0.25,
          0.3,
          0.35,
          0.4,
          0.45,
          0.5,
          0.55,
          0.6,
          0.65,
          0.7,
          0.75,
          0.8,
          0.85,
          0.9,
          0.95,
          1
         ],
         "y": [
          0.9078335635927092,
          0.8701301433307356,
          0.8341038093935347,
          0.7994821434943523,
          0.766069062857422,
          0.7337182222061535,
          0.7023172240126473,
          0.6717777992568258,
          0.6420294132327007,
          0.6130149422633171,
          0.5846876590601022,
          0.5570090764800575,
          0.5299473727941411,
          0.5034762222952899,
          0.47757391588209397,
          0.4522226942323809,
          0.4274082406376414,
          0.40311929677662944,
          0.37934737575638705,
          0.3560865545147833,
          0.3333333333333333,
          0.3110865545147835,
          0.28934737575638714,
          0.2681192967766297,
          0.24740824063764133,
          0.22722269423238062,
          0.2075739158820941,
          0.18847622229529007,
          0.16994737279414135,
          0.15200907648005757,
          0.13468765906010247,
          0.11801494226331688,
          0.10202941323270068,
          0.08677779925682584,
          0.07231722401264744,
          0.05871822220615391,
          0.04606906285744537,
          0.0344821434961416,
          0.024103809513416178,
          0.01513015063516478,
          0.007833992283504369
         ]
        },
        {
         "hoverinfo": "x+y",
         "mode": "lines+markers",
         "name": "x1",
         "type": "scatter",
         "uid": "85894cd0-3e72-4289-af11-5db7ce14e0f5",
         "x": [
          -1,
          -0.95,
          -0.9,
          -0.85,
          -0.8,
          -0.75,
          -0.7,
          -0.65,
          -0.6,
          -0.55,
          -0.5,
          -0.45,
          -0.4,
          -0.35,
          -0.3,
          -0.25,
          -0.2,
          -0.15,
          -0.1,
          -0.05,
          0,
          0.05,
          0.1,
          0.15,
          0.2,
          0.25,
          0.3,
          0.35,
          0.4,
          0.45,
          0.5,
          0.55,
          0.6,
          0.65,
          0.7,
          0.75,
          0.8,
          0.85,
          0.9,
          0.95,
          1
         ],
         "y": [
          0.9096348246888242,
          0.8786271915263798,
          0.8479622100896569,
          0.8175872019142276,
          0.7874683667867396,
          0.7575827221617176,
          0.7279141554139509,
          0.6984512664740297,
          0.6691860990531668,
          0.6401133577920366,
          0.6112299127992757,
          0.5825344864327997,
          0.5540274638864653,
          0.5257107943981341,
          0.4975879646515252,
          0.46966403539003093,
          0.4419457390743388,
          0.41444164214520746,
          0.3871623811595624,
          0.3601209886778617,
          0.3333333333333333,
          0.31168146238755656,
          0.29022373152674674,
          0.26897489095310334,
          0.24795241605619942,
          0.22717714293237376,
          0.20667410903666242,
          0.1864736806620322,
          0.16661308862585142,
          0.1471385557478028,
          0.12810829874973925,
          0.109596846752448,
          0.09170137601426222,
          0.07455116727430065,
          0.05832188253342627,
          0.04325697188738323,
          0.02969800196211405,
          0.018118749353068814,
          0.00912556029817707,
          0.0032907326523201456,
          0.00061812944856507
         ]
        }
       ],
       "layout": {
        "margin": {
         "r": 50,
         "t": 50
        },
        "xaxis": {
         "title": {
          "text": "tau"
         },
         "zeroline": false
        },
        "yaxis": {
         "range": [
          0,
          1
         ],
         "showline": true,
         "tickformat": "%",
         "title": {
          "text": "Score"
         }
        }
       }
      },
      "text/html": [
       "<div>\n",
       "        \n",
       "        \n",
       "            <div id=\"38eb28ae-5adc-4843-a3f4-0597c646b94b\" class=\"plotly-graph-div\" style=\"height:525px; width:100%;\"></div>\n",
       "            <script type=\"text/javascript\">\n",
       "                require([\"plotly\"], function(Plotly) {\n",
       "                    window.PLOTLYENV=window.PLOTLYENV || {};\n",
       "                    window.PLOTLYENV.BASE_URL='https://plot.ly';\n",
       "                    \n",
       "                if (document.getElementById(\"38eb28ae-5adc-4843-a3f4-0597c646b94b\")) {\n",
       "                    Plotly.newPlot(\n",
       "                        '38eb28ae-5adc-4843-a3f4-0597c646b94b',\n",
       "                        [{\"hoverinfo\": \"x+y\", \"mode\": \"lines+markers\", \"name\": \"x0\", \"type\": \"scatter\", \"uid\": \"b295e809-49a1-4c2b-830b-4f46a1e7b0fa\", \"x\": [-1.0, -0.95, -0.9, -0.85, -0.8, -0.75, -0.7, -0.65, -0.6, -0.55, -0.5, -0.45, -0.4, -0.35, -0.3, -0.25, -0.2, -0.15, -0.1, -0.05, 0.0, 0.05, 0.1, 0.15, 0.2, 0.25, 0.3, 0.35, 0.4, 0.45, 0.5, 0.55, 0.6, 0.65, 0.7, 0.75, 0.8, 0.85, 0.9, 0.95, 1.0], \"y\": [0.9078335635927092, 0.8701301433307356, 0.8341038093935347, 0.7994821434943523, 0.766069062857422, 0.7337182222061535, 0.7023172240126473, 0.6717777992568258, 0.6420294132327007, 0.6130149422633171, 0.5846876590601022, 0.5570090764800575, 0.5299473727941411, 0.5034762222952899, 0.47757391588209397, 0.4522226942323809, 0.4274082406376414, 0.40311929677662944, 0.37934737575638705, 0.3560865545147833, 0.3333333333333333, 0.3110865545147835, 0.28934737575638714, 0.2681192967766297, 0.24740824063764133, 0.22722269423238062, 0.2075739158820941, 0.18847622229529007, 0.16994737279414135, 0.15200907648005757, 0.13468765906010247, 0.11801494226331688, 0.10202941323270068, 0.08677779925682584, 0.07231722401264744, 0.05871822220615391, 0.04606906285744537, 0.0344821434961416, 0.024103809513416178, 0.01513015063516478, 0.007833992283504369]}, {\"hoverinfo\": \"x+y\", \"mode\": \"lines+markers\", \"name\": \"x1\", \"type\": \"scatter\", \"uid\": \"85894cd0-3e72-4289-af11-5db7ce14e0f5\", \"x\": [-1.0, -0.95, -0.9, -0.85, -0.8, -0.75, -0.7, -0.65, -0.6, -0.55, -0.5, -0.45, -0.4, -0.35, -0.3, -0.25, -0.2, -0.15, -0.1, -0.05, 0.0, 0.05, 0.1, 0.15, 0.2, 0.25, 0.3, 0.35, 0.4, 0.45, 0.5, 0.55, 0.6, 0.65, 0.7, 0.75, 0.8, 0.85, 0.9, 0.95, 1.0], \"y\": [0.9096348246888242, 0.8786271915263798, 0.8479622100896569, 0.8175872019142276, 0.7874683667867396, 0.7575827221617176, 0.7279141554139509, 0.6984512664740297, 0.6691860990531668, 0.6401133577920366, 0.6112299127992757, 0.5825344864327997, 0.5540274638864653, 0.5257107943981341, 0.4975879646515252, 0.46966403539003093, 0.4419457390743388, 0.41444164214520746, 0.3871623811595624, 0.3601209886778617, 0.3333333333333333, 0.31168146238755656, 0.29022373152674674, 0.26897489095310334, 0.24795241605619942, 0.22717714293237376, 0.20667410903666242, 0.1864736806620322, 0.16661308862585142, 0.1471385557478028, 0.12810829874973925, 0.109596846752448, 0.09170137601426222, 0.07455116727430065, 0.05832188253342627, 0.04325697188738323, 0.02969800196211405, 0.018118749353068814, 0.00912556029817707, 0.0032907326523201456, 0.00061812944856507]}],\n",
       "                        {\"margin\": {\"r\": 50, \"t\": 50}, \"xaxis\": {\"title\": {\"text\": \"tau\"}, \"zeroline\": false}, \"yaxis\": {\"range\": [0, 1], \"showline\": true, \"tickformat\": \"%\", \"title\": {\"text\": \"Score\"}}},\n",
       "                        {\"showLink\": false, \"linkText\": \"Export to plot.ly\", \"plotlyServerURL\": \"https://plot.ly\", \"responsive\": true}\n",
       "                    ).then(function(){\n",
       "                            \n",
       "var gd = document.getElementById('38eb28ae-5adc-4843-a3f4-0597c646b94b');\n",
       "var x = new MutationObserver(function (mutations, observer) {{\n",
       "        var display = window.getComputedStyle(gd).display;\n",
       "        if (!display || display === 'none') {{\n",
       "            console.log([gd, 'removed!']);\n",
       "            Plotly.purge(gd);\n",
       "            observer.disconnect();\n",
       "        }}\n",
       "}});\n",
       "\n",
       "// Listen for the removal of the full notebook cells\n",
       "var notebookContainer = gd.closest('#notebook-container');\n",
       "if (notebookContainer) {{\n",
       "    x.observe(notebookContainer, {childList: true});\n",
       "}}\n",
       "\n",
       "// Listen for the clearing of the current output cell\n",
       "var outputEl = gd.closest('.output');\n",
       "if (outputEl) {{\n",
       "    x.observe(outputEl, {childList: true});\n",
       "}}\n",
       "\n",
       "                        })\n",
       "                };\n",
       "                });\n",
       "            </script>\n",
       "        </div>"
      ]
     },
     "metadata": {},
     "output_type": "display_data"
    }
   ],
   "source": [
    "explainer.plot_metric(X, [0, 0, 1], [0, 1, 0], metrics.accuracy_score, inline=True)"
   ]
  },
  {
   "cell_type": "code",
   "execution_count": 8,
   "metadata": {
    "scrolled": true
   },
   "outputs": [
    {
     "data": {
      "text/html": [
       "        <script type=\"text/javascript\">\n",
       "        window.PlotlyConfig = {MathJaxConfig: 'local'};\n",
       "        if (window.MathJax) {MathJax.Hub.Config({SVG: {font: \"STIX-Web\"}});}\n",
       "        if (typeof require !== 'undefined') {\n",
       "        require.undef(\"plotly\");\n",
       "        requirejs.config({\n",
       "            paths: {\n",
       "                'plotly': ['https://cdn.plot.ly/plotly-latest.min']\n",
       "            }\n",
       "        });\n",
       "        require(['plotly'], function(Plotly) {\n",
       "            window._Plotly = Plotly;\n",
       "        });\n",
       "        }\n",
       "        </script>\n",
       "        "
      ]
     },
     "metadata": {},
     "output_type": "display_data"
    },
    {
     "data": {
      "application/vnd.plotly.v1+json": {
       "config": {
        "linkText": "Export to plot.ly",
        "plotlyServerURL": "https://plot.ly",
        "showLink": false
       },
       "data": [
        {
         "hoverinfo": "x+y",
         "mode": "lines+markers",
         "showlegend": false,
         "type": "scatter",
         "uid": "7f353c13-ad6f-4916-bfb3-67d0fb06c53e",
         "x": [
          1.1,
          1.145,
          1.19,
          1.235,
          1.28,
          1.3250000000000002,
          1.37,
          1.415,
          1.46,
          1.505,
          1.55,
          1.595,
          1.6400000000000001,
          1.685,
          1.73,
          1.775,
          1.82,
          1.865,
          1.91,
          1.955,
          2,
          2.045,
          2.09,
          2.135,
          2.18,
          2.225,
          2.27,
          2.315,
          2.36,
          2.405,
          2.45,
          2.495,
          2.54,
          2.585,
          2.63,
          2.675,
          2.7199999999999998,
          2.7649999999999997,
          2.81,
          2.855,
          2.9
         ],
         "y": [
          0.9078335635927092,
          0.8701301433307356,
          0.8341038093935347,
          0.7994821434943523,
          0.766069062857422,
          0.7337182222061535,
          0.7023172240126473,
          0.6717777992568258,
          0.6420294132327007,
          0.6130149422633171,
          0.5846876590601022,
          0.5570090764800575,
          0.5299473727941411,
          0.5034762222952899,
          0.47757391588209397,
          0.4522226942323809,
          0.4274082406376414,
          0.40311929677662944,
          0.37934737575638705,
          0.3560865545147833,
          0.3333333333333333,
          0.3110865545147835,
          0.28934737575638714,
          0.2681192967766297,
          0.24740824063764133,
          0.22722269423238062,
          0.2075739158820941,
          0.18847622229529007,
          0.16994737279414135,
          0.15200907648005757,
          0.13468765906010247,
          0.11801494226331688,
          0.10202941323270068,
          0.08677779925682584,
          0.07231722401264744,
          0.05871822220615391,
          0.04606906285744537,
          0.0344821434961416,
          0.024103809513416178,
          0.01513015063516478,
          0.007833992283504369
         ]
        },
        {
         "hoverinfo": "skip",
         "marker": {
          "size": 9,
          "symbol": "x"
         },
         "mode": "markers",
         "name": "Original mean",
         "type": "scatter",
         "uid": "873816f6-f7be-4112-9642-6c27a43dba84",
         "x": [
          2
         ],
         "y": [
          0.3333333333333333
         ]
        }
       ],
       "layout": {
        "margin": {
         "r": 50,
         "t": 50
        },
        "xaxis": {
         "title": {
          "text": "Mean x0"
         },
         "zeroline": false
        },
        "yaxis": {
         "range": [
          0,
          1
         ],
         "showline": true,
         "tickformat": "%",
         "title": {
          "text": "Score"
         }
        }
       }
      },
      "text/html": [
       "<div>\n",
       "        \n",
       "        \n",
       "            <div id=\"cdc626f9-2a84-4be2-b4fc-85e70b5de856\" class=\"plotly-graph-div\" style=\"height:525px; width:100%;\"></div>\n",
       "            <script type=\"text/javascript\">\n",
       "                require([\"plotly\"], function(Plotly) {\n",
       "                    window.PLOTLYENV=window.PLOTLYENV || {};\n",
       "                    window.PLOTLYENV.BASE_URL='https://plot.ly';\n",
       "                    \n",
       "                if (document.getElementById(\"cdc626f9-2a84-4be2-b4fc-85e70b5de856\")) {\n",
       "                    Plotly.newPlot(\n",
       "                        'cdc626f9-2a84-4be2-b4fc-85e70b5de856',\n",
       "                        [{\"hoverinfo\": \"x+y\", \"mode\": \"lines+markers\", \"showlegend\": false, \"type\": \"scatter\", \"uid\": \"7f353c13-ad6f-4916-bfb3-67d0fb06c53e\", \"x\": [1.1, 1.145, 1.19, 1.235, 1.28, 1.3250000000000002, 1.37, 1.415, 1.46, 1.505, 1.55, 1.595, 1.6400000000000001, 1.685, 1.73, 1.775, 1.82, 1.865, 1.91, 1.955, 2.0, 2.045, 2.09, 2.135, 2.18, 2.225, 2.27, 2.315, 2.36, 2.405, 2.45, 2.495, 2.54, 2.585, 2.63, 2.675, 2.7199999999999998, 2.7649999999999997, 2.81, 2.855, 2.9], \"y\": [0.9078335635927092, 0.8701301433307356, 0.8341038093935347, 0.7994821434943523, 0.766069062857422, 0.7337182222061535, 0.7023172240126473, 0.6717777992568258, 0.6420294132327007, 0.6130149422633171, 0.5846876590601022, 0.5570090764800575, 0.5299473727941411, 0.5034762222952899, 0.47757391588209397, 0.4522226942323809, 0.4274082406376414, 0.40311929677662944, 0.37934737575638705, 0.3560865545147833, 0.3333333333333333, 0.3110865545147835, 0.28934737575638714, 0.2681192967766297, 0.24740824063764133, 0.22722269423238062, 0.2075739158820941, 0.18847622229529007, 0.16994737279414135, 0.15200907648005757, 0.13468765906010247, 0.11801494226331688, 0.10202941323270068, 0.08677779925682584, 0.07231722401264744, 0.05871822220615391, 0.04606906285744537, 0.0344821434961416, 0.024103809513416178, 0.01513015063516478, 0.007833992283504369]}, {\"hoverinfo\": \"skip\", \"marker\": {\"size\": 9, \"symbol\": \"x\"}, \"mode\": \"markers\", \"name\": \"Original mean\", \"type\": \"scatter\", \"uid\": \"873816f6-f7be-4112-9642-6c27a43dba84\", \"x\": [2.0], \"y\": [0.3333333333333333]}],\n",
       "                        {\"margin\": {\"r\": 50, \"t\": 50}, \"xaxis\": {\"title\": {\"text\": \"Mean x0\"}, \"zeroline\": false}, \"yaxis\": {\"range\": [0, 1], \"showline\": true, \"tickformat\": \"%\", \"title\": {\"text\": \"Score\"}}},\n",
       "                        {\"showLink\": false, \"linkText\": \"Export to plot.ly\", \"plotlyServerURL\": \"https://plot.ly\", \"responsive\": true}\n",
       "                    ).then(function(){\n",
       "                            \n",
       "var gd = document.getElementById('cdc626f9-2a84-4be2-b4fc-85e70b5de856');\n",
       "var x = new MutationObserver(function (mutations, observer) {{\n",
       "        var display = window.getComputedStyle(gd).display;\n",
       "        if (!display || display === 'none') {{\n",
       "            console.log([gd, 'removed!']);\n",
       "            Plotly.purge(gd);\n",
       "            observer.disconnect();\n",
       "        }}\n",
       "}});\n",
       "\n",
       "// Listen for the removal of the full notebook cells\n",
       "var notebookContainer = gd.closest('#notebook-container');\n",
       "if (notebookContainer) {{\n",
       "    x.observe(notebookContainer, {childList: true});\n",
       "}}\n",
       "\n",
       "// Listen for the clearing of the current output cell\n",
       "var outputEl = gd.closest('.output');\n",
       "if (outputEl) {{\n",
       "    x.observe(outputEl, {childList: true});\n",
       "}}\n",
       "\n",
       "                        })\n",
       "                };\n",
       "                });\n",
       "            </script>\n",
       "        </div>"
      ]
     },
     "metadata": {},
     "output_type": "display_data"
    }
   ],
   "source": [
    "explainer.plot_metric(X[\"x0\"], [0, 0, 1], [0, 1, 0], metrics.accuracy_score, inline=True)"
   ]
  },
  {
   "cell_type": "code",
   "execution_count": 9,
   "metadata": {},
   "outputs": [
    {
     "data": {
      "text/html": [
       "<div>\n",
       "<style scoped>\n",
       "    .dataframe tbody tr th:only-of-type {\n",
       "        vertical-align: middle;\n",
       "    }\n",
       "\n",
       "    .dataframe tbody tr th {\n",
       "        vertical-align: top;\n",
       "    }\n",
       "\n",
       "    .dataframe thead th {\n",
       "        text-align: right;\n",
       "    }\n",
       "</style>\n",
       "<table border=\"1\" class=\"dataframe\">\n",
       "  <thead>\n",
       "    <tr style=\"text-align: right;\">\n",
       "      <th></th>\n",
       "      <th>label</th>\n",
       "      <th>feature</th>\n",
       "      <th>importance</th>\n",
       "    </tr>\n",
       "  </thead>\n",
       "  <tbody>\n",
       "    <tr>\n",
       "      <th>0</th>\n",
       "      <td>my_label</td>\n",
       "      <td>x0</td>\n",
       "      <td>0.079970</td>\n",
       "    </tr>\n",
       "    <tr>\n",
       "      <th>1</th>\n",
       "      <td>my_label</td>\n",
       "      <td>x1</td>\n",
       "      <td>0.079303</td>\n",
       "    </tr>\n",
       "  </tbody>\n",
       "</table>\n",
       "</div>"
      ],
      "text/plain": [
       "      label feature  importance\n",
       "0  my_label      x0    0.079970\n",
       "1  my_label      x1    0.079303"
      ]
     },
     "execution_count": 9,
     "metadata": {},
     "output_type": "execute_result"
    }
   ],
   "source": [
    "explainer.explain_importances(X, pd.Series([0, 1, 0], name=\"my_label\"))"
   ]
  },
  {
   "cell_type": "code",
   "execution_count": 10,
   "metadata": {},
   "outputs": [
    {
     "data": {
      "text/html": [
       "        <script type=\"text/javascript\">\n",
       "        window.PlotlyConfig = {MathJaxConfig: 'local'};\n",
       "        if (window.MathJax) {MathJax.Hub.Config({SVG: {font: \"STIX-Web\"}});}\n",
       "        if (typeof require !== 'undefined') {\n",
       "        require.undef(\"plotly\");\n",
       "        requirejs.config({\n",
       "            paths: {\n",
       "                'plotly': ['https://cdn.plot.ly/plotly-latest.min']\n",
       "            }\n",
       "        });\n",
       "        require(['plotly'], function(Plotly) {\n",
       "            window._Plotly = Plotly;\n",
       "        });\n",
       "        }\n",
       "        </script>\n",
       "        "
      ]
     },
     "metadata": {},
     "output_type": "display_data"
    },
    {
     "data": {
      "application/vnd.plotly.v1+json": {
       "config": {
        "linkText": "Export to plot.ly",
        "plotlyServerURL": "https://plot.ly",
        "showLink": false
       },
       "data": [
        {
         "marker": {
          "color": [
           "red",
           "blue"
          ]
         },
         "orientation": "h",
         "type": "bar",
         "uid": "7ca9cf95-7f8f-46e8-8d94-f15e30ab6524",
         "x": [
          0.07930310221937063,
          0.07996958863040952
         ],
         "y": [
          "x1",
          "x0"
         ]
        }
       ],
       "layout": {
        "xaxis": {
         "range": [
          0,
          1
         ],
         "showline": true,
         "side": "top",
         "title": {
          "text": "Importance"
         },
         "zeroline": false
        },
        "yaxis": {
         "showline": true,
         "zeroline": false
        }
       }
      },
      "text/html": [
       "<div>\n",
       "        \n",
       "        \n",
       "            <div id=\"53e1984c-76a9-46e3-a8e7-63c721fe160e\" class=\"plotly-graph-div\" style=\"height:525px; width:100%;\"></div>\n",
       "            <script type=\"text/javascript\">\n",
       "                require([\"plotly\"], function(Plotly) {\n",
       "                    window.PLOTLYENV=window.PLOTLYENV || {};\n",
       "                    window.PLOTLYENV.BASE_URL='https://plot.ly';\n",
       "                    \n",
       "                if (document.getElementById(\"53e1984c-76a9-46e3-a8e7-63c721fe160e\")) {\n",
       "                    Plotly.newPlot(\n",
       "                        '53e1984c-76a9-46e3-a8e7-63c721fe160e',\n",
       "                        [{\"marker\": {\"color\": [\"red\", \"blue\"]}, \"orientation\": \"h\", \"type\": \"bar\", \"uid\": \"7ca9cf95-7f8f-46e8-8d94-f15e30ab6524\", \"x\": [0.07930310221937063, 0.07996958863040952], \"y\": [\"x1\", \"x0\"]}],\n",
       "                        {\"xaxis\": {\"range\": [0, 1], \"showline\": true, \"side\": \"top\", \"title\": {\"text\": \"Importance\"}, \"zeroline\": false}, \"yaxis\": {\"showline\": true, \"zeroline\": false}},\n",
       "                        {\"showLink\": false, \"linkText\": \"Export to plot.ly\", \"plotlyServerURL\": \"https://plot.ly\", \"responsive\": true}\n",
       "                    ).then(function(){\n",
       "                            \n",
       "var gd = document.getElementById('53e1984c-76a9-46e3-a8e7-63c721fe160e');\n",
       "var x = new MutationObserver(function (mutations, observer) {{\n",
       "        var display = window.getComputedStyle(gd).display;\n",
       "        if (!display || display === 'none') {{\n",
       "            console.log([gd, 'removed!']);\n",
       "            Plotly.purge(gd);\n",
       "            observer.disconnect();\n",
       "        }}\n",
       "}});\n",
       "\n",
       "// Listen for the removal of the full notebook cells\n",
       "var notebookContainer = gd.closest('#notebook-container');\n",
       "if (notebookContainer) {{\n",
       "    x.observe(notebookContainer, {childList: true});\n",
       "}}\n",
       "\n",
       "// Listen for the clearing of the current output cell\n",
       "var outputEl = gd.closest('.output');\n",
       "if (outputEl) {{\n",
       "    x.observe(outputEl, {childList: true});\n",
       "}}\n",
       "\n",
       "                        })\n",
       "                };\n",
       "                });\n",
       "            </script>\n",
       "        </div>"
      ]
     },
     "metadata": {},
     "output_type": "display_data"
    }
   ],
   "source": [
    "explainer.plot_importances(X, pd.Series([0, 1, 0], name=\"my_label\"), inline=True, colors=[\"red\", \"blue\"])"
   ]
  },
  {
   "cell_type": "code",
   "execution_count": null,
   "metadata": {},
   "outputs": [],
   "source": []
  }
 ],
 "metadata": {
  "kernelspec": {
   "display_name": "Python [conda env:ethik] *",
   "language": "python",
   "name": "conda-env-ethik-py"
  },
  "language_info": {
   "codemirror_mode": {
    "name": "ipython",
    "version": 3
   },
   "file_extension": ".py",
   "mimetype": "text/x-python",
   "name": "python",
   "nbconvert_exporter": "python",
   "pygments_lexer": "ipython3",
   "version": "3.7.3"
  }
 },
 "nbformat": 4,
 "nbformat_minor": 2
}
