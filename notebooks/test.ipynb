{
 "cells": [
  {
   "cell_type": "code",
   "execution_count": 1,
   "metadata": {},
   "outputs": [
    {
     "data": {
      "text/html": [
       "        <script type=\"text/javascript\">\n",
       "        window.PlotlyConfig = {MathJaxConfig: 'local'};\n",
       "        if (window.MathJax) {MathJax.Hub.Config({SVG: {font: \"STIX-Web\"}});}\n",
       "        if (typeof require !== 'undefined') {\n",
       "        require.undef(\"plotly\");\n",
       "        requirejs.config({\n",
       "            paths: {\n",
       "                'plotly': ['https://cdn.plot.ly/plotly-latest.min']\n",
       "            }\n",
       "        });\n",
       "        require(['plotly'], function(Plotly) {\n",
       "            window._Plotly = Plotly;\n",
       "        });\n",
       "        }\n",
       "        </script>\n",
       "        "
      ]
     },
     "metadata": {},
     "output_type": "display_data"
    }
   ],
   "source": [
    "import ethik\n",
    "import numpy as np\n",
    "import pandas as pd\n",
    "from plotly.offline import init_notebook_mode, iplot\n",
    "from sklearn import metrics\n",
    "\n",
    "init_notebook_mode(connected=True)"
   ]
  },
  {
   "cell_type": "code",
   "execution_count": 2,
   "metadata": {},
   "outputs": [],
   "source": [
    "X = pd.DataFrame({\n",
    "    \"x0\": [1, 2, 3],\n",
    "    \"x1\": [7, 23, 30]\n",
    "})"
   ]
  },
  {
   "cell_type": "code",
   "execution_count": 3,
   "metadata": {},
   "outputs": [],
   "source": [
    "explainer = ethik.Explainer()"
   ]
  },
  {
   "cell_type": "code",
   "execution_count": 4,
   "metadata": {},
   "outputs": [
    {
     "data": {
      "text/plain": [
       "<ethik.explainer.Explainer at 0x7f3b48bee630>"
      ]
     },
     "execution_count": 4,
     "metadata": {},
     "output_type": "execute_result"
    }
   ],
   "source": [
    "explainer.fit(X)"
   ]
  },
  {
   "cell_type": "code",
   "execution_count": 5,
   "metadata": {},
   "outputs": [
    {
     "data": {
      "application/vnd.plotly.v1+json": {
       "config": {
        "linkText": "Export to plot.ly",
        "plotlyServerURL": "https://plot.ly",
        "showLink": false
       },
       "data": [
        {
         "hoverinfo": "x+y",
         "mode": "lines+markers",
         "showlegend": false,
         "type": "scatter",
         "uid": "d9d2e4d2-a04a-4fc0-91ec-c4d452fa19c4",
         "x": [
          1.1,
          1.145,
          1.19,
          1.235,
          1.28,
          1.3250000000000002,
          1.37,
          1.415,
          1.46,
          1.505,
          1.55,
          1.595,
          1.6400000000000001,
          1.685,
          1.73,
          1.775,
          1.82,
          1.865,
          1.91,
          1.955,
          2,
          2.045,
          2.09,
          2.135,
          2.18,
          2.225,
          2.27,
          2.315,
          2.36,
          2.405,
          2.45,
          2.495,
          2.54,
          2.585,
          2.63,
          2.675,
          2.7199999999999998,
          2.7649999999999997,
          2.81,
          2.855,
          2.9
         ],
         "y": [
          0.08433244412378645,
          0.11473970603409969,
          0.1417923810930492,
          0.1660357130095062,
          0.18786187428513246,
          0.20756355558769257,
          0.22536555197470498,
          0.24144440148634846,
          0.2559411735345987,
          0.26897011547336613,
          0.2806246818797954,
          0.29098184703988517,
          0.30010525441171754,
          0.30804755540942025,
          0.31485216823581197,
          0.32055461153523845,
          0.32518351872471724,
          0.32876140644674107,
          0.3313052484872261,
          0.3328268909704331,
          0.3333333333333333,
          0.3328268909704331,
          0.3313052484872261,
          0.3287614064467411,
          0.3251835187247172,
          0.32055461153523845,
          0.31485216823581197,
          0.30804755540942036,
          0.3001052544117175,
          0.29098184703988533,
          0.28062468187979556,
          0.2689701154733661,
          0.25594117353459866,
          0.24144440148634858,
          0.2253655519747047,
          0.20756355558769254,
          0.18786187428513226,
          0.16603571300950626,
          0.1417923810930494,
          0.11473970603409943,
          0.0843324441237864
         ]
        },
        {
         "hoverinfo": "skip",
         "marker": {
          "size": 9,
          "symbol": "x"
         },
         "mode": "markers",
         "name": "Original mean",
         "type": "scatter",
         "uid": "6b09ec9c-422f-4123-b586-47ecc50932bc",
         "x": [
          2
         ],
         "y": [
          0.3333333333333333
         ]
        }
       ],
       "layout": {
        "margin": {
         "r": 50,
         "t": 50
        },
        "xaxis": {
         "title": {
          "text": "Mean x0"
         },
         "zeroline": false
        },
        "yaxis": {
         "range": [
          0,
          1
         ],
         "showline": true,
         "tickformat": "%",
         "title": {
          "text": "Proportion of my_y"
         }
        }
       }
      },
      "text/html": [
       "<div>\n",
       "        \n",
       "        \n",
       "            <div id=\"96f0d3e9-7dd3-4211-875f-a52b28e25298\" class=\"plotly-graph-div\" style=\"height:525px; width:100%;\"></div>\n",
       "            <script type=\"text/javascript\">\n",
       "                require([\"plotly\"], function(Plotly) {\n",
       "                    window.PLOTLYENV=window.PLOTLYENV || {};\n",
       "                    window.PLOTLYENV.BASE_URL='https://plot.ly';\n",
       "                    \n",
       "                if (document.getElementById(\"96f0d3e9-7dd3-4211-875f-a52b28e25298\")) {\n",
       "                    Plotly.newPlot(\n",
       "                        '96f0d3e9-7dd3-4211-875f-a52b28e25298',\n",
       "                        [{\"hoverinfo\": \"x+y\", \"mode\": \"lines+markers\", \"showlegend\": false, \"type\": \"scatter\", \"uid\": \"d9d2e4d2-a04a-4fc0-91ec-c4d452fa19c4\", \"x\": [1.1, 1.145, 1.19, 1.235, 1.28, 1.3250000000000002, 1.37, 1.415, 1.46, 1.505, 1.55, 1.595, 1.6400000000000001, 1.685, 1.73, 1.775, 1.82, 1.865, 1.91, 1.955, 2.0, 2.045, 2.09, 2.135, 2.18, 2.225, 2.27, 2.315, 2.36, 2.405, 2.45, 2.495, 2.54, 2.585, 2.63, 2.675, 2.7199999999999998, 2.7649999999999997, 2.81, 2.855, 2.9], \"y\": [0.08433244412378645, 0.11473970603409969, 0.1417923810930492, 0.1660357130095062, 0.18786187428513246, 0.20756355558769257, 0.22536555197470498, 0.24144440148634846, 0.2559411735345987, 0.26897011547336613, 0.2806246818797954, 0.29098184703988517, 0.30010525441171754, 0.30804755540942025, 0.31485216823581197, 0.32055461153523845, 0.32518351872471724, 0.32876140644674107, 0.3313052484872261, 0.3328268909704331, 0.3333333333333333, 0.3328268909704331, 0.3313052484872261, 0.3287614064467411, 0.3251835187247172, 0.32055461153523845, 0.31485216823581197, 0.30804755540942036, 0.3001052544117175, 0.29098184703988533, 0.28062468187979556, 0.2689701154733661, 0.25594117353459866, 0.24144440148634858, 0.2253655519747047, 0.20756355558769254, 0.18786187428513226, 0.16603571300950626, 0.1417923810930494, 0.11473970603409943, 0.0843324441237864]}, {\"hoverinfo\": \"skip\", \"marker\": {\"size\": 9, \"symbol\": \"x\"}, \"mode\": \"markers\", \"name\": \"Original mean\", \"type\": \"scatter\", \"uid\": \"6b09ec9c-422f-4123-b586-47ecc50932bc\", \"x\": [2.0], \"y\": [0.3333333333333333]}],\n",
       "                        {\"margin\": {\"r\": 50, \"t\": 50}, \"xaxis\": {\"title\": {\"text\": \"Mean x0\"}, \"zeroline\": false}, \"yaxis\": {\"range\": [0, 1], \"showline\": true, \"tickformat\": \"%\", \"title\": {\"text\": \"Proportion of my_y\"}}},\n",
       "                        {\"showLink\": false, \"linkText\": \"Export to plot.ly\", \"plotlyServerURL\": \"https://plot.ly\", \"responsive\": true}\n",
       "                    ).then(function(){\n",
       "                            \n",
       "var gd = document.getElementById('96f0d3e9-7dd3-4211-875f-a52b28e25298');\n",
       "var x = new MutationObserver(function (mutations, observer) {{\n",
       "        var display = window.getComputedStyle(gd).display;\n",
       "        if (!display || display === 'none') {{\n",
       "            console.log([gd, 'removed!']);\n",
       "            Plotly.purge(gd);\n",
       "            observer.disconnect();\n",
       "        }}\n",
       "}});\n",
       "\n",
       "// Listen for the removal of the full notebook cells\n",
       "var notebookContainer = gd.closest('#notebook-container');\n",
       "if (notebookContainer) {{\n",
       "    x.observe(notebookContainer, {childList: true});\n",
       "}}\n",
       "\n",
       "// Listen for the clearing of the current output cell\n",
       "var outputEl = gd.closest('.output');\n",
       "if (outputEl) {{\n",
       "    x.observe(outputEl, {childList: true});\n",
       "}}\n",
       "\n",
       "                        })\n",
       "                };\n",
       "                });\n",
       "            </script>\n",
       "        </div>"
      ]
     },
     "metadata": {},
     "output_type": "display_data"
    }
   ],
   "source": [
    "iplot(explainer.make_predictions_fig(X[\"x0\"], pd.Series([0, 1, 0], name=\"my_y\")))"
   ]
  },
  {
   "cell_type": "code",
   "execution_count": 6,
   "metadata": {},
   "outputs": [
    {
     "data": {
      "application/vnd.plotly.v1+json": {
       "config": {
        "linkText": "Export to plot.ly",
        "plotlyServerURL": "https://plot.ly",
        "showLink": false
       },
       "data": [
        {
         "hoverinfo": "x+y",
         "mode": "lines+markers",
         "name": "x0",
         "type": "scatter",
         "uid": "45fed433-5b0b-4969-9c9d-ed4679a4a440",
         "x": [
          -1,
          -0.95,
          -0.9,
          -0.85,
          -0.8,
          -0.75,
          -0.7,
          -0.65,
          -0.6,
          -0.55,
          -0.5,
          -0.45,
          -0.4,
          -0.35,
          -0.3,
          -0.25,
          -0.2,
          -0.15,
          -0.1,
          -0.05,
          0,
          0.05,
          0.1,
          0.15,
          0.2,
          0.25,
          0.3,
          0.35,
          0.4,
          0.45,
          0.5,
          0.55,
          0.6,
          0.65,
          0.7,
          0.75,
          0.8,
          0.85,
          0.9,
          0.95,
          1
         ],
         "y": [
          0.08433244412378645,
          0.11473970603409969,
          0.1417923810930492,
          0.1660357130095062,
          0.18786187428513246,
          0.20756355558769257,
          0.22536555197470498,
          0.24144440148634846,
          0.2559411735345987,
          0.26897011547336613,
          0.2806246818797954,
          0.29098184703988517,
          0.30010525441171754,
          0.30804755540942025,
          0.31485216823581197,
          0.32055461153523845,
          0.32518351872471724,
          0.32876140644674107,
          0.3313052484872261,
          0.3328268909704331,
          0.3333333333333333,
          0.3328268909704331,
          0.3313052484872261,
          0.3287614064467411,
          0.3251835187247172,
          0.32055461153523845,
          0.31485216823581197,
          0.30804755540942036,
          0.3001052544117175,
          0.29098184703988533,
          0.28062468187979556,
          0.2689701154733661,
          0.25594117353459866,
          0.24144440148634858,
          0.2253655519747047,
          0.20756355558769254,
          0.18786187428513226,
          0.16603571300950626,
          0.1417923810930494,
          0.11473970603409943,
          0.0843324441237864
         ]
        },
        {
         "hoverinfo": "x+y",
         "mode": "lines+markers",
         "name": "x1",
         "type": "scatter",
         "uid": "ddba90e3-3283-450e-80f4-611bd0852166",
         "x": [
          -1,
          -0.95,
          -0.9,
          -0.85,
          -0.8,
          -0.75,
          -0.7,
          -0.65,
          -0.6,
          -0.55,
          -0.5,
          -0.45,
          -0.4,
          -0.35,
          -0.3,
          -0.25,
          -0.2,
          -0.15,
          -0.1,
          -0.05,
          0,
          0.05,
          0.1,
          0.15,
          0.2,
          0.25,
          0.3,
          0.35,
          0.4,
          0.45,
          0.5,
          0.55,
          0.6,
          0.65,
          0.7,
          0.75,
          0.8,
          0.85,
          0.9,
          0.95,
          1
         ],
         "y": [
          0.06834271865833297,
          0.08879637069852651,
          0.10812416684826932,
          0.12649919371039525,
          0.14403250912928403,
          0.16079962718292787,
          0.17685348935416165,
          0.1922315530139027,
          0.20695996025387975,
          0.22105611011187948,
          0.23453028651666516,
          0.24738668743508643,
          0.2596240472301854,
          0.27123596126327365,
          0.28221097328784633,
          0.29253245514704157,
          0.30217828589860146,
          0.3111203186657467,
          0.31932360476143806,
          0.3267453229155974,
          0.3333333333333333,
          0.33804662358374277,
          0.34212202498354627,
          0.34551107258266,
          0.34815634724391625,
          0.3499893875079152,
          0.35092792745096635,
          0.35087219211046566,
          0.34969985165791684,
          0.3472590311143627,
          0.34335844696514284,
          0.3377532178133856,
          0.3301240502388535,
          0.3200461646702008,
          0.30694238596403345,
          0.29001280675741364,
          0.26813513969685027,
          0.23975276079704855,
          0.20287457035925788,
          0.1556340410123935,
          0.09816337044073077
         ]
        }
       ],
       "layout": {
        "margin": {
         "r": 50,
         "t": 50
        },
        "xaxis": {
         "title": {
          "text": "tau"
         },
         "zeroline": false
        },
        "yaxis": {
         "range": [
          0,
          1
         ],
         "showline": true,
         "tickformat": "%",
         "title": {
          "text": "Proportion of my_y"
         }
        }
       }
      },
      "text/html": [
       "<div>\n",
       "        \n",
       "        \n",
       "            <div id=\"8bc97e6a-dd7a-4ec2-961c-f749634f97d2\" class=\"plotly-graph-div\" style=\"height:525px; width:100%;\"></div>\n",
       "            <script type=\"text/javascript\">\n",
       "                require([\"plotly\"], function(Plotly) {\n",
       "                    window.PLOTLYENV=window.PLOTLYENV || {};\n",
       "                    window.PLOTLYENV.BASE_URL='https://plot.ly';\n",
       "                    \n",
       "                if (document.getElementById(\"8bc97e6a-dd7a-4ec2-961c-f749634f97d2\")) {\n",
       "                    Plotly.newPlot(\n",
       "                        '8bc97e6a-dd7a-4ec2-961c-f749634f97d2',\n",
       "                        [{\"hoverinfo\": \"x+y\", \"mode\": \"lines+markers\", \"name\": \"x0\", \"type\": \"scatter\", \"uid\": \"45fed433-5b0b-4969-9c9d-ed4679a4a440\", \"x\": [-1.0, -0.95, -0.9, -0.85, -0.8, -0.75, -0.7, -0.65, -0.6, -0.55, -0.5, -0.45, -0.4, -0.35, -0.3, -0.25, -0.2, -0.15, -0.1, -0.05, 0.0, 0.05, 0.1, 0.15, 0.2, 0.25, 0.3, 0.35, 0.4, 0.45, 0.5, 0.55, 0.6, 0.65, 0.7, 0.75, 0.8, 0.85, 0.9, 0.95, 1.0], \"y\": [0.08433244412378645, 0.11473970603409969, 0.1417923810930492, 0.1660357130095062, 0.18786187428513246, 0.20756355558769257, 0.22536555197470498, 0.24144440148634846, 0.2559411735345987, 0.26897011547336613, 0.2806246818797954, 0.29098184703988517, 0.30010525441171754, 0.30804755540942025, 0.31485216823581197, 0.32055461153523845, 0.32518351872471724, 0.32876140644674107, 0.3313052484872261, 0.3328268909704331, 0.3333333333333333, 0.3328268909704331, 0.3313052484872261, 0.3287614064467411, 0.3251835187247172, 0.32055461153523845, 0.31485216823581197, 0.30804755540942036, 0.3001052544117175, 0.29098184703988533, 0.28062468187979556, 0.2689701154733661, 0.25594117353459866, 0.24144440148634858, 0.2253655519747047, 0.20756355558769254, 0.18786187428513226, 0.16603571300950626, 0.1417923810930494, 0.11473970603409943, 0.0843324441237864]}, {\"hoverinfo\": \"x+y\", \"mode\": \"lines+markers\", \"name\": \"x1\", \"type\": \"scatter\", \"uid\": \"ddba90e3-3283-450e-80f4-611bd0852166\", \"x\": [-1.0, -0.95, -0.9, -0.85, -0.8, -0.75, -0.7, -0.65, -0.6, -0.55, -0.5, -0.45, -0.4, -0.35, -0.3, -0.25, -0.2, -0.15, -0.1, -0.05, 0.0, 0.05, 0.1, 0.15, 0.2, 0.25, 0.3, 0.35, 0.4, 0.45, 0.5, 0.55, 0.6, 0.65, 0.7, 0.75, 0.8, 0.85, 0.9, 0.95, 1.0], \"y\": [0.06834271865833297, 0.08879637069852651, 0.10812416684826932, 0.12649919371039525, 0.14403250912928403, 0.16079962718292787, 0.17685348935416165, 0.1922315530139027, 0.20695996025387975, 0.22105611011187948, 0.23453028651666516, 0.24738668743508643, 0.2596240472301854, 0.27123596126327365, 0.28221097328784633, 0.29253245514704157, 0.30217828589860146, 0.3111203186657467, 0.31932360476143806, 0.3267453229155974, 0.3333333333333333, 0.33804662358374277, 0.34212202498354627, 0.34551107258266, 0.34815634724391625, 0.3499893875079152, 0.35092792745096635, 0.35087219211046566, 0.34969985165791684, 0.3472590311143627, 0.34335844696514284, 0.3377532178133856, 0.3301240502388535, 0.3200461646702008, 0.30694238596403345, 0.29001280675741364, 0.26813513969685027, 0.23975276079704855, 0.20287457035925788, 0.1556340410123935, 0.09816337044073077]}],\n",
       "                        {\"margin\": {\"r\": 50, \"t\": 50}, \"xaxis\": {\"title\": {\"text\": \"tau\"}, \"zeroline\": false}, \"yaxis\": {\"range\": [0, 1], \"showline\": true, \"tickformat\": \"%\", \"title\": {\"text\": \"Proportion of my_y\"}}},\n",
       "                        {\"showLink\": false, \"linkText\": \"Export to plot.ly\", \"plotlyServerURL\": \"https://plot.ly\", \"responsive\": true}\n",
       "                    ).then(function(){\n",
       "                            \n",
       "var gd = document.getElementById('8bc97e6a-dd7a-4ec2-961c-f749634f97d2');\n",
       "var x = new MutationObserver(function (mutations, observer) {{\n",
       "        var display = window.getComputedStyle(gd).display;\n",
       "        if (!display || display === 'none') {{\n",
       "            console.log([gd, 'removed!']);\n",
       "            Plotly.purge(gd);\n",
       "            observer.disconnect();\n",
       "        }}\n",
       "}});\n",
       "\n",
       "// Listen for the removal of the full notebook cells\n",
       "var notebookContainer = gd.closest('#notebook-container');\n",
       "if (notebookContainer) {{\n",
       "    x.observe(notebookContainer, {childList: true});\n",
       "}}\n",
       "\n",
       "// Listen for the clearing of the current output cell\n",
       "var outputEl = gd.closest('.output');\n",
       "if (outputEl) {{\n",
       "    x.observe(outputEl, {childList: true});\n",
       "}}\n",
       "\n",
       "                        })\n",
       "                };\n",
       "                });\n",
       "            </script>\n",
       "        </div>"
      ]
     },
     "metadata": {},
     "output_type": "display_data"
    }
   ],
   "source": [
    "iplot(explainer.make_predictions_fig(X, pd.Series([0, 1, 0], name=\"my_y\")))"
   ]
  },
  {
   "cell_type": "code",
   "execution_count": 7,
   "metadata": {},
   "outputs": [
    {
     "ename": "AttributeError",
     "evalue": "'Explainer' object has no attribute 'make_metric_fig'",
     "output_type": "error",
     "traceback": [
      "\u001b[0;31m---------------------------------------------------------------------------\u001b[0m",
      "\u001b[0;31mAttributeError\u001b[0m                            Traceback (most recent call last)",
      "\u001b[0;32m<ipython-input-7-1d5e56991c8d>\u001b[0m in \u001b[0;36m<module>\u001b[0;34m\u001b[0m\n\u001b[0;32m----> 1\u001b[0;31m \u001b[0miplot\u001b[0m\u001b[0;34m(\u001b[0m\u001b[0mexplainer\u001b[0m\u001b[0;34m.\u001b[0m\u001b[0mmake_metric_fig\u001b[0m\u001b[0;34m(\u001b[0m\u001b[0mX\u001b[0m\u001b[0;34m,\u001b[0m \u001b[0;34m[\u001b[0m\u001b[0;36m0\u001b[0m\u001b[0;34m,\u001b[0m \u001b[0;36m0\u001b[0m\u001b[0;34m,\u001b[0m \u001b[0;36m1\u001b[0m\u001b[0;34m]\u001b[0m\u001b[0;34m,\u001b[0m \u001b[0;34m[\u001b[0m\u001b[0;36m0\u001b[0m\u001b[0;34m,\u001b[0m \u001b[0;36m1\u001b[0m\u001b[0;34m,\u001b[0m \u001b[0;36m0\u001b[0m\u001b[0;34m]\u001b[0m\u001b[0;34m,\u001b[0m \u001b[0mmetrics\u001b[0m\u001b[0;34m.\u001b[0m\u001b[0maccuracy_score\u001b[0m\u001b[0;34m)\u001b[0m\u001b[0;34m)\u001b[0m\u001b[0;34m\u001b[0m\u001b[0;34m\u001b[0m\u001b[0m\n\u001b[0m",
      "\u001b[0;31mAttributeError\u001b[0m: 'Explainer' object has no attribute 'make_metric_fig'"
     ]
    }
   ],
   "source": [
    "iplot(explainer.make_metric_fig(X, [0, 0, 1], [0, 1, 0], metrics.accuracy_score))"
   ]
  },
  {
   "cell_type": "code",
   "execution_count": 8,
   "metadata": {},
   "outputs": [
    {
     "ename": "AttributeError",
     "evalue": "'Explainer' object has no attribute 'make_metric_fig'",
     "output_type": "error",
     "traceback": [
      "\u001b[0;31m---------------------------------------------------------------------------\u001b[0m",
      "\u001b[0;31mAttributeError\u001b[0m                            Traceback (most recent call last)",
      "\u001b[0;32m<ipython-input-8-65b3085d5f68>\u001b[0m in \u001b[0;36m<module>\u001b[0;34m\u001b[0m\n\u001b[0;32m----> 1\u001b[0;31m \u001b[0miplot\u001b[0m\u001b[0;34m(\u001b[0m\u001b[0mexplainer\u001b[0m\u001b[0;34m.\u001b[0m\u001b[0mmake_metric_fig\u001b[0m\u001b[0;34m(\u001b[0m\u001b[0mX\u001b[0m\u001b[0;34m[\u001b[0m\u001b[0;34m\"x0\"\u001b[0m\u001b[0;34m]\u001b[0m\u001b[0;34m,\u001b[0m \u001b[0;34m[\u001b[0m\u001b[0;36m0\u001b[0m\u001b[0;34m,\u001b[0m \u001b[0;36m0\u001b[0m\u001b[0;34m,\u001b[0m \u001b[0;36m1\u001b[0m\u001b[0;34m]\u001b[0m\u001b[0;34m,\u001b[0m \u001b[0;34m[\u001b[0m\u001b[0;36m0\u001b[0m\u001b[0;34m,\u001b[0m \u001b[0;36m1\u001b[0m\u001b[0;34m,\u001b[0m \u001b[0;36m0\u001b[0m\u001b[0;34m]\u001b[0m\u001b[0;34m,\u001b[0m \u001b[0mmetrics\u001b[0m\u001b[0;34m.\u001b[0m\u001b[0maccuracy_score\u001b[0m\u001b[0;34m)\u001b[0m\u001b[0;34m)\u001b[0m\u001b[0;34m\u001b[0m\u001b[0;34m\u001b[0m\u001b[0m\n\u001b[0m",
      "\u001b[0;31mAttributeError\u001b[0m: 'Explainer' object has no attribute 'make_metric_fig'"
     ]
    }
   ],
   "source": [
    "iplot(explainer.make_metric_fig(X[\"x0\"], [0, 0, 1], [0, 1, 0], metrics.accuracy_score))"
   ]
  },
  {
   "cell_type": "code",
   "execution_count": null,
   "metadata": {},
   "outputs": [],
   "source": []
  }
 ],
 "metadata": {
  "kernelspec": {
   "display_name": "Python [conda env:ethik] *",
   "language": "python",
   "name": "conda-env-ethik-py"
  },
  "language_info": {
   "codemirror_mode": {
    "name": "ipython",
    "version": 3
   },
   "file_extension": ".py",
   "mimetype": "text/x-python",
   "name": "python",
   "nbconvert_exporter": "python",
   "pygments_lexer": "ipython3",
   "version": "3.7.3"
  }
 },
 "nbformat": 4,
 "nbformat_minor": 2
}
