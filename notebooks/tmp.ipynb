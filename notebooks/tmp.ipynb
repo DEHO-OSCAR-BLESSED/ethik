{
 "cells": [
  {
   "cell_type": "code",
   "execution_count": 1,
   "metadata": {},
   "outputs": [],
   "source": [
    "import ethik\n",
    "import lightgbm as lgb\n",
    "import numpy as np\n",
    "import pandas as pd\n",
    "import plotly.graph_objs as go\n",
    "from sklearn import metrics, model_selection\n",
    "\n",
    "X, y = ethik.datasets.load_adult()\n",
    "X_train, X_test, y_train, y_test = model_selection.train_test_split(X, y, shuffle=True, random_state=42)\n",
    "\n",
    "model = lgb.LGBMClassifier(random_state=42).fit(X_train, y_train)\n",
    "\n",
    "y_pred = model.predict_proba(X_test)[:, 1]\n",
    "y_pred = pd.Series(y_pred, name=\">$50k\")\n",
    "\n",
    "exp = ethik.ClassificationExplainer()\n",
    "age = X_test[\"age\"]"
   ]
  },
  {
   "cell_type": "code",
   "execution_count": 2,
   "metadata": {},
   "outputs": [
    {
     "data": {
      "text/html": [
       "<div>\n",
       "<style scoped>\n",
       "    .dataframe tbody tr th:only-of-type {\n",
       "        vertical-align: middle;\n",
       "    }\n",
       "\n",
       "    .dataframe tbody tr th {\n",
       "        vertical-align: top;\n",
       "    }\n",
       "\n",
       "    .dataframe thead th {\n",
       "        text-align: right;\n",
       "    }\n",
       "</style>\n",
       "<table border=\"1\" class=\"dataframe\">\n",
       "  <thead>\n",
       "    <tr style=\"text-align: right;\">\n",
       "      <th></th>\n",
       "      <th>group</th>\n",
       "      <th>feature</th>\n",
       "      <th>target</th>\n",
       "      <th>label</th>\n",
       "    </tr>\n",
       "  </thead>\n",
       "  <tbody>\n",
       "    <tr>\n",
       "      <td>0</td>\n",
       "      <td>0</td>\n",
       "      <td>age</td>\n",
       "      <td>30</td>\n",
       "      <td>&gt;$50k</td>\n",
       "    </tr>\n",
       "    <tr>\n",
       "      <td>1</td>\n",
       "      <td>0</td>\n",
       "      <td>education-num</td>\n",
       "      <td>10</td>\n",
       "      <td>&gt;$50k</td>\n",
       "    </tr>\n",
       "  </tbody>\n",
       "</table>\n",
       "</div>"
      ],
      "text/plain": [
       "   group        feature  target  label\n",
       "0      0            age      30  >$50k\n",
       "1      0  education-num      10  >$50k"
      ]
     },
     "execution_count": 2,
     "metadata": {},
     "output_type": "execute_result"
    }
   ],
   "source": [
    "query = pd.DataFrame({\n",
    "    \"group\": [0, 0],\n",
    "    \"feature\": [\"age\", \"education-num\"],\n",
    "    \"target\": [30, 10],\n",
    "    \"label\": [y_pred.name, y_pred.name],\n",
    "})\n",
    "query"
   ]
  },
  {
   "cell_type": "code",
   "execution_count": 3,
   "metadata": {
    "scrolled": false
   },
   "outputs": [
    {
     "data": {
      "text/html": [
       "<div>\n",
       "<style scoped>\n",
       "    .dataframe tbody tr th:only-of-type {\n",
       "        vertical-align: middle;\n",
       "    }\n",
       "\n",
       "    .dataframe tbody tr th {\n",
       "        vertical-align: top;\n",
       "    }\n",
       "\n",
       "    .dataframe thead th {\n",
       "        text-align: right;\n",
       "    }\n",
       "</style>\n",
       "<table border=\"1\" class=\"dataframe\">\n",
       "  <thead>\n",
       "    <tr style=\"text-align: right;\">\n",
       "      <th></th>\n",
       "      <th>group</th>\n",
       "      <th>feature</th>\n",
       "      <th>target</th>\n",
       "      <th>label</th>\n",
       "      <th>ksi</th>\n",
       "    </tr>\n",
       "  </thead>\n",
       "  <tbody>\n",
       "    <tr>\n",
       "      <td>0</td>\n",
       "      <td>0</td>\n",
       "      <td>age</td>\n",
       "      <td>30</td>\n",
       "      <td>&gt;$50k</td>\n",
       "      <td>-0.818156</td>\n",
       "    </tr>\n",
       "    <tr>\n",
       "      <td>1</td>\n",
       "      <td>0</td>\n",
       "      <td>education-num</td>\n",
       "      <td>10</td>\n",
       "      <td>&gt;$50k</td>\n",
       "      <td>0.056918</td>\n",
       "    </tr>\n",
       "  </tbody>\n",
       "</table>\n",
       "</div>"
      ],
      "text/plain": [
       "   group        feature  target  label       ksi\n",
       "0      0            age      30  >$50k -0.818156\n",
       "1      0  education-num      10  >$50k  0.056918"
      ]
     },
     "execution_count": 3,
     "metadata": {},
     "output_type": "execute_result"
    }
   ],
   "source": [
    "exp._fill_ksis(X_test, query)"
   ]
  },
  {
   "cell_type": "code",
   "execution_count": 4,
   "metadata": {},
   "outputs": [
    {
     "name": "stderr",
     "output_type": "stream",
     "text": [
      "100%|██████████| 1/1 [00:00<00:00, 313.90it/s]\n"
     ]
    },
    {
     "data": {
      "text/html": [
       "<div>\n",
       "<style scoped>\n",
       "    .dataframe tbody tr th:only-of-type {\n",
       "        vertical-align: middle;\n",
       "    }\n",
       "\n",
       "    .dataframe tbody tr th {\n",
       "        vertical-align: top;\n",
       "    }\n",
       "\n",
       "    .dataframe thead th {\n",
       "        text-align: right;\n",
       "    }\n",
       "</style>\n",
       "<table border=\"1\" class=\"dataframe\">\n",
       "  <thead>\n",
       "    <tr style=\"text-align: right;\">\n",
       "      <th></th>\n",
       "      <th>group</th>\n",
       "      <th>feature</th>\n",
       "      <th>target</th>\n",
       "      <th>label</th>\n",
       "      <th>ksi</th>\n",
       "      <th>influence</th>\n",
       "      <th>influence_low</th>\n",
       "      <th>influence_high</th>\n",
       "    </tr>\n",
       "  </thead>\n",
       "  <tbody>\n",
       "    <tr>\n",
       "      <td>0</td>\n",
       "      <td>0</td>\n",
       "      <td>age</td>\n",
       "      <td>30</td>\n",
       "      <td>&gt;$50k</td>\n",
       "      <td>-0.818156</td>\n",
       "      <td>0.160545</td>\n",
       "      <td>0.160545</td>\n",
       "      <td>0.160545</td>\n",
       "    </tr>\n",
       "    <tr>\n",
       "      <td>1</td>\n",
       "      <td>0</td>\n",
       "      <td>education-num</td>\n",
       "      <td>10</td>\n",
       "      <td>&gt;$50k</td>\n",
       "      <td>0.056918</td>\n",
       "      <td>0.160545</td>\n",
       "      <td>0.160545</td>\n",
       "      <td>0.160545</td>\n",
       "    </tr>\n",
       "  </tbody>\n",
       "</table>\n",
       "</div>"
      ],
      "text/plain": [
       "   group        feature  target  label       ksi  influence  influence_low  \\\n",
       "0      0            age      30  >$50k -0.818156   0.160545       0.160545   \n",
       "1      0  education-num      10  >$50k  0.056918   0.160545       0.160545   \n",
       "\n",
       "   influence_high  \n",
       "0        0.160545  \n",
       "1        0.160545  "
      ]
     },
     "execution_count": 4,
     "metadata": {},
     "output_type": "execute_result"
    }
   ],
   "source": [
    "exp._explain_influence(X_test, y_pred, query)"
   ]
  },
  {
   "cell_type": "code",
   "execution_count": 5,
   "metadata": {},
   "outputs": [
    {
     "name": "stderr",
     "output_type": "stream",
     "text": [
      "100%|██████████| 1/1 [00:00<00:00, 91.84it/s]\n"
     ]
    },
    {
     "data": {
      "text/html": [
       "<div>\n",
       "<style scoped>\n",
       "    .dataframe tbody tr th:only-of-type {\n",
       "        vertical-align: middle;\n",
       "    }\n",
       "\n",
       "    .dataframe tbody tr th {\n",
       "        vertical-align: top;\n",
       "    }\n",
       "\n",
       "    .dataframe thead th {\n",
       "        text-align: right;\n",
       "    }\n",
       "</style>\n",
       "<table border=\"1\" class=\"dataframe\">\n",
       "  <thead>\n",
       "    <tr style=\"text-align: right;\">\n",
       "      <th></th>\n",
       "      <th>group</th>\n",
       "      <th>feature</th>\n",
       "      <th>target</th>\n",
       "      <th>label</th>\n",
       "      <th>ksi</th>\n",
       "      <th>accuracy_score</th>\n",
       "      <th>accuracy_score_low</th>\n",
       "      <th>accuracy_score_high</th>\n",
       "    </tr>\n",
       "  </thead>\n",
       "  <tbody>\n",
       "    <tr>\n",
       "      <td>0</td>\n",
       "      <td>0</td>\n",
       "      <td>age</td>\n",
       "      <td>30</td>\n",
       "      <td>&gt;$50k</td>\n",
       "      <td>-0.818156</td>\n",
       "      <td>0.91305</td>\n",
       "      <td>0.91305</td>\n",
       "      <td>0.91305</td>\n",
       "    </tr>\n",
       "    <tr>\n",
       "      <td>1</td>\n",
       "      <td>0</td>\n",
       "      <td>education-num</td>\n",
       "      <td>10</td>\n",
       "      <td>&gt;$50k</td>\n",
       "      <td>0.056918</td>\n",
       "      <td>0.91305</td>\n",
       "      <td>0.91305</td>\n",
       "      <td>0.91305</td>\n",
       "    </tr>\n",
       "  </tbody>\n",
       "</table>\n",
       "</div>"
      ],
      "text/plain": [
       "   group        feature  target  label       ksi  accuracy_score  \\\n",
       "0      0            age      30  >$50k -0.818156         0.91305   \n",
       "1      0  education-num      10  >$50k  0.056918         0.91305   \n",
       "\n",
       "   accuracy_score_low  accuracy_score_high  \n",
       "0             0.91305              0.91305  \n",
       "1             0.91305              0.91305  "
      ]
     },
     "execution_count": 5,
     "metadata": {},
     "output_type": "execute_result"
    }
   ],
   "source": [
    "exp._explain_performance(\n",
    "    X_test,\n",
    "    y_test,\n",
    "    y_pred > 0.5,\n",
    "    metrics.accuracy_score,\n",
    "    query\n",
    ")"
   ]
  },
  {
   "cell_type": "code",
   "execution_count": 6,
   "metadata": {},
   "outputs": [
    {
     "data": {
      "text/plain": [
       "age                                45\n",
       "workclass                   State-gov\n",
       "fnlwgt                          50567\n",
       "education                     HS-grad\n",
       "education-num                       9\n",
       "marital-status     Married-civ-spouse\n",
       "occupation            Exec-managerial\n",
       "relationship                     Wife\n",
       "race                            White\n",
       "gender                         Female\n",
       "capital-gain                        0\n",
       "capital-loss                        0\n",
       "hours-per-week                     40\n",
       "native-country          United-States\n",
       "Name: mary, dtype: object"
      ]
     },
     "execution_count": 6,
     "metadata": {},
     "output_type": "execute_result"
    }
   ],
   "source": [
    "bob = X_test.iloc[2].rename(\"bob\")\n",
    "mary = X_test.iloc[1].rename(\"mary\")\n",
    "mary"
   ]
  },
  {
   "cell_type": "code",
   "execution_count": 7,
   "metadata": {},
   "outputs": [
    {
     "name": "stderr",
     "output_type": "stream",
     "text": [
      "100%|██████████| 10/10 [00:00<00:00, 380.83it/s]\n"
     ]
    },
    {
     "data": {
      "text/html": [
       "<div>\n",
       "<style scoped>\n",
       "    .dataframe tbody tr th:only-of-type {\n",
       "        vertical-align: middle;\n",
       "    }\n",
       "\n",
       "    .dataframe tbody tr th {\n",
       "        vertical-align: top;\n",
       "    }\n",
       "\n",
       "    .dataframe thead th {\n",
       "        text-align: right;\n",
       "    }\n",
       "</style>\n",
       "<table border=\"1\" class=\"dataframe\">\n",
       "  <thead>\n",
       "    <tr style=\"text-align: right;\">\n",
       "      <th></th>\n",
       "      <th>feature</th>\n",
       "      <th>label</th>\n",
       "      <th>reference</th>\n",
       "      <th>compared</th>\n",
       "    </tr>\n",
       "  </thead>\n",
       "  <tbody>\n",
       "    <tr>\n",
       "      <td>0</td>\n",
       "      <td>hours-per-week</td>\n",
       "      <td>&gt;$50k</td>\n",
       "      <td>0.301345</td>\n",
       "      <td>0.235129</td>\n",
       "    </tr>\n",
       "    <tr>\n",
       "      <td>1</td>\n",
       "      <td>age</td>\n",
       "      <td>&gt;$50k</td>\n",
       "      <td>0.143152</td>\n",
       "      <td>0.272689</td>\n",
       "    </tr>\n",
       "    <tr>\n",
       "      <td>2</td>\n",
       "      <td>education-num</td>\n",
       "      <td>&gt;$50k</td>\n",
       "      <td>0.456936</td>\n",
       "      <td>0.190700</td>\n",
       "    </tr>\n",
       "    <tr>\n",
       "      <td>3</td>\n",
       "      <td>gender</td>\n",
       "      <td>&gt;$50k</td>\n",
       "      <td>0.303191</td>\n",
       "      <td>0.109424</td>\n",
       "    </tr>\n",
       "  </tbody>\n",
       "</table>\n",
       "</div>"
      ],
      "text/plain": [
       "          feature  label  reference  compared\n",
       "0  hours-per-week  >$50k   0.301345  0.235129\n",
       "1             age  >$50k   0.143152  0.272689\n",
       "2   education-num  >$50k   0.456936  0.190700\n",
       "3          gender  >$50k   0.303191  0.109424"
      ]
     },
     "execution_count": 7,
     "metadata": {},
     "output_type": "execute_result"
    }
   ],
   "source": [
    "exp.compare_influence(\n",
    "    X_test=X_test[[\"age\", \"education-num\", \"hours-per-week\", \"gender\"]],\n",
    "    y_pred=y_pred,\n",
    "    reference=bob,\n",
    "    compared=mary,\n",
    ")"
   ]
  },
  {
   "cell_type": "code",
   "execution_count": 8,
   "metadata": {},
   "outputs": [
    {
     "data": {
      "text/plain": [
       "{25: 14160    0.000187\n",
       " 27048    0.000020\n",
       " 28868    0.000145\n",
       " 5667     0.000128\n",
       " 7827     0.000145\n",
       "            ...   \n",
       " 26658    0.000068\n",
       " 29401    0.000003\n",
       " 27265    0.000240\n",
       " 30339    0.000010\n",
       " 8610     0.000272\n",
       " Name: age, Length: 8141, dtype: float64, 45: 14160    0.000078\n",
       " 27048    0.000136\n",
       " 28868    0.000083\n",
       " 5667     0.000085\n",
       " 7827     0.000083\n",
       "            ...   \n",
       " 26658    0.000100\n",
       " 29401    0.000218\n",
       " 27265    0.000073\n",
       " 30339    0.000159\n",
       " 8610     0.000071\n",
       " Name: age, Length: 8141, dtype: float64}"
      ]
     },
     "execution_count": 8,
     "metadata": {},
     "output_type": "execute_result"
    }
   ],
   "source": [
    "exp.compute_weights(X_test[\"age\"], targets=[25, 45])"
   ]
  },
  {
   "cell_type": "code",
   "execution_count": 9,
   "metadata": {},
   "outputs": [
    {
     "data": {
      "text/plain": [
       "{25: {'edges': array([17.        , 25.11111111, 33.22222222, 41.33333333, 49.44444444,\n",
       "         57.55555556, 65.66666667, 73.77777778, 81.88888889, 90.        ]),\n",
       "  'hist': array([7.88496185e-02, 2.89191048e-02, 1.11288275e-02, 3.28967152e-03,\n",
       "         8.91664809e-04, 1.80337767e-04, 2.53055037e-05, 2.82029276e-06,\n",
       "         3.20559548e-07]),\n",
       "  'kde': None,\n",
       "  'average': 25},\n",
       " 45: {'edges': array([17.        , 25.11111111, 33.22222222, 41.33333333, 49.44444444,\n",
       "         57.55555556, 65.66666667, 73.77777778, 81.88888889, 90.        ]),\n",
       "  'hist': array([0.0131571 , 0.01727102, 0.02257766, 0.0232401 , 0.02106497,\n",
       "         0.01461035, 0.00704278, 0.00288985, 0.00143383]),\n",
       "  'kde': None,\n",
       "  'average': 45}}"
      ]
     },
     "execution_count": 9,
     "metadata": {},
     "output_type": "execute_result"
    }
   ],
   "source": [
    "exp.compute_distributions(X_test[\"age\"], targets=[25, 45])"
   ]
  },
  {
   "cell_type": "code",
   "execution_count": null,
   "metadata": {},
   "outputs": [],
   "source": []
  }
 ],
 "metadata": {
  "kernelspec": {
   "display_name": "ethik",
   "language": "python",
   "name": "ethik"
  },
  "language_info": {
   "codemirror_mode": {
    "name": "ipython",
    "version": 3
   },
   "file_extension": ".py",
   "mimetype": "text/x-python",
   "name": "python",
   "nbconvert_exporter": "python",
   "pygments_lexer": "ipython3",
   "version": "3.7.3"
  }
 },
 "nbformat": 4,
 "nbformat_minor": 2
}
